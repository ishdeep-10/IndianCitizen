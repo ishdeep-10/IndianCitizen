{
 "cells": [
  {
   "cell_type": "code",
   "execution_count": 22,
   "id": "9cd20065-955c-4c86-ae59-0a3f9c574762",
   "metadata": {},
   "outputs": [],
   "source": [
    "import json\n",
    "\n",
    "from selenium import webdriver # selenium 4.20.0\n",
    "from selenium.webdriver.chrome.service import Service as ChromeService\n",
    "\n",
    "from webdriver_manager.chrome import ChromeDriverManager # version 4.0.1"
   ]
  },
  {
   "cell_type": "code",
   "execution_count": 23,
   "id": "32931ab3-cb25-404d-90ee-684afc0a1ae9",
   "metadata": {},
   "outputs": [],
   "source": [
    "options = webdriver.ChromeOptions()\n",
    "options.set_capability(\n",
    "    \"goog:loggingPrefs\", {\"performance\": \"ALL\", \"browser\": \"ALL\"}\n",
    ")\n",
    "\n",
    "# Make sure you already have Chrome installed\n",
    "driver = webdriver.Chrome(service=ChromeService(ChromeDriverManager().install()), options=options)\n",
    "driver.set_page_load_timeout(10)\n",
    "\n",
    "try:\n",
    "    driver.get(\"https://www.sofascore.com/inter-miami-cf-new-york-red-bulls/gabsccKc#id:11911622,tab:statistics\")\n",
    "except:\n",
    "    pass\n",
    "\n",
    "\n",
    "driver.execute_script(\"window.scrollTo(0, document.body.scrollHeight);\")"
   ]
  },
  {
   "cell_type": "code",
   "execution_count": 24,
   "id": "db2ecc7e-f690-48a3-9a23-74c934b07fe1",
   "metadata": {},
   "outputs": [],
   "source": [
    "# extract requests from logs\n",
    "logs_raw = driver.get_log(\"performance\")\n",
    "logs = [json.loads(lr[\"message\"])[\"message\"] for lr in logs_raw]"
   ]
  },
  {
   "cell_type": "code",
   "execution_count": 25,
   "id": "558b9525-00fb-4253-b953-03c02b9a45a0",
   "metadata": {},
   "outputs": [
    {
     "data": {
      "text/plain": [
       "{'method': 'Network.loadingFinished',\n",
       " 'params': {'encodedDataLength': 0,\n",
       "  'requestId': 'BE158297863609D9B3BF2E168FFE8EA9',\n",
       "  'timestamp': 4929.866821}}"
      ]
     },
     "execution_count": 25,
     "metadata": {},
     "output_type": "execute_result"
    }
   ],
   "source": [
    "logs[0]"
   ]
  },
  {
   "cell_type": "code",
   "execution_count": 26,
   "id": "e54f7cc0-a279-450b-9918-2c3d38685232",
   "metadata": {},
   "outputs": [],
   "source": [
    "for x in logs:\n",
    "    if 'shotmap' in x['params'].get('headers', {}).get(':path', ''):\n",
    "        print(x['params'].get('headers', {}).get(':path'))\n",
    "        break"
   ]
  },
  {
   "cell_type": "code",
   "execution_count": 28,
   "id": "99637095-7b05-468a-9c40-1097f83b2e7b",
   "metadata": {},
   "outputs": [
    {
     "ename": "KeyError",
     "evalue": "'requestId'",
     "output_type": "error",
     "traceback": [
      "\u001b[1;31m---------------------------------------------------------------------------\u001b[0m",
      "\u001b[1;31mKeyError\u001b[0m                                  Traceback (most recent call last)",
      "Cell \u001b[1;32mIn[28], line 1\u001b[0m\n\u001b[1;32m----> 1\u001b[0m test \u001b[38;5;241m=\u001b[39m json\u001b[38;5;241m.\u001b[39mloads(driver\u001b[38;5;241m.\u001b[39mexecute_cdp_cmd(\u001b[38;5;124m'\u001b[39m\u001b[38;5;124mNetwork.getResponseBody\u001b[39m\u001b[38;5;124m'\u001b[39m, {\u001b[38;5;124m'\u001b[39m\u001b[38;5;124mrequestId\u001b[39m\u001b[38;5;124m'\u001b[39m: \u001b[43mx\u001b[49m\u001b[43m[\u001b[49m\u001b[38;5;124;43m\"\u001b[39;49m\u001b[38;5;124;43mparams\u001b[39;49m\u001b[38;5;124;43m\"\u001b[39;49m\u001b[43m]\u001b[49m\u001b[43m[\u001b[49m\u001b[38;5;124;43m\"\u001b[39;49m\u001b[38;5;124;43mrequestId\u001b[39;49m\u001b[38;5;124;43m\"\u001b[39;49m\u001b[43m]\u001b[49m})[\u001b[38;5;124m'\u001b[39m\u001b[38;5;124mbody\u001b[39m\u001b[38;5;124m'\u001b[39m])[\u001b[38;5;124m'\u001b[39m\u001b[38;5;124mshotmap\u001b[39m\u001b[38;5;124m'\u001b[39m]\n\u001b[0;32m      2\u001b[0m test[\u001b[38;5;241m0\u001b[39m]\n",
      "\u001b[1;31mKeyError\u001b[0m: 'requestId'"
     ]
    }
   ],
   "source": [
    "test = json.loads(driver.execute_cdp_cmd('Network.getResponseBody', {'requestId': x[\"params\"][\"requestId\"]})['body'])['shotmap']\n",
    "test[0]"
   ]
  },
  {
   "cell_type": "code",
   "execution_count": null,
   "id": "864a6e1c-9c57-49eb-b89e-8931625e67cf",
   "metadata": {},
   "outputs": [],
   "source": []
  }
 ],
 "metadata": {
  "kernelspec": {
   "display_name": "Python 3 (ipykernel)",
   "language": "python",
   "name": "python3"
  },
  "language_info": {
   "codemirror_mode": {
    "name": "ipython",
    "version": 3
   },
   "file_extension": ".py",
   "mimetype": "text/x-python",
   "name": "python",
   "nbconvert_exporter": "python",
   "pygments_lexer": "ipython3",
   "version": "3.10.7"
  }
 },
 "nbformat": 4,
 "nbformat_minor": 5
}
