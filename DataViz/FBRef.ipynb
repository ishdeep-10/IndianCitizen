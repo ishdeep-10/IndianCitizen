{
 "cells": [
  {
   "cell_type": "code",
   "execution_count": 7,
   "id": "fade1921-fc0e-42a9-b0a1-eea78bad8d4d",
   "metadata": {},
   "outputs": [],
   "source": [
    "from urllib.request import urlopen\n",
    "from bs4 import BeautifulSoup\n",
    "import re\n",
    "from lxml import html\n",
    "import pandas as pd\n",
    "import openpyxl\n",
    "import unicodedata\n",
    "from mplsoccer import PyPizza, FontManager, add_image\n",
    "from PIL import Image, ImageDraw, ImageOps\n",
    "import matplotlib.pyplot as plt\n",
    "import time\n",
    "import requests"
   ]
  },
  {
   "cell_type": "code",
   "execution_count": 11,
   "id": "bf26a91f-91c1-4e00-abdf-2ee8fe5736e5",
   "metadata": {},
   "outputs": [
    {
     "data": {
      "text/plain": [
       "b'<!DOCTYPE html>\\n<html lang=\"en-US\"><head><title>Just a moment...</title><meta content=\"text/html; charset=utf-8\" http-equiv=\"Content-Type\"/><meta content=\"IE=Edge\" http-equiv=\"X-UA-Compatible\"/><meta content=\"noindex,nofollow\" name=\"robots\"/><meta content=\"width=device-width,initial-scale=1\" name=\"viewport\"/><style>*{box-sizing:border-box;margin:0;padding:0}html{line-height:1.15;-webkit-text-size-adjust:100%;color:#313131}button,html{font-family:system-ui,-apple-system,BlinkMacSystemFont,Segoe UI,Roboto,Helvetica Neue,Arial,Noto Sans,sans-serif,Apple Color Emoji,Segoe UI Emoji,Segoe UI Symbol,Noto Color Emoji}@media (prefers-color-scheme:dark){body{background-color:#222;color:#d9d9d9}body a{color:#fff}body a:hover{color:#ee730a;text-decoration:underline}body .lds-ring div{border-color:#999 transparent transparent}body .font-red{color:#b20f03}body .pow-button{background-color:#4693ff;color:#1d1d1d}body #challenge-success-text{background-image:url(data:image/svg+xml;base64,PHN2ZyB4bWxucz0iaHR0cDovL3d3dy53My5vcmcvMjAwMC9zdmciIHdpZHRoPSIzMiIgaGVpZ2h0PSIzMiIgZmlsbD0ibm9uZSIgdmlld0JveD0iMCAwIDI2IDI2Ij48cGF0aCBmaWxsPSIjZDlkOWQ5IiBkPSJNMTMgMGExMyAxMyAwIDEgMCAwIDI2IDEzIDEzIDAgMCAwIDAtMjZtMCAyNGExMSAxMSAwIDEgMSAwLTIyIDExIDExIDAgMCAxIDAgMjIiLz48cGF0aCBmaWxsPSIjZDlkOWQ5IiBkPSJtMTAuOTU1IDE2LjA1NS0zLjk1LTQuMTI1LTEuNDQ1IDEuMzg1IDUuMzcgNS42MSA5LjQ5NS05LjYtMS40Mi0xLjQwNXoiLz48L3N2Zz4=)}body #challenge-error-text{background-image:url(data:image/svg+xml;base64,PHN2ZyB4bWxucz0iaHR0cDovL3d3dy53My5vcmcvMjAwMC9zdmciIHdpZHRoPSIzMiIgaGVpZ2h0PSIzMiIgZmlsbD0ibm9uZSI+PHBhdGggZmlsbD0iI0IyMEYwMyIgZD0iTTE2IDNhMTMgMTMgMCAxIDAgMTMgMTNBMTMuMDE1IDEzLjAxNSAwIDAgMCAxNiAzbTAgMjRhMTEgMTEgMCAxIDEgMTEtMTEgMTEuMDEgMTEuMDEgMCAwIDEtMTEgMTEiLz48cGF0aCBmaWxsPSIjQjIwRjAzIiBkPSJNMTcuMDM4IDE4LjYxNUgxNC44N0wxNC41NjMgOS41aDIuNzgzem0tMS4wODQgMS40MjdxLjY2IDAgMS4wNTcuMzg4LjQwNy4zODkuNDA3Ljk5NCAwIC41OTYtLjQwNy45ODQtLjM5Ny4zOS0xLjA1Ny4zODktLjY1IDAtMS4wNTYtLjM4OS0uMzk4LS4zODktLjM5OC0uOTg0IDAtLjU5Ny4zOTgtLjk4NS40MDYtLjM5NyAxLjA1Ni0uMzk3Ii8+PC9zdmc+)}}body{display:flex;flex-direction:column;min-height:100vh}body.no-js .loading-spinner{visibility:hidden}body.no-js .challenge-running{display:none}body.dark{background-color:#222;color:#d9d9d9}body.dark a{color:#fff}body.dark a:hover{color:#ee730a;text-decoration:underline}body.dark .lds-ring div{border-color:#999 transparent transparent}body.dark .font-red{color:#b20f03}body.dark .pow-button{background-color:#4693ff;color:#1d1d1d}body.dark #challenge-success-text{background-image:url(data:image/svg+xml;base64,PHN2ZyB4bWxucz0iaHR0cDovL3d3dy53My5vcmcvMjAwMC9zdmciIHdpZHRoPSIzMiIgaGVpZ2h0PSIzMiIgZmlsbD0ibm9uZSIgdmlld0JveD0iMCAwIDI2IDI2Ij48cGF0aCBmaWxsPSIjZDlkOWQ5IiBkPSJNMTMgMGExMyAxMyAwIDEgMCAwIDI2IDEzIDEzIDAgMCAwIDAtMjZtMCAyNGExMSAxMSAwIDEgMSAwLTIyIDExIDExIDAgMCAxIDAgMjIiLz48cGF0aCBmaWxsPSIjZDlkOWQ5IiBkPSJtMTAuOTU1IDE2LjA1NS0zLjk1LTQuMTI1LTEuNDQ1IDEuMzg1IDUuMzcgNS42MSA5LjQ5NS05LjYtMS40Mi0xLjQwNXoiLz48L3N2Zz4=)}body.dark #challenge-error-text{background-image:url(data:image/svg+xml;base64,PHN2ZyB4bWxucz0iaHR0cDovL3d3dy53My5vcmcvMjAwMC9zdmciIHdpZHRoPSIzMiIgaGVpZ2h0PSIzMiIgZmlsbD0ibm9uZSI+PHBhdGggZmlsbD0iI0IyMEYwMyIgZD0iTTE2IDNhMTMgMTMgMCAxIDAgMTMgMTNBMTMuMDE1IDEzLjAxNSAwIDAgMCAxNiAzbTAgMjRhMTEgMTEgMCAxIDEgMTEtMTEgMTEuMDEgMTEuMDEgMCAwIDEtMTEgMTEiLz48cGF0aCBmaWxsPSIjQjIwRjAzIiBkPSJNMTcuMDM4IDE4LjYxNUgxNC44N0wxNC41NjMgOS41aDIuNzgzem0tMS4wODQgMS40MjdxLjY2IDAgMS4wNTcuMzg4LjQwNy4zODkuNDA3Ljk5NCAwIC41OTYtLjQwNy45ODQtLjM5Ny4zOS0xLjA1Ny4zODktLjY1IDAtMS4wNTYtLjM4OS0uMzk4LS4zODktLjM5OC0uOTg0IDAtLjU5Ny4zOTgtLjk4NS40MDYtLjM5NyAxLjA1Ni0uMzk3Ii8+PC9zdmc+)}body.light{background-color:transparent;color:#313131}body.light a{color:#0051c3}body.light a:hover{color:#ee730a;text-decoration:underline}body.light .lds-ring div{border-color:#595959 transparent transparent}body.light .font-red{color:#fc574a}body.light .pow-button{background-color:#003681;border-color:#003681;color:#fff}body.light #challenge-success-text{background-image:url(data:image/svg+xml;base64,PHN2ZyB4bWxucz0iaHR0cDovL3d3dy53My5vcmcvMjAwMC9zdmciIHdpZHRoPSIzMiIgaGVpZ2h0PSIzMiIgZmlsbD0ibm9uZSIgdmlld0JveD0iMCAwIDI2IDI2Ij48cGF0aCBmaWxsPSIjMzEzMTMxIiBkPSJNMTMgMGExMyAxMyAwIDEgMCAwIDI2IDEzIDEzIDAgMCAwIDAtMjZtMCAyNGExMSAxMSAwIDEgMSAwLTIyIDExIDExIDAgMCAxIDAgMjIiLz48cGF0aCBmaWxsPSIjMzEzMTMxIiBkPSJtMTAuOTU1IDE2LjA1NS0zLjk1LTQuMTI1LTEuNDQ1IDEuMzg1IDUuMzcgNS42MSA5LjQ5NS05LjYtMS40Mi0xLjQwNXoiLz48L3N2Zz4=)}body.light #challenge-error-text{background-image:url(data:image/svg+xml;base64,PHN2ZyB4bWxucz0iaHR0cDovL3d3dy53My5vcmcvMjAwMC9zdmciIHdpZHRoPSIzMiIgaGVpZ2h0PSIzMiIgZmlsbD0ibm9uZSI+PHBhdGggZmlsbD0iI2ZjNTc0YSIgZD0iTTE2IDNhMTMgMTMgMCAxIDAgMTMgMTNBMTMuMDE1IDEzLjAxNSAwIDAgMCAxNiAzbTAgMjRhMTEgMTEgMCAxIDEgMTEtMTEgMTEuMDEgMTEuMDEgMCAwIDEtMTEgMTEiLz48cGF0aCBmaWxsPSIjZmM1NzRhIiBkPSJNMTcuMDM4IDE4LjYxNUgxNC44N0wxNC41NjMgOS41aDIuNzgzem0tMS4wODQgMS40MjdxLjY2IDAgMS4wNTcuMzg4LjQwNy4zODkuNDA3Ljk5NCAwIC41OTYtLjQwNy45ODQtLjM5Ny4zOS0xLjA1Ny4zODktLjY1IDAtMS4wNTYtLjM4OS0uMzk4LS4zODktLjM5OC0uOTg0IDAtLjU5Ny4zOTgtLjk4NS40MDYtLjM5NyAxLjA1Ni0uMzk3Ii8+PC9zdmc+)}a{background-color:transparent;color:#0051c3;text-decoration:none;transition:color .15s ease}a:hover{color:#ee730a;text-decoration:underline}.main-content{margin:8rem auto;max-width:60rem;width:100%}.heading-favicon{height:2rem;margin-right:.5rem;width:2rem}@media (width <= 720px){.main-content{margin-top:4rem}.heading-favicon{height:1.5rem;width:1.5rem}}.footer,.main-content{padding-left:1.5rem;padding-right:1.5rem}.main-wrapper{align-items:center;display:flex;flex:1;flex-direction:column}.font-red{color:#b20f03}.spacer{margin:2rem 0}.h1{font-size:2.5rem;font-weight:500;line-height:3.75rem}.h2{font-weight:500}.core-msg,.h2{font-size:1.5rem;line-height:2.25rem}.body-text,.core-msg{font-weight:400}.body-text{font-size:1rem;line-height:1.25rem}@media (width <= 720px){.h1{font-size:1.5rem;line-height:1.75rem}.h2{font-size:1.25rem}.core-msg,.h2{line-height:1.5rem}.core-msg{font-size:1rem}}#challenge-error-text{background-image:url(data:image/svg+xml;base64,PHN2ZyB4bWxucz0iaHR0cDovL3d3dy53My5vcmcvMjAwMC9zdmciIHdpZHRoPSIzMiIgaGVpZ2h0PSIzMiIgZmlsbD0ibm9uZSI+PHBhdGggZmlsbD0iI2ZjNTc0YSIgZD0iTTE2IDNhMTMgMTMgMCAxIDAgMTMgMTNBMTMuMDE1IDEzLjAxNSAwIDAgMCAxNiAzbTAgMjRhMTEgMTEgMCAxIDEgMTEtMTEgMTEuMDEgMTEuMDEgMCAwIDEtMTEgMTEiLz48cGF0aCBmaWxsPSIjZmM1NzRhIiBkPSJNMTcuMDM4IDE4LjYxNUgxNC44N0wxNC41NjMgOS41aDIuNzgzem0tMS4wODQgMS40MjdxLjY2IDAgMS4wNTcuMzg4LjQwNy4zODkuNDA3Ljk5NCAwIC41OTYtLjQwNy45ODQtLjM5Ny4zOS0xLjA1Ny4zODktLjY1IDAtMS4wNTYtLjM4OS0uMzk4LS4zODktLjM5OC0uOTg0IDAtLjU5Ny4zOTgtLjk4NS40MDYtLjM5NyAxLjA1Ni0uMzk3Ii8+PC9zdmc+);padding-left:34px}#challenge-error-text,#challenge-success-text{background-repeat:no-repeat;background-size:contain}#challenge-success-text{background-image:url(data:image/svg+xml;base64,PHN2ZyB4bWxucz0iaHR0cDovL3d3dy53My5vcmcvMjAwMC9zdmciIHdpZHRoPSIzMiIgaGVpZ2h0PSIzMiIgZmlsbD0ibm9uZSIgdmlld0JveD0iMCAwIDI2IDI2Ij48cGF0aCBmaWxsPSIjMzEzMTMxIiBkPSJNMTMgMGExMyAxMyAwIDEgMCAwIDI2IDEzIDEzIDAgMCAwIDAtMjZtMCAyNGExMSAxMSAwIDEgMSAwLTIyIDExIDExIDAgMCAxIDAgMjIiLz48cGF0aCBmaWxsPSIjMzEzMTMxIiBkPSJtMTAuOTU1IDE2LjA1NS0zLjk1LTQuMTI1LTEuNDQ1IDEuMzg1IDUuMzcgNS42MSA5LjQ5NS05LjYtMS40Mi0xLjQwNXoiLz48L3N2Zz4=);padding-left:42px}.text-center{text-align:center}.pow-button{background-color:#0051c3;border:.063rem solid #0051c3;border-radius:.313rem;color:#fff;font-size:.875rem;line-height:1.313rem;margin:2rem 0;padding:.375rem 1rem;transition-duration:.2s;transition-property:background-color,border-color,color;transition-timing-function:ease}.pow-button:hover{background-color:#003681;border-color:#003681;color:#fff;cursor:pointer}.footer{font-size:.75rem;line-height:1.125rem;margin:0 auto;max-width:60rem;width:100%}.footer-inner{border-top:1px solid #d9d9d9;padding-bottom:1rem;padding-top:1rem}.clearfix:after{clear:both;content:\"\";display:table}.clearfix .column{float:left;padding-right:1.5rem;width:50%}.diagnostic-wrapper{margin-bottom:.5rem}.footer .ray-id{text-align:center}.footer .ray-id code{font-family:monaco,courier,monospace}.core-msg,.zone-name-title{overflow-wrap:break-word}@media (width <= 720px){.diagnostic-wrapper{display:flex;flex-wrap:wrap;justify-content:center}.clearfix:after{clear:none;content:none;display:initial;text-align:center}.column{padding-bottom:2rem}.clearfix .column{float:none;padding:0;width:auto;word-break:keep-all}.zone-name-title{margin-bottom:1rem}}.loading-spinner{height:76.391px}.lds-ring{display:inline-block;position:relative}.lds-ring,.lds-ring div{height:1.875rem;width:1.875rem}.lds-ring div{animation:lds-ring 1.2s cubic-bezier(.5,0,.5,1) infinite;border:.3rem solid transparent;border-radius:50%;border-top-color:#313131;box-sizing:border-box;display:block;position:absolute}.lds-ring div:first-child{animation-delay:-.45s}.lds-ring div:nth-child(2){animation-delay:-.3s}.lds-ring div:nth-child(3){animation-delay:-.15s}@keyframes lds-ring{0%{transform:rotate(0)}to{transform:rotate(1turn)}}@media screen and (-ms-high-contrast:active),screen and (-ms-high-contrast:none){.main-wrapper,body{display:block}}.rtl .heading-favicon{margin-left:.5rem;margin-right:0}.rtl #challenge-success-text{background-position:100%;padding-left:0;padding-right:42px}.rtl #challenge-error-text{background-position:100%;padding-left:0;padding-right:34px}</style><meta content=\"390\" http-equiv=\"refresh\"/></head><body class=\"no-js\"><div class=\"main-wrapper\" role=\"main\"><div class=\"main-content\"><noscript><div id=\"challenge-error-title\"><div class=\"h2\"><span id=\"challenge-error-text\">Enable JavaScript and cookies to continue</span></div></div></noscript></div></div><script>(function(){window._cf_chl_opt={cvId: \\'3\\',cZone: \"fbref.com\",cType: \\'managed\\',cNounce: \\'14928\\',cRay: \\'8af77ecee9f659b2\\',cHash: \\'9ea9549f748ba0d\\',cUPMDTk: \"\\\\/en\\\\/comps\\\\/9\\\\/2023-2024\\\\/stats\\\\/2023-2024-Premier-League-Stats?__cf_chl_tk=Z_MK3VSdhukMgvuNo8OeopYwYkOwV9WehObe_8svrBM-1723036106-0.0.1.1-4010\",cFPWv: \\'g\\',cTTimeMs: \\'1000\\',cMTimeMs: \\'390000\\',cTplV: 5,cTplB: \\'cf\\',cK: \"\",fa: \"\\\\/en\\\\/comps\\\\/9\\\\/2023-2024\\\\/stats\\\\/2023-2024-Premier-League-Stats?__cf_chl_f_tk=Z_MK3VSdhukMgvuNo8OeopYwYkOwV9WehObe_8svrBM-1723036106-0.0.1.1-4010\",md: \"JAztoWLxLj0I34jbrjpuTWONgbna0zM8KGBbGN9ct9Y-1723036106-1.1.1.1-.D553SEr68x0.G.Y6.3eugbHHtzjmtDa227GXr0qgvtHk1PSEjaWHARFCSbKB6MnJVnCMh3fY6r1gaU4zlxH2Cc4UOm_dgpNNvXn2Z.jx6y3_o.iTR8Byb0SjikD9XCst3nldB_tYMSls8e1g37Yu9yet9LwXrro9oOC3SfHWscXjBF.MVOEwuoYH_NJXNFEvvNE85mScuszkmB8KJghLxRwsx6BfwzDQJkvAOr6YrJKdQeKEKBVlZc6aZ13fvMrmWtthYGw5R8e.A8Xu6A_YyLO4grSr8Wg023.ok04okni2SY01Z8w_5mEQujtSRyo6zrKYw3y.WgdqB7jGgCbOp5Tv37yVDg0igylN8NY6EB0tUCUVH95M89Q_IDMoRaNfKLc5ORHDk.Fmvki4q2XpQ7P9LDcT4miuKWk_KS2An2i903KarVM1eGYeOLt0GRD1j0_GoF8he.X5uLr9ezVC7GOsffCkONJQiX5h3LBv0B4b6QPWmVzPGMmaaKdDInCR7YPICAED7VyznBv0xg5vdL.aV2bftjrqvfYMsTclGqcy9SnZT5WiixD714VeSDktb5Chi6ZjBIBlEIj4ElHEsOnAtDHSe8CcfrsZU33QY25GENN8mOujhqHaJ._ptLPC4iuTZW8h.1Ruq1HKjHRjPohbRlNuxzyGGfDSxeowoWzaSZcsXL.m0CWDKbBwuz4YR.3NWrzevC.iQejbcAH7YUlup8Y_i9B7VhjbiB5mkw3uHv_QX_INxXLeP1nJnLoOxt0hkRVfDc215QK7CKMgwpmuy_KqXvO_a0GoLP79PExkWxl5SGuVNxvKB2.tfGst8BJSUeCghh_QdGFw375VTWFwiUZY8NrzIzuocqt5U9y5Pd83xxoi7VdR4hqtK_cePkft3PV7mCUV5my9WLwZSlKq4HRzvG4SVwkmlkfDaw_RuqwqABhjWcJc.xnZTYbidk.SsrYV6goIr7sa0ACQ4QrjQU8dJ9TD9byrMTHjfW8vLqDtVfbgpBBFfWkKIjCW.vDsGvLrJHCMzassh4kmJRurXQgk4I78APcI1sggcGYqGKdfD02VffYwkw5x50DY8KHImqHXEXo.z3wL30wwx5ryLs3AQoMvLS.ACdZ7OuW8c9i8lnZu.xzzzsoKDYay2rn92YzaA_LBZR1RXjsr6wU1tOJmWZHJXrswF4T0Osy8UNAAMJx3LTSpG6bju4aFV5zedL_r3iK1d.TydPnz0mF802cAHnBFNVZnlz3tl17LD0Kd378TJuHTqqsaQXPBtLpG_pPv8i6jg1QP6fm0JkhLgxpCrdWoADUaMFINY7tz_DbJUWuhCoIY5o.tu27kx7yre4RUs9M3cV8.mzGCPhnlAvlTA56JIm.Kz78rbxsDfiV89qKeO1NOimeDHqHyC7QeoaYBCnsHQCbVvzzSXd2z16rqBF7UFOLG4g0vhWKoRqblrkd9QizBAuiq2aeeG730pa01Qic.a.ITW2qgT778mxMF5xhz8sxsuubA__uBpz8AlWgwtfzAQpp6CU0KaSJmcI14P1IhnQAhUOfSGxjy0Kuo7mbgqLEIu7Y326MfHykXZIpjQSchOpCcNqkUEjrhUY.otArgVAbANZhWw\",mdrd: \"KpvKt6.HAChH7j5Dya3vEtF_wk.fT3e0NgFzUUu4AAY-1723036106-1.1.1.1-DgUng0E9d33c6hYPCR1YCcN.5P9B0Ih4xa6Dktpxrkhq7bHHmGw7Y_2GPkYDpNRfVZy3atov0Cf55JU.Xp_y7tvtt8el9E92dtLiJgXPyhMlhfrvwznj.ZvUZo_Fx6Vpmwc.ibNnIgj.XXB3pZU0O2MmIVxE4qKJXhmGQBzUs2lWXu3t5Y.o2yyhTvTmDZlmnxPB1kUG9R6LHbuXb_CR5zjaYF0PveawFO2B0iZ1N882HwBIDb885JtJqlh3MGSJTSAm7N3Co8rjz1Xf55w1qicHBcvv7cpewV4R3P.Fb0BnNfkoCLtdzHuyYhAye4Y_dk4JRkN0IWGzrQMnOQMCRd_v538JFGx6mSz0WPg4xXsxX1VkJJf6KcpDGZS1n8hTcNUnREY42ok9gEuMwclcCNRIx4jwGLPo2ZThQM1u_XlCs7qwfzcp00d1czC94CMrgPOPkSU.9TC0FfMQSVN2aGfxiegsBfif2ISsQDAdFf6vUG83HU77vzChCnb30tRkrtB4E4MpsI.Xnj5BKfwN.pUu9KWRiciCVE_BHSYI8kX2dS7ePHi.7WSBoGmrB599w_el3wXfelh93k99Z0_Dqqhw2l3NFB.xNMM1voxjH8uB8mP_pLyhRkZVECeBKRUwAksKxq_6UD9Jp6vN0ltkJsZci.J41QbzMv137mOoC3Qe5dx1Fw6gxGKVNWOWcAVLByPCN9WJSxLs750XD1fqa8oGM30OAmlZHGlRtNH7_VrkfR8v32Oz393pxakmc.GOdq4VvG14eh3xfU2EMT9L51tHQa9xjYXyo9ZKq8GfA0cm6_bisp8_nWKenzPhWXOTdjJGBbCJFMMRO85LqcYGh1srcAUfx_DlnpJ8YOpmcJn8FDKlaOWjbocqke7Yd2uCIMIpR.JnPxMyvQ2h4msdxEItc304ufT9eoiXBMk2oPhZMhubCPuxM7La_LnFHS4eEuYq36akZhehEn0kHzZrKME5LFBbcryII7QdG2aGp8WpXq04eVXGSFQDd3GIM_YhZMVZnF4vz8Rmpb3ENNtbSseWT_4UMurqvnIqFs7MjqjsqK1b3BVCV3d_pwB4a9iwbAcj5iW9MftZ_sAhwfip6fPO70cdtM0JoGZLS5onu5oqFraUzh1FTHLrqA0SHe9fIv.22uOSqWREfKz0CmEzaBfpMtdHx1jceE5rfiikkPibumc_1aY8_M.KAUWOWjaqHFdZTImtQHhw_MmLs6AEJ1cpYYSv3iVUF.mSytMUloCGGljXobzhC1QpZzckZ.Wz4QDNVxe_Jl1m7xAdDtncReo7M5y7gC3Q3quj0hXQSAewy4AuOh_VT7lZFLpk._ZM3j3GB.aGEoNz2JBlbEMZNyeWj_t99mQg_uxZRx6D918A0.Op3JGgteEl05iVWIW_0nAUpbPSJ0COdLOv7nzR5oXG6_RAx7T5YnScBKviOb4xCaIYB8sPJB4rowUKf7a3eW37dDACCZVaFNp_wpoUmiNd2oGxGSgi5pwtuQ4DDHvisScbjfa_7iznLd4efVPYcJLwCN.BrhZ_ph8DzNgEVBXnpOQAX3_yEjIly.SSJ7cnCeuQ_RaMXsiqUj3NGZrw0P12TT7BKUE.v90G73d1BIt4mFaVNGHQRJS3qI6gby7wpxhHCFTtx19kKitTxExKPaGvQDfw.c71sxDoLvSt5yPXDtXJBAvAlFU_20JuRmuosDoklBOtwyFH.OBEF7Z.MHBo5gMz6eARz5SUCL.dO0pieOeuYMb53.2D6E_1u3vXUeZ.pooHTAMgbQ3c.E4WDiSyKgvpCNkUzcIcLEpc0WoFYnKCMCAoeFeXSQEQlwrWL0p.R7N12iveIAd4ZIIFAYNhKTeo5R9fntXro0EawIVwuBlens7yguZmvSRduaqd0tcFp8ZlXja4X4XMNli6Rmz08cDQvo1dKlcbHdVzbnmlMDJJjWjRImMJlnAM1.UNk8S_yfXknDFXCdhfWf04PeXDl3CT.StXbxlMtc8aaLm0FAHQ_HkCaK1Ve1yO7SHMTl8hNMUdpWnfnlnf4uiAtO1lIdA12fhvXhL.gCIJM1Vou.dcuvkMHy1YBdhecw9XucOEy39CsHCLIZnemRXYpWNb_bUD5eefHI6pgAhqa3ibqjUTYGots1BSlSCIc2k9uQvi_46TfR9vUL76W4X2PgfB2lhV5GLdH7tSs6TRBt6fduD.VpRoGvI.qJCIyob1dDLZrVG38_GSHx7ew6YP1xa3UEEAwlDnMfn8YIjBpA\",cRq: {ru: \\'aHR0cHM6Ly9mYnJlZi5jb20vZW4vY29tcHMvOS8yMDIzLTIwMjQvc3RhdHMvMjAyMy0yMDI0LVByZW1pZXItTGVhZ3VlLVN0YXRz\\',ra: \\'TW96aWxsYS81LjAgKFdpbmRvd3MgTlQgMTAuMDsgV2luNjQ7IHg2NCkgQXBwbGVXZWJLaXQvNTM3LjM2IChLSFRNTCwgbGlrZSBHZWNrbykgQ2hyb21lLzU4LjAuMzAyOS4xMTAgU2FmYXJpLzUzNy4z\\',d: \\'vQCb+p3EGV/xldshL7BavsIBNwn5rS8K4xWYmsugKf7BJFgfQQh7Kf8erIKTNXgEGUEURVWYilqnUGV5ZJ4SJLGWDTNQjQC0L8saagqyWCugaGH7KSUgjXYaAE3Bz6rPBHvz9tYMQ3C6PiYY8B7MPlvxAreeoGEWtYj8Et3igGT86XyyhQHmvkbwvyHBl6CfB16eRvhEy/ZYak0jK2zvVW1ymIW6Cg2quoCbdxGPnyQcyxEGK7vPdZd4Ic0OKsqnGBlpzP4lxo8imgjcDKZ20Qsh6zzPcroxAf/973mVuaSA79j8klj9z3qJbX+juW3RGOtXRDxtOu3IHru720TpKgfSxEp+pSA4BWHULBfkWeaJbd+QNHkzY1qRfkcBWFn4YW13LnpwTUqwxT65FMoWGgx5S9ZFjH8XpD+eH6G3QJtqyuVienahl9Io7+n0cfKTZvLqTSmayyyc9nCI1dzDoMVPqNsFBLdskaRE6mrIuP/5GyCohTTDWSFyV8nEj3Itfdsey1GbPcOx/xYMnzVjdA2qPlcwnRgAcq0CuEdbH5m9aE5OUfs/Ygr8YoYOiO9H\\',t: \\'MTcyMzAzNjEwNi4wMDAwMDA=\\',cT: Math.floor(Date.now() / 1000),m: \\'n5COniCBIKqHKdYkM0Fn8vUDRNGPX2DcXFZqxppVgdc=\\',i1: \\'dpehqEjN8lK2uPUhU5XRNQ==\\',i2: \\'zkPre+nr4aUUePLmEMAC+Q==\\',zh: \\'/YJdf/z2paYpnSckfJY59qAp+8wM1kMkzrTdnI8WQ/g=\\',uh: \\'0C0u6AAowDJLu0DVVHR+OFYvZ2L4tzkp+TtciSyuCzE=\\',hh: \\'chRDTXbssyxa+mhwwITbN4e9ZGrI2xuaPzXjtB81p0U=\\',}};var cpo = document.createElement(\\'script\\');cpo.src = \\'/cdn-cgi/challenge-platform/h/g/orchestrate/chl_page/v1?ray=8af77ecee9f659b2\\';window._cf_chl_opt.cOgUHash = location.hash === \\'\\' && location.href.indexOf(\\'#\\') !== -1 ? \\'#\\' : location.hash;window._cf_chl_opt.cOgUQuery = location.search === \\'\\' && location.href.slice(0, location.href.length - window._cf_chl_opt.cOgUHash.length).indexOf(\\'?\\') !== -1 ? \\'?\\' : location.search;if (window.history && window.history.replaceState) {var ogU = location.pathname + window._cf_chl_opt.cOgUQuery + window._cf_chl_opt.cOgUHash;history.replaceState(null, null, \"\\\\/en\\\\/comps\\\\/9\\\\/2023-2024\\\\/stats\\\\/2023-2024-Premier-League-Stats?__cf_chl_rt_tk=Z_MK3VSdhukMgvuNo8OeopYwYkOwV9WehObe_8svrBM-1723036106-0.0.1.1-4010\" + window._cf_chl_opt.cOgUHash);cpo.onload = function() {history.replaceState(null, null, ogU);}}document.getElementsByTagName(\\'head\\')[0].appendChild(cpo);}());</script></body></html>'"
      ]
     },
     "execution_count": 11,
     "metadata": {},
     "output_type": "execute_result"
    }
   ],
   "source": [
    "def getReports():\n",
    "\n",
    "#open the url and extract the html and write it to a new file\n",
    "    #html = urlopen('https://fbref.com/en/comps/9/2023-2024/stats/2023-2024-Premier-League-Stats')\n",
    "    url = 'https://fbref.com/en/comps/9/2023-2024/stats/2023-2024-Premier-League-Stats'\n",
    "    # Set headers to mimic a browser request\n",
    "    headers = {\n",
    "        'User-Agent': 'Mozilla/5.0 (Windows NT 10.0; Win64; x64) AppleWebKit/537.36 (KHTML, like Gecko) Chrome/58.0.3029.110 Safari/537.3'}\n",
    "    \n",
    "    # Send the request\n",
    "    response = requests.get(url, headers=headers)\n",
    "    bs = BeautifulSoup(response.content, 'html.parser').encode()\n",
    "    return bs\n",
    "\n",
    "getReports()"
   ]
  },
  {
   "cell_type": "code",
   "execution_count": 9,
   "id": "9c0dacd5-9787-49ae-97fc-4f0c3caf5389",
   "metadata": {},
   "outputs": [
    {
     "ename": "TypeError",
     "evalue": "object of type 'Response' has no len()",
     "output_type": "error",
     "traceback": [
      "\u001b[1;31m---------------------------------------------------------------------------\u001b[0m",
      "\u001b[1;31mTypeError\u001b[0m                                 Traceback (most recent call last)",
      "Cell \u001b[1;32mIn[9], line 43\u001b[0m\n\u001b[0;32m     41\u001b[0m                         sheet[locB] \u001b[38;5;241m=\u001b[39m link\u001b[38;5;241m.\u001b[39mattrs[\u001b[38;5;124m'\u001b[39m\u001b[38;5;124mhref\u001b[39m\u001b[38;5;124m'\u001b[39m]\n\u001b[0;32m     42\u001b[0m                         workbook\u001b[38;5;241m.\u001b[39msave(\u001b[38;5;124m'\u001b[39m\u001b[38;5;124mplayer_profiles.xlsx\u001b[39m\u001b[38;5;124m'\u001b[39m)\n\u001b[1;32m---> 43\u001b[0m \u001b[43mgetReports\u001b[49m\u001b[43m(\u001b[49m\u001b[43m)\u001b[49m\n\u001b[0;32m     45\u001b[0m \u001b[38;5;66;03m#since some player have non-english letters in their names like 'ø' for 'o' etc.,\u001b[39;00m\n\u001b[0;32m     46\u001b[0m \u001b[38;5;66;03m#this code replaces such letters with corresponding english letters \u001b[39;00m\n\u001b[0;32m     47\u001b[0m \u001b[38;5;28;01mdef\u001b[39;00m \u001b[38;5;21mname_updater\u001b[39m():\n",
      "Cell \u001b[1;32mIn[9], line 12\u001b[0m, in \u001b[0;36mgetReports\u001b[1;34m()\u001b[0m\n\u001b[0;32m     10\u001b[0m \u001b[38;5;66;03m# Send the request\u001b[39;00m\n\u001b[0;32m     11\u001b[0m response \u001b[38;5;241m=\u001b[39m requests\u001b[38;5;241m.\u001b[39mget(url, headers\u001b[38;5;241m=\u001b[39mheaders)\n\u001b[1;32m---> 12\u001b[0m bs \u001b[38;5;241m=\u001b[39m \u001b[43mBeautifulSoup\u001b[49m\u001b[43m(\u001b[49m\u001b[43mresponse\u001b[49m\u001b[43m,\u001b[49m\u001b[43m \u001b[49m\u001b[38;5;124;43m'\u001b[39;49m\u001b[38;5;124;43mhtml.parser\u001b[39;49m\u001b[38;5;124;43m'\u001b[39;49m\u001b[43m)\u001b[49m\u001b[38;5;241m.\u001b[39mencode()\n\u001b[0;32m     14\u001b[0m \u001b[38;5;28;01mwith\u001b[39;00m \u001b[38;5;28mopen\u001b[39m(\u001b[38;5;124m\"\u001b[39m\u001b[38;5;124mdata1.html\u001b[39m\u001b[38;5;124m\"\u001b[39m, \u001b[38;5;124m\"\u001b[39m\u001b[38;5;124mw\u001b[39m\u001b[38;5;124m\"\u001b[39m) \u001b[38;5;28;01mas\u001b[39;00m file:\n\u001b[0;32m     15\u001b[0m     file\u001b[38;5;241m.\u001b[39mwrite(\u001b[38;5;28mstr\u001b[39m(bs))\n",
      "File \u001b[1;32m~\\AppData\\Local\\Programs\\Python\\Python312\\Lib\\site-packages\\bs4\\__init__.py:315\u001b[0m, in \u001b[0;36mBeautifulSoup.__init__\u001b[1;34m(self, markup, features, builder, parse_only, from_encoding, exclude_encodings, element_classes, **kwargs)\u001b[0m\n\u001b[0;32m    313\u001b[0m \u001b[38;5;28;01mif\u001b[39;00m \u001b[38;5;28mhasattr\u001b[39m(markup, \u001b[38;5;124m'\u001b[39m\u001b[38;5;124mread\u001b[39m\u001b[38;5;124m'\u001b[39m):        \u001b[38;5;66;03m# It's a file-type object.\u001b[39;00m\n\u001b[0;32m    314\u001b[0m     markup \u001b[38;5;241m=\u001b[39m markup\u001b[38;5;241m.\u001b[39mread()\n\u001b[1;32m--> 315\u001b[0m \u001b[38;5;28;01melif\u001b[39;00m \u001b[38;5;28;43mlen\u001b[39;49m\u001b[43m(\u001b[49m\u001b[43mmarkup\u001b[49m\u001b[43m)\u001b[49m \u001b[38;5;241m<\u001b[39m\u001b[38;5;241m=\u001b[39m \u001b[38;5;241m256\u001b[39m \u001b[38;5;129;01mand\u001b[39;00m (\n\u001b[0;32m    316\u001b[0m         (\u001b[38;5;28misinstance\u001b[39m(markup, \u001b[38;5;28mbytes\u001b[39m) \u001b[38;5;129;01mand\u001b[39;00m \u001b[38;5;129;01mnot\u001b[39;00m \u001b[38;5;124mb\u001b[39m\u001b[38;5;124m'\u001b[39m\u001b[38;5;124m<\u001b[39m\u001b[38;5;124m'\u001b[39m \u001b[38;5;129;01min\u001b[39;00m markup)\n\u001b[0;32m    317\u001b[0m         \u001b[38;5;129;01mor\u001b[39;00m (\u001b[38;5;28misinstance\u001b[39m(markup, \u001b[38;5;28mstr\u001b[39m) \u001b[38;5;129;01mand\u001b[39;00m \u001b[38;5;129;01mnot\u001b[39;00m \u001b[38;5;124m'\u001b[39m\u001b[38;5;124m<\u001b[39m\u001b[38;5;124m'\u001b[39m \u001b[38;5;129;01min\u001b[39;00m markup)\n\u001b[0;32m    318\u001b[0m ):\n\u001b[0;32m    319\u001b[0m     \u001b[38;5;66;03m# Issue warnings for a couple beginner problems\u001b[39;00m\n\u001b[0;32m    320\u001b[0m     \u001b[38;5;66;03m# involving passing non-markup to Beautiful Soup.\u001b[39;00m\n\u001b[0;32m    321\u001b[0m     \u001b[38;5;66;03m# Beautiful Soup will still parse the input as markup,\u001b[39;00m\n\u001b[0;32m    322\u001b[0m     \u001b[38;5;66;03m# since that is sometimes the intended behavior.\u001b[39;00m\n\u001b[0;32m    323\u001b[0m     \u001b[38;5;28;01mif\u001b[39;00m \u001b[38;5;129;01mnot\u001b[39;00m \u001b[38;5;28mself\u001b[39m\u001b[38;5;241m.\u001b[39m_markup_is_url(markup):\n\u001b[0;32m    324\u001b[0m         \u001b[38;5;28mself\u001b[39m\u001b[38;5;241m.\u001b[39m_markup_resembles_filename(markup)                \n",
      "\u001b[1;31mTypeError\u001b[0m: object of type 'Response' has no len()"
     ]
    }
   ],
   "source": [
    "def getReports():\n",
    "\n",
    "#open the url and extract the html and write it to a new file\n",
    "    #html = urlopen('https://fbref.com/en/comps/9/2023-2024/stats/2023-2024-Premier-League-Stats')\n",
    "    url = 'https://fbref.com/en/comps/9/2023-2024/stats/2023-2024-Premier-League-Stats'\n",
    "    # Set headers to mimic a browser request\n",
    "    headers = {\n",
    "        'User-Agent': 'Mozilla/5.0 (Windows NT 10.0; Win64; x64) AppleWebKit/537.36 (KHTML, like Gecko) Chrome/58.0.3029.110 Safari/537.3'}\n",
    "    \n",
    "    # Send the request\n",
    "    response = requests.get(url, headers=headers)\n",
    "    bs = BeautifulSoup(response, 'html.parser').encode()\n",
    "\n",
    "    with open(\"data1.html\", \"w\") as file:\n",
    "        file.write(str(bs))\n",
    "        \n",
    "#open the html file and replace the comment part with void so that all the tables can now be accessed\n",
    "    with open(\"data1.html\",'r') as html1:\n",
    "        bs2 = BeautifulSoup(html1, 'html.parser')\n",
    "        text_of_bs2 = str(bs2)\n",
    "        usable_bs2 = text_of_bs2.replace(\"<!--\",\" \").replace(\"-->\", \" \")\n",
    "        with open(\"data2.html\", 'w') as commentless_content:\n",
    "            commentless_content.write(usable_bs2)\n",
    "\n",
    "#create an excel sheet and add links to player profiles so as if fetch it if need be\n",
    "    with open('data2.html', 'r') as main_page:\n",
    "        bs3 = BeautifulSoup(main_page,'html.parser')\n",
    "        table_contents = bs3.find_all('table')\n",
    "        workbook = openpyxl.Workbook()\n",
    "        sheet = workbook.active\n",
    "        sheet['A1'] = \"Name\"\n",
    "        sheet['B1'] = \"Link\"\n",
    "        workbook.save('player_profiles.xlsx')\n",
    "        for count, content in enumerate(table_contents):\n",
    "            list_of_links = content.find_all('a', href= re.compile(r\"^/en/players/[a-f0-9]{8}/[A-Za-z-]+$\"))\n",
    "            for link in list_of_links:\n",
    "                if 'href' in link.attrs:\n",
    "                        locA = \"A\"+str(count)\n",
    "                        locB = \"B\"+str(count)\n",
    "                        sheet[locA] = link.text\n",
    "                        sheet[locB] = link.attrs['href']\n",
    "                        workbook.save('player_profiles.xlsx')\n",
    "getReports()\n",
    "\n",
    "#since some player have non-english letters in their names like 'ø' for 'o' etc.,\n",
    "#this code replaces such letters with corresponding english letters \n",
    "def name_updater():\n",
    "    count = 1\n",
    "    df = pd.read_excel('player_profiles.xlsx')\n",
    "    while count < df.shape[0]:\n",
    "        real_name = str(df['Link'].values[count]).split('/').pop().replace('-',\" \")\n",
    "        df['Name'].values[count] = real_name\n",
    "        df.to_excel('player_profiles.xlsx')\n",
    "        count+=1\n",
    "name_updater()"
   ]
  },
  {
   "cell_type": "code",
   "execution_count": null,
   "id": "010f4731-05d1-493b-8922-ff3569b2c1a3",
   "metadata": {},
   "outputs": [],
   "source": []
  }
 ],
 "metadata": {
  "kernelspec": {
   "display_name": "Python 3 (ipykernel)",
   "language": "python",
   "name": "python3"
  },
  "language_info": {
   "codemirror_mode": {
    "name": "ipython",
    "version": 3
   },
   "file_extension": ".py",
   "mimetype": "text/x-python",
   "name": "python",
   "nbconvert_exporter": "python",
   "pygments_lexer": "ipython3",
   "version": "3.12.4"
  }
 },
 "nbformat": 4,
 "nbformat_minor": 5
}
