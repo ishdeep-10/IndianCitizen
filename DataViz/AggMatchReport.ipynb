{
 "cells": [
  {
   "cell_type": "code",
   "execution_count": 1,
   "id": "2d25b754-bb1e-4688-adbd-a04fc0126f56",
   "metadata": {},
   "outputs": [
    {
     "data": {
      "text/html": [
       "<pre style=\"white-space:pre;overflow-x:auto;line-height:normal;font-family:Menlo,'DejaVu Sans Mono',consolas,'Courier New',monospace\"><span style=\"color: #7fbfbf; text-decoration-color: #7fbfbf\">[09/02/24 19:22:20] </span><span style=\"color: #000080; text-decoration-color: #000080\">INFO    </span> No custom team name replacements found. You can configure these in       <a href=\"file://C:\\Users\\acer\\AppData\\Local\\Programs\\Python\\Python312\\Lib\\site-packages\\soccerdata\\_config.py\" target=\"_blank\"><span style=\"color: #7f7f7f; text-decoration-color: #7f7f7f\">_config.py</span></a><span style=\"color: #7f7f7f; text-decoration-color: #7f7f7f\">:</span><a href=\"file://C:\\Users\\acer\\AppData\\Local\\Programs\\Python\\Python312\\Lib\\site-packages\\soccerdata\\_config.py#90\" target=\"_blank\"><span style=\"color: #7f7f7f; text-decoration-color: #7f7f7f\">90</span></a>\n",
       "<span style=\"color: #7fbfbf; text-decoration-color: #7fbfbf\">                    </span>         C:\\Users\\acer\\soccerdata\\config\\teamname_replacements.json.              <span style=\"color: #7f7f7f; text-decoration-color: #7f7f7f\">             </span>\n",
       "</pre>\n"
      ],
      "text/plain": [
       "\u001b[2;36m[09/02/24 19:22:20]\u001b[0m\u001b[2;36m \u001b[0m\u001b[34mINFO    \u001b[0m No custom team name replacements found. You can configure these in       \u001b]8;id=467286;file://C:\\Users\\acer\\AppData\\Local\\Programs\\Python\\Python312\\Lib\\site-packages\\soccerdata\\_config.py\u001b\\\u001b[2m_config.py\u001b[0m\u001b]8;;\u001b\\\u001b[2m:\u001b[0m\u001b]8;id=231831;file://C:\\Users\\acer\\AppData\\Local\\Programs\\Python\\Python312\\Lib\\site-packages\\soccerdata\\_config.py#90\u001b\\\u001b[2m90\u001b[0m\u001b]8;;\u001b\\\n",
       "\u001b[2;36m                    \u001b[0m         C:\\Users\\acer\\soccerdata\\config\\teamname_replacements.json.              \u001b[2m             \u001b[0m\n"
      ]
     },
     "metadata": {},
     "output_type": "display_data"
    },
    {
     "data": {
      "text/html": [
       "<pre style=\"white-space:pre;overflow-x:auto;line-height:normal;font-family:Menlo,'DejaVu Sans Mono',consolas,'Courier New',monospace\"><span style=\"color: #7fbfbf; text-decoration-color: #7fbfbf\">                    </span><span style=\"color: #000080; text-decoration-color: #000080\">INFO    </span> No custom league dict found. You can configure additional leagues in    <a href=\"file://C:\\Users\\acer\\AppData\\Local\\Programs\\Python\\Python312\\Lib\\site-packages\\soccerdata\\_config.py\" target=\"_blank\"><span style=\"color: #7f7f7f; text-decoration-color: #7f7f7f\">_config.py</span></a><span style=\"color: #7f7f7f; text-decoration-color: #7f7f7f\">:</span><a href=\"file://C:\\Users\\acer\\AppData\\Local\\Programs\\Python\\Python312\\Lib\\site-packages\\soccerdata\\_config.py#196\" target=\"_blank\"><span style=\"color: #7f7f7f; text-decoration-color: #7f7f7f\">196</span></a>\n",
       "<span style=\"color: #7fbfbf; text-decoration-color: #7fbfbf\">                    </span>         C:\\Users\\acer\\soccerdata\\config\\league_dict.json.                       <span style=\"color: #7f7f7f; text-decoration-color: #7f7f7f\">              </span>\n",
       "</pre>\n"
      ],
      "text/plain": [
       "\u001b[2;36m                   \u001b[0m\u001b[2;36m \u001b[0m\u001b[34mINFO    \u001b[0m No custom league dict found. You can configure additional leagues in    \u001b]8;id=458621;file://C:\\Users\\acer\\AppData\\Local\\Programs\\Python\\Python312\\Lib\\site-packages\\soccerdata\\_config.py\u001b\\\u001b[2m_config.py\u001b[0m\u001b]8;;\u001b\\\u001b[2m:\u001b[0m\u001b]8;id=382636;file://C:\\Users\\acer\\AppData\\Local\\Programs\\Python\\Python312\\Lib\\site-packages\\soccerdata\\_config.py#196\u001b\\\u001b[2m196\u001b[0m\u001b]8;;\u001b\\\n",
       "\u001b[2;36m                    \u001b[0m         C:\\Users\\acer\\soccerdata\\config\\league_dict.json.                       \u001b[2m              \u001b[0m\n"
      ]
     },
     "metadata": {},
     "output_type": "display_data"
    }
   ],
   "source": [
    "import pandas as pd\n",
    "import numpy as np\n",
    "import matplotlib.pyplot as plt\n",
    "import seaborn as sns\n",
    "import requests \n",
    "from bs4 import BeautifulSoup\n",
    "import json\n",
    "from pprint import pprint\n",
    "import matplotlib.image as mpimg\n",
    "import matplotlib.patches as patches\n",
    "from PIL import Image\n",
    "from io import BytesIO\n",
    "import highlight_text\n",
    "import matplotlib as mpl\n",
    "from matplotlib.gridspec import GridSpec\n",
    "from mplsoccer import Pitch, VerticalPitch\n",
    "import matplotlib.image as mpimg\n",
    "import matplotlib.patches as patches\n",
    "from PIL import Image\n",
    "from io import BytesIO\n",
    "from mplsoccer import PyPizza, add_image, FontManager\n",
    "from matplotlib.patches import Rectangle\n",
    "import matplotlib.font_manager as font_manager\n",
    "import matplotlib.image as mpimg\n",
    "import matplotlib.patches as patches\n",
    "from PIL import Image\n",
    "from io import BytesIO\n",
    "from mplsoccer import PyPizza, add_image, FontManager\n",
    "import soccerdata as sd\n",
    "import re\n",
    "from unidecode import unidecode\n",
    "\n",
    "pd.set_option(\"display.max_rows\", None, \"display.max_columns\", None)\n",
    "background = \"black\"\n",
    "text_color = 'w'\n",
    "primary = '#C8102E'\n",
    "secondary = 'lightblue'\n",
    "mpl.rcParams['xtick.color'] = text_color\n",
    "mpl.rcParams['ytick.color'] = text_color\n",
    "\n",
    "# setup a mplsoccer FontManager to download google fonts (Roboto-Regular / SigmarOne-Regular)\n",
    "fm = FontManager()\n",
    "fm_rubik = FontManager('https://raw.githubusercontent.com/google/fonts/main/ofl/rubikmonoone/'\n",
    "                       'RubikMonoOne-Regular.ttf')"
   ]
  },
  {
   "cell_type": "code",
   "execution_count": 9,
   "id": "d211e018-cd85-4070-a95d-90c8693229a2",
   "metadata": {},
   "outputs": [
    {
     "data": {
      "text/html": [
       "<div>\n",
       "<style scoped>\n",
       "    .dataframe tbody tr th:only-of-type {\n",
       "        vertical-align: middle;\n",
       "    }\n",
       "\n",
       "    .dataframe tbody tr th {\n",
       "        vertical-align: top;\n",
       "    }\n",
       "\n",
       "    .dataframe thead th {\n",
       "        text-align: right;\n",
       "    }\n",
       "</style>\n",
       "<table border=\"1\" class=\"dataframe\">\n",
       "  <thead>\n",
       "    <tr style=\"text-align: right;\">\n",
       "      <th></th>\n",
       "      <th>matchId</th>\n",
       "    </tr>\n",
       "  </thead>\n",
       "  <tbody>\n",
       "  </tbody>\n",
       "</table>\n",
       "</div>"
      ],
      "text/plain": [
       "Empty DataFrame\n",
       "Columns: [matchId]\n",
       "Index: []"
      ]
     },
     "execution_count": 9,
     "metadata": {},
     "output_type": "execute_result"
    }
   ],
   "source": [
    "shots_df"
   ]
  },
  {
   "cell_type": "code",
   "execution_count": 11,
   "id": "ae04fa6e-645e-4aff-a458-e8462fff1390",
   "metadata": {},
   "outputs": [
    {
     "name": "stdout",
     "output_type": "stream",
     "text": [
      "4506263\n",
      "4506264\n",
      "4506265\n",
      "4506266\n",
      "4506267\n",
      "4506268\n",
      "4506269\n",
      "4506270\n",
      "4506271\n",
      "4506272\n",
      "4506273\n",
      "4506274\n",
      "4506275\n",
      "4506276\n",
      "4506277\n",
      "4506278\n",
      "4506279\n",
      "4506280\n",
      "4506281\n",
      "4506282\n",
      "4506283\n",
      "4506284\n",
      "4506285\n",
      "4506286\n",
      "4506287\n",
      "4506288\n",
      "4506289\n",
      "680\n"
     ]
    },
    {
     "name": "stderr",
     "output_type": "stream",
     "text": [
      "C:\\Users\\acer\\AppData\\Local\\Temp\\ipykernel_11332\\3567602528.py:51: FutureWarning: The behavior of DataFrame concatenation with empty or all-NA entries is deprecated. In a future version, this will no longer exclude empty or all-NA columns when determining the result dtypes. To retain the old behavior, exclude the relevant entries before the concat operation.\n",
      "  final_shots_df = pd.concat(all_shots_dfs, ignore_index=True)\n"
     ]
    }
   ],
   "source": [
    "# Define the function to scrape shot data for a given matchId\n",
    "def scrape_shots(mi):\n",
    "    try: \n",
    "        params = {'matchId': mi}\n",
    "        response = requests.get('https://www.fotmob.com/api/matchDetails', params=params)\n",
    "        data = response.json()\n",
    "        shotmap = data['content']['shotmap']['shots']\n",
    "        shots_df = pd.DataFrame(shotmap)\n",
    "        shots_df['matchId'] = mi\n",
    "        return shots_df\n",
    "    except Exception as e:\n",
    "        print(\"Data not able to be scraped for MatchID : \",mi)\n",
    "\n",
    "# Read the CSV containing the team names according to their respective Fotmob teamId\n",
    "df_teamNameId = pd.read_csv(\"pl_team_name_and_id.csv\")\n",
    "\n",
    "# Define your list of matchIds (mi)\n",
    "first_matchId = 4506263\n",
    "last_matchId = 4506289\n",
    "match_ids = [first_matchId + i for i in range(27)]  \n",
    "\n",
    "# Initialize an empty list to store individual DataFrames\n",
    "all_shots_dfs = []\n",
    "\n",
    "# Loop through each matchId, scrape the shots data, merge with team names, and append to the list\n",
    "for fotmob_matchId in match_ids:\n",
    "    print(fotmob_matchId)\n",
    "    shots_df = scrape_shots(fotmob_matchId)\n",
    "    if shots_df is not None:\n",
    "        shots_df = shots_df.merge(df_teamNameId[['teamId', 'teamName']], on='teamId', how='left')\n",
    "    \n",
    "        # Adding the opposition team name column\n",
    "        team1 = shots_df['teamName'].unique()[0]\n",
    "        team2 = shots_df['teamName'].unique()[1]\n",
    "        \n",
    "        def get_opposite_teamName(team):\n",
    "            if team == team1:\n",
    "                return team2\n",
    "            elif team == team2:\n",
    "                return team1\n",
    "            else:\n",
    "                return None\n",
    "    \n",
    "        # Apply the function to create the new column\n",
    "        shots_df['oppositeTeam'] = shots_df['teamName'].apply(get_opposite_teamName)\n",
    "        \n",
    "        # Append the DataFrame to the list\n",
    "        all_shots_dfs.append(shots_df)\n",
    "\n",
    "# Concatenate all DataFrames in the list into a single DataFrame\n",
    "final_shots_df = pd.concat(all_shots_dfs, ignore_index=True)\n",
    "\n",
    "# Cross cheking if all the data has extracted succesfully or not\n",
    "print(len(final_shots_df))"
   ]
  },
  {
   "cell_type": "code",
   "execution_count": 12,
   "id": "8e6c13d6-6721-4689-9592-8a5bb3902ac4",
   "metadata": {},
   "outputs": [
    {
     "data": {
      "text/html": [
       "<div>\n",
       "<style scoped>\n",
       "    .dataframe tbody tr th:only-of-type {\n",
       "        vertical-align: middle;\n",
       "    }\n",
       "\n",
       "    .dataframe tbody tr th {\n",
       "        vertical-align: top;\n",
       "    }\n",
       "\n",
       "    .dataframe thead th {\n",
       "        text-align: right;\n",
       "    }\n",
       "</style>\n",
       "<table border=\"1\" class=\"dataframe\">\n",
       "  <thead>\n",
       "    <tr style=\"text-align: right;\">\n",
       "      <th></th>\n",
       "      <th>id</th>\n",
       "      <th>eventType</th>\n",
       "      <th>teamId</th>\n",
       "      <th>playerId</th>\n",
       "      <th>playerName</th>\n",
       "      <th>x</th>\n",
       "      <th>y</th>\n",
       "      <th>min</th>\n",
       "      <th>minAdded</th>\n",
       "      <th>isBlocked</th>\n",
       "      <th>isOnTarget</th>\n",
       "      <th>blockedX</th>\n",
       "      <th>blockedY</th>\n",
       "      <th>goalCrossedY</th>\n",
       "      <th>goalCrossedZ</th>\n",
       "      <th>expectedGoals</th>\n",
       "      <th>expectedGoalsOnTarget</th>\n",
       "      <th>shotType</th>\n",
       "      <th>situation</th>\n",
       "      <th>period</th>\n",
       "      <th>isOwnGoal</th>\n",
       "      <th>onGoalShot</th>\n",
       "      <th>isSavedOffLine</th>\n",
       "      <th>isFromInsideBox</th>\n",
       "      <th>firstName</th>\n",
       "      <th>lastName</th>\n",
       "      <th>fullName</th>\n",
       "      <th>teamColor</th>\n",
       "      <th>matchId</th>\n",
       "      <th>teamName</th>\n",
       "      <th>oppositeTeam</th>\n",
       "      <th>shortName</th>\n",
       "    </tr>\n",
       "  </thead>\n",
       "  <tbody>\n",
       "    <tr>\n",
       "      <th>0</th>\n",
       "      <td>2709319091</td>\n",
       "      <td>Miss</td>\n",
       "      <td>9879</td>\n",
       "      <td>493647</td>\n",
       "      <td>Adama Traoré</td>\n",
       "      <td>92.200000</td>\n",
       "      <td>18.534268</td>\n",
       "      <td>8</td>\n",
       "      <td>NaN</td>\n",
       "      <td>False</td>\n",
       "      <td>False</td>\n",
       "      <td>NaN</td>\n",
       "      <td>NaN</td>\n",
       "      <td>30.256000</td>\n",
       "      <td>4.584690</td>\n",
       "      <td>0.030144</td>\n",
       "      <td>0.000000</td>\n",
       "      <td>RightFoot</td>\n",
       "      <td>RegularPlay</td>\n",
       "      <td>FirstHalf</td>\n",
       "      <td>False</td>\n",
       "      <td>{'x': 1.5530623084167812, 'y': 0.6772486772486...</td>\n",
       "      <td>False</td>\n",
       "      <td>True</td>\n",
       "      <td>Adama</td>\n",
       "      <td>Traoré</td>\n",
       "      <td>Adama Traoré</td>\n",
       "      <td>#000000</td>\n",
       "      <td>4506263</td>\n",
       "      <td>Fulham</td>\n",
       "      <td>Man Utd</td>\n",
       "      <td>NaN</td>\n",
       "    </tr>\n",
       "    <tr>\n",
       "      <th>1</th>\n",
       "      <td>2709323601</td>\n",
       "      <td>AttemptSaved</td>\n",
       "      <td>9879</td>\n",
       "      <td>469804</td>\n",
       "      <td>Kenny Tete</td>\n",
       "      <td>77.079126</td>\n",
       "      <td>34.076250</td>\n",
       "      <td>13</td>\n",
       "      <td>NaN</td>\n",
       "      <td>False</td>\n",
       "      <td>True</td>\n",
       "      <td>102.818966</td>\n",
       "      <td>33.61875</td>\n",
       "      <td>30.873750</td>\n",
       "      <td>2.029053</td>\n",
       "      <td>0.019572</td>\n",
       "      <td>0.284503</td>\n",
       "      <td>RightFoot</td>\n",
       "      <td>RegularPlay</td>\n",
       "      <td>FirstHalf</td>\n",
       "      <td>False</td>\n",
       "      <td>{'x': 1.8270502645502642, 'y': 0.5367864078306...</td>\n",
       "      <td>False</td>\n",
       "      <td>False</td>\n",
       "      <td>Kenny</td>\n",
       "      <td>Tete</td>\n",
       "      <td>Kenny Tete</td>\n",
       "      <td>#000000</td>\n",
       "      <td>4506263</td>\n",
       "      <td>Fulham</td>\n",
       "      <td>Man Utd</td>\n",
       "      <td>NaN</td>\n",
       "    </tr>\n",
       "    <tr>\n",
       "      <th>2</th>\n",
       "      <td>2709324389</td>\n",
       "      <td>AttemptSaved</td>\n",
       "      <td>9879</td>\n",
       "      <td>1128945</td>\n",
       "      <td>Rodrigo Muniz</td>\n",
       "      <td>94.385965</td>\n",
       "      <td>30.645000</td>\n",
       "      <td>14</td>\n",
       "      <td>NaN</td>\n",
       "      <td>True</td>\n",
       "      <td>True</td>\n",
       "      <td>98.245614</td>\n",
       "      <td>32.47500</td>\n",
       "      <td>37.126250</td>\n",
       "      <td>0.359579</td>\n",
       "      <td>0.050167</td>\n",
       "      <td>0.000000</td>\n",
       "      <td>Header</td>\n",
       "      <td>FromCorner</td>\n",
       "      <td>FirstHalf</td>\n",
       "      <td>False</td>\n",
       "      <td>{'x': 0.1729497354497358, 'y': 0.0951267051851...</td>\n",
       "      <td>False</td>\n",
       "      <td>True</td>\n",
       "      <td>Rodrigo</td>\n",
       "      <td>Muniz</td>\n",
       "      <td>Rodrigo Muniz</td>\n",
       "      <td>#000000</td>\n",
       "      <td>4506263</td>\n",
       "      <td>Fulham</td>\n",
       "      <td>Man Utd</td>\n",
       "      <td>NaN</td>\n",
       "    </tr>\n",
       "    <tr>\n",
       "      <th>3</th>\n",
       "      <td>2709330981</td>\n",
       "      <td>Miss</td>\n",
       "      <td>10260</td>\n",
       "      <td>422685</td>\n",
       "      <td>Bruno Fernandes</td>\n",
       "      <td>102.250000</td>\n",
       "      <td>46.032611</td>\n",
       "      <td>20</td>\n",
       "      <td>NaN</td>\n",
       "      <td>False</td>\n",
       "      <td>False</td>\n",
       "      <td>NaN</td>\n",
       "      <td>NaN</td>\n",
       "      <td>39.208810</td>\n",
       "      <td>0.179789</td>\n",
       "      <td>0.020179</td>\n",
       "      <td>0.000000</td>\n",
       "      <td>LeftFoot</td>\n",
       "      <td>RegularPlay</td>\n",
       "      <td>FirstHalf</td>\n",
       "      <td>False</td>\n",
       "      <td>{'x': 0, 'y': 0.034516422982466426, 'zoomRatio...</td>\n",
       "      <td>False</td>\n",
       "      <td>True</td>\n",
       "      <td>Bruno</td>\n",
       "      <td>Fernandes</td>\n",
       "      <td>Bruno Fernandes</td>\n",
       "      <td>#C70101</td>\n",
       "      <td>4506263</td>\n",
       "      <td>Man Utd</td>\n",
       "      <td>Fulham</td>\n",
       "      <td>NaN</td>\n",
       "    </tr>\n",
       "    <tr>\n",
       "      <th>4</th>\n",
       "      <td>2709337569</td>\n",
       "      <td>Miss</td>\n",
       "      <td>10260</td>\n",
       "      <td>208494</td>\n",
       "      <td>Casemiro</td>\n",
       "      <td>79.331553</td>\n",
       "      <td>32.398750</td>\n",
       "      <td>27</td>\n",
       "      <td>NaN</td>\n",
       "      <td>False</td>\n",
       "      <td>False</td>\n",
       "      <td>NaN</td>\n",
       "      <td>NaN</td>\n",
       "      <td>38.452381</td>\n",
       "      <td>4.828000</td>\n",
       "      <td>0.042184</td>\n",
       "      <td>0.000000</td>\n",
       "      <td>RightFoot</td>\n",
       "      <td>RegularPlay</td>\n",
       "      <td>FirstHalf</td>\n",
       "      <td>False</td>\n",
       "      <td>{'x': 0.3754413613904556, 'y': 0.6772486772486...</td>\n",
       "      <td>False</td>\n",
       "      <td>False</td>\n",
       "      <td></td>\n",
       "      <td>Casemiro</td>\n",
       "      <td>Casemiro</td>\n",
       "      <td>#C70101</td>\n",
       "      <td>4506263</td>\n",
       "      <td>Man Utd</td>\n",
       "      <td>Fulham</td>\n",
       "      <td>NaN</td>\n",
       "    </tr>\n",
       "  </tbody>\n",
       "</table>\n",
       "</div>"
      ],
      "text/plain": [
       "           id     eventType  teamId  playerId       playerName           x  \\\n",
       "0  2709319091          Miss    9879    493647     Adama Traoré   92.200000   \n",
       "1  2709323601  AttemptSaved    9879    469804       Kenny Tete   77.079126   \n",
       "2  2709324389  AttemptSaved    9879   1128945    Rodrigo Muniz   94.385965   \n",
       "3  2709330981          Miss   10260    422685  Bruno Fernandes  102.250000   \n",
       "4  2709337569          Miss   10260    208494         Casemiro   79.331553   \n",
       "\n",
       "           y  min  minAdded  isBlocked  isOnTarget    blockedX  blockedY  \\\n",
       "0  18.534268    8       NaN      False       False         NaN       NaN   \n",
       "1  34.076250   13       NaN      False        True  102.818966  33.61875   \n",
       "2  30.645000   14       NaN       True        True   98.245614  32.47500   \n",
       "3  46.032611   20       NaN      False       False         NaN       NaN   \n",
       "4  32.398750   27       NaN      False       False         NaN       NaN   \n",
       "\n",
       "   goalCrossedY  goalCrossedZ  expectedGoals  expectedGoalsOnTarget  \\\n",
       "0     30.256000      4.584690       0.030144               0.000000   \n",
       "1     30.873750      2.029053       0.019572               0.284503   \n",
       "2     37.126250      0.359579       0.050167               0.000000   \n",
       "3     39.208810      0.179789       0.020179               0.000000   \n",
       "4     38.452381      4.828000       0.042184               0.000000   \n",
       "\n",
       "    shotType    situation     period  isOwnGoal  \\\n",
       "0  RightFoot  RegularPlay  FirstHalf      False   \n",
       "1  RightFoot  RegularPlay  FirstHalf      False   \n",
       "2     Header   FromCorner  FirstHalf      False   \n",
       "3   LeftFoot  RegularPlay  FirstHalf      False   \n",
       "4  RightFoot  RegularPlay  FirstHalf      False   \n",
       "\n",
       "                                          onGoalShot  isSavedOffLine  \\\n",
       "0  {'x': 1.5530623084167812, 'y': 0.6772486772486...           False   \n",
       "1  {'x': 1.8270502645502642, 'y': 0.5367864078306...           False   \n",
       "2  {'x': 0.1729497354497358, 'y': 0.0951267051851...           False   \n",
       "3  {'x': 0, 'y': 0.034516422982466426, 'zoomRatio...           False   \n",
       "4  {'x': 0.3754413613904556, 'y': 0.6772486772486...           False   \n",
       "\n",
       "   isFromInsideBox firstName   lastName         fullName teamColor  matchId  \\\n",
       "0             True     Adama     Traoré     Adama Traoré   #000000  4506263   \n",
       "1            False     Kenny       Tete       Kenny Tete   #000000  4506263   \n",
       "2             True   Rodrigo      Muniz    Rodrigo Muniz   #000000  4506263   \n",
       "3             True     Bruno  Fernandes  Bruno Fernandes   #C70101  4506263   \n",
       "4            False             Casemiro         Casemiro   #C70101  4506263   \n",
       "\n",
       "  teamName oppositeTeam shortName  \n",
       "0   Fulham      Man Utd       NaN  \n",
       "1   Fulham      Man Utd       NaN  \n",
       "2   Fulham      Man Utd       NaN  \n",
       "3  Man Utd       Fulham       NaN  \n",
       "4  Man Utd       Fulham       NaN  "
      ]
     },
     "execution_count": 12,
     "metadata": {},
     "output_type": "execute_result"
    }
   ],
   "source": [
    "final_shots_df.head()"
   ]
  },
  {
   "cell_type": "code",
   "execution_count": 13,
   "id": "45facecf-faec-44b5-ac98-fa6f46e6c1b2",
   "metadata": {},
   "outputs": [
    {
     "data": {
      "text/html": [
       "<pre style=\"white-space:pre;overflow-x:auto;line-height:normal;font-family:Menlo,'DejaVu Sans Mono',consolas,'Courier New',monospace\"><span style=\"color: #7fbfbf; text-decoration-color: #7fbfbf\">[09/02/24 20:17:29] </span><span style=\"color: #000080; text-decoration-color: #000080\">INFO    </span> Saving cached data to C:\\Users\\acer\\soccerdata\\data\\WhoScored           <a href=\"file://C:\\Users\\acer\\AppData\\Local\\Programs\\Python\\Python312\\Lib\\site-packages\\soccerdata\\_common.py\" target=\"_blank\"><span style=\"color: #7f7f7f; text-decoration-color: #7f7f7f\">_common.py</span></a><span style=\"color: #7f7f7f; text-decoration-color: #7f7f7f\">:</span><a href=\"file://C:\\Users\\acer\\AppData\\Local\\Programs\\Python\\Python312\\Lib\\site-packages\\soccerdata\\_common.py#263\" target=\"_blank\"><span style=\"color: #7f7f7f; text-decoration-color: #7f7f7f\">263</span></a>\n",
       "</pre>\n"
      ],
      "text/plain": [
       "\u001b[2;36m[09/02/24 20:17:29]\u001b[0m\u001b[2;36m \u001b[0m\u001b[34mINFO    \u001b[0m Saving cached data to C:\\Users\\acer\\soccerdata\\data\\WhoScored           \u001b]8;id=660647;file://C:\\Users\\acer\\AppData\\Local\\Programs\\Python\\Python312\\Lib\\site-packages\\soccerdata\\_common.py\u001b\\\u001b[2m_common.py\u001b[0m\u001b]8;;\u001b\\\u001b[2m:\u001b[0m\u001b]8;id=295117;file://C:\\Users\\acer\\AppData\\Local\\Programs\\Python\\Python312\\Lib\\site-packages\\soccerdata\\_common.py#263\u001b\\\u001b[2m263\u001b[0m\u001b]8;;\u001b\\\n"
      ]
     },
     "metadata": {},
     "output_type": "display_data"
    },
    {
     "data": {
      "text/html": [
       "<pre style=\"white-space:pre;overflow-x:auto;line-height:normal;font-family:Menlo,'DejaVu Sans Mono',consolas,'Courier New',monospace\"><span style=\"color: #7fbfbf; text-decoration-color: #7fbfbf\">[09/02/24 20:17:44] </span><span style=\"color: #000080; text-decoration-color: #000080\">INFO    </span> Retrieving calendar for ENG-Premier League <span style=\"color: #008080; text-decoration-color: #008080; font-weight: bold\">2425</span>                       <a href=\"file://C:\\Users\\acer\\AppData\\Local\\Programs\\Python\\Python312\\Lib\\site-packages\\soccerdata\\whoscored.py\" target=\"_blank\"><span style=\"color: #7f7f7f; text-decoration-color: #7f7f7f\">whoscored.py</span></a><span style=\"color: #7f7f7f; text-decoration-color: #7f7f7f\">:</span><a href=\"file://C:\\Users\\acer\\AppData\\Local\\Programs\\Python\\Python312\\Lib\\site-packages\\soccerdata\\whoscored.py#371\" target=\"_blank\"><span style=\"color: #7f7f7f; text-decoration-color: #7f7f7f\">371</span></a>\n",
       "</pre>\n"
      ],
      "text/plain": [
       "\u001b[2;36m[09/02/24 20:17:44]\u001b[0m\u001b[2;36m \u001b[0m\u001b[34mINFO    \u001b[0m Retrieving calendar for ENG-Premier League \u001b[1;36m2425\u001b[0m                       \u001b]8;id=468276;file://C:\\Users\\acer\\AppData\\Local\\Programs\\Python\\Python312\\Lib\\site-packages\\soccerdata\\whoscored.py\u001b\\\u001b[2mwhoscored.py\u001b[0m\u001b]8;;\u001b\\\u001b[2m:\u001b[0m\u001b]8;id=317586;file://C:\\Users\\acer\\AppData\\Local\\Programs\\Python\\Python312\\Lib\\site-packages\\soccerdata\\whoscored.py#371\u001b\\\u001b[2m371\u001b[0m\u001b]8;;\u001b\\\n"
      ]
     },
     "metadata": {},
     "output_type": "display_data"
    },
    {
     "data": {
      "text/html": [
       "<pre style=\"white-space:pre;overflow-x:auto;line-height:normal;font-family:Menlo,'DejaVu Sans Mono',consolas,'Courier New',monospace\"><span style=\"color: #7fbfbf; text-decoration-color: #7fbfbf\">[09/02/24 20:17:54] </span><span style=\"color: #000080; text-decoration-color: #000080\">INFO    </span> <span style=\"font-weight: bold\">[</span><span style=\"color: #008080; text-decoration-color: #008080; font-weight: bold\">1</span>/<span style=\"color: #008080; text-decoration-color: #008080; font-weight: bold\">10</span><span style=\"font-weight: bold\">]</span> Retrieving fixtures for ENG-Premier League <span style=\"color: #008080; text-decoration-color: #008080; font-weight: bold\">2425</span>                <a href=\"file://C:\\Users\\acer\\AppData\\Local\\Programs\\Python\\Python312\\Lib\\site-packages\\soccerdata\\whoscored.py\" target=\"_blank\"><span style=\"color: #7f7f7f; text-decoration-color: #7f7f7f\">whoscored.py</span></a><span style=\"color: #7f7f7f; text-decoration-color: #7f7f7f\">:</span><a href=\"file://C:\\Users\\acer\\AppData\\Local\\Programs\\Python\\Python312\\Lib\\site-packages\\soccerdata\\whoscored.py#400\" target=\"_blank\"><span style=\"color: #7f7f7f; text-decoration-color: #7f7f7f\">400</span></a>\n",
       "</pre>\n"
      ],
      "text/plain": [
       "\u001b[2;36m[09/02/24 20:17:54]\u001b[0m\u001b[2;36m \u001b[0m\u001b[34mINFO    \u001b[0m \u001b[1m[\u001b[0m\u001b[1;36m1\u001b[0m/\u001b[1;36m10\u001b[0m\u001b[1m]\u001b[0m Retrieving fixtures for ENG-Premier League \u001b[1;36m2425\u001b[0m                \u001b]8;id=43944;file://C:\\Users\\acer\\AppData\\Local\\Programs\\Python\\Python312\\Lib\\site-packages\\soccerdata\\whoscored.py\u001b\\\u001b[2mwhoscored.py\u001b[0m\u001b]8;;\u001b\\\u001b[2m:\u001b[0m\u001b]8;id=600093;file://C:\\Users\\acer\\AppData\\Local\\Programs\\Python\\Python312\\Lib\\site-packages\\soccerdata\\whoscored.py#400\u001b\\\u001b[2m400\u001b[0m\u001b]8;;\u001b\\\n"
      ]
     },
     "metadata": {},
     "output_type": "display_data"
    },
    {
     "data": {
      "text/html": [
       "<pre style=\"white-space:pre;overflow-x:auto;line-height:normal;font-family:Menlo,'DejaVu Sans Mono',consolas,'Courier New',monospace\"><span style=\"color: #7fbfbf; text-decoration-color: #7fbfbf\">[09/02/24 20:18:04] </span><span style=\"color: #000080; text-decoration-color: #000080\">INFO    </span> <span style=\"font-weight: bold\">[</span><span style=\"color: #008080; text-decoration-color: #008080; font-weight: bold\">2</span>/<span style=\"color: #008080; text-decoration-color: #008080; font-weight: bold\">10</span><span style=\"font-weight: bold\">]</span> Retrieving fixtures for ENG-Premier League <span style=\"color: #008080; text-decoration-color: #008080; font-weight: bold\">2425</span>                <a href=\"file://C:\\Users\\acer\\AppData\\Local\\Programs\\Python\\Python312\\Lib\\site-packages\\soccerdata\\whoscored.py\" target=\"_blank\"><span style=\"color: #7f7f7f; text-decoration-color: #7f7f7f\">whoscored.py</span></a><span style=\"color: #7f7f7f; text-decoration-color: #7f7f7f\">:</span><a href=\"file://C:\\Users\\acer\\AppData\\Local\\Programs\\Python\\Python312\\Lib\\site-packages\\soccerdata\\whoscored.py#400\" target=\"_blank\"><span style=\"color: #7f7f7f; text-decoration-color: #7f7f7f\">400</span></a>\n",
       "</pre>\n"
      ],
      "text/plain": [
       "\u001b[2;36m[09/02/24 20:18:04]\u001b[0m\u001b[2;36m \u001b[0m\u001b[34mINFO    \u001b[0m \u001b[1m[\u001b[0m\u001b[1;36m2\u001b[0m/\u001b[1;36m10\u001b[0m\u001b[1m]\u001b[0m Retrieving fixtures for ENG-Premier League \u001b[1;36m2425\u001b[0m                \u001b]8;id=701467;file://C:\\Users\\acer\\AppData\\Local\\Programs\\Python\\Python312\\Lib\\site-packages\\soccerdata\\whoscored.py\u001b\\\u001b[2mwhoscored.py\u001b[0m\u001b]8;;\u001b\\\u001b[2m:\u001b[0m\u001b]8;id=41868;file://C:\\Users\\acer\\AppData\\Local\\Programs\\Python\\Python312\\Lib\\site-packages\\soccerdata\\whoscored.py#400\u001b\\\u001b[2m400\u001b[0m\u001b]8;;\u001b\\\n"
      ]
     },
     "metadata": {},
     "output_type": "display_data"
    },
    {
     "data": {
      "text/html": [
       "<pre style=\"white-space:pre;overflow-x:auto;line-height:normal;font-family:Menlo,'DejaVu Sans Mono',consolas,'Courier New',monospace\"><span style=\"color: #7fbfbf; text-decoration-color: #7fbfbf\">[09/02/24 20:18:12] </span><span style=\"color: #000080; text-decoration-color: #000080\">INFO    </span> <span style=\"font-weight: bold\">[</span><span style=\"color: #008080; text-decoration-color: #008080; font-weight: bold\">3</span>/<span style=\"color: #008080; text-decoration-color: #008080; font-weight: bold\">10</span><span style=\"font-weight: bold\">]</span> Retrieving fixtures for ENG-Premier League <span style=\"color: #008080; text-decoration-color: #008080; font-weight: bold\">2425</span>                <a href=\"file://C:\\Users\\acer\\AppData\\Local\\Programs\\Python\\Python312\\Lib\\site-packages\\soccerdata\\whoscored.py\" target=\"_blank\"><span style=\"color: #7f7f7f; text-decoration-color: #7f7f7f\">whoscored.py</span></a><span style=\"color: #7f7f7f; text-decoration-color: #7f7f7f\">:</span><a href=\"file://C:\\Users\\acer\\AppData\\Local\\Programs\\Python\\Python312\\Lib\\site-packages\\soccerdata\\whoscored.py#400\" target=\"_blank\"><span style=\"color: #7f7f7f; text-decoration-color: #7f7f7f\">400</span></a>\n",
       "</pre>\n"
      ],
      "text/plain": [
       "\u001b[2;36m[09/02/24 20:18:12]\u001b[0m\u001b[2;36m \u001b[0m\u001b[34mINFO    \u001b[0m \u001b[1m[\u001b[0m\u001b[1;36m3\u001b[0m/\u001b[1;36m10\u001b[0m\u001b[1m]\u001b[0m Retrieving fixtures for ENG-Premier League \u001b[1;36m2425\u001b[0m                \u001b]8;id=429919;file://C:\\Users\\acer\\AppData\\Local\\Programs\\Python\\Python312\\Lib\\site-packages\\soccerdata\\whoscored.py\u001b\\\u001b[2mwhoscored.py\u001b[0m\u001b]8;;\u001b\\\u001b[2m:\u001b[0m\u001b]8;id=171933;file://C:\\Users\\acer\\AppData\\Local\\Programs\\Python\\Python312\\Lib\\site-packages\\soccerdata\\whoscored.py#400\u001b\\\u001b[2m400\u001b[0m\u001b]8;;\u001b\\\n"
      ]
     },
     "metadata": {},
     "output_type": "display_data"
    },
    {
     "data": {
      "text/html": [
       "<pre style=\"white-space:pre;overflow-x:auto;line-height:normal;font-family:Menlo,'DejaVu Sans Mono',consolas,'Courier New',monospace\"><span style=\"color: #7fbfbf; text-decoration-color: #7fbfbf\">[09/02/24 20:18:21] </span><span style=\"color: #000080; text-decoration-color: #000080\">INFO    </span> <span style=\"font-weight: bold\">[</span><span style=\"color: #008080; text-decoration-color: #008080; font-weight: bold\">4</span>/<span style=\"color: #008080; text-decoration-color: #008080; font-weight: bold\">10</span><span style=\"font-weight: bold\">]</span> Retrieving fixtures for ENG-Premier League <span style=\"color: #008080; text-decoration-color: #008080; font-weight: bold\">2425</span>                <a href=\"file://C:\\Users\\acer\\AppData\\Local\\Programs\\Python\\Python312\\Lib\\site-packages\\soccerdata\\whoscored.py\" target=\"_blank\"><span style=\"color: #7f7f7f; text-decoration-color: #7f7f7f\">whoscored.py</span></a><span style=\"color: #7f7f7f; text-decoration-color: #7f7f7f\">:</span><a href=\"file://C:\\Users\\acer\\AppData\\Local\\Programs\\Python\\Python312\\Lib\\site-packages\\soccerdata\\whoscored.py#400\" target=\"_blank\"><span style=\"color: #7f7f7f; text-decoration-color: #7f7f7f\">400</span></a>\n",
       "</pre>\n"
      ],
      "text/plain": [
       "\u001b[2;36m[09/02/24 20:18:21]\u001b[0m\u001b[2;36m \u001b[0m\u001b[34mINFO    \u001b[0m \u001b[1m[\u001b[0m\u001b[1;36m4\u001b[0m/\u001b[1;36m10\u001b[0m\u001b[1m]\u001b[0m Retrieving fixtures for ENG-Premier League \u001b[1;36m2425\u001b[0m                \u001b]8;id=637123;file://C:\\Users\\acer\\AppData\\Local\\Programs\\Python\\Python312\\Lib\\site-packages\\soccerdata\\whoscored.py\u001b\\\u001b[2mwhoscored.py\u001b[0m\u001b]8;;\u001b\\\u001b[2m:\u001b[0m\u001b]8;id=981172;file://C:\\Users\\acer\\AppData\\Local\\Programs\\Python\\Python312\\Lib\\site-packages\\soccerdata\\whoscored.py#400\u001b\\\u001b[2m400\u001b[0m\u001b]8;;\u001b\\\n"
      ]
     },
     "metadata": {},
     "output_type": "display_data"
    },
    {
     "data": {
      "text/html": [
       "<pre style=\"white-space:pre;overflow-x:auto;line-height:normal;font-family:Menlo,'DejaVu Sans Mono',consolas,'Courier New',monospace\"><span style=\"color: #7fbfbf; text-decoration-color: #7fbfbf\">[09/02/24 20:18:30] </span><span style=\"color: #000080; text-decoration-color: #000080\">INFO    </span> <span style=\"font-weight: bold\">[</span><span style=\"color: #008080; text-decoration-color: #008080; font-weight: bold\">5</span>/<span style=\"color: #008080; text-decoration-color: #008080; font-weight: bold\">10</span><span style=\"font-weight: bold\">]</span> Retrieving fixtures for ENG-Premier League <span style=\"color: #008080; text-decoration-color: #008080; font-weight: bold\">2425</span>                <a href=\"file://C:\\Users\\acer\\AppData\\Local\\Programs\\Python\\Python312\\Lib\\site-packages\\soccerdata\\whoscored.py\" target=\"_blank\"><span style=\"color: #7f7f7f; text-decoration-color: #7f7f7f\">whoscored.py</span></a><span style=\"color: #7f7f7f; text-decoration-color: #7f7f7f\">:</span><a href=\"file://C:\\Users\\acer\\AppData\\Local\\Programs\\Python\\Python312\\Lib\\site-packages\\soccerdata\\whoscored.py#400\" target=\"_blank\"><span style=\"color: #7f7f7f; text-decoration-color: #7f7f7f\">400</span></a>\n",
       "</pre>\n"
      ],
      "text/plain": [
       "\u001b[2;36m[09/02/24 20:18:30]\u001b[0m\u001b[2;36m \u001b[0m\u001b[34mINFO    \u001b[0m \u001b[1m[\u001b[0m\u001b[1;36m5\u001b[0m/\u001b[1;36m10\u001b[0m\u001b[1m]\u001b[0m Retrieving fixtures for ENG-Premier League \u001b[1;36m2425\u001b[0m                \u001b]8;id=251908;file://C:\\Users\\acer\\AppData\\Local\\Programs\\Python\\Python312\\Lib\\site-packages\\soccerdata\\whoscored.py\u001b\\\u001b[2mwhoscored.py\u001b[0m\u001b]8;;\u001b\\\u001b[2m:\u001b[0m\u001b]8;id=322560;file://C:\\Users\\acer\\AppData\\Local\\Programs\\Python\\Python312\\Lib\\site-packages\\soccerdata\\whoscored.py#400\u001b\\\u001b[2m400\u001b[0m\u001b]8;;\u001b\\\n"
      ]
     },
     "metadata": {},
     "output_type": "display_data"
    },
    {
     "data": {
      "text/html": [
       "<pre style=\"white-space:pre;overflow-x:auto;line-height:normal;font-family:Menlo,'DejaVu Sans Mono',consolas,'Courier New',monospace\"><span style=\"color: #7fbfbf; text-decoration-color: #7fbfbf\">[09/02/24 20:18:37] </span><span style=\"color: #000080; text-decoration-color: #000080\">INFO    </span> <span style=\"font-weight: bold\">[</span><span style=\"color: #008080; text-decoration-color: #008080; font-weight: bold\">6</span>/<span style=\"color: #008080; text-decoration-color: #008080; font-weight: bold\">10</span><span style=\"font-weight: bold\">]</span> Retrieving fixtures for ENG-Premier League <span style=\"color: #008080; text-decoration-color: #008080; font-weight: bold\">2425</span>                <a href=\"file://C:\\Users\\acer\\AppData\\Local\\Programs\\Python\\Python312\\Lib\\site-packages\\soccerdata\\whoscored.py\" target=\"_blank\"><span style=\"color: #7f7f7f; text-decoration-color: #7f7f7f\">whoscored.py</span></a><span style=\"color: #7f7f7f; text-decoration-color: #7f7f7f\">:</span><a href=\"file://C:\\Users\\acer\\AppData\\Local\\Programs\\Python\\Python312\\Lib\\site-packages\\soccerdata\\whoscored.py#400\" target=\"_blank\"><span style=\"color: #7f7f7f; text-decoration-color: #7f7f7f\">400</span></a>\n",
       "</pre>\n"
      ],
      "text/plain": [
       "\u001b[2;36m[09/02/24 20:18:37]\u001b[0m\u001b[2;36m \u001b[0m\u001b[34mINFO    \u001b[0m \u001b[1m[\u001b[0m\u001b[1;36m6\u001b[0m/\u001b[1;36m10\u001b[0m\u001b[1m]\u001b[0m Retrieving fixtures for ENG-Premier League \u001b[1;36m2425\u001b[0m                \u001b]8;id=386630;file://C:\\Users\\acer\\AppData\\Local\\Programs\\Python\\Python312\\Lib\\site-packages\\soccerdata\\whoscored.py\u001b\\\u001b[2mwhoscored.py\u001b[0m\u001b]8;;\u001b\\\u001b[2m:\u001b[0m\u001b]8;id=421818;file://C:\\Users\\acer\\AppData\\Local\\Programs\\Python\\Python312\\Lib\\site-packages\\soccerdata\\whoscored.py#400\u001b\\\u001b[2m400\u001b[0m\u001b]8;;\u001b\\\n"
      ]
     },
     "metadata": {},
     "output_type": "display_data"
    },
    {
     "data": {
      "text/html": [
       "<pre style=\"white-space:pre;overflow-x:auto;line-height:normal;font-family:Menlo,'DejaVu Sans Mono',consolas,'Courier New',monospace\"><span style=\"color: #7fbfbf; text-decoration-color: #7fbfbf\">[09/02/24 20:18:44] </span><span style=\"color: #000080; text-decoration-color: #000080\">INFO    </span> <span style=\"font-weight: bold\">[</span><span style=\"color: #008080; text-decoration-color: #008080; font-weight: bold\">7</span>/<span style=\"color: #008080; text-decoration-color: #008080; font-weight: bold\">10</span><span style=\"font-weight: bold\">]</span> Retrieving fixtures for ENG-Premier League <span style=\"color: #008080; text-decoration-color: #008080; font-weight: bold\">2425</span>                <a href=\"file://C:\\Users\\acer\\AppData\\Local\\Programs\\Python\\Python312\\Lib\\site-packages\\soccerdata\\whoscored.py\" target=\"_blank\"><span style=\"color: #7f7f7f; text-decoration-color: #7f7f7f\">whoscored.py</span></a><span style=\"color: #7f7f7f; text-decoration-color: #7f7f7f\">:</span><a href=\"file://C:\\Users\\acer\\AppData\\Local\\Programs\\Python\\Python312\\Lib\\site-packages\\soccerdata\\whoscored.py#400\" target=\"_blank\"><span style=\"color: #7f7f7f; text-decoration-color: #7f7f7f\">400</span></a>\n",
       "</pre>\n"
      ],
      "text/plain": [
       "\u001b[2;36m[09/02/24 20:18:44]\u001b[0m\u001b[2;36m \u001b[0m\u001b[34mINFO    \u001b[0m \u001b[1m[\u001b[0m\u001b[1;36m7\u001b[0m/\u001b[1;36m10\u001b[0m\u001b[1m]\u001b[0m Retrieving fixtures for ENG-Premier League \u001b[1;36m2425\u001b[0m                \u001b]8;id=427478;file://C:\\Users\\acer\\AppData\\Local\\Programs\\Python\\Python312\\Lib\\site-packages\\soccerdata\\whoscored.py\u001b\\\u001b[2mwhoscored.py\u001b[0m\u001b]8;;\u001b\\\u001b[2m:\u001b[0m\u001b]8;id=158229;file://C:\\Users\\acer\\AppData\\Local\\Programs\\Python\\Python312\\Lib\\site-packages\\soccerdata\\whoscored.py#400\u001b\\\u001b[2m400\u001b[0m\u001b]8;;\u001b\\\n"
      ]
     },
     "metadata": {},
     "output_type": "display_data"
    },
    {
     "data": {
      "text/html": [
       "<pre style=\"white-space:pre;overflow-x:auto;line-height:normal;font-family:Menlo,'DejaVu Sans Mono',consolas,'Courier New',monospace\"><span style=\"color: #7fbfbf; text-decoration-color: #7fbfbf\">[09/02/24 20:18:52] </span><span style=\"color: #000080; text-decoration-color: #000080\">INFO    </span> <span style=\"font-weight: bold\">[</span><span style=\"color: #008080; text-decoration-color: #008080; font-weight: bold\">8</span>/<span style=\"color: #008080; text-decoration-color: #008080; font-weight: bold\">10</span><span style=\"font-weight: bold\">]</span> Retrieving fixtures for ENG-Premier League <span style=\"color: #008080; text-decoration-color: #008080; font-weight: bold\">2425</span>                <a href=\"file://C:\\Users\\acer\\AppData\\Local\\Programs\\Python\\Python312\\Lib\\site-packages\\soccerdata\\whoscored.py\" target=\"_blank\"><span style=\"color: #7f7f7f; text-decoration-color: #7f7f7f\">whoscored.py</span></a><span style=\"color: #7f7f7f; text-decoration-color: #7f7f7f\">:</span><a href=\"file://C:\\Users\\acer\\AppData\\Local\\Programs\\Python\\Python312\\Lib\\site-packages\\soccerdata\\whoscored.py#400\" target=\"_blank\"><span style=\"color: #7f7f7f; text-decoration-color: #7f7f7f\">400</span></a>\n",
       "</pre>\n"
      ],
      "text/plain": [
       "\u001b[2;36m[09/02/24 20:18:52]\u001b[0m\u001b[2;36m \u001b[0m\u001b[34mINFO    \u001b[0m \u001b[1m[\u001b[0m\u001b[1;36m8\u001b[0m/\u001b[1;36m10\u001b[0m\u001b[1m]\u001b[0m Retrieving fixtures for ENG-Premier League \u001b[1;36m2425\u001b[0m                \u001b]8;id=868918;file://C:\\Users\\acer\\AppData\\Local\\Programs\\Python\\Python312\\Lib\\site-packages\\soccerdata\\whoscored.py\u001b\\\u001b[2mwhoscored.py\u001b[0m\u001b]8;;\u001b\\\u001b[2m:\u001b[0m\u001b]8;id=387655;file://C:\\Users\\acer\\AppData\\Local\\Programs\\Python\\Python312\\Lib\\site-packages\\soccerdata\\whoscored.py#400\u001b\\\u001b[2m400\u001b[0m\u001b]8;;\u001b\\\n"
      ]
     },
     "metadata": {},
     "output_type": "display_data"
    },
    {
     "data": {
      "text/html": [
       "<pre style=\"white-space:pre;overflow-x:auto;line-height:normal;font-family:Menlo,'DejaVu Sans Mono',consolas,'Courier New',monospace\"><span style=\"color: #7fbfbf; text-decoration-color: #7fbfbf\">[09/02/24 20:18:59] </span><span style=\"color: #000080; text-decoration-color: #000080\">INFO    </span> <span style=\"font-weight: bold\">[</span><span style=\"color: #008080; text-decoration-color: #008080; font-weight: bold\">9</span>/<span style=\"color: #008080; text-decoration-color: #008080; font-weight: bold\">10</span><span style=\"font-weight: bold\">]</span> Retrieving fixtures for ENG-Premier League <span style=\"color: #008080; text-decoration-color: #008080; font-weight: bold\">2425</span>                <a href=\"file://C:\\Users\\acer\\AppData\\Local\\Programs\\Python\\Python312\\Lib\\site-packages\\soccerdata\\whoscored.py\" target=\"_blank\"><span style=\"color: #7f7f7f; text-decoration-color: #7f7f7f\">whoscored.py</span></a><span style=\"color: #7f7f7f; text-decoration-color: #7f7f7f\">:</span><a href=\"file://C:\\Users\\acer\\AppData\\Local\\Programs\\Python\\Python312\\Lib\\site-packages\\soccerdata\\whoscored.py#400\" target=\"_blank\"><span style=\"color: #7f7f7f; text-decoration-color: #7f7f7f\">400</span></a>\n",
       "</pre>\n"
      ],
      "text/plain": [
       "\u001b[2;36m[09/02/24 20:18:59]\u001b[0m\u001b[2;36m \u001b[0m\u001b[34mINFO    \u001b[0m \u001b[1m[\u001b[0m\u001b[1;36m9\u001b[0m/\u001b[1;36m10\u001b[0m\u001b[1m]\u001b[0m Retrieving fixtures for ENG-Premier League \u001b[1;36m2425\u001b[0m                \u001b]8;id=707572;file://C:\\Users\\acer\\AppData\\Local\\Programs\\Python\\Python312\\Lib\\site-packages\\soccerdata\\whoscored.py\u001b\\\u001b[2mwhoscored.py\u001b[0m\u001b]8;;\u001b\\\u001b[2m:\u001b[0m\u001b]8;id=968932;file://C:\\Users\\acer\\AppData\\Local\\Programs\\Python\\Python312\\Lib\\site-packages\\soccerdata\\whoscored.py#400\u001b\\\u001b[2m400\u001b[0m\u001b]8;;\u001b\\\n"
      ]
     },
     "metadata": {},
     "output_type": "display_data"
    },
    {
     "data": {
      "text/html": [
       "<pre style=\"white-space:pre;overflow-x:auto;line-height:normal;font-family:Menlo,'DejaVu Sans Mono',consolas,'Courier New',monospace\"><span style=\"color: #7fbfbf; text-decoration-color: #7fbfbf\">[09/02/24 20:19:09] </span><span style=\"color: #000080; text-decoration-color: #000080\">INFO    </span> <span style=\"font-weight: bold\">[</span><span style=\"color: #008080; text-decoration-color: #008080; font-weight: bold\">10</span>/<span style=\"color: #008080; text-decoration-color: #008080; font-weight: bold\">10</span><span style=\"font-weight: bold\">]</span> Retrieving fixtures for ENG-Premier League <span style=\"color: #008080; text-decoration-color: #008080; font-weight: bold\">2425</span>               <a href=\"file://C:\\Users\\acer\\AppData\\Local\\Programs\\Python\\Python312\\Lib\\site-packages\\soccerdata\\whoscored.py\" target=\"_blank\"><span style=\"color: #7f7f7f; text-decoration-color: #7f7f7f\">whoscored.py</span></a><span style=\"color: #7f7f7f; text-decoration-color: #7f7f7f\">:</span><a href=\"file://C:\\Users\\acer\\AppData\\Local\\Programs\\Python\\Python312\\Lib\\site-packages\\soccerdata\\whoscored.py#400\" target=\"_blank\"><span style=\"color: #7f7f7f; text-decoration-color: #7f7f7f\">400</span></a>\n",
       "</pre>\n"
      ],
      "text/plain": [
       "\u001b[2;36m[09/02/24 20:19:09]\u001b[0m\u001b[2;36m \u001b[0m\u001b[34mINFO    \u001b[0m \u001b[1m[\u001b[0m\u001b[1;36m10\u001b[0m/\u001b[1;36m10\u001b[0m\u001b[1m]\u001b[0m Retrieving fixtures for ENG-Premier League \u001b[1;36m2425\u001b[0m               \u001b]8;id=320589;file://C:\\Users\\acer\\AppData\\Local\\Programs\\Python\\Python312\\Lib\\site-packages\\soccerdata\\whoscored.py\u001b\\\u001b[2mwhoscored.py\u001b[0m\u001b]8;;\u001b\\\u001b[2m:\u001b[0m\u001b]8;id=861961;file://C:\\Users\\acer\\AppData\\Local\\Programs\\Python\\Python312\\Lib\\site-packages\\soccerdata\\whoscored.py#400\u001b\\\u001b[2m400\u001b[0m\u001b]8;;\u001b\\\n"
      ]
     },
     "metadata": {},
     "output_type": "display_data"
    },
    {
     "name": "stderr",
     "output_type": "stream",
     "text": [
      "C:\\Users\\acer\\AppData\\Local\\Programs\\Python\\Python312\\Lib\\site-packages\\soccerdata\\whoscored.py:424: FutureWarning: The behavior of DataFrame concatenation with empty or all-NA entries is deprecated. In a future version, this will no longer exclude empty or all-NA columns when determining the result dtypes. To retain the old behavior, exclude the relevant entries before the concat operation.\n",
      "  pd.concat(all_schedules)\n"
     ]
    },
    {
     "data": {
      "text/html": [
       "<pre style=\"white-space:pre;overflow-x:auto;line-height:normal;font-family:Menlo,'DejaVu Sans Mono',consolas,'Courier New',monospace\"><span style=\"color: #7fbfbf; text-decoration-color: #7fbfbf\">[09/02/24 20:19:17] </span><span style=\"color: #000080; text-decoration-color: #000080\">INFO    </span> <span style=\"font-weight: bold\">[</span><span style=\"color: #008080; text-decoration-color: #008080; font-weight: bold\">1</span>/<span style=\"color: #008080; text-decoration-color: #008080; font-weight: bold\">1</span><span style=\"font-weight: bold\">]</span> Retrieving game with <span style=\"color: #808000; text-decoration-color: #808000\">id</span>=<span style=\"color: #008080; text-decoration-color: #008080; font-weight: bold\">1821049</span>                                 <a href=\"file://C:\\Users\\acer\\AppData\\Local\\Programs\\Python\\Python312\\Lib\\site-packages\\soccerdata\\whoscored.py\" target=\"_blank\"><span style=\"color: #7f7f7f; text-decoration-color: #7f7f7f\">whoscored.py</span></a><span style=\"color: #7f7f7f; text-decoration-color: #7f7f7f\">:</span><a href=\"file://C:\\Users\\acer\\AppData\\Local\\Programs\\Python\\Python312\\Lib\\site-packages\\soccerdata\\whoscored.py#692\" target=\"_blank\"><span style=\"color: #7f7f7f; text-decoration-color: #7f7f7f\">692</span></a>\n",
       "</pre>\n"
      ],
      "text/plain": [
       "\u001b[2;36m[09/02/24 20:19:17]\u001b[0m\u001b[2;36m \u001b[0m\u001b[34mINFO    \u001b[0m \u001b[1m[\u001b[0m\u001b[1;36m1\u001b[0m/\u001b[1;36m1\u001b[0m\u001b[1m]\u001b[0m Retrieving game with \u001b[33mid\u001b[0m=\u001b[1;36m1821049\u001b[0m                                 \u001b]8;id=572914;file://C:\\Users\\acer\\AppData\\Local\\Programs\\Python\\Python312\\Lib\\site-packages\\soccerdata\\whoscored.py\u001b\\\u001b[2mwhoscored.py\u001b[0m\u001b]8;;\u001b\\\u001b[2m:\u001b[0m\u001b]8;id=627285;file://C:\\Users\\acer\\AppData\\Local\\Programs\\Python\\Python312\\Lib\\site-packages\\soccerdata\\whoscored.py#692\u001b\\\u001b[2m692\u001b[0m\u001b]8;;\u001b\\\n"
      ]
     },
     "metadata": {},
     "output_type": "display_data"
    },
    {
     "data": {
      "text/html": [
       "<pre style=\"white-space:pre;overflow-x:auto;line-height:normal;font-family:Menlo,'DejaVu Sans Mono',consolas,'Courier New',monospace\"><span style=\"color: #7fbfbf; text-decoration-color: #7fbfbf\">[09/02/24 20:19:44] </span><span style=\"color: #000080; text-decoration-color: #000080\">INFO    </span> Retrieving calendar for ENG-Premier League <span style=\"color: #008080; text-decoration-color: #008080; font-weight: bold\">2425</span>                       <a href=\"file://C:\\Users\\acer\\AppData\\Local\\Programs\\Python\\Python312\\Lib\\site-packages\\soccerdata\\whoscored.py\" target=\"_blank\"><span style=\"color: #7f7f7f; text-decoration-color: #7f7f7f\">whoscored.py</span></a><span style=\"color: #7f7f7f; text-decoration-color: #7f7f7f\">:</span><a href=\"file://C:\\Users\\acer\\AppData\\Local\\Programs\\Python\\Python312\\Lib\\site-packages\\soccerdata\\whoscored.py#371\" target=\"_blank\"><span style=\"color: #7f7f7f; text-decoration-color: #7f7f7f\">371</span></a>\n",
       "</pre>\n"
      ],
      "text/plain": [
       "\u001b[2;36m[09/02/24 20:19:44]\u001b[0m\u001b[2;36m \u001b[0m\u001b[34mINFO    \u001b[0m Retrieving calendar for ENG-Premier League \u001b[1;36m2425\u001b[0m                       \u001b]8;id=169404;file://C:\\Users\\acer\\AppData\\Local\\Programs\\Python\\Python312\\Lib\\site-packages\\soccerdata\\whoscored.py\u001b\\\u001b[2mwhoscored.py\u001b[0m\u001b]8;;\u001b\\\u001b[2m:\u001b[0m\u001b]8;id=754864;file://C:\\Users\\acer\\AppData\\Local\\Programs\\Python\\Python312\\Lib\\site-packages\\soccerdata\\whoscored.py#371\u001b\\\u001b[2m371\u001b[0m\u001b]8;;\u001b\\\n"
      ]
     },
     "metadata": {},
     "output_type": "display_data"
    },
    {
     "data": {
      "text/html": [
       "<pre style=\"white-space:pre;overflow-x:auto;line-height:normal;font-family:Menlo,'DejaVu Sans Mono',consolas,'Courier New',monospace\"><span style=\"color: #7fbfbf; text-decoration-color: #7fbfbf\">[09/02/24 20:19:54] </span><span style=\"color: #000080; text-decoration-color: #000080\">INFO    </span> <span style=\"font-weight: bold\">[</span><span style=\"color: #008080; text-decoration-color: #008080; font-weight: bold\">1</span>/<span style=\"color: #008080; text-decoration-color: #008080; font-weight: bold\">10</span><span style=\"font-weight: bold\">]</span> Retrieving fixtures for ENG-Premier League <span style=\"color: #008080; text-decoration-color: #008080; font-weight: bold\">2425</span>                <a href=\"file://C:\\Users\\acer\\AppData\\Local\\Programs\\Python\\Python312\\Lib\\site-packages\\soccerdata\\whoscored.py\" target=\"_blank\"><span style=\"color: #7f7f7f; text-decoration-color: #7f7f7f\">whoscored.py</span></a><span style=\"color: #7f7f7f; text-decoration-color: #7f7f7f\">:</span><a href=\"file://C:\\Users\\acer\\AppData\\Local\\Programs\\Python\\Python312\\Lib\\site-packages\\soccerdata\\whoscored.py#400\" target=\"_blank\"><span style=\"color: #7f7f7f; text-decoration-color: #7f7f7f\">400</span></a>\n",
       "</pre>\n"
      ],
      "text/plain": [
       "\u001b[2;36m[09/02/24 20:19:54]\u001b[0m\u001b[2;36m \u001b[0m\u001b[34mINFO    \u001b[0m \u001b[1m[\u001b[0m\u001b[1;36m1\u001b[0m/\u001b[1;36m10\u001b[0m\u001b[1m]\u001b[0m Retrieving fixtures for ENG-Premier League \u001b[1;36m2425\u001b[0m                \u001b]8;id=546875;file://C:\\Users\\acer\\AppData\\Local\\Programs\\Python\\Python312\\Lib\\site-packages\\soccerdata\\whoscored.py\u001b\\\u001b[2mwhoscored.py\u001b[0m\u001b]8;;\u001b\\\u001b[2m:\u001b[0m\u001b]8;id=535861;file://C:\\Users\\acer\\AppData\\Local\\Programs\\Python\\Python312\\Lib\\site-packages\\soccerdata\\whoscored.py#400\u001b\\\u001b[2m400\u001b[0m\u001b]8;;\u001b\\\n"
      ]
     },
     "metadata": {},
     "output_type": "display_data"
    },
    {
     "data": {
      "text/html": [
       "<pre style=\"white-space:pre;overflow-x:auto;line-height:normal;font-family:Menlo,'DejaVu Sans Mono',consolas,'Courier New',monospace\"><span style=\"color: #7fbfbf; text-decoration-color: #7fbfbf\">[09/02/24 20:20:02] </span><span style=\"color: #000080; text-decoration-color: #000080\">INFO    </span> <span style=\"font-weight: bold\">[</span><span style=\"color: #008080; text-decoration-color: #008080; font-weight: bold\">2</span>/<span style=\"color: #008080; text-decoration-color: #008080; font-weight: bold\">10</span><span style=\"font-weight: bold\">]</span> Retrieving fixtures for ENG-Premier League <span style=\"color: #008080; text-decoration-color: #008080; font-weight: bold\">2425</span>                <a href=\"file://C:\\Users\\acer\\AppData\\Local\\Programs\\Python\\Python312\\Lib\\site-packages\\soccerdata\\whoscored.py\" target=\"_blank\"><span style=\"color: #7f7f7f; text-decoration-color: #7f7f7f\">whoscored.py</span></a><span style=\"color: #7f7f7f; text-decoration-color: #7f7f7f\">:</span><a href=\"file://C:\\Users\\acer\\AppData\\Local\\Programs\\Python\\Python312\\Lib\\site-packages\\soccerdata\\whoscored.py#400\" target=\"_blank\"><span style=\"color: #7f7f7f; text-decoration-color: #7f7f7f\">400</span></a>\n",
       "</pre>\n"
      ],
      "text/plain": [
       "\u001b[2;36m[09/02/24 20:20:02]\u001b[0m\u001b[2;36m \u001b[0m\u001b[34mINFO    \u001b[0m \u001b[1m[\u001b[0m\u001b[1;36m2\u001b[0m/\u001b[1;36m10\u001b[0m\u001b[1m]\u001b[0m Retrieving fixtures for ENG-Premier League \u001b[1;36m2425\u001b[0m                \u001b]8;id=226346;file://C:\\Users\\acer\\AppData\\Local\\Programs\\Python\\Python312\\Lib\\site-packages\\soccerdata\\whoscored.py\u001b\\\u001b[2mwhoscored.py\u001b[0m\u001b]8;;\u001b\\\u001b[2m:\u001b[0m\u001b]8;id=718430;file://C:\\Users\\acer\\AppData\\Local\\Programs\\Python\\Python312\\Lib\\site-packages\\soccerdata\\whoscored.py#400\u001b\\\u001b[2m400\u001b[0m\u001b]8;;\u001b\\\n"
      ]
     },
     "metadata": {},
     "output_type": "display_data"
    },
    {
     "data": {
      "text/html": [
       "<pre style=\"white-space:pre;overflow-x:auto;line-height:normal;font-family:Menlo,'DejaVu Sans Mono',consolas,'Courier New',monospace\"><span style=\"color: #7fbfbf; text-decoration-color: #7fbfbf\">[09/02/24 20:20:08] </span><span style=\"color: #000080; text-decoration-color: #000080\">INFO    </span> <span style=\"font-weight: bold\">[</span><span style=\"color: #008080; text-decoration-color: #008080; font-weight: bold\">3</span>/<span style=\"color: #008080; text-decoration-color: #008080; font-weight: bold\">10</span><span style=\"font-weight: bold\">]</span> Retrieving fixtures for ENG-Premier League <span style=\"color: #008080; text-decoration-color: #008080; font-weight: bold\">2425</span>                <a href=\"file://C:\\Users\\acer\\AppData\\Local\\Programs\\Python\\Python312\\Lib\\site-packages\\soccerdata\\whoscored.py\" target=\"_blank\"><span style=\"color: #7f7f7f; text-decoration-color: #7f7f7f\">whoscored.py</span></a><span style=\"color: #7f7f7f; text-decoration-color: #7f7f7f\">:</span><a href=\"file://C:\\Users\\acer\\AppData\\Local\\Programs\\Python\\Python312\\Lib\\site-packages\\soccerdata\\whoscored.py#400\" target=\"_blank\"><span style=\"color: #7f7f7f; text-decoration-color: #7f7f7f\">400</span></a>\n",
       "</pre>\n"
      ],
      "text/plain": [
       "\u001b[2;36m[09/02/24 20:20:08]\u001b[0m\u001b[2;36m \u001b[0m\u001b[34mINFO    \u001b[0m \u001b[1m[\u001b[0m\u001b[1;36m3\u001b[0m/\u001b[1;36m10\u001b[0m\u001b[1m]\u001b[0m Retrieving fixtures for ENG-Premier League \u001b[1;36m2425\u001b[0m                \u001b]8;id=113394;file://C:\\Users\\acer\\AppData\\Local\\Programs\\Python\\Python312\\Lib\\site-packages\\soccerdata\\whoscored.py\u001b\\\u001b[2mwhoscored.py\u001b[0m\u001b]8;;\u001b\\\u001b[2m:\u001b[0m\u001b]8;id=750091;file://C:\\Users\\acer\\AppData\\Local\\Programs\\Python\\Python312\\Lib\\site-packages\\soccerdata\\whoscored.py#400\u001b\\\u001b[2m400\u001b[0m\u001b]8;;\u001b\\\n"
      ]
     },
     "metadata": {},
     "output_type": "display_data"
    },
    {
     "data": {
      "text/html": [
       "<pre style=\"white-space:pre;overflow-x:auto;line-height:normal;font-family:Menlo,'DejaVu Sans Mono',consolas,'Courier New',monospace\"><span style=\"color: #7fbfbf; text-decoration-color: #7fbfbf\">[09/02/24 20:20:18] </span><span style=\"color: #000080; text-decoration-color: #000080\">INFO    </span> <span style=\"font-weight: bold\">[</span><span style=\"color: #008080; text-decoration-color: #008080; font-weight: bold\">4</span>/<span style=\"color: #008080; text-decoration-color: #008080; font-weight: bold\">10</span><span style=\"font-weight: bold\">]</span> Retrieving fixtures for ENG-Premier League <span style=\"color: #008080; text-decoration-color: #008080; font-weight: bold\">2425</span>                <a href=\"file://C:\\Users\\acer\\AppData\\Local\\Programs\\Python\\Python312\\Lib\\site-packages\\soccerdata\\whoscored.py\" target=\"_blank\"><span style=\"color: #7f7f7f; text-decoration-color: #7f7f7f\">whoscored.py</span></a><span style=\"color: #7f7f7f; text-decoration-color: #7f7f7f\">:</span><a href=\"file://C:\\Users\\acer\\AppData\\Local\\Programs\\Python\\Python312\\Lib\\site-packages\\soccerdata\\whoscored.py#400\" target=\"_blank\"><span style=\"color: #7f7f7f; text-decoration-color: #7f7f7f\">400</span></a>\n",
       "</pre>\n"
      ],
      "text/plain": [
       "\u001b[2;36m[09/02/24 20:20:18]\u001b[0m\u001b[2;36m \u001b[0m\u001b[34mINFO    \u001b[0m \u001b[1m[\u001b[0m\u001b[1;36m4\u001b[0m/\u001b[1;36m10\u001b[0m\u001b[1m]\u001b[0m Retrieving fixtures for ENG-Premier League \u001b[1;36m2425\u001b[0m                \u001b]8;id=326749;file://C:\\Users\\acer\\AppData\\Local\\Programs\\Python\\Python312\\Lib\\site-packages\\soccerdata\\whoscored.py\u001b\\\u001b[2mwhoscored.py\u001b[0m\u001b]8;;\u001b\\\u001b[2m:\u001b[0m\u001b]8;id=878881;file://C:\\Users\\acer\\AppData\\Local\\Programs\\Python\\Python312\\Lib\\site-packages\\soccerdata\\whoscored.py#400\u001b\\\u001b[2m400\u001b[0m\u001b]8;;\u001b\\\n"
      ]
     },
     "metadata": {},
     "output_type": "display_data"
    },
    {
     "data": {
      "text/html": [
       "<pre style=\"white-space:pre;overflow-x:auto;line-height:normal;font-family:Menlo,'DejaVu Sans Mono',consolas,'Courier New',monospace\"><span style=\"color: #7fbfbf; text-decoration-color: #7fbfbf\">[09/02/24 20:20:27] </span><span style=\"color: #000080; text-decoration-color: #000080\">INFO    </span> <span style=\"font-weight: bold\">[</span><span style=\"color: #008080; text-decoration-color: #008080; font-weight: bold\">5</span>/<span style=\"color: #008080; text-decoration-color: #008080; font-weight: bold\">10</span><span style=\"font-weight: bold\">]</span> Retrieving fixtures for ENG-Premier League <span style=\"color: #008080; text-decoration-color: #008080; font-weight: bold\">2425</span>                <a href=\"file://C:\\Users\\acer\\AppData\\Local\\Programs\\Python\\Python312\\Lib\\site-packages\\soccerdata\\whoscored.py\" target=\"_blank\"><span style=\"color: #7f7f7f; text-decoration-color: #7f7f7f\">whoscored.py</span></a><span style=\"color: #7f7f7f; text-decoration-color: #7f7f7f\">:</span><a href=\"file://C:\\Users\\acer\\AppData\\Local\\Programs\\Python\\Python312\\Lib\\site-packages\\soccerdata\\whoscored.py#400\" target=\"_blank\"><span style=\"color: #7f7f7f; text-decoration-color: #7f7f7f\">400</span></a>\n",
       "</pre>\n"
      ],
      "text/plain": [
       "\u001b[2;36m[09/02/24 20:20:27]\u001b[0m\u001b[2;36m \u001b[0m\u001b[34mINFO    \u001b[0m \u001b[1m[\u001b[0m\u001b[1;36m5\u001b[0m/\u001b[1;36m10\u001b[0m\u001b[1m]\u001b[0m Retrieving fixtures for ENG-Premier League \u001b[1;36m2425\u001b[0m                \u001b]8;id=768643;file://C:\\Users\\acer\\AppData\\Local\\Programs\\Python\\Python312\\Lib\\site-packages\\soccerdata\\whoscored.py\u001b\\\u001b[2mwhoscored.py\u001b[0m\u001b]8;;\u001b\\\u001b[2m:\u001b[0m\u001b]8;id=840087;file://C:\\Users\\acer\\AppData\\Local\\Programs\\Python\\Python312\\Lib\\site-packages\\soccerdata\\whoscored.py#400\u001b\\\u001b[2m400\u001b[0m\u001b]8;;\u001b\\\n"
      ]
     },
     "metadata": {},
     "output_type": "display_data"
    },
    {
     "data": {
      "text/html": [
       "<pre style=\"white-space:pre;overflow-x:auto;line-height:normal;font-family:Menlo,'DejaVu Sans Mono',consolas,'Courier New',monospace\"><span style=\"color: #7fbfbf; text-decoration-color: #7fbfbf\">[09/02/24 20:20:35] </span><span style=\"color: #000080; text-decoration-color: #000080\">INFO    </span> <span style=\"font-weight: bold\">[</span><span style=\"color: #008080; text-decoration-color: #008080; font-weight: bold\">6</span>/<span style=\"color: #008080; text-decoration-color: #008080; font-weight: bold\">10</span><span style=\"font-weight: bold\">]</span> Retrieving fixtures for ENG-Premier League <span style=\"color: #008080; text-decoration-color: #008080; font-weight: bold\">2425</span>                <a href=\"file://C:\\Users\\acer\\AppData\\Local\\Programs\\Python\\Python312\\Lib\\site-packages\\soccerdata\\whoscored.py\" target=\"_blank\"><span style=\"color: #7f7f7f; text-decoration-color: #7f7f7f\">whoscored.py</span></a><span style=\"color: #7f7f7f; text-decoration-color: #7f7f7f\">:</span><a href=\"file://C:\\Users\\acer\\AppData\\Local\\Programs\\Python\\Python312\\Lib\\site-packages\\soccerdata\\whoscored.py#400\" target=\"_blank\"><span style=\"color: #7f7f7f; text-decoration-color: #7f7f7f\">400</span></a>\n",
       "</pre>\n"
      ],
      "text/plain": [
       "\u001b[2;36m[09/02/24 20:20:35]\u001b[0m\u001b[2;36m \u001b[0m\u001b[34mINFO    \u001b[0m \u001b[1m[\u001b[0m\u001b[1;36m6\u001b[0m/\u001b[1;36m10\u001b[0m\u001b[1m]\u001b[0m Retrieving fixtures for ENG-Premier League \u001b[1;36m2425\u001b[0m                \u001b]8;id=786011;file://C:\\Users\\acer\\AppData\\Local\\Programs\\Python\\Python312\\Lib\\site-packages\\soccerdata\\whoscored.py\u001b\\\u001b[2mwhoscored.py\u001b[0m\u001b]8;;\u001b\\\u001b[2m:\u001b[0m\u001b]8;id=818729;file://C:\\Users\\acer\\AppData\\Local\\Programs\\Python\\Python312\\Lib\\site-packages\\soccerdata\\whoscored.py#400\u001b\\\u001b[2m400\u001b[0m\u001b]8;;\u001b\\\n"
      ]
     },
     "metadata": {},
     "output_type": "display_data"
    },
    {
     "data": {
      "text/html": [
       "<pre style=\"white-space:pre;overflow-x:auto;line-height:normal;font-family:Menlo,'DejaVu Sans Mono',consolas,'Courier New',monospace\"><span style=\"color: #7fbfbf; text-decoration-color: #7fbfbf\">[09/02/24 20:20:42] </span><span style=\"color: #000080; text-decoration-color: #000080\">INFO    </span> <span style=\"font-weight: bold\">[</span><span style=\"color: #008080; text-decoration-color: #008080; font-weight: bold\">7</span>/<span style=\"color: #008080; text-decoration-color: #008080; font-weight: bold\">10</span><span style=\"font-weight: bold\">]</span> Retrieving fixtures for ENG-Premier League <span style=\"color: #008080; text-decoration-color: #008080; font-weight: bold\">2425</span>                <a href=\"file://C:\\Users\\acer\\AppData\\Local\\Programs\\Python\\Python312\\Lib\\site-packages\\soccerdata\\whoscored.py\" target=\"_blank\"><span style=\"color: #7f7f7f; text-decoration-color: #7f7f7f\">whoscored.py</span></a><span style=\"color: #7f7f7f; text-decoration-color: #7f7f7f\">:</span><a href=\"file://C:\\Users\\acer\\AppData\\Local\\Programs\\Python\\Python312\\Lib\\site-packages\\soccerdata\\whoscored.py#400\" target=\"_blank\"><span style=\"color: #7f7f7f; text-decoration-color: #7f7f7f\">400</span></a>\n",
       "</pre>\n"
      ],
      "text/plain": [
       "\u001b[2;36m[09/02/24 20:20:42]\u001b[0m\u001b[2;36m \u001b[0m\u001b[34mINFO    \u001b[0m \u001b[1m[\u001b[0m\u001b[1;36m7\u001b[0m/\u001b[1;36m10\u001b[0m\u001b[1m]\u001b[0m Retrieving fixtures for ENG-Premier League \u001b[1;36m2425\u001b[0m                \u001b]8;id=108542;file://C:\\Users\\acer\\AppData\\Local\\Programs\\Python\\Python312\\Lib\\site-packages\\soccerdata\\whoscored.py\u001b\\\u001b[2mwhoscored.py\u001b[0m\u001b]8;;\u001b\\\u001b[2m:\u001b[0m\u001b]8;id=989033;file://C:\\Users\\acer\\AppData\\Local\\Programs\\Python\\Python312\\Lib\\site-packages\\soccerdata\\whoscored.py#400\u001b\\\u001b[2m400\u001b[0m\u001b]8;;\u001b\\\n"
      ]
     },
     "metadata": {},
     "output_type": "display_data"
    },
    {
     "data": {
      "text/html": [
       "<pre style=\"white-space:pre;overflow-x:auto;line-height:normal;font-family:Menlo,'DejaVu Sans Mono',consolas,'Courier New',monospace\"><span style=\"color: #7fbfbf; text-decoration-color: #7fbfbf\">[09/02/24 20:20:50] </span><span style=\"color: #000080; text-decoration-color: #000080\">INFO    </span> <span style=\"font-weight: bold\">[</span><span style=\"color: #008080; text-decoration-color: #008080; font-weight: bold\">8</span>/<span style=\"color: #008080; text-decoration-color: #008080; font-weight: bold\">10</span><span style=\"font-weight: bold\">]</span> Retrieving fixtures for ENG-Premier League <span style=\"color: #008080; text-decoration-color: #008080; font-weight: bold\">2425</span>                <a href=\"file://C:\\Users\\acer\\AppData\\Local\\Programs\\Python\\Python312\\Lib\\site-packages\\soccerdata\\whoscored.py\" target=\"_blank\"><span style=\"color: #7f7f7f; text-decoration-color: #7f7f7f\">whoscored.py</span></a><span style=\"color: #7f7f7f; text-decoration-color: #7f7f7f\">:</span><a href=\"file://C:\\Users\\acer\\AppData\\Local\\Programs\\Python\\Python312\\Lib\\site-packages\\soccerdata\\whoscored.py#400\" target=\"_blank\"><span style=\"color: #7f7f7f; text-decoration-color: #7f7f7f\">400</span></a>\n",
       "</pre>\n"
      ],
      "text/plain": [
       "\u001b[2;36m[09/02/24 20:20:50]\u001b[0m\u001b[2;36m \u001b[0m\u001b[34mINFO    \u001b[0m \u001b[1m[\u001b[0m\u001b[1;36m8\u001b[0m/\u001b[1;36m10\u001b[0m\u001b[1m]\u001b[0m Retrieving fixtures for ENG-Premier League \u001b[1;36m2425\u001b[0m                \u001b]8;id=894809;file://C:\\Users\\acer\\AppData\\Local\\Programs\\Python\\Python312\\Lib\\site-packages\\soccerdata\\whoscored.py\u001b\\\u001b[2mwhoscored.py\u001b[0m\u001b]8;;\u001b\\\u001b[2m:\u001b[0m\u001b]8;id=152872;file://C:\\Users\\acer\\AppData\\Local\\Programs\\Python\\Python312\\Lib\\site-packages\\soccerdata\\whoscored.py#400\u001b\\\u001b[2m400\u001b[0m\u001b]8;;\u001b\\\n"
      ]
     },
     "metadata": {},
     "output_type": "display_data"
    },
    {
     "data": {
      "text/html": [
       "<pre style=\"white-space:pre;overflow-x:auto;line-height:normal;font-family:Menlo,'DejaVu Sans Mono',consolas,'Courier New',monospace\"><span style=\"color: #7fbfbf; text-decoration-color: #7fbfbf\">[09/02/24 20:20:58] </span><span style=\"color: #000080; text-decoration-color: #000080\">INFO    </span> <span style=\"font-weight: bold\">[</span><span style=\"color: #008080; text-decoration-color: #008080; font-weight: bold\">9</span>/<span style=\"color: #008080; text-decoration-color: #008080; font-weight: bold\">10</span><span style=\"font-weight: bold\">]</span> Retrieving fixtures for ENG-Premier League <span style=\"color: #008080; text-decoration-color: #008080; font-weight: bold\">2425</span>                <a href=\"file://C:\\Users\\acer\\AppData\\Local\\Programs\\Python\\Python312\\Lib\\site-packages\\soccerdata\\whoscored.py\" target=\"_blank\"><span style=\"color: #7f7f7f; text-decoration-color: #7f7f7f\">whoscored.py</span></a><span style=\"color: #7f7f7f; text-decoration-color: #7f7f7f\">:</span><a href=\"file://C:\\Users\\acer\\AppData\\Local\\Programs\\Python\\Python312\\Lib\\site-packages\\soccerdata\\whoscored.py#400\" target=\"_blank\"><span style=\"color: #7f7f7f; text-decoration-color: #7f7f7f\">400</span></a>\n",
       "</pre>\n"
      ],
      "text/plain": [
       "\u001b[2;36m[09/02/24 20:20:58]\u001b[0m\u001b[2;36m \u001b[0m\u001b[34mINFO    \u001b[0m \u001b[1m[\u001b[0m\u001b[1;36m9\u001b[0m/\u001b[1;36m10\u001b[0m\u001b[1m]\u001b[0m Retrieving fixtures for ENG-Premier League \u001b[1;36m2425\u001b[0m                \u001b]8;id=609444;file://C:\\Users\\acer\\AppData\\Local\\Programs\\Python\\Python312\\Lib\\site-packages\\soccerdata\\whoscored.py\u001b\\\u001b[2mwhoscored.py\u001b[0m\u001b]8;;\u001b\\\u001b[2m:\u001b[0m\u001b]8;id=646346;file://C:\\Users\\acer\\AppData\\Local\\Programs\\Python\\Python312\\Lib\\site-packages\\soccerdata\\whoscored.py#400\u001b\\\u001b[2m400\u001b[0m\u001b]8;;\u001b\\\n"
      ]
     },
     "metadata": {},
     "output_type": "display_data"
    },
    {
     "data": {
      "text/html": [
       "<pre style=\"white-space:pre;overflow-x:auto;line-height:normal;font-family:Menlo,'DejaVu Sans Mono',consolas,'Courier New',monospace\"><span style=\"color: #7fbfbf; text-decoration-color: #7fbfbf\">[09/02/24 20:21:04] </span><span style=\"color: #000080; text-decoration-color: #000080\">INFO    </span> <span style=\"font-weight: bold\">[</span><span style=\"color: #008080; text-decoration-color: #008080; font-weight: bold\">10</span>/<span style=\"color: #008080; text-decoration-color: #008080; font-weight: bold\">10</span><span style=\"font-weight: bold\">]</span> Retrieving fixtures for ENG-Premier League <span style=\"color: #008080; text-decoration-color: #008080; font-weight: bold\">2425</span>               <a href=\"file://C:\\Users\\acer\\AppData\\Local\\Programs\\Python\\Python312\\Lib\\site-packages\\soccerdata\\whoscored.py\" target=\"_blank\"><span style=\"color: #7f7f7f; text-decoration-color: #7f7f7f\">whoscored.py</span></a><span style=\"color: #7f7f7f; text-decoration-color: #7f7f7f\">:</span><a href=\"file://C:\\Users\\acer\\AppData\\Local\\Programs\\Python\\Python312\\Lib\\site-packages\\soccerdata\\whoscored.py#400\" target=\"_blank\"><span style=\"color: #7f7f7f; text-decoration-color: #7f7f7f\">400</span></a>\n",
       "</pre>\n"
      ],
      "text/plain": [
       "\u001b[2;36m[09/02/24 20:21:04]\u001b[0m\u001b[2;36m \u001b[0m\u001b[34mINFO    \u001b[0m \u001b[1m[\u001b[0m\u001b[1;36m10\u001b[0m/\u001b[1;36m10\u001b[0m\u001b[1m]\u001b[0m Retrieving fixtures for ENG-Premier League \u001b[1;36m2425\u001b[0m               \u001b]8;id=134363;file://C:\\Users\\acer\\AppData\\Local\\Programs\\Python\\Python312\\Lib\\site-packages\\soccerdata\\whoscored.py\u001b\\\u001b[2mwhoscored.py\u001b[0m\u001b]8;;\u001b\\\u001b[2m:\u001b[0m\u001b]8;id=806123;file://C:\\Users\\acer\\AppData\\Local\\Programs\\Python\\Python312\\Lib\\site-packages\\soccerdata\\whoscored.py#400\u001b\\\u001b[2m400\u001b[0m\u001b]8;;\u001b\\\n"
      ]
     },
     "metadata": {},
     "output_type": "display_data"
    },
    {
     "name": "stderr",
     "output_type": "stream",
     "text": [
      "C:\\Users\\acer\\AppData\\Local\\Programs\\Python\\Python312\\Lib\\site-packages\\soccerdata\\whoscored.py:424: FutureWarning: The behavior of DataFrame concatenation with empty or all-NA entries is deprecated. In a future version, this will no longer exclude empty or all-NA columns when determining the result dtypes. To retain the old behavior, exclude the relevant entries before the concat operation.\n",
      "  pd.concat(all_schedules)\n"
     ]
    },
    {
     "data": {
      "text/html": [
       "<pre style=\"white-space:pre;overflow-x:auto;line-height:normal;font-family:Menlo,'DejaVu Sans Mono',consolas,'Courier New',monospace\"><span style=\"color: #7fbfbf; text-decoration-color: #7fbfbf\">[09/02/24 20:21:14] </span><span style=\"color: #000080; text-decoration-color: #000080\">INFO    </span> <span style=\"font-weight: bold\">[</span><span style=\"color: #008080; text-decoration-color: #008080; font-weight: bold\">1</span>/<span style=\"color: #008080; text-decoration-color: #008080; font-weight: bold\">1</span><span style=\"font-weight: bold\">]</span> Retrieving game with <span style=\"color: #808000; text-decoration-color: #808000\">id</span>=<span style=\"color: #008080; text-decoration-color: #008080; font-weight: bold\">1821050</span>                                 <a href=\"file://C:\\Users\\acer\\AppData\\Local\\Programs\\Python\\Python312\\Lib\\site-packages\\soccerdata\\whoscored.py\" target=\"_blank\"><span style=\"color: #7f7f7f; text-decoration-color: #7f7f7f\">whoscored.py</span></a><span style=\"color: #7f7f7f; text-decoration-color: #7f7f7f\">:</span><a href=\"file://C:\\Users\\acer\\AppData\\Local\\Programs\\Python\\Python312\\Lib\\site-packages\\soccerdata\\whoscored.py#692\" target=\"_blank\"><span style=\"color: #7f7f7f; text-decoration-color: #7f7f7f\">692</span></a>\n",
       "</pre>\n"
      ],
      "text/plain": [
       "\u001b[2;36m[09/02/24 20:21:14]\u001b[0m\u001b[2;36m \u001b[0m\u001b[34mINFO    \u001b[0m \u001b[1m[\u001b[0m\u001b[1;36m1\u001b[0m/\u001b[1;36m1\u001b[0m\u001b[1m]\u001b[0m Retrieving game with \u001b[33mid\u001b[0m=\u001b[1;36m1821050\u001b[0m                                 \u001b]8;id=948588;file://C:\\Users\\acer\\AppData\\Local\\Programs\\Python\\Python312\\Lib\\site-packages\\soccerdata\\whoscored.py\u001b\\\u001b[2mwhoscored.py\u001b[0m\u001b]8;;\u001b\\\u001b[2m:\u001b[0m\u001b]8;id=915030;file://C:\\Users\\acer\\AppData\\Local\\Programs\\Python\\Python312\\Lib\\site-packages\\soccerdata\\whoscored.py#692\u001b\\\u001b[2m692\u001b[0m\u001b]8;;\u001b\\\n"
      ]
     },
     "metadata": {},
     "output_type": "display_data"
    },
    {
     "data": {
      "text/html": [
       "<pre style=\"white-space:pre;overflow-x:auto;line-height:normal;font-family:Menlo,'DejaVu Sans Mono',consolas,'Courier New',monospace\"><span style=\"color: #7fbfbf; text-decoration-color: #7fbfbf\">[09/02/24 20:21:24] </span><span style=\"color: #000080; text-decoration-color: #000080\">INFO    </span> Retrieving calendar for ENG-Premier League <span style=\"color: #008080; text-decoration-color: #008080; font-weight: bold\">2425</span>                       <a href=\"file://C:\\Users\\acer\\AppData\\Local\\Programs\\Python\\Python312\\Lib\\site-packages\\soccerdata\\whoscored.py\" target=\"_blank\"><span style=\"color: #7f7f7f; text-decoration-color: #7f7f7f\">whoscored.py</span></a><span style=\"color: #7f7f7f; text-decoration-color: #7f7f7f\">:</span><a href=\"file://C:\\Users\\acer\\AppData\\Local\\Programs\\Python\\Python312\\Lib\\site-packages\\soccerdata\\whoscored.py#371\" target=\"_blank\"><span style=\"color: #7f7f7f; text-decoration-color: #7f7f7f\">371</span></a>\n",
       "</pre>\n"
      ],
      "text/plain": [
       "\u001b[2;36m[09/02/24 20:21:24]\u001b[0m\u001b[2;36m \u001b[0m\u001b[34mINFO    \u001b[0m Retrieving calendar for ENG-Premier League \u001b[1;36m2425\u001b[0m                       \u001b]8;id=248262;file://C:\\Users\\acer\\AppData\\Local\\Programs\\Python\\Python312\\Lib\\site-packages\\soccerdata\\whoscored.py\u001b\\\u001b[2mwhoscored.py\u001b[0m\u001b]8;;\u001b\\\u001b[2m:\u001b[0m\u001b]8;id=420730;file://C:\\Users\\acer\\AppData\\Local\\Programs\\Python\\Python312\\Lib\\site-packages\\soccerdata\\whoscored.py#371\u001b\\\u001b[2m371\u001b[0m\u001b]8;;\u001b\\\n"
      ]
     },
     "metadata": {},
     "output_type": "display_data"
    },
    {
     "data": {
      "text/html": [
       "<pre style=\"white-space:pre;overflow-x:auto;line-height:normal;font-family:Menlo,'DejaVu Sans Mono',consolas,'Courier New',monospace\"><span style=\"color: #7fbfbf; text-decoration-color: #7fbfbf\">[09/02/24 20:21:37] </span><span style=\"color: #000080; text-decoration-color: #000080\">INFO    </span> <span style=\"font-weight: bold\">[</span><span style=\"color: #008080; text-decoration-color: #008080; font-weight: bold\">1</span>/<span style=\"color: #008080; text-decoration-color: #008080; font-weight: bold\">10</span><span style=\"font-weight: bold\">]</span> Retrieving fixtures for ENG-Premier League <span style=\"color: #008080; text-decoration-color: #008080; font-weight: bold\">2425</span>                <a href=\"file://C:\\Users\\acer\\AppData\\Local\\Programs\\Python\\Python312\\Lib\\site-packages\\soccerdata\\whoscored.py\" target=\"_blank\"><span style=\"color: #7f7f7f; text-decoration-color: #7f7f7f\">whoscored.py</span></a><span style=\"color: #7f7f7f; text-decoration-color: #7f7f7f\">:</span><a href=\"file://C:\\Users\\acer\\AppData\\Local\\Programs\\Python\\Python312\\Lib\\site-packages\\soccerdata\\whoscored.py#400\" target=\"_blank\"><span style=\"color: #7f7f7f; text-decoration-color: #7f7f7f\">400</span></a>\n",
       "</pre>\n"
      ],
      "text/plain": [
       "\u001b[2;36m[09/02/24 20:21:37]\u001b[0m\u001b[2;36m \u001b[0m\u001b[34mINFO    \u001b[0m \u001b[1m[\u001b[0m\u001b[1;36m1\u001b[0m/\u001b[1;36m10\u001b[0m\u001b[1m]\u001b[0m Retrieving fixtures for ENG-Premier League \u001b[1;36m2425\u001b[0m                \u001b]8;id=15135;file://C:\\Users\\acer\\AppData\\Local\\Programs\\Python\\Python312\\Lib\\site-packages\\soccerdata\\whoscored.py\u001b\\\u001b[2mwhoscored.py\u001b[0m\u001b]8;;\u001b\\\u001b[2m:\u001b[0m\u001b]8;id=969353;file://C:\\Users\\acer\\AppData\\Local\\Programs\\Python\\Python312\\Lib\\site-packages\\soccerdata\\whoscored.py#400\u001b\\\u001b[2m400\u001b[0m\u001b]8;;\u001b\\\n"
      ]
     },
     "metadata": {},
     "output_type": "display_data"
    },
    {
     "data": {
      "text/html": [
       "<pre style=\"white-space:pre;overflow-x:auto;line-height:normal;font-family:Menlo,'DejaVu Sans Mono',consolas,'Courier New',monospace\"><span style=\"color: #7fbfbf; text-decoration-color: #7fbfbf\">[09/02/24 20:21:47] </span><span style=\"color: #000080; text-decoration-color: #000080\">INFO    </span> <span style=\"font-weight: bold\">[</span><span style=\"color: #008080; text-decoration-color: #008080; font-weight: bold\">2</span>/<span style=\"color: #008080; text-decoration-color: #008080; font-weight: bold\">10</span><span style=\"font-weight: bold\">]</span> Retrieving fixtures for ENG-Premier League <span style=\"color: #008080; text-decoration-color: #008080; font-weight: bold\">2425</span>                <a href=\"file://C:\\Users\\acer\\AppData\\Local\\Programs\\Python\\Python312\\Lib\\site-packages\\soccerdata\\whoscored.py\" target=\"_blank\"><span style=\"color: #7f7f7f; text-decoration-color: #7f7f7f\">whoscored.py</span></a><span style=\"color: #7f7f7f; text-decoration-color: #7f7f7f\">:</span><a href=\"file://C:\\Users\\acer\\AppData\\Local\\Programs\\Python\\Python312\\Lib\\site-packages\\soccerdata\\whoscored.py#400\" target=\"_blank\"><span style=\"color: #7f7f7f; text-decoration-color: #7f7f7f\">400</span></a>\n",
       "</pre>\n"
      ],
      "text/plain": [
       "\u001b[2;36m[09/02/24 20:21:47]\u001b[0m\u001b[2;36m \u001b[0m\u001b[34mINFO    \u001b[0m \u001b[1m[\u001b[0m\u001b[1;36m2\u001b[0m/\u001b[1;36m10\u001b[0m\u001b[1m]\u001b[0m Retrieving fixtures for ENG-Premier League \u001b[1;36m2425\u001b[0m                \u001b]8;id=957894;file://C:\\Users\\acer\\AppData\\Local\\Programs\\Python\\Python312\\Lib\\site-packages\\soccerdata\\whoscored.py\u001b\\\u001b[2mwhoscored.py\u001b[0m\u001b]8;;\u001b\\\u001b[2m:\u001b[0m\u001b]8;id=46437;file://C:\\Users\\acer\\AppData\\Local\\Programs\\Python\\Python312\\Lib\\site-packages\\soccerdata\\whoscored.py#400\u001b\\\u001b[2m400\u001b[0m\u001b]8;;\u001b\\\n"
      ]
     },
     "metadata": {},
     "output_type": "display_data"
    },
    {
     "data": {
      "text/html": [
       "<pre style=\"white-space:pre;overflow-x:auto;line-height:normal;font-family:Menlo,'DejaVu Sans Mono',consolas,'Courier New',monospace\"><span style=\"color: #7fbfbf; text-decoration-color: #7fbfbf\">[09/02/24 20:21:52] </span><span style=\"color: #000080; text-decoration-color: #000080\">INFO    </span> <span style=\"font-weight: bold\">[</span><span style=\"color: #008080; text-decoration-color: #008080; font-weight: bold\">3</span>/<span style=\"color: #008080; text-decoration-color: #008080; font-weight: bold\">10</span><span style=\"font-weight: bold\">]</span> Retrieving fixtures for ENG-Premier League <span style=\"color: #008080; text-decoration-color: #008080; font-weight: bold\">2425</span>                <a href=\"file://C:\\Users\\acer\\AppData\\Local\\Programs\\Python\\Python312\\Lib\\site-packages\\soccerdata\\whoscored.py\" target=\"_blank\"><span style=\"color: #7f7f7f; text-decoration-color: #7f7f7f\">whoscored.py</span></a><span style=\"color: #7f7f7f; text-decoration-color: #7f7f7f\">:</span><a href=\"file://C:\\Users\\acer\\AppData\\Local\\Programs\\Python\\Python312\\Lib\\site-packages\\soccerdata\\whoscored.py#400\" target=\"_blank\"><span style=\"color: #7f7f7f; text-decoration-color: #7f7f7f\">400</span></a>\n",
       "</pre>\n"
      ],
      "text/plain": [
       "\u001b[2;36m[09/02/24 20:21:52]\u001b[0m\u001b[2;36m \u001b[0m\u001b[34mINFO    \u001b[0m \u001b[1m[\u001b[0m\u001b[1;36m3\u001b[0m/\u001b[1;36m10\u001b[0m\u001b[1m]\u001b[0m Retrieving fixtures for ENG-Premier League \u001b[1;36m2425\u001b[0m                \u001b]8;id=85121;file://C:\\Users\\acer\\AppData\\Local\\Programs\\Python\\Python312\\Lib\\site-packages\\soccerdata\\whoscored.py\u001b\\\u001b[2mwhoscored.py\u001b[0m\u001b]8;;\u001b\\\u001b[2m:\u001b[0m\u001b]8;id=182531;file://C:\\Users\\acer\\AppData\\Local\\Programs\\Python\\Python312\\Lib\\site-packages\\soccerdata\\whoscored.py#400\u001b\\\u001b[2m400\u001b[0m\u001b]8;;\u001b\\\n"
      ]
     },
     "metadata": {},
     "output_type": "display_data"
    },
    {
     "data": {
      "text/html": [
       "<pre style=\"white-space:pre;overflow-x:auto;line-height:normal;font-family:Menlo,'DejaVu Sans Mono',consolas,'Courier New',monospace\"><span style=\"color: #7fbfbf; text-decoration-color: #7fbfbf\">[09/02/24 20:22:00] </span><span style=\"color: #000080; text-decoration-color: #000080\">INFO    </span> <span style=\"font-weight: bold\">[</span><span style=\"color: #008080; text-decoration-color: #008080; font-weight: bold\">4</span>/<span style=\"color: #008080; text-decoration-color: #008080; font-weight: bold\">10</span><span style=\"font-weight: bold\">]</span> Retrieving fixtures for ENG-Premier League <span style=\"color: #008080; text-decoration-color: #008080; font-weight: bold\">2425</span>                <a href=\"file://C:\\Users\\acer\\AppData\\Local\\Programs\\Python\\Python312\\Lib\\site-packages\\soccerdata\\whoscored.py\" target=\"_blank\"><span style=\"color: #7f7f7f; text-decoration-color: #7f7f7f\">whoscored.py</span></a><span style=\"color: #7f7f7f; text-decoration-color: #7f7f7f\">:</span><a href=\"file://C:\\Users\\acer\\AppData\\Local\\Programs\\Python\\Python312\\Lib\\site-packages\\soccerdata\\whoscored.py#400\" target=\"_blank\"><span style=\"color: #7f7f7f; text-decoration-color: #7f7f7f\">400</span></a>\n",
       "</pre>\n"
      ],
      "text/plain": [
       "\u001b[2;36m[09/02/24 20:22:00]\u001b[0m\u001b[2;36m \u001b[0m\u001b[34mINFO    \u001b[0m \u001b[1m[\u001b[0m\u001b[1;36m4\u001b[0m/\u001b[1;36m10\u001b[0m\u001b[1m]\u001b[0m Retrieving fixtures for ENG-Premier League \u001b[1;36m2425\u001b[0m                \u001b]8;id=98386;file://C:\\Users\\acer\\AppData\\Local\\Programs\\Python\\Python312\\Lib\\site-packages\\soccerdata\\whoscored.py\u001b\\\u001b[2mwhoscored.py\u001b[0m\u001b]8;;\u001b\\\u001b[2m:\u001b[0m\u001b]8;id=838930;file://C:\\Users\\acer\\AppData\\Local\\Programs\\Python\\Python312\\Lib\\site-packages\\soccerdata\\whoscored.py#400\u001b\\\u001b[2m400\u001b[0m\u001b]8;;\u001b\\\n"
      ]
     },
     "metadata": {},
     "output_type": "display_data"
    },
    {
     "data": {
      "text/html": [
       "<pre style=\"white-space:pre;overflow-x:auto;line-height:normal;font-family:Menlo,'DejaVu Sans Mono',consolas,'Courier New',monospace\"><span style=\"color: #7fbfbf; text-decoration-color: #7fbfbf\">[09/02/24 20:22:06] </span><span style=\"color: #000080; text-decoration-color: #000080\">INFO    </span> <span style=\"font-weight: bold\">[</span><span style=\"color: #008080; text-decoration-color: #008080; font-weight: bold\">5</span>/<span style=\"color: #008080; text-decoration-color: #008080; font-weight: bold\">10</span><span style=\"font-weight: bold\">]</span> Retrieving fixtures for ENG-Premier League <span style=\"color: #008080; text-decoration-color: #008080; font-weight: bold\">2425</span>                <a href=\"file://C:\\Users\\acer\\AppData\\Local\\Programs\\Python\\Python312\\Lib\\site-packages\\soccerdata\\whoscored.py\" target=\"_blank\"><span style=\"color: #7f7f7f; text-decoration-color: #7f7f7f\">whoscored.py</span></a><span style=\"color: #7f7f7f; text-decoration-color: #7f7f7f\">:</span><a href=\"file://C:\\Users\\acer\\AppData\\Local\\Programs\\Python\\Python312\\Lib\\site-packages\\soccerdata\\whoscored.py#400\" target=\"_blank\"><span style=\"color: #7f7f7f; text-decoration-color: #7f7f7f\">400</span></a>\n",
       "</pre>\n"
      ],
      "text/plain": [
       "\u001b[2;36m[09/02/24 20:22:06]\u001b[0m\u001b[2;36m \u001b[0m\u001b[34mINFO    \u001b[0m \u001b[1m[\u001b[0m\u001b[1;36m5\u001b[0m/\u001b[1;36m10\u001b[0m\u001b[1m]\u001b[0m Retrieving fixtures for ENG-Premier League \u001b[1;36m2425\u001b[0m                \u001b]8;id=102691;file://C:\\Users\\acer\\AppData\\Local\\Programs\\Python\\Python312\\Lib\\site-packages\\soccerdata\\whoscored.py\u001b\\\u001b[2mwhoscored.py\u001b[0m\u001b]8;;\u001b\\\u001b[2m:\u001b[0m\u001b]8;id=55124;file://C:\\Users\\acer\\AppData\\Local\\Programs\\Python\\Python312\\Lib\\site-packages\\soccerdata\\whoscored.py#400\u001b\\\u001b[2m400\u001b[0m\u001b]8;;\u001b\\\n"
      ]
     },
     "metadata": {},
     "output_type": "display_data"
    },
    {
     "data": {
      "text/html": [
       "<pre style=\"white-space:pre;overflow-x:auto;line-height:normal;font-family:Menlo,'DejaVu Sans Mono',consolas,'Courier New',monospace\"><span style=\"color: #7fbfbf; text-decoration-color: #7fbfbf\">[09/02/24 20:22:15] </span><span style=\"color: #000080; text-decoration-color: #000080\">INFO    </span> <span style=\"font-weight: bold\">[</span><span style=\"color: #008080; text-decoration-color: #008080; font-weight: bold\">6</span>/<span style=\"color: #008080; text-decoration-color: #008080; font-weight: bold\">10</span><span style=\"font-weight: bold\">]</span> Retrieving fixtures for ENG-Premier League <span style=\"color: #008080; text-decoration-color: #008080; font-weight: bold\">2425</span>                <a href=\"file://C:\\Users\\acer\\AppData\\Local\\Programs\\Python\\Python312\\Lib\\site-packages\\soccerdata\\whoscored.py\" target=\"_blank\"><span style=\"color: #7f7f7f; text-decoration-color: #7f7f7f\">whoscored.py</span></a><span style=\"color: #7f7f7f; text-decoration-color: #7f7f7f\">:</span><a href=\"file://C:\\Users\\acer\\AppData\\Local\\Programs\\Python\\Python312\\Lib\\site-packages\\soccerdata\\whoscored.py#400\" target=\"_blank\"><span style=\"color: #7f7f7f; text-decoration-color: #7f7f7f\">400</span></a>\n",
       "</pre>\n"
      ],
      "text/plain": [
       "\u001b[2;36m[09/02/24 20:22:15]\u001b[0m\u001b[2;36m \u001b[0m\u001b[34mINFO    \u001b[0m \u001b[1m[\u001b[0m\u001b[1;36m6\u001b[0m/\u001b[1;36m10\u001b[0m\u001b[1m]\u001b[0m Retrieving fixtures for ENG-Premier League \u001b[1;36m2425\u001b[0m                \u001b]8;id=632766;file://C:\\Users\\acer\\AppData\\Local\\Programs\\Python\\Python312\\Lib\\site-packages\\soccerdata\\whoscored.py\u001b\\\u001b[2mwhoscored.py\u001b[0m\u001b]8;;\u001b\\\u001b[2m:\u001b[0m\u001b]8;id=439898;file://C:\\Users\\acer\\AppData\\Local\\Programs\\Python\\Python312\\Lib\\site-packages\\soccerdata\\whoscored.py#400\u001b\\\u001b[2m400\u001b[0m\u001b]8;;\u001b\\\n"
      ]
     },
     "metadata": {},
     "output_type": "display_data"
    },
    {
     "data": {
      "text/html": [
       "<pre style=\"white-space:pre;overflow-x:auto;line-height:normal;font-family:Menlo,'DejaVu Sans Mono',consolas,'Courier New',monospace\"><span style=\"color: #7fbfbf; text-decoration-color: #7fbfbf\">[09/02/24 20:22:22] </span><span style=\"color: #000080; text-decoration-color: #000080\">INFO    </span> <span style=\"font-weight: bold\">[</span><span style=\"color: #008080; text-decoration-color: #008080; font-weight: bold\">7</span>/<span style=\"color: #008080; text-decoration-color: #008080; font-weight: bold\">10</span><span style=\"font-weight: bold\">]</span> Retrieving fixtures for ENG-Premier League <span style=\"color: #008080; text-decoration-color: #008080; font-weight: bold\">2425</span>                <a href=\"file://C:\\Users\\acer\\AppData\\Local\\Programs\\Python\\Python312\\Lib\\site-packages\\soccerdata\\whoscored.py\" target=\"_blank\"><span style=\"color: #7f7f7f; text-decoration-color: #7f7f7f\">whoscored.py</span></a><span style=\"color: #7f7f7f; text-decoration-color: #7f7f7f\">:</span><a href=\"file://C:\\Users\\acer\\AppData\\Local\\Programs\\Python\\Python312\\Lib\\site-packages\\soccerdata\\whoscored.py#400\" target=\"_blank\"><span style=\"color: #7f7f7f; text-decoration-color: #7f7f7f\">400</span></a>\n",
       "</pre>\n"
      ],
      "text/plain": [
       "\u001b[2;36m[09/02/24 20:22:22]\u001b[0m\u001b[2;36m \u001b[0m\u001b[34mINFO    \u001b[0m \u001b[1m[\u001b[0m\u001b[1;36m7\u001b[0m/\u001b[1;36m10\u001b[0m\u001b[1m]\u001b[0m Retrieving fixtures for ENG-Premier League \u001b[1;36m2425\u001b[0m                \u001b]8;id=740199;file://C:\\Users\\acer\\AppData\\Local\\Programs\\Python\\Python312\\Lib\\site-packages\\soccerdata\\whoscored.py\u001b\\\u001b[2mwhoscored.py\u001b[0m\u001b]8;;\u001b\\\u001b[2m:\u001b[0m\u001b]8;id=971252;file://C:\\Users\\acer\\AppData\\Local\\Programs\\Python\\Python312\\Lib\\site-packages\\soccerdata\\whoscored.py#400\u001b\\\u001b[2m400\u001b[0m\u001b]8;;\u001b\\\n"
      ]
     },
     "metadata": {},
     "output_type": "display_data"
    },
    {
     "data": {
      "text/html": [
       "<pre style=\"white-space:pre;overflow-x:auto;line-height:normal;font-family:Menlo,'DejaVu Sans Mono',consolas,'Courier New',monospace\"><span style=\"color: #7fbfbf; text-decoration-color: #7fbfbf\">[09/02/24 20:22:28] </span><span style=\"color: #000080; text-decoration-color: #000080\">INFO    </span> <span style=\"font-weight: bold\">[</span><span style=\"color: #008080; text-decoration-color: #008080; font-weight: bold\">8</span>/<span style=\"color: #008080; text-decoration-color: #008080; font-weight: bold\">10</span><span style=\"font-weight: bold\">]</span> Retrieving fixtures for ENG-Premier League <span style=\"color: #008080; text-decoration-color: #008080; font-weight: bold\">2425</span>                <a href=\"file://C:\\Users\\acer\\AppData\\Local\\Programs\\Python\\Python312\\Lib\\site-packages\\soccerdata\\whoscored.py\" target=\"_blank\"><span style=\"color: #7f7f7f; text-decoration-color: #7f7f7f\">whoscored.py</span></a><span style=\"color: #7f7f7f; text-decoration-color: #7f7f7f\">:</span><a href=\"file://C:\\Users\\acer\\AppData\\Local\\Programs\\Python\\Python312\\Lib\\site-packages\\soccerdata\\whoscored.py#400\" target=\"_blank\"><span style=\"color: #7f7f7f; text-decoration-color: #7f7f7f\">400</span></a>\n",
       "</pre>\n"
      ],
      "text/plain": [
       "\u001b[2;36m[09/02/24 20:22:28]\u001b[0m\u001b[2;36m \u001b[0m\u001b[34mINFO    \u001b[0m \u001b[1m[\u001b[0m\u001b[1;36m8\u001b[0m/\u001b[1;36m10\u001b[0m\u001b[1m]\u001b[0m Retrieving fixtures for ENG-Premier League \u001b[1;36m2425\u001b[0m                \u001b]8;id=602023;file://C:\\Users\\acer\\AppData\\Local\\Programs\\Python\\Python312\\Lib\\site-packages\\soccerdata\\whoscored.py\u001b\\\u001b[2mwhoscored.py\u001b[0m\u001b]8;;\u001b\\\u001b[2m:\u001b[0m\u001b]8;id=391489;file://C:\\Users\\acer\\AppData\\Local\\Programs\\Python\\Python312\\Lib\\site-packages\\soccerdata\\whoscored.py#400\u001b\\\u001b[2m400\u001b[0m\u001b]8;;\u001b\\\n"
      ]
     },
     "metadata": {},
     "output_type": "display_data"
    },
    {
     "data": {
      "text/html": [
       "<pre style=\"white-space:pre;overflow-x:auto;line-height:normal;font-family:Menlo,'DejaVu Sans Mono',consolas,'Courier New',monospace\"><span style=\"color: #7fbfbf; text-decoration-color: #7fbfbf\">[09/02/24 20:22:36] </span><span style=\"color: #000080; text-decoration-color: #000080\">INFO    </span> <span style=\"font-weight: bold\">[</span><span style=\"color: #008080; text-decoration-color: #008080; font-weight: bold\">9</span>/<span style=\"color: #008080; text-decoration-color: #008080; font-weight: bold\">10</span><span style=\"font-weight: bold\">]</span> Retrieving fixtures for ENG-Premier League <span style=\"color: #008080; text-decoration-color: #008080; font-weight: bold\">2425</span>                <a href=\"file://C:\\Users\\acer\\AppData\\Local\\Programs\\Python\\Python312\\Lib\\site-packages\\soccerdata\\whoscored.py\" target=\"_blank\"><span style=\"color: #7f7f7f; text-decoration-color: #7f7f7f\">whoscored.py</span></a><span style=\"color: #7f7f7f; text-decoration-color: #7f7f7f\">:</span><a href=\"file://C:\\Users\\acer\\AppData\\Local\\Programs\\Python\\Python312\\Lib\\site-packages\\soccerdata\\whoscored.py#400\" target=\"_blank\"><span style=\"color: #7f7f7f; text-decoration-color: #7f7f7f\">400</span></a>\n",
       "</pre>\n"
      ],
      "text/plain": [
       "\u001b[2;36m[09/02/24 20:22:36]\u001b[0m\u001b[2;36m \u001b[0m\u001b[34mINFO    \u001b[0m \u001b[1m[\u001b[0m\u001b[1;36m9\u001b[0m/\u001b[1;36m10\u001b[0m\u001b[1m]\u001b[0m Retrieving fixtures for ENG-Premier League \u001b[1;36m2425\u001b[0m                \u001b]8;id=371855;file://C:\\Users\\acer\\AppData\\Local\\Programs\\Python\\Python312\\Lib\\site-packages\\soccerdata\\whoscored.py\u001b\\\u001b[2mwhoscored.py\u001b[0m\u001b]8;;\u001b\\\u001b[2m:\u001b[0m\u001b]8;id=333569;file://C:\\Users\\acer\\AppData\\Local\\Programs\\Python\\Python312\\Lib\\site-packages\\soccerdata\\whoscored.py#400\u001b\\\u001b[2m400\u001b[0m\u001b]8;;\u001b\\\n"
      ]
     },
     "metadata": {},
     "output_type": "display_data"
    },
    {
     "data": {
      "text/html": [
       "<pre style=\"white-space:pre;overflow-x:auto;line-height:normal;font-family:Menlo,'DejaVu Sans Mono',consolas,'Courier New',monospace\"><span style=\"color: #7fbfbf; text-decoration-color: #7fbfbf\">[09/02/24 20:22:46] </span><span style=\"color: #000080; text-decoration-color: #000080\">INFO    </span> <span style=\"font-weight: bold\">[</span><span style=\"color: #008080; text-decoration-color: #008080; font-weight: bold\">10</span>/<span style=\"color: #008080; text-decoration-color: #008080; font-weight: bold\">10</span><span style=\"font-weight: bold\">]</span> Retrieving fixtures for ENG-Premier League <span style=\"color: #008080; text-decoration-color: #008080; font-weight: bold\">2425</span>               <a href=\"file://C:\\Users\\acer\\AppData\\Local\\Programs\\Python\\Python312\\Lib\\site-packages\\soccerdata\\whoscored.py\" target=\"_blank\"><span style=\"color: #7f7f7f; text-decoration-color: #7f7f7f\">whoscored.py</span></a><span style=\"color: #7f7f7f; text-decoration-color: #7f7f7f\">:</span><a href=\"file://C:\\Users\\acer\\AppData\\Local\\Programs\\Python\\Python312\\Lib\\site-packages\\soccerdata\\whoscored.py#400\" target=\"_blank\"><span style=\"color: #7f7f7f; text-decoration-color: #7f7f7f\">400</span></a>\n",
       "</pre>\n"
      ],
      "text/plain": [
       "\u001b[2;36m[09/02/24 20:22:46]\u001b[0m\u001b[2;36m \u001b[0m\u001b[34mINFO    \u001b[0m \u001b[1m[\u001b[0m\u001b[1;36m10\u001b[0m/\u001b[1;36m10\u001b[0m\u001b[1m]\u001b[0m Retrieving fixtures for ENG-Premier League \u001b[1;36m2425\u001b[0m               \u001b]8;id=471970;file://C:\\Users\\acer\\AppData\\Local\\Programs\\Python\\Python312\\Lib\\site-packages\\soccerdata\\whoscored.py\u001b\\\u001b[2mwhoscored.py\u001b[0m\u001b]8;;\u001b\\\u001b[2m:\u001b[0m\u001b]8;id=972536;file://C:\\Users\\acer\\AppData\\Local\\Programs\\Python\\Python312\\Lib\\site-packages\\soccerdata\\whoscored.py#400\u001b\\\u001b[2m400\u001b[0m\u001b]8;;\u001b\\\n"
      ]
     },
     "metadata": {},
     "output_type": "display_data"
    },
    {
     "name": "stderr",
     "output_type": "stream",
     "text": [
      "C:\\Users\\acer\\AppData\\Local\\Programs\\Python\\Python312\\Lib\\site-packages\\soccerdata\\whoscored.py:424: FutureWarning: The behavior of DataFrame concatenation with empty or all-NA entries is deprecated. In a future version, this will no longer exclude empty or all-NA columns when determining the result dtypes. To retain the old behavior, exclude the relevant entries before the concat operation.\n",
      "  pd.concat(all_schedules)\n"
     ]
    },
    {
     "data": {
      "text/html": [
       "<pre style=\"white-space:pre;overflow-x:auto;line-height:normal;font-family:Menlo,'DejaVu Sans Mono',consolas,'Courier New',monospace\"><span style=\"color: #7fbfbf; text-decoration-color: #7fbfbf\">[09/02/24 20:22:52] </span><span style=\"color: #000080; text-decoration-color: #000080\">INFO    </span> <span style=\"font-weight: bold\">[</span><span style=\"color: #008080; text-decoration-color: #008080; font-weight: bold\">1</span>/<span style=\"color: #008080; text-decoration-color: #008080; font-weight: bold\">1</span><span style=\"font-weight: bold\">]</span> Retrieving game with <span style=\"color: #808000; text-decoration-color: #808000\">id</span>=<span style=\"color: #008080; text-decoration-color: #008080; font-weight: bold\">1821051</span>                                 <a href=\"file://C:\\Users\\acer\\AppData\\Local\\Programs\\Python\\Python312\\Lib\\site-packages\\soccerdata\\whoscored.py\" target=\"_blank\"><span style=\"color: #7f7f7f; text-decoration-color: #7f7f7f\">whoscored.py</span></a><span style=\"color: #7f7f7f; text-decoration-color: #7f7f7f\">:</span><a href=\"file://C:\\Users\\acer\\AppData\\Local\\Programs\\Python\\Python312\\Lib\\site-packages\\soccerdata\\whoscored.py#692\" target=\"_blank\"><span style=\"color: #7f7f7f; text-decoration-color: #7f7f7f\">692</span></a>\n",
       "</pre>\n"
      ],
      "text/plain": [
       "\u001b[2;36m[09/02/24 20:22:52]\u001b[0m\u001b[2;36m \u001b[0m\u001b[34mINFO    \u001b[0m \u001b[1m[\u001b[0m\u001b[1;36m1\u001b[0m/\u001b[1;36m1\u001b[0m\u001b[1m]\u001b[0m Retrieving game with \u001b[33mid\u001b[0m=\u001b[1;36m1821051\u001b[0m                                 \u001b]8;id=589813;file://C:\\Users\\acer\\AppData\\Local\\Programs\\Python\\Python312\\Lib\\site-packages\\soccerdata\\whoscored.py\u001b\\\u001b[2mwhoscored.py\u001b[0m\u001b]8;;\u001b\\\u001b[2m:\u001b[0m\u001b]8;id=67934;file://C:\\Users\\acer\\AppData\\Local\\Programs\\Python\\Python312\\Lib\\site-packages\\soccerdata\\whoscored.py#692\u001b\\\u001b[2m692\u001b[0m\u001b]8;;\u001b\\\n"
      ]
     },
     "metadata": {},
     "output_type": "display_data"
    },
    {
     "data": {
      "text/html": [
       "<pre style=\"white-space:pre;overflow-x:auto;line-height:normal;font-family:Menlo,'DejaVu Sans Mono',consolas,'Courier New',monospace\"><span style=\"color: #7fbfbf; text-decoration-color: #7fbfbf\">[09/02/24 20:23:02] </span><span style=\"color: #000080; text-decoration-color: #000080\">INFO    </span> Retrieving calendar for ENG-Premier League <span style=\"color: #008080; text-decoration-color: #008080; font-weight: bold\">2425</span>                       <a href=\"file://C:\\Users\\acer\\AppData\\Local\\Programs\\Python\\Python312\\Lib\\site-packages\\soccerdata\\whoscored.py\" target=\"_blank\"><span style=\"color: #7f7f7f; text-decoration-color: #7f7f7f\">whoscored.py</span></a><span style=\"color: #7f7f7f; text-decoration-color: #7f7f7f\">:</span><a href=\"file://C:\\Users\\acer\\AppData\\Local\\Programs\\Python\\Python312\\Lib\\site-packages\\soccerdata\\whoscored.py#371\" target=\"_blank\"><span style=\"color: #7f7f7f; text-decoration-color: #7f7f7f\">371</span></a>\n",
       "</pre>\n"
      ],
      "text/plain": [
       "\u001b[2;36m[09/02/24 20:23:02]\u001b[0m\u001b[2;36m \u001b[0m\u001b[34mINFO    \u001b[0m Retrieving calendar for ENG-Premier League \u001b[1;36m2425\u001b[0m                       \u001b]8;id=912449;file://C:\\Users\\acer\\AppData\\Local\\Programs\\Python\\Python312\\Lib\\site-packages\\soccerdata\\whoscored.py\u001b\\\u001b[2mwhoscored.py\u001b[0m\u001b]8;;\u001b\\\u001b[2m:\u001b[0m\u001b]8;id=345401;file://C:\\Users\\acer\\AppData\\Local\\Programs\\Python\\Python312\\Lib\\site-packages\\soccerdata\\whoscored.py#371\u001b\\\u001b[2m371\u001b[0m\u001b]8;;\u001b\\\n"
      ]
     },
     "metadata": {},
     "output_type": "display_data"
    },
    {
     "data": {
      "text/html": [
       "<pre style=\"white-space:pre;overflow-x:auto;line-height:normal;font-family:Menlo,'DejaVu Sans Mono',consolas,'Courier New',monospace\"><span style=\"color: #7fbfbf; text-decoration-color: #7fbfbf\">[09/02/24 20:23:15] </span><span style=\"color: #000080; text-decoration-color: #000080\">INFO    </span> <span style=\"font-weight: bold\">[</span><span style=\"color: #008080; text-decoration-color: #008080; font-weight: bold\">1</span>/<span style=\"color: #008080; text-decoration-color: #008080; font-weight: bold\">10</span><span style=\"font-weight: bold\">]</span> Retrieving fixtures for ENG-Premier League <span style=\"color: #008080; text-decoration-color: #008080; font-weight: bold\">2425</span>                <a href=\"file://C:\\Users\\acer\\AppData\\Local\\Programs\\Python\\Python312\\Lib\\site-packages\\soccerdata\\whoscored.py\" target=\"_blank\"><span style=\"color: #7f7f7f; text-decoration-color: #7f7f7f\">whoscored.py</span></a><span style=\"color: #7f7f7f; text-decoration-color: #7f7f7f\">:</span><a href=\"file://C:\\Users\\acer\\AppData\\Local\\Programs\\Python\\Python312\\Lib\\site-packages\\soccerdata\\whoscored.py#400\" target=\"_blank\"><span style=\"color: #7f7f7f; text-decoration-color: #7f7f7f\">400</span></a>\n",
       "</pre>\n"
      ],
      "text/plain": [
       "\u001b[2;36m[09/02/24 20:23:15]\u001b[0m\u001b[2;36m \u001b[0m\u001b[34mINFO    \u001b[0m \u001b[1m[\u001b[0m\u001b[1;36m1\u001b[0m/\u001b[1;36m10\u001b[0m\u001b[1m]\u001b[0m Retrieving fixtures for ENG-Premier League \u001b[1;36m2425\u001b[0m                \u001b]8;id=353093;file://C:\\Users\\acer\\AppData\\Local\\Programs\\Python\\Python312\\Lib\\site-packages\\soccerdata\\whoscored.py\u001b\\\u001b[2mwhoscored.py\u001b[0m\u001b]8;;\u001b\\\u001b[2m:\u001b[0m\u001b]8;id=310054;file://C:\\Users\\acer\\AppData\\Local\\Programs\\Python\\Python312\\Lib\\site-packages\\soccerdata\\whoscored.py#400\u001b\\\u001b[2m400\u001b[0m\u001b]8;;\u001b\\\n"
      ]
     },
     "metadata": {},
     "output_type": "display_data"
    },
    {
     "data": {
      "text/html": [
       "<pre style=\"white-space:pre;overflow-x:auto;line-height:normal;font-family:Menlo,'DejaVu Sans Mono',consolas,'Courier New',monospace\"><span style=\"color: #7fbfbf; text-decoration-color: #7fbfbf\">[09/02/24 20:23:22] </span><span style=\"color: #000080; text-decoration-color: #000080\">INFO    </span> <span style=\"font-weight: bold\">[</span><span style=\"color: #008080; text-decoration-color: #008080; font-weight: bold\">2</span>/<span style=\"color: #008080; text-decoration-color: #008080; font-weight: bold\">10</span><span style=\"font-weight: bold\">]</span> Retrieving fixtures for ENG-Premier League <span style=\"color: #008080; text-decoration-color: #008080; font-weight: bold\">2425</span>                <a href=\"file://C:\\Users\\acer\\AppData\\Local\\Programs\\Python\\Python312\\Lib\\site-packages\\soccerdata\\whoscored.py\" target=\"_blank\"><span style=\"color: #7f7f7f; text-decoration-color: #7f7f7f\">whoscored.py</span></a><span style=\"color: #7f7f7f; text-decoration-color: #7f7f7f\">:</span><a href=\"file://C:\\Users\\acer\\AppData\\Local\\Programs\\Python\\Python312\\Lib\\site-packages\\soccerdata\\whoscored.py#400\" target=\"_blank\"><span style=\"color: #7f7f7f; text-decoration-color: #7f7f7f\">400</span></a>\n",
       "</pre>\n"
      ],
      "text/plain": [
       "\u001b[2;36m[09/02/24 20:23:22]\u001b[0m\u001b[2;36m \u001b[0m\u001b[34mINFO    \u001b[0m \u001b[1m[\u001b[0m\u001b[1;36m2\u001b[0m/\u001b[1;36m10\u001b[0m\u001b[1m]\u001b[0m Retrieving fixtures for ENG-Premier League \u001b[1;36m2425\u001b[0m                \u001b]8;id=325822;file://C:\\Users\\acer\\AppData\\Local\\Programs\\Python\\Python312\\Lib\\site-packages\\soccerdata\\whoscored.py\u001b\\\u001b[2mwhoscored.py\u001b[0m\u001b]8;;\u001b\\\u001b[2m:\u001b[0m\u001b]8;id=458127;file://C:\\Users\\acer\\AppData\\Local\\Programs\\Python\\Python312\\Lib\\site-packages\\soccerdata\\whoscored.py#400\u001b\\\u001b[2m400\u001b[0m\u001b]8;;\u001b\\\n"
      ]
     },
     "metadata": {},
     "output_type": "display_data"
    },
    {
     "data": {
      "text/html": [
       "<pre style=\"white-space:pre;overflow-x:auto;line-height:normal;font-family:Menlo,'DejaVu Sans Mono',consolas,'Courier New',monospace\"><span style=\"color: #7fbfbf; text-decoration-color: #7fbfbf\">[09/02/24 20:23:31] </span><span style=\"color: #000080; text-decoration-color: #000080\">INFO    </span> <span style=\"font-weight: bold\">[</span><span style=\"color: #008080; text-decoration-color: #008080; font-weight: bold\">3</span>/<span style=\"color: #008080; text-decoration-color: #008080; font-weight: bold\">10</span><span style=\"font-weight: bold\">]</span> Retrieving fixtures for ENG-Premier League <span style=\"color: #008080; text-decoration-color: #008080; font-weight: bold\">2425</span>                <a href=\"file://C:\\Users\\acer\\AppData\\Local\\Programs\\Python\\Python312\\Lib\\site-packages\\soccerdata\\whoscored.py\" target=\"_blank\"><span style=\"color: #7f7f7f; text-decoration-color: #7f7f7f\">whoscored.py</span></a><span style=\"color: #7f7f7f; text-decoration-color: #7f7f7f\">:</span><a href=\"file://C:\\Users\\acer\\AppData\\Local\\Programs\\Python\\Python312\\Lib\\site-packages\\soccerdata\\whoscored.py#400\" target=\"_blank\"><span style=\"color: #7f7f7f; text-decoration-color: #7f7f7f\">400</span></a>\n",
       "</pre>\n"
      ],
      "text/plain": [
       "\u001b[2;36m[09/02/24 20:23:31]\u001b[0m\u001b[2;36m \u001b[0m\u001b[34mINFO    \u001b[0m \u001b[1m[\u001b[0m\u001b[1;36m3\u001b[0m/\u001b[1;36m10\u001b[0m\u001b[1m]\u001b[0m Retrieving fixtures for ENG-Premier League \u001b[1;36m2425\u001b[0m                \u001b]8;id=379706;file://C:\\Users\\acer\\AppData\\Local\\Programs\\Python\\Python312\\Lib\\site-packages\\soccerdata\\whoscored.py\u001b\\\u001b[2mwhoscored.py\u001b[0m\u001b]8;;\u001b\\\u001b[2m:\u001b[0m\u001b]8;id=20005;file://C:\\Users\\acer\\AppData\\Local\\Programs\\Python\\Python312\\Lib\\site-packages\\soccerdata\\whoscored.py#400\u001b\\\u001b[2m400\u001b[0m\u001b]8;;\u001b\\\n"
      ]
     },
     "metadata": {},
     "output_type": "display_data"
    },
    {
     "data": {
      "text/html": [
       "<pre style=\"white-space:pre;overflow-x:auto;line-height:normal;font-family:Menlo,'DejaVu Sans Mono',consolas,'Courier New',monospace\"><span style=\"color: #7fbfbf; text-decoration-color: #7fbfbf\">[09/02/24 20:23:37] </span><span style=\"color: #000080; text-decoration-color: #000080\">INFO    </span> <span style=\"font-weight: bold\">[</span><span style=\"color: #008080; text-decoration-color: #008080; font-weight: bold\">4</span>/<span style=\"color: #008080; text-decoration-color: #008080; font-weight: bold\">10</span><span style=\"font-weight: bold\">]</span> Retrieving fixtures for ENG-Premier League <span style=\"color: #008080; text-decoration-color: #008080; font-weight: bold\">2425</span>                <a href=\"file://C:\\Users\\acer\\AppData\\Local\\Programs\\Python\\Python312\\Lib\\site-packages\\soccerdata\\whoscored.py\" target=\"_blank\"><span style=\"color: #7f7f7f; text-decoration-color: #7f7f7f\">whoscored.py</span></a><span style=\"color: #7f7f7f; text-decoration-color: #7f7f7f\">:</span><a href=\"file://C:\\Users\\acer\\AppData\\Local\\Programs\\Python\\Python312\\Lib\\site-packages\\soccerdata\\whoscored.py#400\" target=\"_blank\"><span style=\"color: #7f7f7f; text-decoration-color: #7f7f7f\">400</span></a>\n",
       "</pre>\n"
      ],
      "text/plain": [
       "\u001b[2;36m[09/02/24 20:23:37]\u001b[0m\u001b[2;36m \u001b[0m\u001b[34mINFO    \u001b[0m \u001b[1m[\u001b[0m\u001b[1;36m4\u001b[0m/\u001b[1;36m10\u001b[0m\u001b[1m]\u001b[0m Retrieving fixtures for ENG-Premier League \u001b[1;36m2425\u001b[0m                \u001b]8;id=655701;file://C:\\Users\\acer\\AppData\\Local\\Programs\\Python\\Python312\\Lib\\site-packages\\soccerdata\\whoscored.py\u001b\\\u001b[2mwhoscored.py\u001b[0m\u001b]8;;\u001b\\\u001b[2m:\u001b[0m\u001b]8;id=348686;file://C:\\Users\\acer\\AppData\\Local\\Programs\\Python\\Python312\\Lib\\site-packages\\soccerdata\\whoscored.py#400\u001b\\\u001b[2m400\u001b[0m\u001b]8;;\u001b\\\n"
      ]
     },
     "metadata": {},
     "output_type": "display_data"
    },
    {
     "data": {
      "text/html": [
       "<pre style=\"white-space:pre;overflow-x:auto;line-height:normal;font-family:Menlo,'DejaVu Sans Mono',consolas,'Courier New',monospace\"><span style=\"color: #7fbfbf; text-decoration-color: #7fbfbf\">[09/02/24 20:23:47] </span><span style=\"color: #000080; text-decoration-color: #000080\">INFO    </span> <span style=\"font-weight: bold\">[</span><span style=\"color: #008080; text-decoration-color: #008080; font-weight: bold\">5</span>/<span style=\"color: #008080; text-decoration-color: #008080; font-weight: bold\">10</span><span style=\"font-weight: bold\">]</span> Retrieving fixtures for ENG-Premier League <span style=\"color: #008080; text-decoration-color: #008080; font-weight: bold\">2425</span>                <a href=\"file://C:\\Users\\acer\\AppData\\Local\\Programs\\Python\\Python312\\Lib\\site-packages\\soccerdata\\whoscored.py\" target=\"_blank\"><span style=\"color: #7f7f7f; text-decoration-color: #7f7f7f\">whoscored.py</span></a><span style=\"color: #7f7f7f; text-decoration-color: #7f7f7f\">:</span><a href=\"file://C:\\Users\\acer\\AppData\\Local\\Programs\\Python\\Python312\\Lib\\site-packages\\soccerdata\\whoscored.py#400\" target=\"_blank\"><span style=\"color: #7f7f7f; text-decoration-color: #7f7f7f\">400</span></a>\n",
       "</pre>\n"
      ],
      "text/plain": [
       "\u001b[2;36m[09/02/24 20:23:47]\u001b[0m\u001b[2;36m \u001b[0m\u001b[34mINFO    \u001b[0m \u001b[1m[\u001b[0m\u001b[1;36m5\u001b[0m/\u001b[1;36m10\u001b[0m\u001b[1m]\u001b[0m Retrieving fixtures for ENG-Premier League \u001b[1;36m2425\u001b[0m                \u001b]8;id=523444;file://C:\\Users\\acer\\AppData\\Local\\Programs\\Python\\Python312\\Lib\\site-packages\\soccerdata\\whoscored.py\u001b\\\u001b[2mwhoscored.py\u001b[0m\u001b]8;;\u001b\\\u001b[2m:\u001b[0m\u001b]8;id=567584;file://C:\\Users\\acer\\AppData\\Local\\Programs\\Python\\Python312\\Lib\\site-packages\\soccerdata\\whoscored.py#400\u001b\\\u001b[2m400\u001b[0m\u001b]8;;\u001b\\\n"
      ]
     },
     "metadata": {},
     "output_type": "display_data"
    },
    {
     "data": {
      "text/html": [
       "<pre style=\"white-space:pre;overflow-x:auto;line-height:normal;font-family:Menlo,'DejaVu Sans Mono',consolas,'Courier New',monospace\"><span style=\"color: #7fbfbf; text-decoration-color: #7fbfbf\">[09/02/24 20:23:54] </span><span style=\"color: #000080; text-decoration-color: #000080\">INFO    </span> <span style=\"font-weight: bold\">[</span><span style=\"color: #008080; text-decoration-color: #008080; font-weight: bold\">6</span>/<span style=\"color: #008080; text-decoration-color: #008080; font-weight: bold\">10</span><span style=\"font-weight: bold\">]</span> Retrieving fixtures for ENG-Premier League <span style=\"color: #008080; text-decoration-color: #008080; font-weight: bold\">2425</span>                <a href=\"file://C:\\Users\\acer\\AppData\\Local\\Programs\\Python\\Python312\\Lib\\site-packages\\soccerdata\\whoscored.py\" target=\"_blank\"><span style=\"color: #7f7f7f; text-decoration-color: #7f7f7f\">whoscored.py</span></a><span style=\"color: #7f7f7f; text-decoration-color: #7f7f7f\">:</span><a href=\"file://C:\\Users\\acer\\AppData\\Local\\Programs\\Python\\Python312\\Lib\\site-packages\\soccerdata\\whoscored.py#400\" target=\"_blank\"><span style=\"color: #7f7f7f; text-decoration-color: #7f7f7f\">400</span></a>\n",
       "</pre>\n"
      ],
      "text/plain": [
       "\u001b[2;36m[09/02/24 20:23:54]\u001b[0m\u001b[2;36m \u001b[0m\u001b[34mINFO    \u001b[0m \u001b[1m[\u001b[0m\u001b[1;36m6\u001b[0m/\u001b[1;36m10\u001b[0m\u001b[1m]\u001b[0m Retrieving fixtures for ENG-Premier League \u001b[1;36m2425\u001b[0m                \u001b]8;id=62231;file://C:\\Users\\acer\\AppData\\Local\\Programs\\Python\\Python312\\Lib\\site-packages\\soccerdata\\whoscored.py\u001b\\\u001b[2mwhoscored.py\u001b[0m\u001b]8;;\u001b\\\u001b[2m:\u001b[0m\u001b]8;id=425216;file://C:\\Users\\acer\\AppData\\Local\\Programs\\Python\\Python312\\Lib\\site-packages\\soccerdata\\whoscored.py#400\u001b\\\u001b[2m400\u001b[0m\u001b]8;;\u001b\\\n"
      ]
     },
     "metadata": {},
     "output_type": "display_data"
    },
    {
     "data": {
      "text/html": [
       "<pre style=\"white-space:pre;overflow-x:auto;line-height:normal;font-family:Menlo,'DejaVu Sans Mono',consolas,'Courier New',monospace\"><span style=\"color: #7fbfbf; text-decoration-color: #7fbfbf\">[09/02/24 20:23:59] </span><span style=\"color: #000080; text-decoration-color: #000080\">INFO    </span> <span style=\"font-weight: bold\">[</span><span style=\"color: #008080; text-decoration-color: #008080; font-weight: bold\">7</span>/<span style=\"color: #008080; text-decoration-color: #008080; font-weight: bold\">10</span><span style=\"font-weight: bold\">]</span> Retrieving fixtures for ENG-Premier League <span style=\"color: #008080; text-decoration-color: #008080; font-weight: bold\">2425</span>                <a href=\"file://C:\\Users\\acer\\AppData\\Local\\Programs\\Python\\Python312\\Lib\\site-packages\\soccerdata\\whoscored.py\" target=\"_blank\"><span style=\"color: #7f7f7f; text-decoration-color: #7f7f7f\">whoscored.py</span></a><span style=\"color: #7f7f7f; text-decoration-color: #7f7f7f\">:</span><a href=\"file://C:\\Users\\acer\\AppData\\Local\\Programs\\Python\\Python312\\Lib\\site-packages\\soccerdata\\whoscored.py#400\" target=\"_blank\"><span style=\"color: #7f7f7f; text-decoration-color: #7f7f7f\">400</span></a>\n",
       "</pre>\n"
      ],
      "text/plain": [
       "\u001b[2;36m[09/02/24 20:23:59]\u001b[0m\u001b[2;36m \u001b[0m\u001b[34mINFO    \u001b[0m \u001b[1m[\u001b[0m\u001b[1;36m7\u001b[0m/\u001b[1;36m10\u001b[0m\u001b[1m]\u001b[0m Retrieving fixtures for ENG-Premier League \u001b[1;36m2425\u001b[0m                \u001b]8;id=5913;file://C:\\Users\\acer\\AppData\\Local\\Programs\\Python\\Python312\\Lib\\site-packages\\soccerdata\\whoscored.py\u001b\\\u001b[2mwhoscored.py\u001b[0m\u001b]8;;\u001b\\\u001b[2m:\u001b[0m\u001b]8;id=333967;file://C:\\Users\\acer\\AppData\\Local\\Programs\\Python\\Python312\\Lib\\site-packages\\soccerdata\\whoscored.py#400\u001b\\\u001b[2m400\u001b[0m\u001b]8;;\u001b\\\n"
      ]
     },
     "metadata": {},
     "output_type": "display_data"
    },
    {
     "data": {
      "text/html": [
       "<pre style=\"white-space:pre;overflow-x:auto;line-height:normal;font-family:Menlo,'DejaVu Sans Mono',consolas,'Courier New',monospace\"><span style=\"color: #7fbfbf; text-decoration-color: #7fbfbf\">[09/02/24 20:24:06] </span><span style=\"color: #000080; text-decoration-color: #000080\">INFO    </span> <span style=\"font-weight: bold\">[</span><span style=\"color: #008080; text-decoration-color: #008080; font-weight: bold\">8</span>/<span style=\"color: #008080; text-decoration-color: #008080; font-weight: bold\">10</span><span style=\"font-weight: bold\">]</span> Retrieving fixtures for ENG-Premier League <span style=\"color: #008080; text-decoration-color: #008080; font-weight: bold\">2425</span>                <a href=\"file://C:\\Users\\acer\\AppData\\Local\\Programs\\Python\\Python312\\Lib\\site-packages\\soccerdata\\whoscored.py\" target=\"_blank\"><span style=\"color: #7f7f7f; text-decoration-color: #7f7f7f\">whoscored.py</span></a><span style=\"color: #7f7f7f; text-decoration-color: #7f7f7f\">:</span><a href=\"file://C:\\Users\\acer\\AppData\\Local\\Programs\\Python\\Python312\\Lib\\site-packages\\soccerdata\\whoscored.py#400\" target=\"_blank\"><span style=\"color: #7f7f7f; text-decoration-color: #7f7f7f\">400</span></a>\n",
       "</pre>\n"
      ],
      "text/plain": [
       "\u001b[2;36m[09/02/24 20:24:06]\u001b[0m\u001b[2;36m \u001b[0m\u001b[34mINFO    \u001b[0m \u001b[1m[\u001b[0m\u001b[1;36m8\u001b[0m/\u001b[1;36m10\u001b[0m\u001b[1m]\u001b[0m Retrieving fixtures for ENG-Premier League \u001b[1;36m2425\u001b[0m                \u001b]8;id=805828;file://C:\\Users\\acer\\AppData\\Local\\Programs\\Python\\Python312\\Lib\\site-packages\\soccerdata\\whoscored.py\u001b\\\u001b[2mwhoscored.py\u001b[0m\u001b]8;;\u001b\\\u001b[2m:\u001b[0m\u001b]8;id=89764;file://C:\\Users\\acer\\AppData\\Local\\Programs\\Python\\Python312\\Lib\\site-packages\\soccerdata\\whoscored.py#400\u001b\\\u001b[2m400\u001b[0m\u001b]8;;\u001b\\\n"
      ]
     },
     "metadata": {},
     "output_type": "display_data"
    },
    {
     "data": {
      "text/html": [
       "<pre style=\"white-space:pre;overflow-x:auto;line-height:normal;font-family:Menlo,'DejaVu Sans Mono',consolas,'Courier New',monospace\"><span style=\"color: #7fbfbf; text-decoration-color: #7fbfbf\">[09/02/24 20:24:16] </span><span style=\"color: #000080; text-decoration-color: #000080\">INFO    </span> <span style=\"font-weight: bold\">[</span><span style=\"color: #008080; text-decoration-color: #008080; font-weight: bold\">9</span>/<span style=\"color: #008080; text-decoration-color: #008080; font-weight: bold\">10</span><span style=\"font-weight: bold\">]</span> Retrieving fixtures for ENG-Premier League <span style=\"color: #008080; text-decoration-color: #008080; font-weight: bold\">2425</span>                <a href=\"file://C:\\Users\\acer\\AppData\\Local\\Programs\\Python\\Python312\\Lib\\site-packages\\soccerdata\\whoscored.py\" target=\"_blank\"><span style=\"color: #7f7f7f; text-decoration-color: #7f7f7f\">whoscored.py</span></a><span style=\"color: #7f7f7f; text-decoration-color: #7f7f7f\">:</span><a href=\"file://C:\\Users\\acer\\AppData\\Local\\Programs\\Python\\Python312\\Lib\\site-packages\\soccerdata\\whoscored.py#400\" target=\"_blank\"><span style=\"color: #7f7f7f; text-decoration-color: #7f7f7f\">400</span></a>\n",
       "</pre>\n"
      ],
      "text/plain": [
       "\u001b[2;36m[09/02/24 20:24:16]\u001b[0m\u001b[2;36m \u001b[0m\u001b[34mINFO    \u001b[0m \u001b[1m[\u001b[0m\u001b[1;36m9\u001b[0m/\u001b[1;36m10\u001b[0m\u001b[1m]\u001b[0m Retrieving fixtures for ENG-Premier League \u001b[1;36m2425\u001b[0m                \u001b]8;id=259592;file://C:\\Users\\acer\\AppData\\Local\\Programs\\Python\\Python312\\Lib\\site-packages\\soccerdata\\whoscored.py\u001b\\\u001b[2mwhoscored.py\u001b[0m\u001b]8;;\u001b\\\u001b[2m:\u001b[0m\u001b]8;id=483099;file://C:\\Users\\acer\\AppData\\Local\\Programs\\Python\\Python312\\Lib\\site-packages\\soccerdata\\whoscored.py#400\u001b\\\u001b[2m400\u001b[0m\u001b]8;;\u001b\\\n"
      ]
     },
     "metadata": {},
     "output_type": "display_data"
    },
    {
     "data": {
      "text/html": [
       "<pre style=\"white-space:pre;overflow-x:auto;line-height:normal;font-family:Menlo,'DejaVu Sans Mono',consolas,'Courier New',monospace\"><span style=\"color: #7fbfbf; text-decoration-color: #7fbfbf\">[09/02/24 20:24:24] </span><span style=\"color: #000080; text-decoration-color: #000080\">INFO    </span> <span style=\"font-weight: bold\">[</span><span style=\"color: #008080; text-decoration-color: #008080; font-weight: bold\">10</span>/<span style=\"color: #008080; text-decoration-color: #008080; font-weight: bold\">10</span><span style=\"font-weight: bold\">]</span> Retrieving fixtures for ENG-Premier League <span style=\"color: #008080; text-decoration-color: #008080; font-weight: bold\">2425</span>               <a href=\"file://C:\\Users\\acer\\AppData\\Local\\Programs\\Python\\Python312\\Lib\\site-packages\\soccerdata\\whoscored.py\" target=\"_blank\"><span style=\"color: #7f7f7f; text-decoration-color: #7f7f7f\">whoscored.py</span></a><span style=\"color: #7f7f7f; text-decoration-color: #7f7f7f\">:</span><a href=\"file://C:\\Users\\acer\\AppData\\Local\\Programs\\Python\\Python312\\Lib\\site-packages\\soccerdata\\whoscored.py#400\" target=\"_blank\"><span style=\"color: #7f7f7f; text-decoration-color: #7f7f7f\">400</span></a>\n",
       "</pre>\n"
      ],
      "text/plain": [
       "\u001b[2;36m[09/02/24 20:24:24]\u001b[0m\u001b[2;36m \u001b[0m\u001b[34mINFO    \u001b[0m \u001b[1m[\u001b[0m\u001b[1;36m10\u001b[0m/\u001b[1;36m10\u001b[0m\u001b[1m]\u001b[0m Retrieving fixtures for ENG-Premier League \u001b[1;36m2425\u001b[0m               \u001b]8;id=444190;file://C:\\Users\\acer\\AppData\\Local\\Programs\\Python\\Python312\\Lib\\site-packages\\soccerdata\\whoscored.py\u001b\\\u001b[2mwhoscored.py\u001b[0m\u001b]8;;\u001b\\\u001b[2m:\u001b[0m\u001b]8;id=121283;file://C:\\Users\\acer\\AppData\\Local\\Programs\\Python\\Python312\\Lib\\site-packages\\soccerdata\\whoscored.py#400\u001b\\\u001b[2m400\u001b[0m\u001b]8;;\u001b\\\n"
      ]
     },
     "metadata": {},
     "output_type": "display_data"
    },
    {
     "name": "stderr",
     "output_type": "stream",
     "text": [
      "C:\\Users\\acer\\AppData\\Local\\Programs\\Python\\Python312\\Lib\\site-packages\\soccerdata\\whoscored.py:424: FutureWarning: The behavior of DataFrame concatenation with empty or all-NA entries is deprecated. In a future version, this will no longer exclude empty or all-NA columns when determining the result dtypes. To retain the old behavior, exclude the relevant entries before the concat operation.\n",
      "  pd.concat(all_schedules)\n"
     ]
    },
    {
     "data": {
      "text/html": [
       "<pre style=\"white-space:pre;overflow-x:auto;line-height:normal;font-family:Menlo,'DejaVu Sans Mono',consolas,'Courier New',monospace\"><span style=\"color: #7fbfbf; text-decoration-color: #7fbfbf\">[09/02/24 20:24:34] </span><span style=\"color: #000080; text-decoration-color: #000080\">INFO    </span> <span style=\"font-weight: bold\">[</span><span style=\"color: #008080; text-decoration-color: #008080; font-weight: bold\">1</span>/<span style=\"color: #008080; text-decoration-color: #008080; font-weight: bold\">1</span><span style=\"font-weight: bold\">]</span> Retrieving game with <span style=\"color: #808000; text-decoration-color: #808000\">id</span>=<span style=\"color: #008080; text-decoration-color: #008080; font-weight: bold\">1821052</span>                                 <a href=\"file://C:\\Users\\acer\\AppData\\Local\\Programs\\Python\\Python312\\Lib\\site-packages\\soccerdata\\whoscored.py\" target=\"_blank\"><span style=\"color: #7f7f7f; text-decoration-color: #7f7f7f\">whoscored.py</span></a><span style=\"color: #7f7f7f; text-decoration-color: #7f7f7f\">:</span><a href=\"file://C:\\Users\\acer\\AppData\\Local\\Programs\\Python\\Python312\\Lib\\site-packages\\soccerdata\\whoscored.py#692\" target=\"_blank\"><span style=\"color: #7f7f7f; text-decoration-color: #7f7f7f\">692</span></a>\n",
       "</pre>\n"
      ],
      "text/plain": [
       "\u001b[2;36m[09/02/24 20:24:34]\u001b[0m\u001b[2;36m \u001b[0m\u001b[34mINFO    \u001b[0m \u001b[1m[\u001b[0m\u001b[1;36m1\u001b[0m/\u001b[1;36m1\u001b[0m\u001b[1m]\u001b[0m Retrieving game with \u001b[33mid\u001b[0m=\u001b[1;36m1821052\u001b[0m                                 \u001b]8;id=654943;file://C:\\Users\\acer\\AppData\\Local\\Programs\\Python\\Python312\\Lib\\site-packages\\soccerdata\\whoscored.py\u001b\\\u001b[2mwhoscored.py\u001b[0m\u001b]8;;\u001b\\\u001b[2m:\u001b[0m\u001b]8;id=651203;file://C:\\Users\\acer\\AppData\\Local\\Programs\\Python\\Python312\\Lib\\site-packages\\soccerdata\\whoscored.py#692\u001b\\\u001b[2m692\u001b[0m\u001b]8;;\u001b\\\n"
      ]
     },
     "metadata": {},
     "output_type": "display_data"
    },
    {
     "data": {
      "text/html": [
       "<pre style=\"white-space:pre;overflow-x:auto;line-height:normal;font-family:Menlo,'DejaVu Sans Mono',consolas,'Courier New',monospace\"><span style=\"color: #7fbfbf; text-decoration-color: #7fbfbf\">[09/02/24 20:25:00] </span><span style=\"color: #000080; text-decoration-color: #000080\">INFO    </span> Retrieving calendar for ENG-Premier League <span style=\"color: #008080; text-decoration-color: #008080; font-weight: bold\">2425</span>                       <a href=\"file://C:\\Users\\acer\\AppData\\Local\\Programs\\Python\\Python312\\Lib\\site-packages\\soccerdata\\whoscored.py\" target=\"_blank\"><span style=\"color: #7f7f7f; text-decoration-color: #7f7f7f\">whoscored.py</span></a><span style=\"color: #7f7f7f; text-decoration-color: #7f7f7f\">:</span><a href=\"file://C:\\Users\\acer\\AppData\\Local\\Programs\\Python\\Python312\\Lib\\site-packages\\soccerdata\\whoscored.py#371\" target=\"_blank\"><span style=\"color: #7f7f7f; text-decoration-color: #7f7f7f\">371</span></a>\n",
       "</pre>\n"
      ],
      "text/plain": [
       "\u001b[2;36m[09/02/24 20:25:00]\u001b[0m\u001b[2;36m \u001b[0m\u001b[34mINFO    \u001b[0m Retrieving calendar for ENG-Premier League \u001b[1;36m2425\u001b[0m                       \u001b]8;id=905173;file://C:\\Users\\acer\\AppData\\Local\\Programs\\Python\\Python312\\Lib\\site-packages\\soccerdata\\whoscored.py\u001b\\\u001b[2mwhoscored.py\u001b[0m\u001b]8;;\u001b\\\u001b[2m:\u001b[0m\u001b]8;id=379029;file://C:\\Users\\acer\\AppData\\Local\\Programs\\Python\\Python312\\Lib\\site-packages\\soccerdata\\whoscored.py#371\u001b\\\u001b[2m371\u001b[0m\u001b]8;;\u001b\\\n"
      ]
     },
     "metadata": {},
     "output_type": "display_data"
    },
    {
     "data": {
      "text/html": [
       "<pre style=\"white-space:pre;overflow-x:auto;line-height:normal;font-family:Menlo,'DejaVu Sans Mono',consolas,'Courier New',monospace\"><span style=\"color: #7fbfbf; text-decoration-color: #7fbfbf\">[09/02/24 20:25:11] </span><span style=\"color: #000080; text-decoration-color: #000080\">INFO    </span> <span style=\"font-weight: bold\">[</span><span style=\"color: #008080; text-decoration-color: #008080; font-weight: bold\">1</span>/<span style=\"color: #008080; text-decoration-color: #008080; font-weight: bold\">10</span><span style=\"font-weight: bold\">]</span> Retrieving fixtures for ENG-Premier League <span style=\"color: #008080; text-decoration-color: #008080; font-weight: bold\">2425</span>                <a href=\"file://C:\\Users\\acer\\AppData\\Local\\Programs\\Python\\Python312\\Lib\\site-packages\\soccerdata\\whoscored.py\" target=\"_blank\"><span style=\"color: #7f7f7f; text-decoration-color: #7f7f7f\">whoscored.py</span></a><span style=\"color: #7f7f7f; text-decoration-color: #7f7f7f\">:</span><a href=\"file://C:\\Users\\acer\\AppData\\Local\\Programs\\Python\\Python312\\Lib\\site-packages\\soccerdata\\whoscored.py#400\" target=\"_blank\"><span style=\"color: #7f7f7f; text-decoration-color: #7f7f7f\">400</span></a>\n",
       "</pre>\n"
      ],
      "text/plain": [
       "\u001b[2;36m[09/02/24 20:25:11]\u001b[0m\u001b[2;36m \u001b[0m\u001b[34mINFO    \u001b[0m \u001b[1m[\u001b[0m\u001b[1;36m1\u001b[0m/\u001b[1;36m10\u001b[0m\u001b[1m]\u001b[0m Retrieving fixtures for ENG-Premier League \u001b[1;36m2425\u001b[0m                \u001b]8;id=644624;file://C:\\Users\\acer\\AppData\\Local\\Programs\\Python\\Python312\\Lib\\site-packages\\soccerdata\\whoscored.py\u001b\\\u001b[2mwhoscored.py\u001b[0m\u001b]8;;\u001b\\\u001b[2m:\u001b[0m\u001b]8;id=234620;file://C:\\Users\\acer\\AppData\\Local\\Programs\\Python\\Python312\\Lib\\site-packages\\soccerdata\\whoscored.py#400\u001b\\\u001b[2m400\u001b[0m\u001b]8;;\u001b\\\n"
      ]
     },
     "metadata": {},
     "output_type": "display_data"
    },
    {
     "data": {
      "text/html": [
       "<pre style=\"white-space:pre;overflow-x:auto;line-height:normal;font-family:Menlo,'DejaVu Sans Mono',consolas,'Courier New',monospace\"><span style=\"color: #7fbfbf; text-decoration-color: #7fbfbf\">[09/02/24 20:25:20] </span><span style=\"color: #000080; text-decoration-color: #000080\">INFO    </span> <span style=\"font-weight: bold\">[</span><span style=\"color: #008080; text-decoration-color: #008080; font-weight: bold\">2</span>/<span style=\"color: #008080; text-decoration-color: #008080; font-weight: bold\">10</span><span style=\"font-weight: bold\">]</span> Retrieving fixtures for ENG-Premier League <span style=\"color: #008080; text-decoration-color: #008080; font-weight: bold\">2425</span>                <a href=\"file://C:\\Users\\acer\\AppData\\Local\\Programs\\Python\\Python312\\Lib\\site-packages\\soccerdata\\whoscored.py\" target=\"_blank\"><span style=\"color: #7f7f7f; text-decoration-color: #7f7f7f\">whoscored.py</span></a><span style=\"color: #7f7f7f; text-decoration-color: #7f7f7f\">:</span><a href=\"file://C:\\Users\\acer\\AppData\\Local\\Programs\\Python\\Python312\\Lib\\site-packages\\soccerdata\\whoscored.py#400\" target=\"_blank\"><span style=\"color: #7f7f7f; text-decoration-color: #7f7f7f\">400</span></a>\n",
       "</pre>\n"
      ],
      "text/plain": [
       "\u001b[2;36m[09/02/24 20:25:20]\u001b[0m\u001b[2;36m \u001b[0m\u001b[34mINFO    \u001b[0m \u001b[1m[\u001b[0m\u001b[1;36m2\u001b[0m/\u001b[1;36m10\u001b[0m\u001b[1m]\u001b[0m Retrieving fixtures for ENG-Premier League \u001b[1;36m2425\u001b[0m                \u001b]8;id=938793;file://C:\\Users\\acer\\AppData\\Local\\Programs\\Python\\Python312\\Lib\\site-packages\\soccerdata\\whoscored.py\u001b\\\u001b[2mwhoscored.py\u001b[0m\u001b]8;;\u001b\\\u001b[2m:\u001b[0m\u001b]8;id=692576;file://C:\\Users\\acer\\AppData\\Local\\Programs\\Python\\Python312\\Lib\\site-packages\\soccerdata\\whoscored.py#400\u001b\\\u001b[2m400\u001b[0m\u001b]8;;\u001b\\\n"
      ]
     },
     "metadata": {},
     "output_type": "display_data"
    },
    {
     "data": {
      "text/html": [
       "<pre style=\"white-space:pre;overflow-x:auto;line-height:normal;font-family:Menlo,'DejaVu Sans Mono',consolas,'Courier New',monospace\"><span style=\"color: #7fbfbf; text-decoration-color: #7fbfbf\">[09/02/24 20:25:27] </span><span style=\"color: #000080; text-decoration-color: #000080\">INFO    </span> <span style=\"font-weight: bold\">[</span><span style=\"color: #008080; text-decoration-color: #008080; font-weight: bold\">3</span>/<span style=\"color: #008080; text-decoration-color: #008080; font-weight: bold\">10</span><span style=\"font-weight: bold\">]</span> Retrieving fixtures for ENG-Premier League <span style=\"color: #008080; text-decoration-color: #008080; font-weight: bold\">2425</span>                <a href=\"file://C:\\Users\\acer\\AppData\\Local\\Programs\\Python\\Python312\\Lib\\site-packages\\soccerdata\\whoscored.py\" target=\"_blank\"><span style=\"color: #7f7f7f; text-decoration-color: #7f7f7f\">whoscored.py</span></a><span style=\"color: #7f7f7f; text-decoration-color: #7f7f7f\">:</span><a href=\"file://C:\\Users\\acer\\AppData\\Local\\Programs\\Python\\Python312\\Lib\\site-packages\\soccerdata\\whoscored.py#400\" target=\"_blank\"><span style=\"color: #7f7f7f; text-decoration-color: #7f7f7f\">400</span></a>\n",
       "</pre>\n"
      ],
      "text/plain": [
       "\u001b[2;36m[09/02/24 20:25:27]\u001b[0m\u001b[2;36m \u001b[0m\u001b[34mINFO    \u001b[0m \u001b[1m[\u001b[0m\u001b[1;36m3\u001b[0m/\u001b[1;36m10\u001b[0m\u001b[1m]\u001b[0m Retrieving fixtures for ENG-Premier League \u001b[1;36m2425\u001b[0m                \u001b]8;id=431824;file://C:\\Users\\acer\\AppData\\Local\\Programs\\Python\\Python312\\Lib\\site-packages\\soccerdata\\whoscored.py\u001b\\\u001b[2mwhoscored.py\u001b[0m\u001b]8;;\u001b\\\u001b[2m:\u001b[0m\u001b]8;id=320797;file://C:\\Users\\acer\\AppData\\Local\\Programs\\Python\\Python312\\Lib\\site-packages\\soccerdata\\whoscored.py#400\u001b\\\u001b[2m400\u001b[0m\u001b]8;;\u001b\\\n"
      ]
     },
     "metadata": {},
     "output_type": "display_data"
    },
    {
     "data": {
      "text/html": [
       "<pre style=\"white-space:pre;overflow-x:auto;line-height:normal;font-family:Menlo,'DejaVu Sans Mono',consolas,'Courier New',monospace\"><span style=\"color: #7fbfbf; text-decoration-color: #7fbfbf\">[09/02/24 20:25:36] </span><span style=\"color: #000080; text-decoration-color: #000080\">INFO    </span> <span style=\"font-weight: bold\">[</span><span style=\"color: #008080; text-decoration-color: #008080; font-weight: bold\">4</span>/<span style=\"color: #008080; text-decoration-color: #008080; font-weight: bold\">10</span><span style=\"font-weight: bold\">]</span> Retrieving fixtures for ENG-Premier League <span style=\"color: #008080; text-decoration-color: #008080; font-weight: bold\">2425</span>                <a href=\"file://C:\\Users\\acer\\AppData\\Local\\Programs\\Python\\Python312\\Lib\\site-packages\\soccerdata\\whoscored.py\" target=\"_blank\"><span style=\"color: #7f7f7f; text-decoration-color: #7f7f7f\">whoscored.py</span></a><span style=\"color: #7f7f7f; text-decoration-color: #7f7f7f\">:</span><a href=\"file://C:\\Users\\acer\\AppData\\Local\\Programs\\Python\\Python312\\Lib\\site-packages\\soccerdata\\whoscored.py#400\" target=\"_blank\"><span style=\"color: #7f7f7f; text-decoration-color: #7f7f7f\">400</span></a>\n",
       "</pre>\n"
      ],
      "text/plain": [
       "\u001b[2;36m[09/02/24 20:25:36]\u001b[0m\u001b[2;36m \u001b[0m\u001b[34mINFO    \u001b[0m \u001b[1m[\u001b[0m\u001b[1;36m4\u001b[0m/\u001b[1;36m10\u001b[0m\u001b[1m]\u001b[0m Retrieving fixtures for ENG-Premier League \u001b[1;36m2425\u001b[0m                \u001b]8;id=983497;file://C:\\Users\\acer\\AppData\\Local\\Programs\\Python\\Python312\\Lib\\site-packages\\soccerdata\\whoscored.py\u001b\\\u001b[2mwhoscored.py\u001b[0m\u001b]8;;\u001b\\\u001b[2m:\u001b[0m\u001b]8;id=321505;file://C:\\Users\\acer\\AppData\\Local\\Programs\\Python\\Python312\\Lib\\site-packages\\soccerdata\\whoscored.py#400\u001b\\\u001b[2m400\u001b[0m\u001b]8;;\u001b\\\n"
      ]
     },
     "metadata": {},
     "output_type": "display_data"
    },
    {
     "data": {
      "text/html": [
       "<pre style=\"white-space:pre;overflow-x:auto;line-height:normal;font-family:Menlo,'DejaVu Sans Mono',consolas,'Courier New',monospace\"><span style=\"color: #7fbfbf; text-decoration-color: #7fbfbf\">[09/02/24 20:25:42] </span><span style=\"color: #000080; text-decoration-color: #000080\">INFO    </span> <span style=\"font-weight: bold\">[</span><span style=\"color: #008080; text-decoration-color: #008080; font-weight: bold\">5</span>/<span style=\"color: #008080; text-decoration-color: #008080; font-weight: bold\">10</span><span style=\"font-weight: bold\">]</span> Retrieving fixtures for ENG-Premier League <span style=\"color: #008080; text-decoration-color: #008080; font-weight: bold\">2425</span>                <a href=\"file://C:\\Users\\acer\\AppData\\Local\\Programs\\Python\\Python312\\Lib\\site-packages\\soccerdata\\whoscored.py\" target=\"_blank\"><span style=\"color: #7f7f7f; text-decoration-color: #7f7f7f\">whoscored.py</span></a><span style=\"color: #7f7f7f; text-decoration-color: #7f7f7f\">:</span><a href=\"file://C:\\Users\\acer\\AppData\\Local\\Programs\\Python\\Python312\\Lib\\site-packages\\soccerdata\\whoscored.py#400\" target=\"_blank\"><span style=\"color: #7f7f7f; text-decoration-color: #7f7f7f\">400</span></a>\n",
       "</pre>\n"
      ],
      "text/plain": [
       "\u001b[2;36m[09/02/24 20:25:42]\u001b[0m\u001b[2;36m \u001b[0m\u001b[34mINFO    \u001b[0m \u001b[1m[\u001b[0m\u001b[1;36m5\u001b[0m/\u001b[1;36m10\u001b[0m\u001b[1m]\u001b[0m Retrieving fixtures for ENG-Premier League \u001b[1;36m2425\u001b[0m                \u001b]8;id=852381;file://C:\\Users\\acer\\AppData\\Local\\Programs\\Python\\Python312\\Lib\\site-packages\\soccerdata\\whoscored.py\u001b\\\u001b[2mwhoscored.py\u001b[0m\u001b]8;;\u001b\\\u001b[2m:\u001b[0m\u001b]8;id=274652;file://C:\\Users\\acer\\AppData\\Local\\Programs\\Python\\Python312\\Lib\\site-packages\\soccerdata\\whoscored.py#400\u001b\\\u001b[2m400\u001b[0m\u001b]8;;\u001b\\\n"
      ]
     },
     "metadata": {},
     "output_type": "display_data"
    },
    {
     "data": {
      "text/html": [
       "<pre style=\"white-space:pre;overflow-x:auto;line-height:normal;font-family:Menlo,'DejaVu Sans Mono',consolas,'Courier New',monospace\"><span style=\"color: #7fbfbf; text-decoration-color: #7fbfbf\">[09/02/24 20:25:49] </span><span style=\"color: #000080; text-decoration-color: #000080\">INFO    </span> <span style=\"font-weight: bold\">[</span><span style=\"color: #008080; text-decoration-color: #008080; font-weight: bold\">6</span>/<span style=\"color: #008080; text-decoration-color: #008080; font-weight: bold\">10</span><span style=\"font-weight: bold\">]</span> Retrieving fixtures for ENG-Premier League <span style=\"color: #008080; text-decoration-color: #008080; font-weight: bold\">2425</span>                <a href=\"file://C:\\Users\\acer\\AppData\\Local\\Programs\\Python\\Python312\\Lib\\site-packages\\soccerdata\\whoscored.py\" target=\"_blank\"><span style=\"color: #7f7f7f; text-decoration-color: #7f7f7f\">whoscored.py</span></a><span style=\"color: #7f7f7f; text-decoration-color: #7f7f7f\">:</span><a href=\"file://C:\\Users\\acer\\AppData\\Local\\Programs\\Python\\Python312\\Lib\\site-packages\\soccerdata\\whoscored.py#400\" target=\"_blank\"><span style=\"color: #7f7f7f; text-decoration-color: #7f7f7f\">400</span></a>\n",
       "</pre>\n"
      ],
      "text/plain": [
       "\u001b[2;36m[09/02/24 20:25:49]\u001b[0m\u001b[2;36m \u001b[0m\u001b[34mINFO    \u001b[0m \u001b[1m[\u001b[0m\u001b[1;36m6\u001b[0m/\u001b[1;36m10\u001b[0m\u001b[1m]\u001b[0m Retrieving fixtures for ENG-Premier League \u001b[1;36m2425\u001b[0m                \u001b]8;id=870992;file://C:\\Users\\acer\\AppData\\Local\\Programs\\Python\\Python312\\Lib\\site-packages\\soccerdata\\whoscored.py\u001b\\\u001b[2mwhoscored.py\u001b[0m\u001b]8;;\u001b\\\u001b[2m:\u001b[0m\u001b]8;id=378821;file://C:\\Users\\acer\\AppData\\Local\\Programs\\Python\\Python312\\Lib\\site-packages\\soccerdata\\whoscored.py#400\u001b\\\u001b[2m400\u001b[0m\u001b]8;;\u001b\\\n"
      ]
     },
     "metadata": {},
     "output_type": "display_data"
    },
    {
     "data": {
      "text/html": [
       "<pre style=\"white-space:pre;overflow-x:auto;line-height:normal;font-family:Menlo,'DejaVu Sans Mono',consolas,'Courier New',monospace\"><span style=\"color: #7fbfbf; text-decoration-color: #7fbfbf\">[09/02/24 20:25:58] </span><span style=\"color: #000080; text-decoration-color: #000080\">INFO    </span> <span style=\"font-weight: bold\">[</span><span style=\"color: #008080; text-decoration-color: #008080; font-weight: bold\">7</span>/<span style=\"color: #008080; text-decoration-color: #008080; font-weight: bold\">10</span><span style=\"font-weight: bold\">]</span> Retrieving fixtures for ENG-Premier League <span style=\"color: #008080; text-decoration-color: #008080; font-weight: bold\">2425</span>                <a href=\"file://C:\\Users\\acer\\AppData\\Local\\Programs\\Python\\Python312\\Lib\\site-packages\\soccerdata\\whoscored.py\" target=\"_blank\"><span style=\"color: #7f7f7f; text-decoration-color: #7f7f7f\">whoscored.py</span></a><span style=\"color: #7f7f7f; text-decoration-color: #7f7f7f\">:</span><a href=\"file://C:\\Users\\acer\\AppData\\Local\\Programs\\Python\\Python312\\Lib\\site-packages\\soccerdata\\whoscored.py#400\" target=\"_blank\"><span style=\"color: #7f7f7f; text-decoration-color: #7f7f7f\">400</span></a>\n",
       "</pre>\n"
      ],
      "text/plain": [
       "\u001b[2;36m[09/02/24 20:25:58]\u001b[0m\u001b[2;36m \u001b[0m\u001b[34mINFO    \u001b[0m \u001b[1m[\u001b[0m\u001b[1;36m7\u001b[0m/\u001b[1;36m10\u001b[0m\u001b[1m]\u001b[0m Retrieving fixtures for ENG-Premier League \u001b[1;36m2425\u001b[0m                \u001b]8;id=600313;file://C:\\Users\\acer\\AppData\\Local\\Programs\\Python\\Python312\\Lib\\site-packages\\soccerdata\\whoscored.py\u001b\\\u001b[2mwhoscored.py\u001b[0m\u001b]8;;\u001b\\\u001b[2m:\u001b[0m\u001b]8;id=48712;file://C:\\Users\\acer\\AppData\\Local\\Programs\\Python\\Python312\\Lib\\site-packages\\soccerdata\\whoscored.py#400\u001b\\\u001b[2m400\u001b[0m\u001b]8;;\u001b\\\n"
      ]
     },
     "metadata": {},
     "output_type": "display_data"
    },
    {
     "data": {
      "text/html": [
       "<pre style=\"white-space:pre;overflow-x:auto;line-height:normal;font-family:Menlo,'DejaVu Sans Mono',consolas,'Courier New',monospace\"><span style=\"color: #7fbfbf; text-decoration-color: #7fbfbf\">[09/02/24 20:26:08] </span><span style=\"color: #000080; text-decoration-color: #000080\">INFO    </span> <span style=\"font-weight: bold\">[</span><span style=\"color: #008080; text-decoration-color: #008080; font-weight: bold\">8</span>/<span style=\"color: #008080; text-decoration-color: #008080; font-weight: bold\">10</span><span style=\"font-weight: bold\">]</span> Retrieving fixtures for ENG-Premier League <span style=\"color: #008080; text-decoration-color: #008080; font-weight: bold\">2425</span>                <a href=\"file://C:\\Users\\acer\\AppData\\Local\\Programs\\Python\\Python312\\Lib\\site-packages\\soccerdata\\whoscored.py\" target=\"_blank\"><span style=\"color: #7f7f7f; text-decoration-color: #7f7f7f\">whoscored.py</span></a><span style=\"color: #7f7f7f; text-decoration-color: #7f7f7f\">:</span><a href=\"file://C:\\Users\\acer\\AppData\\Local\\Programs\\Python\\Python312\\Lib\\site-packages\\soccerdata\\whoscored.py#400\" target=\"_blank\"><span style=\"color: #7f7f7f; text-decoration-color: #7f7f7f\">400</span></a>\n",
       "</pre>\n"
      ],
      "text/plain": [
       "\u001b[2;36m[09/02/24 20:26:08]\u001b[0m\u001b[2;36m \u001b[0m\u001b[34mINFO    \u001b[0m \u001b[1m[\u001b[0m\u001b[1;36m8\u001b[0m/\u001b[1;36m10\u001b[0m\u001b[1m]\u001b[0m Retrieving fixtures for ENG-Premier League \u001b[1;36m2425\u001b[0m                \u001b]8;id=637201;file://C:\\Users\\acer\\AppData\\Local\\Programs\\Python\\Python312\\Lib\\site-packages\\soccerdata\\whoscored.py\u001b\\\u001b[2mwhoscored.py\u001b[0m\u001b]8;;\u001b\\\u001b[2m:\u001b[0m\u001b]8;id=501663;file://C:\\Users\\acer\\AppData\\Local\\Programs\\Python\\Python312\\Lib\\site-packages\\soccerdata\\whoscored.py#400\u001b\\\u001b[2m400\u001b[0m\u001b]8;;\u001b\\\n"
      ]
     },
     "metadata": {},
     "output_type": "display_data"
    },
    {
     "data": {
      "text/html": [
       "<pre style=\"white-space:pre;overflow-x:auto;line-height:normal;font-family:Menlo,'DejaVu Sans Mono',consolas,'Courier New',monospace\"><span style=\"color: #7fbfbf; text-decoration-color: #7fbfbf\">[09/02/24 20:26:18] </span><span style=\"color: #000080; text-decoration-color: #000080\">INFO    </span> <span style=\"font-weight: bold\">[</span><span style=\"color: #008080; text-decoration-color: #008080; font-weight: bold\">9</span>/<span style=\"color: #008080; text-decoration-color: #008080; font-weight: bold\">10</span><span style=\"font-weight: bold\">]</span> Retrieving fixtures for ENG-Premier League <span style=\"color: #008080; text-decoration-color: #008080; font-weight: bold\">2425</span>                <a href=\"file://C:\\Users\\acer\\AppData\\Local\\Programs\\Python\\Python312\\Lib\\site-packages\\soccerdata\\whoscored.py\" target=\"_blank\"><span style=\"color: #7f7f7f; text-decoration-color: #7f7f7f\">whoscored.py</span></a><span style=\"color: #7f7f7f; text-decoration-color: #7f7f7f\">:</span><a href=\"file://C:\\Users\\acer\\AppData\\Local\\Programs\\Python\\Python312\\Lib\\site-packages\\soccerdata\\whoscored.py#400\" target=\"_blank\"><span style=\"color: #7f7f7f; text-decoration-color: #7f7f7f\">400</span></a>\n",
       "</pre>\n"
      ],
      "text/plain": [
       "\u001b[2;36m[09/02/24 20:26:18]\u001b[0m\u001b[2;36m \u001b[0m\u001b[34mINFO    \u001b[0m \u001b[1m[\u001b[0m\u001b[1;36m9\u001b[0m/\u001b[1;36m10\u001b[0m\u001b[1m]\u001b[0m Retrieving fixtures for ENG-Premier League \u001b[1;36m2425\u001b[0m                \u001b]8;id=387973;file://C:\\Users\\acer\\AppData\\Local\\Programs\\Python\\Python312\\Lib\\site-packages\\soccerdata\\whoscored.py\u001b\\\u001b[2mwhoscored.py\u001b[0m\u001b]8;;\u001b\\\u001b[2m:\u001b[0m\u001b]8;id=986990;file://C:\\Users\\acer\\AppData\\Local\\Programs\\Python\\Python312\\Lib\\site-packages\\soccerdata\\whoscored.py#400\u001b\\\u001b[2m400\u001b[0m\u001b]8;;\u001b\\\n"
      ]
     },
     "metadata": {},
     "output_type": "display_data"
    },
    {
     "data": {
      "text/html": [
       "<pre style=\"white-space:pre;overflow-x:auto;line-height:normal;font-family:Menlo,'DejaVu Sans Mono',consolas,'Courier New',monospace\"><span style=\"color: #7fbfbf; text-decoration-color: #7fbfbf\">[09/02/24 20:26:25] </span><span style=\"color: #000080; text-decoration-color: #000080\">INFO    </span> <span style=\"font-weight: bold\">[</span><span style=\"color: #008080; text-decoration-color: #008080; font-weight: bold\">10</span>/<span style=\"color: #008080; text-decoration-color: #008080; font-weight: bold\">10</span><span style=\"font-weight: bold\">]</span> Retrieving fixtures for ENG-Premier League <span style=\"color: #008080; text-decoration-color: #008080; font-weight: bold\">2425</span>               <a href=\"file://C:\\Users\\acer\\AppData\\Local\\Programs\\Python\\Python312\\Lib\\site-packages\\soccerdata\\whoscored.py\" target=\"_blank\"><span style=\"color: #7f7f7f; text-decoration-color: #7f7f7f\">whoscored.py</span></a><span style=\"color: #7f7f7f; text-decoration-color: #7f7f7f\">:</span><a href=\"file://C:\\Users\\acer\\AppData\\Local\\Programs\\Python\\Python312\\Lib\\site-packages\\soccerdata\\whoscored.py#400\" target=\"_blank\"><span style=\"color: #7f7f7f; text-decoration-color: #7f7f7f\">400</span></a>\n",
       "</pre>\n"
      ],
      "text/plain": [
       "\u001b[2;36m[09/02/24 20:26:25]\u001b[0m\u001b[2;36m \u001b[0m\u001b[34mINFO    \u001b[0m \u001b[1m[\u001b[0m\u001b[1;36m10\u001b[0m/\u001b[1;36m10\u001b[0m\u001b[1m]\u001b[0m Retrieving fixtures for ENG-Premier League \u001b[1;36m2425\u001b[0m               \u001b]8;id=199580;file://C:\\Users\\acer\\AppData\\Local\\Programs\\Python\\Python312\\Lib\\site-packages\\soccerdata\\whoscored.py\u001b\\\u001b[2mwhoscored.py\u001b[0m\u001b]8;;\u001b\\\u001b[2m:\u001b[0m\u001b]8;id=908952;file://C:\\Users\\acer\\AppData\\Local\\Programs\\Python\\Python312\\Lib\\site-packages\\soccerdata\\whoscored.py#400\u001b\\\u001b[2m400\u001b[0m\u001b]8;;\u001b\\\n"
      ]
     },
     "metadata": {},
     "output_type": "display_data"
    },
    {
     "name": "stderr",
     "output_type": "stream",
     "text": [
      "C:\\Users\\acer\\AppData\\Local\\Programs\\Python\\Python312\\Lib\\site-packages\\soccerdata\\whoscored.py:424: FutureWarning: The behavior of DataFrame concatenation with empty or all-NA entries is deprecated. In a future version, this will no longer exclude empty or all-NA columns when determining the result dtypes. To retain the old behavior, exclude the relevant entries before the concat operation.\n",
      "  pd.concat(all_schedules)\n"
     ]
    },
    {
     "data": {
      "text/html": [
       "<pre style=\"white-space:pre;overflow-x:auto;line-height:normal;font-family:Menlo,'DejaVu Sans Mono',consolas,'Courier New',monospace\"><span style=\"color: #7fbfbf; text-decoration-color: #7fbfbf\">[09/02/24 20:26:35] </span><span style=\"color: #000080; text-decoration-color: #000080\">INFO    </span> <span style=\"font-weight: bold\">[</span><span style=\"color: #008080; text-decoration-color: #008080; font-weight: bold\">1</span>/<span style=\"color: #008080; text-decoration-color: #008080; font-weight: bold\">1</span><span style=\"font-weight: bold\">]</span> Retrieving game with <span style=\"color: #808000; text-decoration-color: #808000\">id</span>=<span style=\"color: #008080; text-decoration-color: #008080; font-weight: bold\">1821053</span>                                 <a href=\"file://C:\\Users\\acer\\AppData\\Local\\Programs\\Python\\Python312\\Lib\\site-packages\\soccerdata\\whoscored.py\" target=\"_blank\"><span style=\"color: #7f7f7f; text-decoration-color: #7f7f7f\">whoscored.py</span></a><span style=\"color: #7f7f7f; text-decoration-color: #7f7f7f\">:</span><a href=\"file://C:\\Users\\acer\\AppData\\Local\\Programs\\Python\\Python312\\Lib\\site-packages\\soccerdata\\whoscored.py#692\" target=\"_blank\"><span style=\"color: #7f7f7f; text-decoration-color: #7f7f7f\">692</span></a>\n",
       "</pre>\n"
      ],
      "text/plain": [
       "\u001b[2;36m[09/02/24 20:26:35]\u001b[0m\u001b[2;36m \u001b[0m\u001b[34mINFO    \u001b[0m \u001b[1m[\u001b[0m\u001b[1;36m1\u001b[0m/\u001b[1;36m1\u001b[0m\u001b[1m]\u001b[0m Retrieving game with \u001b[33mid\u001b[0m=\u001b[1;36m1821053\u001b[0m                                 \u001b]8;id=55902;file://C:\\Users\\acer\\AppData\\Local\\Programs\\Python\\Python312\\Lib\\site-packages\\soccerdata\\whoscored.py\u001b\\\u001b[2mwhoscored.py\u001b[0m\u001b]8;;\u001b\\\u001b[2m:\u001b[0m\u001b]8;id=444019;file://C:\\Users\\acer\\AppData\\Local\\Programs\\Python\\Python312\\Lib\\site-packages\\soccerdata\\whoscored.py#692\u001b\\\u001b[2m692\u001b[0m\u001b]8;;\u001b\\\n"
      ]
     },
     "metadata": {},
     "output_type": "display_data"
    },
    {
     "data": {
      "text/html": [
       "<pre style=\"white-space:pre;overflow-x:auto;line-height:normal;font-family:Menlo,'DejaVu Sans Mono',consolas,'Courier New',monospace\"><span style=\"color: #7fbfbf; text-decoration-color: #7fbfbf\">[09/02/24 20:26:55] </span><span style=\"color: #000080; text-decoration-color: #000080\">INFO    </span> Retrieving calendar for ENG-Premier League <span style=\"color: #008080; text-decoration-color: #008080; font-weight: bold\">2425</span>                       <a href=\"file://C:\\Users\\acer\\AppData\\Local\\Programs\\Python\\Python312\\Lib\\site-packages\\soccerdata\\whoscored.py\" target=\"_blank\"><span style=\"color: #7f7f7f; text-decoration-color: #7f7f7f\">whoscored.py</span></a><span style=\"color: #7f7f7f; text-decoration-color: #7f7f7f\">:</span><a href=\"file://C:\\Users\\acer\\AppData\\Local\\Programs\\Python\\Python312\\Lib\\site-packages\\soccerdata\\whoscored.py#371\" target=\"_blank\"><span style=\"color: #7f7f7f; text-decoration-color: #7f7f7f\">371</span></a>\n",
       "</pre>\n"
      ],
      "text/plain": [
       "\u001b[2;36m[09/02/24 20:26:55]\u001b[0m\u001b[2;36m \u001b[0m\u001b[34mINFO    \u001b[0m Retrieving calendar for ENG-Premier League \u001b[1;36m2425\u001b[0m                       \u001b]8;id=625605;file://C:\\Users\\acer\\AppData\\Local\\Programs\\Python\\Python312\\Lib\\site-packages\\soccerdata\\whoscored.py\u001b\\\u001b[2mwhoscored.py\u001b[0m\u001b]8;;\u001b\\\u001b[2m:\u001b[0m\u001b]8;id=394525;file://C:\\Users\\acer\\AppData\\Local\\Programs\\Python\\Python312\\Lib\\site-packages\\soccerdata\\whoscored.py#371\u001b\\\u001b[2m371\u001b[0m\u001b]8;;\u001b\\\n"
      ]
     },
     "metadata": {},
     "output_type": "display_data"
    },
    {
     "data": {
      "text/html": [
       "<pre style=\"white-space:pre;overflow-x:auto;line-height:normal;font-family:Menlo,'DejaVu Sans Mono',consolas,'Courier New',monospace\"><span style=\"color: #7fbfbf; text-decoration-color: #7fbfbf\">[09/02/24 20:27:04] </span><span style=\"color: #000080; text-decoration-color: #000080\">INFO    </span> <span style=\"font-weight: bold\">[</span><span style=\"color: #008080; text-decoration-color: #008080; font-weight: bold\">1</span>/<span style=\"color: #008080; text-decoration-color: #008080; font-weight: bold\">10</span><span style=\"font-weight: bold\">]</span> Retrieving fixtures for ENG-Premier League <span style=\"color: #008080; text-decoration-color: #008080; font-weight: bold\">2425</span>                <a href=\"file://C:\\Users\\acer\\AppData\\Local\\Programs\\Python\\Python312\\Lib\\site-packages\\soccerdata\\whoscored.py\" target=\"_blank\"><span style=\"color: #7f7f7f; text-decoration-color: #7f7f7f\">whoscored.py</span></a><span style=\"color: #7f7f7f; text-decoration-color: #7f7f7f\">:</span><a href=\"file://C:\\Users\\acer\\AppData\\Local\\Programs\\Python\\Python312\\Lib\\site-packages\\soccerdata\\whoscored.py#400\" target=\"_blank\"><span style=\"color: #7f7f7f; text-decoration-color: #7f7f7f\">400</span></a>\n",
       "</pre>\n"
      ],
      "text/plain": [
       "\u001b[2;36m[09/02/24 20:27:04]\u001b[0m\u001b[2;36m \u001b[0m\u001b[34mINFO    \u001b[0m \u001b[1m[\u001b[0m\u001b[1;36m1\u001b[0m/\u001b[1;36m10\u001b[0m\u001b[1m]\u001b[0m Retrieving fixtures for ENG-Premier League \u001b[1;36m2425\u001b[0m                \u001b]8;id=436929;file://C:\\Users\\acer\\AppData\\Local\\Programs\\Python\\Python312\\Lib\\site-packages\\soccerdata\\whoscored.py\u001b\\\u001b[2mwhoscored.py\u001b[0m\u001b]8;;\u001b\\\u001b[2m:\u001b[0m\u001b]8;id=81606;file://C:\\Users\\acer\\AppData\\Local\\Programs\\Python\\Python312\\Lib\\site-packages\\soccerdata\\whoscored.py#400\u001b\\\u001b[2m400\u001b[0m\u001b]8;;\u001b\\\n"
      ]
     },
     "metadata": {},
     "output_type": "display_data"
    },
    {
     "data": {
      "text/html": [
       "<pre style=\"white-space:pre;overflow-x:auto;line-height:normal;font-family:Menlo,'DejaVu Sans Mono',consolas,'Courier New',monospace\"><span style=\"color: #7fbfbf; text-decoration-color: #7fbfbf\">[09/02/24 20:27:13] </span><span style=\"color: #000080; text-decoration-color: #000080\">INFO    </span> <span style=\"font-weight: bold\">[</span><span style=\"color: #008080; text-decoration-color: #008080; font-weight: bold\">2</span>/<span style=\"color: #008080; text-decoration-color: #008080; font-weight: bold\">10</span><span style=\"font-weight: bold\">]</span> Retrieving fixtures for ENG-Premier League <span style=\"color: #008080; text-decoration-color: #008080; font-weight: bold\">2425</span>                <a href=\"file://C:\\Users\\acer\\AppData\\Local\\Programs\\Python\\Python312\\Lib\\site-packages\\soccerdata\\whoscored.py\" target=\"_blank\"><span style=\"color: #7f7f7f; text-decoration-color: #7f7f7f\">whoscored.py</span></a><span style=\"color: #7f7f7f; text-decoration-color: #7f7f7f\">:</span><a href=\"file://C:\\Users\\acer\\AppData\\Local\\Programs\\Python\\Python312\\Lib\\site-packages\\soccerdata\\whoscored.py#400\" target=\"_blank\"><span style=\"color: #7f7f7f; text-decoration-color: #7f7f7f\">400</span></a>\n",
       "</pre>\n"
      ],
      "text/plain": [
       "\u001b[2;36m[09/02/24 20:27:13]\u001b[0m\u001b[2;36m \u001b[0m\u001b[34mINFO    \u001b[0m \u001b[1m[\u001b[0m\u001b[1;36m2\u001b[0m/\u001b[1;36m10\u001b[0m\u001b[1m]\u001b[0m Retrieving fixtures for ENG-Premier League \u001b[1;36m2425\u001b[0m                \u001b]8;id=557730;file://C:\\Users\\acer\\AppData\\Local\\Programs\\Python\\Python312\\Lib\\site-packages\\soccerdata\\whoscored.py\u001b\\\u001b[2mwhoscored.py\u001b[0m\u001b]8;;\u001b\\\u001b[2m:\u001b[0m\u001b]8;id=992724;file://C:\\Users\\acer\\AppData\\Local\\Programs\\Python\\Python312\\Lib\\site-packages\\soccerdata\\whoscored.py#400\u001b\\\u001b[2m400\u001b[0m\u001b]8;;\u001b\\\n"
      ]
     },
     "metadata": {},
     "output_type": "display_data"
    },
    {
     "data": {
      "text/html": [
       "<pre style=\"white-space:pre;overflow-x:auto;line-height:normal;font-family:Menlo,'DejaVu Sans Mono',consolas,'Courier New',monospace\"><span style=\"color: #7fbfbf; text-decoration-color: #7fbfbf\">[09/02/24 20:27:24] </span><span style=\"color: #000080; text-decoration-color: #000080\">INFO    </span> <span style=\"font-weight: bold\">[</span><span style=\"color: #008080; text-decoration-color: #008080; font-weight: bold\">3</span>/<span style=\"color: #008080; text-decoration-color: #008080; font-weight: bold\">10</span><span style=\"font-weight: bold\">]</span> Retrieving fixtures for ENG-Premier League <span style=\"color: #008080; text-decoration-color: #008080; font-weight: bold\">2425</span>                <a href=\"file://C:\\Users\\acer\\AppData\\Local\\Programs\\Python\\Python312\\Lib\\site-packages\\soccerdata\\whoscored.py\" target=\"_blank\"><span style=\"color: #7f7f7f; text-decoration-color: #7f7f7f\">whoscored.py</span></a><span style=\"color: #7f7f7f; text-decoration-color: #7f7f7f\">:</span><a href=\"file://C:\\Users\\acer\\AppData\\Local\\Programs\\Python\\Python312\\Lib\\site-packages\\soccerdata\\whoscored.py#400\" target=\"_blank\"><span style=\"color: #7f7f7f; text-decoration-color: #7f7f7f\">400</span></a>\n",
       "</pre>\n"
      ],
      "text/plain": [
       "\u001b[2;36m[09/02/24 20:27:24]\u001b[0m\u001b[2;36m \u001b[0m\u001b[34mINFO    \u001b[0m \u001b[1m[\u001b[0m\u001b[1;36m3\u001b[0m/\u001b[1;36m10\u001b[0m\u001b[1m]\u001b[0m Retrieving fixtures for ENG-Premier League \u001b[1;36m2425\u001b[0m                \u001b]8;id=613468;file://C:\\Users\\acer\\AppData\\Local\\Programs\\Python\\Python312\\Lib\\site-packages\\soccerdata\\whoscored.py\u001b\\\u001b[2mwhoscored.py\u001b[0m\u001b]8;;\u001b\\\u001b[2m:\u001b[0m\u001b]8;id=160070;file://C:\\Users\\acer\\AppData\\Local\\Programs\\Python\\Python312\\Lib\\site-packages\\soccerdata\\whoscored.py#400\u001b\\\u001b[2m400\u001b[0m\u001b]8;;\u001b\\\n"
      ]
     },
     "metadata": {},
     "output_type": "display_data"
    },
    {
     "data": {
      "text/html": [
       "<pre style=\"white-space:pre;overflow-x:auto;line-height:normal;font-family:Menlo,'DejaVu Sans Mono',consolas,'Courier New',monospace\"><span style=\"color: #7fbfbf; text-decoration-color: #7fbfbf\">[09/02/24 20:27:31] </span><span style=\"color: #000080; text-decoration-color: #000080\">INFO    </span> <span style=\"font-weight: bold\">[</span><span style=\"color: #008080; text-decoration-color: #008080; font-weight: bold\">4</span>/<span style=\"color: #008080; text-decoration-color: #008080; font-weight: bold\">10</span><span style=\"font-weight: bold\">]</span> Retrieving fixtures for ENG-Premier League <span style=\"color: #008080; text-decoration-color: #008080; font-weight: bold\">2425</span>                <a href=\"file://C:\\Users\\acer\\AppData\\Local\\Programs\\Python\\Python312\\Lib\\site-packages\\soccerdata\\whoscored.py\" target=\"_blank\"><span style=\"color: #7f7f7f; text-decoration-color: #7f7f7f\">whoscored.py</span></a><span style=\"color: #7f7f7f; text-decoration-color: #7f7f7f\">:</span><a href=\"file://C:\\Users\\acer\\AppData\\Local\\Programs\\Python\\Python312\\Lib\\site-packages\\soccerdata\\whoscored.py#400\" target=\"_blank\"><span style=\"color: #7f7f7f; text-decoration-color: #7f7f7f\">400</span></a>\n",
       "</pre>\n"
      ],
      "text/plain": [
       "\u001b[2;36m[09/02/24 20:27:31]\u001b[0m\u001b[2;36m \u001b[0m\u001b[34mINFO    \u001b[0m \u001b[1m[\u001b[0m\u001b[1;36m4\u001b[0m/\u001b[1;36m10\u001b[0m\u001b[1m]\u001b[0m Retrieving fixtures for ENG-Premier League \u001b[1;36m2425\u001b[0m                \u001b]8;id=95259;file://C:\\Users\\acer\\AppData\\Local\\Programs\\Python\\Python312\\Lib\\site-packages\\soccerdata\\whoscored.py\u001b\\\u001b[2mwhoscored.py\u001b[0m\u001b]8;;\u001b\\\u001b[2m:\u001b[0m\u001b]8;id=315284;file://C:\\Users\\acer\\AppData\\Local\\Programs\\Python\\Python312\\Lib\\site-packages\\soccerdata\\whoscored.py#400\u001b\\\u001b[2m400\u001b[0m\u001b]8;;\u001b\\\n"
      ]
     },
     "metadata": {},
     "output_type": "display_data"
    },
    {
     "data": {
      "text/html": [
       "<pre style=\"white-space:pre;overflow-x:auto;line-height:normal;font-family:Menlo,'DejaVu Sans Mono',consolas,'Courier New',monospace\"><span style=\"color: #7fbfbf; text-decoration-color: #7fbfbf\">[09/02/24 20:27:37] </span><span style=\"color: #000080; text-decoration-color: #000080\">INFO    </span> <span style=\"font-weight: bold\">[</span><span style=\"color: #008080; text-decoration-color: #008080; font-weight: bold\">5</span>/<span style=\"color: #008080; text-decoration-color: #008080; font-weight: bold\">10</span><span style=\"font-weight: bold\">]</span> Retrieving fixtures for ENG-Premier League <span style=\"color: #008080; text-decoration-color: #008080; font-weight: bold\">2425</span>                <a href=\"file://C:\\Users\\acer\\AppData\\Local\\Programs\\Python\\Python312\\Lib\\site-packages\\soccerdata\\whoscored.py\" target=\"_blank\"><span style=\"color: #7f7f7f; text-decoration-color: #7f7f7f\">whoscored.py</span></a><span style=\"color: #7f7f7f; text-decoration-color: #7f7f7f\">:</span><a href=\"file://C:\\Users\\acer\\AppData\\Local\\Programs\\Python\\Python312\\Lib\\site-packages\\soccerdata\\whoscored.py#400\" target=\"_blank\"><span style=\"color: #7f7f7f; text-decoration-color: #7f7f7f\">400</span></a>\n",
       "</pre>\n"
      ],
      "text/plain": [
       "\u001b[2;36m[09/02/24 20:27:37]\u001b[0m\u001b[2;36m \u001b[0m\u001b[34mINFO    \u001b[0m \u001b[1m[\u001b[0m\u001b[1;36m5\u001b[0m/\u001b[1;36m10\u001b[0m\u001b[1m]\u001b[0m Retrieving fixtures for ENG-Premier League \u001b[1;36m2425\u001b[0m                \u001b]8;id=868543;file://C:\\Users\\acer\\AppData\\Local\\Programs\\Python\\Python312\\Lib\\site-packages\\soccerdata\\whoscored.py\u001b\\\u001b[2mwhoscored.py\u001b[0m\u001b]8;;\u001b\\\u001b[2m:\u001b[0m\u001b]8;id=800762;file://C:\\Users\\acer\\AppData\\Local\\Programs\\Python\\Python312\\Lib\\site-packages\\soccerdata\\whoscored.py#400\u001b\\\u001b[2m400\u001b[0m\u001b]8;;\u001b\\\n"
      ]
     },
     "metadata": {},
     "output_type": "display_data"
    },
    {
     "data": {
      "text/html": [
       "<pre style=\"white-space:pre;overflow-x:auto;line-height:normal;font-family:Menlo,'DejaVu Sans Mono',consolas,'Courier New',monospace\"><span style=\"color: #7fbfbf; text-decoration-color: #7fbfbf\">[09/02/24 20:27:45] </span><span style=\"color: #000080; text-decoration-color: #000080\">INFO    </span> <span style=\"font-weight: bold\">[</span><span style=\"color: #008080; text-decoration-color: #008080; font-weight: bold\">6</span>/<span style=\"color: #008080; text-decoration-color: #008080; font-weight: bold\">10</span><span style=\"font-weight: bold\">]</span> Retrieving fixtures for ENG-Premier League <span style=\"color: #008080; text-decoration-color: #008080; font-weight: bold\">2425</span>                <a href=\"file://C:\\Users\\acer\\AppData\\Local\\Programs\\Python\\Python312\\Lib\\site-packages\\soccerdata\\whoscored.py\" target=\"_blank\"><span style=\"color: #7f7f7f; text-decoration-color: #7f7f7f\">whoscored.py</span></a><span style=\"color: #7f7f7f; text-decoration-color: #7f7f7f\">:</span><a href=\"file://C:\\Users\\acer\\AppData\\Local\\Programs\\Python\\Python312\\Lib\\site-packages\\soccerdata\\whoscored.py#400\" target=\"_blank\"><span style=\"color: #7f7f7f; text-decoration-color: #7f7f7f\">400</span></a>\n",
       "</pre>\n"
      ],
      "text/plain": [
       "\u001b[2;36m[09/02/24 20:27:45]\u001b[0m\u001b[2;36m \u001b[0m\u001b[34mINFO    \u001b[0m \u001b[1m[\u001b[0m\u001b[1;36m6\u001b[0m/\u001b[1;36m10\u001b[0m\u001b[1m]\u001b[0m Retrieving fixtures for ENG-Premier League \u001b[1;36m2425\u001b[0m                \u001b]8;id=179193;file://C:\\Users\\acer\\AppData\\Local\\Programs\\Python\\Python312\\Lib\\site-packages\\soccerdata\\whoscored.py\u001b\\\u001b[2mwhoscored.py\u001b[0m\u001b]8;;\u001b\\\u001b[2m:\u001b[0m\u001b]8;id=103788;file://C:\\Users\\acer\\AppData\\Local\\Programs\\Python\\Python312\\Lib\\site-packages\\soccerdata\\whoscored.py#400\u001b\\\u001b[2m400\u001b[0m\u001b]8;;\u001b\\\n"
      ]
     },
     "metadata": {},
     "output_type": "display_data"
    },
    {
     "data": {
      "text/html": [
       "<pre style=\"white-space:pre;overflow-x:auto;line-height:normal;font-family:Menlo,'DejaVu Sans Mono',consolas,'Courier New',monospace\"><span style=\"color: #7fbfbf; text-decoration-color: #7fbfbf\">[09/02/24 20:27:54] </span><span style=\"color: #000080; text-decoration-color: #000080\">INFO    </span> <span style=\"font-weight: bold\">[</span><span style=\"color: #008080; text-decoration-color: #008080; font-weight: bold\">7</span>/<span style=\"color: #008080; text-decoration-color: #008080; font-weight: bold\">10</span><span style=\"font-weight: bold\">]</span> Retrieving fixtures for ENG-Premier League <span style=\"color: #008080; text-decoration-color: #008080; font-weight: bold\">2425</span>                <a href=\"file://C:\\Users\\acer\\AppData\\Local\\Programs\\Python\\Python312\\Lib\\site-packages\\soccerdata\\whoscored.py\" target=\"_blank\"><span style=\"color: #7f7f7f; text-decoration-color: #7f7f7f\">whoscored.py</span></a><span style=\"color: #7f7f7f; text-decoration-color: #7f7f7f\">:</span><a href=\"file://C:\\Users\\acer\\AppData\\Local\\Programs\\Python\\Python312\\Lib\\site-packages\\soccerdata\\whoscored.py#400\" target=\"_blank\"><span style=\"color: #7f7f7f; text-decoration-color: #7f7f7f\">400</span></a>\n",
       "</pre>\n"
      ],
      "text/plain": [
       "\u001b[2;36m[09/02/24 20:27:54]\u001b[0m\u001b[2;36m \u001b[0m\u001b[34mINFO    \u001b[0m \u001b[1m[\u001b[0m\u001b[1;36m7\u001b[0m/\u001b[1;36m10\u001b[0m\u001b[1m]\u001b[0m Retrieving fixtures for ENG-Premier League \u001b[1;36m2425\u001b[0m                \u001b]8;id=591552;file://C:\\Users\\acer\\AppData\\Local\\Programs\\Python\\Python312\\Lib\\site-packages\\soccerdata\\whoscored.py\u001b\\\u001b[2mwhoscored.py\u001b[0m\u001b]8;;\u001b\\\u001b[2m:\u001b[0m\u001b]8;id=619849;file://C:\\Users\\acer\\AppData\\Local\\Programs\\Python\\Python312\\Lib\\site-packages\\soccerdata\\whoscored.py#400\u001b\\\u001b[2m400\u001b[0m\u001b]8;;\u001b\\\n"
      ]
     },
     "metadata": {},
     "output_type": "display_data"
    },
    {
     "data": {
      "text/html": [
       "<pre style=\"white-space:pre;overflow-x:auto;line-height:normal;font-family:Menlo,'DejaVu Sans Mono',consolas,'Courier New',monospace\"><span style=\"color: #7fbfbf; text-decoration-color: #7fbfbf\">[09/02/24 20:28:00] </span><span style=\"color: #000080; text-decoration-color: #000080\">INFO    </span> <span style=\"font-weight: bold\">[</span><span style=\"color: #008080; text-decoration-color: #008080; font-weight: bold\">8</span>/<span style=\"color: #008080; text-decoration-color: #008080; font-weight: bold\">10</span><span style=\"font-weight: bold\">]</span> Retrieving fixtures for ENG-Premier League <span style=\"color: #008080; text-decoration-color: #008080; font-weight: bold\">2425</span>                <a href=\"file://C:\\Users\\acer\\AppData\\Local\\Programs\\Python\\Python312\\Lib\\site-packages\\soccerdata\\whoscored.py\" target=\"_blank\"><span style=\"color: #7f7f7f; text-decoration-color: #7f7f7f\">whoscored.py</span></a><span style=\"color: #7f7f7f; text-decoration-color: #7f7f7f\">:</span><a href=\"file://C:\\Users\\acer\\AppData\\Local\\Programs\\Python\\Python312\\Lib\\site-packages\\soccerdata\\whoscored.py#400\" target=\"_blank\"><span style=\"color: #7f7f7f; text-decoration-color: #7f7f7f\">400</span></a>\n",
       "</pre>\n"
      ],
      "text/plain": [
       "\u001b[2;36m[09/02/24 20:28:00]\u001b[0m\u001b[2;36m \u001b[0m\u001b[34mINFO    \u001b[0m \u001b[1m[\u001b[0m\u001b[1;36m8\u001b[0m/\u001b[1;36m10\u001b[0m\u001b[1m]\u001b[0m Retrieving fixtures for ENG-Premier League \u001b[1;36m2425\u001b[0m                \u001b]8;id=745212;file://C:\\Users\\acer\\AppData\\Local\\Programs\\Python\\Python312\\Lib\\site-packages\\soccerdata\\whoscored.py\u001b\\\u001b[2mwhoscored.py\u001b[0m\u001b]8;;\u001b\\\u001b[2m:\u001b[0m\u001b]8;id=331617;file://C:\\Users\\acer\\AppData\\Local\\Programs\\Python\\Python312\\Lib\\site-packages\\soccerdata\\whoscored.py#400\u001b\\\u001b[2m400\u001b[0m\u001b]8;;\u001b\\\n"
      ]
     },
     "metadata": {},
     "output_type": "display_data"
    },
    {
     "data": {
      "text/html": [
       "<pre style=\"white-space:pre;overflow-x:auto;line-height:normal;font-family:Menlo,'DejaVu Sans Mono',consolas,'Courier New',monospace\"><span style=\"color: #7fbfbf; text-decoration-color: #7fbfbf\">[09/02/24 20:28:07] </span><span style=\"color: #000080; text-decoration-color: #000080\">INFO    </span> <span style=\"font-weight: bold\">[</span><span style=\"color: #008080; text-decoration-color: #008080; font-weight: bold\">9</span>/<span style=\"color: #008080; text-decoration-color: #008080; font-weight: bold\">10</span><span style=\"font-weight: bold\">]</span> Retrieving fixtures for ENG-Premier League <span style=\"color: #008080; text-decoration-color: #008080; font-weight: bold\">2425</span>                <a href=\"file://C:\\Users\\acer\\AppData\\Local\\Programs\\Python\\Python312\\Lib\\site-packages\\soccerdata\\whoscored.py\" target=\"_blank\"><span style=\"color: #7f7f7f; text-decoration-color: #7f7f7f\">whoscored.py</span></a><span style=\"color: #7f7f7f; text-decoration-color: #7f7f7f\">:</span><a href=\"file://C:\\Users\\acer\\AppData\\Local\\Programs\\Python\\Python312\\Lib\\site-packages\\soccerdata\\whoscored.py#400\" target=\"_blank\"><span style=\"color: #7f7f7f; text-decoration-color: #7f7f7f\">400</span></a>\n",
       "</pre>\n"
      ],
      "text/plain": [
       "\u001b[2;36m[09/02/24 20:28:07]\u001b[0m\u001b[2;36m \u001b[0m\u001b[34mINFO    \u001b[0m \u001b[1m[\u001b[0m\u001b[1;36m9\u001b[0m/\u001b[1;36m10\u001b[0m\u001b[1m]\u001b[0m Retrieving fixtures for ENG-Premier League \u001b[1;36m2425\u001b[0m                \u001b]8;id=241467;file://C:\\Users\\acer\\AppData\\Local\\Programs\\Python\\Python312\\Lib\\site-packages\\soccerdata\\whoscored.py\u001b\\\u001b[2mwhoscored.py\u001b[0m\u001b]8;;\u001b\\\u001b[2m:\u001b[0m\u001b]8;id=91433;file://C:\\Users\\acer\\AppData\\Local\\Programs\\Python\\Python312\\Lib\\site-packages\\soccerdata\\whoscored.py#400\u001b\\\u001b[2m400\u001b[0m\u001b]8;;\u001b\\\n"
      ]
     },
     "metadata": {},
     "output_type": "display_data"
    },
    {
     "data": {
      "text/html": [
       "<pre style=\"white-space:pre;overflow-x:auto;line-height:normal;font-family:Menlo,'DejaVu Sans Mono',consolas,'Courier New',monospace\"><span style=\"color: #7fbfbf; text-decoration-color: #7fbfbf\">[09/02/24 20:28:13] </span><span style=\"color: #000080; text-decoration-color: #000080\">INFO    </span> <span style=\"font-weight: bold\">[</span><span style=\"color: #008080; text-decoration-color: #008080; font-weight: bold\">10</span>/<span style=\"color: #008080; text-decoration-color: #008080; font-weight: bold\">10</span><span style=\"font-weight: bold\">]</span> Retrieving fixtures for ENG-Premier League <span style=\"color: #008080; text-decoration-color: #008080; font-weight: bold\">2425</span>               <a href=\"file://C:\\Users\\acer\\AppData\\Local\\Programs\\Python\\Python312\\Lib\\site-packages\\soccerdata\\whoscored.py\" target=\"_blank\"><span style=\"color: #7f7f7f; text-decoration-color: #7f7f7f\">whoscored.py</span></a><span style=\"color: #7f7f7f; text-decoration-color: #7f7f7f\">:</span><a href=\"file://C:\\Users\\acer\\AppData\\Local\\Programs\\Python\\Python312\\Lib\\site-packages\\soccerdata\\whoscored.py#400\" target=\"_blank\"><span style=\"color: #7f7f7f; text-decoration-color: #7f7f7f\">400</span></a>\n",
       "</pre>\n"
      ],
      "text/plain": [
       "\u001b[2;36m[09/02/24 20:28:13]\u001b[0m\u001b[2;36m \u001b[0m\u001b[34mINFO    \u001b[0m \u001b[1m[\u001b[0m\u001b[1;36m10\u001b[0m/\u001b[1;36m10\u001b[0m\u001b[1m]\u001b[0m Retrieving fixtures for ENG-Premier League \u001b[1;36m2425\u001b[0m               \u001b]8;id=437417;file://C:\\Users\\acer\\AppData\\Local\\Programs\\Python\\Python312\\Lib\\site-packages\\soccerdata\\whoscored.py\u001b\\\u001b[2mwhoscored.py\u001b[0m\u001b]8;;\u001b\\\u001b[2m:\u001b[0m\u001b]8;id=224731;file://C:\\Users\\acer\\AppData\\Local\\Programs\\Python\\Python312\\Lib\\site-packages\\soccerdata\\whoscored.py#400\u001b\\\u001b[2m400\u001b[0m\u001b]8;;\u001b\\\n"
      ]
     },
     "metadata": {},
     "output_type": "display_data"
    },
    {
     "name": "stderr",
     "output_type": "stream",
     "text": [
      "C:\\Users\\acer\\AppData\\Local\\Programs\\Python\\Python312\\Lib\\site-packages\\soccerdata\\whoscored.py:424: FutureWarning: The behavior of DataFrame concatenation with empty or all-NA entries is deprecated. In a future version, this will no longer exclude empty or all-NA columns when determining the result dtypes. To retain the old behavior, exclude the relevant entries before the concat operation.\n",
      "  pd.concat(all_schedules)\n"
     ]
    },
    {
     "data": {
      "text/html": [
       "<pre style=\"white-space:pre;overflow-x:auto;line-height:normal;font-family:Menlo,'DejaVu Sans Mono',consolas,'Courier New',monospace\"><span style=\"color: #7fbfbf; text-decoration-color: #7fbfbf\">[09/02/24 20:28:21] </span><span style=\"color: #000080; text-decoration-color: #000080\">INFO    </span> <span style=\"font-weight: bold\">[</span><span style=\"color: #008080; text-decoration-color: #008080; font-weight: bold\">1</span>/<span style=\"color: #008080; text-decoration-color: #008080; font-weight: bold\">1</span><span style=\"font-weight: bold\">]</span> Retrieving game with <span style=\"color: #808000; text-decoration-color: #808000\">id</span>=<span style=\"color: #008080; text-decoration-color: #008080; font-weight: bold\">1821054</span>                                 <a href=\"file://C:\\Users\\acer\\AppData\\Local\\Programs\\Python\\Python312\\Lib\\site-packages\\soccerdata\\whoscored.py\" target=\"_blank\"><span style=\"color: #7f7f7f; text-decoration-color: #7f7f7f\">whoscored.py</span></a><span style=\"color: #7f7f7f; text-decoration-color: #7f7f7f\">:</span><a href=\"file://C:\\Users\\acer\\AppData\\Local\\Programs\\Python\\Python312\\Lib\\site-packages\\soccerdata\\whoscored.py#692\" target=\"_blank\"><span style=\"color: #7f7f7f; text-decoration-color: #7f7f7f\">692</span></a>\n",
       "</pre>\n"
      ],
      "text/plain": [
       "\u001b[2;36m[09/02/24 20:28:21]\u001b[0m\u001b[2;36m \u001b[0m\u001b[34mINFO    \u001b[0m \u001b[1m[\u001b[0m\u001b[1;36m1\u001b[0m/\u001b[1;36m1\u001b[0m\u001b[1m]\u001b[0m Retrieving game with \u001b[33mid\u001b[0m=\u001b[1;36m1821054\u001b[0m                                 \u001b]8;id=491623;file://C:\\Users\\acer\\AppData\\Local\\Programs\\Python\\Python312\\Lib\\site-packages\\soccerdata\\whoscored.py\u001b\\\u001b[2mwhoscored.py\u001b[0m\u001b]8;;\u001b\\\u001b[2m:\u001b[0m\u001b]8;id=250597;file://C:\\Users\\acer\\AppData\\Local\\Programs\\Python\\Python312\\Lib\\site-packages\\soccerdata\\whoscored.py#692\u001b\\\u001b[2m692\u001b[0m\u001b]8;;\u001b\\\n"
      ]
     },
     "metadata": {},
     "output_type": "display_data"
    },
    {
     "data": {
      "text/html": [
       "<pre style=\"white-space:pre;overflow-x:auto;line-height:normal;font-family:Menlo,'DejaVu Sans Mono',consolas,'Courier New',monospace\"><span style=\"color: #7fbfbf; text-decoration-color: #7fbfbf\">[09/02/24 20:28:47] </span><span style=\"color: #000080; text-decoration-color: #000080\">INFO    </span> Retrieving calendar for ENG-Premier League <span style=\"color: #008080; text-decoration-color: #008080; font-weight: bold\">2425</span>                       <a href=\"file://C:\\Users\\acer\\AppData\\Local\\Programs\\Python\\Python312\\Lib\\site-packages\\soccerdata\\whoscored.py\" target=\"_blank\"><span style=\"color: #7f7f7f; text-decoration-color: #7f7f7f\">whoscored.py</span></a><span style=\"color: #7f7f7f; text-decoration-color: #7f7f7f\">:</span><a href=\"file://C:\\Users\\acer\\AppData\\Local\\Programs\\Python\\Python312\\Lib\\site-packages\\soccerdata\\whoscored.py#371\" target=\"_blank\"><span style=\"color: #7f7f7f; text-decoration-color: #7f7f7f\">371</span></a>\n",
       "</pre>\n"
      ],
      "text/plain": [
       "\u001b[2;36m[09/02/24 20:28:47]\u001b[0m\u001b[2;36m \u001b[0m\u001b[34mINFO    \u001b[0m Retrieving calendar for ENG-Premier League \u001b[1;36m2425\u001b[0m                       \u001b]8;id=49765;file://C:\\Users\\acer\\AppData\\Local\\Programs\\Python\\Python312\\Lib\\site-packages\\soccerdata\\whoscored.py\u001b\\\u001b[2mwhoscored.py\u001b[0m\u001b]8;;\u001b\\\u001b[2m:\u001b[0m\u001b]8;id=95531;file://C:\\Users\\acer\\AppData\\Local\\Programs\\Python\\Python312\\Lib\\site-packages\\soccerdata\\whoscored.py#371\u001b\\\u001b[2m371\u001b[0m\u001b]8;;\u001b\\\n"
      ]
     },
     "metadata": {},
     "output_type": "display_data"
    },
    {
     "data": {
      "text/html": [
       "<pre style=\"white-space:pre;overflow-x:auto;line-height:normal;font-family:Menlo,'DejaVu Sans Mono',consolas,'Courier New',monospace\"><span style=\"color: #7fbfbf; text-decoration-color: #7fbfbf\">[09/02/24 20:28:58] </span><span style=\"color: #000080; text-decoration-color: #000080\">INFO    </span> <span style=\"font-weight: bold\">[</span><span style=\"color: #008080; text-decoration-color: #008080; font-weight: bold\">1</span>/<span style=\"color: #008080; text-decoration-color: #008080; font-weight: bold\">10</span><span style=\"font-weight: bold\">]</span> Retrieving fixtures for ENG-Premier League <span style=\"color: #008080; text-decoration-color: #008080; font-weight: bold\">2425</span>                <a href=\"file://C:\\Users\\acer\\AppData\\Local\\Programs\\Python\\Python312\\Lib\\site-packages\\soccerdata\\whoscored.py\" target=\"_blank\"><span style=\"color: #7f7f7f; text-decoration-color: #7f7f7f\">whoscored.py</span></a><span style=\"color: #7f7f7f; text-decoration-color: #7f7f7f\">:</span><a href=\"file://C:\\Users\\acer\\AppData\\Local\\Programs\\Python\\Python312\\Lib\\site-packages\\soccerdata\\whoscored.py#400\" target=\"_blank\"><span style=\"color: #7f7f7f; text-decoration-color: #7f7f7f\">400</span></a>\n",
       "</pre>\n"
      ],
      "text/plain": [
       "\u001b[2;36m[09/02/24 20:28:58]\u001b[0m\u001b[2;36m \u001b[0m\u001b[34mINFO    \u001b[0m \u001b[1m[\u001b[0m\u001b[1;36m1\u001b[0m/\u001b[1;36m10\u001b[0m\u001b[1m]\u001b[0m Retrieving fixtures for ENG-Premier League \u001b[1;36m2425\u001b[0m                \u001b]8;id=141573;file://C:\\Users\\acer\\AppData\\Local\\Programs\\Python\\Python312\\Lib\\site-packages\\soccerdata\\whoscored.py\u001b\\\u001b[2mwhoscored.py\u001b[0m\u001b]8;;\u001b\\\u001b[2m:\u001b[0m\u001b]8;id=688433;file://C:\\Users\\acer\\AppData\\Local\\Programs\\Python\\Python312\\Lib\\site-packages\\soccerdata\\whoscored.py#400\u001b\\\u001b[2m400\u001b[0m\u001b]8;;\u001b\\\n"
      ]
     },
     "metadata": {},
     "output_type": "display_data"
    },
    {
     "data": {
      "text/html": [
       "<pre style=\"white-space:pre;overflow-x:auto;line-height:normal;font-family:Menlo,'DejaVu Sans Mono',consolas,'Courier New',monospace\"><span style=\"color: #7fbfbf; text-decoration-color: #7fbfbf\">[09/02/24 20:29:08] </span><span style=\"color: #000080; text-decoration-color: #000080\">INFO    </span> <span style=\"font-weight: bold\">[</span><span style=\"color: #008080; text-decoration-color: #008080; font-weight: bold\">2</span>/<span style=\"color: #008080; text-decoration-color: #008080; font-weight: bold\">10</span><span style=\"font-weight: bold\">]</span> Retrieving fixtures for ENG-Premier League <span style=\"color: #008080; text-decoration-color: #008080; font-weight: bold\">2425</span>                <a href=\"file://C:\\Users\\acer\\AppData\\Local\\Programs\\Python\\Python312\\Lib\\site-packages\\soccerdata\\whoscored.py\" target=\"_blank\"><span style=\"color: #7f7f7f; text-decoration-color: #7f7f7f\">whoscored.py</span></a><span style=\"color: #7f7f7f; text-decoration-color: #7f7f7f\">:</span><a href=\"file://C:\\Users\\acer\\AppData\\Local\\Programs\\Python\\Python312\\Lib\\site-packages\\soccerdata\\whoscored.py#400\" target=\"_blank\"><span style=\"color: #7f7f7f; text-decoration-color: #7f7f7f\">400</span></a>\n",
       "</pre>\n"
      ],
      "text/plain": [
       "\u001b[2;36m[09/02/24 20:29:08]\u001b[0m\u001b[2;36m \u001b[0m\u001b[34mINFO    \u001b[0m \u001b[1m[\u001b[0m\u001b[1;36m2\u001b[0m/\u001b[1;36m10\u001b[0m\u001b[1m]\u001b[0m Retrieving fixtures for ENG-Premier League \u001b[1;36m2425\u001b[0m                \u001b]8;id=185159;file://C:\\Users\\acer\\AppData\\Local\\Programs\\Python\\Python312\\Lib\\site-packages\\soccerdata\\whoscored.py\u001b\\\u001b[2mwhoscored.py\u001b[0m\u001b]8;;\u001b\\\u001b[2m:\u001b[0m\u001b]8;id=910531;file://C:\\Users\\acer\\AppData\\Local\\Programs\\Python\\Python312\\Lib\\site-packages\\soccerdata\\whoscored.py#400\u001b\\\u001b[2m400\u001b[0m\u001b]8;;\u001b\\\n"
      ]
     },
     "metadata": {},
     "output_type": "display_data"
    },
    {
     "data": {
      "text/html": [
       "<pre style=\"white-space:pre;overflow-x:auto;line-height:normal;font-family:Menlo,'DejaVu Sans Mono',consolas,'Courier New',monospace\"><span style=\"color: #7fbfbf; text-decoration-color: #7fbfbf\">[09/02/24 20:29:18] </span><span style=\"color: #000080; text-decoration-color: #000080\">INFO    </span> <span style=\"font-weight: bold\">[</span><span style=\"color: #008080; text-decoration-color: #008080; font-weight: bold\">3</span>/<span style=\"color: #008080; text-decoration-color: #008080; font-weight: bold\">10</span><span style=\"font-weight: bold\">]</span> Retrieving fixtures for ENG-Premier League <span style=\"color: #008080; text-decoration-color: #008080; font-weight: bold\">2425</span>                <a href=\"file://C:\\Users\\acer\\AppData\\Local\\Programs\\Python\\Python312\\Lib\\site-packages\\soccerdata\\whoscored.py\" target=\"_blank\"><span style=\"color: #7f7f7f; text-decoration-color: #7f7f7f\">whoscored.py</span></a><span style=\"color: #7f7f7f; text-decoration-color: #7f7f7f\">:</span><a href=\"file://C:\\Users\\acer\\AppData\\Local\\Programs\\Python\\Python312\\Lib\\site-packages\\soccerdata\\whoscored.py#400\" target=\"_blank\"><span style=\"color: #7f7f7f; text-decoration-color: #7f7f7f\">400</span></a>\n",
       "</pre>\n"
      ],
      "text/plain": [
       "\u001b[2;36m[09/02/24 20:29:18]\u001b[0m\u001b[2;36m \u001b[0m\u001b[34mINFO    \u001b[0m \u001b[1m[\u001b[0m\u001b[1;36m3\u001b[0m/\u001b[1;36m10\u001b[0m\u001b[1m]\u001b[0m Retrieving fixtures for ENG-Premier League \u001b[1;36m2425\u001b[0m                \u001b]8;id=632810;file://C:\\Users\\acer\\AppData\\Local\\Programs\\Python\\Python312\\Lib\\site-packages\\soccerdata\\whoscored.py\u001b\\\u001b[2mwhoscored.py\u001b[0m\u001b]8;;\u001b\\\u001b[2m:\u001b[0m\u001b]8;id=552953;file://C:\\Users\\acer\\AppData\\Local\\Programs\\Python\\Python312\\Lib\\site-packages\\soccerdata\\whoscored.py#400\u001b\\\u001b[2m400\u001b[0m\u001b]8;;\u001b\\\n"
      ]
     },
     "metadata": {},
     "output_type": "display_data"
    },
    {
     "data": {
      "text/html": [
       "<pre style=\"white-space:pre;overflow-x:auto;line-height:normal;font-family:Menlo,'DejaVu Sans Mono',consolas,'Courier New',monospace\"><span style=\"color: #7fbfbf; text-decoration-color: #7fbfbf\">[09/02/24 20:29:26] </span><span style=\"color: #000080; text-decoration-color: #000080\">INFO    </span> <span style=\"font-weight: bold\">[</span><span style=\"color: #008080; text-decoration-color: #008080; font-weight: bold\">4</span>/<span style=\"color: #008080; text-decoration-color: #008080; font-weight: bold\">10</span><span style=\"font-weight: bold\">]</span> Retrieving fixtures for ENG-Premier League <span style=\"color: #008080; text-decoration-color: #008080; font-weight: bold\">2425</span>                <a href=\"file://C:\\Users\\acer\\AppData\\Local\\Programs\\Python\\Python312\\Lib\\site-packages\\soccerdata\\whoscored.py\" target=\"_blank\"><span style=\"color: #7f7f7f; text-decoration-color: #7f7f7f\">whoscored.py</span></a><span style=\"color: #7f7f7f; text-decoration-color: #7f7f7f\">:</span><a href=\"file://C:\\Users\\acer\\AppData\\Local\\Programs\\Python\\Python312\\Lib\\site-packages\\soccerdata\\whoscored.py#400\" target=\"_blank\"><span style=\"color: #7f7f7f; text-decoration-color: #7f7f7f\">400</span></a>\n",
       "</pre>\n"
      ],
      "text/plain": [
       "\u001b[2;36m[09/02/24 20:29:26]\u001b[0m\u001b[2;36m \u001b[0m\u001b[34mINFO    \u001b[0m \u001b[1m[\u001b[0m\u001b[1;36m4\u001b[0m/\u001b[1;36m10\u001b[0m\u001b[1m]\u001b[0m Retrieving fixtures for ENG-Premier League \u001b[1;36m2425\u001b[0m                \u001b]8;id=199574;file://C:\\Users\\acer\\AppData\\Local\\Programs\\Python\\Python312\\Lib\\site-packages\\soccerdata\\whoscored.py\u001b\\\u001b[2mwhoscored.py\u001b[0m\u001b]8;;\u001b\\\u001b[2m:\u001b[0m\u001b]8;id=212301;file://C:\\Users\\acer\\AppData\\Local\\Programs\\Python\\Python312\\Lib\\site-packages\\soccerdata\\whoscored.py#400\u001b\\\u001b[2m400\u001b[0m\u001b]8;;\u001b\\\n"
      ]
     },
     "metadata": {},
     "output_type": "display_data"
    },
    {
     "data": {
      "text/html": [
       "<pre style=\"white-space:pre;overflow-x:auto;line-height:normal;font-family:Menlo,'DejaVu Sans Mono',consolas,'Courier New',monospace\"><span style=\"color: #7fbfbf; text-decoration-color: #7fbfbf\">[09/02/24 20:29:36] </span><span style=\"color: #000080; text-decoration-color: #000080\">INFO    </span> <span style=\"font-weight: bold\">[</span><span style=\"color: #008080; text-decoration-color: #008080; font-weight: bold\">5</span>/<span style=\"color: #008080; text-decoration-color: #008080; font-weight: bold\">10</span><span style=\"font-weight: bold\">]</span> Retrieving fixtures for ENG-Premier League <span style=\"color: #008080; text-decoration-color: #008080; font-weight: bold\">2425</span>                <a href=\"file://C:\\Users\\acer\\AppData\\Local\\Programs\\Python\\Python312\\Lib\\site-packages\\soccerdata\\whoscored.py\" target=\"_blank\"><span style=\"color: #7f7f7f; text-decoration-color: #7f7f7f\">whoscored.py</span></a><span style=\"color: #7f7f7f; text-decoration-color: #7f7f7f\">:</span><a href=\"file://C:\\Users\\acer\\AppData\\Local\\Programs\\Python\\Python312\\Lib\\site-packages\\soccerdata\\whoscored.py#400\" target=\"_blank\"><span style=\"color: #7f7f7f; text-decoration-color: #7f7f7f\">400</span></a>\n",
       "</pre>\n"
      ],
      "text/plain": [
       "\u001b[2;36m[09/02/24 20:29:36]\u001b[0m\u001b[2;36m \u001b[0m\u001b[34mINFO    \u001b[0m \u001b[1m[\u001b[0m\u001b[1;36m5\u001b[0m/\u001b[1;36m10\u001b[0m\u001b[1m]\u001b[0m Retrieving fixtures for ENG-Premier League \u001b[1;36m2425\u001b[0m                \u001b]8;id=471927;file://C:\\Users\\acer\\AppData\\Local\\Programs\\Python\\Python312\\Lib\\site-packages\\soccerdata\\whoscored.py\u001b\\\u001b[2mwhoscored.py\u001b[0m\u001b]8;;\u001b\\\u001b[2m:\u001b[0m\u001b]8;id=976993;file://C:\\Users\\acer\\AppData\\Local\\Programs\\Python\\Python312\\Lib\\site-packages\\soccerdata\\whoscored.py#400\u001b\\\u001b[2m400\u001b[0m\u001b]8;;\u001b\\\n"
      ]
     },
     "metadata": {},
     "output_type": "display_data"
    },
    {
     "data": {
      "text/html": [
       "<pre style=\"white-space:pre;overflow-x:auto;line-height:normal;font-family:Menlo,'DejaVu Sans Mono',consolas,'Courier New',monospace\"><span style=\"color: #7fbfbf; text-decoration-color: #7fbfbf\">[09/02/24 20:29:46] </span><span style=\"color: #000080; text-decoration-color: #000080\">INFO    </span> <span style=\"font-weight: bold\">[</span><span style=\"color: #008080; text-decoration-color: #008080; font-weight: bold\">6</span>/<span style=\"color: #008080; text-decoration-color: #008080; font-weight: bold\">10</span><span style=\"font-weight: bold\">]</span> Retrieving fixtures for ENG-Premier League <span style=\"color: #008080; text-decoration-color: #008080; font-weight: bold\">2425</span>                <a href=\"file://C:\\Users\\acer\\AppData\\Local\\Programs\\Python\\Python312\\Lib\\site-packages\\soccerdata\\whoscored.py\" target=\"_blank\"><span style=\"color: #7f7f7f; text-decoration-color: #7f7f7f\">whoscored.py</span></a><span style=\"color: #7f7f7f; text-decoration-color: #7f7f7f\">:</span><a href=\"file://C:\\Users\\acer\\AppData\\Local\\Programs\\Python\\Python312\\Lib\\site-packages\\soccerdata\\whoscored.py#400\" target=\"_blank\"><span style=\"color: #7f7f7f; text-decoration-color: #7f7f7f\">400</span></a>\n",
       "</pre>\n"
      ],
      "text/plain": [
       "\u001b[2;36m[09/02/24 20:29:46]\u001b[0m\u001b[2;36m \u001b[0m\u001b[34mINFO    \u001b[0m \u001b[1m[\u001b[0m\u001b[1;36m6\u001b[0m/\u001b[1;36m10\u001b[0m\u001b[1m]\u001b[0m Retrieving fixtures for ENG-Premier League \u001b[1;36m2425\u001b[0m                \u001b]8;id=154503;file://C:\\Users\\acer\\AppData\\Local\\Programs\\Python\\Python312\\Lib\\site-packages\\soccerdata\\whoscored.py\u001b\\\u001b[2mwhoscored.py\u001b[0m\u001b]8;;\u001b\\\u001b[2m:\u001b[0m\u001b]8;id=830758;file://C:\\Users\\acer\\AppData\\Local\\Programs\\Python\\Python312\\Lib\\site-packages\\soccerdata\\whoscored.py#400\u001b\\\u001b[2m400\u001b[0m\u001b]8;;\u001b\\\n"
      ]
     },
     "metadata": {},
     "output_type": "display_data"
    },
    {
     "data": {
      "text/html": [
       "<pre style=\"white-space:pre;overflow-x:auto;line-height:normal;font-family:Menlo,'DejaVu Sans Mono',consolas,'Courier New',monospace\"><span style=\"color: #7fbfbf; text-decoration-color: #7fbfbf\">[09/02/24 20:29:55] </span><span style=\"color: #000080; text-decoration-color: #000080\">INFO    </span> <span style=\"font-weight: bold\">[</span><span style=\"color: #008080; text-decoration-color: #008080; font-weight: bold\">7</span>/<span style=\"color: #008080; text-decoration-color: #008080; font-weight: bold\">10</span><span style=\"font-weight: bold\">]</span> Retrieving fixtures for ENG-Premier League <span style=\"color: #008080; text-decoration-color: #008080; font-weight: bold\">2425</span>                <a href=\"file://C:\\Users\\acer\\AppData\\Local\\Programs\\Python\\Python312\\Lib\\site-packages\\soccerdata\\whoscored.py\" target=\"_blank\"><span style=\"color: #7f7f7f; text-decoration-color: #7f7f7f\">whoscored.py</span></a><span style=\"color: #7f7f7f; text-decoration-color: #7f7f7f\">:</span><a href=\"file://C:\\Users\\acer\\AppData\\Local\\Programs\\Python\\Python312\\Lib\\site-packages\\soccerdata\\whoscored.py#400\" target=\"_blank\"><span style=\"color: #7f7f7f; text-decoration-color: #7f7f7f\">400</span></a>\n",
       "</pre>\n"
      ],
      "text/plain": [
       "\u001b[2;36m[09/02/24 20:29:55]\u001b[0m\u001b[2;36m \u001b[0m\u001b[34mINFO    \u001b[0m \u001b[1m[\u001b[0m\u001b[1;36m7\u001b[0m/\u001b[1;36m10\u001b[0m\u001b[1m]\u001b[0m Retrieving fixtures for ENG-Premier League \u001b[1;36m2425\u001b[0m                \u001b]8;id=813621;file://C:\\Users\\acer\\AppData\\Local\\Programs\\Python\\Python312\\Lib\\site-packages\\soccerdata\\whoscored.py\u001b\\\u001b[2mwhoscored.py\u001b[0m\u001b]8;;\u001b\\\u001b[2m:\u001b[0m\u001b]8;id=923552;file://C:\\Users\\acer\\AppData\\Local\\Programs\\Python\\Python312\\Lib\\site-packages\\soccerdata\\whoscored.py#400\u001b\\\u001b[2m400\u001b[0m\u001b]8;;\u001b\\\n"
      ]
     },
     "metadata": {},
     "output_type": "display_data"
    },
    {
     "data": {
      "text/html": [
       "<pre style=\"white-space:pre;overflow-x:auto;line-height:normal;font-family:Menlo,'DejaVu Sans Mono',consolas,'Courier New',monospace\"><span style=\"color: #7fbfbf; text-decoration-color: #7fbfbf\">[09/02/24 20:30:04] </span><span style=\"color: #000080; text-decoration-color: #000080\">INFO    </span> <span style=\"font-weight: bold\">[</span><span style=\"color: #008080; text-decoration-color: #008080; font-weight: bold\">8</span>/<span style=\"color: #008080; text-decoration-color: #008080; font-weight: bold\">10</span><span style=\"font-weight: bold\">]</span> Retrieving fixtures for ENG-Premier League <span style=\"color: #008080; text-decoration-color: #008080; font-weight: bold\">2425</span>                <a href=\"file://C:\\Users\\acer\\AppData\\Local\\Programs\\Python\\Python312\\Lib\\site-packages\\soccerdata\\whoscored.py\" target=\"_blank\"><span style=\"color: #7f7f7f; text-decoration-color: #7f7f7f\">whoscored.py</span></a><span style=\"color: #7f7f7f; text-decoration-color: #7f7f7f\">:</span><a href=\"file://C:\\Users\\acer\\AppData\\Local\\Programs\\Python\\Python312\\Lib\\site-packages\\soccerdata\\whoscored.py#400\" target=\"_blank\"><span style=\"color: #7f7f7f; text-decoration-color: #7f7f7f\">400</span></a>\n",
       "</pre>\n"
      ],
      "text/plain": [
       "\u001b[2;36m[09/02/24 20:30:04]\u001b[0m\u001b[2;36m \u001b[0m\u001b[34mINFO    \u001b[0m \u001b[1m[\u001b[0m\u001b[1;36m8\u001b[0m/\u001b[1;36m10\u001b[0m\u001b[1m]\u001b[0m Retrieving fixtures for ENG-Premier League \u001b[1;36m2425\u001b[0m                \u001b]8;id=386423;file://C:\\Users\\acer\\AppData\\Local\\Programs\\Python\\Python312\\Lib\\site-packages\\soccerdata\\whoscored.py\u001b\\\u001b[2mwhoscored.py\u001b[0m\u001b]8;;\u001b\\\u001b[2m:\u001b[0m\u001b]8;id=960533;file://C:\\Users\\acer\\AppData\\Local\\Programs\\Python\\Python312\\Lib\\site-packages\\soccerdata\\whoscored.py#400\u001b\\\u001b[2m400\u001b[0m\u001b]8;;\u001b\\\n"
      ]
     },
     "metadata": {},
     "output_type": "display_data"
    },
    {
     "data": {
      "text/html": [
       "<pre style=\"white-space:pre;overflow-x:auto;line-height:normal;font-family:Menlo,'DejaVu Sans Mono',consolas,'Courier New',monospace\"><span style=\"color: #7fbfbf; text-decoration-color: #7fbfbf\">[09/02/24 20:30:11] </span><span style=\"color: #000080; text-decoration-color: #000080\">INFO    </span> <span style=\"font-weight: bold\">[</span><span style=\"color: #008080; text-decoration-color: #008080; font-weight: bold\">9</span>/<span style=\"color: #008080; text-decoration-color: #008080; font-weight: bold\">10</span><span style=\"font-weight: bold\">]</span> Retrieving fixtures for ENG-Premier League <span style=\"color: #008080; text-decoration-color: #008080; font-weight: bold\">2425</span>                <a href=\"file://C:\\Users\\acer\\AppData\\Local\\Programs\\Python\\Python312\\Lib\\site-packages\\soccerdata\\whoscored.py\" target=\"_blank\"><span style=\"color: #7f7f7f; text-decoration-color: #7f7f7f\">whoscored.py</span></a><span style=\"color: #7f7f7f; text-decoration-color: #7f7f7f\">:</span><a href=\"file://C:\\Users\\acer\\AppData\\Local\\Programs\\Python\\Python312\\Lib\\site-packages\\soccerdata\\whoscored.py#400\" target=\"_blank\"><span style=\"color: #7f7f7f; text-decoration-color: #7f7f7f\">400</span></a>\n",
       "</pre>\n"
      ],
      "text/plain": [
       "\u001b[2;36m[09/02/24 20:30:11]\u001b[0m\u001b[2;36m \u001b[0m\u001b[34mINFO    \u001b[0m \u001b[1m[\u001b[0m\u001b[1;36m9\u001b[0m/\u001b[1;36m10\u001b[0m\u001b[1m]\u001b[0m Retrieving fixtures for ENG-Premier League \u001b[1;36m2425\u001b[0m                \u001b]8;id=506617;file://C:\\Users\\acer\\AppData\\Local\\Programs\\Python\\Python312\\Lib\\site-packages\\soccerdata\\whoscored.py\u001b\\\u001b[2mwhoscored.py\u001b[0m\u001b]8;;\u001b\\\u001b[2m:\u001b[0m\u001b]8;id=717749;file://C:\\Users\\acer\\AppData\\Local\\Programs\\Python\\Python312\\Lib\\site-packages\\soccerdata\\whoscored.py#400\u001b\\\u001b[2m400\u001b[0m\u001b]8;;\u001b\\\n"
      ]
     },
     "metadata": {},
     "output_type": "display_data"
    },
    {
     "data": {
      "text/html": [
       "<pre style=\"white-space:pre;overflow-x:auto;line-height:normal;font-family:Menlo,'DejaVu Sans Mono',consolas,'Courier New',monospace\"><span style=\"color: #7fbfbf; text-decoration-color: #7fbfbf\">[09/02/24 20:30:22] </span><span style=\"color: #000080; text-decoration-color: #000080\">INFO    </span> <span style=\"font-weight: bold\">[</span><span style=\"color: #008080; text-decoration-color: #008080; font-weight: bold\">10</span>/<span style=\"color: #008080; text-decoration-color: #008080; font-weight: bold\">10</span><span style=\"font-weight: bold\">]</span> Retrieving fixtures for ENG-Premier League <span style=\"color: #008080; text-decoration-color: #008080; font-weight: bold\">2425</span>               <a href=\"file://C:\\Users\\acer\\AppData\\Local\\Programs\\Python\\Python312\\Lib\\site-packages\\soccerdata\\whoscored.py\" target=\"_blank\"><span style=\"color: #7f7f7f; text-decoration-color: #7f7f7f\">whoscored.py</span></a><span style=\"color: #7f7f7f; text-decoration-color: #7f7f7f\">:</span><a href=\"file://C:\\Users\\acer\\AppData\\Local\\Programs\\Python\\Python312\\Lib\\site-packages\\soccerdata\\whoscored.py#400\" target=\"_blank\"><span style=\"color: #7f7f7f; text-decoration-color: #7f7f7f\">400</span></a>\n",
       "</pre>\n"
      ],
      "text/plain": [
       "\u001b[2;36m[09/02/24 20:30:22]\u001b[0m\u001b[2;36m \u001b[0m\u001b[34mINFO    \u001b[0m \u001b[1m[\u001b[0m\u001b[1;36m10\u001b[0m/\u001b[1;36m10\u001b[0m\u001b[1m]\u001b[0m Retrieving fixtures for ENG-Premier League \u001b[1;36m2425\u001b[0m               \u001b]8;id=231331;file://C:\\Users\\acer\\AppData\\Local\\Programs\\Python\\Python312\\Lib\\site-packages\\soccerdata\\whoscored.py\u001b\\\u001b[2mwhoscored.py\u001b[0m\u001b]8;;\u001b\\\u001b[2m:\u001b[0m\u001b]8;id=783960;file://C:\\Users\\acer\\AppData\\Local\\Programs\\Python\\Python312\\Lib\\site-packages\\soccerdata\\whoscored.py#400\u001b\\\u001b[2m400\u001b[0m\u001b]8;;\u001b\\\n"
      ]
     },
     "metadata": {},
     "output_type": "display_data"
    },
    {
     "name": "stderr",
     "output_type": "stream",
     "text": [
      "C:\\Users\\acer\\AppData\\Local\\Programs\\Python\\Python312\\Lib\\site-packages\\soccerdata\\whoscored.py:424: FutureWarning: The behavior of DataFrame concatenation with empty or all-NA entries is deprecated. In a future version, this will no longer exclude empty or all-NA columns when determining the result dtypes. To retain the old behavior, exclude the relevant entries before the concat operation.\n",
      "  pd.concat(all_schedules)\n"
     ]
    },
    {
     "data": {
      "text/html": [
       "<pre style=\"white-space:pre;overflow-x:auto;line-height:normal;font-family:Menlo,'DejaVu Sans Mono',consolas,'Courier New',monospace\"><span style=\"color: #7fbfbf; text-decoration-color: #7fbfbf\">[09/02/24 20:30:31] </span><span style=\"color: #000080; text-decoration-color: #000080\">INFO    </span> <span style=\"font-weight: bold\">[</span><span style=\"color: #008080; text-decoration-color: #008080; font-weight: bold\">1</span>/<span style=\"color: #008080; text-decoration-color: #008080; font-weight: bold\">1</span><span style=\"font-weight: bold\">]</span> Retrieving game with <span style=\"color: #808000; text-decoration-color: #808000\">id</span>=<span style=\"color: #008080; text-decoration-color: #008080; font-weight: bold\">1821055</span>                                 <a href=\"file://C:\\Users\\acer\\AppData\\Local\\Programs\\Python\\Python312\\Lib\\site-packages\\soccerdata\\whoscored.py\" target=\"_blank\"><span style=\"color: #7f7f7f; text-decoration-color: #7f7f7f\">whoscored.py</span></a><span style=\"color: #7f7f7f; text-decoration-color: #7f7f7f\">:</span><a href=\"file://C:\\Users\\acer\\AppData\\Local\\Programs\\Python\\Python312\\Lib\\site-packages\\soccerdata\\whoscored.py#692\" target=\"_blank\"><span style=\"color: #7f7f7f; text-decoration-color: #7f7f7f\">692</span></a>\n",
       "</pre>\n"
      ],
      "text/plain": [
       "\u001b[2;36m[09/02/24 20:30:31]\u001b[0m\u001b[2;36m \u001b[0m\u001b[34mINFO    \u001b[0m \u001b[1m[\u001b[0m\u001b[1;36m1\u001b[0m/\u001b[1;36m1\u001b[0m\u001b[1m]\u001b[0m Retrieving game with \u001b[33mid\u001b[0m=\u001b[1;36m1821055\u001b[0m                                 \u001b]8;id=180262;file://C:\\Users\\acer\\AppData\\Local\\Programs\\Python\\Python312\\Lib\\site-packages\\soccerdata\\whoscored.py\u001b\\\u001b[2mwhoscored.py\u001b[0m\u001b]8;;\u001b\\\u001b[2m:\u001b[0m\u001b]8;id=562033;file://C:\\Users\\acer\\AppData\\Local\\Programs\\Python\\Python312\\Lib\\site-packages\\soccerdata\\whoscored.py#692\u001b\\\u001b[2m692\u001b[0m\u001b]8;;\u001b\\\n"
      ]
     },
     "metadata": {},
     "output_type": "display_data"
    },
    {
     "data": {
      "text/html": [
       "<pre style=\"white-space:pre;overflow-x:auto;line-height:normal;font-family:Menlo,'DejaVu Sans Mono',consolas,'Courier New',monospace\"><span style=\"color: #7fbfbf; text-decoration-color: #7fbfbf\">[09/02/24 20:31:00] </span><span style=\"color: #000080; text-decoration-color: #000080\">INFO    </span> Retrieving calendar for ENG-Premier League <span style=\"color: #008080; text-decoration-color: #008080; font-weight: bold\">2425</span>                       <a href=\"file://C:\\Users\\acer\\AppData\\Local\\Programs\\Python\\Python312\\Lib\\site-packages\\soccerdata\\whoscored.py\" target=\"_blank\"><span style=\"color: #7f7f7f; text-decoration-color: #7f7f7f\">whoscored.py</span></a><span style=\"color: #7f7f7f; text-decoration-color: #7f7f7f\">:</span><a href=\"file://C:\\Users\\acer\\AppData\\Local\\Programs\\Python\\Python312\\Lib\\site-packages\\soccerdata\\whoscored.py#371\" target=\"_blank\"><span style=\"color: #7f7f7f; text-decoration-color: #7f7f7f\">371</span></a>\n",
       "</pre>\n"
      ],
      "text/plain": [
       "\u001b[2;36m[09/02/24 20:31:00]\u001b[0m\u001b[2;36m \u001b[0m\u001b[34mINFO    \u001b[0m Retrieving calendar for ENG-Premier League \u001b[1;36m2425\u001b[0m                       \u001b]8;id=420869;file://C:\\Users\\acer\\AppData\\Local\\Programs\\Python\\Python312\\Lib\\site-packages\\soccerdata\\whoscored.py\u001b\\\u001b[2mwhoscored.py\u001b[0m\u001b]8;;\u001b\\\u001b[2m:\u001b[0m\u001b]8;id=218552;file://C:\\Users\\acer\\AppData\\Local\\Programs\\Python\\Python312\\Lib\\site-packages\\soccerdata\\whoscored.py#371\u001b\\\u001b[2m371\u001b[0m\u001b]8;;\u001b\\\n"
      ]
     },
     "metadata": {},
     "output_type": "display_data"
    },
    {
     "data": {
      "text/html": [
       "<pre style=\"white-space:pre;overflow-x:auto;line-height:normal;font-family:Menlo,'DejaVu Sans Mono',consolas,'Courier New',monospace\"><span style=\"color: #7fbfbf; text-decoration-color: #7fbfbf\">[09/02/24 20:31:09] </span><span style=\"color: #000080; text-decoration-color: #000080\">INFO    </span> <span style=\"font-weight: bold\">[</span><span style=\"color: #008080; text-decoration-color: #008080; font-weight: bold\">1</span>/<span style=\"color: #008080; text-decoration-color: #008080; font-weight: bold\">10</span><span style=\"font-weight: bold\">]</span> Retrieving fixtures for ENG-Premier League <span style=\"color: #008080; text-decoration-color: #008080; font-weight: bold\">2425</span>                <a href=\"file://C:\\Users\\acer\\AppData\\Local\\Programs\\Python\\Python312\\Lib\\site-packages\\soccerdata\\whoscored.py\" target=\"_blank\"><span style=\"color: #7f7f7f; text-decoration-color: #7f7f7f\">whoscored.py</span></a><span style=\"color: #7f7f7f; text-decoration-color: #7f7f7f\">:</span><a href=\"file://C:\\Users\\acer\\AppData\\Local\\Programs\\Python\\Python312\\Lib\\site-packages\\soccerdata\\whoscored.py#400\" target=\"_blank\"><span style=\"color: #7f7f7f; text-decoration-color: #7f7f7f\">400</span></a>\n",
       "</pre>\n"
      ],
      "text/plain": [
       "\u001b[2;36m[09/02/24 20:31:09]\u001b[0m\u001b[2;36m \u001b[0m\u001b[34mINFO    \u001b[0m \u001b[1m[\u001b[0m\u001b[1;36m1\u001b[0m/\u001b[1;36m10\u001b[0m\u001b[1m]\u001b[0m Retrieving fixtures for ENG-Premier League \u001b[1;36m2425\u001b[0m                \u001b]8;id=352042;file://C:\\Users\\acer\\AppData\\Local\\Programs\\Python\\Python312\\Lib\\site-packages\\soccerdata\\whoscored.py\u001b\\\u001b[2mwhoscored.py\u001b[0m\u001b]8;;\u001b\\\u001b[2m:\u001b[0m\u001b]8;id=75837;file://C:\\Users\\acer\\AppData\\Local\\Programs\\Python\\Python312\\Lib\\site-packages\\soccerdata\\whoscored.py#400\u001b\\\u001b[2m400\u001b[0m\u001b]8;;\u001b\\\n"
      ]
     },
     "metadata": {},
     "output_type": "display_data"
    },
    {
     "data": {
      "text/html": [
       "<pre style=\"white-space:pre;overflow-x:auto;line-height:normal;font-family:Menlo,'DejaVu Sans Mono',consolas,'Courier New',monospace\"><span style=\"color: #7fbfbf; text-decoration-color: #7fbfbf\">[09/02/24 20:31:18] </span><span style=\"color: #000080; text-decoration-color: #000080\">INFO    </span> <span style=\"font-weight: bold\">[</span><span style=\"color: #008080; text-decoration-color: #008080; font-weight: bold\">2</span>/<span style=\"color: #008080; text-decoration-color: #008080; font-weight: bold\">10</span><span style=\"font-weight: bold\">]</span> Retrieving fixtures for ENG-Premier League <span style=\"color: #008080; text-decoration-color: #008080; font-weight: bold\">2425</span>                <a href=\"file://C:\\Users\\acer\\AppData\\Local\\Programs\\Python\\Python312\\Lib\\site-packages\\soccerdata\\whoscored.py\" target=\"_blank\"><span style=\"color: #7f7f7f; text-decoration-color: #7f7f7f\">whoscored.py</span></a><span style=\"color: #7f7f7f; text-decoration-color: #7f7f7f\">:</span><a href=\"file://C:\\Users\\acer\\AppData\\Local\\Programs\\Python\\Python312\\Lib\\site-packages\\soccerdata\\whoscored.py#400\" target=\"_blank\"><span style=\"color: #7f7f7f; text-decoration-color: #7f7f7f\">400</span></a>\n",
       "</pre>\n"
      ],
      "text/plain": [
       "\u001b[2;36m[09/02/24 20:31:18]\u001b[0m\u001b[2;36m \u001b[0m\u001b[34mINFO    \u001b[0m \u001b[1m[\u001b[0m\u001b[1;36m2\u001b[0m/\u001b[1;36m10\u001b[0m\u001b[1m]\u001b[0m Retrieving fixtures for ENG-Premier League \u001b[1;36m2425\u001b[0m                \u001b]8;id=821151;file://C:\\Users\\acer\\AppData\\Local\\Programs\\Python\\Python312\\Lib\\site-packages\\soccerdata\\whoscored.py\u001b\\\u001b[2mwhoscored.py\u001b[0m\u001b]8;;\u001b\\\u001b[2m:\u001b[0m\u001b]8;id=157183;file://C:\\Users\\acer\\AppData\\Local\\Programs\\Python\\Python312\\Lib\\site-packages\\soccerdata\\whoscored.py#400\u001b\\\u001b[2m400\u001b[0m\u001b]8;;\u001b\\\n"
      ]
     },
     "metadata": {},
     "output_type": "display_data"
    },
    {
     "data": {
      "text/html": [
       "<pre style=\"white-space:pre;overflow-x:auto;line-height:normal;font-family:Menlo,'DejaVu Sans Mono',consolas,'Courier New',monospace\"><span style=\"color: #7fbfbf; text-decoration-color: #7fbfbf\">[09/02/24 20:31:24] </span><span style=\"color: #000080; text-decoration-color: #000080\">INFO    </span> <span style=\"font-weight: bold\">[</span><span style=\"color: #008080; text-decoration-color: #008080; font-weight: bold\">3</span>/<span style=\"color: #008080; text-decoration-color: #008080; font-weight: bold\">10</span><span style=\"font-weight: bold\">]</span> Retrieving fixtures for ENG-Premier League <span style=\"color: #008080; text-decoration-color: #008080; font-weight: bold\">2425</span>                <a href=\"file://C:\\Users\\acer\\AppData\\Local\\Programs\\Python\\Python312\\Lib\\site-packages\\soccerdata\\whoscored.py\" target=\"_blank\"><span style=\"color: #7f7f7f; text-decoration-color: #7f7f7f\">whoscored.py</span></a><span style=\"color: #7f7f7f; text-decoration-color: #7f7f7f\">:</span><a href=\"file://C:\\Users\\acer\\AppData\\Local\\Programs\\Python\\Python312\\Lib\\site-packages\\soccerdata\\whoscored.py#400\" target=\"_blank\"><span style=\"color: #7f7f7f; text-decoration-color: #7f7f7f\">400</span></a>\n",
       "</pre>\n"
      ],
      "text/plain": [
       "\u001b[2;36m[09/02/24 20:31:24]\u001b[0m\u001b[2;36m \u001b[0m\u001b[34mINFO    \u001b[0m \u001b[1m[\u001b[0m\u001b[1;36m3\u001b[0m/\u001b[1;36m10\u001b[0m\u001b[1m]\u001b[0m Retrieving fixtures for ENG-Premier League \u001b[1;36m2425\u001b[0m                \u001b]8;id=444686;file://C:\\Users\\acer\\AppData\\Local\\Programs\\Python\\Python312\\Lib\\site-packages\\soccerdata\\whoscored.py\u001b\\\u001b[2mwhoscored.py\u001b[0m\u001b]8;;\u001b\\\u001b[2m:\u001b[0m\u001b]8;id=956550;file://C:\\Users\\acer\\AppData\\Local\\Programs\\Python\\Python312\\Lib\\site-packages\\soccerdata\\whoscored.py#400\u001b\\\u001b[2m400\u001b[0m\u001b]8;;\u001b\\\n"
      ]
     },
     "metadata": {},
     "output_type": "display_data"
    },
    {
     "data": {
      "text/html": [
       "<pre style=\"white-space:pre;overflow-x:auto;line-height:normal;font-family:Menlo,'DejaVu Sans Mono',consolas,'Courier New',monospace\"><span style=\"color: #7fbfbf; text-decoration-color: #7fbfbf\">[09/02/24 20:31:30] </span><span style=\"color: #000080; text-decoration-color: #000080\">INFO    </span> <span style=\"font-weight: bold\">[</span><span style=\"color: #008080; text-decoration-color: #008080; font-weight: bold\">4</span>/<span style=\"color: #008080; text-decoration-color: #008080; font-weight: bold\">10</span><span style=\"font-weight: bold\">]</span> Retrieving fixtures for ENG-Premier League <span style=\"color: #008080; text-decoration-color: #008080; font-weight: bold\">2425</span>                <a href=\"file://C:\\Users\\acer\\AppData\\Local\\Programs\\Python\\Python312\\Lib\\site-packages\\soccerdata\\whoscored.py\" target=\"_blank\"><span style=\"color: #7f7f7f; text-decoration-color: #7f7f7f\">whoscored.py</span></a><span style=\"color: #7f7f7f; text-decoration-color: #7f7f7f\">:</span><a href=\"file://C:\\Users\\acer\\AppData\\Local\\Programs\\Python\\Python312\\Lib\\site-packages\\soccerdata\\whoscored.py#400\" target=\"_blank\"><span style=\"color: #7f7f7f; text-decoration-color: #7f7f7f\">400</span></a>\n",
       "</pre>\n"
      ],
      "text/plain": [
       "\u001b[2;36m[09/02/24 20:31:30]\u001b[0m\u001b[2;36m \u001b[0m\u001b[34mINFO    \u001b[0m \u001b[1m[\u001b[0m\u001b[1;36m4\u001b[0m/\u001b[1;36m10\u001b[0m\u001b[1m]\u001b[0m Retrieving fixtures for ENG-Premier League \u001b[1;36m2425\u001b[0m                \u001b]8;id=623425;file://C:\\Users\\acer\\AppData\\Local\\Programs\\Python\\Python312\\Lib\\site-packages\\soccerdata\\whoscored.py\u001b\\\u001b[2mwhoscored.py\u001b[0m\u001b]8;;\u001b\\\u001b[2m:\u001b[0m\u001b]8;id=17886;file://C:\\Users\\acer\\AppData\\Local\\Programs\\Python\\Python312\\Lib\\site-packages\\soccerdata\\whoscored.py#400\u001b\\\u001b[2m400\u001b[0m\u001b]8;;\u001b\\\n"
      ]
     },
     "metadata": {},
     "output_type": "display_data"
    },
    {
     "data": {
      "text/html": [
       "<pre style=\"white-space:pre;overflow-x:auto;line-height:normal;font-family:Menlo,'DejaVu Sans Mono',consolas,'Courier New',monospace\"><span style=\"color: #7fbfbf; text-decoration-color: #7fbfbf\">[09/02/24 20:31:39] </span><span style=\"color: #000080; text-decoration-color: #000080\">INFO    </span> <span style=\"font-weight: bold\">[</span><span style=\"color: #008080; text-decoration-color: #008080; font-weight: bold\">5</span>/<span style=\"color: #008080; text-decoration-color: #008080; font-weight: bold\">10</span><span style=\"font-weight: bold\">]</span> Retrieving fixtures for ENG-Premier League <span style=\"color: #008080; text-decoration-color: #008080; font-weight: bold\">2425</span>                <a href=\"file://C:\\Users\\acer\\AppData\\Local\\Programs\\Python\\Python312\\Lib\\site-packages\\soccerdata\\whoscored.py\" target=\"_blank\"><span style=\"color: #7f7f7f; text-decoration-color: #7f7f7f\">whoscored.py</span></a><span style=\"color: #7f7f7f; text-decoration-color: #7f7f7f\">:</span><a href=\"file://C:\\Users\\acer\\AppData\\Local\\Programs\\Python\\Python312\\Lib\\site-packages\\soccerdata\\whoscored.py#400\" target=\"_blank\"><span style=\"color: #7f7f7f; text-decoration-color: #7f7f7f\">400</span></a>\n",
       "</pre>\n"
      ],
      "text/plain": [
       "\u001b[2;36m[09/02/24 20:31:39]\u001b[0m\u001b[2;36m \u001b[0m\u001b[34mINFO    \u001b[0m \u001b[1m[\u001b[0m\u001b[1;36m5\u001b[0m/\u001b[1;36m10\u001b[0m\u001b[1m]\u001b[0m Retrieving fixtures for ENG-Premier League \u001b[1;36m2425\u001b[0m                \u001b]8;id=800626;file://C:\\Users\\acer\\AppData\\Local\\Programs\\Python\\Python312\\Lib\\site-packages\\soccerdata\\whoscored.py\u001b\\\u001b[2mwhoscored.py\u001b[0m\u001b]8;;\u001b\\\u001b[2m:\u001b[0m\u001b]8;id=601487;file://C:\\Users\\acer\\AppData\\Local\\Programs\\Python\\Python312\\Lib\\site-packages\\soccerdata\\whoscored.py#400\u001b\\\u001b[2m400\u001b[0m\u001b]8;;\u001b\\\n"
      ]
     },
     "metadata": {},
     "output_type": "display_data"
    },
    {
     "data": {
      "text/html": [
       "<pre style=\"white-space:pre;overflow-x:auto;line-height:normal;font-family:Menlo,'DejaVu Sans Mono',consolas,'Courier New',monospace\"><span style=\"color: #7fbfbf; text-decoration-color: #7fbfbf\">[09/02/24 20:31:49] </span><span style=\"color: #000080; text-decoration-color: #000080\">INFO    </span> <span style=\"font-weight: bold\">[</span><span style=\"color: #008080; text-decoration-color: #008080; font-weight: bold\">6</span>/<span style=\"color: #008080; text-decoration-color: #008080; font-weight: bold\">10</span><span style=\"font-weight: bold\">]</span> Retrieving fixtures for ENG-Premier League <span style=\"color: #008080; text-decoration-color: #008080; font-weight: bold\">2425</span>                <a href=\"file://C:\\Users\\acer\\AppData\\Local\\Programs\\Python\\Python312\\Lib\\site-packages\\soccerdata\\whoscored.py\" target=\"_blank\"><span style=\"color: #7f7f7f; text-decoration-color: #7f7f7f\">whoscored.py</span></a><span style=\"color: #7f7f7f; text-decoration-color: #7f7f7f\">:</span><a href=\"file://C:\\Users\\acer\\AppData\\Local\\Programs\\Python\\Python312\\Lib\\site-packages\\soccerdata\\whoscored.py#400\" target=\"_blank\"><span style=\"color: #7f7f7f; text-decoration-color: #7f7f7f\">400</span></a>\n",
       "</pre>\n"
      ],
      "text/plain": [
       "\u001b[2;36m[09/02/24 20:31:49]\u001b[0m\u001b[2;36m \u001b[0m\u001b[34mINFO    \u001b[0m \u001b[1m[\u001b[0m\u001b[1;36m6\u001b[0m/\u001b[1;36m10\u001b[0m\u001b[1m]\u001b[0m Retrieving fixtures for ENG-Premier League \u001b[1;36m2425\u001b[0m                \u001b]8;id=174207;file://C:\\Users\\acer\\AppData\\Local\\Programs\\Python\\Python312\\Lib\\site-packages\\soccerdata\\whoscored.py\u001b\\\u001b[2mwhoscored.py\u001b[0m\u001b]8;;\u001b\\\u001b[2m:\u001b[0m\u001b]8;id=920210;file://C:\\Users\\acer\\AppData\\Local\\Programs\\Python\\Python312\\Lib\\site-packages\\soccerdata\\whoscored.py#400\u001b\\\u001b[2m400\u001b[0m\u001b]8;;\u001b\\\n"
      ]
     },
     "metadata": {},
     "output_type": "display_data"
    },
    {
     "data": {
      "text/html": [
       "<pre style=\"white-space:pre;overflow-x:auto;line-height:normal;font-family:Menlo,'DejaVu Sans Mono',consolas,'Courier New',monospace\"><span style=\"color: #7fbfbf; text-decoration-color: #7fbfbf\">[09/02/24 20:31:55] </span><span style=\"color: #000080; text-decoration-color: #000080\">INFO    </span> <span style=\"font-weight: bold\">[</span><span style=\"color: #008080; text-decoration-color: #008080; font-weight: bold\">7</span>/<span style=\"color: #008080; text-decoration-color: #008080; font-weight: bold\">10</span><span style=\"font-weight: bold\">]</span> Retrieving fixtures for ENG-Premier League <span style=\"color: #008080; text-decoration-color: #008080; font-weight: bold\">2425</span>                <a href=\"file://C:\\Users\\acer\\AppData\\Local\\Programs\\Python\\Python312\\Lib\\site-packages\\soccerdata\\whoscored.py\" target=\"_blank\"><span style=\"color: #7f7f7f; text-decoration-color: #7f7f7f\">whoscored.py</span></a><span style=\"color: #7f7f7f; text-decoration-color: #7f7f7f\">:</span><a href=\"file://C:\\Users\\acer\\AppData\\Local\\Programs\\Python\\Python312\\Lib\\site-packages\\soccerdata\\whoscored.py#400\" target=\"_blank\"><span style=\"color: #7f7f7f; text-decoration-color: #7f7f7f\">400</span></a>\n",
       "</pre>\n"
      ],
      "text/plain": [
       "\u001b[2;36m[09/02/24 20:31:55]\u001b[0m\u001b[2;36m \u001b[0m\u001b[34mINFO    \u001b[0m \u001b[1m[\u001b[0m\u001b[1;36m7\u001b[0m/\u001b[1;36m10\u001b[0m\u001b[1m]\u001b[0m Retrieving fixtures for ENG-Premier League \u001b[1;36m2425\u001b[0m                \u001b]8;id=240314;file://C:\\Users\\acer\\AppData\\Local\\Programs\\Python\\Python312\\Lib\\site-packages\\soccerdata\\whoscored.py\u001b\\\u001b[2mwhoscored.py\u001b[0m\u001b]8;;\u001b\\\u001b[2m:\u001b[0m\u001b]8;id=516856;file://C:\\Users\\acer\\AppData\\Local\\Programs\\Python\\Python312\\Lib\\site-packages\\soccerdata\\whoscored.py#400\u001b\\\u001b[2m400\u001b[0m\u001b]8;;\u001b\\\n"
      ]
     },
     "metadata": {},
     "output_type": "display_data"
    },
    {
     "data": {
      "text/html": [
       "<pre style=\"white-space:pre;overflow-x:auto;line-height:normal;font-family:Menlo,'DejaVu Sans Mono',consolas,'Courier New',monospace\"><span style=\"color: #7fbfbf; text-decoration-color: #7fbfbf\">[09/02/24 20:32:01] </span><span style=\"color: #000080; text-decoration-color: #000080\">INFO    </span> <span style=\"font-weight: bold\">[</span><span style=\"color: #008080; text-decoration-color: #008080; font-weight: bold\">8</span>/<span style=\"color: #008080; text-decoration-color: #008080; font-weight: bold\">10</span><span style=\"font-weight: bold\">]</span> Retrieving fixtures for ENG-Premier League <span style=\"color: #008080; text-decoration-color: #008080; font-weight: bold\">2425</span>                <a href=\"file://C:\\Users\\acer\\AppData\\Local\\Programs\\Python\\Python312\\Lib\\site-packages\\soccerdata\\whoscored.py\" target=\"_blank\"><span style=\"color: #7f7f7f; text-decoration-color: #7f7f7f\">whoscored.py</span></a><span style=\"color: #7f7f7f; text-decoration-color: #7f7f7f\">:</span><a href=\"file://C:\\Users\\acer\\AppData\\Local\\Programs\\Python\\Python312\\Lib\\site-packages\\soccerdata\\whoscored.py#400\" target=\"_blank\"><span style=\"color: #7f7f7f; text-decoration-color: #7f7f7f\">400</span></a>\n",
       "</pre>\n"
      ],
      "text/plain": [
       "\u001b[2;36m[09/02/24 20:32:01]\u001b[0m\u001b[2;36m \u001b[0m\u001b[34mINFO    \u001b[0m \u001b[1m[\u001b[0m\u001b[1;36m8\u001b[0m/\u001b[1;36m10\u001b[0m\u001b[1m]\u001b[0m Retrieving fixtures for ENG-Premier League \u001b[1;36m2425\u001b[0m                \u001b]8;id=333690;file://C:\\Users\\acer\\AppData\\Local\\Programs\\Python\\Python312\\Lib\\site-packages\\soccerdata\\whoscored.py\u001b\\\u001b[2mwhoscored.py\u001b[0m\u001b]8;;\u001b\\\u001b[2m:\u001b[0m\u001b]8;id=180383;file://C:\\Users\\acer\\AppData\\Local\\Programs\\Python\\Python312\\Lib\\site-packages\\soccerdata\\whoscored.py#400\u001b\\\u001b[2m400\u001b[0m\u001b]8;;\u001b\\\n"
      ]
     },
     "metadata": {},
     "output_type": "display_data"
    },
    {
     "data": {
      "text/html": [
       "<pre style=\"white-space:pre;overflow-x:auto;line-height:normal;font-family:Menlo,'DejaVu Sans Mono',consolas,'Courier New',monospace\"><span style=\"color: #7fbfbf; text-decoration-color: #7fbfbf\">[09/02/24 20:32:10] </span><span style=\"color: #000080; text-decoration-color: #000080\">INFO    </span> <span style=\"font-weight: bold\">[</span><span style=\"color: #008080; text-decoration-color: #008080; font-weight: bold\">9</span>/<span style=\"color: #008080; text-decoration-color: #008080; font-weight: bold\">10</span><span style=\"font-weight: bold\">]</span> Retrieving fixtures for ENG-Premier League <span style=\"color: #008080; text-decoration-color: #008080; font-weight: bold\">2425</span>                <a href=\"file://C:\\Users\\acer\\AppData\\Local\\Programs\\Python\\Python312\\Lib\\site-packages\\soccerdata\\whoscored.py\" target=\"_blank\"><span style=\"color: #7f7f7f; text-decoration-color: #7f7f7f\">whoscored.py</span></a><span style=\"color: #7f7f7f; text-decoration-color: #7f7f7f\">:</span><a href=\"file://C:\\Users\\acer\\AppData\\Local\\Programs\\Python\\Python312\\Lib\\site-packages\\soccerdata\\whoscored.py#400\" target=\"_blank\"><span style=\"color: #7f7f7f; text-decoration-color: #7f7f7f\">400</span></a>\n",
       "</pre>\n"
      ],
      "text/plain": [
       "\u001b[2;36m[09/02/24 20:32:10]\u001b[0m\u001b[2;36m \u001b[0m\u001b[34mINFO    \u001b[0m \u001b[1m[\u001b[0m\u001b[1;36m9\u001b[0m/\u001b[1;36m10\u001b[0m\u001b[1m]\u001b[0m Retrieving fixtures for ENG-Premier League \u001b[1;36m2425\u001b[0m                \u001b]8;id=672933;file://C:\\Users\\acer\\AppData\\Local\\Programs\\Python\\Python312\\Lib\\site-packages\\soccerdata\\whoscored.py\u001b\\\u001b[2mwhoscored.py\u001b[0m\u001b]8;;\u001b\\\u001b[2m:\u001b[0m\u001b]8;id=270092;file://C:\\Users\\acer\\AppData\\Local\\Programs\\Python\\Python312\\Lib\\site-packages\\soccerdata\\whoscored.py#400\u001b\\\u001b[2m400\u001b[0m\u001b]8;;\u001b\\\n"
      ]
     },
     "metadata": {},
     "output_type": "display_data"
    },
    {
     "data": {
      "text/html": [
       "<pre style=\"white-space:pre;overflow-x:auto;line-height:normal;font-family:Menlo,'DejaVu Sans Mono',consolas,'Courier New',monospace\"><span style=\"color: #7fbfbf; text-decoration-color: #7fbfbf\">[09/02/24 20:32:16] </span><span style=\"color: #000080; text-decoration-color: #000080\">INFO    </span> <span style=\"font-weight: bold\">[</span><span style=\"color: #008080; text-decoration-color: #008080; font-weight: bold\">10</span>/<span style=\"color: #008080; text-decoration-color: #008080; font-weight: bold\">10</span><span style=\"font-weight: bold\">]</span> Retrieving fixtures for ENG-Premier League <span style=\"color: #008080; text-decoration-color: #008080; font-weight: bold\">2425</span>               <a href=\"file://C:\\Users\\acer\\AppData\\Local\\Programs\\Python\\Python312\\Lib\\site-packages\\soccerdata\\whoscored.py\" target=\"_blank\"><span style=\"color: #7f7f7f; text-decoration-color: #7f7f7f\">whoscored.py</span></a><span style=\"color: #7f7f7f; text-decoration-color: #7f7f7f\">:</span><a href=\"file://C:\\Users\\acer\\AppData\\Local\\Programs\\Python\\Python312\\Lib\\site-packages\\soccerdata\\whoscored.py#400\" target=\"_blank\"><span style=\"color: #7f7f7f; text-decoration-color: #7f7f7f\">400</span></a>\n",
       "</pre>\n"
      ],
      "text/plain": [
       "\u001b[2;36m[09/02/24 20:32:16]\u001b[0m\u001b[2;36m \u001b[0m\u001b[34mINFO    \u001b[0m \u001b[1m[\u001b[0m\u001b[1;36m10\u001b[0m/\u001b[1;36m10\u001b[0m\u001b[1m]\u001b[0m Retrieving fixtures for ENG-Premier League \u001b[1;36m2425\u001b[0m               \u001b]8;id=574058;file://C:\\Users\\acer\\AppData\\Local\\Programs\\Python\\Python312\\Lib\\site-packages\\soccerdata\\whoscored.py\u001b\\\u001b[2mwhoscored.py\u001b[0m\u001b]8;;\u001b\\\u001b[2m:\u001b[0m\u001b]8;id=957964;file://C:\\Users\\acer\\AppData\\Local\\Programs\\Python\\Python312\\Lib\\site-packages\\soccerdata\\whoscored.py#400\u001b\\\u001b[2m400\u001b[0m\u001b]8;;\u001b\\\n"
      ]
     },
     "metadata": {},
     "output_type": "display_data"
    },
    {
     "name": "stderr",
     "output_type": "stream",
     "text": [
      "C:\\Users\\acer\\AppData\\Local\\Programs\\Python\\Python312\\Lib\\site-packages\\soccerdata\\whoscored.py:424: FutureWarning: The behavior of DataFrame concatenation with empty or all-NA entries is deprecated. In a future version, this will no longer exclude empty or all-NA columns when determining the result dtypes. To retain the old behavior, exclude the relevant entries before the concat operation.\n",
      "  pd.concat(all_schedules)\n"
     ]
    },
    {
     "data": {
      "text/html": [
       "<pre style=\"white-space:pre;overflow-x:auto;line-height:normal;font-family:Menlo,'DejaVu Sans Mono',consolas,'Courier New',monospace\"><span style=\"color: #7fbfbf; text-decoration-color: #7fbfbf\">[09/02/24 20:32:24] </span><span style=\"color: #000080; text-decoration-color: #000080\">INFO    </span> <span style=\"font-weight: bold\">[</span><span style=\"color: #008080; text-decoration-color: #008080; font-weight: bold\">1</span>/<span style=\"color: #008080; text-decoration-color: #008080; font-weight: bold\">1</span><span style=\"font-weight: bold\">]</span> Retrieving game with <span style=\"color: #808000; text-decoration-color: #808000\">id</span>=<span style=\"color: #008080; text-decoration-color: #008080; font-weight: bold\">1821056</span>                                 <a href=\"file://C:\\Users\\acer\\AppData\\Local\\Programs\\Python\\Python312\\Lib\\site-packages\\soccerdata\\whoscored.py\" target=\"_blank\"><span style=\"color: #7f7f7f; text-decoration-color: #7f7f7f\">whoscored.py</span></a><span style=\"color: #7f7f7f; text-decoration-color: #7f7f7f\">:</span><a href=\"file://C:\\Users\\acer\\AppData\\Local\\Programs\\Python\\Python312\\Lib\\site-packages\\soccerdata\\whoscored.py#692\" target=\"_blank\"><span style=\"color: #7f7f7f; text-decoration-color: #7f7f7f\">692</span></a>\n",
       "</pre>\n"
      ],
      "text/plain": [
       "\u001b[2;36m[09/02/24 20:32:24]\u001b[0m\u001b[2;36m \u001b[0m\u001b[34mINFO    \u001b[0m \u001b[1m[\u001b[0m\u001b[1;36m1\u001b[0m/\u001b[1;36m1\u001b[0m\u001b[1m]\u001b[0m Retrieving game with \u001b[33mid\u001b[0m=\u001b[1;36m1821056\u001b[0m                                 \u001b]8;id=520641;file://C:\\Users\\acer\\AppData\\Local\\Programs\\Python\\Python312\\Lib\\site-packages\\soccerdata\\whoscored.py\u001b\\\u001b[2mwhoscored.py\u001b[0m\u001b]8;;\u001b\\\u001b[2m:\u001b[0m\u001b]8;id=404921;file://C:\\Users\\acer\\AppData\\Local\\Programs\\Python\\Python312\\Lib\\site-packages\\soccerdata\\whoscored.py#692\u001b\\\u001b[2m692\u001b[0m\u001b]8;;\u001b\\\n"
      ]
     },
     "metadata": {},
     "output_type": "display_data"
    },
    {
     "data": {
      "text/html": [
       "<pre style=\"white-space:pre;overflow-x:auto;line-height:normal;font-family:Menlo,'DejaVu Sans Mono',consolas,'Courier New',monospace\"><span style=\"color: #7fbfbf; text-decoration-color: #7fbfbf\">[09/02/24 20:32:52] </span><span style=\"color: #000080; text-decoration-color: #000080\">INFO    </span> Retrieving calendar for ENG-Premier League <span style=\"color: #008080; text-decoration-color: #008080; font-weight: bold\">2425</span>                       <a href=\"file://C:\\Users\\acer\\AppData\\Local\\Programs\\Python\\Python312\\Lib\\site-packages\\soccerdata\\whoscored.py\" target=\"_blank\"><span style=\"color: #7f7f7f; text-decoration-color: #7f7f7f\">whoscored.py</span></a><span style=\"color: #7f7f7f; text-decoration-color: #7f7f7f\">:</span><a href=\"file://C:\\Users\\acer\\AppData\\Local\\Programs\\Python\\Python312\\Lib\\site-packages\\soccerdata\\whoscored.py#371\" target=\"_blank\"><span style=\"color: #7f7f7f; text-decoration-color: #7f7f7f\">371</span></a>\n",
       "</pre>\n"
      ],
      "text/plain": [
       "\u001b[2;36m[09/02/24 20:32:52]\u001b[0m\u001b[2;36m \u001b[0m\u001b[34mINFO    \u001b[0m Retrieving calendar for ENG-Premier League \u001b[1;36m2425\u001b[0m                       \u001b]8;id=54733;file://C:\\Users\\acer\\AppData\\Local\\Programs\\Python\\Python312\\Lib\\site-packages\\soccerdata\\whoscored.py\u001b\\\u001b[2mwhoscored.py\u001b[0m\u001b]8;;\u001b\\\u001b[2m:\u001b[0m\u001b]8;id=383084;file://C:\\Users\\acer\\AppData\\Local\\Programs\\Python\\Python312\\Lib\\site-packages\\soccerdata\\whoscored.py#371\u001b\\\u001b[2m371\u001b[0m\u001b]8;;\u001b\\\n"
      ]
     },
     "metadata": {},
     "output_type": "display_data"
    },
    {
     "data": {
      "text/html": [
       "<pre style=\"white-space:pre;overflow-x:auto;line-height:normal;font-family:Menlo,'DejaVu Sans Mono',consolas,'Courier New',monospace\"><span style=\"color: #7fbfbf; text-decoration-color: #7fbfbf\">[09/02/24 20:33:04] </span><span style=\"color: #000080; text-decoration-color: #000080\">INFO    </span> <span style=\"font-weight: bold\">[</span><span style=\"color: #008080; text-decoration-color: #008080; font-weight: bold\">1</span>/<span style=\"color: #008080; text-decoration-color: #008080; font-weight: bold\">10</span><span style=\"font-weight: bold\">]</span> Retrieving fixtures for ENG-Premier League <span style=\"color: #008080; text-decoration-color: #008080; font-weight: bold\">2425</span>                <a href=\"file://C:\\Users\\acer\\AppData\\Local\\Programs\\Python\\Python312\\Lib\\site-packages\\soccerdata\\whoscored.py\" target=\"_blank\"><span style=\"color: #7f7f7f; text-decoration-color: #7f7f7f\">whoscored.py</span></a><span style=\"color: #7f7f7f; text-decoration-color: #7f7f7f\">:</span><a href=\"file://C:\\Users\\acer\\AppData\\Local\\Programs\\Python\\Python312\\Lib\\site-packages\\soccerdata\\whoscored.py#400\" target=\"_blank\"><span style=\"color: #7f7f7f; text-decoration-color: #7f7f7f\">400</span></a>\n",
       "</pre>\n"
      ],
      "text/plain": [
       "\u001b[2;36m[09/02/24 20:33:04]\u001b[0m\u001b[2;36m \u001b[0m\u001b[34mINFO    \u001b[0m \u001b[1m[\u001b[0m\u001b[1;36m1\u001b[0m/\u001b[1;36m10\u001b[0m\u001b[1m]\u001b[0m Retrieving fixtures for ENG-Premier League \u001b[1;36m2425\u001b[0m                \u001b]8;id=571028;file://C:\\Users\\acer\\AppData\\Local\\Programs\\Python\\Python312\\Lib\\site-packages\\soccerdata\\whoscored.py\u001b\\\u001b[2mwhoscored.py\u001b[0m\u001b]8;;\u001b\\\u001b[2m:\u001b[0m\u001b]8;id=196515;file://C:\\Users\\acer\\AppData\\Local\\Programs\\Python\\Python312\\Lib\\site-packages\\soccerdata\\whoscored.py#400\u001b\\\u001b[2m400\u001b[0m\u001b]8;;\u001b\\\n"
      ]
     },
     "metadata": {},
     "output_type": "display_data"
    },
    {
     "data": {
      "text/html": [
       "<pre style=\"white-space:pre;overflow-x:auto;line-height:normal;font-family:Menlo,'DejaVu Sans Mono',consolas,'Courier New',monospace\"><span style=\"color: #7fbfbf; text-decoration-color: #7fbfbf\">[09/02/24 20:33:14] </span><span style=\"color: #000080; text-decoration-color: #000080\">INFO    </span> <span style=\"font-weight: bold\">[</span><span style=\"color: #008080; text-decoration-color: #008080; font-weight: bold\">2</span>/<span style=\"color: #008080; text-decoration-color: #008080; font-weight: bold\">10</span><span style=\"font-weight: bold\">]</span> Retrieving fixtures for ENG-Premier League <span style=\"color: #008080; text-decoration-color: #008080; font-weight: bold\">2425</span>                <a href=\"file://C:\\Users\\acer\\AppData\\Local\\Programs\\Python\\Python312\\Lib\\site-packages\\soccerdata\\whoscored.py\" target=\"_blank\"><span style=\"color: #7f7f7f; text-decoration-color: #7f7f7f\">whoscored.py</span></a><span style=\"color: #7f7f7f; text-decoration-color: #7f7f7f\">:</span><a href=\"file://C:\\Users\\acer\\AppData\\Local\\Programs\\Python\\Python312\\Lib\\site-packages\\soccerdata\\whoscored.py#400\" target=\"_blank\"><span style=\"color: #7f7f7f; text-decoration-color: #7f7f7f\">400</span></a>\n",
       "</pre>\n"
      ],
      "text/plain": [
       "\u001b[2;36m[09/02/24 20:33:14]\u001b[0m\u001b[2;36m \u001b[0m\u001b[34mINFO    \u001b[0m \u001b[1m[\u001b[0m\u001b[1;36m2\u001b[0m/\u001b[1;36m10\u001b[0m\u001b[1m]\u001b[0m Retrieving fixtures for ENG-Premier League \u001b[1;36m2425\u001b[0m                \u001b]8;id=471365;file://C:\\Users\\acer\\AppData\\Local\\Programs\\Python\\Python312\\Lib\\site-packages\\soccerdata\\whoscored.py\u001b\\\u001b[2mwhoscored.py\u001b[0m\u001b]8;;\u001b\\\u001b[2m:\u001b[0m\u001b]8;id=631371;file://C:\\Users\\acer\\AppData\\Local\\Programs\\Python\\Python312\\Lib\\site-packages\\soccerdata\\whoscored.py#400\u001b\\\u001b[2m400\u001b[0m\u001b]8;;\u001b\\\n"
      ]
     },
     "metadata": {},
     "output_type": "display_data"
    },
    {
     "data": {
      "text/html": [
       "<pre style=\"white-space:pre;overflow-x:auto;line-height:normal;font-family:Menlo,'DejaVu Sans Mono',consolas,'Courier New',monospace\"><span style=\"color: #7fbfbf; text-decoration-color: #7fbfbf\">[09/02/24 20:33:24] </span><span style=\"color: #000080; text-decoration-color: #000080\">INFO    </span> <span style=\"font-weight: bold\">[</span><span style=\"color: #008080; text-decoration-color: #008080; font-weight: bold\">3</span>/<span style=\"color: #008080; text-decoration-color: #008080; font-weight: bold\">10</span><span style=\"font-weight: bold\">]</span> Retrieving fixtures for ENG-Premier League <span style=\"color: #008080; text-decoration-color: #008080; font-weight: bold\">2425</span>                <a href=\"file://C:\\Users\\acer\\AppData\\Local\\Programs\\Python\\Python312\\Lib\\site-packages\\soccerdata\\whoscored.py\" target=\"_blank\"><span style=\"color: #7f7f7f; text-decoration-color: #7f7f7f\">whoscored.py</span></a><span style=\"color: #7f7f7f; text-decoration-color: #7f7f7f\">:</span><a href=\"file://C:\\Users\\acer\\AppData\\Local\\Programs\\Python\\Python312\\Lib\\site-packages\\soccerdata\\whoscored.py#400\" target=\"_blank\"><span style=\"color: #7f7f7f; text-decoration-color: #7f7f7f\">400</span></a>\n",
       "</pre>\n"
      ],
      "text/plain": [
       "\u001b[2;36m[09/02/24 20:33:24]\u001b[0m\u001b[2;36m \u001b[0m\u001b[34mINFO    \u001b[0m \u001b[1m[\u001b[0m\u001b[1;36m3\u001b[0m/\u001b[1;36m10\u001b[0m\u001b[1m]\u001b[0m Retrieving fixtures for ENG-Premier League \u001b[1;36m2425\u001b[0m                \u001b]8;id=945088;file://C:\\Users\\acer\\AppData\\Local\\Programs\\Python\\Python312\\Lib\\site-packages\\soccerdata\\whoscored.py\u001b\\\u001b[2mwhoscored.py\u001b[0m\u001b]8;;\u001b\\\u001b[2m:\u001b[0m\u001b]8;id=681989;file://C:\\Users\\acer\\AppData\\Local\\Programs\\Python\\Python312\\Lib\\site-packages\\soccerdata\\whoscored.py#400\u001b\\\u001b[2m400\u001b[0m\u001b]8;;\u001b\\\n"
      ]
     },
     "metadata": {},
     "output_type": "display_data"
    },
    {
     "data": {
      "text/html": [
       "<pre style=\"white-space:pre;overflow-x:auto;line-height:normal;font-family:Menlo,'DejaVu Sans Mono',consolas,'Courier New',monospace\"><span style=\"color: #7fbfbf; text-decoration-color: #7fbfbf\">[09/02/24 20:33:34] </span><span style=\"color: #000080; text-decoration-color: #000080\">INFO    </span> <span style=\"font-weight: bold\">[</span><span style=\"color: #008080; text-decoration-color: #008080; font-weight: bold\">4</span>/<span style=\"color: #008080; text-decoration-color: #008080; font-weight: bold\">10</span><span style=\"font-weight: bold\">]</span> Retrieving fixtures for ENG-Premier League <span style=\"color: #008080; text-decoration-color: #008080; font-weight: bold\">2425</span>                <a href=\"file://C:\\Users\\acer\\AppData\\Local\\Programs\\Python\\Python312\\Lib\\site-packages\\soccerdata\\whoscored.py\" target=\"_blank\"><span style=\"color: #7f7f7f; text-decoration-color: #7f7f7f\">whoscored.py</span></a><span style=\"color: #7f7f7f; text-decoration-color: #7f7f7f\">:</span><a href=\"file://C:\\Users\\acer\\AppData\\Local\\Programs\\Python\\Python312\\Lib\\site-packages\\soccerdata\\whoscored.py#400\" target=\"_blank\"><span style=\"color: #7f7f7f; text-decoration-color: #7f7f7f\">400</span></a>\n",
       "</pre>\n"
      ],
      "text/plain": [
       "\u001b[2;36m[09/02/24 20:33:34]\u001b[0m\u001b[2;36m \u001b[0m\u001b[34mINFO    \u001b[0m \u001b[1m[\u001b[0m\u001b[1;36m4\u001b[0m/\u001b[1;36m10\u001b[0m\u001b[1m]\u001b[0m Retrieving fixtures for ENG-Premier League \u001b[1;36m2425\u001b[0m                \u001b]8;id=565260;file://C:\\Users\\acer\\AppData\\Local\\Programs\\Python\\Python312\\Lib\\site-packages\\soccerdata\\whoscored.py\u001b\\\u001b[2mwhoscored.py\u001b[0m\u001b]8;;\u001b\\\u001b[2m:\u001b[0m\u001b]8;id=731766;file://C:\\Users\\acer\\AppData\\Local\\Programs\\Python\\Python312\\Lib\\site-packages\\soccerdata\\whoscored.py#400\u001b\\\u001b[2m400\u001b[0m\u001b]8;;\u001b\\\n"
      ]
     },
     "metadata": {},
     "output_type": "display_data"
    },
    {
     "data": {
      "text/html": [
       "<pre style=\"white-space:pre;overflow-x:auto;line-height:normal;font-family:Menlo,'DejaVu Sans Mono',consolas,'Courier New',monospace\"><span style=\"color: #7fbfbf; text-decoration-color: #7fbfbf\">[09/02/24 20:33:41] </span><span style=\"color: #000080; text-decoration-color: #000080\">INFO    </span> <span style=\"font-weight: bold\">[</span><span style=\"color: #008080; text-decoration-color: #008080; font-weight: bold\">5</span>/<span style=\"color: #008080; text-decoration-color: #008080; font-weight: bold\">10</span><span style=\"font-weight: bold\">]</span> Retrieving fixtures for ENG-Premier League <span style=\"color: #008080; text-decoration-color: #008080; font-weight: bold\">2425</span>                <a href=\"file://C:\\Users\\acer\\AppData\\Local\\Programs\\Python\\Python312\\Lib\\site-packages\\soccerdata\\whoscored.py\" target=\"_blank\"><span style=\"color: #7f7f7f; text-decoration-color: #7f7f7f\">whoscored.py</span></a><span style=\"color: #7f7f7f; text-decoration-color: #7f7f7f\">:</span><a href=\"file://C:\\Users\\acer\\AppData\\Local\\Programs\\Python\\Python312\\Lib\\site-packages\\soccerdata\\whoscored.py#400\" target=\"_blank\"><span style=\"color: #7f7f7f; text-decoration-color: #7f7f7f\">400</span></a>\n",
       "</pre>\n"
      ],
      "text/plain": [
       "\u001b[2;36m[09/02/24 20:33:41]\u001b[0m\u001b[2;36m \u001b[0m\u001b[34mINFO    \u001b[0m \u001b[1m[\u001b[0m\u001b[1;36m5\u001b[0m/\u001b[1;36m10\u001b[0m\u001b[1m]\u001b[0m Retrieving fixtures for ENG-Premier League \u001b[1;36m2425\u001b[0m                \u001b]8;id=506842;file://C:\\Users\\acer\\AppData\\Local\\Programs\\Python\\Python312\\Lib\\site-packages\\soccerdata\\whoscored.py\u001b\\\u001b[2mwhoscored.py\u001b[0m\u001b]8;;\u001b\\\u001b[2m:\u001b[0m\u001b]8;id=426153;file://C:\\Users\\acer\\AppData\\Local\\Programs\\Python\\Python312\\Lib\\site-packages\\soccerdata\\whoscored.py#400\u001b\\\u001b[2m400\u001b[0m\u001b]8;;\u001b\\\n"
      ]
     },
     "metadata": {},
     "output_type": "display_data"
    },
    {
     "data": {
      "text/html": [
       "<pre style=\"white-space:pre;overflow-x:auto;line-height:normal;font-family:Menlo,'DejaVu Sans Mono',consolas,'Courier New',monospace\"><span style=\"color: #7fbfbf; text-decoration-color: #7fbfbf\">[09/02/24 20:33:50] </span><span style=\"color: #000080; text-decoration-color: #000080\">INFO    </span> <span style=\"font-weight: bold\">[</span><span style=\"color: #008080; text-decoration-color: #008080; font-weight: bold\">6</span>/<span style=\"color: #008080; text-decoration-color: #008080; font-weight: bold\">10</span><span style=\"font-weight: bold\">]</span> Retrieving fixtures for ENG-Premier League <span style=\"color: #008080; text-decoration-color: #008080; font-weight: bold\">2425</span>                <a href=\"file://C:\\Users\\acer\\AppData\\Local\\Programs\\Python\\Python312\\Lib\\site-packages\\soccerdata\\whoscored.py\" target=\"_blank\"><span style=\"color: #7f7f7f; text-decoration-color: #7f7f7f\">whoscored.py</span></a><span style=\"color: #7f7f7f; text-decoration-color: #7f7f7f\">:</span><a href=\"file://C:\\Users\\acer\\AppData\\Local\\Programs\\Python\\Python312\\Lib\\site-packages\\soccerdata\\whoscored.py#400\" target=\"_blank\"><span style=\"color: #7f7f7f; text-decoration-color: #7f7f7f\">400</span></a>\n",
       "</pre>\n"
      ],
      "text/plain": [
       "\u001b[2;36m[09/02/24 20:33:50]\u001b[0m\u001b[2;36m \u001b[0m\u001b[34mINFO    \u001b[0m \u001b[1m[\u001b[0m\u001b[1;36m6\u001b[0m/\u001b[1;36m10\u001b[0m\u001b[1m]\u001b[0m Retrieving fixtures for ENG-Premier League \u001b[1;36m2425\u001b[0m                \u001b]8;id=668974;file://C:\\Users\\acer\\AppData\\Local\\Programs\\Python\\Python312\\Lib\\site-packages\\soccerdata\\whoscored.py\u001b\\\u001b[2mwhoscored.py\u001b[0m\u001b]8;;\u001b\\\u001b[2m:\u001b[0m\u001b]8;id=611107;file://C:\\Users\\acer\\AppData\\Local\\Programs\\Python\\Python312\\Lib\\site-packages\\soccerdata\\whoscored.py#400\u001b\\\u001b[2m400\u001b[0m\u001b]8;;\u001b\\\n"
      ]
     },
     "metadata": {},
     "output_type": "display_data"
    },
    {
     "data": {
      "text/html": [
       "<pre style=\"white-space:pre;overflow-x:auto;line-height:normal;font-family:Menlo,'DejaVu Sans Mono',consolas,'Courier New',monospace\"><span style=\"color: #7fbfbf; text-decoration-color: #7fbfbf\">[09/02/24 20:33:58] </span><span style=\"color: #000080; text-decoration-color: #000080\">INFO    </span> <span style=\"font-weight: bold\">[</span><span style=\"color: #008080; text-decoration-color: #008080; font-weight: bold\">7</span>/<span style=\"color: #008080; text-decoration-color: #008080; font-weight: bold\">10</span><span style=\"font-weight: bold\">]</span> Retrieving fixtures for ENG-Premier League <span style=\"color: #008080; text-decoration-color: #008080; font-weight: bold\">2425</span>                <a href=\"file://C:\\Users\\acer\\AppData\\Local\\Programs\\Python\\Python312\\Lib\\site-packages\\soccerdata\\whoscored.py\" target=\"_blank\"><span style=\"color: #7f7f7f; text-decoration-color: #7f7f7f\">whoscored.py</span></a><span style=\"color: #7f7f7f; text-decoration-color: #7f7f7f\">:</span><a href=\"file://C:\\Users\\acer\\AppData\\Local\\Programs\\Python\\Python312\\Lib\\site-packages\\soccerdata\\whoscored.py#400\" target=\"_blank\"><span style=\"color: #7f7f7f; text-decoration-color: #7f7f7f\">400</span></a>\n",
       "</pre>\n"
      ],
      "text/plain": [
       "\u001b[2;36m[09/02/24 20:33:58]\u001b[0m\u001b[2;36m \u001b[0m\u001b[34mINFO    \u001b[0m \u001b[1m[\u001b[0m\u001b[1;36m7\u001b[0m/\u001b[1;36m10\u001b[0m\u001b[1m]\u001b[0m Retrieving fixtures for ENG-Premier League \u001b[1;36m2425\u001b[0m                \u001b]8;id=568196;file://C:\\Users\\acer\\AppData\\Local\\Programs\\Python\\Python312\\Lib\\site-packages\\soccerdata\\whoscored.py\u001b\\\u001b[2mwhoscored.py\u001b[0m\u001b]8;;\u001b\\\u001b[2m:\u001b[0m\u001b]8;id=153383;file://C:\\Users\\acer\\AppData\\Local\\Programs\\Python\\Python312\\Lib\\site-packages\\soccerdata\\whoscored.py#400\u001b\\\u001b[2m400\u001b[0m\u001b]8;;\u001b\\\n"
      ]
     },
     "metadata": {},
     "output_type": "display_data"
    },
    {
     "data": {
      "text/html": [
       "<pre style=\"white-space:pre;overflow-x:auto;line-height:normal;font-family:Menlo,'DejaVu Sans Mono',consolas,'Courier New',monospace\"><span style=\"color: #7fbfbf; text-decoration-color: #7fbfbf\">[09/02/24 20:34:05] </span><span style=\"color: #000080; text-decoration-color: #000080\">INFO    </span> <span style=\"font-weight: bold\">[</span><span style=\"color: #008080; text-decoration-color: #008080; font-weight: bold\">8</span>/<span style=\"color: #008080; text-decoration-color: #008080; font-weight: bold\">10</span><span style=\"font-weight: bold\">]</span> Retrieving fixtures for ENG-Premier League <span style=\"color: #008080; text-decoration-color: #008080; font-weight: bold\">2425</span>                <a href=\"file://C:\\Users\\acer\\AppData\\Local\\Programs\\Python\\Python312\\Lib\\site-packages\\soccerdata\\whoscored.py\" target=\"_blank\"><span style=\"color: #7f7f7f; text-decoration-color: #7f7f7f\">whoscored.py</span></a><span style=\"color: #7f7f7f; text-decoration-color: #7f7f7f\">:</span><a href=\"file://C:\\Users\\acer\\AppData\\Local\\Programs\\Python\\Python312\\Lib\\site-packages\\soccerdata\\whoscored.py#400\" target=\"_blank\"><span style=\"color: #7f7f7f; text-decoration-color: #7f7f7f\">400</span></a>\n",
       "</pre>\n"
      ],
      "text/plain": [
       "\u001b[2;36m[09/02/24 20:34:05]\u001b[0m\u001b[2;36m \u001b[0m\u001b[34mINFO    \u001b[0m \u001b[1m[\u001b[0m\u001b[1;36m8\u001b[0m/\u001b[1;36m10\u001b[0m\u001b[1m]\u001b[0m Retrieving fixtures for ENG-Premier League \u001b[1;36m2425\u001b[0m                \u001b]8;id=818424;file://C:\\Users\\acer\\AppData\\Local\\Programs\\Python\\Python312\\Lib\\site-packages\\soccerdata\\whoscored.py\u001b\\\u001b[2mwhoscored.py\u001b[0m\u001b]8;;\u001b\\\u001b[2m:\u001b[0m\u001b]8;id=659568;file://C:\\Users\\acer\\AppData\\Local\\Programs\\Python\\Python312\\Lib\\site-packages\\soccerdata\\whoscored.py#400\u001b\\\u001b[2m400\u001b[0m\u001b]8;;\u001b\\\n"
      ]
     },
     "metadata": {},
     "output_type": "display_data"
    },
    {
     "data": {
      "text/html": [
       "<pre style=\"white-space:pre;overflow-x:auto;line-height:normal;font-family:Menlo,'DejaVu Sans Mono',consolas,'Courier New',monospace\"><span style=\"color: #7fbfbf; text-decoration-color: #7fbfbf\">[09/02/24 20:34:14] </span><span style=\"color: #000080; text-decoration-color: #000080\">INFO    </span> <span style=\"font-weight: bold\">[</span><span style=\"color: #008080; text-decoration-color: #008080; font-weight: bold\">9</span>/<span style=\"color: #008080; text-decoration-color: #008080; font-weight: bold\">10</span><span style=\"font-weight: bold\">]</span> Retrieving fixtures for ENG-Premier League <span style=\"color: #008080; text-decoration-color: #008080; font-weight: bold\">2425</span>                <a href=\"file://C:\\Users\\acer\\AppData\\Local\\Programs\\Python\\Python312\\Lib\\site-packages\\soccerdata\\whoscored.py\" target=\"_blank\"><span style=\"color: #7f7f7f; text-decoration-color: #7f7f7f\">whoscored.py</span></a><span style=\"color: #7f7f7f; text-decoration-color: #7f7f7f\">:</span><a href=\"file://C:\\Users\\acer\\AppData\\Local\\Programs\\Python\\Python312\\Lib\\site-packages\\soccerdata\\whoscored.py#400\" target=\"_blank\"><span style=\"color: #7f7f7f; text-decoration-color: #7f7f7f\">400</span></a>\n",
       "</pre>\n"
      ],
      "text/plain": [
       "\u001b[2;36m[09/02/24 20:34:14]\u001b[0m\u001b[2;36m \u001b[0m\u001b[34mINFO    \u001b[0m \u001b[1m[\u001b[0m\u001b[1;36m9\u001b[0m/\u001b[1;36m10\u001b[0m\u001b[1m]\u001b[0m Retrieving fixtures for ENG-Premier League \u001b[1;36m2425\u001b[0m                \u001b]8;id=411080;file://C:\\Users\\acer\\AppData\\Local\\Programs\\Python\\Python312\\Lib\\site-packages\\soccerdata\\whoscored.py\u001b\\\u001b[2mwhoscored.py\u001b[0m\u001b]8;;\u001b\\\u001b[2m:\u001b[0m\u001b]8;id=819349;file://C:\\Users\\acer\\AppData\\Local\\Programs\\Python\\Python312\\Lib\\site-packages\\soccerdata\\whoscored.py#400\u001b\\\u001b[2m400\u001b[0m\u001b]8;;\u001b\\\n"
      ]
     },
     "metadata": {},
     "output_type": "display_data"
    },
    {
     "data": {
      "text/html": [
       "<pre style=\"white-space:pre;overflow-x:auto;line-height:normal;font-family:Menlo,'DejaVu Sans Mono',consolas,'Courier New',monospace\"><span style=\"color: #7fbfbf; text-decoration-color: #7fbfbf\">[09/02/24 20:34:22] </span><span style=\"color: #000080; text-decoration-color: #000080\">INFO    </span> <span style=\"font-weight: bold\">[</span><span style=\"color: #008080; text-decoration-color: #008080; font-weight: bold\">10</span>/<span style=\"color: #008080; text-decoration-color: #008080; font-weight: bold\">10</span><span style=\"font-weight: bold\">]</span> Retrieving fixtures for ENG-Premier League <span style=\"color: #008080; text-decoration-color: #008080; font-weight: bold\">2425</span>               <a href=\"file://C:\\Users\\acer\\AppData\\Local\\Programs\\Python\\Python312\\Lib\\site-packages\\soccerdata\\whoscored.py\" target=\"_blank\"><span style=\"color: #7f7f7f; text-decoration-color: #7f7f7f\">whoscored.py</span></a><span style=\"color: #7f7f7f; text-decoration-color: #7f7f7f\">:</span><a href=\"file://C:\\Users\\acer\\AppData\\Local\\Programs\\Python\\Python312\\Lib\\site-packages\\soccerdata\\whoscored.py#400\" target=\"_blank\"><span style=\"color: #7f7f7f; text-decoration-color: #7f7f7f\">400</span></a>\n",
       "</pre>\n"
      ],
      "text/plain": [
       "\u001b[2;36m[09/02/24 20:34:22]\u001b[0m\u001b[2;36m \u001b[0m\u001b[34mINFO    \u001b[0m \u001b[1m[\u001b[0m\u001b[1;36m10\u001b[0m/\u001b[1;36m10\u001b[0m\u001b[1m]\u001b[0m Retrieving fixtures for ENG-Premier League \u001b[1;36m2425\u001b[0m               \u001b]8;id=313959;file://C:\\Users\\acer\\AppData\\Local\\Programs\\Python\\Python312\\Lib\\site-packages\\soccerdata\\whoscored.py\u001b\\\u001b[2mwhoscored.py\u001b[0m\u001b]8;;\u001b\\\u001b[2m:\u001b[0m\u001b]8;id=124417;file://C:\\Users\\acer\\AppData\\Local\\Programs\\Python\\Python312\\Lib\\site-packages\\soccerdata\\whoscored.py#400\u001b\\\u001b[2m400\u001b[0m\u001b]8;;\u001b\\\n"
      ]
     },
     "metadata": {},
     "output_type": "display_data"
    },
    {
     "name": "stderr",
     "output_type": "stream",
     "text": [
      "C:\\Users\\acer\\AppData\\Local\\Programs\\Python\\Python312\\Lib\\site-packages\\soccerdata\\whoscored.py:424: FutureWarning: The behavior of DataFrame concatenation with empty or all-NA entries is deprecated. In a future version, this will no longer exclude empty or all-NA columns when determining the result dtypes. To retain the old behavior, exclude the relevant entries before the concat operation.\n",
      "  pd.concat(all_schedules)\n"
     ]
    },
    {
     "data": {
      "text/html": [
       "<pre style=\"white-space:pre;overflow-x:auto;line-height:normal;font-family:Menlo,'DejaVu Sans Mono',consolas,'Courier New',monospace\"><span style=\"color: #7fbfbf; text-decoration-color: #7fbfbf\">[09/02/24 20:34:28] </span><span style=\"color: #000080; text-decoration-color: #000080\">INFO    </span> <span style=\"font-weight: bold\">[</span><span style=\"color: #008080; text-decoration-color: #008080; font-weight: bold\">1</span>/<span style=\"color: #008080; text-decoration-color: #008080; font-weight: bold\">1</span><span style=\"font-weight: bold\">]</span> Retrieving game with <span style=\"color: #808000; text-decoration-color: #808000\">id</span>=<span style=\"color: #008080; text-decoration-color: #008080; font-weight: bold\">1821057</span>                                 <a href=\"file://C:\\Users\\acer\\AppData\\Local\\Programs\\Python\\Python312\\Lib\\site-packages\\soccerdata\\whoscored.py\" target=\"_blank\"><span style=\"color: #7f7f7f; text-decoration-color: #7f7f7f\">whoscored.py</span></a><span style=\"color: #7f7f7f; text-decoration-color: #7f7f7f\">:</span><a href=\"file://C:\\Users\\acer\\AppData\\Local\\Programs\\Python\\Python312\\Lib\\site-packages\\soccerdata\\whoscored.py#692\" target=\"_blank\"><span style=\"color: #7f7f7f; text-decoration-color: #7f7f7f\">692</span></a>\n",
       "</pre>\n"
      ],
      "text/plain": [
       "\u001b[2;36m[09/02/24 20:34:28]\u001b[0m\u001b[2;36m \u001b[0m\u001b[34mINFO    \u001b[0m \u001b[1m[\u001b[0m\u001b[1;36m1\u001b[0m/\u001b[1;36m1\u001b[0m\u001b[1m]\u001b[0m Retrieving game with \u001b[33mid\u001b[0m=\u001b[1;36m1821057\u001b[0m                                 \u001b]8;id=182028;file://C:\\Users\\acer\\AppData\\Local\\Programs\\Python\\Python312\\Lib\\site-packages\\soccerdata\\whoscored.py\u001b\\\u001b[2mwhoscored.py\u001b[0m\u001b]8;;\u001b\\\u001b[2m:\u001b[0m\u001b]8;id=403828;file://C:\\Users\\acer\\AppData\\Local\\Programs\\Python\\Python312\\Lib\\site-packages\\soccerdata\\whoscored.py#692\u001b\\\u001b[2m692\u001b[0m\u001b]8;;\u001b\\\n"
      ]
     },
     "metadata": {},
     "output_type": "display_data"
    },
    {
     "data": {
      "text/html": [
       "<pre style=\"white-space:pre;overflow-x:auto;line-height:normal;font-family:Menlo,'DejaVu Sans Mono',consolas,'Courier New',monospace\"><span style=\"color: #7fbfbf; text-decoration-color: #7fbfbf\">[09/02/24 20:34:52] </span><span style=\"color: #000080; text-decoration-color: #000080\">INFO    </span> Retrieving calendar for ENG-Premier League <span style=\"color: #008080; text-decoration-color: #008080; font-weight: bold\">2425</span>                       <a href=\"file://C:\\Users\\acer\\AppData\\Local\\Programs\\Python\\Python312\\Lib\\site-packages\\soccerdata\\whoscored.py\" target=\"_blank\"><span style=\"color: #7f7f7f; text-decoration-color: #7f7f7f\">whoscored.py</span></a><span style=\"color: #7f7f7f; text-decoration-color: #7f7f7f\">:</span><a href=\"file://C:\\Users\\acer\\AppData\\Local\\Programs\\Python\\Python312\\Lib\\site-packages\\soccerdata\\whoscored.py#371\" target=\"_blank\"><span style=\"color: #7f7f7f; text-decoration-color: #7f7f7f\">371</span></a>\n",
       "</pre>\n"
      ],
      "text/plain": [
       "\u001b[2;36m[09/02/24 20:34:52]\u001b[0m\u001b[2;36m \u001b[0m\u001b[34mINFO    \u001b[0m Retrieving calendar for ENG-Premier League \u001b[1;36m2425\u001b[0m                       \u001b]8;id=273799;file://C:\\Users\\acer\\AppData\\Local\\Programs\\Python\\Python312\\Lib\\site-packages\\soccerdata\\whoscored.py\u001b\\\u001b[2mwhoscored.py\u001b[0m\u001b]8;;\u001b\\\u001b[2m:\u001b[0m\u001b]8;id=526470;file://C:\\Users\\acer\\AppData\\Local\\Programs\\Python\\Python312\\Lib\\site-packages\\soccerdata\\whoscored.py#371\u001b\\\u001b[2m371\u001b[0m\u001b]8;;\u001b\\\n"
      ]
     },
     "metadata": {},
     "output_type": "display_data"
    },
    {
     "data": {
      "text/html": [
       "<pre style=\"white-space:pre;overflow-x:auto;line-height:normal;font-family:Menlo,'DejaVu Sans Mono',consolas,'Courier New',monospace\"><span style=\"color: #7fbfbf; text-decoration-color: #7fbfbf\">[09/02/24 20:35:04] </span><span style=\"color: #000080; text-decoration-color: #000080\">INFO    </span> <span style=\"font-weight: bold\">[</span><span style=\"color: #008080; text-decoration-color: #008080; font-weight: bold\">1</span>/<span style=\"color: #008080; text-decoration-color: #008080; font-weight: bold\">10</span><span style=\"font-weight: bold\">]</span> Retrieving fixtures for ENG-Premier League <span style=\"color: #008080; text-decoration-color: #008080; font-weight: bold\">2425</span>                <a href=\"file://C:\\Users\\acer\\AppData\\Local\\Programs\\Python\\Python312\\Lib\\site-packages\\soccerdata\\whoscored.py\" target=\"_blank\"><span style=\"color: #7f7f7f; text-decoration-color: #7f7f7f\">whoscored.py</span></a><span style=\"color: #7f7f7f; text-decoration-color: #7f7f7f\">:</span><a href=\"file://C:\\Users\\acer\\AppData\\Local\\Programs\\Python\\Python312\\Lib\\site-packages\\soccerdata\\whoscored.py#400\" target=\"_blank\"><span style=\"color: #7f7f7f; text-decoration-color: #7f7f7f\">400</span></a>\n",
       "</pre>\n"
      ],
      "text/plain": [
       "\u001b[2;36m[09/02/24 20:35:04]\u001b[0m\u001b[2;36m \u001b[0m\u001b[34mINFO    \u001b[0m \u001b[1m[\u001b[0m\u001b[1;36m1\u001b[0m/\u001b[1;36m10\u001b[0m\u001b[1m]\u001b[0m Retrieving fixtures for ENG-Premier League \u001b[1;36m2425\u001b[0m                \u001b]8;id=265030;file://C:\\Users\\acer\\AppData\\Local\\Programs\\Python\\Python312\\Lib\\site-packages\\soccerdata\\whoscored.py\u001b\\\u001b[2mwhoscored.py\u001b[0m\u001b]8;;\u001b\\\u001b[2m:\u001b[0m\u001b]8;id=730662;file://C:\\Users\\acer\\AppData\\Local\\Programs\\Python\\Python312\\Lib\\site-packages\\soccerdata\\whoscored.py#400\u001b\\\u001b[2m400\u001b[0m\u001b]8;;\u001b\\\n"
      ]
     },
     "metadata": {},
     "output_type": "display_data"
    },
    {
     "data": {
      "text/html": [
       "<pre style=\"white-space:pre;overflow-x:auto;line-height:normal;font-family:Menlo,'DejaVu Sans Mono',consolas,'Courier New',monospace\"><span style=\"color: #7fbfbf; text-decoration-color: #7fbfbf\">[09/02/24 20:35:11] </span><span style=\"color: #000080; text-decoration-color: #000080\">INFO    </span> <span style=\"font-weight: bold\">[</span><span style=\"color: #008080; text-decoration-color: #008080; font-weight: bold\">2</span>/<span style=\"color: #008080; text-decoration-color: #008080; font-weight: bold\">10</span><span style=\"font-weight: bold\">]</span> Retrieving fixtures for ENG-Premier League <span style=\"color: #008080; text-decoration-color: #008080; font-weight: bold\">2425</span>                <a href=\"file://C:\\Users\\acer\\AppData\\Local\\Programs\\Python\\Python312\\Lib\\site-packages\\soccerdata\\whoscored.py\" target=\"_blank\"><span style=\"color: #7f7f7f; text-decoration-color: #7f7f7f\">whoscored.py</span></a><span style=\"color: #7f7f7f; text-decoration-color: #7f7f7f\">:</span><a href=\"file://C:\\Users\\acer\\AppData\\Local\\Programs\\Python\\Python312\\Lib\\site-packages\\soccerdata\\whoscored.py#400\" target=\"_blank\"><span style=\"color: #7f7f7f; text-decoration-color: #7f7f7f\">400</span></a>\n",
       "</pre>\n"
      ],
      "text/plain": [
       "\u001b[2;36m[09/02/24 20:35:11]\u001b[0m\u001b[2;36m \u001b[0m\u001b[34mINFO    \u001b[0m \u001b[1m[\u001b[0m\u001b[1;36m2\u001b[0m/\u001b[1;36m10\u001b[0m\u001b[1m]\u001b[0m Retrieving fixtures for ENG-Premier League \u001b[1;36m2425\u001b[0m                \u001b]8;id=385307;file://C:\\Users\\acer\\AppData\\Local\\Programs\\Python\\Python312\\Lib\\site-packages\\soccerdata\\whoscored.py\u001b\\\u001b[2mwhoscored.py\u001b[0m\u001b]8;;\u001b\\\u001b[2m:\u001b[0m\u001b]8;id=532760;file://C:\\Users\\acer\\AppData\\Local\\Programs\\Python\\Python312\\Lib\\site-packages\\soccerdata\\whoscored.py#400\u001b\\\u001b[2m400\u001b[0m\u001b]8;;\u001b\\\n"
      ]
     },
     "metadata": {},
     "output_type": "display_data"
    },
    {
     "data": {
      "text/html": [
       "<pre style=\"white-space:pre;overflow-x:auto;line-height:normal;font-family:Menlo,'DejaVu Sans Mono',consolas,'Courier New',monospace\"><span style=\"color: #7fbfbf; text-decoration-color: #7fbfbf\">[09/02/24 20:35:19] </span><span style=\"color: #000080; text-decoration-color: #000080\">INFO    </span> <span style=\"font-weight: bold\">[</span><span style=\"color: #008080; text-decoration-color: #008080; font-weight: bold\">3</span>/<span style=\"color: #008080; text-decoration-color: #008080; font-weight: bold\">10</span><span style=\"font-weight: bold\">]</span> Retrieving fixtures for ENG-Premier League <span style=\"color: #008080; text-decoration-color: #008080; font-weight: bold\">2425</span>                <a href=\"file://C:\\Users\\acer\\AppData\\Local\\Programs\\Python\\Python312\\Lib\\site-packages\\soccerdata\\whoscored.py\" target=\"_blank\"><span style=\"color: #7f7f7f; text-decoration-color: #7f7f7f\">whoscored.py</span></a><span style=\"color: #7f7f7f; text-decoration-color: #7f7f7f\">:</span><a href=\"file://C:\\Users\\acer\\AppData\\Local\\Programs\\Python\\Python312\\Lib\\site-packages\\soccerdata\\whoscored.py#400\" target=\"_blank\"><span style=\"color: #7f7f7f; text-decoration-color: #7f7f7f\">400</span></a>\n",
       "</pre>\n"
      ],
      "text/plain": [
       "\u001b[2;36m[09/02/24 20:35:19]\u001b[0m\u001b[2;36m \u001b[0m\u001b[34mINFO    \u001b[0m \u001b[1m[\u001b[0m\u001b[1;36m3\u001b[0m/\u001b[1;36m10\u001b[0m\u001b[1m]\u001b[0m Retrieving fixtures for ENG-Premier League \u001b[1;36m2425\u001b[0m                \u001b]8;id=737766;file://C:\\Users\\acer\\AppData\\Local\\Programs\\Python\\Python312\\Lib\\site-packages\\soccerdata\\whoscored.py\u001b\\\u001b[2mwhoscored.py\u001b[0m\u001b]8;;\u001b\\\u001b[2m:\u001b[0m\u001b]8;id=44310;file://C:\\Users\\acer\\AppData\\Local\\Programs\\Python\\Python312\\Lib\\site-packages\\soccerdata\\whoscored.py#400\u001b\\\u001b[2m400\u001b[0m\u001b]8;;\u001b\\\n"
      ]
     },
     "metadata": {},
     "output_type": "display_data"
    },
    {
     "data": {
      "text/html": [
       "<pre style=\"white-space:pre;overflow-x:auto;line-height:normal;font-family:Menlo,'DejaVu Sans Mono',consolas,'Courier New',monospace\"><span style=\"color: #7fbfbf; text-decoration-color: #7fbfbf\">[09/02/24 20:35:27] </span><span style=\"color: #000080; text-decoration-color: #000080\">INFO    </span> <span style=\"font-weight: bold\">[</span><span style=\"color: #008080; text-decoration-color: #008080; font-weight: bold\">4</span>/<span style=\"color: #008080; text-decoration-color: #008080; font-weight: bold\">10</span><span style=\"font-weight: bold\">]</span> Retrieving fixtures for ENG-Premier League <span style=\"color: #008080; text-decoration-color: #008080; font-weight: bold\">2425</span>                <a href=\"file://C:\\Users\\acer\\AppData\\Local\\Programs\\Python\\Python312\\Lib\\site-packages\\soccerdata\\whoscored.py\" target=\"_blank\"><span style=\"color: #7f7f7f; text-decoration-color: #7f7f7f\">whoscored.py</span></a><span style=\"color: #7f7f7f; text-decoration-color: #7f7f7f\">:</span><a href=\"file://C:\\Users\\acer\\AppData\\Local\\Programs\\Python\\Python312\\Lib\\site-packages\\soccerdata\\whoscored.py#400\" target=\"_blank\"><span style=\"color: #7f7f7f; text-decoration-color: #7f7f7f\">400</span></a>\n",
       "</pre>\n"
      ],
      "text/plain": [
       "\u001b[2;36m[09/02/24 20:35:27]\u001b[0m\u001b[2;36m \u001b[0m\u001b[34mINFO    \u001b[0m \u001b[1m[\u001b[0m\u001b[1;36m4\u001b[0m/\u001b[1;36m10\u001b[0m\u001b[1m]\u001b[0m Retrieving fixtures for ENG-Premier League \u001b[1;36m2425\u001b[0m                \u001b]8;id=21728;file://C:\\Users\\acer\\AppData\\Local\\Programs\\Python\\Python312\\Lib\\site-packages\\soccerdata\\whoscored.py\u001b\\\u001b[2mwhoscored.py\u001b[0m\u001b]8;;\u001b\\\u001b[2m:\u001b[0m\u001b]8;id=744373;file://C:\\Users\\acer\\AppData\\Local\\Programs\\Python\\Python312\\Lib\\site-packages\\soccerdata\\whoscored.py#400\u001b\\\u001b[2m400\u001b[0m\u001b]8;;\u001b\\\n"
      ]
     },
     "metadata": {},
     "output_type": "display_data"
    },
    {
     "data": {
      "text/html": [
       "<pre style=\"white-space:pre;overflow-x:auto;line-height:normal;font-family:Menlo,'DejaVu Sans Mono',consolas,'Courier New',monospace\"><span style=\"color: #7fbfbf; text-decoration-color: #7fbfbf\">[09/02/24 20:35:34] </span><span style=\"color: #000080; text-decoration-color: #000080\">INFO    </span> <span style=\"font-weight: bold\">[</span><span style=\"color: #008080; text-decoration-color: #008080; font-weight: bold\">5</span>/<span style=\"color: #008080; text-decoration-color: #008080; font-weight: bold\">10</span><span style=\"font-weight: bold\">]</span> Retrieving fixtures for ENG-Premier League <span style=\"color: #008080; text-decoration-color: #008080; font-weight: bold\">2425</span>                <a href=\"file://C:\\Users\\acer\\AppData\\Local\\Programs\\Python\\Python312\\Lib\\site-packages\\soccerdata\\whoscored.py\" target=\"_blank\"><span style=\"color: #7f7f7f; text-decoration-color: #7f7f7f\">whoscored.py</span></a><span style=\"color: #7f7f7f; text-decoration-color: #7f7f7f\">:</span><a href=\"file://C:\\Users\\acer\\AppData\\Local\\Programs\\Python\\Python312\\Lib\\site-packages\\soccerdata\\whoscored.py#400\" target=\"_blank\"><span style=\"color: #7f7f7f; text-decoration-color: #7f7f7f\">400</span></a>\n",
       "</pre>\n"
      ],
      "text/plain": [
       "\u001b[2;36m[09/02/24 20:35:34]\u001b[0m\u001b[2;36m \u001b[0m\u001b[34mINFO    \u001b[0m \u001b[1m[\u001b[0m\u001b[1;36m5\u001b[0m/\u001b[1;36m10\u001b[0m\u001b[1m]\u001b[0m Retrieving fixtures for ENG-Premier League \u001b[1;36m2425\u001b[0m                \u001b]8;id=136196;file://C:\\Users\\acer\\AppData\\Local\\Programs\\Python\\Python312\\Lib\\site-packages\\soccerdata\\whoscored.py\u001b\\\u001b[2mwhoscored.py\u001b[0m\u001b]8;;\u001b\\\u001b[2m:\u001b[0m\u001b]8;id=520882;file://C:\\Users\\acer\\AppData\\Local\\Programs\\Python\\Python312\\Lib\\site-packages\\soccerdata\\whoscored.py#400\u001b\\\u001b[2m400\u001b[0m\u001b]8;;\u001b\\\n"
      ]
     },
     "metadata": {},
     "output_type": "display_data"
    },
    {
     "data": {
      "text/html": [
       "<pre style=\"white-space:pre;overflow-x:auto;line-height:normal;font-family:Menlo,'DejaVu Sans Mono',consolas,'Courier New',monospace\"><span style=\"color: #7fbfbf; text-decoration-color: #7fbfbf\">[09/02/24 20:35:43] </span><span style=\"color: #000080; text-decoration-color: #000080\">INFO    </span> <span style=\"font-weight: bold\">[</span><span style=\"color: #008080; text-decoration-color: #008080; font-weight: bold\">6</span>/<span style=\"color: #008080; text-decoration-color: #008080; font-weight: bold\">10</span><span style=\"font-weight: bold\">]</span> Retrieving fixtures for ENG-Premier League <span style=\"color: #008080; text-decoration-color: #008080; font-weight: bold\">2425</span>                <a href=\"file://C:\\Users\\acer\\AppData\\Local\\Programs\\Python\\Python312\\Lib\\site-packages\\soccerdata\\whoscored.py\" target=\"_blank\"><span style=\"color: #7f7f7f; text-decoration-color: #7f7f7f\">whoscored.py</span></a><span style=\"color: #7f7f7f; text-decoration-color: #7f7f7f\">:</span><a href=\"file://C:\\Users\\acer\\AppData\\Local\\Programs\\Python\\Python312\\Lib\\site-packages\\soccerdata\\whoscored.py#400\" target=\"_blank\"><span style=\"color: #7f7f7f; text-decoration-color: #7f7f7f\">400</span></a>\n",
       "</pre>\n"
      ],
      "text/plain": [
       "\u001b[2;36m[09/02/24 20:35:43]\u001b[0m\u001b[2;36m \u001b[0m\u001b[34mINFO    \u001b[0m \u001b[1m[\u001b[0m\u001b[1;36m6\u001b[0m/\u001b[1;36m10\u001b[0m\u001b[1m]\u001b[0m Retrieving fixtures for ENG-Premier League \u001b[1;36m2425\u001b[0m                \u001b]8;id=970092;file://C:\\Users\\acer\\AppData\\Local\\Programs\\Python\\Python312\\Lib\\site-packages\\soccerdata\\whoscored.py\u001b\\\u001b[2mwhoscored.py\u001b[0m\u001b]8;;\u001b\\\u001b[2m:\u001b[0m\u001b]8;id=934268;file://C:\\Users\\acer\\AppData\\Local\\Programs\\Python\\Python312\\Lib\\site-packages\\soccerdata\\whoscored.py#400\u001b\\\u001b[2m400\u001b[0m\u001b]8;;\u001b\\\n"
      ]
     },
     "metadata": {},
     "output_type": "display_data"
    },
    {
     "data": {
      "text/html": [
       "<pre style=\"white-space:pre;overflow-x:auto;line-height:normal;font-family:Menlo,'DejaVu Sans Mono',consolas,'Courier New',monospace\"><span style=\"color: #7fbfbf; text-decoration-color: #7fbfbf\">[09/02/24 20:35:49] </span><span style=\"color: #000080; text-decoration-color: #000080\">INFO    </span> <span style=\"font-weight: bold\">[</span><span style=\"color: #008080; text-decoration-color: #008080; font-weight: bold\">7</span>/<span style=\"color: #008080; text-decoration-color: #008080; font-weight: bold\">10</span><span style=\"font-weight: bold\">]</span> Retrieving fixtures for ENG-Premier League <span style=\"color: #008080; text-decoration-color: #008080; font-weight: bold\">2425</span>                <a href=\"file://C:\\Users\\acer\\AppData\\Local\\Programs\\Python\\Python312\\Lib\\site-packages\\soccerdata\\whoscored.py\" target=\"_blank\"><span style=\"color: #7f7f7f; text-decoration-color: #7f7f7f\">whoscored.py</span></a><span style=\"color: #7f7f7f; text-decoration-color: #7f7f7f\">:</span><a href=\"file://C:\\Users\\acer\\AppData\\Local\\Programs\\Python\\Python312\\Lib\\site-packages\\soccerdata\\whoscored.py#400\" target=\"_blank\"><span style=\"color: #7f7f7f; text-decoration-color: #7f7f7f\">400</span></a>\n",
       "</pre>\n"
      ],
      "text/plain": [
       "\u001b[2;36m[09/02/24 20:35:49]\u001b[0m\u001b[2;36m \u001b[0m\u001b[34mINFO    \u001b[0m \u001b[1m[\u001b[0m\u001b[1;36m7\u001b[0m/\u001b[1;36m10\u001b[0m\u001b[1m]\u001b[0m Retrieving fixtures for ENG-Premier League \u001b[1;36m2425\u001b[0m                \u001b]8;id=260172;file://C:\\Users\\acer\\AppData\\Local\\Programs\\Python\\Python312\\Lib\\site-packages\\soccerdata\\whoscored.py\u001b\\\u001b[2mwhoscored.py\u001b[0m\u001b]8;;\u001b\\\u001b[2m:\u001b[0m\u001b]8;id=140602;file://C:\\Users\\acer\\AppData\\Local\\Programs\\Python\\Python312\\Lib\\site-packages\\soccerdata\\whoscored.py#400\u001b\\\u001b[2m400\u001b[0m\u001b]8;;\u001b\\\n"
      ]
     },
     "metadata": {},
     "output_type": "display_data"
    },
    {
     "data": {
      "text/html": [
       "<pre style=\"white-space:pre;overflow-x:auto;line-height:normal;font-family:Menlo,'DejaVu Sans Mono',consolas,'Courier New',monospace\"><span style=\"color: #7fbfbf; text-decoration-color: #7fbfbf\">[09/02/24 20:35:59] </span><span style=\"color: #000080; text-decoration-color: #000080\">INFO    </span> <span style=\"font-weight: bold\">[</span><span style=\"color: #008080; text-decoration-color: #008080; font-weight: bold\">8</span>/<span style=\"color: #008080; text-decoration-color: #008080; font-weight: bold\">10</span><span style=\"font-weight: bold\">]</span> Retrieving fixtures for ENG-Premier League <span style=\"color: #008080; text-decoration-color: #008080; font-weight: bold\">2425</span>                <a href=\"file://C:\\Users\\acer\\AppData\\Local\\Programs\\Python\\Python312\\Lib\\site-packages\\soccerdata\\whoscored.py\" target=\"_blank\"><span style=\"color: #7f7f7f; text-decoration-color: #7f7f7f\">whoscored.py</span></a><span style=\"color: #7f7f7f; text-decoration-color: #7f7f7f\">:</span><a href=\"file://C:\\Users\\acer\\AppData\\Local\\Programs\\Python\\Python312\\Lib\\site-packages\\soccerdata\\whoscored.py#400\" target=\"_blank\"><span style=\"color: #7f7f7f; text-decoration-color: #7f7f7f\">400</span></a>\n",
       "</pre>\n"
      ],
      "text/plain": [
       "\u001b[2;36m[09/02/24 20:35:59]\u001b[0m\u001b[2;36m \u001b[0m\u001b[34mINFO    \u001b[0m \u001b[1m[\u001b[0m\u001b[1;36m8\u001b[0m/\u001b[1;36m10\u001b[0m\u001b[1m]\u001b[0m Retrieving fixtures for ENG-Premier League \u001b[1;36m2425\u001b[0m                \u001b]8;id=920803;file://C:\\Users\\acer\\AppData\\Local\\Programs\\Python\\Python312\\Lib\\site-packages\\soccerdata\\whoscored.py\u001b\\\u001b[2mwhoscored.py\u001b[0m\u001b]8;;\u001b\\\u001b[2m:\u001b[0m\u001b]8;id=848026;file://C:\\Users\\acer\\AppData\\Local\\Programs\\Python\\Python312\\Lib\\site-packages\\soccerdata\\whoscored.py#400\u001b\\\u001b[2m400\u001b[0m\u001b]8;;\u001b\\\n"
      ]
     },
     "metadata": {},
     "output_type": "display_data"
    },
    {
     "data": {
      "text/html": [
       "<pre style=\"white-space:pre;overflow-x:auto;line-height:normal;font-family:Menlo,'DejaVu Sans Mono',consolas,'Courier New',monospace\"><span style=\"color: #7fbfbf; text-decoration-color: #7fbfbf\">[09/02/24 20:36:06] </span><span style=\"color: #000080; text-decoration-color: #000080\">INFO    </span> <span style=\"font-weight: bold\">[</span><span style=\"color: #008080; text-decoration-color: #008080; font-weight: bold\">9</span>/<span style=\"color: #008080; text-decoration-color: #008080; font-weight: bold\">10</span><span style=\"font-weight: bold\">]</span> Retrieving fixtures for ENG-Premier League <span style=\"color: #008080; text-decoration-color: #008080; font-weight: bold\">2425</span>                <a href=\"file://C:\\Users\\acer\\AppData\\Local\\Programs\\Python\\Python312\\Lib\\site-packages\\soccerdata\\whoscored.py\" target=\"_blank\"><span style=\"color: #7f7f7f; text-decoration-color: #7f7f7f\">whoscored.py</span></a><span style=\"color: #7f7f7f; text-decoration-color: #7f7f7f\">:</span><a href=\"file://C:\\Users\\acer\\AppData\\Local\\Programs\\Python\\Python312\\Lib\\site-packages\\soccerdata\\whoscored.py#400\" target=\"_blank\"><span style=\"color: #7f7f7f; text-decoration-color: #7f7f7f\">400</span></a>\n",
       "</pre>\n"
      ],
      "text/plain": [
       "\u001b[2;36m[09/02/24 20:36:06]\u001b[0m\u001b[2;36m \u001b[0m\u001b[34mINFO    \u001b[0m \u001b[1m[\u001b[0m\u001b[1;36m9\u001b[0m/\u001b[1;36m10\u001b[0m\u001b[1m]\u001b[0m Retrieving fixtures for ENG-Premier League \u001b[1;36m2425\u001b[0m                \u001b]8;id=415779;file://C:\\Users\\acer\\AppData\\Local\\Programs\\Python\\Python312\\Lib\\site-packages\\soccerdata\\whoscored.py\u001b\\\u001b[2mwhoscored.py\u001b[0m\u001b]8;;\u001b\\\u001b[2m:\u001b[0m\u001b]8;id=145665;file://C:\\Users\\acer\\AppData\\Local\\Programs\\Python\\Python312\\Lib\\site-packages\\soccerdata\\whoscored.py#400\u001b\\\u001b[2m400\u001b[0m\u001b]8;;\u001b\\\n"
      ]
     },
     "metadata": {},
     "output_type": "display_data"
    },
    {
     "data": {
      "text/html": [
       "<pre style=\"white-space:pre;overflow-x:auto;line-height:normal;font-family:Menlo,'DejaVu Sans Mono',consolas,'Courier New',monospace\"><span style=\"color: #7fbfbf; text-decoration-color: #7fbfbf\">[09/02/24 20:36:13] </span><span style=\"color: #000080; text-decoration-color: #000080\">INFO    </span> <span style=\"font-weight: bold\">[</span><span style=\"color: #008080; text-decoration-color: #008080; font-weight: bold\">10</span>/<span style=\"color: #008080; text-decoration-color: #008080; font-weight: bold\">10</span><span style=\"font-weight: bold\">]</span> Retrieving fixtures for ENG-Premier League <span style=\"color: #008080; text-decoration-color: #008080; font-weight: bold\">2425</span>               <a href=\"file://C:\\Users\\acer\\AppData\\Local\\Programs\\Python\\Python312\\Lib\\site-packages\\soccerdata\\whoscored.py\" target=\"_blank\"><span style=\"color: #7f7f7f; text-decoration-color: #7f7f7f\">whoscored.py</span></a><span style=\"color: #7f7f7f; text-decoration-color: #7f7f7f\">:</span><a href=\"file://C:\\Users\\acer\\AppData\\Local\\Programs\\Python\\Python312\\Lib\\site-packages\\soccerdata\\whoscored.py#400\" target=\"_blank\"><span style=\"color: #7f7f7f; text-decoration-color: #7f7f7f\">400</span></a>\n",
       "</pre>\n"
      ],
      "text/plain": [
       "\u001b[2;36m[09/02/24 20:36:13]\u001b[0m\u001b[2;36m \u001b[0m\u001b[34mINFO    \u001b[0m \u001b[1m[\u001b[0m\u001b[1;36m10\u001b[0m/\u001b[1;36m10\u001b[0m\u001b[1m]\u001b[0m Retrieving fixtures for ENG-Premier League \u001b[1;36m2425\u001b[0m               \u001b]8;id=9367;file://C:\\Users\\acer\\AppData\\Local\\Programs\\Python\\Python312\\Lib\\site-packages\\soccerdata\\whoscored.py\u001b\\\u001b[2mwhoscored.py\u001b[0m\u001b]8;;\u001b\\\u001b[2m:\u001b[0m\u001b]8;id=531375;file://C:\\Users\\acer\\AppData\\Local\\Programs\\Python\\Python312\\Lib\\site-packages\\soccerdata\\whoscored.py#400\u001b\\\u001b[2m400\u001b[0m\u001b]8;;\u001b\\\n"
      ]
     },
     "metadata": {},
     "output_type": "display_data"
    },
    {
     "name": "stderr",
     "output_type": "stream",
     "text": [
      "C:\\Users\\acer\\AppData\\Local\\Programs\\Python\\Python312\\Lib\\site-packages\\soccerdata\\whoscored.py:424: FutureWarning: The behavior of DataFrame concatenation with empty or all-NA entries is deprecated. In a future version, this will no longer exclude empty or all-NA columns when determining the result dtypes. To retain the old behavior, exclude the relevant entries before the concat operation.\n",
      "  pd.concat(all_schedules)\n"
     ]
    },
    {
     "data": {
      "text/html": [
       "<pre style=\"white-space:pre;overflow-x:auto;line-height:normal;font-family:Menlo,'DejaVu Sans Mono',consolas,'Courier New',monospace\"><span style=\"color: #7fbfbf; text-decoration-color: #7fbfbf\">[09/02/24 20:36:22] </span><span style=\"color: #000080; text-decoration-color: #000080\">INFO    </span> <span style=\"font-weight: bold\">[</span><span style=\"color: #008080; text-decoration-color: #008080; font-weight: bold\">1</span>/<span style=\"color: #008080; text-decoration-color: #008080; font-weight: bold\">1</span><span style=\"font-weight: bold\">]</span> Retrieving game with <span style=\"color: #808000; text-decoration-color: #808000\">id</span>=<span style=\"color: #008080; text-decoration-color: #008080; font-weight: bold\">1821058</span>                                 <a href=\"file://C:\\Users\\acer\\AppData\\Local\\Programs\\Python\\Python312\\Lib\\site-packages\\soccerdata\\whoscored.py\" target=\"_blank\"><span style=\"color: #7f7f7f; text-decoration-color: #7f7f7f\">whoscored.py</span></a><span style=\"color: #7f7f7f; text-decoration-color: #7f7f7f\">:</span><a href=\"file://C:\\Users\\acer\\AppData\\Local\\Programs\\Python\\Python312\\Lib\\site-packages\\soccerdata\\whoscored.py#692\" target=\"_blank\"><span style=\"color: #7f7f7f; text-decoration-color: #7f7f7f\">692</span></a>\n",
       "</pre>\n"
      ],
      "text/plain": [
       "\u001b[2;36m[09/02/24 20:36:22]\u001b[0m\u001b[2;36m \u001b[0m\u001b[34mINFO    \u001b[0m \u001b[1m[\u001b[0m\u001b[1;36m1\u001b[0m/\u001b[1;36m1\u001b[0m\u001b[1m]\u001b[0m Retrieving game with \u001b[33mid\u001b[0m=\u001b[1;36m1821058\u001b[0m                                 \u001b]8;id=604440;file://C:\\Users\\acer\\AppData\\Local\\Programs\\Python\\Python312\\Lib\\site-packages\\soccerdata\\whoscored.py\u001b\\\u001b[2mwhoscored.py\u001b[0m\u001b]8;;\u001b\\\u001b[2m:\u001b[0m\u001b]8;id=949375;file://C:\\Users\\acer\\AppData\\Local\\Programs\\Python\\Python312\\Lib\\site-packages\\soccerdata\\whoscored.py#692\u001b\\\u001b[2m692\u001b[0m\u001b]8;;\u001b\\\n"
      ]
     },
     "metadata": {},
     "output_type": "display_data"
    },
    {
     "data": {
      "text/html": [
       "<pre style=\"white-space:pre;overflow-x:auto;line-height:normal;font-family:Menlo,'DejaVu Sans Mono',consolas,'Courier New',monospace\"><span style=\"color: #7fbfbf; text-decoration-color: #7fbfbf\">[09/02/24 20:36:48] </span><span style=\"color: #000080; text-decoration-color: #000080\">INFO    </span> Retrieving calendar for ENG-Premier League <span style=\"color: #008080; text-decoration-color: #008080; font-weight: bold\">2425</span>                       <a href=\"file://C:\\Users\\acer\\AppData\\Local\\Programs\\Python\\Python312\\Lib\\site-packages\\soccerdata\\whoscored.py\" target=\"_blank\"><span style=\"color: #7f7f7f; text-decoration-color: #7f7f7f\">whoscored.py</span></a><span style=\"color: #7f7f7f; text-decoration-color: #7f7f7f\">:</span><a href=\"file://C:\\Users\\acer\\AppData\\Local\\Programs\\Python\\Python312\\Lib\\site-packages\\soccerdata\\whoscored.py#371\" target=\"_blank\"><span style=\"color: #7f7f7f; text-decoration-color: #7f7f7f\">371</span></a>\n",
       "</pre>\n"
      ],
      "text/plain": [
       "\u001b[2;36m[09/02/24 20:36:48]\u001b[0m\u001b[2;36m \u001b[0m\u001b[34mINFO    \u001b[0m Retrieving calendar for ENG-Premier League \u001b[1;36m2425\u001b[0m                       \u001b]8;id=239518;file://C:\\Users\\acer\\AppData\\Local\\Programs\\Python\\Python312\\Lib\\site-packages\\soccerdata\\whoscored.py\u001b\\\u001b[2mwhoscored.py\u001b[0m\u001b]8;;\u001b\\\u001b[2m:\u001b[0m\u001b]8;id=817610;file://C:\\Users\\acer\\AppData\\Local\\Programs\\Python\\Python312\\Lib\\site-packages\\soccerdata\\whoscored.py#371\u001b\\\u001b[2m371\u001b[0m\u001b]8;;\u001b\\\n"
      ]
     },
     "metadata": {},
     "output_type": "display_data"
    },
    {
     "data": {
      "text/html": [
       "<pre style=\"white-space:pre;overflow-x:auto;line-height:normal;font-family:Menlo,'DejaVu Sans Mono',consolas,'Courier New',monospace\"><span style=\"color: #7fbfbf; text-decoration-color: #7fbfbf\">[09/02/24 20:37:00] </span><span style=\"color: #000080; text-decoration-color: #000080\">INFO    </span> <span style=\"font-weight: bold\">[</span><span style=\"color: #008080; text-decoration-color: #008080; font-weight: bold\">1</span>/<span style=\"color: #008080; text-decoration-color: #008080; font-weight: bold\">10</span><span style=\"font-weight: bold\">]</span> Retrieving fixtures for ENG-Premier League <span style=\"color: #008080; text-decoration-color: #008080; font-weight: bold\">2425</span>                <a href=\"file://C:\\Users\\acer\\AppData\\Local\\Programs\\Python\\Python312\\Lib\\site-packages\\soccerdata\\whoscored.py\" target=\"_blank\"><span style=\"color: #7f7f7f; text-decoration-color: #7f7f7f\">whoscored.py</span></a><span style=\"color: #7f7f7f; text-decoration-color: #7f7f7f\">:</span><a href=\"file://C:\\Users\\acer\\AppData\\Local\\Programs\\Python\\Python312\\Lib\\site-packages\\soccerdata\\whoscored.py#400\" target=\"_blank\"><span style=\"color: #7f7f7f; text-decoration-color: #7f7f7f\">400</span></a>\n",
       "</pre>\n"
      ],
      "text/plain": [
       "\u001b[2;36m[09/02/24 20:37:00]\u001b[0m\u001b[2;36m \u001b[0m\u001b[34mINFO    \u001b[0m \u001b[1m[\u001b[0m\u001b[1;36m1\u001b[0m/\u001b[1;36m10\u001b[0m\u001b[1m]\u001b[0m Retrieving fixtures for ENG-Premier League \u001b[1;36m2425\u001b[0m                \u001b]8;id=333107;file://C:\\Users\\acer\\AppData\\Local\\Programs\\Python\\Python312\\Lib\\site-packages\\soccerdata\\whoscored.py\u001b\\\u001b[2mwhoscored.py\u001b[0m\u001b]8;;\u001b\\\u001b[2m:\u001b[0m\u001b]8;id=705579;file://C:\\Users\\acer\\AppData\\Local\\Programs\\Python\\Python312\\Lib\\site-packages\\soccerdata\\whoscored.py#400\u001b\\\u001b[2m400\u001b[0m\u001b]8;;\u001b\\\n"
      ]
     },
     "metadata": {},
     "output_type": "display_data"
    },
    {
     "data": {
      "text/html": [
       "<pre style=\"white-space:pre;overflow-x:auto;line-height:normal;font-family:Menlo,'DejaVu Sans Mono',consolas,'Courier New',monospace\"><span style=\"color: #7fbfbf; text-decoration-color: #7fbfbf\">[09/02/24 20:37:10] </span><span style=\"color: #000080; text-decoration-color: #000080\">INFO    </span> <span style=\"font-weight: bold\">[</span><span style=\"color: #008080; text-decoration-color: #008080; font-weight: bold\">2</span>/<span style=\"color: #008080; text-decoration-color: #008080; font-weight: bold\">10</span><span style=\"font-weight: bold\">]</span> Retrieving fixtures for ENG-Premier League <span style=\"color: #008080; text-decoration-color: #008080; font-weight: bold\">2425</span>                <a href=\"file://C:\\Users\\acer\\AppData\\Local\\Programs\\Python\\Python312\\Lib\\site-packages\\soccerdata\\whoscored.py\" target=\"_blank\"><span style=\"color: #7f7f7f; text-decoration-color: #7f7f7f\">whoscored.py</span></a><span style=\"color: #7f7f7f; text-decoration-color: #7f7f7f\">:</span><a href=\"file://C:\\Users\\acer\\AppData\\Local\\Programs\\Python\\Python312\\Lib\\site-packages\\soccerdata\\whoscored.py#400\" target=\"_blank\"><span style=\"color: #7f7f7f; text-decoration-color: #7f7f7f\">400</span></a>\n",
       "</pre>\n"
      ],
      "text/plain": [
       "\u001b[2;36m[09/02/24 20:37:10]\u001b[0m\u001b[2;36m \u001b[0m\u001b[34mINFO    \u001b[0m \u001b[1m[\u001b[0m\u001b[1;36m2\u001b[0m/\u001b[1;36m10\u001b[0m\u001b[1m]\u001b[0m Retrieving fixtures for ENG-Premier League \u001b[1;36m2425\u001b[0m                \u001b]8;id=786918;file://C:\\Users\\acer\\AppData\\Local\\Programs\\Python\\Python312\\Lib\\site-packages\\soccerdata\\whoscored.py\u001b\\\u001b[2mwhoscored.py\u001b[0m\u001b]8;;\u001b\\\u001b[2m:\u001b[0m\u001b]8;id=830726;file://C:\\Users\\acer\\AppData\\Local\\Programs\\Python\\Python312\\Lib\\site-packages\\soccerdata\\whoscored.py#400\u001b\\\u001b[2m400\u001b[0m\u001b]8;;\u001b\\\n"
      ]
     },
     "metadata": {},
     "output_type": "display_data"
    },
    {
     "data": {
      "text/html": [
       "<pre style=\"white-space:pre;overflow-x:auto;line-height:normal;font-family:Menlo,'DejaVu Sans Mono',consolas,'Courier New',monospace\"><span style=\"color: #7fbfbf; text-decoration-color: #7fbfbf\">[09/02/24 20:37:19] </span><span style=\"color: #000080; text-decoration-color: #000080\">INFO    </span> <span style=\"font-weight: bold\">[</span><span style=\"color: #008080; text-decoration-color: #008080; font-weight: bold\">3</span>/<span style=\"color: #008080; text-decoration-color: #008080; font-weight: bold\">10</span><span style=\"font-weight: bold\">]</span> Retrieving fixtures for ENG-Premier League <span style=\"color: #008080; text-decoration-color: #008080; font-weight: bold\">2425</span>                <a href=\"file://C:\\Users\\acer\\AppData\\Local\\Programs\\Python\\Python312\\Lib\\site-packages\\soccerdata\\whoscored.py\" target=\"_blank\"><span style=\"color: #7f7f7f; text-decoration-color: #7f7f7f\">whoscored.py</span></a><span style=\"color: #7f7f7f; text-decoration-color: #7f7f7f\">:</span><a href=\"file://C:\\Users\\acer\\AppData\\Local\\Programs\\Python\\Python312\\Lib\\site-packages\\soccerdata\\whoscored.py#400\" target=\"_blank\"><span style=\"color: #7f7f7f; text-decoration-color: #7f7f7f\">400</span></a>\n",
       "</pre>\n"
      ],
      "text/plain": [
       "\u001b[2;36m[09/02/24 20:37:19]\u001b[0m\u001b[2;36m \u001b[0m\u001b[34mINFO    \u001b[0m \u001b[1m[\u001b[0m\u001b[1;36m3\u001b[0m/\u001b[1;36m10\u001b[0m\u001b[1m]\u001b[0m Retrieving fixtures for ENG-Premier League \u001b[1;36m2425\u001b[0m                \u001b]8;id=527424;file://C:\\Users\\acer\\AppData\\Local\\Programs\\Python\\Python312\\Lib\\site-packages\\soccerdata\\whoscored.py\u001b\\\u001b[2mwhoscored.py\u001b[0m\u001b]8;;\u001b\\\u001b[2m:\u001b[0m\u001b]8;id=547196;file://C:\\Users\\acer\\AppData\\Local\\Programs\\Python\\Python312\\Lib\\site-packages\\soccerdata\\whoscored.py#400\u001b\\\u001b[2m400\u001b[0m\u001b]8;;\u001b\\\n"
      ]
     },
     "metadata": {},
     "output_type": "display_data"
    },
    {
     "data": {
      "text/html": [
       "<pre style=\"white-space:pre;overflow-x:auto;line-height:normal;font-family:Menlo,'DejaVu Sans Mono',consolas,'Courier New',monospace\"><span style=\"color: #7fbfbf; text-decoration-color: #7fbfbf\">[09/02/24 20:37:25] </span><span style=\"color: #000080; text-decoration-color: #000080\">INFO    </span> <span style=\"font-weight: bold\">[</span><span style=\"color: #008080; text-decoration-color: #008080; font-weight: bold\">4</span>/<span style=\"color: #008080; text-decoration-color: #008080; font-weight: bold\">10</span><span style=\"font-weight: bold\">]</span> Retrieving fixtures for ENG-Premier League <span style=\"color: #008080; text-decoration-color: #008080; font-weight: bold\">2425</span>                <a href=\"file://C:\\Users\\acer\\AppData\\Local\\Programs\\Python\\Python312\\Lib\\site-packages\\soccerdata\\whoscored.py\" target=\"_blank\"><span style=\"color: #7f7f7f; text-decoration-color: #7f7f7f\">whoscored.py</span></a><span style=\"color: #7f7f7f; text-decoration-color: #7f7f7f\">:</span><a href=\"file://C:\\Users\\acer\\AppData\\Local\\Programs\\Python\\Python312\\Lib\\site-packages\\soccerdata\\whoscored.py#400\" target=\"_blank\"><span style=\"color: #7f7f7f; text-decoration-color: #7f7f7f\">400</span></a>\n",
       "</pre>\n"
      ],
      "text/plain": [
       "\u001b[2;36m[09/02/24 20:37:25]\u001b[0m\u001b[2;36m \u001b[0m\u001b[34mINFO    \u001b[0m \u001b[1m[\u001b[0m\u001b[1;36m4\u001b[0m/\u001b[1;36m10\u001b[0m\u001b[1m]\u001b[0m Retrieving fixtures for ENG-Premier League \u001b[1;36m2425\u001b[0m                \u001b]8;id=930755;file://C:\\Users\\acer\\AppData\\Local\\Programs\\Python\\Python312\\Lib\\site-packages\\soccerdata\\whoscored.py\u001b\\\u001b[2mwhoscored.py\u001b[0m\u001b]8;;\u001b\\\u001b[2m:\u001b[0m\u001b]8;id=528379;file://C:\\Users\\acer\\AppData\\Local\\Programs\\Python\\Python312\\Lib\\site-packages\\soccerdata\\whoscored.py#400\u001b\\\u001b[2m400\u001b[0m\u001b]8;;\u001b\\\n"
      ]
     },
     "metadata": {},
     "output_type": "display_data"
    },
    {
     "data": {
      "text/html": [
       "<pre style=\"white-space:pre;overflow-x:auto;line-height:normal;font-family:Menlo,'DejaVu Sans Mono',consolas,'Courier New',monospace\"><span style=\"color: #7fbfbf; text-decoration-color: #7fbfbf\">[09/02/24 20:37:34] </span><span style=\"color: #000080; text-decoration-color: #000080\">INFO    </span> <span style=\"font-weight: bold\">[</span><span style=\"color: #008080; text-decoration-color: #008080; font-weight: bold\">5</span>/<span style=\"color: #008080; text-decoration-color: #008080; font-weight: bold\">10</span><span style=\"font-weight: bold\">]</span> Retrieving fixtures for ENG-Premier League <span style=\"color: #008080; text-decoration-color: #008080; font-weight: bold\">2425</span>                <a href=\"file://C:\\Users\\acer\\AppData\\Local\\Programs\\Python\\Python312\\Lib\\site-packages\\soccerdata\\whoscored.py\" target=\"_blank\"><span style=\"color: #7f7f7f; text-decoration-color: #7f7f7f\">whoscored.py</span></a><span style=\"color: #7f7f7f; text-decoration-color: #7f7f7f\">:</span><a href=\"file://C:\\Users\\acer\\AppData\\Local\\Programs\\Python\\Python312\\Lib\\site-packages\\soccerdata\\whoscored.py#400\" target=\"_blank\"><span style=\"color: #7f7f7f; text-decoration-color: #7f7f7f\">400</span></a>\n",
       "</pre>\n"
      ],
      "text/plain": [
       "\u001b[2;36m[09/02/24 20:37:34]\u001b[0m\u001b[2;36m \u001b[0m\u001b[34mINFO    \u001b[0m \u001b[1m[\u001b[0m\u001b[1;36m5\u001b[0m/\u001b[1;36m10\u001b[0m\u001b[1m]\u001b[0m Retrieving fixtures for ENG-Premier League \u001b[1;36m2425\u001b[0m                \u001b]8;id=509439;file://C:\\Users\\acer\\AppData\\Local\\Programs\\Python\\Python312\\Lib\\site-packages\\soccerdata\\whoscored.py\u001b\\\u001b[2mwhoscored.py\u001b[0m\u001b]8;;\u001b\\\u001b[2m:\u001b[0m\u001b]8;id=515264;file://C:\\Users\\acer\\AppData\\Local\\Programs\\Python\\Python312\\Lib\\site-packages\\soccerdata\\whoscored.py#400\u001b\\\u001b[2m400\u001b[0m\u001b]8;;\u001b\\\n"
      ]
     },
     "metadata": {},
     "output_type": "display_data"
    },
    {
     "data": {
      "text/html": [
       "<pre style=\"white-space:pre;overflow-x:auto;line-height:normal;font-family:Menlo,'DejaVu Sans Mono',consolas,'Courier New',monospace\"><span style=\"color: #7fbfbf; text-decoration-color: #7fbfbf\">[09/02/24 20:37:43] </span><span style=\"color: #000080; text-decoration-color: #000080\">INFO    </span> <span style=\"font-weight: bold\">[</span><span style=\"color: #008080; text-decoration-color: #008080; font-weight: bold\">6</span>/<span style=\"color: #008080; text-decoration-color: #008080; font-weight: bold\">10</span><span style=\"font-weight: bold\">]</span> Retrieving fixtures for ENG-Premier League <span style=\"color: #008080; text-decoration-color: #008080; font-weight: bold\">2425</span>                <a href=\"file://C:\\Users\\acer\\AppData\\Local\\Programs\\Python\\Python312\\Lib\\site-packages\\soccerdata\\whoscored.py\" target=\"_blank\"><span style=\"color: #7f7f7f; text-decoration-color: #7f7f7f\">whoscored.py</span></a><span style=\"color: #7f7f7f; text-decoration-color: #7f7f7f\">:</span><a href=\"file://C:\\Users\\acer\\AppData\\Local\\Programs\\Python\\Python312\\Lib\\site-packages\\soccerdata\\whoscored.py#400\" target=\"_blank\"><span style=\"color: #7f7f7f; text-decoration-color: #7f7f7f\">400</span></a>\n",
       "</pre>\n"
      ],
      "text/plain": [
       "\u001b[2;36m[09/02/24 20:37:43]\u001b[0m\u001b[2;36m \u001b[0m\u001b[34mINFO    \u001b[0m \u001b[1m[\u001b[0m\u001b[1;36m6\u001b[0m/\u001b[1;36m10\u001b[0m\u001b[1m]\u001b[0m Retrieving fixtures for ENG-Premier League \u001b[1;36m2425\u001b[0m                \u001b]8;id=548755;file://C:\\Users\\acer\\AppData\\Local\\Programs\\Python\\Python312\\Lib\\site-packages\\soccerdata\\whoscored.py\u001b\\\u001b[2mwhoscored.py\u001b[0m\u001b]8;;\u001b\\\u001b[2m:\u001b[0m\u001b]8;id=205720;file://C:\\Users\\acer\\AppData\\Local\\Programs\\Python\\Python312\\Lib\\site-packages\\soccerdata\\whoscored.py#400\u001b\\\u001b[2m400\u001b[0m\u001b]8;;\u001b\\\n"
      ]
     },
     "metadata": {},
     "output_type": "display_data"
    },
    {
     "data": {
      "text/html": [
       "<pre style=\"white-space:pre;overflow-x:auto;line-height:normal;font-family:Menlo,'DejaVu Sans Mono',consolas,'Courier New',monospace\"><span style=\"color: #7fbfbf; text-decoration-color: #7fbfbf\">[09/02/24 20:37:49] </span><span style=\"color: #000080; text-decoration-color: #000080\">INFO    </span> <span style=\"font-weight: bold\">[</span><span style=\"color: #008080; text-decoration-color: #008080; font-weight: bold\">7</span>/<span style=\"color: #008080; text-decoration-color: #008080; font-weight: bold\">10</span><span style=\"font-weight: bold\">]</span> Retrieving fixtures for ENG-Premier League <span style=\"color: #008080; text-decoration-color: #008080; font-weight: bold\">2425</span>                <a href=\"file://C:\\Users\\acer\\AppData\\Local\\Programs\\Python\\Python312\\Lib\\site-packages\\soccerdata\\whoscored.py\" target=\"_blank\"><span style=\"color: #7f7f7f; text-decoration-color: #7f7f7f\">whoscored.py</span></a><span style=\"color: #7f7f7f; text-decoration-color: #7f7f7f\">:</span><a href=\"file://C:\\Users\\acer\\AppData\\Local\\Programs\\Python\\Python312\\Lib\\site-packages\\soccerdata\\whoscored.py#400\" target=\"_blank\"><span style=\"color: #7f7f7f; text-decoration-color: #7f7f7f\">400</span></a>\n",
       "</pre>\n"
      ],
      "text/plain": [
       "\u001b[2;36m[09/02/24 20:37:49]\u001b[0m\u001b[2;36m \u001b[0m\u001b[34mINFO    \u001b[0m \u001b[1m[\u001b[0m\u001b[1;36m7\u001b[0m/\u001b[1;36m10\u001b[0m\u001b[1m]\u001b[0m Retrieving fixtures for ENG-Premier League \u001b[1;36m2425\u001b[0m                \u001b]8;id=910743;file://C:\\Users\\acer\\AppData\\Local\\Programs\\Python\\Python312\\Lib\\site-packages\\soccerdata\\whoscored.py\u001b\\\u001b[2mwhoscored.py\u001b[0m\u001b]8;;\u001b\\\u001b[2m:\u001b[0m\u001b]8;id=349659;file://C:\\Users\\acer\\AppData\\Local\\Programs\\Python\\Python312\\Lib\\site-packages\\soccerdata\\whoscored.py#400\u001b\\\u001b[2m400\u001b[0m\u001b]8;;\u001b\\\n"
      ]
     },
     "metadata": {},
     "output_type": "display_data"
    },
    {
     "data": {
      "text/html": [
       "<pre style=\"white-space:pre;overflow-x:auto;line-height:normal;font-family:Menlo,'DejaVu Sans Mono',consolas,'Courier New',monospace\"><span style=\"color: #7fbfbf; text-decoration-color: #7fbfbf\">[09/02/24 20:37:59] </span><span style=\"color: #000080; text-decoration-color: #000080\">INFO    </span> <span style=\"font-weight: bold\">[</span><span style=\"color: #008080; text-decoration-color: #008080; font-weight: bold\">8</span>/<span style=\"color: #008080; text-decoration-color: #008080; font-weight: bold\">10</span><span style=\"font-weight: bold\">]</span> Retrieving fixtures for ENG-Premier League <span style=\"color: #008080; text-decoration-color: #008080; font-weight: bold\">2425</span>                <a href=\"file://C:\\Users\\acer\\AppData\\Local\\Programs\\Python\\Python312\\Lib\\site-packages\\soccerdata\\whoscored.py\" target=\"_blank\"><span style=\"color: #7f7f7f; text-decoration-color: #7f7f7f\">whoscored.py</span></a><span style=\"color: #7f7f7f; text-decoration-color: #7f7f7f\">:</span><a href=\"file://C:\\Users\\acer\\AppData\\Local\\Programs\\Python\\Python312\\Lib\\site-packages\\soccerdata\\whoscored.py#400\" target=\"_blank\"><span style=\"color: #7f7f7f; text-decoration-color: #7f7f7f\">400</span></a>\n",
       "</pre>\n"
      ],
      "text/plain": [
       "\u001b[2;36m[09/02/24 20:37:59]\u001b[0m\u001b[2;36m \u001b[0m\u001b[34mINFO    \u001b[0m \u001b[1m[\u001b[0m\u001b[1;36m8\u001b[0m/\u001b[1;36m10\u001b[0m\u001b[1m]\u001b[0m Retrieving fixtures for ENG-Premier League \u001b[1;36m2425\u001b[0m                \u001b]8;id=235167;file://C:\\Users\\acer\\AppData\\Local\\Programs\\Python\\Python312\\Lib\\site-packages\\soccerdata\\whoscored.py\u001b\\\u001b[2mwhoscored.py\u001b[0m\u001b]8;;\u001b\\\u001b[2m:\u001b[0m\u001b]8;id=618902;file://C:\\Users\\acer\\AppData\\Local\\Programs\\Python\\Python312\\Lib\\site-packages\\soccerdata\\whoscored.py#400\u001b\\\u001b[2m400\u001b[0m\u001b]8;;\u001b\\\n"
      ]
     },
     "metadata": {},
     "output_type": "display_data"
    },
    {
     "data": {
      "text/html": [
       "<pre style=\"white-space:pre;overflow-x:auto;line-height:normal;font-family:Menlo,'DejaVu Sans Mono',consolas,'Courier New',monospace\"><span style=\"color: #7fbfbf; text-decoration-color: #7fbfbf\">[09/02/24 20:38:09] </span><span style=\"color: #000080; text-decoration-color: #000080\">INFO    </span> <span style=\"font-weight: bold\">[</span><span style=\"color: #008080; text-decoration-color: #008080; font-weight: bold\">9</span>/<span style=\"color: #008080; text-decoration-color: #008080; font-weight: bold\">10</span><span style=\"font-weight: bold\">]</span> Retrieving fixtures for ENG-Premier League <span style=\"color: #008080; text-decoration-color: #008080; font-weight: bold\">2425</span>                <a href=\"file://C:\\Users\\acer\\AppData\\Local\\Programs\\Python\\Python312\\Lib\\site-packages\\soccerdata\\whoscored.py\" target=\"_blank\"><span style=\"color: #7f7f7f; text-decoration-color: #7f7f7f\">whoscored.py</span></a><span style=\"color: #7f7f7f; text-decoration-color: #7f7f7f\">:</span><a href=\"file://C:\\Users\\acer\\AppData\\Local\\Programs\\Python\\Python312\\Lib\\site-packages\\soccerdata\\whoscored.py#400\" target=\"_blank\"><span style=\"color: #7f7f7f; text-decoration-color: #7f7f7f\">400</span></a>\n",
       "</pre>\n"
      ],
      "text/plain": [
       "\u001b[2;36m[09/02/24 20:38:09]\u001b[0m\u001b[2;36m \u001b[0m\u001b[34mINFO    \u001b[0m \u001b[1m[\u001b[0m\u001b[1;36m9\u001b[0m/\u001b[1;36m10\u001b[0m\u001b[1m]\u001b[0m Retrieving fixtures for ENG-Premier League \u001b[1;36m2425\u001b[0m                \u001b]8;id=127978;file://C:\\Users\\acer\\AppData\\Local\\Programs\\Python\\Python312\\Lib\\site-packages\\soccerdata\\whoscored.py\u001b\\\u001b[2mwhoscored.py\u001b[0m\u001b]8;;\u001b\\\u001b[2m:\u001b[0m\u001b]8;id=950529;file://C:\\Users\\acer\\AppData\\Local\\Programs\\Python\\Python312\\Lib\\site-packages\\soccerdata\\whoscored.py#400\u001b\\\u001b[2m400\u001b[0m\u001b]8;;\u001b\\\n"
      ]
     },
     "metadata": {},
     "output_type": "display_data"
    },
    {
     "data": {
      "text/html": [
       "<pre style=\"white-space:pre;overflow-x:auto;line-height:normal;font-family:Menlo,'DejaVu Sans Mono',consolas,'Courier New',monospace\"><span style=\"color: #7fbfbf; text-decoration-color: #7fbfbf\">[09/02/24 20:38:19] </span><span style=\"color: #000080; text-decoration-color: #000080\">INFO    </span> <span style=\"font-weight: bold\">[</span><span style=\"color: #008080; text-decoration-color: #008080; font-weight: bold\">10</span>/<span style=\"color: #008080; text-decoration-color: #008080; font-weight: bold\">10</span><span style=\"font-weight: bold\">]</span> Retrieving fixtures for ENG-Premier League <span style=\"color: #008080; text-decoration-color: #008080; font-weight: bold\">2425</span>               <a href=\"file://C:\\Users\\acer\\AppData\\Local\\Programs\\Python\\Python312\\Lib\\site-packages\\soccerdata\\whoscored.py\" target=\"_blank\"><span style=\"color: #7f7f7f; text-decoration-color: #7f7f7f\">whoscored.py</span></a><span style=\"color: #7f7f7f; text-decoration-color: #7f7f7f\">:</span><a href=\"file://C:\\Users\\acer\\AppData\\Local\\Programs\\Python\\Python312\\Lib\\site-packages\\soccerdata\\whoscored.py#400\" target=\"_blank\"><span style=\"color: #7f7f7f; text-decoration-color: #7f7f7f\">400</span></a>\n",
       "</pre>\n"
      ],
      "text/plain": [
       "\u001b[2;36m[09/02/24 20:38:19]\u001b[0m\u001b[2;36m \u001b[0m\u001b[34mINFO    \u001b[0m \u001b[1m[\u001b[0m\u001b[1;36m10\u001b[0m/\u001b[1;36m10\u001b[0m\u001b[1m]\u001b[0m Retrieving fixtures for ENG-Premier League \u001b[1;36m2425\u001b[0m               \u001b]8;id=958304;file://C:\\Users\\acer\\AppData\\Local\\Programs\\Python\\Python312\\Lib\\site-packages\\soccerdata\\whoscored.py\u001b\\\u001b[2mwhoscored.py\u001b[0m\u001b]8;;\u001b\\\u001b[2m:\u001b[0m\u001b]8;id=546502;file://C:\\Users\\acer\\AppData\\Local\\Programs\\Python\\Python312\\Lib\\site-packages\\soccerdata\\whoscored.py#400\u001b\\\u001b[2m400\u001b[0m\u001b]8;;\u001b\\\n"
      ]
     },
     "metadata": {},
     "output_type": "display_data"
    },
    {
     "name": "stderr",
     "output_type": "stream",
     "text": [
      "C:\\Users\\acer\\AppData\\Local\\Programs\\Python\\Python312\\Lib\\site-packages\\soccerdata\\whoscored.py:424: FutureWarning: The behavior of DataFrame concatenation with empty or all-NA entries is deprecated. In a future version, this will no longer exclude empty or all-NA columns when determining the result dtypes. To retain the old behavior, exclude the relevant entries before the concat operation.\n",
      "  pd.concat(all_schedules)\n"
     ]
    },
    {
     "data": {
      "text/html": [
       "<pre style=\"white-space:pre;overflow-x:auto;line-height:normal;font-family:Menlo,'DejaVu Sans Mono',consolas,'Courier New',monospace\"><span style=\"color: #7fbfbf; text-decoration-color: #7fbfbf\">[09/02/24 20:38:27] </span><span style=\"color: #000080; text-decoration-color: #000080\">INFO    </span> <span style=\"font-weight: bold\">[</span><span style=\"color: #008080; text-decoration-color: #008080; font-weight: bold\">1</span>/<span style=\"color: #008080; text-decoration-color: #008080; font-weight: bold\">1</span><span style=\"font-weight: bold\">]</span> Retrieving game with <span style=\"color: #808000; text-decoration-color: #808000\">id</span>=<span style=\"color: #008080; text-decoration-color: #008080; font-weight: bold\">1821059</span>                                 <a href=\"file://C:\\Users\\acer\\AppData\\Local\\Programs\\Python\\Python312\\Lib\\site-packages\\soccerdata\\whoscored.py\" target=\"_blank\"><span style=\"color: #7f7f7f; text-decoration-color: #7f7f7f\">whoscored.py</span></a><span style=\"color: #7f7f7f; text-decoration-color: #7f7f7f\">:</span><a href=\"file://C:\\Users\\acer\\AppData\\Local\\Programs\\Python\\Python312\\Lib\\site-packages\\soccerdata\\whoscored.py#692\" target=\"_blank\"><span style=\"color: #7f7f7f; text-decoration-color: #7f7f7f\">692</span></a>\n",
       "</pre>\n"
      ],
      "text/plain": [
       "\u001b[2;36m[09/02/24 20:38:27]\u001b[0m\u001b[2;36m \u001b[0m\u001b[34mINFO    \u001b[0m \u001b[1m[\u001b[0m\u001b[1;36m1\u001b[0m/\u001b[1;36m1\u001b[0m\u001b[1m]\u001b[0m Retrieving game with \u001b[33mid\u001b[0m=\u001b[1;36m1821059\u001b[0m                                 \u001b]8;id=383640;file://C:\\Users\\acer\\AppData\\Local\\Programs\\Python\\Python312\\Lib\\site-packages\\soccerdata\\whoscored.py\u001b\\\u001b[2mwhoscored.py\u001b[0m\u001b]8;;\u001b\\\u001b[2m:\u001b[0m\u001b]8;id=393809;file://C:\\Users\\acer\\AppData\\Local\\Programs\\Python\\Python312\\Lib\\site-packages\\soccerdata\\whoscored.py#692\u001b\\\u001b[2m692\u001b[0m\u001b]8;;\u001b\\\n"
      ]
     },
     "metadata": {},
     "output_type": "display_data"
    },
    {
     "data": {
      "text/html": [
       "<pre style=\"white-space:pre;overflow-x:auto;line-height:normal;font-family:Menlo,'DejaVu Sans Mono',consolas,'Courier New',monospace\"><span style=\"color: #7fbfbf; text-decoration-color: #7fbfbf\">[09/02/24 20:38:54] </span><span style=\"color: #000080; text-decoration-color: #000080\">INFO    </span> Retrieving calendar for ENG-Premier League <span style=\"color: #008080; text-decoration-color: #008080; font-weight: bold\">2425</span>                       <a href=\"file://C:\\Users\\acer\\AppData\\Local\\Programs\\Python\\Python312\\Lib\\site-packages\\soccerdata\\whoscored.py\" target=\"_blank\"><span style=\"color: #7f7f7f; text-decoration-color: #7f7f7f\">whoscored.py</span></a><span style=\"color: #7f7f7f; text-decoration-color: #7f7f7f\">:</span><a href=\"file://C:\\Users\\acer\\AppData\\Local\\Programs\\Python\\Python312\\Lib\\site-packages\\soccerdata\\whoscored.py#371\" target=\"_blank\"><span style=\"color: #7f7f7f; text-decoration-color: #7f7f7f\">371</span></a>\n",
       "</pre>\n"
      ],
      "text/plain": [
       "\u001b[2;36m[09/02/24 20:38:54]\u001b[0m\u001b[2;36m \u001b[0m\u001b[34mINFO    \u001b[0m Retrieving calendar for ENG-Premier League \u001b[1;36m2425\u001b[0m                       \u001b]8;id=541882;file://C:\\Users\\acer\\AppData\\Local\\Programs\\Python\\Python312\\Lib\\site-packages\\soccerdata\\whoscored.py\u001b\\\u001b[2mwhoscored.py\u001b[0m\u001b]8;;\u001b\\\u001b[2m:\u001b[0m\u001b]8;id=478777;file://C:\\Users\\acer\\AppData\\Local\\Programs\\Python\\Python312\\Lib\\site-packages\\soccerdata\\whoscored.py#371\u001b\\\u001b[2m371\u001b[0m\u001b]8;;\u001b\\\n"
      ]
     },
     "metadata": {},
     "output_type": "display_data"
    },
    {
     "data": {
      "text/html": [
       "<pre style=\"white-space:pre;overflow-x:auto;line-height:normal;font-family:Menlo,'DejaVu Sans Mono',consolas,'Courier New',monospace\"><span style=\"color: #7fbfbf; text-decoration-color: #7fbfbf\">[09/02/24 20:39:05] </span><span style=\"color: #000080; text-decoration-color: #000080\">INFO    </span> <span style=\"font-weight: bold\">[</span><span style=\"color: #008080; text-decoration-color: #008080; font-weight: bold\">1</span>/<span style=\"color: #008080; text-decoration-color: #008080; font-weight: bold\">10</span><span style=\"font-weight: bold\">]</span> Retrieving fixtures for ENG-Premier League <span style=\"color: #008080; text-decoration-color: #008080; font-weight: bold\">2425</span>                <a href=\"file://C:\\Users\\acer\\AppData\\Local\\Programs\\Python\\Python312\\Lib\\site-packages\\soccerdata\\whoscored.py\" target=\"_blank\"><span style=\"color: #7f7f7f; text-decoration-color: #7f7f7f\">whoscored.py</span></a><span style=\"color: #7f7f7f; text-decoration-color: #7f7f7f\">:</span><a href=\"file://C:\\Users\\acer\\AppData\\Local\\Programs\\Python\\Python312\\Lib\\site-packages\\soccerdata\\whoscored.py#400\" target=\"_blank\"><span style=\"color: #7f7f7f; text-decoration-color: #7f7f7f\">400</span></a>\n",
       "</pre>\n"
      ],
      "text/plain": [
       "\u001b[2;36m[09/02/24 20:39:05]\u001b[0m\u001b[2;36m \u001b[0m\u001b[34mINFO    \u001b[0m \u001b[1m[\u001b[0m\u001b[1;36m1\u001b[0m/\u001b[1;36m10\u001b[0m\u001b[1m]\u001b[0m Retrieving fixtures for ENG-Premier League \u001b[1;36m2425\u001b[0m                \u001b]8;id=950950;file://C:\\Users\\acer\\AppData\\Local\\Programs\\Python\\Python312\\Lib\\site-packages\\soccerdata\\whoscored.py\u001b\\\u001b[2mwhoscored.py\u001b[0m\u001b]8;;\u001b\\\u001b[2m:\u001b[0m\u001b]8;id=12560;file://C:\\Users\\acer\\AppData\\Local\\Programs\\Python\\Python312\\Lib\\site-packages\\soccerdata\\whoscored.py#400\u001b\\\u001b[2m400\u001b[0m\u001b]8;;\u001b\\\n"
      ]
     },
     "metadata": {},
     "output_type": "display_data"
    },
    {
     "data": {
      "text/html": [
       "<pre style=\"white-space:pre;overflow-x:auto;line-height:normal;font-family:Menlo,'DejaVu Sans Mono',consolas,'Courier New',monospace\"><span style=\"color: #7fbfbf; text-decoration-color: #7fbfbf\">[09/02/24 20:39:14] </span><span style=\"color: #000080; text-decoration-color: #000080\">INFO    </span> <span style=\"font-weight: bold\">[</span><span style=\"color: #008080; text-decoration-color: #008080; font-weight: bold\">2</span>/<span style=\"color: #008080; text-decoration-color: #008080; font-weight: bold\">10</span><span style=\"font-weight: bold\">]</span> Retrieving fixtures for ENG-Premier League <span style=\"color: #008080; text-decoration-color: #008080; font-weight: bold\">2425</span>                <a href=\"file://C:\\Users\\acer\\AppData\\Local\\Programs\\Python\\Python312\\Lib\\site-packages\\soccerdata\\whoscored.py\" target=\"_blank\"><span style=\"color: #7f7f7f; text-decoration-color: #7f7f7f\">whoscored.py</span></a><span style=\"color: #7f7f7f; text-decoration-color: #7f7f7f\">:</span><a href=\"file://C:\\Users\\acer\\AppData\\Local\\Programs\\Python\\Python312\\Lib\\site-packages\\soccerdata\\whoscored.py#400\" target=\"_blank\"><span style=\"color: #7f7f7f; text-decoration-color: #7f7f7f\">400</span></a>\n",
       "</pre>\n"
      ],
      "text/plain": [
       "\u001b[2;36m[09/02/24 20:39:14]\u001b[0m\u001b[2;36m \u001b[0m\u001b[34mINFO    \u001b[0m \u001b[1m[\u001b[0m\u001b[1;36m2\u001b[0m/\u001b[1;36m10\u001b[0m\u001b[1m]\u001b[0m Retrieving fixtures for ENG-Premier League \u001b[1;36m2425\u001b[0m                \u001b]8;id=819448;file://C:\\Users\\acer\\AppData\\Local\\Programs\\Python\\Python312\\Lib\\site-packages\\soccerdata\\whoscored.py\u001b\\\u001b[2mwhoscored.py\u001b[0m\u001b]8;;\u001b\\\u001b[2m:\u001b[0m\u001b]8;id=541787;file://C:\\Users\\acer\\AppData\\Local\\Programs\\Python\\Python312\\Lib\\site-packages\\soccerdata\\whoscored.py#400\u001b\\\u001b[2m400\u001b[0m\u001b]8;;\u001b\\\n"
      ]
     },
     "metadata": {},
     "output_type": "display_data"
    },
    {
     "data": {
      "text/html": [
       "<pre style=\"white-space:pre;overflow-x:auto;line-height:normal;font-family:Menlo,'DejaVu Sans Mono',consolas,'Courier New',monospace\"><span style=\"color: #7fbfbf; text-decoration-color: #7fbfbf\">[09/02/24 20:39:19] </span><span style=\"color: #000080; text-decoration-color: #000080\">INFO    </span> <span style=\"font-weight: bold\">[</span><span style=\"color: #008080; text-decoration-color: #008080; font-weight: bold\">3</span>/<span style=\"color: #008080; text-decoration-color: #008080; font-weight: bold\">10</span><span style=\"font-weight: bold\">]</span> Retrieving fixtures for ENG-Premier League <span style=\"color: #008080; text-decoration-color: #008080; font-weight: bold\">2425</span>                <a href=\"file://C:\\Users\\acer\\AppData\\Local\\Programs\\Python\\Python312\\Lib\\site-packages\\soccerdata\\whoscored.py\" target=\"_blank\"><span style=\"color: #7f7f7f; text-decoration-color: #7f7f7f\">whoscored.py</span></a><span style=\"color: #7f7f7f; text-decoration-color: #7f7f7f\">:</span><a href=\"file://C:\\Users\\acer\\AppData\\Local\\Programs\\Python\\Python312\\Lib\\site-packages\\soccerdata\\whoscored.py#400\" target=\"_blank\"><span style=\"color: #7f7f7f; text-decoration-color: #7f7f7f\">400</span></a>\n",
       "</pre>\n"
      ],
      "text/plain": [
       "\u001b[2;36m[09/02/24 20:39:19]\u001b[0m\u001b[2;36m \u001b[0m\u001b[34mINFO    \u001b[0m \u001b[1m[\u001b[0m\u001b[1;36m3\u001b[0m/\u001b[1;36m10\u001b[0m\u001b[1m]\u001b[0m Retrieving fixtures for ENG-Premier League \u001b[1;36m2425\u001b[0m                \u001b]8;id=905483;file://C:\\Users\\acer\\AppData\\Local\\Programs\\Python\\Python312\\Lib\\site-packages\\soccerdata\\whoscored.py\u001b\\\u001b[2mwhoscored.py\u001b[0m\u001b]8;;\u001b\\\u001b[2m:\u001b[0m\u001b]8;id=19468;file://C:\\Users\\acer\\AppData\\Local\\Programs\\Python\\Python312\\Lib\\site-packages\\soccerdata\\whoscored.py#400\u001b\\\u001b[2m400\u001b[0m\u001b]8;;\u001b\\\n"
      ]
     },
     "metadata": {},
     "output_type": "display_data"
    },
    {
     "data": {
      "text/html": [
       "<pre style=\"white-space:pre;overflow-x:auto;line-height:normal;font-family:Menlo,'DejaVu Sans Mono',consolas,'Courier New',monospace\"><span style=\"color: #7fbfbf; text-decoration-color: #7fbfbf\">[09/02/24 20:39:27] </span><span style=\"color: #000080; text-decoration-color: #000080\">INFO    </span> <span style=\"font-weight: bold\">[</span><span style=\"color: #008080; text-decoration-color: #008080; font-weight: bold\">4</span>/<span style=\"color: #008080; text-decoration-color: #008080; font-weight: bold\">10</span><span style=\"font-weight: bold\">]</span> Retrieving fixtures for ENG-Premier League <span style=\"color: #008080; text-decoration-color: #008080; font-weight: bold\">2425</span>                <a href=\"file://C:\\Users\\acer\\AppData\\Local\\Programs\\Python\\Python312\\Lib\\site-packages\\soccerdata\\whoscored.py\" target=\"_blank\"><span style=\"color: #7f7f7f; text-decoration-color: #7f7f7f\">whoscored.py</span></a><span style=\"color: #7f7f7f; text-decoration-color: #7f7f7f\">:</span><a href=\"file://C:\\Users\\acer\\AppData\\Local\\Programs\\Python\\Python312\\Lib\\site-packages\\soccerdata\\whoscored.py#400\" target=\"_blank\"><span style=\"color: #7f7f7f; text-decoration-color: #7f7f7f\">400</span></a>\n",
       "</pre>\n"
      ],
      "text/plain": [
       "\u001b[2;36m[09/02/24 20:39:27]\u001b[0m\u001b[2;36m \u001b[0m\u001b[34mINFO    \u001b[0m \u001b[1m[\u001b[0m\u001b[1;36m4\u001b[0m/\u001b[1;36m10\u001b[0m\u001b[1m]\u001b[0m Retrieving fixtures for ENG-Premier League \u001b[1;36m2425\u001b[0m                \u001b]8;id=329696;file://C:\\Users\\acer\\AppData\\Local\\Programs\\Python\\Python312\\Lib\\site-packages\\soccerdata\\whoscored.py\u001b\\\u001b[2mwhoscored.py\u001b[0m\u001b]8;;\u001b\\\u001b[2m:\u001b[0m\u001b]8;id=144743;file://C:\\Users\\acer\\AppData\\Local\\Programs\\Python\\Python312\\Lib\\site-packages\\soccerdata\\whoscored.py#400\u001b\\\u001b[2m400\u001b[0m\u001b]8;;\u001b\\\n"
      ]
     },
     "metadata": {},
     "output_type": "display_data"
    },
    {
     "data": {
      "text/html": [
       "<pre style=\"white-space:pre;overflow-x:auto;line-height:normal;font-family:Menlo,'DejaVu Sans Mono',consolas,'Courier New',monospace\"><span style=\"color: #7fbfbf; text-decoration-color: #7fbfbf\">[09/02/24 20:39:36] </span><span style=\"color: #000080; text-decoration-color: #000080\">INFO    </span> <span style=\"font-weight: bold\">[</span><span style=\"color: #008080; text-decoration-color: #008080; font-weight: bold\">5</span>/<span style=\"color: #008080; text-decoration-color: #008080; font-weight: bold\">10</span><span style=\"font-weight: bold\">]</span> Retrieving fixtures for ENG-Premier League <span style=\"color: #008080; text-decoration-color: #008080; font-weight: bold\">2425</span>                <a href=\"file://C:\\Users\\acer\\AppData\\Local\\Programs\\Python\\Python312\\Lib\\site-packages\\soccerdata\\whoscored.py\" target=\"_blank\"><span style=\"color: #7f7f7f; text-decoration-color: #7f7f7f\">whoscored.py</span></a><span style=\"color: #7f7f7f; text-decoration-color: #7f7f7f\">:</span><a href=\"file://C:\\Users\\acer\\AppData\\Local\\Programs\\Python\\Python312\\Lib\\site-packages\\soccerdata\\whoscored.py#400\" target=\"_blank\"><span style=\"color: #7f7f7f; text-decoration-color: #7f7f7f\">400</span></a>\n",
       "</pre>\n"
      ],
      "text/plain": [
       "\u001b[2;36m[09/02/24 20:39:36]\u001b[0m\u001b[2;36m \u001b[0m\u001b[34mINFO    \u001b[0m \u001b[1m[\u001b[0m\u001b[1;36m5\u001b[0m/\u001b[1;36m10\u001b[0m\u001b[1m]\u001b[0m Retrieving fixtures for ENG-Premier League \u001b[1;36m2425\u001b[0m                \u001b]8;id=976929;file://C:\\Users\\acer\\AppData\\Local\\Programs\\Python\\Python312\\Lib\\site-packages\\soccerdata\\whoscored.py\u001b\\\u001b[2mwhoscored.py\u001b[0m\u001b]8;;\u001b\\\u001b[2m:\u001b[0m\u001b]8;id=224993;file://C:\\Users\\acer\\AppData\\Local\\Programs\\Python\\Python312\\Lib\\site-packages\\soccerdata\\whoscored.py#400\u001b\\\u001b[2m400\u001b[0m\u001b]8;;\u001b\\\n"
      ]
     },
     "metadata": {},
     "output_type": "display_data"
    },
    {
     "data": {
      "text/html": [
       "<pre style=\"white-space:pre;overflow-x:auto;line-height:normal;font-family:Menlo,'DejaVu Sans Mono',consolas,'Courier New',monospace\"><span style=\"color: #7fbfbf; text-decoration-color: #7fbfbf\">[09/02/24 20:39:45] </span><span style=\"color: #000080; text-decoration-color: #000080\">INFO    </span> <span style=\"font-weight: bold\">[</span><span style=\"color: #008080; text-decoration-color: #008080; font-weight: bold\">6</span>/<span style=\"color: #008080; text-decoration-color: #008080; font-weight: bold\">10</span><span style=\"font-weight: bold\">]</span> Retrieving fixtures for ENG-Premier League <span style=\"color: #008080; text-decoration-color: #008080; font-weight: bold\">2425</span>                <a href=\"file://C:\\Users\\acer\\AppData\\Local\\Programs\\Python\\Python312\\Lib\\site-packages\\soccerdata\\whoscored.py\" target=\"_blank\"><span style=\"color: #7f7f7f; text-decoration-color: #7f7f7f\">whoscored.py</span></a><span style=\"color: #7f7f7f; text-decoration-color: #7f7f7f\">:</span><a href=\"file://C:\\Users\\acer\\AppData\\Local\\Programs\\Python\\Python312\\Lib\\site-packages\\soccerdata\\whoscored.py#400\" target=\"_blank\"><span style=\"color: #7f7f7f; text-decoration-color: #7f7f7f\">400</span></a>\n",
       "</pre>\n"
      ],
      "text/plain": [
       "\u001b[2;36m[09/02/24 20:39:45]\u001b[0m\u001b[2;36m \u001b[0m\u001b[34mINFO    \u001b[0m \u001b[1m[\u001b[0m\u001b[1;36m6\u001b[0m/\u001b[1;36m10\u001b[0m\u001b[1m]\u001b[0m Retrieving fixtures for ENG-Premier League \u001b[1;36m2425\u001b[0m                \u001b]8;id=961221;file://C:\\Users\\acer\\AppData\\Local\\Programs\\Python\\Python312\\Lib\\site-packages\\soccerdata\\whoscored.py\u001b\\\u001b[2mwhoscored.py\u001b[0m\u001b]8;;\u001b\\\u001b[2m:\u001b[0m\u001b]8;id=825401;file://C:\\Users\\acer\\AppData\\Local\\Programs\\Python\\Python312\\Lib\\site-packages\\soccerdata\\whoscored.py#400\u001b\\\u001b[2m400\u001b[0m\u001b]8;;\u001b\\\n"
      ]
     },
     "metadata": {},
     "output_type": "display_data"
    },
    {
     "data": {
      "text/html": [
       "<pre style=\"white-space:pre;overflow-x:auto;line-height:normal;font-family:Menlo,'DejaVu Sans Mono',consolas,'Courier New',monospace\"><span style=\"color: #7fbfbf; text-decoration-color: #7fbfbf\">[09/02/24 20:39:51] </span><span style=\"color: #000080; text-decoration-color: #000080\">INFO    </span> <span style=\"font-weight: bold\">[</span><span style=\"color: #008080; text-decoration-color: #008080; font-weight: bold\">7</span>/<span style=\"color: #008080; text-decoration-color: #008080; font-weight: bold\">10</span><span style=\"font-weight: bold\">]</span> Retrieving fixtures for ENG-Premier League <span style=\"color: #008080; text-decoration-color: #008080; font-weight: bold\">2425</span>                <a href=\"file://C:\\Users\\acer\\AppData\\Local\\Programs\\Python\\Python312\\Lib\\site-packages\\soccerdata\\whoscored.py\" target=\"_blank\"><span style=\"color: #7f7f7f; text-decoration-color: #7f7f7f\">whoscored.py</span></a><span style=\"color: #7f7f7f; text-decoration-color: #7f7f7f\">:</span><a href=\"file://C:\\Users\\acer\\AppData\\Local\\Programs\\Python\\Python312\\Lib\\site-packages\\soccerdata\\whoscored.py#400\" target=\"_blank\"><span style=\"color: #7f7f7f; text-decoration-color: #7f7f7f\">400</span></a>\n",
       "</pre>\n"
      ],
      "text/plain": [
       "\u001b[2;36m[09/02/24 20:39:51]\u001b[0m\u001b[2;36m \u001b[0m\u001b[34mINFO    \u001b[0m \u001b[1m[\u001b[0m\u001b[1;36m7\u001b[0m/\u001b[1;36m10\u001b[0m\u001b[1m]\u001b[0m Retrieving fixtures for ENG-Premier League \u001b[1;36m2425\u001b[0m                \u001b]8;id=636802;file://C:\\Users\\acer\\AppData\\Local\\Programs\\Python\\Python312\\Lib\\site-packages\\soccerdata\\whoscored.py\u001b\\\u001b[2mwhoscored.py\u001b[0m\u001b]8;;\u001b\\\u001b[2m:\u001b[0m\u001b]8;id=650711;file://C:\\Users\\acer\\AppData\\Local\\Programs\\Python\\Python312\\Lib\\site-packages\\soccerdata\\whoscored.py#400\u001b\\\u001b[2m400\u001b[0m\u001b]8;;\u001b\\\n"
      ]
     },
     "metadata": {},
     "output_type": "display_data"
    },
    {
     "data": {
      "text/html": [
       "<pre style=\"white-space:pre;overflow-x:auto;line-height:normal;font-family:Menlo,'DejaVu Sans Mono',consolas,'Courier New',monospace\"><span style=\"color: #7fbfbf; text-decoration-color: #7fbfbf\">[09/02/24 20:39:59] </span><span style=\"color: #000080; text-decoration-color: #000080\">INFO    </span> <span style=\"font-weight: bold\">[</span><span style=\"color: #008080; text-decoration-color: #008080; font-weight: bold\">8</span>/<span style=\"color: #008080; text-decoration-color: #008080; font-weight: bold\">10</span><span style=\"font-weight: bold\">]</span> Retrieving fixtures for ENG-Premier League <span style=\"color: #008080; text-decoration-color: #008080; font-weight: bold\">2425</span>                <a href=\"file://C:\\Users\\acer\\AppData\\Local\\Programs\\Python\\Python312\\Lib\\site-packages\\soccerdata\\whoscored.py\" target=\"_blank\"><span style=\"color: #7f7f7f; text-decoration-color: #7f7f7f\">whoscored.py</span></a><span style=\"color: #7f7f7f; text-decoration-color: #7f7f7f\">:</span><a href=\"file://C:\\Users\\acer\\AppData\\Local\\Programs\\Python\\Python312\\Lib\\site-packages\\soccerdata\\whoscored.py#400\" target=\"_blank\"><span style=\"color: #7f7f7f; text-decoration-color: #7f7f7f\">400</span></a>\n",
       "</pre>\n"
      ],
      "text/plain": [
       "\u001b[2;36m[09/02/24 20:39:59]\u001b[0m\u001b[2;36m \u001b[0m\u001b[34mINFO    \u001b[0m \u001b[1m[\u001b[0m\u001b[1;36m8\u001b[0m/\u001b[1;36m10\u001b[0m\u001b[1m]\u001b[0m Retrieving fixtures for ENG-Premier League \u001b[1;36m2425\u001b[0m                \u001b]8;id=36523;file://C:\\Users\\acer\\AppData\\Local\\Programs\\Python\\Python312\\Lib\\site-packages\\soccerdata\\whoscored.py\u001b\\\u001b[2mwhoscored.py\u001b[0m\u001b]8;;\u001b\\\u001b[2m:\u001b[0m\u001b]8;id=511085;file://C:\\Users\\acer\\AppData\\Local\\Programs\\Python\\Python312\\Lib\\site-packages\\soccerdata\\whoscored.py#400\u001b\\\u001b[2m400\u001b[0m\u001b]8;;\u001b\\\n"
      ]
     },
     "metadata": {},
     "output_type": "display_data"
    },
    {
     "data": {
      "text/html": [
       "<pre style=\"white-space:pre;overflow-x:auto;line-height:normal;font-family:Menlo,'DejaVu Sans Mono',consolas,'Courier New',monospace\"><span style=\"color: #7fbfbf; text-decoration-color: #7fbfbf\">[09/02/24 20:40:07] </span><span style=\"color: #000080; text-decoration-color: #000080\">INFO    </span> <span style=\"font-weight: bold\">[</span><span style=\"color: #008080; text-decoration-color: #008080; font-weight: bold\">9</span>/<span style=\"color: #008080; text-decoration-color: #008080; font-weight: bold\">10</span><span style=\"font-weight: bold\">]</span> Retrieving fixtures for ENG-Premier League <span style=\"color: #008080; text-decoration-color: #008080; font-weight: bold\">2425</span>                <a href=\"file://C:\\Users\\acer\\AppData\\Local\\Programs\\Python\\Python312\\Lib\\site-packages\\soccerdata\\whoscored.py\" target=\"_blank\"><span style=\"color: #7f7f7f; text-decoration-color: #7f7f7f\">whoscored.py</span></a><span style=\"color: #7f7f7f; text-decoration-color: #7f7f7f\">:</span><a href=\"file://C:\\Users\\acer\\AppData\\Local\\Programs\\Python\\Python312\\Lib\\site-packages\\soccerdata\\whoscored.py#400\" target=\"_blank\"><span style=\"color: #7f7f7f; text-decoration-color: #7f7f7f\">400</span></a>\n",
       "</pre>\n"
      ],
      "text/plain": [
       "\u001b[2;36m[09/02/24 20:40:07]\u001b[0m\u001b[2;36m \u001b[0m\u001b[34mINFO    \u001b[0m \u001b[1m[\u001b[0m\u001b[1;36m9\u001b[0m/\u001b[1;36m10\u001b[0m\u001b[1m]\u001b[0m Retrieving fixtures for ENG-Premier League \u001b[1;36m2425\u001b[0m                \u001b]8;id=139198;file://C:\\Users\\acer\\AppData\\Local\\Programs\\Python\\Python312\\Lib\\site-packages\\soccerdata\\whoscored.py\u001b\\\u001b[2mwhoscored.py\u001b[0m\u001b]8;;\u001b\\\u001b[2m:\u001b[0m\u001b]8;id=462739;file://C:\\Users\\acer\\AppData\\Local\\Programs\\Python\\Python312\\Lib\\site-packages\\soccerdata\\whoscored.py#400\u001b\\\u001b[2m400\u001b[0m\u001b]8;;\u001b\\\n"
      ]
     },
     "metadata": {},
     "output_type": "display_data"
    },
    {
     "data": {
      "text/html": [
       "<pre style=\"white-space:pre;overflow-x:auto;line-height:normal;font-family:Menlo,'DejaVu Sans Mono',consolas,'Courier New',monospace\"><span style=\"color: #7fbfbf; text-decoration-color: #7fbfbf\">[09/02/24 20:40:17] </span><span style=\"color: #000080; text-decoration-color: #000080\">INFO    </span> <span style=\"font-weight: bold\">[</span><span style=\"color: #008080; text-decoration-color: #008080; font-weight: bold\">10</span>/<span style=\"color: #008080; text-decoration-color: #008080; font-weight: bold\">10</span><span style=\"font-weight: bold\">]</span> Retrieving fixtures for ENG-Premier League <span style=\"color: #008080; text-decoration-color: #008080; font-weight: bold\">2425</span>               <a href=\"file://C:\\Users\\acer\\AppData\\Local\\Programs\\Python\\Python312\\Lib\\site-packages\\soccerdata\\whoscored.py\" target=\"_blank\"><span style=\"color: #7f7f7f; text-decoration-color: #7f7f7f\">whoscored.py</span></a><span style=\"color: #7f7f7f; text-decoration-color: #7f7f7f\">:</span><a href=\"file://C:\\Users\\acer\\AppData\\Local\\Programs\\Python\\Python312\\Lib\\site-packages\\soccerdata\\whoscored.py#400\" target=\"_blank\"><span style=\"color: #7f7f7f; text-decoration-color: #7f7f7f\">400</span></a>\n",
       "</pre>\n"
      ],
      "text/plain": [
       "\u001b[2;36m[09/02/24 20:40:17]\u001b[0m\u001b[2;36m \u001b[0m\u001b[34mINFO    \u001b[0m \u001b[1m[\u001b[0m\u001b[1;36m10\u001b[0m/\u001b[1;36m10\u001b[0m\u001b[1m]\u001b[0m Retrieving fixtures for ENG-Premier League \u001b[1;36m2425\u001b[0m               \u001b]8;id=789325;file://C:\\Users\\acer\\AppData\\Local\\Programs\\Python\\Python312\\Lib\\site-packages\\soccerdata\\whoscored.py\u001b\\\u001b[2mwhoscored.py\u001b[0m\u001b]8;;\u001b\\\u001b[2m:\u001b[0m\u001b]8;id=24713;file://C:\\Users\\acer\\AppData\\Local\\Programs\\Python\\Python312\\Lib\\site-packages\\soccerdata\\whoscored.py#400\u001b\\\u001b[2m400\u001b[0m\u001b]8;;\u001b\\\n"
      ]
     },
     "metadata": {},
     "output_type": "display_data"
    },
    {
     "name": "stderr",
     "output_type": "stream",
     "text": [
      "C:\\Users\\acer\\AppData\\Local\\Programs\\Python\\Python312\\Lib\\site-packages\\soccerdata\\whoscored.py:424: FutureWarning: The behavior of DataFrame concatenation with empty or all-NA entries is deprecated. In a future version, this will no longer exclude empty or all-NA columns when determining the result dtypes. To retain the old behavior, exclude the relevant entries before the concat operation.\n",
      "  pd.concat(all_schedules)\n"
     ]
    },
    {
     "data": {
      "text/html": [
       "<pre style=\"white-space:pre;overflow-x:auto;line-height:normal;font-family:Menlo,'DejaVu Sans Mono',consolas,'Courier New',monospace\"><span style=\"color: #7fbfbf; text-decoration-color: #7fbfbf\">[09/02/24 20:40:23] </span><span style=\"color: #000080; text-decoration-color: #000080\">INFO    </span> <span style=\"font-weight: bold\">[</span><span style=\"color: #008080; text-decoration-color: #008080; font-weight: bold\">1</span>/<span style=\"color: #008080; text-decoration-color: #008080; font-weight: bold\">1</span><span style=\"font-weight: bold\">]</span> Retrieving game with <span style=\"color: #808000; text-decoration-color: #808000\">id</span>=<span style=\"color: #008080; text-decoration-color: #008080; font-weight: bold\">1821060</span>                                 <a href=\"file://C:\\Users\\acer\\AppData\\Local\\Programs\\Python\\Python312\\Lib\\site-packages\\soccerdata\\whoscored.py\" target=\"_blank\"><span style=\"color: #7f7f7f; text-decoration-color: #7f7f7f\">whoscored.py</span></a><span style=\"color: #7f7f7f; text-decoration-color: #7f7f7f\">:</span><a href=\"file://C:\\Users\\acer\\AppData\\Local\\Programs\\Python\\Python312\\Lib\\site-packages\\soccerdata\\whoscored.py#692\" target=\"_blank\"><span style=\"color: #7f7f7f; text-decoration-color: #7f7f7f\">692</span></a>\n",
       "</pre>\n"
      ],
      "text/plain": [
       "\u001b[2;36m[09/02/24 20:40:23]\u001b[0m\u001b[2;36m \u001b[0m\u001b[34mINFO    \u001b[0m \u001b[1m[\u001b[0m\u001b[1;36m1\u001b[0m/\u001b[1;36m1\u001b[0m\u001b[1m]\u001b[0m Retrieving game with \u001b[33mid\u001b[0m=\u001b[1;36m1821060\u001b[0m                                 \u001b]8;id=377927;file://C:\\Users\\acer\\AppData\\Local\\Programs\\Python\\Python312\\Lib\\site-packages\\soccerdata\\whoscored.py\u001b\\\u001b[2mwhoscored.py\u001b[0m\u001b]8;;\u001b\\\u001b[2m:\u001b[0m\u001b]8;id=213983;file://C:\\Users\\acer\\AppData\\Local\\Programs\\Python\\Python312\\Lib\\site-packages\\soccerdata\\whoscored.py#692\u001b\\\u001b[2m692\u001b[0m\u001b]8;;\u001b\\\n"
      ]
     },
     "metadata": {},
     "output_type": "display_data"
    },
    {
     "data": {
      "text/html": [
       "<pre style=\"white-space:pre;overflow-x:auto;line-height:normal;font-family:Menlo,'DejaVu Sans Mono',consolas,'Courier New',monospace\"><span style=\"color: #7fbfbf; text-decoration-color: #7fbfbf\">[09/02/24 20:40:45] </span><span style=\"color: #000080; text-decoration-color: #000080\">INFO    </span> Retrieving calendar for ENG-Premier League <span style=\"color: #008080; text-decoration-color: #008080; font-weight: bold\">2425</span>                       <a href=\"file://C:\\Users\\acer\\AppData\\Local\\Programs\\Python\\Python312\\Lib\\site-packages\\soccerdata\\whoscored.py\" target=\"_blank\"><span style=\"color: #7f7f7f; text-decoration-color: #7f7f7f\">whoscored.py</span></a><span style=\"color: #7f7f7f; text-decoration-color: #7f7f7f\">:</span><a href=\"file://C:\\Users\\acer\\AppData\\Local\\Programs\\Python\\Python312\\Lib\\site-packages\\soccerdata\\whoscored.py#371\" target=\"_blank\"><span style=\"color: #7f7f7f; text-decoration-color: #7f7f7f\">371</span></a>\n",
       "</pre>\n"
      ],
      "text/plain": [
       "\u001b[2;36m[09/02/24 20:40:45]\u001b[0m\u001b[2;36m \u001b[0m\u001b[34mINFO    \u001b[0m Retrieving calendar for ENG-Premier League \u001b[1;36m2425\u001b[0m                       \u001b]8;id=52565;file://C:\\Users\\acer\\AppData\\Local\\Programs\\Python\\Python312\\Lib\\site-packages\\soccerdata\\whoscored.py\u001b\\\u001b[2mwhoscored.py\u001b[0m\u001b]8;;\u001b\\\u001b[2m:\u001b[0m\u001b]8;id=465623;file://C:\\Users\\acer\\AppData\\Local\\Programs\\Python\\Python312\\Lib\\site-packages\\soccerdata\\whoscored.py#371\u001b\\\u001b[2m371\u001b[0m\u001b]8;;\u001b\\\n"
      ]
     },
     "metadata": {},
     "output_type": "display_data"
    },
    {
     "data": {
      "text/html": [
       "<pre style=\"white-space:pre;overflow-x:auto;line-height:normal;font-family:Menlo,'DejaVu Sans Mono',consolas,'Courier New',monospace\"><span style=\"color: #7fbfbf; text-decoration-color: #7fbfbf\">[09/02/24 20:40:56] </span><span style=\"color: #000080; text-decoration-color: #000080\">INFO    </span> <span style=\"font-weight: bold\">[</span><span style=\"color: #008080; text-decoration-color: #008080; font-weight: bold\">1</span>/<span style=\"color: #008080; text-decoration-color: #008080; font-weight: bold\">10</span><span style=\"font-weight: bold\">]</span> Retrieving fixtures for ENG-Premier League <span style=\"color: #008080; text-decoration-color: #008080; font-weight: bold\">2425</span>                <a href=\"file://C:\\Users\\acer\\AppData\\Local\\Programs\\Python\\Python312\\Lib\\site-packages\\soccerdata\\whoscored.py\" target=\"_blank\"><span style=\"color: #7f7f7f; text-decoration-color: #7f7f7f\">whoscored.py</span></a><span style=\"color: #7f7f7f; text-decoration-color: #7f7f7f\">:</span><a href=\"file://C:\\Users\\acer\\AppData\\Local\\Programs\\Python\\Python312\\Lib\\site-packages\\soccerdata\\whoscored.py#400\" target=\"_blank\"><span style=\"color: #7f7f7f; text-decoration-color: #7f7f7f\">400</span></a>\n",
       "</pre>\n"
      ],
      "text/plain": [
       "\u001b[2;36m[09/02/24 20:40:56]\u001b[0m\u001b[2;36m \u001b[0m\u001b[34mINFO    \u001b[0m \u001b[1m[\u001b[0m\u001b[1;36m1\u001b[0m/\u001b[1;36m10\u001b[0m\u001b[1m]\u001b[0m Retrieving fixtures for ENG-Premier League \u001b[1;36m2425\u001b[0m                \u001b]8;id=646481;file://C:\\Users\\acer\\AppData\\Local\\Programs\\Python\\Python312\\Lib\\site-packages\\soccerdata\\whoscored.py\u001b\\\u001b[2mwhoscored.py\u001b[0m\u001b]8;;\u001b\\\u001b[2m:\u001b[0m\u001b]8;id=584734;file://C:\\Users\\acer\\AppData\\Local\\Programs\\Python\\Python312\\Lib\\site-packages\\soccerdata\\whoscored.py#400\u001b\\\u001b[2m400\u001b[0m\u001b]8;;\u001b\\\n"
      ]
     },
     "metadata": {},
     "output_type": "display_data"
    },
    {
     "data": {
      "text/html": [
       "<pre style=\"white-space:pre;overflow-x:auto;line-height:normal;font-family:Menlo,'DejaVu Sans Mono',consolas,'Courier New',monospace\"><span style=\"color: #7fbfbf; text-decoration-color: #7fbfbf\">[09/02/24 20:41:05] </span><span style=\"color: #000080; text-decoration-color: #000080\">INFO    </span> <span style=\"font-weight: bold\">[</span><span style=\"color: #008080; text-decoration-color: #008080; font-weight: bold\">2</span>/<span style=\"color: #008080; text-decoration-color: #008080; font-weight: bold\">10</span><span style=\"font-weight: bold\">]</span> Retrieving fixtures for ENG-Premier League <span style=\"color: #008080; text-decoration-color: #008080; font-weight: bold\">2425</span>                <a href=\"file://C:\\Users\\acer\\AppData\\Local\\Programs\\Python\\Python312\\Lib\\site-packages\\soccerdata\\whoscored.py\" target=\"_blank\"><span style=\"color: #7f7f7f; text-decoration-color: #7f7f7f\">whoscored.py</span></a><span style=\"color: #7f7f7f; text-decoration-color: #7f7f7f\">:</span><a href=\"file://C:\\Users\\acer\\AppData\\Local\\Programs\\Python\\Python312\\Lib\\site-packages\\soccerdata\\whoscored.py#400\" target=\"_blank\"><span style=\"color: #7f7f7f; text-decoration-color: #7f7f7f\">400</span></a>\n",
       "</pre>\n"
      ],
      "text/plain": [
       "\u001b[2;36m[09/02/24 20:41:05]\u001b[0m\u001b[2;36m \u001b[0m\u001b[34mINFO    \u001b[0m \u001b[1m[\u001b[0m\u001b[1;36m2\u001b[0m/\u001b[1;36m10\u001b[0m\u001b[1m]\u001b[0m Retrieving fixtures for ENG-Premier League \u001b[1;36m2425\u001b[0m                \u001b]8;id=599457;file://C:\\Users\\acer\\AppData\\Local\\Programs\\Python\\Python312\\Lib\\site-packages\\soccerdata\\whoscored.py\u001b\\\u001b[2mwhoscored.py\u001b[0m\u001b]8;;\u001b\\\u001b[2m:\u001b[0m\u001b]8;id=933237;file://C:\\Users\\acer\\AppData\\Local\\Programs\\Python\\Python312\\Lib\\site-packages\\soccerdata\\whoscored.py#400\u001b\\\u001b[2m400\u001b[0m\u001b]8;;\u001b\\\n"
      ]
     },
     "metadata": {},
     "output_type": "display_data"
    },
    {
     "data": {
      "text/html": [
       "<pre style=\"white-space:pre;overflow-x:auto;line-height:normal;font-family:Menlo,'DejaVu Sans Mono',consolas,'Courier New',monospace\"><span style=\"color: #7fbfbf; text-decoration-color: #7fbfbf\">[09/02/24 20:41:11] </span><span style=\"color: #000080; text-decoration-color: #000080\">INFO    </span> <span style=\"font-weight: bold\">[</span><span style=\"color: #008080; text-decoration-color: #008080; font-weight: bold\">3</span>/<span style=\"color: #008080; text-decoration-color: #008080; font-weight: bold\">10</span><span style=\"font-weight: bold\">]</span> Retrieving fixtures for ENG-Premier League <span style=\"color: #008080; text-decoration-color: #008080; font-weight: bold\">2425</span>                <a href=\"file://C:\\Users\\acer\\AppData\\Local\\Programs\\Python\\Python312\\Lib\\site-packages\\soccerdata\\whoscored.py\" target=\"_blank\"><span style=\"color: #7f7f7f; text-decoration-color: #7f7f7f\">whoscored.py</span></a><span style=\"color: #7f7f7f; text-decoration-color: #7f7f7f\">:</span><a href=\"file://C:\\Users\\acer\\AppData\\Local\\Programs\\Python\\Python312\\Lib\\site-packages\\soccerdata\\whoscored.py#400\" target=\"_blank\"><span style=\"color: #7f7f7f; text-decoration-color: #7f7f7f\">400</span></a>\n",
       "</pre>\n"
      ],
      "text/plain": [
       "\u001b[2;36m[09/02/24 20:41:11]\u001b[0m\u001b[2;36m \u001b[0m\u001b[34mINFO    \u001b[0m \u001b[1m[\u001b[0m\u001b[1;36m3\u001b[0m/\u001b[1;36m10\u001b[0m\u001b[1m]\u001b[0m Retrieving fixtures for ENG-Premier League \u001b[1;36m2425\u001b[0m                \u001b]8;id=596350;file://C:\\Users\\acer\\AppData\\Local\\Programs\\Python\\Python312\\Lib\\site-packages\\soccerdata\\whoscored.py\u001b\\\u001b[2mwhoscored.py\u001b[0m\u001b]8;;\u001b\\\u001b[2m:\u001b[0m\u001b]8;id=67976;file://C:\\Users\\acer\\AppData\\Local\\Programs\\Python\\Python312\\Lib\\site-packages\\soccerdata\\whoscored.py#400\u001b\\\u001b[2m400\u001b[0m\u001b]8;;\u001b\\\n"
      ]
     },
     "metadata": {},
     "output_type": "display_data"
    },
    {
     "data": {
      "text/html": [
       "<pre style=\"white-space:pre;overflow-x:auto;line-height:normal;font-family:Menlo,'DejaVu Sans Mono',consolas,'Courier New',monospace\"><span style=\"color: #7fbfbf; text-decoration-color: #7fbfbf\">[09/02/24 20:41:21] </span><span style=\"color: #000080; text-decoration-color: #000080\">INFO    </span> <span style=\"font-weight: bold\">[</span><span style=\"color: #008080; text-decoration-color: #008080; font-weight: bold\">4</span>/<span style=\"color: #008080; text-decoration-color: #008080; font-weight: bold\">10</span><span style=\"font-weight: bold\">]</span> Retrieving fixtures for ENG-Premier League <span style=\"color: #008080; text-decoration-color: #008080; font-weight: bold\">2425</span>                <a href=\"file://C:\\Users\\acer\\AppData\\Local\\Programs\\Python\\Python312\\Lib\\site-packages\\soccerdata\\whoscored.py\" target=\"_blank\"><span style=\"color: #7f7f7f; text-decoration-color: #7f7f7f\">whoscored.py</span></a><span style=\"color: #7f7f7f; text-decoration-color: #7f7f7f\">:</span><a href=\"file://C:\\Users\\acer\\AppData\\Local\\Programs\\Python\\Python312\\Lib\\site-packages\\soccerdata\\whoscored.py#400\" target=\"_blank\"><span style=\"color: #7f7f7f; text-decoration-color: #7f7f7f\">400</span></a>\n",
       "</pre>\n"
      ],
      "text/plain": [
       "\u001b[2;36m[09/02/24 20:41:21]\u001b[0m\u001b[2;36m \u001b[0m\u001b[34mINFO    \u001b[0m \u001b[1m[\u001b[0m\u001b[1;36m4\u001b[0m/\u001b[1;36m10\u001b[0m\u001b[1m]\u001b[0m Retrieving fixtures for ENG-Premier League \u001b[1;36m2425\u001b[0m                \u001b]8;id=641658;file://C:\\Users\\acer\\AppData\\Local\\Programs\\Python\\Python312\\Lib\\site-packages\\soccerdata\\whoscored.py\u001b\\\u001b[2mwhoscored.py\u001b[0m\u001b]8;;\u001b\\\u001b[2m:\u001b[0m\u001b]8;id=226849;file://C:\\Users\\acer\\AppData\\Local\\Programs\\Python\\Python312\\Lib\\site-packages\\soccerdata\\whoscored.py#400\u001b\\\u001b[2m400\u001b[0m\u001b]8;;\u001b\\\n"
      ]
     },
     "metadata": {},
     "output_type": "display_data"
    },
    {
     "data": {
      "text/html": [
       "<pre style=\"white-space:pre;overflow-x:auto;line-height:normal;font-family:Menlo,'DejaVu Sans Mono',consolas,'Courier New',monospace\"><span style=\"color: #7fbfbf; text-decoration-color: #7fbfbf\">[09/02/24 20:41:30] </span><span style=\"color: #000080; text-decoration-color: #000080\">INFO    </span> <span style=\"font-weight: bold\">[</span><span style=\"color: #008080; text-decoration-color: #008080; font-weight: bold\">5</span>/<span style=\"color: #008080; text-decoration-color: #008080; font-weight: bold\">10</span><span style=\"font-weight: bold\">]</span> Retrieving fixtures for ENG-Premier League <span style=\"color: #008080; text-decoration-color: #008080; font-weight: bold\">2425</span>                <a href=\"file://C:\\Users\\acer\\AppData\\Local\\Programs\\Python\\Python312\\Lib\\site-packages\\soccerdata\\whoscored.py\" target=\"_blank\"><span style=\"color: #7f7f7f; text-decoration-color: #7f7f7f\">whoscored.py</span></a><span style=\"color: #7f7f7f; text-decoration-color: #7f7f7f\">:</span><a href=\"file://C:\\Users\\acer\\AppData\\Local\\Programs\\Python\\Python312\\Lib\\site-packages\\soccerdata\\whoscored.py#400\" target=\"_blank\"><span style=\"color: #7f7f7f; text-decoration-color: #7f7f7f\">400</span></a>\n",
       "</pre>\n"
      ],
      "text/plain": [
       "\u001b[2;36m[09/02/24 20:41:30]\u001b[0m\u001b[2;36m \u001b[0m\u001b[34mINFO    \u001b[0m \u001b[1m[\u001b[0m\u001b[1;36m5\u001b[0m/\u001b[1;36m10\u001b[0m\u001b[1m]\u001b[0m Retrieving fixtures for ENG-Premier League \u001b[1;36m2425\u001b[0m                \u001b]8;id=957319;file://C:\\Users\\acer\\AppData\\Local\\Programs\\Python\\Python312\\Lib\\site-packages\\soccerdata\\whoscored.py\u001b\\\u001b[2mwhoscored.py\u001b[0m\u001b]8;;\u001b\\\u001b[2m:\u001b[0m\u001b]8;id=506090;file://C:\\Users\\acer\\AppData\\Local\\Programs\\Python\\Python312\\Lib\\site-packages\\soccerdata\\whoscored.py#400\u001b\\\u001b[2m400\u001b[0m\u001b]8;;\u001b\\\n"
      ]
     },
     "metadata": {},
     "output_type": "display_data"
    },
    {
     "data": {
      "text/html": [
       "<pre style=\"white-space:pre;overflow-x:auto;line-height:normal;font-family:Menlo,'DejaVu Sans Mono',consolas,'Courier New',monospace\"><span style=\"color: #7fbfbf; text-decoration-color: #7fbfbf\">[09/02/24 20:41:39] </span><span style=\"color: #000080; text-decoration-color: #000080\">INFO    </span> <span style=\"font-weight: bold\">[</span><span style=\"color: #008080; text-decoration-color: #008080; font-weight: bold\">6</span>/<span style=\"color: #008080; text-decoration-color: #008080; font-weight: bold\">10</span><span style=\"font-weight: bold\">]</span> Retrieving fixtures for ENG-Premier League <span style=\"color: #008080; text-decoration-color: #008080; font-weight: bold\">2425</span>                <a href=\"file://C:\\Users\\acer\\AppData\\Local\\Programs\\Python\\Python312\\Lib\\site-packages\\soccerdata\\whoscored.py\" target=\"_blank\"><span style=\"color: #7f7f7f; text-decoration-color: #7f7f7f\">whoscored.py</span></a><span style=\"color: #7f7f7f; text-decoration-color: #7f7f7f\">:</span><a href=\"file://C:\\Users\\acer\\AppData\\Local\\Programs\\Python\\Python312\\Lib\\site-packages\\soccerdata\\whoscored.py#400\" target=\"_blank\"><span style=\"color: #7f7f7f; text-decoration-color: #7f7f7f\">400</span></a>\n",
       "</pre>\n"
      ],
      "text/plain": [
       "\u001b[2;36m[09/02/24 20:41:39]\u001b[0m\u001b[2;36m \u001b[0m\u001b[34mINFO    \u001b[0m \u001b[1m[\u001b[0m\u001b[1;36m6\u001b[0m/\u001b[1;36m10\u001b[0m\u001b[1m]\u001b[0m Retrieving fixtures for ENG-Premier League \u001b[1;36m2425\u001b[0m                \u001b]8;id=499084;file://C:\\Users\\acer\\AppData\\Local\\Programs\\Python\\Python312\\Lib\\site-packages\\soccerdata\\whoscored.py\u001b\\\u001b[2mwhoscored.py\u001b[0m\u001b]8;;\u001b\\\u001b[2m:\u001b[0m\u001b]8;id=933471;file://C:\\Users\\acer\\AppData\\Local\\Programs\\Python\\Python312\\Lib\\site-packages\\soccerdata\\whoscored.py#400\u001b\\\u001b[2m400\u001b[0m\u001b]8;;\u001b\\\n"
      ]
     },
     "metadata": {},
     "output_type": "display_data"
    },
    {
     "data": {
      "text/html": [
       "<pre style=\"white-space:pre;overflow-x:auto;line-height:normal;font-family:Menlo,'DejaVu Sans Mono',consolas,'Courier New',monospace\"><span style=\"color: #7fbfbf; text-decoration-color: #7fbfbf\">[09/02/24 20:41:46] </span><span style=\"color: #000080; text-decoration-color: #000080\">INFO    </span> <span style=\"font-weight: bold\">[</span><span style=\"color: #008080; text-decoration-color: #008080; font-weight: bold\">7</span>/<span style=\"color: #008080; text-decoration-color: #008080; font-weight: bold\">10</span><span style=\"font-weight: bold\">]</span> Retrieving fixtures for ENG-Premier League <span style=\"color: #008080; text-decoration-color: #008080; font-weight: bold\">2425</span>                <a href=\"file://C:\\Users\\acer\\AppData\\Local\\Programs\\Python\\Python312\\Lib\\site-packages\\soccerdata\\whoscored.py\" target=\"_blank\"><span style=\"color: #7f7f7f; text-decoration-color: #7f7f7f\">whoscored.py</span></a><span style=\"color: #7f7f7f; text-decoration-color: #7f7f7f\">:</span><a href=\"file://C:\\Users\\acer\\AppData\\Local\\Programs\\Python\\Python312\\Lib\\site-packages\\soccerdata\\whoscored.py#400\" target=\"_blank\"><span style=\"color: #7f7f7f; text-decoration-color: #7f7f7f\">400</span></a>\n",
       "</pre>\n"
      ],
      "text/plain": [
       "\u001b[2;36m[09/02/24 20:41:46]\u001b[0m\u001b[2;36m \u001b[0m\u001b[34mINFO    \u001b[0m \u001b[1m[\u001b[0m\u001b[1;36m7\u001b[0m/\u001b[1;36m10\u001b[0m\u001b[1m]\u001b[0m Retrieving fixtures for ENG-Premier League \u001b[1;36m2425\u001b[0m                \u001b]8;id=964169;file://C:\\Users\\acer\\AppData\\Local\\Programs\\Python\\Python312\\Lib\\site-packages\\soccerdata\\whoscored.py\u001b\\\u001b[2mwhoscored.py\u001b[0m\u001b]8;;\u001b\\\u001b[2m:\u001b[0m\u001b]8;id=692918;file://C:\\Users\\acer\\AppData\\Local\\Programs\\Python\\Python312\\Lib\\site-packages\\soccerdata\\whoscored.py#400\u001b\\\u001b[2m400\u001b[0m\u001b]8;;\u001b\\\n"
      ]
     },
     "metadata": {},
     "output_type": "display_data"
    },
    {
     "data": {
      "text/html": [
       "<pre style=\"white-space:pre;overflow-x:auto;line-height:normal;font-family:Menlo,'DejaVu Sans Mono',consolas,'Courier New',monospace\"><span style=\"color: #7fbfbf; text-decoration-color: #7fbfbf\">[09/02/24 20:41:56] </span><span style=\"color: #000080; text-decoration-color: #000080\">INFO    </span> <span style=\"font-weight: bold\">[</span><span style=\"color: #008080; text-decoration-color: #008080; font-weight: bold\">8</span>/<span style=\"color: #008080; text-decoration-color: #008080; font-weight: bold\">10</span><span style=\"font-weight: bold\">]</span> Retrieving fixtures for ENG-Premier League <span style=\"color: #008080; text-decoration-color: #008080; font-weight: bold\">2425</span>                <a href=\"file://C:\\Users\\acer\\AppData\\Local\\Programs\\Python\\Python312\\Lib\\site-packages\\soccerdata\\whoscored.py\" target=\"_blank\"><span style=\"color: #7f7f7f; text-decoration-color: #7f7f7f\">whoscored.py</span></a><span style=\"color: #7f7f7f; text-decoration-color: #7f7f7f\">:</span><a href=\"file://C:\\Users\\acer\\AppData\\Local\\Programs\\Python\\Python312\\Lib\\site-packages\\soccerdata\\whoscored.py#400\" target=\"_blank\"><span style=\"color: #7f7f7f; text-decoration-color: #7f7f7f\">400</span></a>\n",
       "</pre>\n"
      ],
      "text/plain": [
       "\u001b[2;36m[09/02/24 20:41:56]\u001b[0m\u001b[2;36m \u001b[0m\u001b[34mINFO    \u001b[0m \u001b[1m[\u001b[0m\u001b[1;36m8\u001b[0m/\u001b[1;36m10\u001b[0m\u001b[1m]\u001b[0m Retrieving fixtures for ENG-Premier League \u001b[1;36m2425\u001b[0m                \u001b]8;id=28134;file://C:\\Users\\acer\\AppData\\Local\\Programs\\Python\\Python312\\Lib\\site-packages\\soccerdata\\whoscored.py\u001b\\\u001b[2mwhoscored.py\u001b[0m\u001b]8;;\u001b\\\u001b[2m:\u001b[0m\u001b]8;id=906208;file://C:\\Users\\acer\\AppData\\Local\\Programs\\Python\\Python312\\Lib\\site-packages\\soccerdata\\whoscored.py#400\u001b\\\u001b[2m400\u001b[0m\u001b]8;;\u001b\\\n"
      ]
     },
     "metadata": {},
     "output_type": "display_data"
    },
    {
     "data": {
      "text/html": [
       "<pre style=\"white-space:pre;overflow-x:auto;line-height:normal;font-family:Menlo,'DejaVu Sans Mono',consolas,'Courier New',monospace\"><span style=\"color: #7fbfbf; text-decoration-color: #7fbfbf\">[09/02/24 20:42:03] </span><span style=\"color: #000080; text-decoration-color: #000080\">INFO    </span> <span style=\"font-weight: bold\">[</span><span style=\"color: #008080; text-decoration-color: #008080; font-weight: bold\">9</span>/<span style=\"color: #008080; text-decoration-color: #008080; font-weight: bold\">10</span><span style=\"font-weight: bold\">]</span> Retrieving fixtures for ENG-Premier League <span style=\"color: #008080; text-decoration-color: #008080; font-weight: bold\">2425</span>                <a href=\"file://C:\\Users\\acer\\AppData\\Local\\Programs\\Python\\Python312\\Lib\\site-packages\\soccerdata\\whoscored.py\" target=\"_blank\"><span style=\"color: #7f7f7f; text-decoration-color: #7f7f7f\">whoscored.py</span></a><span style=\"color: #7f7f7f; text-decoration-color: #7f7f7f\">:</span><a href=\"file://C:\\Users\\acer\\AppData\\Local\\Programs\\Python\\Python312\\Lib\\site-packages\\soccerdata\\whoscored.py#400\" target=\"_blank\"><span style=\"color: #7f7f7f; text-decoration-color: #7f7f7f\">400</span></a>\n",
       "</pre>\n"
      ],
      "text/plain": [
       "\u001b[2;36m[09/02/24 20:42:03]\u001b[0m\u001b[2;36m \u001b[0m\u001b[34mINFO    \u001b[0m \u001b[1m[\u001b[0m\u001b[1;36m9\u001b[0m/\u001b[1;36m10\u001b[0m\u001b[1m]\u001b[0m Retrieving fixtures for ENG-Premier League \u001b[1;36m2425\u001b[0m                \u001b]8;id=737813;file://C:\\Users\\acer\\AppData\\Local\\Programs\\Python\\Python312\\Lib\\site-packages\\soccerdata\\whoscored.py\u001b\\\u001b[2mwhoscored.py\u001b[0m\u001b]8;;\u001b\\\u001b[2m:\u001b[0m\u001b]8;id=573349;file://C:\\Users\\acer\\AppData\\Local\\Programs\\Python\\Python312\\Lib\\site-packages\\soccerdata\\whoscored.py#400\u001b\\\u001b[2m400\u001b[0m\u001b]8;;\u001b\\\n"
      ]
     },
     "metadata": {},
     "output_type": "display_data"
    },
    {
     "data": {
      "text/html": [
       "<pre style=\"white-space:pre;overflow-x:auto;line-height:normal;font-family:Menlo,'DejaVu Sans Mono',consolas,'Courier New',monospace\"><span style=\"color: #7fbfbf; text-decoration-color: #7fbfbf\">[09/02/24 20:42:12] </span><span style=\"color: #000080; text-decoration-color: #000080\">INFO    </span> <span style=\"font-weight: bold\">[</span><span style=\"color: #008080; text-decoration-color: #008080; font-weight: bold\">10</span>/<span style=\"color: #008080; text-decoration-color: #008080; font-weight: bold\">10</span><span style=\"font-weight: bold\">]</span> Retrieving fixtures for ENG-Premier League <span style=\"color: #008080; text-decoration-color: #008080; font-weight: bold\">2425</span>               <a href=\"file://C:\\Users\\acer\\AppData\\Local\\Programs\\Python\\Python312\\Lib\\site-packages\\soccerdata\\whoscored.py\" target=\"_blank\"><span style=\"color: #7f7f7f; text-decoration-color: #7f7f7f\">whoscored.py</span></a><span style=\"color: #7f7f7f; text-decoration-color: #7f7f7f\">:</span><a href=\"file://C:\\Users\\acer\\AppData\\Local\\Programs\\Python\\Python312\\Lib\\site-packages\\soccerdata\\whoscored.py#400\" target=\"_blank\"><span style=\"color: #7f7f7f; text-decoration-color: #7f7f7f\">400</span></a>\n",
       "</pre>\n"
      ],
      "text/plain": [
       "\u001b[2;36m[09/02/24 20:42:12]\u001b[0m\u001b[2;36m \u001b[0m\u001b[34mINFO    \u001b[0m \u001b[1m[\u001b[0m\u001b[1;36m10\u001b[0m/\u001b[1;36m10\u001b[0m\u001b[1m]\u001b[0m Retrieving fixtures for ENG-Premier League \u001b[1;36m2425\u001b[0m               \u001b]8;id=909399;file://C:\\Users\\acer\\AppData\\Local\\Programs\\Python\\Python312\\Lib\\site-packages\\soccerdata\\whoscored.py\u001b\\\u001b[2mwhoscored.py\u001b[0m\u001b]8;;\u001b\\\u001b[2m:\u001b[0m\u001b]8;id=899843;file://C:\\Users\\acer\\AppData\\Local\\Programs\\Python\\Python312\\Lib\\site-packages\\soccerdata\\whoscored.py#400\u001b\\\u001b[2m400\u001b[0m\u001b]8;;\u001b\\\n"
      ]
     },
     "metadata": {},
     "output_type": "display_data"
    },
    {
     "name": "stderr",
     "output_type": "stream",
     "text": [
      "C:\\Users\\acer\\AppData\\Local\\Programs\\Python\\Python312\\Lib\\site-packages\\soccerdata\\whoscored.py:424: FutureWarning: The behavior of DataFrame concatenation with empty or all-NA entries is deprecated. In a future version, this will no longer exclude empty or all-NA columns when determining the result dtypes. To retain the old behavior, exclude the relevant entries before the concat operation.\n",
      "  pd.concat(all_schedules)\n"
     ]
    },
    {
     "data": {
      "text/html": [
       "<pre style=\"white-space:pre;overflow-x:auto;line-height:normal;font-family:Menlo,'DejaVu Sans Mono',consolas,'Courier New',monospace\"><span style=\"color: #7fbfbf; text-decoration-color: #7fbfbf\">[09/02/24 20:42:22] </span><span style=\"color: #000080; text-decoration-color: #000080\">INFO    </span> <span style=\"font-weight: bold\">[</span><span style=\"color: #008080; text-decoration-color: #008080; font-weight: bold\">1</span>/<span style=\"color: #008080; text-decoration-color: #008080; font-weight: bold\">1</span><span style=\"font-weight: bold\">]</span> Retrieving game with <span style=\"color: #808000; text-decoration-color: #808000\">id</span>=<span style=\"color: #008080; text-decoration-color: #008080; font-weight: bold\">1821061</span>                                 <a href=\"file://C:\\Users\\acer\\AppData\\Local\\Programs\\Python\\Python312\\Lib\\site-packages\\soccerdata\\whoscored.py\" target=\"_blank\"><span style=\"color: #7f7f7f; text-decoration-color: #7f7f7f\">whoscored.py</span></a><span style=\"color: #7f7f7f; text-decoration-color: #7f7f7f\">:</span><a href=\"file://C:\\Users\\acer\\AppData\\Local\\Programs\\Python\\Python312\\Lib\\site-packages\\soccerdata\\whoscored.py#692\" target=\"_blank\"><span style=\"color: #7f7f7f; text-decoration-color: #7f7f7f\">692</span></a>\n",
       "</pre>\n"
      ],
      "text/plain": [
       "\u001b[2;36m[09/02/24 20:42:22]\u001b[0m\u001b[2;36m \u001b[0m\u001b[34mINFO    \u001b[0m \u001b[1m[\u001b[0m\u001b[1;36m1\u001b[0m/\u001b[1;36m1\u001b[0m\u001b[1m]\u001b[0m Retrieving game with \u001b[33mid\u001b[0m=\u001b[1;36m1821061\u001b[0m                                 \u001b]8;id=796436;file://C:\\Users\\acer\\AppData\\Local\\Programs\\Python\\Python312\\Lib\\site-packages\\soccerdata\\whoscored.py\u001b\\\u001b[2mwhoscored.py\u001b[0m\u001b]8;;\u001b\\\u001b[2m:\u001b[0m\u001b]8;id=997749;file://C:\\Users\\acer\\AppData\\Local\\Programs\\Python\\Python312\\Lib\\site-packages\\soccerdata\\whoscored.py#692\u001b\\\u001b[2m692\u001b[0m\u001b]8;;\u001b\\\n"
      ]
     },
     "metadata": {},
     "output_type": "display_data"
    },
    {
     "data": {
      "text/html": [
       "<pre style=\"white-space:pre;overflow-x:auto;line-height:normal;font-family:Menlo,'DejaVu Sans Mono',consolas,'Courier New',monospace\"><span style=\"color: #7fbfbf; text-decoration-color: #7fbfbf\">[09/02/24 20:42:51] </span><span style=\"color: #000080; text-decoration-color: #000080\">INFO    </span> Retrieving calendar for ENG-Premier League <span style=\"color: #008080; text-decoration-color: #008080; font-weight: bold\">2425</span>                       <a href=\"file://C:\\Users\\acer\\AppData\\Local\\Programs\\Python\\Python312\\Lib\\site-packages\\soccerdata\\whoscored.py\" target=\"_blank\"><span style=\"color: #7f7f7f; text-decoration-color: #7f7f7f\">whoscored.py</span></a><span style=\"color: #7f7f7f; text-decoration-color: #7f7f7f\">:</span><a href=\"file://C:\\Users\\acer\\AppData\\Local\\Programs\\Python\\Python312\\Lib\\site-packages\\soccerdata\\whoscored.py#371\" target=\"_blank\"><span style=\"color: #7f7f7f; text-decoration-color: #7f7f7f\">371</span></a>\n",
       "</pre>\n"
      ],
      "text/plain": [
       "\u001b[2;36m[09/02/24 20:42:51]\u001b[0m\u001b[2;36m \u001b[0m\u001b[34mINFO    \u001b[0m Retrieving calendar for ENG-Premier League \u001b[1;36m2425\u001b[0m                       \u001b]8;id=900806;file://C:\\Users\\acer\\AppData\\Local\\Programs\\Python\\Python312\\Lib\\site-packages\\soccerdata\\whoscored.py\u001b\\\u001b[2mwhoscored.py\u001b[0m\u001b]8;;\u001b\\\u001b[2m:\u001b[0m\u001b]8;id=490257;file://C:\\Users\\acer\\AppData\\Local\\Programs\\Python\\Python312\\Lib\\site-packages\\soccerdata\\whoscored.py#371\u001b\\\u001b[2m371\u001b[0m\u001b]8;;\u001b\\\n"
      ]
     },
     "metadata": {},
     "output_type": "display_data"
    },
    {
     "data": {
      "text/html": [
       "<pre style=\"white-space:pre;overflow-x:auto;line-height:normal;font-family:Menlo,'DejaVu Sans Mono',consolas,'Courier New',monospace\"><span style=\"color: #7fbfbf; text-decoration-color: #7fbfbf\">[09/02/24 20:43:03] </span><span style=\"color: #000080; text-decoration-color: #000080\">INFO    </span> <span style=\"font-weight: bold\">[</span><span style=\"color: #008080; text-decoration-color: #008080; font-weight: bold\">1</span>/<span style=\"color: #008080; text-decoration-color: #008080; font-weight: bold\">10</span><span style=\"font-weight: bold\">]</span> Retrieving fixtures for ENG-Premier League <span style=\"color: #008080; text-decoration-color: #008080; font-weight: bold\">2425</span>                <a href=\"file://C:\\Users\\acer\\AppData\\Local\\Programs\\Python\\Python312\\Lib\\site-packages\\soccerdata\\whoscored.py\" target=\"_blank\"><span style=\"color: #7f7f7f; text-decoration-color: #7f7f7f\">whoscored.py</span></a><span style=\"color: #7f7f7f; text-decoration-color: #7f7f7f\">:</span><a href=\"file://C:\\Users\\acer\\AppData\\Local\\Programs\\Python\\Python312\\Lib\\site-packages\\soccerdata\\whoscored.py#400\" target=\"_blank\"><span style=\"color: #7f7f7f; text-decoration-color: #7f7f7f\">400</span></a>\n",
       "</pre>\n"
      ],
      "text/plain": [
       "\u001b[2;36m[09/02/24 20:43:03]\u001b[0m\u001b[2;36m \u001b[0m\u001b[34mINFO    \u001b[0m \u001b[1m[\u001b[0m\u001b[1;36m1\u001b[0m/\u001b[1;36m10\u001b[0m\u001b[1m]\u001b[0m Retrieving fixtures for ENG-Premier League \u001b[1;36m2425\u001b[0m                \u001b]8;id=564646;file://C:\\Users\\acer\\AppData\\Local\\Programs\\Python\\Python312\\Lib\\site-packages\\soccerdata\\whoscored.py\u001b\\\u001b[2mwhoscored.py\u001b[0m\u001b]8;;\u001b\\\u001b[2m:\u001b[0m\u001b]8;id=930643;file://C:\\Users\\acer\\AppData\\Local\\Programs\\Python\\Python312\\Lib\\site-packages\\soccerdata\\whoscored.py#400\u001b\\\u001b[2m400\u001b[0m\u001b]8;;\u001b\\\n"
      ]
     },
     "metadata": {},
     "output_type": "display_data"
    },
    {
     "data": {
      "text/html": [
       "<pre style=\"white-space:pre;overflow-x:auto;line-height:normal;font-family:Menlo,'DejaVu Sans Mono',consolas,'Courier New',monospace\"><span style=\"color: #7fbfbf; text-decoration-color: #7fbfbf\">[09/02/24 20:43:10] </span><span style=\"color: #000080; text-decoration-color: #000080\">INFO    </span> <span style=\"font-weight: bold\">[</span><span style=\"color: #008080; text-decoration-color: #008080; font-weight: bold\">2</span>/<span style=\"color: #008080; text-decoration-color: #008080; font-weight: bold\">10</span><span style=\"font-weight: bold\">]</span> Retrieving fixtures for ENG-Premier League <span style=\"color: #008080; text-decoration-color: #008080; font-weight: bold\">2425</span>                <a href=\"file://C:\\Users\\acer\\AppData\\Local\\Programs\\Python\\Python312\\Lib\\site-packages\\soccerdata\\whoscored.py\" target=\"_blank\"><span style=\"color: #7f7f7f; text-decoration-color: #7f7f7f\">whoscored.py</span></a><span style=\"color: #7f7f7f; text-decoration-color: #7f7f7f\">:</span><a href=\"file://C:\\Users\\acer\\AppData\\Local\\Programs\\Python\\Python312\\Lib\\site-packages\\soccerdata\\whoscored.py#400\" target=\"_blank\"><span style=\"color: #7f7f7f; text-decoration-color: #7f7f7f\">400</span></a>\n",
       "</pre>\n"
      ],
      "text/plain": [
       "\u001b[2;36m[09/02/24 20:43:10]\u001b[0m\u001b[2;36m \u001b[0m\u001b[34mINFO    \u001b[0m \u001b[1m[\u001b[0m\u001b[1;36m2\u001b[0m/\u001b[1;36m10\u001b[0m\u001b[1m]\u001b[0m Retrieving fixtures for ENG-Premier League \u001b[1;36m2425\u001b[0m                \u001b]8;id=864851;file://C:\\Users\\acer\\AppData\\Local\\Programs\\Python\\Python312\\Lib\\site-packages\\soccerdata\\whoscored.py\u001b\\\u001b[2mwhoscored.py\u001b[0m\u001b]8;;\u001b\\\u001b[2m:\u001b[0m\u001b]8;id=734224;file://C:\\Users\\acer\\AppData\\Local\\Programs\\Python\\Python312\\Lib\\site-packages\\soccerdata\\whoscored.py#400\u001b\\\u001b[2m400\u001b[0m\u001b]8;;\u001b\\\n"
      ]
     },
     "metadata": {},
     "output_type": "display_data"
    },
    {
     "data": {
      "text/html": [
       "<pre style=\"white-space:pre;overflow-x:auto;line-height:normal;font-family:Menlo,'DejaVu Sans Mono',consolas,'Courier New',monospace\"><span style=\"color: #7fbfbf; text-decoration-color: #7fbfbf\">[09/02/24 20:43:17] </span><span style=\"color: #000080; text-decoration-color: #000080\">INFO    </span> <span style=\"font-weight: bold\">[</span><span style=\"color: #008080; text-decoration-color: #008080; font-weight: bold\">3</span>/<span style=\"color: #008080; text-decoration-color: #008080; font-weight: bold\">10</span><span style=\"font-weight: bold\">]</span> Retrieving fixtures for ENG-Premier League <span style=\"color: #008080; text-decoration-color: #008080; font-weight: bold\">2425</span>                <a href=\"file://C:\\Users\\acer\\AppData\\Local\\Programs\\Python\\Python312\\Lib\\site-packages\\soccerdata\\whoscored.py\" target=\"_blank\"><span style=\"color: #7f7f7f; text-decoration-color: #7f7f7f\">whoscored.py</span></a><span style=\"color: #7f7f7f; text-decoration-color: #7f7f7f\">:</span><a href=\"file://C:\\Users\\acer\\AppData\\Local\\Programs\\Python\\Python312\\Lib\\site-packages\\soccerdata\\whoscored.py#400\" target=\"_blank\"><span style=\"color: #7f7f7f; text-decoration-color: #7f7f7f\">400</span></a>\n",
       "</pre>\n"
      ],
      "text/plain": [
       "\u001b[2;36m[09/02/24 20:43:17]\u001b[0m\u001b[2;36m \u001b[0m\u001b[34mINFO    \u001b[0m \u001b[1m[\u001b[0m\u001b[1;36m3\u001b[0m/\u001b[1;36m10\u001b[0m\u001b[1m]\u001b[0m Retrieving fixtures for ENG-Premier League \u001b[1;36m2425\u001b[0m                \u001b]8;id=819097;file://C:\\Users\\acer\\AppData\\Local\\Programs\\Python\\Python312\\Lib\\site-packages\\soccerdata\\whoscored.py\u001b\\\u001b[2mwhoscored.py\u001b[0m\u001b]8;;\u001b\\\u001b[2m:\u001b[0m\u001b]8;id=731320;file://C:\\Users\\acer\\AppData\\Local\\Programs\\Python\\Python312\\Lib\\site-packages\\soccerdata\\whoscored.py#400\u001b\\\u001b[2m400\u001b[0m\u001b]8;;\u001b\\\n"
      ]
     },
     "metadata": {},
     "output_type": "display_data"
    },
    {
     "data": {
      "text/html": [
       "<pre style=\"white-space:pre;overflow-x:auto;line-height:normal;font-family:Menlo,'DejaVu Sans Mono',consolas,'Courier New',monospace\"><span style=\"color: #7fbfbf; text-decoration-color: #7fbfbf\">[09/02/24 20:43:25] </span><span style=\"color: #000080; text-decoration-color: #000080\">INFO    </span> <span style=\"font-weight: bold\">[</span><span style=\"color: #008080; text-decoration-color: #008080; font-weight: bold\">4</span>/<span style=\"color: #008080; text-decoration-color: #008080; font-weight: bold\">10</span><span style=\"font-weight: bold\">]</span> Retrieving fixtures for ENG-Premier League <span style=\"color: #008080; text-decoration-color: #008080; font-weight: bold\">2425</span>                <a href=\"file://C:\\Users\\acer\\AppData\\Local\\Programs\\Python\\Python312\\Lib\\site-packages\\soccerdata\\whoscored.py\" target=\"_blank\"><span style=\"color: #7f7f7f; text-decoration-color: #7f7f7f\">whoscored.py</span></a><span style=\"color: #7f7f7f; text-decoration-color: #7f7f7f\">:</span><a href=\"file://C:\\Users\\acer\\AppData\\Local\\Programs\\Python\\Python312\\Lib\\site-packages\\soccerdata\\whoscored.py#400\" target=\"_blank\"><span style=\"color: #7f7f7f; text-decoration-color: #7f7f7f\">400</span></a>\n",
       "</pre>\n"
      ],
      "text/plain": [
       "\u001b[2;36m[09/02/24 20:43:25]\u001b[0m\u001b[2;36m \u001b[0m\u001b[34mINFO    \u001b[0m \u001b[1m[\u001b[0m\u001b[1;36m4\u001b[0m/\u001b[1;36m10\u001b[0m\u001b[1m]\u001b[0m Retrieving fixtures for ENG-Premier League \u001b[1;36m2425\u001b[0m                \u001b]8;id=421684;file://C:\\Users\\acer\\AppData\\Local\\Programs\\Python\\Python312\\Lib\\site-packages\\soccerdata\\whoscored.py\u001b\\\u001b[2mwhoscored.py\u001b[0m\u001b]8;;\u001b\\\u001b[2m:\u001b[0m\u001b]8;id=70617;file://C:\\Users\\acer\\AppData\\Local\\Programs\\Python\\Python312\\Lib\\site-packages\\soccerdata\\whoscored.py#400\u001b\\\u001b[2m400\u001b[0m\u001b]8;;\u001b\\\n"
      ]
     },
     "metadata": {},
     "output_type": "display_data"
    },
    {
     "data": {
      "text/html": [
       "<pre style=\"white-space:pre;overflow-x:auto;line-height:normal;font-family:Menlo,'DejaVu Sans Mono',consolas,'Courier New',monospace\"><span style=\"color: #7fbfbf; text-decoration-color: #7fbfbf\">[09/02/24 20:43:35] </span><span style=\"color: #000080; text-decoration-color: #000080\">INFO    </span> <span style=\"font-weight: bold\">[</span><span style=\"color: #008080; text-decoration-color: #008080; font-weight: bold\">5</span>/<span style=\"color: #008080; text-decoration-color: #008080; font-weight: bold\">10</span><span style=\"font-weight: bold\">]</span> Retrieving fixtures for ENG-Premier League <span style=\"color: #008080; text-decoration-color: #008080; font-weight: bold\">2425</span>                <a href=\"file://C:\\Users\\acer\\AppData\\Local\\Programs\\Python\\Python312\\Lib\\site-packages\\soccerdata\\whoscored.py\" target=\"_blank\"><span style=\"color: #7f7f7f; text-decoration-color: #7f7f7f\">whoscored.py</span></a><span style=\"color: #7f7f7f; text-decoration-color: #7f7f7f\">:</span><a href=\"file://C:\\Users\\acer\\AppData\\Local\\Programs\\Python\\Python312\\Lib\\site-packages\\soccerdata\\whoscored.py#400\" target=\"_blank\"><span style=\"color: #7f7f7f; text-decoration-color: #7f7f7f\">400</span></a>\n",
       "</pre>\n"
      ],
      "text/plain": [
       "\u001b[2;36m[09/02/24 20:43:35]\u001b[0m\u001b[2;36m \u001b[0m\u001b[34mINFO    \u001b[0m \u001b[1m[\u001b[0m\u001b[1;36m5\u001b[0m/\u001b[1;36m10\u001b[0m\u001b[1m]\u001b[0m Retrieving fixtures for ENG-Premier League \u001b[1;36m2425\u001b[0m                \u001b]8;id=617134;file://C:\\Users\\acer\\AppData\\Local\\Programs\\Python\\Python312\\Lib\\site-packages\\soccerdata\\whoscored.py\u001b\\\u001b[2mwhoscored.py\u001b[0m\u001b]8;;\u001b\\\u001b[2m:\u001b[0m\u001b]8;id=972362;file://C:\\Users\\acer\\AppData\\Local\\Programs\\Python\\Python312\\Lib\\site-packages\\soccerdata\\whoscored.py#400\u001b\\\u001b[2m400\u001b[0m\u001b]8;;\u001b\\\n"
      ]
     },
     "metadata": {},
     "output_type": "display_data"
    },
    {
     "data": {
      "text/html": [
       "<pre style=\"white-space:pre;overflow-x:auto;line-height:normal;font-family:Menlo,'DejaVu Sans Mono',consolas,'Courier New',monospace\"><span style=\"color: #7fbfbf; text-decoration-color: #7fbfbf\">[09/02/24 20:43:42] </span><span style=\"color: #000080; text-decoration-color: #000080\">INFO    </span> <span style=\"font-weight: bold\">[</span><span style=\"color: #008080; text-decoration-color: #008080; font-weight: bold\">6</span>/<span style=\"color: #008080; text-decoration-color: #008080; font-weight: bold\">10</span><span style=\"font-weight: bold\">]</span> Retrieving fixtures for ENG-Premier League <span style=\"color: #008080; text-decoration-color: #008080; font-weight: bold\">2425</span>                <a href=\"file://C:\\Users\\acer\\AppData\\Local\\Programs\\Python\\Python312\\Lib\\site-packages\\soccerdata\\whoscored.py\" target=\"_blank\"><span style=\"color: #7f7f7f; text-decoration-color: #7f7f7f\">whoscored.py</span></a><span style=\"color: #7f7f7f; text-decoration-color: #7f7f7f\">:</span><a href=\"file://C:\\Users\\acer\\AppData\\Local\\Programs\\Python\\Python312\\Lib\\site-packages\\soccerdata\\whoscored.py#400\" target=\"_blank\"><span style=\"color: #7f7f7f; text-decoration-color: #7f7f7f\">400</span></a>\n",
       "</pre>\n"
      ],
      "text/plain": [
       "\u001b[2;36m[09/02/24 20:43:42]\u001b[0m\u001b[2;36m \u001b[0m\u001b[34mINFO    \u001b[0m \u001b[1m[\u001b[0m\u001b[1;36m6\u001b[0m/\u001b[1;36m10\u001b[0m\u001b[1m]\u001b[0m Retrieving fixtures for ENG-Premier League \u001b[1;36m2425\u001b[0m                \u001b]8;id=347032;file://C:\\Users\\acer\\AppData\\Local\\Programs\\Python\\Python312\\Lib\\site-packages\\soccerdata\\whoscored.py\u001b\\\u001b[2mwhoscored.py\u001b[0m\u001b]8;;\u001b\\\u001b[2m:\u001b[0m\u001b]8;id=614190;file://C:\\Users\\acer\\AppData\\Local\\Programs\\Python\\Python312\\Lib\\site-packages\\soccerdata\\whoscored.py#400\u001b\\\u001b[2m400\u001b[0m\u001b]8;;\u001b\\\n"
      ]
     },
     "metadata": {},
     "output_type": "display_data"
    },
    {
     "data": {
      "text/html": [
       "<pre style=\"white-space:pre;overflow-x:auto;line-height:normal;font-family:Menlo,'DejaVu Sans Mono',consolas,'Courier New',monospace\"><span style=\"color: #7fbfbf; text-decoration-color: #7fbfbf\">[09/02/24 20:43:48] </span><span style=\"color: #000080; text-decoration-color: #000080\">INFO    </span> <span style=\"font-weight: bold\">[</span><span style=\"color: #008080; text-decoration-color: #008080; font-weight: bold\">7</span>/<span style=\"color: #008080; text-decoration-color: #008080; font-weight: bold\">10</span><span style=\"font-weight: bold\">]</span> Retrieving fixtures for ENG-Premier League <span style=\"color: #008080; text-decoration-color: #008080; font-weight: bold\">2425</span>                <a href=\"file://C:\\Users\\acer\\AppData\\Local\\Programs\\Python\\Python312\\Lib\\site-packages\\soccerdata\\whoscored.py\" target=\"_blank\"><span style=\"color: #7f7f7f; text-decoration-color: #7f7f7f\">whoscored.py</span></a><span style=\"color: #7f7f7f; text-decoration-color: #7f7f7f\">:</span><a href=\"file://C:\\Users\\acer\\AppData\\Local\\Programs\\Python\\Python312\\Lib\\site-packages\\soccerdata\\whoscored.py#400\" target=\"_blank\"><span style=\"color: #7f7f7f; text-decoration-color: #7f7f7f\">400</span></a>\n",
       "</pre>\n"
      ],
      "text/plain": [
       "\u001b[2;36m[09/02/24 20:43:48]\u001b[0m\u001b[2;36m \u001b[0m\u001b[34mINFO    \u001b[0m \u001b[1m[\u001b[0m\u001b[1;36m7\u001b[0m/\u001b[1;36m10\u001b[0m\u001b[1m]\u001b[0m Retrieving fixtures for ENG-Premier League \u001b[1;36m2425\u001b[0m                \u001b]8;id=663129;file://C:\\Users\\acer\\AppData\\Local\\Programs\\Python\\Python312\\Lib\\site-packages\\soccerdata\\whoscored.py\u001b\\\u001b[2mwhoscored.py\u001b[0m\u001b]8;;\u001b\\\u001b[2m:\u001b[0m\u001b]8;id=485887;file://C:\\Users\\acer\\AppData\\Local\\Programs\\Python\\Python312\\Lib\\site-packages\\soccerdata\\whoscored.py#400\u001b\\\u001b[2m400\u001b[0m\u001b]8;;\u001b\\\n"
      ]
     },
     "metadata": {},
     "output_type": "display_data"
    },
    {
     "data": {
      "text/html": [
       "<pre style=\"white-space:pre;overflow-x:auto;line-height:normal;font-family:Menlo,'DejaVu Sans Mono',consolas,'Courier New',monospace\"><span style=\"color: #7fbfbf; text-decoration-color: #7fbfbf\">[09/02/24 20:43:57] </span><span style=\"color: #000080; text-decoration-color: #000080\">INFO    </span> <span style=\"font-weight: bold\">[</span><span style=\"color: #008080; text-decoration-color: #008080; font-weight: bold\">8</span>/<span style=\"color: #008080; text-decoration-color: #008080; font-weight: bold\">10</span><span style=\"font-weight: bold\">]</span> Retrieving fixtures for ENG-Premier League <span style=\"color: #008080; text-decoration-color: #008080; font-weight: bold\">2425</span>                <a href=\"file://C:\\Users\\acer\\AppData\\Local\\Programs\\Python\\Python312\\Lib\\site-packages\\soccerdata\\whoscored.py\" target=\"_blank\"><span style=\"color: #7f7f7f; text-decoration-color: #7f7f7f\">whoscored.py</span></a><span style=\"color: #7f7f7f; text-decoration-color: #7f7f7f\">:</span><a href=\"file://C:\\Users\\acer\\AppData\\Local\\Programs\\Python\\Python312\\Lib\\site-packages\\soccerdata\\whoscored.py#400\" target=\"_blank\"><span style=\"color: #7f7f7f; text-decoration-color: #7f7f7f\">400</span></a>\n",
       "</pre>\n"
      ],
      "text/plain": [
       "\u001b[2;36m[09/02/24 20:43:57]\u001b[0m\u001b[2;36m \u001b[0m\u001b[34mINFO    \u001b[0m \u001b[1m[\u001b[0m\u001b[1;36m8\u001b[0m/\u001b[1;36m10\u001b[0m\u001b[1m]\u001b[0m Retrieving fixtures for ENG-Premier League \u001b[1;36m2425\u001b[0m                \u001b]8;id=894871;file://C:\\Users\\acer\\AppData\\Local\\Programs\\Python\\Python312\\Lib\\site-packages\\soccerdata\\whoscored.py\u001b\\\u001b[2mwhoscored.py\u001b[0m\u001b]8;;\u001b\\\u001b[2m:\u001b[0m\u001b]8;id=214005;file://C:\\Users\\acer\\AppData\\Local\\Programs\\Python\\Python312\\Lib\\site-packages\\soccerdata\\whoscored.py#400\u001b\\\u001b[2m400\u001b[0m\u001b]8;;\u001b\\\n"
      ]
     },
     "metadata": {},
     "output_type": "display_data"
    },
    {
     "data": {
      "text/html": [
       "<pre style=\"white-space:pre;overflow-x:auto;line-height:normal;font-family:Menlo,'DejaVu Sans Mono',consolas,'Courier New',monospace\"><span style=\"color: #7fbfbf; text-decoration-color: #7fbfbf\">[09/02/24 20:44:04] </span><span style=\"color: #000080; text-decoration-color: #000080\">INFO    </span> <span style=\"font-weight: bold\">[</span><span style=\"color: #008080; text-decoration-color: #008080; font-weight: bold\">9</span>/<span style=\"color: #008080; text-decoration-color: #008080; font-weight: bold\">10</span><span style=\"font-weight: bold\">]</span> Retrieving fixtures for ENG-Premier League <span style=\"color: #008080; text-decoration-color: #008080; font-weight: bold\">2425</span>                <a href=\"file://C:\\Users\\acer\\AppData\\Local\\Programs\\Python\\Python312\\Lib\\site-packages\\soccerdata\\whoscored.py\" target=\"_blank\"><span style=\"color: #7f7f7f; text-decoration-color: #7f7f7f\">whoscored.py</span></a><span style=\"color: #7f7f7f; text-decoration-color: #7f7f7f\">:</span><a href=\"file://C:\\Users\\acer\\AppData\\Local\\Programs\\Python\\Python312\\Lib\\site-packages\\soccerdata\\whoscored.py#400\" target=\"_blank\"><span style=\"color: #7f7f7f; text-decoration-color: #7f7f7f\">400</span></a>\n",
       "</pre>\n"
      ],
      "text/plain": [
       "\u001b[2;36m[09/02/24 20:44:04]\u001b[0m\u001b[2;36m \u001b[0m\u001b[34mINFO    \u001b[0m \u001b[1m[\u001b[0m\u001b[1;36m9\u001b[0m/\u001b[1;36m10\u001b[0m\u001b[1m]\u001b[0m Retrieving fixtures for ENG-Premier League \u001b[1;36m2425\u001b[0m                \u001b]8;id=248960;file://C:\\Users\\acer\\AppData\\Local\\Programs\\Python\\Python312\\Lib\\site-packages\\soccerdata\\whoscored.py\u001b\\\u001b[2mwhoscored.py\u001b[0m\u001b]8;;\u001b\\\u001b[2m:\u001b[0m\u001b]8;id=886538;file://C:\\Users\\acer\\AppData\\Local\\Programs\\Python\\Python312\\Lib\\site-packages\\soccerdata\\whoscored.py#400\u001b\\\u001b[2m400\u001b[0m\u001b]8;;\u001b\\\n"
      ]
     },
     "metadata": {},
     "output_type": "display_data"
    },
    {
     "data": {
      "text/html": [
       "<pre style=\"white-space:pre;overflow-x:auto;line-height:normal;font-family:Menlo,'DejaVu Sans Mono',consolas,'Courier New',monospace\"><span style=\"color: #7fbfbf; text-decoration-color: #7fbfbf\">[09/02/24 20:44:09] </span><span style=\"color: #000080; text-decoration-color: #000080\">INFO    </span> <span style=\"font-weight: bold\">[</span><span style=\"color: #008080; text-decoration-color: #008080; font-weight: bold\">10</span>/<span style=\"color: #008080; text-decoration-color: #008080; font-weight: bold\">10</span><span style=\"font-weight: bold\">]</span> Retrieving fixtures for ENG-Premier League <span style=\"color: #008080; text-decoration-color: #008080; font-weight: bold\">2425</span>               <a href=\"file://C:\\Users\\acer\\AppData\\Local\\Programs\\Python\\Python312\\Lib\\site-packages\\soccerdata\\whoscored.py\" target=\"_blank\"><span style=\"color: #7f7f7f; text-decoration-color: #7f7f7f\">whoscored.py</span></a><span style=\"color: #7f7f7f; text-decoration-color: #7f7f7f\">:</span><a href=\"file://C:\\Users\\acer\\AppData\\Local\\Programs\\Python\\Python312\\Lib\\site-packages\\soccerdata\\whoscored.py#400\" target=\"_blank\"><span style=\"color: #7f7f7f; text-decoration-color: #7f7f7f\">400</span></a>\n",
       "</pre>\n"
      ],
      "text/plain": [
       "\u001b[2;36m[09/02/24 20:44:09]\u001b[0m\u001b[2;36m \u001b[0m\u001b[34mINFO    \u001b[0m \u001b[1m[\u001b[0m\u001b[1;36m10\u001b[0m/\u001b[1;36m10\u001b[0m\u001b[1m]\u001b[0m Retrieving fixtures for ENG-Premier League \u001b[1;36m2425\u001b[0m               \u001b]8;id=649140;file://C:\\Users\\acer\\AppData\\Local\\Programs\\Python\\Python312\\Lib\\site-packages\\soccerdata\\whoscored.py\u001b\\\u001b[2mwhoscored.py\u001b[0m\u001b]8;;\u001b\\\u001b[2m:\u001b[0m\u001b]8;id=6969;file://C:\\Users\\acer\\AppData\\Local\\Programs\\Python\\Python312\\Lib\\site-packages\\soccerdata\\whoscored.py#400\u001b\\\u001b[2m400\u001b[0m\u001b]8;;\u001b\\\n"
      ]
     },
     "metadata": {},
     "output_type": "display_data"
    },
    {
     "name": "stderr",
     "output_type": "stream",
     "text": [
      "C:\\Users\\acer\\AppData\\Local\\Programs\\Python\\Python312\\Lib\\site-packages\\soccerdata\\whoscored.py:424: FutureWarning: The behavior of DataFrame concatenation with empty or all-NA entries is deprecated. In a future version, this will no longer exclude empty or all-NA columns when determining the result dtypes. To retain the old behavior, exclude the relevant entries before the concat operation.\n",
      "  pd.concat(all_schedules)\n"
     ]
    },
    {
     "data": {
      "text/html": [
       "<pre style=\"white-space:pre;overflow-x:auto;line-height:normal;font-family:Menlo,'DejaVu Sans Mono',consolas,'Courier New',monospace\"><span style=\"color: #7fbfbf; text-decoration-color: #7fbfbf\">[09/02/24 20:44:18] </span><span style=\"color: #000080; text-decoration-color: #000080\">INFO    </span> <span style=\"font-weight: bold\">[</span><span style=\"color: #008080; text-decoration-color: #008080; font-weight: bold\">1</span>/<span style=\"color: #008080; text-decoration-color: #008080; font-weight: bold\">1</span><span style=\"font-weight: bold\">]</span> Retrieving game with <span style=\"color: #808000; text-decoration-color: #808000\">id</span>=<span style=\"color: #008080; text-decoration-color: #008080; font-weight: bold\">1821062</span>                                 <a href=\"file://C:\\Users\\acer\\AppData\\Local\\Programs\\Python\\Python312\\Lib\\site-packages\\soccerdata\\whoscored.py\" target=\"_blank\"><span style=\"color: #7f7f7f; text-decoration-color: #7f7f7f\">whoscored.py</span></a><span style=\"color: #7f7f7f; text-decoration-color: #7f7f7f\">:</span><a href=\"file://C:\\Users\\acer\\AppData\\Local\\Programs\\Python\\Python312\\Lib\\site-packages\\soccerdata\\whoscored.py#692\" target=\"_blank\"><span style=\"color: #7f7f7f; text-decoration-color: #7f7f7f\">692</span></a>\n",
       "</pre>\n"
      ],
      "text/plain": [
       "\u001b[2;36m[09/02/24 20:44:18]\u001b[0m\u001b[2;36m \u001b[0m\u001b[34mINFO    \u001b[0m \u001b[1m[\u001b[0m\u001b[1;36m1\u001b[0m/\u001b[1;36m1\u001b[0m\u001b[1m]\u001b[0m Retrieving game with \u001b[33mid\u001b[0m=\u001b[1;36m1821062\u001b[0m                                 \u001b]8;id=656608;file://C:\\Users\\acer\\AppData\\Local\\Programs\\Python\\Python312\\Lib\\site-packages\\soccerdata\\whoscored.py\u001b\\\u001b[2mwhoscored.py\u001b[0m\u001b]8;;\u001b\\\u001b[2m:\u001b[0m\u001b]8;id=115147;file://C:\\Users\\acer\\AppData\\Local\\Programs\\Python\\Python312\\Lib\\site-packages\\soccerdata\\whoscored.py#692\u001b\\\u001b[2m692\u001b[0m\u001b]8;;\u001b\\\n"
      ]
     },
     "metadata": {},
     "output_type": "display_data"
    },
    {
     "data": {
      "text/html": [
       "<pre style=\"white-space:pre;overflow-x:auto;line-height:normal;font-family:Menlo,'DejaVu Sans Mono',consolas,'Courier New',monospace\"><span style=\"color: #7fbfbf; text-decoration-color: #7fbfbf\">[09/02/24 20:44:42] </span><span style=\"color: #000080; text-decoration-color: #000080\">INFO    </span> Retrieving calendar for ENG-Premier League <span style=\"color: #008080; text-decoration-color: #008080; font-weight: bold\">2425</span>                       <a href=\"file://C:\\Users\\acer\\AppData\\Local\\Programs\\Python\\Python312\\Lib\\site-packages\\soccerdata\\whoscored.py\" target=\"_blank\"><span style=\"color: #7f7f7f; text-decoration-color: #7f7f7f\">whoscored.py</span></a><span style=\"color: #7f7f7f; text-decoration-color: #7f7f7f\">:</span><a href=\"file://C:\\Users\\acer\\AppData\\Local\\Programs\\Python\\Python312\\Lib\\site-packages\\soccerdata\\whoscored.py#371\" target=\"_blank\"><span style=\"color: #7f7f7f; text-decoration-color: #7f7f7f\">371</span></a>\n",
       "</pre>\n"
      ],
      "text/plain": [
       "\u001b[2;36m[09/02/24 20:44:42]\u001b[0m\u001b[2;36m \u001b[0m\u001b[34mINFO    \u001b[0m Retrieving calendar for ENG-Premier League \u001b[1;36m2425\u001b[0m                       \u001b]8;id=882313;file://C:\\Users\\acer\\AppData\\Local\\Programs\\Python\\Python312\\Lib\\site-packages\\soccerdata\\whoscored.py\u001b\\\u001b[2mwhoscored.py\u001b[0m\u001b]8;;\u001b\\\u001b[2m:\u001b[0m\u001b]8;id=746727;file://C:\\Users\\acer\\AppData\\Local\\Programs\\Python\\Python312\\Lib\\site-packages\\soccerdata\\whoscored.py#371\u001b\\\u001b[2m371\u001b[0m\u001b]8;;\u001b\\\n"
      ]
     },
     "metadata": {},
     "output_type": "display_data"
    },
    {
     "data": {
      "text/html": [
       "<pre style=\"white-space:pre;overflow-x:auto;line-height:normal;font-family:Menlo,'DejaVu Sans Mono',consolas,'Courier New',monospace\"><span style=\"color: #7fbfbf; text-decoration-color: #7fbfbf\">[09/02/24 20:44:51] </span><span style=\"color: #000080; text-decoration-color: #000080\">INFO    </span> <span style=\"font-weight: bold\">[</span><span style=\"color: #008080; text-decoration-color: #008080; font-weight: bold\">1</span>/<span style=\"color: #008080; text-decoration-color: #008080; font-weight: bold\">10</span><span style=\"font-weight: bold\">]</span> Retrieving fixtures for ENG-Premier League <span style=\"color: #008080; text-decoration-color: #008080; font-weight: bold\">2425</span>                <a href=\"file://C:\\Users\\acer\\AppData\\Local\\Programs\\Python\\Python312\\Lib\\site-packages\\soccerdata\\whoscored.py\" target=\"_blank\"><span style=\"color: #7f7f7f; text-decoration-color: #7f7f7f\">whoscored.py</span></a><span style=\"color: #7f7f7f; text-decoration-color: #7f7f7f\">:</span><a href=\"file://C:\\Users\\acer\\AppData\\Local\\Programs\\Python\\Python312\\Lib\\site-packages\\soccerdata\\whoscored.py#400\" target=\"_blank\"><span style=\"color: #7f7f7f; text-decoration-color: #7f7f7f\">400</span></a>\n",
       "</pre>\n"
      ],
      "text/plain": [
       "\u001b[2;36m[09/02/24 20:44:51]\u001b[0m\u001b[2;36m \u001b[0m\u001b[34mINFO    \u001b[0m \u001b[1m[\u001b[0m\u001b[1;36m1\u001b[0m/\u001b[1;36m10\u001b[0m\u001b[1m]\u001b[0m Retrieving fixtures for ENG-Premier League \u001b[1;36m2425\u001b[0m                \u001b]8;id=260036;file://C:\\Users\\acer\\AppData\\Local\\Programs\\Python\\Python312\\Lib\\site-packages\\soccerdata\\whoscored.py\u001b\\\u001b[2mwhoscored.py\u001b[0m\u001b]8;;\u001b\\\u001b[2m:\u001b[0m\u001b]8;id=604651;file://C:\\Users\\acer\\AppData\\Local\\Programs\\Python\\Python312\\Lib\\site-packages\\soccerdata\\whoscored.py#400\u001b\\\u001b[2m400\u001b[0m\u001b]8;;\u001b\\\n"
      ]
     },
     "metadata": {},
     "output_type": "display_data"
    },
    {
     "data": {
      "text/html": [
       "<pre style=\"white-space:pre;overflow-x:auto;line-height:normal;font-family:Menlo,'DejaVu Sans Mono',consolas,'Courier New',monospace\"><span style=\"color: #7fbfbf; text-decoration-color: #7fbfbf\">[09/02/24 20:44:58] </span><span style=\"color: #000080; text-decoration-color: #000080\">INFO    </span> <span style=\"font-weight: bold\">[</span><span style=\"color: #008080; text-decoration-color: #008080; font-weight: bold\">2</span>/<span style=\"color: #008080; text-decoration-color: #008080; font-weight: bold\">10</span><span style=\"font-weight: bold\">]</span> Retrieving fixtures for ENG-Premier League <span style=\"color: #008080; text-decoration-color: #008080; font-weight: bold\">2425</span>                <a href=\"file://C:\\Users\\acer\\AppData\\Local\\Programs\\Python\\Python312\\Lib\\site-packages\\soccerdata\\whoscored.py\" target=\"_blank\"><span style=\"color: #7f7f7f; text-decoration-color: #7f7f7f\">whoscored.py</span></a><span style=\"color: #7f7f7f; text-decoration-color: #7f7f7f\">:</span><a href=\"file://C:\\Users\\acer\\AppData\\Local\\Programs\\Python\\Python312\\Lib\\site-packages\\soccerdata\\whoscored.py#400\" target=\"_blank\"><span style=\"color: #7f7f7f; text-decoration-color: #7f7f7f\">400</span></a>\n",
       "</pre>\n"
      ],
      "text/plain": [
       "\u001b[2;36m[09/02/24 20:44:58]\u001b[0m\u001b[2;36m \u001b[0m\u001b[34mINFO    \u001b[0m \u001b[1m[\u001b[0m\u001b[1;36m2\u001b[0m/\u001b[1;36m10\u001b[0m\u001b[1m]\u001b[0m Retrieving fixtures for ENG-Premier League \u001b[1;36m2425\u001b[0m                \u001b]8;id=297451;file://C:\\Users\\acer\\AppData\\Local\\Programs\\Python\\Python312\\Lib\\site-packages\\soccerdata\\whoscored.py\u001b\\\u001b[2mwhoscored.py\u001b[0m\u001b]8;;\u001b\\\u001b[2m:\u001b[0m\u001b]8;id=782887;file://C:\\Users\\acer\\AppData\\Local\\Programs\\Python\\Python312\\Lib\\site-packages\\soccerdata\\whoscored.py#400\u001b\\\u001b[2m400\u001b[0m\u001b]8;;\u001b\\\n"
      ]
     },
     "metadata": {},
     "output_type": "display_data"
    },
    {
     "data": {
      "text/html": [
       "<pre style=\"white-space:pre;overflow-x:auto;line-height:normal;font-family:Menlo,'DejaVu Sans Mono',consolas,'Courier New',monospace\"><span style=\"color: #7fbfbf; text-decoration-color: #7fbfbf\">[09/02/24 20:45:07] </span><span style=\"color: #000080; text-decoration-color: #000080\">INFO    </span> <span style=\"font-weight: bold\">[</span><span style=\"color: #008080; text-decoration-color: #008080; font-weight: bold\">3</span>/<span style=\"color: #008080; text-decoration-color: #008080; font-weight: bold\">10</span><span style=\"font-weight: bold\">]</span> Retrieving fixtures for ENG-Premier League <span style=\"color: #008080; text-decoration-color: #008080; font-weight: bold\">2425</span>                <a href=\"file://C:\\Users\\acer\\AppData\\Local\\Programs\\Python\\Python312\\Lib\\site-packages\\soccerdata\\whoscored.py\" target=\"_blank\"><span style=\"color: #7f7f7f; text-decoration-color: #7f7f7f\">whoscored.py</span></a><span style=\"color: #7f7f7f; text-decoration-color: #7f7f7f\">:</span><a href=\"file://C:\\Users\\acer\\AppData\\Local\\Programs\\Python\\Python312\\Lib\\site-packages\\soccerdata\\whoscored.py#400\" target=\"_blank\"><span style=\"color: #7f7f7f; text-decoration-color: #7f7f7f\">400</span></a>\n",
       "</pre>\n"
      ],
      "text/plain": [
       "\u001b[2;36m[09/02/24 20:45:07]\u001b[0m\u001b[2;36m \u001b[0m\u001b[34mINFO    \u001b[0m \u001b[1m[\u001b[0m\u001b[1;36m3\u001b[0m/\u001b[1;36m10\u001b[0m\u001b[1m]\u001b[0m Retrieving fixtures for ENG-Premier League \u001b[1;36m2425\u001b[0m                \u001b]8;id=640936;file://C:\\Users\\acer\\AppData\\Local\\Programs\\Python\\Python312\\Lib\\site-packages\\soccerdata\\whoscored.py\u001b\\\u001b[2mwhoscored.py\u001b[0m\u001b]8;;\u001b\\\u001b[2m:\u001b[0m\u001b]8;id=424660;file://C:\\Users\\acer\\AppData\\Local\\Programs\\Python\\Python312\\Lib\\site-packages\\soccerdata\\whoscored.py#400\u001b\\\u001b[2m400\u001b[0m\u001b]8;;\u001b\\\n"
      ]
     },
     "metadata": {},
     "output_type": "display_data"
    },
    {
     "data": {
      "text/html": [
       "<pre style=\"white-space:pre;overflow-x:auto;line-height:normal;font-family:Menlo,'DejaVu Sans Mono',consolas,'Courier New',monospace\"><span style=\"color: #7fbfbf; text-decoration-color: #7fbfbf\">[09/02/24 20:45:15] </span><span style=\"color: #000080; text-decoration-color: #000080\">INFO    </span> <span style=\"font-weight: bold\">[</span><span style=\"color: #008080; text-decoration-color: #008080; font-weight: bold\">4</span>/<span style=\"color: #008080; text-decoration-color: #008080; font-weight: bold\">10</span><span style=\"font-weight: bold\">]</span> Retrieving fixtures for ENG-Premier League <span style=\"color: #008080; text-decoration-color: #008080; font-weight: bold\">2425</span>                <a href=\"file://C:\\Users\\acer\\AppData\\Local\\Programs\\Python\\Python312\\Lib\\site-packages\\soccerdata\\whoscored.py\" target=\"_blank\"><span style=\"color: #7f7f7f; text-decoration-color: #7f7f7f\">whoscored.py</span></a><span style=\"color: #7f7f7f; text-decoration-color: #7f7f7f\">:</span><a href=\"file://C:\\Users\\acer\\AppData\\Local\\Programs\\Python\\Python312\\Lib\\site-packages\\soccerdata\\whoscored.py#400\" target=\"_blank\"><span style=\"color: #7f7f7f; text-decoration-color: #7f7f7f\">400</span></a>\n",
       "</pre>\n"
      ],
      "text/plain": [
       "\u001b[2;36m[09/02/24 20:45:15]\u001b[0m\u001b[2;36m \u001b[0m\u001b[34mINFO    \u001b[0m \u001b[1m[\u001b[0m\u001b[1;36m4\u001b[0m/\u001b[1;36m10\u001b[0m\u001b[1m]\u001b[0m Retrieving fixtures for ENG-Premier League \u001b[1;36m2425\u001b[0m                \u001b]8;id=156620;file://C:\\Users\\acer\\AppData\\Local\\Programs\\Python\\Python312\\Lib\\site-packages\\soccerdata\\whoscored.py\u001b\\\u001b[2mwhoscored.py\u001b[0m\u001b]8;;\u001b\\\u001b[2m:\u001b[0m\u001b]8;id=107806;file://C:\\Users\\acer\\AppData\\Local\\Programs\\Python\\Python312\\Lib\\site-packages\\soccerdata\\whoscored.py#400\u001b\\\u001b[2m400\u001b[0m\u001b]8;;\u001b\\\n"
      ]
     },
     "metadata": {},
     "output_type": "display_data"
    },
    {
     "data": {
      "text/html": [
       "<pre style=\"white-space:pre;overflow-x:auto;line-height:normal;font-family:Menlo,'DejaVu Sans Mono',consolas,'Courier New',monospace\"><span style=\"color: #7fbfbf; text-decoration-color: #7fbfbf\">[09/02/24 20:45:25] </span><span style=\"color: #000080; text-decoration-color: #000080\">INFO    </span> <span style=\"font-weight: bold\">[</span><span style=\"color: #008080; text-decoration-color: #008080; font-weight: bold\">5</span>/<span style=\"color: #008080; text-decoration-color: #008080; font-weight: bold\">10</span><span style=\"font-weight: bold\">]</span> Retrieving fixtures for ENG-Premier League <span style=\"color: #008080; text-decoration-color: #008080; font-weight: bold\">2425</span>                <a href=\"file://C:\\Users\\acer\\AppData\\Local\\Programs\\Python\\Python312\\Lib\\site-packages\\soccerdata\\whoscored.py\" target=\"_blank\"><span style=\"color: #7f7f7f; text-decoration-color: #7f7f7f\">whoscored.py</span></a><span style=\"color: #7f7f7f; text-decoration-color: #7f7f7f\">:</span><a href=\"file://C:\\Users\\acer\\AppData\\Local\\Programs\\Python\\Python312\\Lib\\site-packages\\soccerdata\\whoscored.py#400\" target=\"_blank\"><span style=\"color: #7f7f7f; text-decoration-color: #7f7f7f\">400</span></a>\n",
       "</pre>\n"
      ],
      "text/plain": [
       "\u001b[2;36m[09/02/24 20:45:25]\u001b[0m\u001b[2;36m \u001b[0m\u001b[34mINFO    \u001b[0m \u001b[1m[\u001b[0m\u001b[1;36m5\u001b[0m/\u001b[1;36m10\u001b[0m\u001b[1m]\u001b[0m Retrieving fixtures for ENG-Premier League \u001b[1;36m2425\u001b[0m                \u001b]8;id=936542;file://C:\\Users\\acer\\AppData\\Local\\Programs\\Python\\Python312\\Lib\\site-packages\\soccerdata\\whoscored.py\u001b\\\u001b[2mwhoscored.py\u001b[0m\u001b]8;;\u001b\\\u001b[2m:\u001b[0m\u001b]8;id=405405;file://C:\\Users\\acer\\AppData\\Local\\Programs\\Python\\Python312\\Lib\\site-packages\\soccerdata\\whoscored.py#400\u001b\\\u001b[2m400\u001b[0m\u001b]8;;\u001b\\\n"
      ]
     },
     "metadata": {},
     "output_type": "display_data"
    },
    {
     "data": {
      "text/html": [
       "<pre style=\"white-space:pre;overflow-x:auto;line-height:normal;font-family:Menlo,'DejaVu Sans Mono',consolas,'Courier New',monospace\"><span style=\"color: #7fbfbf; text-decoration-color: #7fbfbf\">[09/02/24 20:45:31] </span><span style=\"color: #000080; text-decoration-color: #000080\">INFO    </span> <span style=\"font-weight: bold\">[</span><span style=\"color: #008080; text-decoration-color: #008080; font-weight: bold\">6</span>/<span style=\"color: #008080; text-decoration-color: #008080; font-weight: bold\">10</span><span style=\"font-weight: bold\">]</span> Retrieving fixtures for ENG-Premier League <span style=\"color: #008080; text-decoration-color: #008080; font-weight: bold\">2425</span>                <a href=\"file://C:\\Users\\acer\\AppData\\Local\\Programs\\Python\\Python312\\Lib\\site-packages\\soccerdata\\whoscored.py\" target=\"_blank\"><span style=\"color: #7f7f7f; text-decoration-color: #7f7f7f\">whoscored.py</span></a><span style=\"color: #7f7f7f; text-decoration-color: #7f7f7f\">:</span><a href=\"file://C:\\Users\\acer\\AppData\\Local\\Programs\\Python\\Python312\\Lib\\site-packages\\soccerdata\\whoscored.py#400\" target=\"_blank\"><span style=\"color: #7f7f7f; text-decoration-color: #7f7f7f\">400</span></a>\n",
       "</pre>\n"
      ],
      "text/plain": [
       "\u001b[2;36m[09/02/24 20:45:31]\u001b[0m\u001b[2;36m \u001b[0m\u001b[34mINFO    \u001b[0m \u001b[1m[\u001b[0m\u001b[1;36m6\u001b[0m/\u001b[1;36m10\u001b[0m\u001b[1m]\u001b[0m Retrieving fixtures for ENG-Premier League \u001b[1;36m2425\u001b[0m                \u001b]8;id=284736;file://C:\\Users\\acer\\AppData\\Local\\Programs\\Python\\Python312\\Lib\\site-packages\\soccerdata\\whoscored.py\u001b\\\u001b[2mwhoscored.py\u001b[0m\u001b]8;;\u001b\\\u001b[2m:\u001b[0m\u001b]8;id=98389;file://C:\\Users\\acer\\AppData\\Local\\Programs\\Python\\Python312\\Lib\\site-packages\\soccerdata\\whoscored.py#400\u001b\\\u001b[2m400\u001b[0m\u001b]8;;\u001b\\\n"
      ]
     },
     "metadata": {},
     "output_type": "display_data"
    },
    {
     "data": {
      "text/html": [
       "<pre style=\"white-space:pre;overflow-x:auto;line-height:normal;font-family:Menlo,'DejaVu Sans Mono',consolas,'Courier New',monospace\"><span style=\"color: #7fbfbf; text-decoration-color: #7fbfbf\">[09/02/24 20:45:40] </span><span style=\"color: #000080; text-decoration-color: #000080\">INFO    </span> <span style=\"font-weight: bold\">[</span><span style=\"color: #008080; text-decoration-color: #008080; font-weight: bold\">7</span>/<span style=\"color: #008080; text-decoration-color: #008080; font-weight: bold\">10</span><span style=\"font-weight: bold\">]</span> Retrieving fixtures for ENG-Premier League <span style=\"color: #008080; text-decoration-color: #008080; font-weight: bold\">2425</span>                <a href=\"file://C:\\Users\\acer\\AppData\\Local\\Programs\\Python\\Python312\\Lib\\site-packages\\soccerdata\\whoscored.py\" target=\"_blank\"><span style=\"color: #7f7f7f; text-decoration-color: #7f7f7f\">whoscored.py</span></a><span style=\"color: #7f7f7f; text-decoration-color: #7f7f7f\">:</span><a href=\"file://C:\\Users\\acer\\AppData\\Local\\Programs\\Python\\Python312\\Lib\\site-packages\\soccerdata\\whoscored.py#400\" target=\"_blank\"><span style=\"color: #7f7f7f; text-decoration-color: #7f7f7f\">400</span></a>\n",
       "</pre>\n"
      ],
      "text/plain": [
       "\u001b[2;36m[09/02/24 20:45:40]\u001b[0m\u001b[2;36m \u001b[0m\u001b[34mINFO    \u001b[0m \u001b[1m[\u001b[0m\u001b[1;36m7\u001b[0m/\u001b[1;36m10\u001b[0m\u001b[1m]\u001b[0m Retrieving fixtures for ENG-Premier League \u001b[1;36m2425\u001b[0m                \u001b]8;id=31383;file://C:\\Users\\acer\\AppData\\Local\\Programs\\Python\\Python312\\Lib\\site-packages\\soccerdata\\whoscored.py\u001b\\\u001b[2mwhoscored.py\u001b[0m\u001b]8;;\u001b\\\u001b[2m:\u001b[0m\u001b]8;id=34819;file://C:\\Users\\acer\\AppData\\Local\\Programs\\Python\\Python312\\Lib\\site-packages\\soccerdata\\whoscored.py#400\u001b\\\u001b[2m400\u001b[0m\u001b]8;;\u001b\\\n"
      ]
     },
     "metadata": {},
     "output_type": "display_data"
    },
    {
     "data": {
      "text/html": [
       "<pre style=\"white-space:pre;overflow-x:auto;line-height:normal;font-family:Menlo,'DejaVu Sans Mono',consolas,'Courier New',monospace\"><span style=\"color: #7fbfbf; text-decoration-color: #7fbfbf\">[09/02/24 20:45:50] </span><span style=\"color: #000080; text-decoration-color: #000080\">INFO    </span> <span style=\"font-weight: bold\">[</span><span style=\"color: #008080; text-decoration-color: #008080; font-weight: bold\">8</span>/<span style=\"color: #008080; text-decoration-color: #008080; font-weight: bold\">10</span><span style=\"font-weight: bold\">]</span> Retrieving fixtures for ENG-Premier League <span style=\"color: #008080; text-decoration-color: #008080; font-weight: bold\">2425</span>                <a href=\"file://C:\\Users\\acer\\AppData\\Local\\Programs\\Python\\Python312\\Lib\\site-packages\\soccerdata\\whoscored.py\" target=\"_blank\"><span style=\"color: #7f7f7f; text-decoration-color: #7f7f7f\">whoscored.py</span></a><span style=\"color: #7f7f7f; text-decoration-color: #7f7f7f\">:</span><a href=\"file://C:\\Users\\acer\\AppData\\Local\\Programs\\Python\\Python312\\Lib\\site-packages\\soccerdata\\whoscored.py#400\" target=\"_blank\"><span style=\"color: #7f7f7f; text-decoration-color: #7f7f7f\">400</span></a>\n",
       "</pre>\n"
      ],
      "text/plain": [
       "\u001b[2;36m[09/02/24 20:45:50]\u001b[0m\u001b[2;36m \u001b[0m\u001b[34mINFO    \u001b[0m \u001b[1m[\u001b[0m\u001b[1;36m8\u001b[0m/\u001b[1;36m10\u001b[0m\u001b[1m]\u001b[0m Retrieving fixtures for ENG-Premier League \u001b[1;36m2425\u001b[0m                \u001b]8;id=227891;file://C:\\Users\\acer\\AppData\\Local\\Programs\\Python\\Python312\\Lib\\site-packages\\soccerdata\\whoscored.py\u001b\\\u001b[2mwhoscored.py\u001b[0m\u001b]8;;\u001b\\\u001b[2m:\u001b[0m\u001b]8;id=764294;file://C:\\Users\\acer\\AppData\\Local\\Programs\\Python\\Python312\\Lib\\site-packages\\soccerdata\\whoscored.py#400\u001b\\\u001b[2m400\u001b[0m\u001b]8;;\u001b\\\n"
      ]
     },
     "metadata": {},
     "output_type": "display_data"
    },
    {
     "data": {
      "text/html": [
       "<pre style=\"white-space:pre;overflow-x:auto;line-height:normal;font-family:Menlo,'DejaVu Sans Mono',consolas,'Courier New',monospace\"><span style=\"color: #7fbfbf; text-decoration-color: #7fbfbf\">[09/02/24 20:45:58] </span><span style=\"color: #000080; text-decoration-color: #000080\">INFO    </span> <span style=\"font-weight: bold\">[</span><span style=\"color: #008080; text-decoration-color: #008080; font-weight: bold\">9</span>/<span style=\"color: #008080; text-decoration-color: #008080; font-weight: bold\">10</span><span style=\"font-weight: bold\">]</span> Retrieving fixtures for ENG-Premier League <span style=\"color: #008080; text-decoration-color: #008080; font-weight: bold\">2425</span>                <a href=\"file://C:\\Users\\acer\\AppData\\Local\\Programs\\Python\\Python312\\Lib\\site-packages\\soccerdata\\whoscored.py\" target=\"_blank\"><span style=\"color: #7f7f7f; text-decoration-color: #7f7f7f\">whoscored.py</span></a><span style=\"color: #7f7f7f; text-decoration-color: #7f7f7f\">:</span><a href=\"file://C:\\Users\\acer\\AppData\\Local\\Programs\\Python\\Python312\\Lib\\site-packages\\soccerdata\\whoscored.py#400\" target=\"_blank\"><span style=\"color: #7f7f7f; text-decoration-color: #7f7f7f\">400</span></a>\n",
       "</pre>\n"
      ],
      "text/plain": [
       "\u001b[2;36m[09/02/24 20:45:58]\u001b[0m\u001b[2;36m \u001b[0m\u001b[34mINFO    \u001b[0m \u001b[1m[\u001b[0m\u001b[1;36m9\u001b[0m/\u001b[1;36m10\u001b[0m\u001b[1m]\u001b[0m Retrieving fixtures for ENG-Premier League \u001b[1;36m2425\u001b[0m                \u001b]8;id=917855;file://C:\\Users\\acer\\AppData\\Local\\Programs\\Python\\Python312\\Lib\\site-packages\\soccerdata\\whoscored.py\u001b\\\u001b[2mwhoscored.py\u001b[0m\u001b]8;;\u001b\\\u001b[2m:\u001b[0m\u001b]8;id=163281;file://C:\\Users\\acer\\AppData\\Local\\Programs\\Python\\Python312\\Lib\\site-packages\\soccerdata\\whoscored.py#400\u001b\\\u001b[2m400\u001b[0m\u001b]8;;\u001b\\\n"
      ]
     },
     "metadata": {},
     "output_type": "display_data"
    },
    {
     "data": {
      "text/html": [
       "<pre style=\"white-space:pre;overflow-x:auto;line-height:normal;font-family:Menlo,'DejaVu Sans Mono',consolas,'Courier New',monospace\"><span style=\"color: #7fbfbf; text-decoration-color: #7fbfbf\">[09/02/24 20:46:04] </span><span style=\"color: #000080; text-decoration-color: #000080\">INFO    </span> <span style=\"font-weight: bold\">[</span><span style=\"color: #008080; text-decoration-color: #008080; font-weight: bold\">10</span>/<span style=\"color: #008080; text-decoration-color: #008080; font-weight: bold\">10</span><span style=\"font-weight: bold\">]</span> Retrieving fixtures for ENG-Premier League <span style=\"color: #008080; text-decoration-color: #008080; font-weight: bold\">2425</span>               <a href=\"file://C:\\Users\\acer\\AppData\\Local\\Programs\\Python\\Python312\\Lib\\site-packages\\soccerdata\\whoscored.py\" target=\"_blank\"><span style=\"color: #7f7f7f; text-decoration-color: #7f7f7f\">whoscored.py</span></a><span style=\"color: #7f7f7f; text-decoration-color: #7f7f7f\">:</span><a href=\"file://C:\\Users\\acer\\AppData\\Local\\Programs\\Python\\Python312\\Lib\\site-packages\\soccerdata\\whoscored.py#400\" target=\"_blank\"><span style=\"color: #7f7f7f; text-decoration-color: #7f7f7f\">400</span></a>\n",
       "</pre>\n"
      ],
      "text/plain": [
       "\u001b[2;36m[09/02/24 20:46:04]\u001b[0m\u001b[2;36m \u001b[0m\u001b[34mINFO    \u001b[0m \u001b[1m[\u001b[0m\u001b[1;36m10\u001b[0m/\u001b[1;36m10\u001b[0m\u001b[1m]\u001b[0m Retrieving fixtures for ENG-Premier League \u001b[1;36m2425\u001b[0m               \u001b]8;id=474030;file://C:\\Users\\acer\\AppData\\Local\\Programs\\Python\\Python312\\Lib\\site-packages\\soccerdata\\whoscored.py\u001b\\\u001b[2mwhoscored.py\u001b[0m\u001b]8;;\u001b\\\u001b[2m:\u001b[0m\u001b]8;id=951369;file://C:\\Users\\acer\\AppData\\Local\\Programs\\Python\\Python312\\Lib\\site-packages\\soccerdata\\whoscored.py#400\u001b\\\u001b[2m400\u001b[0m\u001b]8;;\u001b\\\n"
      ]
     },
     "metadata": {},
     "output_type": "display_data"
    },
    {
     "name": "stderr",
     "output_type": "stream",
     "text": [
      "C:\\Users\\acer\\AppData\\Local\\Programs\\Python\\Python312\\Lib\\site-packages\\soccerdata\\whoscored.py:424: FutureWarning: The behavior of DataFrame concatenation with empty or all-NA entries is deprecated. In a future version, this will no longer exclude empty or all-NA columns when determining the result dtypes. To retain the old behavior, exclude the relevant entries before the concat operation.\n",
      "  pd.concat(all_schedules)\n"
     ]
    },
    {
     "data": {
      "text/html": [
       "<pre style=\"white-space:pre;overflow-x:auto;line-height:normal;font-family:Menlo,'DejaVu Sans Mono',consolas,'Courier New',monospace\"><span style=\"color: #7fbfbf; text-decoration-color: #7fbfbf\">[09/02/24 20:46:15] </span><span style=\"color: #000080; text-decoration-color: #000080\">INFO    </span> <span style=\"font-weight: bold\">[</span><span style=\"color: #008080; text-decoration-color: #008080; font-weight: bold\">1</span>/<span style=\"color: #008080; text-decoration-color: #008080; font-weight: bold\">1</span><span style=\"font-weight: bold\">]</span> Retrieving game with <span style=\"color: #808000; text-decoration-color: #808000\">id</span>=<span style=\"color: #008080; text-decoration-color: #008080; font-weight: bold\">1821063</span>                                 <a href=\"file://C:\\Users\\acer\\AppData\\Local\\Programs\\Python\\Python312\\Lib\\site-packages\\soccerdata\\whoscored.py\" target=\"_blank\"><span style=\"color: #7f7f7f; text-decoration-color: #7f7f7f\">whoscored.py</span></a><span style=\"color: #7f7f7f; text-decoration-color: #7f7f7f\">:</span><a href=\"file://C:\\Users\\acer\\AppData\\Local\\Programs\\Python\\Python312\\Lib\\site-packages\\soccerdata\\whoscored.py#692\" target=\"_blank\"><span style=\"color: #7f7f7f; text-decoration-color: #7f7f7f\">692</span></a>\n",
       "</pre>\n"
      ],
      "text/plain": [
       "\u001b[2;36m[09/02/24 20:46:15]\u001b[0m\u001b[2;36m \u001b[0m\u001b[34mINFO    \u001b[0m \u001b[1m[\u001b[0m\u001b[1;36m1\u001b[0m/\u001b[1;36m1\u001b[0m\u001b[1m]\u001b[0m Retrieving game with \u001b[33mid\u001b[0m=\u001b[1;36m1821063\u001b[0m                                 \u001b]8;id=835622;file://C:\\Users\\acer\\AppData\\Local\\Programs\\Python\\Python312\\Lib\\site-packages\\soccerdata\\whoscored.py\u001b\\\u001b[2mwhoscored.py\u001b[0m\u001b]8;;\u001b\\\u001b[2m:\u001b[0m\u001b]8;id=554994;file://C:\\Users\\acer\\AppData\\Local\\Programs\\Python\\Python312\\Lib\\site-packages\\soccerdata\\whoscored.py#692\u001b\\\u001b[2m692\u001b[0m\u001b]8;;\u001b\\\n"
      ]
     },
     "metadata": {},
     "output_type": "display_data"
    },
    {
     "data": {
      "text/html": [
       "<pre style=\"white-space:pre;overflow-x:auto;line-height:normal;font-family:Menlo,'DejaVu Sans Mono',consolas,'Courier New',monospace\"><span style=\"color: #7fbfbf; text-decoration-color: #7fbfbf\">[09/02/24 20:46:37] </span><span style=\"color: #000080; text-decoration-color: #000080\">INFO    </span> Retrieving calendar for ENG-Premier League <span style=\"color: #008080; text-decoration-color: #008080; font-weight: bold\">2425</span>                       <a href=\"file://C:\\Users\\acer\\AppData\\Local\\Programs\\Python\\Python312\\Lib\\site-packages\\soccerdata\\whoscored.py\" target=\"_blank\"><span style=\"color: #7f7f7f; text-decoration-color: #7f7f7f\">whoscored.py</span></a><span style=\"color: #7f7f7f; text-decoration-color: #7f7f7f\">:</span><a href=\"file://C:\\Users\\acer\\AppData\\Local\\Programs\\Python\\Python312\\Lib\\site-packages\\soccerdata\\whoscored.py#371\" target=\"_blank\"><span style=\"color: #7f7f7f; text-decoration-color: #7f7f7f\">371</span></a>\n",
       "</pre>\n"
      ],
      "text/plain": [
       "\u001b[2;36m[09/02/24 20:46:37]\u001b[0m\u001b[2;36m \u001b[0m\u001b[34mINFO    \u001b[0m Retrieving calendar for ENG-Premier League \u001b[1;36m2425\u001b[0m                       \u001b]8;id=476042;file://C:\\Users\\acer\\AppData\\Local\\Programs\\Python\\Python312\\Lib\\site-packages\\soccerdata\\whoscored.py\u001b\\\u001b[2mwhoscored.py\u001b[0m\u001b]8;;\u001b\\\u001b[2m:\u001b[0m\u001b]8;id=93505;file://C:\\Users\\acer\\AppData\\Local\\Programs\\Python\\Python312\\Lib\\site-packages\\soccerdata\\whoscored.py#371\u001b\\\u001b[2m371\u001b[0m\u001b]8;;\u001b\\\n"
      ]
     },
     "metadata": {},
     "output_type": "display_data"
    },
    {
     "data": {
      "text/html": [
       "<pre style=\"white-space:pre;overflow-x:auto;line-height:normal;font-family:Menlo,'DejaVu Sans Mono',consolas,'Courier New',monospace\"><span style=\"color: #7fbfbf; text-decoration-color: #7fbfbf\">[09/02/24 20:46:47] </span><span style=\"color: #000080; text-decoration-color: #000080\">INFO    </span> <span style=\"font-weight: bold\">[</span><span style=\"color: #008080; text-decoration-color: #008080; font-weight: bold\">1</span>/<span style=\"color: #008080; text-decoration-color: #008080; font-weight: bold\">10</span><span style=\"font-weight: bold\">]</span> Retrieving fixtures for ENG-Premier League <span style=\"color: #008080; text-decoration-color: #008080; font-weight: bold\">2425</span>                <a href=\"file://C:\\Users\\acer\\AppData\\Local\\Programs\\Python\\Python312\\Lib\\site-packages\\soccerdata\\whoscored.py\" target=\"_blank\"><span style=\"color: #7f7f7f; text-decoration-color: #7f7f7f\">whoscored.py</span></a><span style=\"color: #7f7f7f; text-decoration-color: #7f7f7f\">:</span><a href=\"file://C:\\Users\\acer\\AppData\\Local\\Programs\\Python\\Python312\\Lib\\site-packages\\soccerdata\\whoscored.py#400\" target=\"_blank\"><span style=\"color: #7f7f7f; text-decoration-color: #7f7f7f\">400</span></a>\n",
       "</pre>\n"
      ],
      "text/plain": [
       "\u001b[2;36m[09/02/24 20:46:47]\u001b[0m\u001b[2;36m \u001b[0m\u001b[34mINFO    \u001b[0m \u001b[1m[\u001b[0m\u001b[1;36m1\u001b[0m/\u001b[1;36m10\u001b[0m\u001b[1m]\u001b[0m Retrieving fixtures for ENG-Premier League \u001b[1;36m2425\u001b[0m                \u001b]8;id=478530;file://C:\\Users\\acer\\AppData\\Local\\Programs\\Python\\Python312\\Lib\\site-packages\\soccerdata\\whoscored.py\u001b\\\u001b[2mwhoscored.py\u001b[0m\u001b]8;;\u001b\\\u001b[2m:\u001b[0m\u001b]8;id=651403;file://C:\\Users\\acer\\AppData\\Local\\Programs\\Python\\Python312\\Lib\\site-packages\\soccerdata\\whoscored.py#400\u001b\\\u001b[2m400\u001b[0m\u001b]8;;\u001b\\\n"
      ]
     },
     "metadata": {},
     "output_type": "display_data"
    },
    {
     "data": {
      "text/html": [
       "<pre style=\"white-space:pre;overflow-x:auto;line-height:normal;font-family:Menlo,'DejaVu Sans Mono',consolas,'Courier New',monospace\"><span style=\"color: #7fbfbf; text-decoration-color: #7fbfbf\">[09/02/24 20:46:53] </span><span style=\"color: #000080; text-decoration-color: #000080\">INFO    </span> <span style=\"font-weight: bold\">[</span><span style=\"color: #008080; text-decoration-color: #008080; font-weight: bold\">2</span>/<span style=\"color: #008080; text-decoration-color: #008080; font-weight: bold\">10</span><span style=\"font-weight: bold\">]</span> Retrieving fixtures for ENG-Premier League <span style=\"color: #008080; text-decoration-color: #008080; font-weight: bold\">2425</span>                <a href=\"file://C:\\Users\\acer\\AppData\\Local\\Programs\\Python\\Python312\\Lib\\site-packages\\soccerdata\\whoscored.py\" target=\"_blank\"><span style=\"color: #7f7f7f; text-decoration-color: #7f7f7f\">whoscored.py</span></a><span style=\"color: #7f7f7f; text-decoration-color: #7f7f7f\">:</span><a href=\"file://C:\\Users\\acer\\AppData\\Local\\Programs\\Python\\Python312\\Lib\\site-packages\\soccerdata\\whoscored.py#400\" target=\"_blank\"><span style=\"color: #7f7f7f; text-decoration-color: #7f7f7f\">400</span></a>\n",
       "</pre>\n"
      ],
      "text/plain": [
       "\u001b[2;36m[09/02/24 20:46:53]\u001b[0m\u001b[2;36m \u001b[0m\u001b[34mINFO    \u001b[0m \u001b[1m[\u001b[0m\u001b[1;36m2\u001b[0m/\u001b[1;36m10\u001b[0m\u001b[1m]\u001b[0m Retrieving fixtures for ENG-Premier League \u001b[1;36m2425\u001b[0m                \u001b]8;id=756340;file://C:\\Users\\acer\\AppData\\Local\\Programs\\Python\\Python312\\Lib\\site-packages\\soccerdata\\whoscored.py\u001b\\\u001b[2mwhoscored.py\u001b[0m\u001b]8;;\u001b\\\u001b[2m:\u001b[0m\u001b]8;id=331531;file://C:\\Users\\acer\\AppData\\Local\\Programs\\Python\\Python312\\Lib\\site-packages\\soccerdata\\whoscored.py#400\u001b\\\u001b[2m400\u001b[0m\u001b]8;;\u001b\\\n"
      ]
     },
     "metadata": {},
     "output_type": "display_data"
    },
    {
     "data": {
      "text/html": [
       "<pre style=\"white-space:pre;overflow-x:auto;line-height:normal;font-family:Menlo,'DejaVu Sans Mono',consolas,'Courier New',monospace\"><span style=\"color: #7fbfbf; text-decoration-color: #7fbfbf\">[09/02/24 20:47:01] </span><span style=\"color: #000080; text-decoration-color: #000080\">INFO    </span> <span style=\"font-weight: bold\">[</span><span style=\"color: #008080; text-decoration-color: #008080; font-weight: bold\">3</span>/<span style=\"color: #008080; text-decoration-color: #008080; font-weight: bold\">10</span><span style=\"font-weight: bold\">]</span> Retrieving fixtures for ENG-Premier League <span style=\"color: #008080; text-decoration-color: #008080; font-weight: bold\">2425</span>                <a href=\"file://C:\\Users\\acer\\AppData\\Local\\Programs\\Python\\Python312\\Lib\\site-packages\\soccerdata\\whoscored.py\" target=\"_blank\"><span style=\"color: #7f7f7f; text-decoration-color: #7f7f7f\">whoscored.py</span></a><span style=\"color: #7f7f7f; text-decoration-color: #7f7f7f\">:</span><a href=\"file://C:\\Users\\acer\\AppData\\Local\\Programs\\Python\\Python312\\Lib\\site-packages\\soccerdata\\whoscored.py#400\" target=\"_blank\"><span style=\"color: #7f7f7f; text-decoration-color: #7f7f7f\">400</span></a>\n",
       "</pre>\n"
      ],
      "text/plain": [
       "\u001b[2;36m[09/02/24 20:47:01]\u001b[0m\u001b[2;36m \u001b[0m\u001b[34mINFO    \u001b[0m \u001b[1m[\u001b[0m\u001b[1;36m3\u001b[0m/\u001b[1;36m10\u001b[0m\u001b[1m]\u001b[0m Retrieving fixtures for ENG-Premier League \u001b[1;36m2425\u001b[0m                \u001b]8;id=69603;file://C:\\Users\\acer\\AppData\\Local\\Programs\\Python\\Python312\\Lib\\site-packages\\soccerdata\\whoscored.py\u001b\\\u001b[2mwhoscored.py\u001b[0m\u001b]8;;\u001b\\\u001b[2m:\u001b[0m\u001b]8;id=947580;file://C:\\Users\\acer\\AppData\\Local\\Programs\\Python\\Python312\\Lib\\site-packages\\soccerdata\\whoscored.py#400\u001b\\\u001b[2m400\u001b[0m\u001b]8;;\u001b\\\n"
      ]
     },
     "metadata": {},
     "output_type": "display_data"
    },
    {
     "data": {
      "text/html": [
       "<pre style=\"white-space:pre;overflow-x:auto;line-height:normal;font-family:Menlo,'DejaVu Sans Mono',consolas,'Courier New',monospace\"><span style=\"color: #7fbfbf; text-decoration-color: #7fbfbf\">[09/02/24 20:47:11] </span><span style=\"color: #000080; text-decoration-color: #000080\">INFO    </span> <span style=\"font-weight: bold\">[</span><span style=\"color: #008080; text-decoration-color: #008080; font-weight: bold\">4</span>/<span style=\"color: #008080; text-decoration-color: #008080; font-weight: bold\">10</span><span style=\"font-weight: bold\">]</span> Retrieving fixtures for ENG-Premier League <span style=\"color: #008080; text-decoration-color: #008080; font-weight: bold\">2425</span>                <a href=\"file://C:\\Users\\acer\\AppData\\Local\\Programs\\Python\\Python312\\Lib\\site-packages\\soccerdata\\whoscored.py\" target=\"_blank\"><span style=\"color: #7f7f7f; text-decoration-color: #7f7f7f\">whoscored.py</span></a><span style=\"color: #7f7f7f; text-decoration-color: #7f7f7f\">:</span><a href=\"file://C:\\Users\\acer\\AppData\\Local\\Programs\\Python\\Python312\\Lib\\site-packages\\soccerdata\\whoscored.py#400\" target=\"_blank\"><span style=\"color: #7f7f7f; text-decoration-color: #7f7f7f\">400</span></a>\n",
       "</pre>\n"
      ],
      "text/plain": [
       "\u001b[2;36m[09/02/24 20:47:11]\u001b[0m\u001b[2;36m \u001b[0m\u001b[34mINFO    \u001b[0m \u001b[1m[\u001b[0m\u001b[1;36m4\u001b[0m/\u001b[1;36m10\u001b[0m\u001b[1m]\u001b[0m Retrieving fixtures for ENG-Premier League \u001b[1;36m2425\u001b[0m                \u001b]8;id=788138;file://C:\\Users\\acer\\AppData\\Local\\Programs\\Python\\Python312\\Lib\\site-packages\\soccerdata\\whoscored.py\u001b\\\u001b[2mwhoscored.py\u001b[0m\u001b]8;;\u001b\\\u001b[2m:\u001b[0m\u001b]8;id=342409;file://C:\\Users\\acer\\AppData\\Local\\Programs\\Python\\Python312\\Lib\\site-packages\\soccerdata\\whoscored.py#400\u001b\\\u001b[2m400\u001b[0m\u001b]8;;\u001b\\\n"
      ]
     },
     "metadata": {},
     "output_type": "display_data"
    },
    {
     "data": {
      "text/html": [
       "<pre style=\"white-space:pre;overflow-x:auto;line-height:normal;font-family:Menlo,'DejaVu Sans Mono',consolas,'Courier New',monospace\"><span style=\"color: #7fbfbf; text-decoration-color: #7fbfbf\">[09/02/24 20:47:19] </span><span style=\"color: #000080; text-decoration-color: #000080\">INFO    </span> <span style=\"font-weight: bold\">[</span><span style=\"color: #008080; text-decoration-color: #008080; font-weight: bold\">5</span>/<span style=\"color: #008080; text-decoration-color: #008080; font-weight: bold\">10</span><span style=\"font-weight: bold\">]</span> Retrieving fixtures for ENG-Premier League <span style=\"color: #008080; text-decoration-color: #008080; font-weight: bold\">2425</span>                <a href=\"file://C:\\Users\\acer\\AppData\\Local\\Programs\\Python\\Python312\\Lib\\site-packages\\soccerdata\\whoscored.py\" target=\"_blank\"><span style=\"color: #7f7f7f; text-decoration-color: #7f7f7f\">whoscored.py</span></a><span style=\"color: #7f7f7f; text-decoration-color: #7f7f7f\">:</span><a href=\"file://C:\\Users\\acer\\AppData\\Local\\Programs\\Python\\Python312\\Lib\\site-packages\\soccerdata\\whoscored.py#400\" target=\"_blank\"><span style=\"color: #7f7f7f; text-decoration-color: #7f7f7f\">400</span></a>\n",
       "</pre>\n"
      ],
      "text/plain": [
       "\u001b[2;36m[09/02/24 20:47:19]\u001b[0m\u001b[2;36m \u001b[0m\u001b[34mINFO    \u001b[0m \u001b[1m[\u001b[0m\u001b[1;36m5\u001b[0m/\u001b[1;36m10\u001b[0m\u001b[1m]\u001b[0m Retrieving fixtures for ENG-Premier League \u001b[1;36m2425\u001b[0m                \u001b]8;id=151489;file://C:\\Users\\acer\\AppData\\Local\\Programs\\Python\\Python312\\Lib\\site-packages\\soccerdata\\whoscored.py\u001b\\\u001b[2mwhoscored.py\u001b[0m\u001b]8;;\u001b\\\u001b[2m:\u001b[0m\u001b]8;id=824752;file://C:\\Users\\acer\\AppData\\Local\\Programs\\Python\\Python312\\Lib\\site-packages\\soccerdata\\whoscored.py#400\u001b\\\u001b[2m400\u001b[0m\u001b]8;;\u001b\\\n"
      ]
     },
     "metadata": {},
     "output_type": "display_data"
    },
    {
     "data": {
      "text/html": [
       "<pre style=\"white-space:pre;overflow-x:auto;line-height:normal;font-family:Menlo,'DejaVu Sans Mono',consolas,'Courier New',monospace\"><span style=\"color: #7fbfbf; text-decoration-color: #7fbfbf\">[09/02/24 20:47:25] </span><span style=\"color: #000080; text-decoration-color: #000080\">INFO    </span> <span style=\"font-weight: bold\">[</span><span style=\"color: #008080; text-decoration-color: #008080; font-weight: bold\">6</span>/<span style=\"color: #008080; text-decoration-color: #008080; font-weight: bold\">10</span><span style=\"font-weight: bold\">]</span> Retrieving fixtures for ENG-Premier League <span style=\"color: #008080; text-decoration-color: #008080; font-weight: bold\">2425</span>                <a href=\"file://C:\\Users\\acer\\AppData\\Local\\Programs\\Python\\Python312\\Lib\\site-packages\\soccerdata\\whoscored.py\" target=\"_blank\"><span style=\"color: #7f7f7f; text-decoration-color: #7f7f7f\">whoscored.py</span></a><span style=\"color: #7f7f7f; text-decoration-color: #7f7f7f\">:</span><a href=\"file://C:\\Users\\acer\\AppData\\Local\\Programs\\Python\\Python312\\Lib\\site-packages\\soccerdata\\whoscored.py#400\" target=\"_blank\"><span style=\"color: #7f7f7f; text-decoration-color: #7f7f7f\">400</span></a>\n",
       "</pre>\n"
      ],
      "text/plain": [
       "\u001b[2;36m[09/02/24 20:47:25]\u001b[0m\u001b[2;36m \u001b[0m\u001b[34mINFO    \u001b[0m \u001b[1m[\u001b[0m\u001b[1;36m6\u001b[0m/\u001b[1;36m10\u001b[0m\u001b[1m]\u001b[0m Retrieving fixtures for ENG-Premier League \u001b[1;36m2425\u001b[0m                \u001b]8;id=756232;file://C:\\Users\\acer\\AppData\\Local\\Programs\\Python\\Python312\\Lib\\site-packages\\soccerdata\\whoscored.py\u001b\\\u001b[2mwhoscored.py\u001b[0m\u001b]8;;\u001b\\\u001b[2m:\u001b[0m\u001b]8;id=421012;file://C:\\Users\\acer\\AppData\\Local\\Programs\\Python\\Python312\\Lib\\site-packages\\soccerdata\\whoscored.py#400\u001b\\\u001b[2m400\u001b[0m\u001b]8;;\u001b\\\n"
      ]
     },
     "metadata": {},
     "output_type": "display_data"
    },
    {
     "data": {
      "text/html": [
       "<pre style=\"white-space:pre;overflow-x:auto;line-height:normal;font-family:Menlo,'DejaVu Sans Mono',consolas,'Courier New',monospace\"><span style=\"color: #7fbfbf; text-decoration-color: #7fbfbf\">[09/02/24 20:47:34] </span><span style=\"color: #000080; text-decoration-color: #000080\">INFO    </span> <span style=\"font-weight: bold\">[</span><span style=\"color: #008080; text-decoration-color: #008080; font-weight: bold\">7</span>/<span style=\"color: #008080; text-decoration-color: #008080; font-weight: bold\">10</span><span style=\"font-weight: bold\">]</span> Retrieving fixtures for ENG-Premier League <span style=\"color: #008080; text-decoration-color: #008080; font-weight: bold\">2425</span>                <a href=\"file://C:\\Users\\acer\\AppData\\Local\\Programs\\Python\\Python312\\Lib\\site-packages\\soccerdata\\whoscored.py\" target=\"_blank\"><span style=\"color: #7f7f7f; text-decoration-color: #7f7f7f\">whoscored.py</span></a><span style=\"color: #7f7f7f; text-decoration-color: #7f7f7f\">:</span><a href=\"file://C:\\Users\\acer\\AppData\\Local\\Programs\\Python\\Python312\\Lib\\site-packages\\soccerdata\\whoscored.py#400\" target=\"_blank\"><span style=\"color: #7f7f7f; text-decoration-color: #7f7f7f\">400</span></a>\n",
       "</pre>\n"
      ],
      "text/plain": [
       "\u001b[2;36m[09/02/24 20:47:34]\u001b[0m\u001b[2;36m \u001b[0m\u001b[34mINFO    \u001b[0m \u001b[1m[\u001b[0m\u001b[1;36m7\u001b[0m/\u001b[1;36m10\u001b[0m\u001b[1m]\u001b[0m Retrieving fixtures for ENG-Premier League \u001b[1;36m2425\u001b[0m                \u001b]8;id=926928;file://C:\\Users\\acer\\AppData\\Local\\Programs\\Python\\Python312\\Lib\\site-packages\\soccerdata\\whoscored.py\u001b\\\u001b[2mwhoscored.py\u001b[0m\u001b]8;;\u001b\\\u001b[2m:\u001b[0m\u001b]8;id=938384;file://C:\\Users\\acer\\AppData\\Local\\Programs\\Python\\Python312\\Lib\\site-packages\\soccerdata\\whoscored.py#400\u001b\\\u001b[2m400\u001b[0m\u001b]8;;\u001b\\\n"
      ]
     },
     "metadata": {},
     "output_type": "display_data"
    },
    {
     "data": {
      "text/html": [
       "<pre style=\"white-space:pre;overflow-x:auto;line-height:normal;font-family:Menlo,'DejaVu Sans Mono',consolas,'Courier New',monospace\"><span style=\"color: #7fbfbf; text-decoration-color: #7fbfbf\">[09/02/24 20:47:43] </span><span style=\"color: #000080; text-decoration-color: #000080\">INFO    </span> <span style=\"font-weight: bold\">[</span><span style=\"color: #008080; text-decoration-color: #008080; font-weight: bold\">8</span>/<span style=\"color: #008080; text-decoration-color: #008080; font-weight: bold\">10</span><span style=\"font-weight: bold\">]</span> Retrieving fixtures for ENG-Premier League <span style=\"color: #008080; text-decoration-color: #008080; font-weight: bold\">2425</span>                <a href=\"file://C:\\Users\\acer\\AppData\\Local\\Programs\\Python\\Python312\\Lib\\site-packages\\soccerdata\\whoscored.py\" target=\"_blank\"><span style=\"color: #7f7f7f; text-decoration-color: #7f7f7f\">whoscored.py</span></a><span style=\"color: #7f7f7f; text-decoration-color: #7f7f7f\">:</span><a href=\"file://C:\\Users\\acer\\AppData\\Local\\Programs\\Python\\Python312\\Lib\\site-packages\\soccerdata\\whoscored.py#400\" target=\"_blank\"><span style=\"color: #7f7f7f; text-decoration-color: #7f7f7f\">400</span></a>\n",
       "</pre>\n"
      ],
      "text/plain": [
       "\u001b[2;36m[09/02/24 20:47:43]\u001b[0m\u001b[2;36m \u001b[0m\u001b[34mINFO    \u001b[0m \u001b[1m[\u001b[0m\u001b[1;36m8\u001b[0m/\u001b[1;36m10\u001b[0m\u001b[1m]\u001b[0m Retrieving fixtures for ENG-Premier League \u001b[1;36m2425\u001b[0m                \u001b]8;id=222210;file://C:\\Users\\acer\\AppData\\Local\\Programs\\Python\\Python312\\Lib\\site-packages\\soccerdata\\whoscored.py\u001b\\\u001b[2mwhoscored.py\u001b[0m\u001b]8;;\u001b\\\u001b[2m:\u001b[0m\u001b]8;id=635974;file://C:\\Users\\acer\\AppData\\Local\\Programs\\Python\\Python312\\Lib\\site-packages\\soccerdata\\whoscored.py#400\u001b\\\u001b[2m400\u001b[0m\u001b]8;;\u001b\\\n"
      ]
     },
     "metadata": {},
     "output_type": "display_data"
    },
    {
     "data": {
      "text/html": [
       "<pre style=\"white-space:pre;overflow-x:auto;line-height:normal;font-family:Menlo,'DejaVu Sans Mono',consolas,'Courier New',monospace\"><span style=\"color: #7fbfbf; text-decoration-color: #7fbfbf\">[09/02/24 20:47:54] </span><span style=\"color: #000080; text-decoration-color: #000080\">INFO    </span> <span style=\"font-weight: bold\">[</span><span style=\"color: #008080; text-decoration-color: #008080; font-weight: bold\">9</span>/<span style=\"color: #008080; text-decoration-color: #008080; font-weight: bold\">10</span><span style=\"font-weight: bold\">]</span> Retrieving fixtures for ENG-Premier League <span style=\"color: #008080; text-decoration-color: #008080; font-weight: bold\">2425</span>                <a href=\"file://C:\\Users\\acer\\AppData\\Local\\Programs\\Python\\Python312\\Lib\\site-packages\\soccerdata\\whoscored.py\" target=\"_blank\"><span style=\"color: #7f7f7f; text-decoration-color: #7f7f7f\">whoscored.py</span></a><span style=\"color: #7f7f7f; text-decoration-color: #7f7f7f\">:</span><a href=\"file://C:\\Users\\acer\\AppData\\Local\\Programs\\Python\\Python312\\Lib\\site-packages\\soccerdata\\whoscored.py#400\" target=\"_blank\"><span style=\"color: #7f7f7f; text-decoration-color: #7f7f7f\">400</span></a>\n",
       "</pre>\n"
      ],
      "text/plain": [
       "\u001b[2;36m[09/02/24 20:47:54]\u001b[0m\u001b[2;36m \u001b[0m\u001b[34mINFO    \u001b[0m \u001b[1m[\u001b[0m\u001b[1;36m9\u001b[0m/\u001b[1;36m10\u001b[0m\u001b[1m]\u001b[0m Retrieving fixtures for ENG-Premier League \u001b[1;36m2425\u001b[0m                \u001b]8;id=937886;file://C:\\Users\\acer\\AppData\\Local\\Programs\\Python\\Python312\\Lib\\site-packages\\soccerdata\\whoscored.py\u001b\\\u001b[2mwhoscored.py\u001b[0m\u001b]8;;\u001b\\\u001b[2m:\u001b[0m\u001b]8;id=613535;file://C:\\Users\\acer\\AppData\\Local\\Programs\\Python\\Python312\\Lib\\site-packages\\soccerdata\\whoscored.py#400\u001b\\\u001b[2m400\u001b[0m\u001b]8;;\u001b\\\n"
      ]
     },
     "metadata": {},
     "output_type": "display_data"
    },
    {
     "data": {
      "text/html": [
       "<pre style=\"white-space:pre;overflow-x:auto;line-height:normal;font-family:Menlo,'DejaVu Sans Mono',consolas,'Courier New',monospace\"><span style=\"color: #7fbfbf; text-decoration-color: #7fbfbf\">[09/02/24 20:48:01] </span><span style=\"color: #000080; text-decoration-color: #000080\">INFO    </span> <span style=\"font-weight: bold\">[</span><span style=\"color: #008080; text-decoration-color: #008080; font-weight: bold\">10</span>/<span style=\"color: #008080; text-decoration-color: #008080; font-weight: bold\">10</span><span style=\"font-weight: bold\">]</span> Retrieving fixtures for ENG-Premier League <span style=\"color: #008080; text-decoration-color: #008080; font-weight: bold\">2425</span>               <a href=\"file://C:\\Users\\acer\\AppData\\Local\\Programs\\Python\\Python312\\Lib\\site-packages\\soccerdata\\whoscored.py\" target=\"_blank\"><span style=\"color: #7f7f7f; text-decoration-color: #7f7f7f\">whoscored.py</span></a><span style=\"color: #7f7f7f; text-decoration-color: #7f7f7f\">:</span><a href=\"file://C:\\Users\\acer\\AppData\\Local\\Programs\\Python\\Python312\\Lib\\site-packages\\soccerdata\\whoscored.py#400\" target=\"_blank\"><span style=\"color: #7f7f7f; text-decoration-color: #7f7f7f\">400</span></a>\n",
       "</pre>\n"
      ],
      "text/plain": [
       "\u001b[2;36m[09/02/24 20:48:01]\u001b[0m\u001b[2;36m \u001b[0m\u001b[34mINFO    \u001b[0m \u001b[1m[\u001b[0m\u001b[1;36m10\u001b[0m/\u001b[1;36m10\u001b[0m\u001b[1m]\u001b[0m Retrieving fixtures for ENG-Premier League \u001b[1;36m2425\u001b[0m               \u001b]8;id=899962;file://C:\\Users\\acer\\AppData\\Local\\Programs\\Python\\Python312\\Lib\\site-packages\\soccerdata\\whoscored.py\u001b\\\u001b[2mwhoscored.py\u001b[0m\u001b]8;;\u001b\\\u001b[2m:\u001b[0m\u001b]8;id=788707;file://C:\\Users\\acer\\AppData\\Local\\Programs\\Python\\Python312\\Lib\\site-packages\\soccerdata\\whoscored.py#400\u001b\\\u001b[2m400\u001b[0m\u001b]8;;\u001b\\\n"
      ]
     },
     "metadata": {},
     "output_type": "display_data"
    },
    {
     "name": "stderr",
     "output_type": "stream",
     "text": [
      "C:\\Users\\acer\\AppData\\Local\\Programs\\Python\\Python312\\Lib\\site-packages\\soccerdata\\whoscored.py:424: FutureWarning: The behavior of DataFrame concatenation with empty or all-NA entries is deprecated. In a future version, this will no longer exclude empty or all-NA columns when determining the result dtypes. To retain the old behavior, exclude the relevant entries before the concat operation.\n",
      "  pd.concat(all_schedules)\n"
     ]
    },
    {
     "data": {
      "text/html": [
       "<pre style=\"white-space:pre;overflow-x:auto;line-height:normal;font-family:Menlo,'DejaVu Sans Mono',consolas,'Courier New',monospace\"><span style=\"color: #7fbfbf; text-decoration-color: #7fbfbf\">[09/02/24 20:48:10] </span><span style=\"color: #000080; text-decoration-color: #000080\">INFO    </span> <span style=\"font-weight: bold\">[</span><span style=\"color: #008080; text-decoration-color: #008080; font-weight: bold\">1</span>/<span style=\"color: #008080; text-decoration-color: #008080; font-weight: bold\">1</span><span style=\"font-weight: bold\">]</span> Retrieving game with <span style=\"color: #808000; text-decoration-color: #808000\">id</span>=<span style=\"color: #008080; text-decoration-color: #008080; font-weight: bold\">1821064</span>                                 <a href=\"file://C:\\Users\\acer\\AppData\\Local\\Programs\\Python\\Python312\\Lib\\site-packages\\soccerdata\\whoscored.py\" target=\"_blank\"><span style=\"color: #7f7f7f; text-decoration-color: #7f7f7f\">whoscored.py</span></a><span style=\"color: #7f7f7f; text-decoration-color: #7f7f7f\">:</span><a href=\"file://C:\\Users\\acer\\AppData\\Local\\Programs\\Python\\Python312\\Lib\\site-packages\\soccerdata\\whoscored.py#692\" target=\"_blank\"><span style=\"color: #7f7f7f; text-decoration-color: #7f7f7f\">692</span></a>\n",
       "</pre>\n"
      ],
      "text/plain": [
       "\u001b[2;36m[09/02/24 20:48:10]\u001b[0m\u001b[2;36m \u001b[0m\u001b[34mINFO    \u001b[0m \u001b[1m[\u001b[0m\u001b[1;36m1\u001b[0m/\u001b[1;36m1\u001b[0m\u001b[1m]\u001b[0m Retrieving game with \u001b[33mid\u001b[0m=\u001b[1;36m1821064\u001b[0m                                 \u001b]8;id=322339;file://C:\\Users\\acer\\AppData\\Local\\Programs\\Python\\Python312\\Lib\\site-packages\\soccerdata\\whoscored.py\u001b\\\u001b[2mwhoscored.py\u001b[0m\u001b]8;;\u001b\\\u001b[2m:\u001b[0m\u001b]8;id=898392;file://C:\\Users\\acer\\AppData\\Local\\Programs\\Python\\Python312\\Lib\\site-packages\\soccerdata\\whoscored.py#692\u001b\\\u001b[2m692\u001b[0m\u001b]8;;\u001b\\\n"
      ]
     },
     "metadata": {},
     "output_type": "display_data"
    },
    {
     "data": {
      "text/html": [
       "<pre style=\"white-space:pre;overflow-x:auto;line-height:normal;font-family:Menlo,'DejaVu Sans Mono',consolas,'Courier New',monospace\"><span style=\"color: #7fbfbf; text-decoration-color: #7fbfbf\">[09/02/24 20:48:36] </span><span style=\"color: #000080; text-decoration-color: #000080\">INFO    </span> Retrieving calendar for ENG-Premier League <span style=\"color: #008080; text-decoration-color: #008080; font-weight: bold\">2425</span>                       <a href=\"file://C:\\Users\\acer\\AppData\\Local\\Programs\\Python\\Python312\\Lib\\site-packages\\soccerdata\\whoscored.py\" target=\"_blank\"><span style=\"color: #7f7f7f; text-decoration-color: #7f7f7f\">whoscored.py</span></a><span style=\"color: #7f7f7f; text-decoration-color: #7f7f7f\">:</span><a href=\"file://C:\\Users\\acer\\AppData\\Local\\Programs\\Python\\Python312\\Lib\\site-packages\\soccerdata\\whoscored.py#371\" target=\"_blank\"><span style=\"color: #7f7f7f; text-decoration-color: #7f7f7f\">371</span></a>\n",
       "</pre>\n"
      ],
      "text/plain": [
       "\u001b[2;36m[09/02/24 20:48:36]\u001b[0m\u001b[2;36m \u001b[0m\u001b[34mINFO    \u001b[0m Retrieving calendar for ENG-Premier League \u001b[1;36m2425\u001b[0m                       \u001b]8;id=655276;file://C:\\Users\\acer\\AppData\\Local\\Programs\\Python\\Python312\\Lib\\site-packages\\soccerdata\\whoscored.py\u001b\\\u001b[2mwhoscored.py\u001b[0m\u001b]8;;\u001b\\\u001b[2m:\u001b[0m\u001b]8;id=104139;file://C:\\Users\\acer\\AppData\\Local\\Programs\\Python\\Python312\\Lib\\site-packages\\soccerdata\\whoscored.py#371\u001b\\\u001b[2m371\u001b[0m\u001b]8;;\u001b\\\n"
      ]
     },
     "metadata": {},
     "output_type": "display_data"
    },
    {
     "data": {
      "text/html": [
       "<pre style=\"white-space:pre;overflow-x:auto;line-height:normal;font-family:Menlo,'DejaVu Sans Mono',consolas,'Courier New',monospace\"><span style=\"color: #7fbfbf; text-decoration-color: #7fbfbf\">[09/02/24 20:48:45] </span><span style=\"color: #000080; text-decoration-color: #000080\">INFO    </span> <span style=\"font-weight: bold\">[</span><span style=\"color: #008080; text-decoration-color: #008080; font-weight: bold\">1</span>/<span style=\"color: #008080; text-decoration-color: #008080; font-weight: bold\">10</span><span style=\"font-weight: bold\">]</span> Retrieving fixtures for ENG-Premier League <span style=\"color: #008080; text-decoration-color: #008080; font-weight: bold\">2425</span>                <a href=\"file://C:\\Users\\acer\\AppData\\Local\\Programs\\Python\\Python312\\Lib\\site-packages\\soccerdata\\whoscored.py\" target=\"_blank\"><span style=\"color: #7f7f7f; text-decoration-color: #7f7f7f\">whoscored.py</span></a><span style=\"color: #7f7f7f; text-decoration-color: #7f7f7f\">:</span><a href=\"file://C:\\Users\\acer\\AppData\\Local\\Programs\\Python\\Python312\\Lib\\site-packages\\soccerdata\\whoscored.py#400\" target=\"_blank\"><span style=\"color: #7f7f7f; text-decoration-color: #7f7f7f\">400</span></a>\n",
       "</pre>\n"
      ],
      "text/plain": [
       "\u001b[2;36m[09/02/24 20:48:45]\u001b[0m\u001b[2;36m \u001b[0m\u001b[34mINFO    \u001b[0m \u001b[1m[\u001b[0m\u001b[1;36m1\u001b[0m/\u001b[1;36m10\u001b[0m\u001b[1m]\u001b[0m Retrieving fixtures for ENG-Premier League \u001b[1;36m2425\u001b[0m                \u001b]8;id=629192;file://C:\\Users\\acer\\AppData\\Local\\Programs\\Python\\Python312\\Lib\\site-packages\\soccerdata\\whoscored.py\u001b\\\u001b[2mwhoscored.py\u001b[0m\u001b]8;;\u001b\\\u001b[2m:\u001b[0m\u001b]8;id=274677;file://C:\\Users\\acer\\AppData\\Local\\Programs\\Python\\Python312\\Lib\\site-packages\\soccerdata\\whoscored.py#400\u001b\\\u001b[2m400\u001b[0m\u001b]8;;\u001b\\\n"
      ]
     },
     "metadata": {},
     "output_type": "display_data"
    },
    {
     "data": {
      "text/html": [
       "<pre style=\"white-space:pre;overflow-x:auto;line-height:normal;font-family:Menlo,'DejaVu Sans Mono',consolas,'Courier New',monospace\"><span style=\"color: #7fbfbf; text-decoration-color: #7fbfbf\">[09/02/24 20:48:52] </span><span style=\"color: #000080; text-decoration-color: #000080\">INFO    </span> <span style=\"font-weight: bold\">[</span><span style=\"color: #008080; text-decoration-color: #008080; font-weight: bold\">2</span>/<span style=\"color: #008080; text-decoration-color: #008080; font-weight: bold\">10</span><span style=\"font-weight: bold\">]</span> Retrieving fixtures for ENG-Premier League <span style=\"color: #008080; text-decoration-color: #008080; font-weight: bold\">2425</span>                <a href=\"file://C:\\Users\\acer\\AppData\\Local\\Programs\\Python\\Python312\\Lib\\site-packages\\soccerdata\\whoscored.py\" target=\"_blank\"><span style=\"color: #7f7f7f; text-decoration-color: #7f7f7f\">whoscored.py</span></a><span style=\"color: #7f7f7f; text-decoration-color: #7f7f7f\">:</span><a href=\"file://C:\\Users\\acer\\AppData\\Local\\Programs\\Python\\Python312\\Lib\\site-packages\\soccerdata\\whoscored.py#400\" target=\"_blank\"><span style=\"color: #7f7f7f; text-decoration-color: #7f7f7f\">400</span></a>\n",
       "</pre>\n"
      ],
      "text/plain": [
       "\u001b[2;36m[09/02/24 20:48:52]\u001b[0m\u001b[2;36m \u001b[0m\u001b[34mINFO    \u001b[0m \u001b[1m[\u001b[0m\u001b[1;36m2\u001b[0m/\u001b[1;36m10\u001b[0m\u001b[1m]\u001b[0m Retrieving fixtures for ENG-Premier League \u001b[1;36m2425\u001b[0m                \u001b]8;id=384169;file://C:\\Users\\acer\\AppData\\Local\\Programs\\Python\\Python312\\Lib\\site-packages\\soccerdata\\whoscored.py\u001b\\\u001b[2mwhoscored.py\u001b[0m\u001b]8;;\u001b\\\u001b[2m:\u001b[0m\u001b]8;id=76748;file://C:\\Users\\acer\\AppData\\Local\\Programs\\Python\\Python312\\Lib\\site-packages\\soccerdata\\whoscored.py#400\u001b\\\u001b[2m400\u001b[0m\u001b]8;;\u001b\\\n"
      ]
     },
     "metadata": {},
     "output_type": "display_data"
    },
    {
     "data": {
      "text/html": [
       "<pre style=\"white-space:pre;overflow-x:auto;line-height:normal;font-family:Menlo,'DejaVu Sans Mono',consolas,'Courier New',monospace\"><span style=\"color: #7fbfbf; text-decoration-color: #7fbfbf\">[09/02/24 20:49:01] </span><span style=\"color: #000080; text-decoration-color: #000080\">INFO    </span> <span style=\"font-weight: bold\">[</span><span style=\"color: #008080; text-decoration-color: #008080; font-weight: bold\">3</span>/<span style=\"color: #008080; text-decoration-color: #008080; font-weight: bold\">10</span><span style=\"font-weight: bold\">]</span> Retrieving fixtures for ENG-Premier League <span style=\"color: #008080; text-decoration-color: #008080; font-weight: bold\">2425</span>                <a href=\"file://C:\\Users\\acer\\AppData\\Local\\Programs\\Python\\Python312\\Lib\\site-packages\\soccerdata\\whoscored.py\" target=\"_blank\"><span style=\"color: #7f7f7f; text-decoration-color: #7f7f7f\">whoscored.py</span></a><span style=\"color: #7f7f7f; text-decoration-color: #7f7f7f\">:</span><a href=\"file://C:\\Users\\acer\\AppData\\Local\\Programs\\Python\\Python312\\Lib\\site-packages\\soccerdata\\whoscored.py#400\" target=\"_blank\"><span style=\"color: #7f7f7f; text-decoration-color: #7f7f7f\">400</span></a>\n",
       "</pre>\n"
      ],
      "text/plain": [
       "\u001b[2;36m[09/02/24 20:49:01]\u001b[0m\u001b[2;36m \u001b[0m\u001b[34mINFO    \u001b[0m \u001b[1m[\u001b[0m\u001b[1;36m3\u001b[0m/\u001b[1;36m10\u001b[0m\u001b[1m]\u001b[0m Retrieving fixtures for ENG-Premier League \u001b[1;36m2425\u001b[0m                \u001b]8;id=1352;file://C:\\Users\\acer\\AppData\\Local\\Programs\\Python\\Python312\\Lib\\site-packages\\soccerdata\\whoscored.py\u001b\\\u001b[2mwhoscored.py\u001b[0m\u001b]8;;\u001b\\\u001b[2m:\u001b[0m\u001b]8;id=366870;file://C:\\Users\\acer\\AppData\\Local\\Programs\\Python\\Python312\\Lib\\site-packages\\soccerdata\\whoscored.py#400\u001b\\\u001b[2m400\u001b[0m\u001b]8;;\u001b\\\n"
      ]
     },
     "metadata": {},
     "output_type": "display_data"
    },
    {
     "data": {
      "text/html": [
       "<pre style=\"white-space:pre;overflow-x:auto;line-height:normal;font-family:Menlo,'DejaVu Sans Mono',consolas,'Courier New',monospace\"><span style=\"color: #7fbfbf; text-decoration-color: #7fbfbf\">[09/02/24 20:49:08] </span><span style=\"color: #000080; text-decoration-color: #000080\">INFO    </span> <span style=\"font-weight: bold\">[</span><span style=\"color: #008080; text-decoration-color: #008080; font-weight: bold\">4</span>/<span style=\"color: #008080; text-decoration-color: #008080; font-weight: bold\">10</span><span style=\"font-weight: bold\">]</span> Retrieving fixtures for ENG-Premier League <span style=\"color: #008080; text-decoration-color: #008080; font-weight: bold\">2425</span>                <a href=\"file://C:\\Users\\acer\\AppData\\Local\\Programs\\Python\\Python312\\Lib\\site-packages\\soccerdata\\whoscored.py\" target=\"_blank\"><span style=\"color: #7f7f7f; text-decoration-color: #7f7f7f\">whoscored.py</span></a><span style=\"color: #7f7f7f; text-decoration-color: #7f7f7f\">:</span><a href=\"file://C:\\Users\\acer\\AppData\\Local\\Programs\\Python\\Python312\\Lib\\site-packages\\soccerdata\\whoscored.py#400\" target=\"_blank\"><span style=\"color: #7f7f7f; text-decoration-color: #7f7f7f\">400</span></a>\n",
       "</pre>\n"
      ],
      "text/plain": [
       "\u001b[2;36m[09/02/24 20:49:08]\u001b[0m\u001b[2;36m \u001b[0m\u001b[34mINFO    \u001b[0m \u001b[1m[\u001b[0m\u001b[1;36m4\u001b[0m/\u001b[1;36m10\u001b[0m\u001b[1m]\u001b[0m Retrieving fixtures for ENG-Premier League \u001b[1;36m2425\u001b[0m                \u001b]8;id=243078;file://C:\\Users\\acer\\AppData\\Local\\Programs\\Python\\Python312\\Lib\\site-packages\\soccerdata\\whoscored.py\u001b\\\u001b[2mwhoscored.py\u001b[0m\u001b]8;;\u001b\\\u001b[2m:\u001b[0m\u001b]8;id=183552;file://C:\\Users\\acer\\AppData\\Local\\Programs\\Python\\Python312\\Lib\\site-packages\\soccerdata\\whoscored.py#400\u001b\\\u001b[2m400\u001b[0m\u001b]8;;\u001b\\\n"
      ]
     },
     "metadata": {},
     "output_type": "display_data"
    },
    {
     "data": {
      "text/html": [
       "<pre style=\"white-space:pre;overflow-x:auto;line-height:normal;font-family:Menlo,'DejaVu Sans Mono',consolas,'Courier New',monospace\"><span style=\"color: #7fbfbf; text-decoration-color: #7fbfbf\">[09/02/24 20:49:14] </span><span style=\"color: #000080; text-decoration-color: #000080\">INFO    </span> <span style=\"font-weight: bold\">[</span><span style=\"color: #008080; text-decoration-color: #008080; font-weight: bold\">5</span>/<span style=\"color: #008080; text-decoration-color: #008080; font-weight: bold\">10</span><span style=\"font-weight: bold\">]</span> Retrieving fixtures for ENG-Premier League <span style=\"color: #008080; text-decoration-color: #008080; font-weight: bold\">2425</span>                <a href=\"file://C:\\Users\\acer\\AppData\\Local\\Programs\\Python\\Python312\\Lib\\site-packages\\soccerdata\\whoscored.py\" target=\"_blank\"><span style=\"color: #7f7f7f; text-decoration-color: #7f7f7f\">whoscored.py</span></a><span style=\"color: #7f7f7f; text-decoration-color: #7f7f7f\">:</span><a href=\"file://C:\\Users\\acer\\AppData\\Local\\Programs\\Python\\Python312\\Lib\\site-packages\\soccerdata\\whoscored.py#400\" target=\"_blank\"><span style=\"color: #7f7f7f; text-decoration-color: #7f7f7f\">400</span></a>\n",
       "</pre>\n"
      ],
      "text/plain": [
       "\u001b[2;36m[09/02/24 20:49:14]\u001b[0m\u001b[2;36m \u001b[0m\u001b[34mINFO    \u001b[0m \u001b[1m[\u001b[0m\u001b[1;36m5\u001b[0m/\u001b[1;36m10\u001b[0m\u001b[1m]\u001b[0m Retrieving fixtures for ENG-Premier League \u001b[1;36m2425\u001b[0m                \u001b]8;id=500290;file://C:\\Users\\acer\\AppData\\Local\\Programs\\Python\\Python312\\Lib\\site-packages\\soccerdata\\whoscored.py\u001b\\\u001b[2mwhoscored.py\u001b[0m\u001b]8;;\u001b\\\u001b[2m:\u001b[0m\u001b]8;id=137859;file://C:\\Users\\acer\\AppData\\Local\\Programs\\Python\\Python312\\Lib\\site-packages\\soccerdata\\whoscored.py#400\u001b\\\u001b[2m400\u001b[0m\u001b]8;;\u001b\\\n"
      ]
     },
     "metadata": {},
     "output_type": "display_data"
    },
    {
     "data": {
      "text/html": [
       "<pre style=\"white-space:pre;overflow-x:auto;line-height:normal;font-family:Menlo,'DejaVu Sans Mono',consolas,'Courier New',monospace\"><span style=\"color: #7fbfbf; text-decoration-color: #7fbfbf\">[09/02/24 20:49:23] </span><span style=\"color: #000080; text-decoration-color: #000080\">INFO    </span> <span style=\"font-weight: bold\">[</span><span style=\"color: #008080; text-decoration-color: #008080; font-weight: bold\">6</span>/<span style=\"color: #008080; text-decoration-color: #008080; font-weight: bold\">10</span><span style=\"font-weight: bold\">]</span> Retrieving fixtures for ENG-Premier League <span style=\"color: #008080; text-decoration-color: #008080; font-weight: bold\">2425</span>                <a href=\"file://C:\\Users\\acer\\AppData\\Local\\Programs\\Python\\Python312\\Lib\\site-packages\\soccerdata\\whoscored.py\" target=\"_blank\"><span style=\"color: #7f7f7f; text-decoration-color: #7f7f7f\">whoscored.py</span></a><span style=\"color: #7f7f7f; text-decoration-color: #7f7f7f\">:</span><a href=\"file://C:\\Users\\acer\\AppData\\Local\\Programs\\Python\\Python312\\Lib\\site-packages\\soccerdata\\whoscored.py#400\" target=\"_blank\"><span style=\"color: #7f7f7f; text-decoration-color: #7f7f7f\">400</span></a>\n",
       "</pre>\n"
      ],
      "text/plain": [
       "\u001b[2;36m[09/02/24 20:49:23]\u001b[0m\u001b[2;36m \u001b[0m\u001b[34mINFO    \u001b[0m \u001b[1m[\u001b[0m\u001b[1;36m6\u001b[0m/\u001b[1;36m10\u001b[0m\u001b[1m]\u001b[0m Retrieving fixtures for ENG-Premier League \u001b[1;36m2425\u001b[0m                \u001b]8;id=162487;file://C:\\Users\\acer\\AppData\\Local\\Programs\\Python\\Python312\\Lib\\site-packages\\soccerdata\\whoscored.py\u001b\\\u001b[2mwhoscored.py\u001b[0m\u001b]8;;\u001b\\\u001b[2m:\u001b[0m\u001b]8;id=37110;file://C:\\Users\\acer\\AppData\\Local\\Programs\\Python\\Python312\\Lib\\site-packages\\soccerdata\\whoscored.py#400\u001b\\\u001b[2m400\u001b[0m\u001b]8;;\u001b\\\n"
      ]
     },
     "metadata": {},
     "output_type": "display_data"
    },
    {
     "data": {
      "text/html": [
       "<pre style=\"white-space:pre;overflow-x:auto;line-height:normal;font-family:Menlo,'DejaVu Sans Mono',consolas,'Courier New',monospace\"><span style=\"color: #7fbfbf; text-decoration-color: #7fbfbf\">[09/02/24 20:49:32] </span><span style=\"color: #000080; text-decoration-color: #000080\">INFO    </span> <span style=\"font-weight: bold\">[</span><span style=\"color: #008080; text-decoration-color: #008080; font-weight: bold\">7</span>/<span style=\"color: #008080; text-decoration-color: #008080; font-weight: bold\">10</span><span style=\"font-weight: bold\">]</span> Retrieving fixtures for ENG-Premier League <span style=\"color: #008080; text-decoration-color: #008080; font-weight: bold\">2425</span>                <a href=\"file://C:\\Users\\acer\\AppData\\Local\\Programs\\Python\\Python312\\Lib\\site-packages\\soccerdata\\whoscored.py\" target=\"_blank\"><span style=\"color: #7f7f7f; text-decoration-color: #7f7f7f\">whoscored.py</span></a><span style=\"color: #7f7f7f; text-decoration-color: #7f7f7f\">:</span><a href=\"file://C:\\Users\\acer\\AppData\\Local\\Programs\\Python\\Python312\\Lib\\site-packages\\soccerdata\\whoscored.py#400\" target=\"_blank\"><span style=\"color: #7f7f7f; text-decoration-color: #7f7f7f\">400</span></a>\n",
       "</pre>\n"
      ],
      "text/plain": [
       "\u001b[2;36m[09/02/24 20:49:32]\u001b[0m\u001b[2;36m \u001b[0m\u001b[34mINFO    \u001b[0m \u001b[1m[\u001b[0m\u001b[1;36m7\u001b[0m/\u001b[1;36m10\u001b[0m\u001b[1m]\u001b[0m Retrieving fixtures for ENG-Premier League \u001b[1;36m2425\u001b[0m                \u001b]8;id=623223;file://C:\\Users\\acer\\AppData\\Local\\Programs\\Python\\Python312\\Lib\\site-packages\\soccerdata\\whoscored.py\u001b\\\u001b[2mwhoscored.py\u001b[0m\u001b]8;;\u001b\\\u001b[2m:\u001b[0m\u001b]8;id=519965;file://C:\\Users\\acer\\AppData\\Local\\Programs\\Python\\Python312\\Lib\\site-packages\\soccerdata\\whoscored.py#400\u001b\\\u001b[2m400\u001b[0m\u001b]8;;\u001b\\\n"
      ]
     },
     "metadata": {},
     "output_type": "display_data"
    },
    {
     "data": {
      "text/html": [
       "<pre style=\"white-space:pre;overflow-x:auto;line-height:normal;font-family:Menlo,'DejaVu Sans Mono',consolas,'Courier New',monospace\"><span style=\"color: #7fbfbf; text-decoration-color: #7fbfbf\">[09/02/24 20:49:39] </span><span style=\"color: #000080; text-decoration-color: #000080\">INFO    </span> <span style=\"font-weight: bold\">[</span><span style=\"color: #008080; text-decoration-color: #008080; font-weight: bold\">8</span>/<span style=\"color: #008080; text-decoration-color: #008080; font-weight: bold\">10</span><span style=\"font-weight: bold\">]</span> Retrieving fixtures for ENG-Premier League <span style=\"color: #008080; text-decoration-color: #008080; font-weight: bold\">2425</span>                <a href=\"file://C:\\Users\\acer\\AppData\\Local\\Programs\\Python\\Python312\\Lib\\site-packages\\soccerdata\\whoscored.py\" target=\"_blank\"><span style=\"color: #7f7f7f; text-decoration-color: #7f7f7f\">whoscored.py</span></a><span style=\"color: #7f7f7f; text-decoration-color: #7f7f7f\">:</span><a href=\"file://C:\\Users\\acer\\AppData\\Local\\Programs\\Python\\Python312\\Lib\\site-packages\\soccerdata\\whoscored.py#400\" target=\"_blank\"><span style=\"color: #7f7f7f; text-decoration-color: #7f7f7f\">400</span></a>\n",
       "</pre>\n"
      ],
      "text/plain": [
       "\u001b[2;36m[09/02/24 20:49:39]\u001b[0m\u001b[2;36m \u001b[0m\u001b[34mINFO    \u001b[0m \u001b[1m[\u001b[0m\u001b[1;36m8\u001b[0m/\u001b[1;36m10\u001b[0m\u001b[1m]\u001b[0m Retrieving fixtures for ENG-Premier League \u001b[1;36m2425\u001b[0m                \u001b]8;id=737348;file://C:\\Users\\acer\\AppData\\Local\\Programs\\Python\\Python312\\Lib\\site-packages\\soccerdata\\whoscored.py\u001b\\\u001b[2mwhoscored.py\u001b[0m\u001b]8;;\u001b\\\u001b[2m:\u001b[0m\u001b]8;id=501037;file://C:\\Users\\acer\\AppData\\Local\\Programs\\Python\\Python312\\Lib\\site-packages\\soccerdata\\whoscored.py#400\u001b\\\u001b[2m400\u001b[0m\u001b]8;;\u001b\\\n"
      ]
     },
     "metadata": {},
     "output_type": "display_data"
    },
    {
     "data": {
      "text/html": [
       "<pre style=\"white-space:pre;overflow-x:auto;line-height:normal;font-family:Menlo,'DejaVu Sans Mono',consolas,'Courier New',monospace\"><span style=\"color: #7fbfbf; text-decoration-color: #7fbfbf\">[09/02/24 20:49:48] </span><span style=\"color: #000080; text-decoration-color: #000080\">INFO    </span> <span style=\"font-weight: bold\">[</span><span style=\"color: #008080; text-decoration-color: #008080; font-weight: bold\">9</span>/<span style=\"color: #008080; text-decoration-color: #008080; font-weight: bold\">10</span><span style=\"font-weight: bold\">]</span> Retrieving fixtures for ENG-Premier League <span style=\"color: #008080; text-decoration-color: #008080; font-weight: bold\">2425</span>                <a href=\"file://C:\\Users\\acer\\AppData\\Local\\Programs\\Python\\Python312\\Lib\\site-packages\\soccerdata\\whoscored.py\" target=\"_blank\"><span style=\"color: #7f7f7f; text-decoration-color: #7f7f7f\">whoscored.py</span></a><span style=\"color: #7f7f7f; text-decoration-color: #7f7f7f\">:</span><a href=\"file://C:\\Users\\acer\\AppData\\Local\\Programs\\Python\\Python312\\Lib\\site-packages\\soccerdata\\whoscored.py#400\" target=\"_blank\"><span style=\"color: #7f7f7f; text-decoration-color: #7f7f7f\">400</span></a>\n",
       "</pre>\n"
      ],
      "text/plain": [
       "\u001b[2;36m[09/02/24 20:49:48]\u001b[0m\u001b[2;36m \u001b[0m\u001b[34mINFO    \u001b[0m \u001b[1m[\u001b[0m\u001b[1;36m9\u001b[0m/\u001b[1;36m10\u001b[0m\u001b[1m]\u001b[0m Retrieving fixtures for ENG-Premier League \u001b[1;36m2425\u001b[0m                \u001b]8;id=384101;file://C:\\Users\\acer\\AppData\\Local\\Programs\\Python\\Python312\\Lib\\site-packages\\soccerdata\\whoscored.py\u001b\\\u001b[2mwhoscored.py\u001b[0m\u001b]8;;\u001b\\\u001b[2m:\u001b[0m\u001b]8;id=550377;file://C:\\Users\\acer\\AppData\\Local\\Programs\\Python\\Python312\\Lib\\site-packages\\soccerdata\\whoscored.py#400\u001b\\\u001b[2m400\u001b[0m\u001b]8;;\u001b\\\n"
      ]
     },
     "metadata": {},
     "output_type": "display_data"
    },
    {
     "data": {
      "text/html": [
       "<pre style=\"white-space:pre;overflow-x:auto;line-height:normal;font-family:Menlo,'DejaVu Sans Mono',consolas,'Courier New',monospace\"><span style=\"color: #7fbfbf; text-decoration-color: #7fbfbf\">[09/02/24 20:49:56] </span><span style=\"color: #000080; text-decoration-color: #000080\">INFO    </span> <span style=\"font-weight: bold\">[</span><span style=\"color: #008080; text-decoration-color: #008080; font-weight: bold\">10</span>/<span style=\"color: #008080; text-decoration-color: #008080; font-weight: bold\">10</span><span style=\"font-weight: bold\">]</span> Retrieving fixtures for ENG-Premier League <span style=\"color: #008080; text-decoration-color: #008080; font-weight: bold\">2425</span>               <a href=\"file://C:\\Users\\acer\\AppData\\Local\\Programs\\Python\\Python312\\Lib\\site-packages\\soccerdata\\whoscored.py\" target=\"_blank\"><span style=\"color: #7f7f7f; text-decoration-color: #7f7f7f\">whoscored.py</span></a><span style=\"color: #7f7f7f; text-decoration-color: #7f7f7f\">:</span><a href=\"file://C:\\Users\\acer\\AppData\\Local\\Programs\\Python\\Python312\\Lib\\site-packages\\soccerdata\\whoscored.py#400\" target=\"_blank\"><span style=\"color: #7f7f7f; text-decoration-color: #7f7f7f\">400</span></a>\n",
       "</pre>\n"
      ],
      "text/plain": [
       "\u001b[2;36m[09/02/24 20:49:56]\u001b[0m\u001b[2;36m \u001b[0m\u001b[34mINFO    \u001b[0m \u001b[1m[\u001b[0m\u001b[1;36m10\u001b[0m/\u001b[1;36m10\u001b[0m\u001b[1m]\u001b[0m Retrieving fixtures for ENG-Premier League \u001b[1;36m2425\u001b[0m               \u001b]8;id=792568;file://C:\\Users\\acer\\AppData\\Local\\Programs\\Python\\Python312\\Lib\\site-packages\\soccerdata\\whoscored.py\u001b\\\u001b[2mwhoscored.py\u001b[0m\u001b]8;;\u001b\\\u001b[2m:\u001b[0m\u001b]8;id=684146;file://C:\\Users\\acer\\AppData\\Local\\Programs\\Python\\Python312\\Lib\\site-packages\\soccerdata\\whoscored.py#400\u001b\\\u001b[2m400\u001b[0m\u001b]8;;\u001b\\\n"
      ]
     },
     "metadata": {},
     "output_type": "display_data"
    },
    {
     "name": "stderr",
     "output_type": "stream",
     "text": [
      "C:\\Users\\acer\\AppData\\Local\\Programs\\Python\\Python312\\Lib\\site-packages\\soccerdata\\whoscored.py:424: FutureWarning: The behavior of DataFrame concatenation with empty or all-NA entries is deprecated. In a future version, this will no longer exclude empty or all-NA columns when determining the result dtypes. To retain the old behavior, exclude the relevant entries before the concat operation.\n",
      "  pd.concat(all_schedules)\n"
     ]
    },
    {
     "data": {
      "text/html": [
       "<pre style=\"white-space:pre;overflow-x:auto;line-height:normal;font-family:Menlo,'DejaVu Sans Mono',consolas,'Courier New',monospace\"><span style=\"color: #7fbfbf; text-decoration-color: #7fbfbf\">[09/02/24 20:50:05] </span><span style=\"color: #000080; text-decoration-color: #000080\">INFO    </span> <span style=\"font-weight: bold\">[</span><span style=\"color: #008080; text-decoration-color: #008080; font-weight: bold\">1</span>/<span style=\"color: #008080; text-decoration-color: #008080; font-weight: bold\">1</span><span style=\"font-weight: bold\">]</span> Retrieving game with <span style=\"color: #808000; text-decoration-color: #808000\">id</span>=<span style=\"color: #008080; text-decoration-color: #008080; font-weight: bold\">1821065</span>                                 <a href=\"file://C:\\Users\\acer\\AppData\\Local\\Programs\\Python\\Python312\\Lib\\site-packages\\soccerdata\\whoscored.py\" target=\"_blank\"><span style=\"color: #7f7f7f; text-decoration-color: #7f7f7f\">whoscored.py</span></a><span style=\"color: #7f7f7f; text-decoration-color: #7f7f7f\">:</span><a href=\"file://C:\\Users\\acer\\AppData\\Local\\Programs\\Python\\Python312\\Lib\\site-packages\\soccerdata\\whoscored.py#692\" target=\"_blank\"><span style=\"color: #7f7f7f; text-decoration-color: #7f7f7f\">692</span></a>\n",
       "</pre>\n"
      ],
      "text/plain": [
       "\u001b[2;36m[09/02/24 20:50:05]\u001b[0m\u001b[2;36m \u001b[0m\u001b[34mINFO    \u001b[0m \u001b[1m[\u001b[0m\u001b[1;36m1\u001b[0m/\u001b[1;36m1\u001b[0m\u001b[1m]\u001b[0m Retrieving game with \u001b[33mid\u001b[0m=\u001b[1;36m1821065\u001b[0m                                 \u001b]8;id=298041;file://C:\\Users\\acer\\AppData\\Local\\Programs\\Python\\Python312\\Lib\\site-packages\\soccerdata\\whoscored.py\u001b\\\u001b[2mwhoscored.py\u001b[0m\u001b]8;;\u001b\\\u001b[2m:\u001b[0m\u001b]8;id=881454;file://C:\\Users\\acer\\AppData\\Local\\Programs\\Python\\Python312\\Lib\\site-packages\\soccerdata\\whoscored.py#692\u001b\\\u001b[2m692\u001b[0m\u001b]8;;\u001b\\\n"
      ]
     },
     "metadata": {},
     "output_type": "display_data"
    },
    {
     "data": {
      "text/html": [
       "<pre style=\"white-space:pre;overflow-x:auto;line-height:normal;font-family:Menlo,'DejaVu Sans Mono',consolas,'Courier New',monospace\"><span style=\"color: #7fbfbf; text-decoration-color: #7fbfbf\">[09/02/24 20:50:16] </span><span style=\"color: #000080; text-decoration-color: #000080\">INFO    </span> Retrieving calendar for ENG-Premier League <span style=\"color: #008080; text-decoration-color: #008080; font-weight: bold\">2425</span>                       <a href=\"file://C:\\Users\\acer\\AppData\\Local\\Programs\\Python\\Python312\\Lib\\site-packages\\soccerdata\\whoscored.py\" target=\"_blank\"><span style=\"color: #7f7f7f; text-decoration-color: #7f7f7f\">whoscored.py</span></a><span style=\"color: #7f7f7f; text-decoration-color: #7f7f7f\">:</span><a href=\"file://C:\\Users\\acer\\AppData\\Local\\Programs\\Python\\Python312\\Lib\\site-packages\\soccerdata\\whoscored.py#371\" target=\"_blank\"><span style=\"color: #7f7f7f; text-decoration-color: #7f7f7f\">371</span></a>\n",
       "</pre>\n"
      ],
      "text/plain": [
       "\u001b[2;36m[09/02/24 20:50:16]\u001b[0m\u001b[2;36m \u001b[0m\u001b[34mINFO    \u001b[0m Retrieving calendar for ENG-Premier League \u001b[1;36m2425\u001b[0m                       \u001b]8;id=971742;file://C:\\Users\\acer\\AppData\\Local\\Programs\\Python\\Python312\\Lib\\site-packages\\soccerdata\\whoscored.py\u001b\\\u001b[2mwhoscored.py\u001b[0m\u001b]8;;\u001b\\\u001b[2m:\u001b[0m\u001b]8;id=518733;file://C:\\Users\\acer\\AppData\\Local\\Programs\\Python\\Python312\\Lib\\site-packages\\soccerdata\\whoscored.py#371\u001b\\\u001b[2m371\u001b[0m\u001b]8;;\u001b\\\n"
      ]
     },
     "metadata": {},
     "output_type": "display_data"
    },
    {
     "data": {
      "text/html": [
       "<pre style=\"white-space:pre;overflow-x:auto;line-height:normal;font-family:Menlo,'DejaVu Sans Mono',consolas,'Courier New',monospace\"><span style=\"color: #7fbfbf; text-decoration-color: #7fbfbf\">[09/02/24 20:50:26] </span><span style=\"color: #000080; text-decoration-color: #000080\">INFO    </span> <span style=\"font-weight: bold\">[</span><span style=\"color: #008080; text-decoration-color: #008080; font-weight: bold\">1</span>/<span style=\"color: #008080; text-decoration-color: #008080; font-weight: bold\">10</span><span style=\"font-weight: bold\">]</span> Retrieving fixtures for ENG-Premier League <span style=\"color: #008080; text-decoration-color: #008080; font-weight: bold\">2425</span>                <a href=\"file://C:\\Users\\acer\\AppData\\Local\\Programs\\Python\\Python312\\Lib\\site-packages\\soccerdata\\whoscored.py\" target=\"_blank\"><span style=\"color: #7f7f7f; text-decoration-color: #7f7f7f\">whoscored.py</span></a><span style=\"color: #7f7f7f; text-decoration-color: #7f7f7f\">:</span><a href=\"file://C:\\Users\\acer\\AppData\\Local\\Programs\\Python\\Python312\\Lib\\site-packages\\soccerdata\\whoscored.py#400\" target=\"_blank\"><span style=\"color: #7f7f7f; text-decoration-color: #7f7f7f\">400</span></a>\n",
       "</pre>\n"
      ],
      "text/plain": [
       "\u001b[2;36m[09/02/24 20:50:26]\u001b[0m\u001b[2;36m \u001b[0m\u001b[34mINFO    \u001b[0m \u001b[1m[\u001b[0m\u001b[1;36m1\u001b[0m/\u001b[1;36m10\u001b[0m\u001b[1m]\u001b[0m Retrieving fixtures for ENG-Premier League \u001b[1;36m2425\u001b[0m                \u001b]8;id=93492;file://C:\\Users\\acer\\AppData\\Local\\Programs\\Python\\Python312\\Lib\\site-packages\\soccerdata\\whoscored.py\u001b\\\u001b[2mwhoscored.py\u001b[0m\u001b]8;;\u001b\\\u001b[2m:\u001b[0m\u001b]8;id=512527;file://C:\\Users\\acer\\AppData\\Local\\Programs\\Python\\Python312\\Lib\\site-packages\\soccerdata\\whoscored.py#400\u001b\\\u001b[2m400\u001b[0m\u001b]8;;\u001b\\\n"
      ]
     },
     "metadata": {},
     "output_type": "display_data"
    },
    {
     "data": {
      "text/html": [
       "<pre style=\"white-space:pre;overflow-x:auto;line-height:normal;font-family:Menlo,'DejaVu Sans Mono',consolas,'Courier New',monospace\"><span style=\"color: #7fbfbf; text-decoration-color: #7fbfbf\">[09/02/24 20:50:33] </span><span style=\"color: #000080; text-decoration-color: #000080\">INFO    </span> <span style=\"font-weight: bold\">[</span><span style=\"color: #008080; text-decoration-color: #008080; font-weight: bold\">2</span>/<span style=\"color: #008080; text-decoration-color: #008080; font-weight: bold\">10</span><span style=\"font-weight: bold\">]</span> Retrieving fixtures for ENG-Premier League <span style=\"color: #008080; text-decoration-color: #008080; font-weight: bold\">2425</span>                <a href=\"file://C:\\Users\\acer\\AppData\\Local\\Programs\\Python\\Python312\\Lib\\site-packages\\soccerdata\\whoscored.py\" target=\"_blank\"><span style=\"color: #7f7f7f; text-decoration-color: #7f7f7f\">whoscored.py</span></a><span style=\"color: #7f7f7f; text-decoration-color: #7f7f7f\">:</span><a href=\"file://C:\\Users\\acer\\AppData\\Local\\Programs\\Python\\Python312\\Lib\\site-packages\\soccerdata\\whoscored.py#400\" target=\"_blank\"><span style=\"color: #7f7f7f; text-decoration-color: #7f7f7f\">400</span></a>\n",
       "</pre>\n"
      ],
      "text/plain": [
       "\u001b[2;36m[09/02/24 20:50:33]\u001b[0m\u001b[2;36m \u001b[0m\u001b[34mINFO    \u001b[0m \u001b[1m[\u001b[0m\u001b[1;36m2\u001b[0m/\u001b[1;36m10\u001b[0m\u001b[1m]\u001b[0m Retrieving fixtures for ENG-Premier League \u001b[1;36m2425\u001b[0m                \u001b]8;id=891148;file://C:\\Users\\acer\\AppData\\Local\\Programs\\Python\\Python312\\Lib\\site-packages\\soccerdata\\whoscored.py\u001b\\\u001b[2mwhoscored.py\u001b[0m\u001b]8;;\u001b\\\u001b[2m:\u001b[0m\u001b]8;id=597902;file://C:\\Users\\acer\\AppData\\Local\\Programs\\Python\\Python312\\Lib\\site-packages\\soccerdata\\whoscored.py#400\u001b\\\u001b[2m400\u001b[0m\u001b]8;;\u001b\\\n"
      ]
     },
     "metadata": {},
     "output_type": "display_data"
    },
    {
     "data": {
      "text/html": [
       "<pre style=\"white-space:pre;overflow-x:auto;line-height:normal;font-family:Menlo,'DejaVu Sans Mono',consolas,'Courier New',monospace\"><span style=\"color: #7fbfbf; text-decoration-color: #7fbfbf\">[09/02/24 20:50:40] </span><span style=\"color: #000080; text-decoration-color: #000080\">INFO    </span> <span style=\"font-weight: bold\">[</span><span style=\"color: #008080; text-decoration-color: #008080; font-weight: bold\">3</span>/<span style=\"color: #008080; text-decoration-color: #008080; font-weight: bold\">10</span><span style=\"font-weight: bold\">]</span> Retrieving fixtures for ENG-Premier League <span style=\"color: #008080; text-decoration-color: #008080; font-weight: bold\">2425</span>                <a href=\"file://C:\\Users\\acer\\AppData\\Local\\Programs\\Python\\Python312\\Lib\\site-packages\\soccerdata\\whoscored.py\" target=\"_blank\"><span style=\"color: #7f7f7f; text-decoration-color: #7f7f7f\">whoscored.py</span></a><span style=\"color: #7f7f7f; text-decoration-color: #7f7f7f\">:</span><a href=\"file://C:\\Users\\acer\\AppData\\Local\\Programs\\Python\\Python312\\Lib\\site-packages\\soccerdata\\whoscored.py#400\" target=\"_blank\"><span style=\"color: #7f7f7f; text-decoration-color: #7f7f7f\">400</span></a>\n",
       "</pre>\n"
      ],
      "text/plain": [
       "\u001b[2;36m[09/02/24 20:50:40]\u001b[0m\u001b[2;36m \u001b[0m\u001b[34mINFO    \u001b[0m \u001b[1m[\u001b[0m\u001b[1;36m3\u001b[0m/\u001b[1;36m10\u001b[0m\u001b[1m]\u001b[0m Retrieving fixtures for ENG-Premier League \u001b[1;36m2425\u001b[0m                \u001b]8;id=400079;file://C:\\Users\\acer\\AppData\\Local\\Programs\\Python\\Python312\\Lib\\site-packages\\soccerdata\\whoscored.py\u001b\\\u001b[2mwhoscored.py\u001b[0m\u001b]8;;\u001b\\\u001b[2m:\u001b[0m\u001b]8;id=111363;file://C:\\Users\\acer\\AppData\\Local\\Programs\\Python\\Python312\\Lib\\site-packages\\soccerdata\\whoscored.py#400\u001b\\\u001b[2m400\u001b[0m\u001b]8;;\u001b\\\n"
      ]
     },
     "metadata": {},
     "output_type": "display_data"
    },
    {
     "data": {
      "text/html": [
       "<pre style=\"white-space:pre;overflow-x:auto;line-height:normal;font-family:Menlo,'DejaVu Sans Mono',consolas,'Courier New',monospace\"><span style=\"color: #7fbfbf; text-decoration-color: #7fbfbf\">[09/02/24 20:50:49] </span><span style=\"color: #000080; text-decoration-color: #000080\">INFO    </span> <span style=\"font-weight: bold\">[</span><span style=\"color: #008080; text-decoration-color: #008080; font-weight: bold\">4</span>/<span style=\"color: #008080; text-decoration-color: #008080; font-weight: bold\">10</span><span style=\"font-weight: bold\">]</span> Retrieving fixtures for ENG-Premier League <span style=\"color: #008080; text-decoration-color: #008080; font-weight: bold\">2425</span>                <a href=\"file://C:\\Users\\acer\\AppData\\Local\\Programs\\Python\\Python312\\Lib\\site-packages\\soccerdata\\whoscored.py\" target=\"_blank\"><span style=\"color: #7f7f7f; text-decoration-color: #7f7f7f\">whoscored.py</span></a><span style=\"color: #7f7f7f; text-decoration-color: #7f7f7f\">:</span><a href=\"file://C:\\Users\\acer\\AppData\\Local\\Programs\\Python\\Python312\\Lib\\site-packages\\soccerdata\\whoscored.py#400\" target=\"_blank\"><span style=\"color: #7f7f7f; text-decoration-color: #7f7f7f\">400</span></a>\n",
       "</pre>\n"
      ],
      "text/plain": [
       "\u001b[2;36m[09/02/24 20:50:49]\u001b[0m\u001b[2;36m \u001b[0m\u001b[34mINFO    \u001b[0m \u001b[1m[\u001b[0m\u001b[1;36m4\u001b[0m/\u001b[1;36m10\u001b[0m\u001b[1m]\u001b[0m Retrieving fixtures for ENG-Premier League \u001b[1;36m2425\u001b[0m                \u001b]8;id=6185;file://C:\\Users\\acer\\AppData\\Local\\Programs\\Python\\Python312\\Lib\\site-packages\\soccerdata\\whoscored.py\u001b\\\u001b[2mwhoscored.py\u001b[0m\u001b]8;;\u001b\\\u001b[2m:\u001b[0m\u001b]8;id=870838;file://C:\\Users\\acer\\AppData\\Local\\Programs\\Python\\Python312\\Lib\\site-packages\\soccerdata\\whoscored.py#400\u001b\\\u001b[2m400\u001b[0m\u001b]8;;\u001b\\\n"
      ]
     },
     "metadata": {},
     "output_type": "display_data"
    },
    {
     "data": {
      "text/html": [
       "<pre style=\"white-space:pre;overflow-x:auto;line-height:normal;font-family:Menlo,'DejaVu Sans Mono',consolas,'Courier New',monospace\"><span style=\"color: #7fbfbf; text-decoration-color: #7fbfbf\">[09/02/24 20:50:55] </span><span style=\"color: #000080; text-decoration-color: #000080\">INFO    </span> <span style=\"font-weight: bold\">[</span><span style=\"color: #008080; text-decoration-color: #008080; font-weight: bold\">5</span>/<span style=\"color: #008080; text-decoration-color: #008080; font-weight: bold\">10</span><span style=\"font-weight: bold\">]</span> Retrieving fixtures for ENG-Premier League <span style=\"color: #008080; text-decoration-color: #008080; font-weight: bold\">2425</span>                <a href=\"file://C:\\Users\\acer\\AppData\\Local\\Programs\\Python\\Python312\\Lib\\site-packages\\soccerdata\\whoscored.py\" target=\"_blank\"><span style=\"color: #7f7f7f; text-decoration-color: #7f7f7f\">whoscored.py</span></a><span style=\"color: #7f7f7f; text-decoration-color: #7f7f7f\">:</span><a href=\"file://C:\\Users\\acer\\AppData\\Local\\Programs\\Python\\Python312\\Lib\\site-packages\\soccerdata\\whoscored.py#400\" target=\"_blank\"><span style=\"color: #7f7f7f; text-decoration-color: #7f7f7f\">400</span></a>\n",
       "</pre>\n"
      ],
      "text/plain": [
       "\u001b[2;36m[09/02/24 20:50:55]\u001b[0m\u001b[2;36m \u001b[0m\u001b[34mINFO    \u001b[0m \u001b[1m[\u001b[0m\u001b[1;36m5\u001b[0m/\u001b[1;36m10\u001b[0m\u001b[1m]\u001b[0m Retrieving fixtures for ENG-Premier League \u001b[1;36m2425\u001b[0m                \u001b]8;id=155348;file://C:\\Users\\acer\\AppData\\Local\\Programs\\Python\\Python312\\Lib\\site-packages\\soccerdata\\whoscored.py\u001b\\\u001b[2mwhoscored.py\u001b[0m\u001b]8;;\u001b\\\u001b[2m:\u001b[0m\u001b]8;id=450296;file://C:\\Users\\acer\\AppData\\Local\\Programs\\Python\\Python312\\Lib\\site-packages\\soccerdata\\whoscored.py#400\u001b\\\u001b[2m400\u001b[0m\u001b]8;;\u001b\\\n"
      ]
     },
     "metadata": {},
     "output_type": "display_data"
    },
    {
     "data": {
      "text/html": [
       "<pre style=\"white-space:pre;overflow-x:auto;line-height:normal;font-family:Menlo,'DejaVu Sans Mono',consolas,'Courier New',monospace\"><span style=\"color: #7fbfbf; text-decoration-color: #7fbfbf\">[09/02/24 20:51:02] </span><span style=\"color: #000080; text-decoration-color: #000080\">INFO    </span> <span style=\"font-weight: bold\">[</span><span style=\"color: #008080; text-decoration-color: #008080; font-weight: bold\">6</span>/<span style=\"color: #008080; text-decoration-color: #008080; font-weight: bold\">10</span><span style=\"font-weight: bold\">]</span> Retrieving fixtures for ENG-Premier League <span style=\"color: #008080; text-decoration-color: #008080; font-weight: bold\">2425</span>                <a href=\"file://C:\\Users\\acer\\AppData\\Local\\Programs\\Python\\Python312\\Lib\\site-packages\\soccerdata\\whoscored.py\" target=\"_blank\"><span style=\"color: #7f7f7f; text-decoration-color: #7f7f7f\">whoscored.py</span></a><span style=\"color: #7f7f7f; text-decoration-color: #7f7f7f\">:</span><a href=\"file://C:\\Users\\acer\\AppData\\Local\\Programs\\Python\\Python312\\Lib\\site-packages\\soccerdata\\whoscored.py#400\" target=\"_blank\"><span style=\"color: #7f7f7f; text-decoration-color: #7f7f7f\">400</span></a>\n",
       "</pre>\n"
      ],
      "text/plain": [
       "\u001b[2;36m[09/02/24 20:51:02]\u001b[0m\u001b[2;36m \u001b[0m\u001b[34mINFO    \u001b[0m \u001b[1m[\u001b[0m\u001b[1;36m6\u001b[0m/\u001b[1;36m10\u001b[0m\u001b[1m]\u001b[0m Retrieving fixtures for ENG-Premier League \u001b[1;36m2425\u001b[0m                \u001b]8;id=880628;file://C:\\Users\\acer\\AppData\\Local\\Programs\\Python\\Python312\\Lib\\site-packages\\soccerdata\\whoscored.py\u001b\\\u001b[2mwhoscored.py\u001b[0m\u001b]8;;\u001b\\\u001b[2m:\u001b[0m\u001b]8;id=811400;file://C:\\Users\\acer\\AppData\\Local\\Programs\\Python\\Python312\\Lib\\site-packages\\soccerdata\\whoscored.py#400\u001b\\\u001b[2m400\u001b[0m\u001b]8;;\u001b\\\n"
      ]
     },
     "metadata": {},
     "output_type": "display_data"
    },
    {
     "data": {
      "text/html": [
       "<pre style=\"white-space:pre;overflow-x:auto;line-height:normal;font-family:Menlo,'DejaVu Sans Mono',consolas,'Courier New',monospace\"><span style=\"color: #7fbfbf; text-decoration-color: #7fbfbf\">[09/02/24 20:51:12] </span><span style=\"color: #000080; text-decoration-color: #000080\">INFO    </span> <span style=\"font-weight: bold\">[</span><span style=\"color: #008080; text-decoration-color: #008080; font-weight: bold\">7</span>/<span style=\"color: #008080; text-decoration-color: #008080; font-weight: bold\">10</span><span style=\"font-weight: bold\">]</span> Retrieving fixtures for ENG-Premier League <span style=\"color: #008080; text-decoration-color: #008080; font-weight: bold\">2425</span>                <a href=\"file://C:\\Users\\acer\\AppData\\Local\\Programs\\Python\\Python312\\Lib\\site-packages\\soccerdata\\whoscored.py\" target=\"_blank\"><span style=\"color: #7f7f7f; text-decoration-color: #7f7f7f\">whoscored.py</span></a><span style=\"color: #7f7f7f; text-decoration-color: #7f7f7f\">:</span><a href=\"file://C:\\Users\\acer\\AppData\\Local\\Programs\\Python\\Python312\\Lib\\site-packages\\soccerdata\\whoscored.py#400\" target=\"_blank\"><span style=\"color: #7f7f7f; text-decoration-color: #7f7f7f\">400</span></a>\n",
       "</pre>\n"
      ],
      "text/plain": [
       "\u001b[2;36m[09/02/24 20:51:12]\u001b[0m\u001b[2;36m \u001b[0m\u001b[34mINFO    \u001b[0m \u001b[1m[\u001b[0m\u001b[1;36m7\u001b[0m/\u001b[1;36m10\u001b[0m\u001b[1m]\u001b[0m Retrieving fixtures for ENG-Premier League \u001b[1;36m2425\u001b[0m                \u001b]8;id=8321;file://C:\\Users\\acer\\AppData\\Local\\Programs\\Python\\Python312\\Lib\\site-packages\\soccerdata\\whoscored.py\u001b\\\u001b[2mwhoscored.py\u001b[0m\u001b]8;;\u001b\\\u001b[2m:\u001b[0m\u001b]8;id=388089;file://C:\\Users\\acer\\AppData\\Local\\Programs\\Python\\Python312\\Lib\\site-packages\\soccerdata\\whoscored.py#400\u001b\\\u001b[2m400\u001b[0m\u001b]8;;\u001b\\\n"
      ]
     },
     "metadata": {},
     "output_type": "display_data"
    },
    {
     "data": {
      "text/html": [
       "<pre style=\"white-space:pre;overflow-x:auto;line-height:normal;font-family:Menlo,'DejaVu Sans Mono',consolas,'Courier New',monospace\"><span style=\"color: #7fbfbf; text-decoration-color: #7fbfbf\">[09/02/24 20:51:18] </span><span style=\"color: #000080; text-decoration-color: #000080\">INFO    </span> <span style=\"font-weight: bold\">[</span><span style=\"color: #008080; text-decoration-color: #008080; font-weight: bold\">8</span>/<span style=\"color: #008080; text-decoration-color: #008080; font-weight: bold\">10</span><span style=\"font-weight: bold\">]</span> Retrieving fixtures for ENG-Premier League <span style=\"color: #008080; text-decoration-color: #008080; font-weight: bold\">2425</span>                <a href=\"file://C:\\Users\\acer\\AppData\\Local\\Programs\\Python\\Python312\\Lib\\site-packages\\soccerdata\\whoscored.py\" target=\"_blank\"><span style=\"color: #7f7f7f; text-decoration-color: #7f7f7f\">whoscored.py</span></a><span style=\"color: #7f7f7f; text-decoration-color: #7f7f7f\">:</span><a href=\"file://C:\\Users\\acer\\AppData\\Local\\Programs\\Python\\Python312\\Lib\\site-packages\\soccerdata\\whoscored.py#400\" target=\"_blank\"><span style=\"color: #7f7f7f; text-decoration-color: #7f7f7f\">400</span></a>\n",
       "</pre>\n"
      ],
      "text/plain": [
       "\u001b[2;36m[09/02/24 20:51:18]\u001b[0m\u001b[2;36m \u001b[0m\u001b[34mINFO    \u001b[0m \u001b[1m[\u001b[0m\u001b[1;36m8\u001b[0m/\u001b[1;36m10\u001b[0m\u001b[1m]\u001b[0m Retrieving fixtures for ENG-Premier League \u001b[1;36m2425\u001b[0m                \u001b]8;id=855810;file://C:\\Users\\acer\\AppData\\Local\\Programs\\Python\\Python312\\Lib\\site-packages\\soccerdata\\whoscored.py\u001b\\\u001b[2mwhoscored.py\u001b[0m\u001b]8;;\u001b\\\u001b[2m:\u001b[0m\u001b]8;id=655315;file://C:\\Users\\acer\\AppData\\Local\\Programs\\Python\\Python312\\Lib\\site-packages\\soccerdata\\whoscored.py#400\u001b\\\u001b[2m400\u001b[0m\u001b]8;;\u001b\\\n"
      ]
     },
     "metadata": {},
     "output_type": "display_data"
    },
    {
     "data": {
      "text/html": [
       "<pre style=\"white-space:pre;overflow-x:auto;line-height:normal;font-family:Menlo,'DejaVu Sans Mono',consolas,'Courier New',monospace\"><span style=\"color: #7fbfbf; text-decoration-color: #7fbfbf\">[09/02/24 20:51:25] </span><span style=\"color: #000080; text-decoration-color: #000080\">INFO    </span> <span style=\"font-weight: bold\">[</span><span style=\"color: #008080; text-decoration-color: #008080; font-weight: bold\">9</span>/<span style=\"color: #008080; text-decoration-color: #008080; font-weight: bold\">10</span><span style=\"font-weight: bold\">]</span> Retrieving fixtures for ENG-Premier League <span style=\"color: #008080; text-decoration-color: #008080; font-weight: bold\">2425</span>                <a href=\"file://C:\\Users\\acer\\AppData\\Local\\Programs\\Python\\Python312\\Lib\\site-packages\\soccerdata\\whoscored.py\" target=\"_blank\"><span style=\"color: #7f7f7f; text-decoration-color: #7f7f7f\">whoscored.py</span></a><span style=\"color: #7f7f7f; text-decoration-color: #7f7f7f\">:</span><a href=\"file://C:\\Users\\acer\\AppData\\Local\\Programs\\Python\\Python312\\Lib\\site-packages\\soccerdata\\whoscored.py#400\" target=\"_blank\"><span style=\"color: #7f7f7f; text-decoration-color: #7f7f7f\">400</span></a>\n",
       "</pre>\n"
      ],
      "text/plain": [
       "\u001b[2;36m[09/02/24 20:51:25]\u001b[0m\u001b[2;36m \u001b[0m\u001b[34mINFO    \u001b[0m \u001b[1m[\u001b[0m\u001b[1;36m9\u001b[0m/\u001b[1;36m10\u001b[0m\u001b[1m]\u001b[0m Retrieving fixtures for ENG-Premier League \u001b[1;36m2425\u001b[0m                \u001b]8;id=778716;file://C:\\Users\\acer\\AppData\\Local\\Programs\\Python\\Python312\\Lib\\site-packages\\soccerdata\\whoscored.py\u001b\\\u001b[2mwhoscored.py\u001b[0m\u001b]8;;\u001b\\\u001b[2m:\u001b[0m\u001b]8;id=151679;file://C:\\Users\\acer\\AppData\\Local\\Programs\\Python\\Python312\\Lib\\site-packages\\soccerdata\\whoscored.py#400\u001b\\\u001b[2m400\u001b[0m\u001b]8;;\u001b\\\n"
      ]
     },
     "metadata": {},
     "output_type": "display_data"
    },
    {
     "data": {
      "text/html": [
       "<pre style=\"white-space:pre;overflow-x:auto;line-height:normal;font-family:Menlo,'DejaVu Sans Mono',consolas,'Courier New',monospace\"><span style=\"color: #7fbfbf; text-decoration-color: #7fbfbf\">[09/02/24 20:51:35] </span><span style=\"color: #000080; text-decoration-color: #000080\">INFO    </span> <span style=\"font-weight: bold\">[</span><span style=\"color: #008080; text-decoration-color: #008080; font-weight: bold\">10</span>/<span style=\"color: #008080; text-decoration-color: #008080; font-weight: bold\">10</span><span style=\"font-weight: bold\">]</span> Retrieving fixtures for ENG-Premier League <span style=\"color: #008080; text-decoration-color: #008080; font-weight: bold\">2425</span>               <a href=\"file://C:\\Users\\acer\\AppData\\Local\\Programs\\Python\\Python312\\Lib\\site-packages\\soccerdata\\whoscored.py\" target=\"_blank\"><span style=\"color: #7f7f7f; text-decoration-color: #7f7f7f\">whoscored.py</span></a><span style=\"color: #7f7f7f; text-decoration-color: #7f7f7f\">:</span><a href=\"file://C:\\Users\\acer\\AppData\\Local\\Programs\\Python\\Python312\\Lib\\site-packages\\soccerdata\\whoscored.py#400\" target=\"_blank\"><span style=\"color: #7f7f7f; text-decoration-color: #7f7f7f\">400</span></a>\n",
       "</pre>\n"
      ],
      "text/plain": [
       "\u001b[2;36m[09/02/24 20:51:35]\u001b[0m\u001b[2;36m \u001b[0m\u001b[34mINFO    \u001b[0m \u001b[1m[\u001b[0m\u001b[1;36m10\u001b[0m/\u001b[1;36m10\u001b[0m\u001b[1m]\u001b[0m Retrieving fixtures for ENG-Premier League \u001b[1;36m2425\u001b[0m               \u001b]8;id=336275;file://C:\\Users\\acer\\AppData\\Local\\Programs\\Python\\Python312\\Lib\\site-packages\\soccerdata\\whoscored.py\u001b\\\u001b[2mwhoscored.py\u001b[0m\u001b]8;;\u001b\\\u001b[2m:\u001b[0m\u001b]8;id=235484;file://C:\\Users\\acer\\AppData\\Local\\Programs\\Python\\Python312\\Lib\\site-packages\\soccerdata\\whoscored.py#400\u001b\\\u001b[2m400\u001b[0m\u001b]8;;\u001b\\\n"
      ]
     },
     "metadata": {},
     "output_type": "display_data"
    },
    {
     "name": "stderr",
     "output_type": "stream",
     "text": [
      "C:\\Users\\acer\\AppData\\Local\\Programs\\Python\\Python312\\Lib\\site-packages\\soccerdata\\whoscored.py:424: FutureWarning: The behavior of DataFrame concatenation with empty or all-NA entries is deprecated. In a future version, this will no longer exclude empty or all-NA columns when determining the result dtypes. To retain the old behavior, exclude the relevant entries before the concat operation.\n",
      "  pd.concat(all_schedules)\n"
     ]
    },
    {
     "data": {
      "text/html": [
       "<pre style=\"white-space:pre;overflow-x:auto;line-height:normal;font-family:Menlo,'DejaVu Sans Mono',consolas,'Courier New',monospace\"><span style=\"color: #7fbfbf; text-decoration-color: #7fbfbf\">[09/02/24 20:51:41] </span><span style=\"color: #000080; text-decoration-color: #000080\">INFO    </span> <span style=\"font-weight: bold\">[</span><span style=\"color: #008080; text-decoration-color: #008080; font-weight: bold\">1</span>/<span style=\"color: #008080; text-decoration-color: #008080; font-weight: bold\">1</span><span style=\"font-weight: bold\">]</span> Retrieving game with <span style=\"color: #808000; text-decoration-color: #808000\">id</span>=<span style=\"color: #008080; text-decoration-color: #008080; font-weight: bold\">1821066</span>                                 <a href=\"file://C:\\Users\\acer\\AppData\\Local\\Programs\\Python\\Python312\\Lib\\site-packages\\soccerdata\\whoscored.py\" target=\"_blank\"><span style=\"color: #7f7f7f; text-decoration-color: #7f7f7f\">whoscored.py</span></a><span style=\"color: #7f7f7f; text-decoration-color: #7f7f7f\">:</span><a href=\"file://C:\\Users\\acer\\AppData\\Local\\Programs\\Python\\Python312\\Lib\\site-packages\\soccerdata\\whoscored.py#692\" target=\"_blank\"><span style=\"color: #7f7f7f; text-decoration-color: #7f7f7f\">692</span></a>\n",
       "</pre>\n"
      ],
      "text/plain": [
       "\u001b[2;36m[09/02/24 20:51:41]\u001b[0m\u001b[2;36m \u001b[0m\u001b[34mINFO    \u001b[0m \u001b[1m[\u001b[0m\u001b[1;36m1\u001b[0m/\u001b[1;36m1\u001b[0m\u001b[1m]\u001b[0m Retrieving game with \u001b[33mid\u001b[0m=\u001b[1;36m1821066\u001b[0m                                 \u001b]8;id=884515;file://C:\\Users\\acer\\AppData\\Local\\Programs\\Python\\Python312\\Lib\\site-packages\\soccerdata\\whoscored.py\u001b\\\u001b[2mwhoscored.py\u001b[0m\u001b]8;;\u001b\\\u001b[2m:\u001b[0m\u001b]8;id=438182;file://C:\\Users\\acer\\AppData\\Local\\Programs\\Python\\Python312\\Lib\\site-packages\\soccerdata\\whoscored.py#692\u001b\\\u001b[2m692\u001b[0m\u001b]8;;\u001b\\\n"
      ]
     },
     "metadata": {},
     "output_type": "display_data"
    },
    {
     "data": {
      "text/html": [
       "<pre style=\"white-space:pre;overflow-x:auto;line-height:normal;font-family:Menlo,'DejaVu Sans Mono',consolas,'Courier New',monospace\"><span style=\"color: #7fbfbf; text-decoration-color: #7fbfbf\">[09/02/24 20:52:06] </span><span style=\"color: #000080; text-decoration-color: #000080\">INFO    </span> Retrieving calendar for ENG-Premier League <span style=\"color: #008080; text-decoration-color: #008080; font-weight: bold\">2425</span>                       <a href=\"file://C:\\Users\\acer\\AppData\\Local\\Programs\\Python\\Python312\\Lib\\site-packages\\soccerdata\\whoscored.py\" target=\"_blank\"><span style=\"color: #7f7f7f; text-decoration-color: #7f7f7f\">whoscored.py</span></a><span style=\"color: #7f7f7f; text-decoration-color: #7f7f7f\">:</span><a href=\"file://C:\\Users\\acer\\AppData\\Local\\Programs\\Python\\Python312\\Lib\\site-packages\\soccerdata\\whoscored.py#371\" target=\"_blank\"><span style=\"color: #7f7f7f; text-decoration-color: #7f7f7f\">371</span></a>\n",
       "</pre>\n"
      ],
      "text/plain": [
       "\u001b[2;36m[09/02/24 20:52:06]\u001b[0m\u001b[2;36m \u001b[0m\u001b[34mINFO    \u001b[0m Retrieving calendar for ENG-Premier League \u001b[1;36m2425\u001b[0m                       \u001b]8;id=653264;file://C:\\Users\\acer\\AppData\\Local\\Programs\\Python\\Python312\\Lib\\site-packages\\soccerdata\\whoscored.py\u001b\\\u001b[2mwhoscored.py\u001b[0m\u001b]8;;\u001b\\\u001b[2m:\u001b[0m\u001b]8;id=83550;file://C:\\Users\\acer\\AppData\\Local\\Programs\\Python\\Python312\\Lib\\site-packages\\soccerdata\\whoscored.py#371\u001b\\\u001b[2m371\u001b[0m\u001b]8;;\u001b\\\n"
      ]
     },
     "metadata": {},
     "output_type": "display_data"
    },
    {
     "data": {
      "text/html": [
       "<pre style=\"white-space:pre;overflow-x:auto;line-height:normal;font-family:Menlo,'DejaVu Sans Mono',consolas,'Courier New',monospace\"><span style=\"color: #7fbfbf; text-decoration-color: #7fbfbf\">[09/02/24 20:52:16] </span><span style=\"color: #000080; text-decoration-color: #000080\">INFO    </span> <span style=\"font-weight: bold\">[</span><span style=\"color: #008080; text-decoration-color: #008080; font-weight: bold\">1</span>/<span style=\"color: #008080; text-decoration-color: #008080; font-weight: bold\">10</span><span style=\"font-weight: bold\">]</span> Retrieving fixtures for ENG-Premier League <span style=\"color: #008080; text-decoration-color: #008080; font-weight: bold\">2425</span>                <a href=\"file://C:\\Users\\acer\\AppData\\Local\\Programs\\Python\\Python312\\Lib\\site-packages\\soccerdata\\whoscored.py\" target=\"_blank\"><span style=\"color: #7f7f7f; text-decoration-color: #7f7f7f\">whoscored.py</span></a><span style=\"color: #7f7f7f; text-decoration-color: #7f7f7f\">:</span><a href=\"file://C:\\Users\\acer\\AppData\\Local\\Programs\\Python\\Python312\\Lib\\site-packages\\soccerdata\\whoscored.py#400\" target=\"_blank\"><span style=\"color: #7f7f7f; text-decoration-color: #7f7f7f\">400</span></a>\n",
       "</pre>\n"
      ],
      "text/plain": [
       "\u001b[2;36m[09/02/24 20:52:16]\u001b[0m\u001b[2;36m \u001b[0m\u001b[34mINFO    \u001b[0m \u001b[1m[\u001b[0m\u001b[1;36m1\u001b[0m/\u001b[1;36m10\u001b[0m\u001b[1m]\u001b[0m Retrieving fixtures for ENG-Premier League \u001b[1;36m2425\u001b[0m                \u001b]8;id=405165;file://C:\\Users\\acer\\AppData\\Local\\Programs\\Python\\Python312\\Lib\\site-packages\\soccerdata\\whoscored.py\u001b\\\u001b[2mwhoscored.py\u001b[0m\u001b]8;;\u001b\\\u001b[2m:\u001b[0m\u001b]8;id=88016;file://C:\\Users\\acer\\AppData\\Local\\Programs\\Python\\Python312\\Lib\\site-packages\\soccerdata\\whoscored.py#400\u001b\\\u001b[2m400\u001b[0m\u001b]8;;\u001b\\\n"
      ]
     },
     "metadata": {},
     "output_type": "display_data"
    },
    {
     "data": {
      "text/html": [
       "<pre style=\"white-space:pre;overflow-x:auto;line-height:normal;font-family:Menlo,'DejaVu Sans Mono',consolas,'Courier New',monospace\"><span style=\"color: #7fbfbf; text-decoration-color: #7fbfbf\">[09/02/24 20:52:25] </span><span style=\"color: #000080; text-decoration-color: #000080\">INFO    </span> <span style=\"font-weight: bold\">[</span><span style=\"color: #008080; text-decoration-color: #008080; font-weight: bold\">2</span>/<span style=\"color: #008080; text-decoration-color: #008080; font-weight: bold\">10</span><span style=\"font-weight: bold\">]</span> Retrieving fixtures for ENG-Premier League <span style=\"color: #008080; text-decoration-color: #008080; font-weight: bold\">2425</span>                <a href=\"file://C:\\Users\\acer\\AppData\\Local\\Programs\\Python\\Python312\\Lib\\site-packages\\soccerdata\\whoscored.py\" target=\"_blank\"><span style=\"color: #7f7f7f; text-decoration-color: #7f7f7f\">whoscored.py</span></a><span style=\"color: #7f7f7f; text-decoration-color: #7f7f7f\">:</span><a href=\"file://C:\\Users\\acer\\AppData\\Local\\Programs\\Python\\Python312\\Lib\\site-packages\\soccerdata\\whoscored.py#400\" target=\"_blank\"><span style=\"color: #7f7f7f; text-decoration-color: #7f7f7f\">400</span></a>\n",
       "</pre>\n"
      ],
      "text/plain": [
       "\u001b[2;36m[09/02/24 20:52:25]\u001b[0m\u001b[2;36m \u001b[0m\u001b[34mINFO    \u001b[0m \u001b[1m[\u001b[0m\u001b[1;36m2\u001b[0m/\u001b[1;36m10\u001b[0m\u001b[1m]\u001b[0m Retrieving fixtures for ENG-Premier League \u001b[1;36m2425\u001b[0m                \u001b]8;id=689484;file://C:\\Users\\acer\\AppData\\Local\\Programs\\Python\\Python312\\Lib\\site-packages\\soccerdata\\whoscored.py\u001b\\\u001b[2mwhoscored.py\u001b[0m\u001b]8;;\u001b\\\u001b[2m:\u001b[0m\u001b]8;id=249795;file://C:\\Users\\acer\\AppData\\Local\\Programs\\Python\\Python312\\Lib\\site-packages\\soccerdata\\whoscored.py#400\u001b\\\u001b[2m400\u001b[0m\u001b]8;;\u001b\\\n"
      ]
     },
     "metadata": {},
     "output_type": "display_data"
    },
    {
     "data": {
      "text/html": [
       "<pre style=\"white-space:pre;overflow-x:auto;line-height:normal;font-family:Menlo,'DejaVu Sans Mono',consolas,'Courier New',monospace\"><span style=\"color: #7fbfbf; text-decoration-color: #7fbfbf\">[09/02/24 20:52:34] </span><span style=\"color: #000080; text-decoration-color: #000080\">INFO    </span> <span style=\"font-weight: bold\">[</span><span style=\"color: #008080; text-decoration-color: #008080; font-weight: bold\">3</span>/<span style=\"color: #008080; text-decoration-color: #008080; font-weight: bold\">10</span><span style=\"font-weight: bold\">]</span> Retrieving fixtures for ENG-Premier League <span style=\"color: #008080; text-decoration-color: #008080; font-weight: bold\">2425</span>                <a href=\"file://C:\\Users\\acer\\AppData\\Local\\Programs\\Python\\Python312\\Lib\\site-packages\\soccerdata\\whoscored.py\" target=\"_blank\"><span style=\"color: #7f7f7f; text-decoration-color: #7f7f7f\">whoscored.py</span></a><span style=\"color: #7f7f7f; text-decoration-color: #7f7f7f\">:</span><a href=\"file://C:\\Users\\acer\\AppData\\Local\\Programs\\Python\\Python312\\Lib\\site-packages\\soccerdata\\whoscored.py#400\" target=\"_blank\"><span style=\"color: #7f7f7f; text-decoration-color: #7f7f7f\">400</span></a>\n",
       "</pre>\n"
      ],
      "text/plain": [
       "\u001b[2;36m[09/02/24 20:52:34]\u001b[0m\u001b[2;36m \u001b[0m\u001b[34mINFO    \u001b[0m \u001b[1m[\u001b[0m\u001b[1;36m3\u001b[0m/\u001b[1;36m10\u001b[0m\u001b[1m]\u001b[0m Retrieving fixtures for ENG-Premier League \u001b[1;36m2425\u001b[0m                \u001b]8;id=204993;file://C:\\Users\\acer\\AppData\\Local\\Programs\\Python\\Python312\\Lib\\site-packages\\soccerdata\\whoscored.py\u001b\\\u001b[2mwhoscored.py\u001b[0m\u001b]8;;\u001b\\\u001b[2m:\u001b[0m\u001b]8;id=390366;file://C:\\Users\\acer\\AppData\\Local\\Programs\\Python\\Python312\\Lib\\site-packages\\soccerdata\\whoscored.py#400\u001b\\\u001b[2m400\u001b[0m\u001b]8;;\u001b\\\n"
      ]
     },
     "metadata": {},
     "output_type": "display_data"
    },
    {
     "data": {
      "text/html": [
       "<pre style=\"white-space:pre;overflow-x:auto;line-height:normal;font-family:Menlo,'DejaVu Sans Mono',consolas,'Courier New',monospace\"><span style=\"color: #7fbfbf; text-decoration-color: #7fbfbf\">[09/02/24 20:52:43] </span><span style=\"color: #000080; text-decoration-color: #000080\">INFO    </span> <span style=\"font-weight: bold\">[</span><span style=\"color: #008080; text-decoration-color: #008080; font-weight: bold\">4</span>/<span style=\"color: #008080; text-decoration-color: #008080; font-weight: bold\">10</span><span style=\"font-weight: bold\">]</span> Retrieving fixtures for ENG-Premier League <span style=\"color: #008080; text-decoration-color: #008080; font-weight: bold\">2425</span>                <a href=\"file://C:\\Users\\acer\\AppData\\Local\\Programs\\Python\\Python312\\Lib\\site-packages\\soccerdata\\whoscored.py\" target=\"_blank\"><span style=\"color: #7f7f7f; text-decoration-color: #7f7f7f\">whoscored.py</span></a><span style=\"color: #7f7f7f; text-decoration-color: #7f7f7f\">:</span><a href=\"file://C:\\Users\\acer\\AppData\\Local\\Programs\\Python\\Python312\\Lib\\site-packages\\soccerdata\\whoscored.py#400\" target=\"_blank\"><span style=\"color: #7f7f7f; text-decoration-color: #7f7f7f\">400</span></a>\n",
       "</pre>\n"
      ],
      "text/plain": [
       "\u001b[2;36m[09/02/24 20:52:43]\u001b[0m\u001b[2;36m \u001b[0m\u001b[34mINFO    \u001b[0m \u001b[1m[\u001b[0m\u001b[1;36m4\u001b[0m/\u001b[1;36m10\u001b[0m\u001b[1m]\u001b[0m Retrieving fixtures for ENG-Premier League \u001b[1;36m2425\u001b[0m                \u001b]8;id=969765;file://C:\\Users\\acer\\AppData\\Local\\Programs\\Python\\Python312\\Lib\\site-packages\\soccerdata\\whoscored.py\u001b\\\u001b[2mwhoscored.py\u001b[0m\u001b]8;;\u001b\\\u001b[2m:\u001b[0m\u001b]8;id=539716;file://C:\\Users\\acer\\AppData\\Local\\Programs\\Python\\Python312\\Lib\\site-packages\\soccerdata\\whoscored.py#400\u001b\\\u001b[2m400\u001b[0m\u001b]8;;\u001b\\\n"
      ]
     },
     "metadata": {},
     "output_type": "display_data"
    },
    {
     "data": {
      "text/html": [
       "<pre style=\"white-space:pre;overflow-x:auto;line-height:normal;font-family:Menlo,'DejaVu Sans Mono',consolas,'Courier New',monospace\"><span style=\"color: #7fbfbf; text-decoration-color: #7fbfbf\">[09/02/24 20:52:49] </span><span style=\"color: #000080; text-decoration-color: #000080\">INFO    </span> <span style=\"font-weight: bold\">[</span><span style=\"color: #008080; text-decoration-color: #008080; font-weight: bold\">5</span>/<span style=\"color: #008080; text-decoration-color: #008080; font-weight: bold\">10</span><span style=\"font-weight: bold\">]</span> Retrieving fixtures for ENG-Premier League <span style=\"color: #008080; text-decoration-color: #008080; font-weight: bold\">2425</span>                <a href=\"file://C:\\Users\\acer\\AppData\\Local\\Programs\\Python\\Python312\\Lib\\site-packages\\soccerdata\\whoscored.py\" target=\"_blank\"><span style=\"color: #7f7f7f; text-decoration-color: #7f7f7f\">whoscored.py</span></a><span style=\"color: #7f7f7f; text-decoration-color: #7f7f7f\">:</span><a href=\"file://C:\\Users\\acer\\AppData\\Local\\Programs\\Python\\Python312\\Lib\\site-packages\\soccerdata\\whoscored.py#400\" target=\"_blank\"><span style=\"color: #7f7f7f; text-decoration-color: #7f7f7f\">400</span></a>\n",
       "</pre>\n"
      ],
      "text/plain": [
       "\u001b[2;36m[09/02/24 20:52:49]\u001b[0m\u001b[2;36m \u001b[0m\u001b[34mINFO    \u001b[0m \u001b[1m[\u001b[0m\u001b[1;36m5\u001b[0m/\u001b[1;36m10\u001b[0m\u001b[1m]\u001b[0m Retrieving fixtures for ENG-Premier League \u001b[1;36m2425\u001b[0m                \u001b]8;id=782092;file://C:\\Users\\acer\\AppData\\Local\\Programs\\Python\\Python312\\Lib\\site-packages\\soccerdata\\whoscored.py\u001b\\\u001b[2mwhoscored.py\u001b[0m\u001b]8;;\u001b\\\u001b[2m:\u001b[0m\u001b]8;id=41863;file://C:\\Users\\acer\\AppData\\Local\\Programs\\Python\\Python312\\Lib\\site-packages\\soccerdata\\whoscored.py#400\u001b\\\u001b[2m400\u001b[0m\u001b]8;;\u001b\\\n"
      ]
     },
     "metadata": {},
     "output_type": "display_data"
    },
    {
     "data": {
      "text/html": [
       "<pre style=\"white-space:pre;overflow-x:auto;line-height:normal;font-family:Menlo,'DejaVu Sans Mono',consolas,'Courier New',monospace\"><span style=\"color: #7fbfbf; text-decoration-color: #7fbfbf\">[09/02/24 20:53:00] </span><span style=\"color: #000080; text-decoration-color: #000080\">INFO    </span> <span style=\"font-weight: bold\">[</span><span style=\"color: #008080; text-decoration-color: #008080; font-weight: bold\">6</span>/<span style=\"color: #008080; text-decoration-color: #008080; font-weight: bold\">10</span><span style=\"font-weight: bold\">]</span> Retrieving fixtures for ENG-Premier League <span style=\"color: #008080; text-decoration-color: #008080; font-weight: bold\">2425</span>                <a href=\"file://C:\\Users\\acer\\AppData\\Local\\Programs\\Python\\Python312\\Lib\\site-packages\\soccerdata\\whoscored.py\" target=\"_blank\"><span style=\"color: #7f7f7f; text-decoration-color: #7f7f7f\">whoscored.py</span></a><span style=\"color: #7f7f7f; text-decoration-color: #7f7f7f\">:</span><a href=\"file://C:\\Users\\acer\\AppData\\Local\\Programs\\Python\\Python312\\Lib\\site-packages\\soccerdata\\whoscored.py#400\" target=\"_blank\"><span style=\"color: #7f7f7f; text-decoration-color: #7f7f7f\">400</span></a>\n",
       "</pre>\n"
      ],
      "text/plain": [
       "\u001b[2;36m[09/02/24 20:53:00]\u001b[0m\u001b[2;36m \u001b[0m\u001b[34mINFO    \u001b[0m \u001b[1m[\u001b[0m\u001b[1;36m6\u001b[0m/\u001b[1;36m10\u001b[0m\u001b[1m]\u001b[0m Retrieving fixtures for ENG-Premier League \u001b[1;36m2425\u001b[0m                \u001b]8;id=296298;file://C:\\Users\\acer\\AppData\\Local\\Programs\\Python\\Python312\\Lib\\site-packages\\soccerdata\\whoscored.py\u001b\\\u001b[2mwhoscored.py\u001b[0m\u001b]8;;\u001b\\\u001b[2m:\u001b[0m\u001b]8;id=63137;file://C:\\Users\\acer\\AppData\\Local\\Programs\\Python\\Python312\\Lib\\site-packages\\soccerdata\\whoscored.py#400\u001b\\\u001b[2m400\u001b[0m\u001b]8;;\u001b\\\n"
      ]
     },
     "metadata": {},
     "output_type": "display_data"
    },
    {
     "data": {
      "text/html": [
       "<pre style=\"white-space:pre;overflow-x:auto;line-height:normal;font-family:Menlo,'DejaVu Sans Mono',consolas,'Courier New',monospace\"><span style=\"color: #7fbfbf; text-decoration-color: #7fbfbf\">[09/02/24 20:53:08] </span><span style=\"color: #000080; text-decoration-color: #000080\">INFO    </span> <span style=\"font-weight: bold\">[</span><span style=\"color: #008080; text-decoration-color: #008080; font-weight: bold\">7</span>/<span style=\"color: #008080; text-decoration-color: #008080; font-weight: bold\">10</span><span style=\"font-weight: bold\">]</span> Retrieving fixtures for ENG-Premier League <span style=\"color: #008080; text-decoration-color: #008080; font-weight: bold\">2425</span>                <a href=\"file://C:\\Users\\acer\\AppData\\Local\\Programs\\Python\\Python312\\Lib\\site-packages\\soccerdata\\whoscored.py\" target=\"_blank\"><span style=\"color: #7f7f7f; text-decoration-color: #7f7f7f\">whoscored.py</span></a><span style=\"color: #7f7f7f; text-decoration-color: #7f7f7f\">:</span><a href=\"file://C:\\Users\\acer\\AppData\\Local\\Programs\\Python\\Python312\\Lib\\site-packages\\soccerdata\\whoscored.py#400\" target=\"_blank\"><span style=\"color: #7f7f7f; text-decoration-color: #7f7f7f\">400</span></a>\n",
       "</pre>\n"
      ],
      "text/plain": [
       "\u001b[2;36m[09/02/24 20:53:08]\u001b[0m\u001b[2;36m \u001b[0m\u001b[34mINFO    \u001b[0m \u001b[1m[\u001b[0m\u001b[1;36m7\u001b[0m/\u001b[1;36m10\u001b[0m\u001b[1m]\u001b[0m Retrieving fixtures for ENG-Premier League \u001b[1;36m2425\u001b[0m                \u001b]8;id=834463;file://C:\\Users\\acer\\AppData\\Local\\Programs\\Python\\Python312\\Lib\\site-packages\\soccerdata\\whoscored.py\u001b\\\u001b[2mwhoscored.py\u001b[0m\u001b]8;;\u001b\\\u001b[2m:\u001b[0m\u001b]8;id=856083;file://C:\\Users\\acer\\AppData\\Local\\Programs\\Python\\Python312\\Lib\\site-packages\\soccerdata\\whoscored.py#400\u001b\\\u001b[2m400\u001b[0m\u001b]8;;\u001b\\\n"
      ]
     },
     "metadata": {},
     "output_type": "display_data"
    },
    {
     "data": {
      "text/html": [
       "<pre style=\"white-space:pre;overflow-x:auto;line-height:normal;font-family:Menlo,'DejaVu Sans Mono',consolas,'Courier New',monospace\"><span style=\"color: #7fbfbf; text-decoration-color: #7fbfbf\">[09/02/24 20:53:15] </span><span style=\"color: #000080; text-decoration-color: #000080\">INFO    </span> <span style=\"font-weight: bold\">[</span><span style=\"color: #008080; text-decoration-color: #008080; font-weight: bold\">8</span>/<span style=\"color: #008080; text-decoration-color: #008080; font-weight: bold\">10</span><span style=\"font-weight: bold\">]</span> Retrieving fixtures for ENG-Premier League <span style=\"color: #008080; text-decoration-color: #008080; font-weight: bold\">2425</span>                <a href=\"file://C:\\Users\\acer\\AppData\\Local\\Programs\\Python\\Python312\\Lib\\site-packages\\soccerdata\\whoscored.py\" target=\"_blank\"><span style=\"color: #7f7f7f; text-decoration-color: #7f7f7f\">whoscored.py</span></a><span style=\"color: #7f7f7f; text-decoration-color: #7f7f7f\">:</span><a href=\"file://C:\\Users\\acer\\AppData\\Local\\Programs\\Python\\Python312\\Lib\\site-packages\\soccerdata\\whoscored.py#400\" target=\"_blank\"><span style=\"color: #7f7f7f; text-decoration-color: #7f7f7f\">400</span></a>\n",
       "</pre>\n"
      ],
      "text/plain": [
       "\u001b[2;36m[09/02/24 20:53:15]\u001b[0m\u001b[2;36m \u001b[0m\u001b[34mINFO    \u001b[0m \u001b[1m[\u001b[0m\u001b[1;36m8\u001b[0m/\u001b[1;36m10\u001b[0m\u001b[1m]\u001b[0m Retrieving fixtures for ENG-Premier League \u001b[1;36m2425\u001b[0m                \u001b]8;id=97483;file://C:\\Users\\acer\\AppData\\Local\\Programs\\Python\\Python312\\Lib\\site-packages\\soccerdata\\whoscored.py\u001b\\\u001b[2mwhoscored.py\u001b[0m\u001b]8;;\u001b\\\u001b[2m:\u001b[0m\u001b]8;id=883825;file://C:\\Users\\acer\\AppData\\Local\\Programs\\Python\\Python312\\Lib\\site-packages\\soccerdata\\whoscored.py#400\u001b\\\u001b[2m400\u001b[0m\u001b]8;;\u001b\\\n"
      ]
     },
     "metadata": {},
     "output_type": "display_data"
    },
    {
     "data": {
      "text/html": [
       "<pre style=\"white-space:pre;overflow-x:auto;line-height:normal;font-family:Menlo,'DejaVu Sans Mono',consolas,'Courier New',monospace\"><span style=\"color: #7fbfbf; text-decoration-color: #7fbfbf\">[09/02/24 20:53:23] </span><span style=\"color: #000080; text-decoration-color: #000080\">INFO    </span> <span style=\"font-weight: bold\">[</span><span style=\"color: #008080; text-decoration-color: #008080; font-weight: bold\">9</span>/<span style=\"color: #008080; text-decoration-color: #008080; font-weight: bold\">10</span><span style=\"font-weight: bold\">]</span> Retrieving fixtures for ENG-Premier League <span style=\"color: #008080; text-decoration-color: #008080; font-weight: bold\">2425</span>                <a href=\"file://C:\\Users\\acer\\AppData\\Local\\Programs\\Python\\Python312\\Lib\\site-packages\\soccerdata\\whoscored.py\" target=\"_blank\"><span style=\"color: #7f7f7f; text-decoration-color: #7f7f7f\">whoscored.py</span></a><span style=\"color: #7f7f7f; text-decoration-color: #7f7f7f\">:</span><a href=\"file://C:\\Users\\acer\\AppData\\Local\\Programs\\Python\\Python312\\Lib\\site-packages\\soccerdata\\whoscored.py#400\" target=\"_blank\"><span style=\"color: #7f7f7f; text-decoration-color: #7f7f7f\">400</span></a>\n",
       "</pre>\n"
      ],
      "text/plain": [
       "\u001b[2;36m[09/02/24 20:53:23]\u001b[0m\u001b[2;36m \u001b[0m\u001b[34mINFO    \u001b[0m \u001b[1m[\u001b[0m\u001b[1;36m9\u001b[0m/\u001b[1;36m10\u001b[0m\u001b[1m]\u001b[0m Retrieving fixtures for ENG-Premier League \u001b[1;36m2425\u001b[0m                \u001b]8;id=871367;file://C:\\Users\\acer\\AppData\\Local\\Programs\\Python\\Python312\\Lib\\site-packages\\soccerdata\\whoscored.py\u001b\\\u001b[2mwhoscored.py\u001b[0m\u001b]8;;\u001b\\\u001b[2m:\u001b[0m\u001b]8;id=442859;file://C:\\Users\\acer\\AppData\\Local\\Programs\\Python\\Python312\\Lib\\site-packages\\soccerdata\\whoscored.py#400\u001b\\\u001b[2m400\u001b[0m\u001b]8;;\u001b\\\n"
      ]
     },
     "metadata": {},
     "output_type": "display_data"
    },
    {
     "data": {
      "text/html": [
       "<pre style=\"white-space:pre;overflow-x:auto;line-height:normal;font-family:Menlo,'DejaVu Sans Mono',consolas,'Courier New',monospace\"><span style=\"color: #7fbfbf; text-decoration-color: #7fbfbf\">[09/02/24 20:53:33] </span><span style=\"color: #000080; text-decoration-color: #000080\">INFO    </span> <span style=\"font-weight: bold\">[</span><span style=\"color: #008080; text-decoration-color: #008080; font-weight: bold\">10</span>/<span style=\"color: #008080; text-decoration-color: #008080; font-weight: bold\">10</span><span style=\"font-weight: bold\">]</span> Retrieving fixtures for ENG-Premier League <span style=\"color: #008080; text-decoration-color: #008080; font-weight: bold\">2425</span>               <a href=\"file://C:\\Users\\acer\\AppData\\Local\\Programs\\Python\\Python312\\Lib\\site-packages\\soccerdata\\whoscored.py\" target=\"_blank\"><span style=\"color: #7f7f7f; text-decoration-color: #7f7f7f\">whoscored.py</span></a><span style=\"color: #7f7f7f; text-decoration-color: #7f7f7f\">:</span><a href=\"file://C:\\Users\\acer\\AppData\\Local\\Programs\\Python\\Python312\\Lib\\site-packages\\soccerdata\\whoscored.py#400\" target=\"_blank\"><span style=\"color: #7f7f7f; text-decoration-color: #7f7f7f\">400</span></a>\n",
       "</pre>\n"
      ],
      "text/plain": [
       "\u001b[2;36m[09/02/24 20:53:33]\u001b[0m\u001b[2;36m \u001b[0m\u001b[34mINFO    \u001b[0m \u001b[1m[\u001b[0m\u001b[1;36m10\u001b[0m/\u001b[1;36m10\u001b[0m\u001b[1m]\u001b[0m Retrieving fixtures for ENG-Premier League \u001b[1;36m2425\u001b[0m               \u001b]8;id=516229;file://C:\\Users\\acer\\AppData\\Local\\Programs\\Python\\Python312\\Lib\\site-packages\\soccerdata\\whoscored.py\u001b\\\u001b[2mwhoscored.py\u001b[0m\u001b]8;;\u001b\\\u001b[2m:\u001b[0m\u001b]8;id=263340;file://C:\\Users\\acer\\AppData\\Local\\Programs\\Python\\Python312\\Lib\\site-packages\\soccerdata\\whoscored.py#400\u001b\\\u001b[2m400\u001b[0m\u001b]8;;\u001b\\\n"
      ]
     },
     "metadata": {},
     "output_type": "display_data"
    },
    {
     "name": "stderr",
     "output_type": "stream",
     "text": [
      "C:\\Users\\acer\\AppData\\Local\\Programs\\Python\\Python312\\Lib\\site-packages\\soccerdata\\whoscored.py:424: FutureWarning: The behavior of DataFrame concatenation with empty or all-NA entries is deprecated. In a future version, this will no longer exclude empty or all-NA columns when determining the result dtypes. To retain the old behavior, exclude the relevant entries before the concat operation.\n",
      "  pd.concat(all_schedules)\n"
     ]
    },
    {
     "data": {
      "text/html": [
       "<pre style=\"white-space:pre;overflow-x:auto;line-height:normal;font-family:Menlo,'DejaVu Sans Mono',consolas,'Courier New',monospace\"><span style=\"color: #7fbfbf; text-decoration-color: #7fbfbf\">[09/02/24 20:53:42] </span><span style=\"color: #000080; text-decoration-color: #000080\">INFO    </span> <span style=\"font-weight: bold\">[</span><span style=\"color: #008080; text-decoration-color: #008080; font-weight: bold\">1</span>/<span style=\"color: #008080; text-decoration-color: #008080; font-weight: bold\">1</span><span style=\"font-weight: bold\">]</span> Retrieving game with <span style=\"color: #808000; text-decoration-color: #808000\">id</span>=<span style=\"color: #008080; text-decoration-color: #008080; font-weight: bold\">1821067</span>                                 <a href=\"file://C:\\Users\\acer\\AppData\\Local\\Programs\\Python\\Python312\\Lib\\site-packages\\soccerdata\\whoscored.py\" target=\"_blank\"><span style=\"color: #7f7f7f; text-decoration-color: #7f7f7f\">whoscored.py</span></a><span style=\"color: #7f7f7f; text-decoration-color: #7f7f7f\">:</span><a href=\"file://C:\\Users\\acer\\AppData\\Local\\Programs\\Python\\Python312\\Lib\\site-packages\\soccerdata\\whoscored.py#692\" target=\"_blank\"><span style=\"color: #7f7f7f; text-decoration-color: #7f7f7f\">692</span></a>\n",
       "</pre>\n"
      ],
      "text/plain": [
       "\u001b[2;36m[09/02/24 20:53:42]\u001b[0m\u001b[2;36m \u001b[0m\u001b[34mINFO    \u001b[0m \u001b[1m[\u001b[0m\u001b[1;36m1\u001b[0m/\u001b[1;36m1\u001b[0m\u001b[1m]\u001b[0m Retrieving game with \u001b[33mid\u001b[0m=\u001b[1;36m1821067\u001b[0m                                 \u001b]8;id=518160;file://C:\\Users\\acer\\AppData\\Local\\Programs\\Python\\Python312\\Lib\\site-packages\\soccerdata\\whoscored.py\u001b\\\u001b[2mwhoscored.py\u001b[0m\u001b]8;;\u001b\\\u001b[2m:\u001b[0m\u001b]8;id=348533;file://C:\\Users\\acer\\AppData\\Local\\Programs\\Python\\Python312\\Lib\\site-packages\\soccerdata\\whoscored.py#692\u001b\\\u001b[2m692\u001b[0m\u001b]8;;\u001b\\\n"
      ]
     },
     "metadata": {},
     "output_type": "display_data"
    },
    {
     "data": {
      "text/html": [
       "<pre style=\"white-space:pre;overflow-x:auto;line-height:normal;font-family:Menlo,'DejaVu Sans Mono',consolas,'Courier New',monospace\"><span style=\"color: #7fbfbf; text-decoration-color: #7fbfbf\">[09/02/24 20:54:08] </span><span style=\"color: #000080; text-decoration-color: #000080\">INFO    </span> Retrieving calendar for ENG-Premier League <span style=\"color: #008080; text-decoration-color: #008080; font-weight: bold\">2425</span>                       <a href=\"file://C:\\Users\\acer\\AppData\\Local\\Programs\\Python\\Python312\\Lib\\site-packages\\soccerdata\\whoscored.py\" target=\"_blank\"><span style=\"color: #7f7f7f; text-decoration-color: #7f7f7f\">whoscored.py</span></a><span style=\"color: #7f7f7f; text-decoration-color: #7f7f7f\">:</span><a href=\"file://C:\\Users\\acer\\AppData\\Local\\Programs\\Python\\Python312\\Lib\\site-packages\\soccerdata\\whoscored.py#371\" target=\"_blank\"><span style=\"color: #7f7f7f; text-decoration-color: #7f7f7f\">371</span></a>\n",
       "</pre>\n"
      ],
      "text/plain": [
       "\u001b[2;36m[09/02/24 20:54:08]\u001b[0m\u001b[2;36m \u001b[0m\u001b[34mINFO    \u001b[0m Retrieving calendar for ENG-Premier League \u001b[1;36m2425\u001b[0m                       \u001b]8;id=182394;file://C:\\Users\\acer\\AppData\\Local\\Programs\\Python\\Python312\\Lib\\site-packages\\soccerdata\\whoscored.py\u001b\\\u001b[2mwhoscored.py\u001b[0m\u001b]8;;\u001b\\\u001b[2m:\u001b[0m\u001b]8;id=694226;file://C:\\Users\\acer\\AppData\\Local\\Programs\\Python\\Python312\\Lib\\site-packages\\soccerdata\\whoscored.py#371\u001b\\\u001b[2m371\u001b[0m\u001b]8;;\u001b\\\n"
      ]
     },
     "metadata": {},
     "output_type": "display_data"
    },
    {
     "data": {
      "text/html": [
       "<pre style=\"white-space:pre;overflow-x:auto;line-height:normal;font-family:Menlo,'DejaVu Sans Mono',consolas,'Courier New',monospace\"><span style=\"color: #7fbfbf; text-decoration-color: #7fbfbf\">[09/02/24 20:54:17] </span><span style=\"color: #000080; text-decoration-color: #000080\">INFO    </span> <span style=\"font-weight: bold\">[</span><span style=\"color: #008080; text-decoration-color: #008080; font-weight: bold\">1</span>/<span style=\"color: #008080; text-decoration-color: #008080; font-weight: bold\">10</span><span style=\"font-weight: bold\">]</span> Retrieving fixtures for ENG-Premier League <span style=\"color: #008080; text-decoration-color: #008080; font-weight: bold\">2425</span>                <a href=\"file://C:\\Users\\acer\\AppData\\Local\\Programs\\Python\\Python312\\Lib\\site-packages\\soccerdata\\whoscored.py\" target=\"_blank\"><span style=\"color: #7f7f7f; text-decoration-color: #7f7f7f\">whoscored.py</span></a><span style=\"color: #7f7f7f; text-decoration-color: #7f7f7f\">:</span><a href=\"file://C:\\Users\\acer\\AppData\\Local\\Programs\\Python\\Python312\\Lib\\site-packages\\soccerdata\\whoscored.py#400\" target=\"_blank\"><span style=\"color: #7f7f7f; text-decoration-color: #7f7f7f\">400</span></a>\n",
       "</pre>\n"
      ],
      "text/plain": [
       "\u001b[2;36m[09/02/24 20:54:17]\u001b[0m\u001b[2;36m \u001b[0m\u001b[34mINFO    \u001b[0m \u001b[1m[\u001b[0m\u001b[1;36m1\u001b[0m/\u001b[1;36m10\u001b[0m\u001b[1m]\u001b[0m Retrieving fixtures for ENG-Premier League \u001b[1;36m2425\u001b[0m                \u001b]8;id=269373;file://C:\\Users\\acer\\AppData\\Local\\Programs\\Python\\Python312\\Lib\\site-packages\\soccerdata\\whoscored.py\u001b\\\u001b[2mwhoscored.py\u001b[0m\u001b]8;;\u001b\\\u001b[2m:\u001b[0m\u001b]8;id=29705;file://C:\\Users\\acer\\AppData\\Local\\Programs\\Python\\Python312\\Lib\\site-packages\\soccerdata\\whoscored.py#400\u001b\\\u001b[2m400\u001b[0m\u001b]8;;\u001b\\\n"
      ]
     },
     "metadata": {},
     "output_type": "display_data"
    },
    {
     "data": {
      "text/html": [
       "<pre style=\"white-space:pre;overflow-x:auto;line-height:normal;font-family:Menlo,'DejaVu Sans Mono',consolas,'Courier New',monospace\"><span style=\"color: #7fbfbf; text-decoration-color: #7fbfbf\">[09/02/24 20:54:25] </span><span style=\"color: #000080; text-decoration-color: #000080\">INFO    </span> <span style=\"font-weight: bold\">[</span><span style=\"color: #008080; text-decoration-color: #008080; font-weight: bold\">2</span>/<span style=\"color: #008080; text-decoration-color: #008080; font-weight: bold\">10</span><span style=\"font-weight: bold\">]</span> Retrieving fixtures for ENG-Premier League <span style=\"color: #008080; text-decoration-color: #008080; font-weight: bold\">2425</span>                <a href=\"file://C:\\Users\\acer\\AppData\\Local\\Programs\\Python\\Python312\\Lib\\site-packages\\soccerdata\\whoscored.py\" target=\"_blank\"><span style=\"color: #7f7f7f; text-decoration-color: #7f7f7f\">whoscored.py</span></a><span style=\"color: #7f7f7f; text-decoration-color: #7f7f7f\">:</span><a href=\"file://C:\\Users\\acer\\AppData\\Local\\Programs\\Python\\Python312\\Lib\\site-packages\\soccerdata\\whoscored.py#400\" target=\"_blank\"><span style=\"color: #7f7f7f; text-decoration-color: #7f7f7f\">400</span></a>\n",
       "</pre>\n"
      ],
      "text/plain": [
       "\u001b[2;36m[09/02/24 20:54:25]\u001b[0m\u001b[2;36m \u001b[0m\u001b[34mINFO    \u001b[0m \u001b[1m[\u001b[0m\u001b[1;36m2\u001b[0m/\u001b[1;36m10\u001b[0m\u001b[1m]\u001b[0m Retrieving fixtures for ENG-Premier League \u001b[1;36m2425\u001b[0m                \u001b]8;id=663351;file://C:\\Users\\acer\\AppData\\Local\\Programs\\Python\\Python312\\Lib\\site-packages\\soccerdata\\whoscored.py\u001b\\\u001b[2mwhoscored.py\u001b[0m\u001b]8;;\u001b\\\u001b[2m:\u001b[0m\u001b]8;id=403580;file://C:\\Users\\acer\\AppData\\Local\\Programs\\Python\\Python312\\Lib\\site-packages\\soccerdata\\whoscored.py#400\u001b\\\u001b[2m400\u001b[0m\u001b]8;;\u001b\\\n"
      ]
     },
     "metadata": {},
     "output_type": "display_data"
    },
    {
     "data": {
      "text/html": [
       "<pre style=\"white-space:pre;overflow-x:auto;line-height:normal;font-family:Menlo,'DejaVu Sans Mono',consolas,'Courier New',monospace\"><span style=\"color: #7fbfbf; text-decoration-color: #7fbfbf\">[09/02/24 20:54:31] </span><span style=\"color: #000080; text-decoration-color: #000080\">INFO    </span> <span style=\"font-weight: bold\">[</span><span style=\"color: #008080; text-decoration-color: #008080; font-weight: bold\">3</span>/<span style=\"color: #008080; text-decoration-color: #008080; font-weight: bold\">10</span><span style=\"font-weight: bold\">]</span> Retrieving fixtures for ENG-Premier League <span style=\"color: #008080; text-decoration-color: #008080; font-weight: bold\">2425</span>                <a href=\"file://C:\\Users\\acer\\AppData\\Local\\Programs\\Python\\Python312\\Lib\\site-packages\\soccerdata\\whoscored.py\" target=\"_blank\"><span style=\"color: #7f7f7f; text-decoration-color: #7f7f7f\">whoscored.py</span></a><span style=\"color: #7f7f7f; text-decoration-color: #7f7f7f\">:</span><a href=\"file://C:\\Users\\acer\\AppData\\Local\\Programs\\Python\\Python312\\Lib\\site-packages\\soccerdata\\whoscored.py#400\" target=\"_blank\"><span style=\"color: #7f7f7f; text-decoration-color: #7f7f7f\">400</span></a>\n",
       "</pre>\n"
      ],
      "text/plain": [
       "\u001b[2;36m[09/02/24 20:54:31]\u001b[0m\u001b[2;36m \u001b[0m\u001b[34mINFO    \u001b[0m \u001b[1m[\u001b[0m\u001b[1;36m3\u001b[0m/\u001b[1;36m10\u001b[0m\u001b[1m]\u001b[0m Retrieving fixtures for ENG-Premier League \u001b[1;36m2425\u001b[0m                \u001b]8;id=451750;file://C:\\Users\\acer\\AppData\\Local\\Programs\\Python\\Python312\\Lib\\site-packages\\soccerdata\\whoscored.py\u001b\\\u001b[2mwhoscored.py\u001b[0m\u001b]8;;\u001b\\\u001b[2m:\u001b[0m\u001b]8;id=583431;file://C:\\Users\\acer\\AppData\\Local\\Programs\\Python\\Python312\\Lib\\site-packages\\soccerdata\\whoscored.py#400\u001b\\\u001b[2m400\u001b[0m\u001b]8;;\u001b\\\n"
      ]
     },
     "metadata": {},
     "output_type": "display_data"
    },
    {
     "data": {
      "text/html": [
       "<pre style=\"white-space:pre;overflow-x:auto;line-height:normal;font-family:Menlo,'DejaVu Sans Mono',consolas,'Courier New',monospace\"><span style=\"color: #7fbfbf; text-decoration-color: #7fbfbf\">[09/02/24 20:54:41] </span><span style=\"color: #000080; text-decoration-color: #000080\">INFO    </span> <span style=\"font-weight: bold\">[</span><span style=\"color: #008080; text-decoration-color: #008080; font-weight: bold\">4</span>/<span style=\"color: #008080; text-decoration-color: #008080; font-weight: bold\">10</span><span style=\"font-weight: bold\">]</span> Retrieving fixtures for ENG-Premier League <span style=\"color: #008080; text-decoration-color: #008080; font-weight: bold\">2425</span>                <a href=\"file://C:\\Users\\acer\\AppData\\Local\\Programs\\Python\\Python312\\Lib\\site-packages\\soccerdata\\whoscored.py\" target=\"_blank\"><span style=\"color: #7f7f7f; text-decoration-color: #7f7f7f\">whoscored.py</span></a><span style=\"color: #7f7f7f; text-decoration-color: #7f7f7f\">:</span><a href=\"file://C:\\Users\\acer\\AppData\\Local\\Programs\\Python\\Python312\\Lib\\site-packages\\soccerdata\\whoscored.py#400\" target=\"_blank\"><span style=\"color: #7f7f7f; text-decoration-color: #7f7f7f\">400</span></a>\n",
       "</pre>\n"
      ],
      "text/plain": [
       "\u001b[2;36m[09/02/24 20:54:41]\u001b[0m\u001b[2;36m \u001b[0m\u001b[34mINFO    \u001b[0m \u001b[1m[\u001b[0m\u001b[1;36m4\u001b[0m/\u001b[1;36m10\u001b[0m\u001b[1m]\u001b[0m Retrieving fixtures for ENG-Premier League \u001b[1;36m2425\u001b[0m                \u001b]8;id=165269;file://C:\\Users\\acer\\AppData\\Local\\Programs\\Python\\Python312\\Lib\\site-packages\\soccerdata\\whoscored.py\u001b\\\u001b[2mwhoscored.py\u001b[0m\u001b]8;;\u001b\\\u001b[2m:\u001b[0m\u001b]8;id=442454;file://C:\\Users\\acer\\AppData\\Local\\Programs\\Python\\Python312\\Lib\\site-packages\\soccerdata\\whoscored.py#400\u001b\\\u001b[2m400\u001b[0m\u001b]8;;\u001b\\\n"
      ]
     },
     "metadata": {},
     "output_type": "display_data"
    },
    {
     "data": {
      "text/html": [
       "<pre style=\"white-space:pre;overflow-x:auto;line-height:normal;font-family:Menlo,'DejaVu Sans Mono',consolas,'Courier New',monospace\"><span style=\"color: #7fbfbf; text-decoration-color: #7fbfbf\">[09/02/24 21:39:58] </span><span style=\"color: #000080; text-decoration-color: #000080\">INFO    </span> <span style=\"font-weight: bold\">[</span><span style=\"color: #008080; text-decoration-color: #008080; font-weight: bold\">5</span>/<span style=\"color: #008080; text-decoration-color: #008080; font-weight: bold\">10</span><span style=\"font-weight: bold\">]</span> Retrieving fixtures for ENG-Premier League <span style=\"color: #008080; text-decoration-color: #008080; font-weight: bold\">2425</span>                <a href=\"file://C:\\Users\\acer\\AppData\\Local\\Programs\\Python\\Python312\\Lib\\site-packages\\soccerdata\\whoscored.py\" target=\"_blank\"><span style=\"color: #7f7f7f; text-decoration-color: #7f7f7f\">whoscored.py</span></a><span style=\"color: #7f7f7f; text-decoration-color: #7f7f7f\">:</span><a href=\"file://C:\\Users\\acer\\AppData\\Local\\Programs\\Python\\Python312\\Lib\\site-packages\\soccerdata\\whoscored.py#400\" target=\"_blank\"><span style=\"color: #7f7f7f; text-decoration-color: #7f7f7f\">400</span></a>\n",
       "</pre>\n"
      ],
      "text/plain": [
       "\u001b[2;36m[09/02/24 21:39:58]\u001b[0m\u001b[2;36m \u001b[0m\u001b[34mINFO    \u001b[0m \u001b[1m[\u001b[0m\u001b[1;36m5\u001b[0m/\u001b[1;36m10\u001b[0m\u001b[1m]\u001b[0m Retrieving fixtures for ENG-Premier League \u001b[1;36m2425\u001b[0m                \u001b]8;id=536513;file://C:\\Users\\acer\\AppData\\Local\\Programs\\Python\\Python312\\Lib\\site-packages\\soccerdata\\whoscored.py\u001b\\\u001b[2mwhoscored.py\u001b[0m\u001b]8;;\u001b\\\u001b[2m:\u001b[0m\u001b]8;id=141587;file://C:\\Users\\acer\\AppData\\Local\\Programs\\Python\\Python312\\Lib\\site-packages\\soccerdata\\whoscored.py#400\u001b\\\u001b[2m400\u001b[0m\u001b]8;;\u001b\\\n"
      ]
     },
     "metadata": {},
     "output_type": "display_data"
    },
    {
     "data": {
      "text/html": [
       "<pre style=\"white-space:pre;overflow-x:auto;line-height:normal;font-family:Menlo,'DejaVu Sans Mono',consolas,'Courier New',monospace\"><span style=\"color: #7fbfbf; text-decoration-color: #7fbfbf\">[09/02/24 21:40:06] </span><span style=\"color: #000080; text-decoration-color: #000080\">INFO    </span> <span style=\"font-weight: bold\">[</span><span style=\"color: #008080; text-decoration-color: #008080; font-weight: bold\">6</span>/<span style=\"color: #008080; text-decoration-color: #008080; font-weight: bold\">10</span><span style=\"font-weight: bold\">]</span> Retrieving fixtures for ENG-Premier League <span style=\"color: #008080; text-decoration-color: #008080; font-weight: bold\">2425</span>                <a href=\"file://C:\\Users\\acer\\AppData\\Local\\Programs\\Python\\Python312\\Lib\\site-packages\\soccerdata\\whoscored.py\" target=\"_blank\"><span style=\"color: #7f7f7f; text-decoration-color: #7f7f7f\">whoscored.py</span></a><span style=\"color: #7f7f7f; text-decoration-color: #7f7f7f\">:</span><a href=\"file://C:\\Users\\acer\\AppData\\Local\\Programs\\Python\\Python312\\Lib\\site-packages\\soccerdata\\whoscored.py#400\" target=\"_blank\"><span style=\"color: #7f7f7f; text-decoration-color: #7f7f7f\">400</span></a>\n",
       "</pre>\n"
      ],
      "text/plain": [
       "\u001b[2;36m[09/02/24 21:40:06]\u001b[0m\u001b[2;36m \u001b[0m\u001b[34mINFO    \u001b[0m \u001b[1m[\u001b[0m\u001b[1;36m6\u001b[0m/\u001b[1;36m10\u001b[0m\u001b[1m]\u001b[0m Retrieving fixtures for ENG-Premier League \u001b[1;36m2425\u001b[0m                \u001b]8;id=824821;file://C:\\Users\\acer\\AppData\\Local\\Programs\\Python\\Python312\\Lib\\site-packages\\soccerdata\\whoscored.py\u001b\\\u001b[2mwhoscored.py\u001b[0m\u001b]8;;\u001b\\\u001b[2m:\u001b[0m\u001b]8;id=142096;file://C:\\Users\\acer\\AppData\\Local\\Programs\\Python\\Python312\\Lib\\site-packages\\soccerdata\\whoscored.py#400\u001b\\\u001b[2m400\u001b[0m\u001b]8;;\u001b\\\n"
      ]
     },
     "metadata": {},
     "output_type": "display_data"
    },
    {
     "data": {
      "text/html": [
       "<pre style=\"white-space:pre;overflow-x:auto;line-height:normal;font-family:Menlo,'DejaVu Sans Mono',consolas,'Courier New',monospace\"><span style=\"color: #7fbfbf; text-decoration-color: #7fbfbf\">[09/02/24 21:40:12] </span><span style=\"color: #000080; text-decoration-color: #000080\">INFO    </span> <span style=\"font-weight: bold\">[</span><span style=\"color: #008080; text-decoration-color: #008080; font-weight: bold\">7</span>/<span style=\"color: #008080; text-decoration-color: #008080; font-weight: bold\">10</span><span style=\"font-weight: bold\">]</span> Retrieving fixtures for ENG-Premier League <span style=\"color: #008080; text-decoration-color: #008080; font-weight: bold\">2425</span>                <a href=\"file://C:\\Users\\acer\\AppData\\Local\\Programs\\Python\\Python312\\Lib\\site-packages\\soccerdata\\whoscored.py\" target=\"_blank\"><span style=\"color: #7f7f7f; text-decoration-color: #7f7f7f\">whoscored.py</span></a><span style=\"color: #7f7f7f; text-decoration-color: #7f7f7f\">:</span><a href=\"file://C:\\Users\\acer\\AppData\\Local\\Programs\\Python\\Python312\\Lib\\site-packages\\soccerdata\\whoscored.py#400\" target=\"_blank\"><span style=\"color: #7f7f7f; text-decoration-color: #7f7f7f\">400</span></a>\n",
       "</pre>\n"
      ],
      "text/plain": [
       "\u001b[2;36m[09/02/24 21:40:12]\u001b[0m\u001b[2;36m \u001b[0m\u001b[34mINFO    \u001b[0m \u001b[1m[\u001b[0m\u001b[1;36m7\u001b[0m/\u001b[1;36m10\u001b[0m\u001b[1m]\u001b[0m Retrieving fixtures for ENG-Premier League \u001b[1;36m2425\u001b[0m                \u001b]8;id=892090;file://C:\\Users\\acer\\AppData\\Local\\Programs\\Python\\Python312\\Lib\\site-packages\\soccerdata\\whoscored.py\u001b\\\u001b[2mwhoscored.py\u001b[0m\u001b]8;;\u001b\\\u001b[2m:\u001b[0m\u001b]8;id=981319;file://C:\\Users\\acer\\AppData\\Local\\Programs\\Python\\Python312\\Lib\\site-packages\\soccerdata\\whoscored.py#400\u001b\\\u001b[2m400\u001b[0m\u001b]8;;\u001b\\\n"
      ]
     },
     "metadata": {},
     "output_type": "display_data"
    },
    {
     "data": {
      "text/html": [
       "<pre style=\"white-space:pre;overflow-x:auto;line-height:normal;font-family:Menlo,'DejaVu Sans Mono',consolas,'Courier New',monospace\"><span style=\"color: #7fbfbf; text-decoration-color: #7fbfbf\">[09/02/24 21:40:21] </span><span style=\"color: #000080; text-decoration-color: #000080\">INFO    </span> <span style=\"font-weight: bold\">[</span><span style=\"color: #008080; text-decoration-color: #008080; font-weight: bold\">8</span>/<span style=\"color: #008080; text-decoration-color: #008080; font-weight: bold\">10</span><span style=\"font-weight: bold\">]</span> Retrieving fixtures for ENG-Premier League <span style=\"color: #008080; text-decoration-color: #008080; font-weight: bold\">2425</span>                <a href=\"file://C:\\Users\\acer\\AppData\\Local\\Programs\\Python\\Python312\\Lib\\site-packages\\soccerdata\\whoscored.py\" target=\"_blank\"><span style=\"color: #7f7f7f; text-decoration-color: #7f7f7f\">whoscored.py</span></a><span style=\"color: #7f7f7f; text-decoration-color: #7f7f7f\">:</span><a href=\"file://C:\\Users\\acer\\AppData\\Local\\Programs\\Python\\Python312\\Lib\\site-packages\\soccerdata\\whoscored.py#400\" target=\"_blank\"><span style=\"color: #7f7f7f; text-decoration-color: #7f7f7f\">400</span></a>\n",
       "</pre>\n"
      ],
      "text/plain": [
       "\u001b[2;36m[09/02/24 21:40:21]\u001b[0m\u001b[2;36m \u001b[0m\u001b[34mINFO    \u001b[0m \u001b[1m[\u001b[0m\u001b[1;36m8\u001b[0m/\u001b[1;36m10\u001b[0m\u001b[1m]\u001b[0m Retrieving fixtures for ENG-Premier League \u001b[1;36m2425\u001b[0m                \u001b]8;id=775403;file://C:\\Users\\acer\\AppData\\Local\\Programs\\Python\\Python312\\Lib\\site-packages\\soccerdata\\whoscored.py\u001b\\\u001b[2mwhoscored.py\u001b[0m\u001b]8;;\u001b\\\u001b[2m:\u001b[0m\u001b]8;id=735120;file://C:\\Users\\acer\\AppData\\Local\\Programs\\Python\\Python312\\Lib\\site-packages\\soccerdata\\whoscored.py#400\u001b\\\u001b[2m400\u001b[0m\u001b]8;;\u001b\\\n"
      ]
     },
     "metadata": {},
     "output_type": "display_data"
    },
    {
     "data": {
      "text/html": [
       "<pre style=\"white-space:pre;overflow-x:auto;line-height:normal;font-family:Menlo,'DejaVu Sans Mono',consolas,'Courier New',monospace\"><span style=\"color: #7fbfbf; text-decoration-color: #7fbfbf\">[09/02/24 21:40:29] </span><span style=\"color: #000080; text-decoration-color: #000080\">INFO    </span> <span style=\"font-weight: bold\">[</span><span style=\"color: #008080; text-decoration-color: #008080; font-weight: bold\">9</span>/<span style=\"color: #008080; text-decoration-color: #008080; font-weight: bold\">10</span><span style=\"font-weight: bold\">]</span> Retrieving fixtures for ENG-Premier League <span style=\"color: #008080; text-decoration-color: #008080; font-weight: bold\">2425</span>                <a href=\"file://C:\\Users\\acer\\AppData\\Local\\Programs\\Python\\Python312\\Lib\\site-packages\\soccerdata\\whoscored.py\" target=\"_blank\"><span style=\"color: #7f7f7f; text-decoration-color: #7f7f7f\">whoscored.py</span></a><span style=\"color: #7f7f7f; text-decoration-color: #7f7f7f\">:</span><a href=\"file://C:\\Users\\acer\\AppData\\Local\\Programs\\Python\\Python312\\Lib\\site-packages\\soccerdata\\whoscored.py#400\" target=\"_blank\"><span style=\"color: #7f7f7f; text-decoration-color: #7f7f7f\">400</span></a>\n",
       "</pre>\n"
      ],
      "text/plain": [
       "\u001b[2;36m[09/02/24 21:40:29]\u001b[0m\u001b[2;36m \u001b[0m\u001b[34mINFO    \u001b[0m \u001b[1m[\u001b[0m\u001b[1;36m9\u001b[0m/\u001b[1;36m10\u001b[0m\u001b[1m]\u001b[0m Retrieving fixtures for ENG-Premier League \u001b[1;36m2425\u001b[0m                \u001b]8;id=68312;file://C:\\Users\\acer\\AppData\\Local\\Programs\\Python\\Python312\\Lib\\site-packages\\soccerdata\\whoscored.py\u001b\\\u001b[2mwhoscored.py\u001b[0m\u001b]8;;\u001b\\\u001b[2m:\u001b[0m\u001b]8;id=169826;file://C:\\Users\\acer\\AppData\\Local\\Programs\\Python\\Python312\\Lib\\site-packages\\soccerdata\\whoscored.py#400\u001b\\\u001b[2m400\u001b[0m\u001b]8;;\u001b\\\n"
      ]
     },
     "metadata": {},
     "output_type": "display_data"
    },
    {
     "data": {
      "text/html": [
       "<pre style=\"white-space:pre;overflow-x:auto;line-height:normal;font-family:Menlo,'DejaVu Sans Mono',consolas,'Courier New',monospace\"><span style=\"color: #7fbfbf; text-decoration-color: #7fbfbf\">[09/02/24 21:40:38] </span><span style=\"color: #000080; text-decoration-color: #000080\">INFO    </span> <span style=\"font-weight: bold\">[</span><span style=\"color: #008080; text-decoration-color: #008080; font-weight: bold\">10</span>/<span style=\"color: #008080; text-decoration-color: #008080; font-weight: bold\">10</span><span style=\"font-weight: bold\">]</span> Retrieving fixtures for ENG-Premier League <span style=\"color: #008080; text-decoration-color: #008080; font-weight: bold\">2425</span>               <a href=\"file://C:\\Users\\acer\\AppData\\Local\\Programs\\Python\\Python312\\Lib\\site-packages\\soccerdata\\whoscored.py\" target=\"_blank\"><span style=\"color: #7f7f7f; text-decoration-color: #7f7f7f\">whoscored.py</span></a><span style=\"color: #7f7f7f; text-decoration-color: #7f7f7f\">:</span><a href=\"file://C:\\Users\\acer\\AppData\\Local\\Programs\\Python\\Python312\\Lib\\site-packages\\soccerdata\\whoscored.py#400\" target=\"_blank\"><span style=\"color: #7f7f7f; text-decoration-color: #7f7f7f\">400</span></a>\n",
       "</pre>\n"
      ],
      "text/plain": [
       "\u001b[2;36m[09/02/24 21:40:38]\u001b[0m\u001b[2;36m \u001b[0m\u001b[34mINFO    \u001b[0m \u001b[1m[\u001b[0m\u001b[1;36m10\u001b[0m/\u001b[1;36m10\u001b[0m\u001b[1m]\u001b[0m Retrieving fixtures for ENG-Premier League \u001b[1;36m2425\u001b[0m               \u001b]8;id=872995;file://C:\\Users\\acer\\AppData\\Local\\Programs\\Python\\Python312\\Lib\\site-packages\\soccerdata\\whoscored.py\u001b\\\u001b[2mwhoscored.py\u001b[0m\u001b]8;;\u001b\\\u001b[2m:\u001b[0m\u001b]8;id=557666;file://C:\\Users\\acer\\AppData\\Local\\Programs\\Python\\Python312\\Lib\\site-packages\\soccerdata\\whoscored.py#400\u001b\\\u001b[2m400\u001b[0m\u001b]8;;\u001b\\\n"
      ]
     },
     "metadata": {},
     "output_type": "display_data"
    },
    {
     "name": "stderr",
     "output_type": "stream",
     "text": [
      "C:\\Users\\acer\\AppData\\Local\\Programs\\Python\\Python312\\Lib\\site-packages\\soccerdata\\whoscored.py:424: FutureWarning: The behavior of DataFrame concatenation with empty or all-NA entries is deprecated. In a future version, this will no longer exclude empty or all-NA columns when determining the result dtypes. To retain the old behavior, exclude the relevant entries before the concat operation.\n",
      "  pd.concat(all_schedules)\n"
     ]
    },
    {
     "data": {
      "text/html": [
       "<pre style=\"white-space:pre;overflow-x:auto;line-height:normal;font-family:Menlo,'DejaVu Sans Mono',consolas,'Courier New',monospace\"><span style=\"color: #7fbfbf; text-decoration-color: #7fbfbf\">[09/02/24 21:40:48] </span><span style=\"color: #000080; text-decoration-color: #000080\">INFO    </span> <span style=\"font-weight: bold\">[</span><span style=\"color: #008080; text-decoration-color: #008080; font-weight: bold\">1</span>/<span style=\"color: #008080; text-decoration-color: #008080; font-weight: bold\">1</span><span style=\"font-weight: bold\">]</span> Retrieving game with <span style=\"color: #808000; text-decoration-color: #808000\">id</span>=<span style=\"color: #008080; text-decoration-color: #008080; font-weight: bold\">1821068</span>                                 <a href=\"file://C:\\Users\\acer\\AppData\\Local\\Programs\\Python\\Python312\\Lib\\site-packages\\soccerdata\\whoscored.py\" target=\"_blank\"><span style=\"color: #7f7f7f; text-decoration-color: #7f7f7f\">whoscored.py</span></a><span style=\"color: #7f7f7f; text-decoration-color: #7f7f7f\">:</span><a href=\"file://C:\\Users\\acer\\AppData\\Local\\Programs\\Python\\Python312\\Lib\\site-packages\\soccerdata\\whoscored.py#692\" target=\"_blank\"><span style=\"color: #7f7f7f; text-decoration-color: #7f7f7f\">692</span></a>\n",
       "</pre>\n"
      ],
      "text/plain": [
       "\u001b[2;36m[09/02/24 21:40:48]\u001b[0m\u001b[2;36m \u001b[0m\u001b[34mINFO    \u001b[0m \u001b[1m[\u001b[0m\u001b[1;36m1\u001b[0m/\u001b[1;36m1\u001b[0m\u001b[1m]\u001b[0m Retrieving game with \u001b[33mid\u001b[0m=\u001b[1;36m1821068\u001b[0m                                 \u001b]8;id=233376;file://C:\\Users\\acer\\AppData\\Local\\Programs\\Python\\Python312\\Lib\\site-packages\\soccerdata\\whoscored.py\u001b\\\u001b[2mwhoscored.py\u001b[0m\u001b]8;;\u001b\\\u001b[2m:\u001b[0m\u001b]8;id=102971;file://C:\\Users\\acer\\AppData\\Local\\Programs\\Python\\Python312\\Lib\\site-packages\\soccerdata\\whoscored.py#692\u001b\\\u001b[2m692\u001b[0m\u001b]8;;\u001b\\\n"
      ]
     },
     "metadata": {},
     "output_type": "display_data"
    },
    {
     "data": {
      "text/html": [
       "<pre style=\"white-space:pre;overflow-x:auto;line-height:normal;font-family:Menlo,'DejaVu Sans Mono',consolas,'Courier New',monospace\"><span style=\"color: #7fbfbf; text-decoration-color: #7fbfbf\">[09/02/24 21:41:12] </span><span style=\"color: #000080; text-decoration-color: #000080\">INFO    </span> Retrieving calendar for ENG-Premier League <span style=\"color: #008080; text-decoration-color: #008080; font-weight: bold\">2425</span>                       <a href=\"file://C:\\Users\\acer\\AppData\\Local\\Programs\\Python\\Python312\\Lib\\site-packages\\soccerdata\\whoscored.py\" target=\"_blank\"><span style=\"color: #7f7f7f; text-decoration-color: #7f7f7f\">whoscored.py</span></a><span style=\"color: #7f7f7f; text-decoration-color: #7f7f7f\">:</span><a href=\"file://C:\\Users\\acer\\AppData\\Local\\Programs\\Python\\Python312\\Lib\\site-packages\\soccerdata\\whoscored.py#371\" target=\"_blank\"><span style=\"color: #7f7f7f; text-decoration-color: #7f7f7f\">371</span></a>\n",
       "</pre>\n"
      ],
      "text/plain": [
       "\u001b[2;36m[09/02/24 21:41:12]\u001b[0m\u001b[2;36m \u001b[0m\u001b[34mINFO    \u001b[0m Retrieving calendar for ENG-Premier League \u001b[1;36m2425\u001b[0m                       \u001b]8;id=645815;file://C:\\Users\\acer\\AppData\\Local\\Programs\\Python\\Python312\\Lib\\site-packages\\soccerdata\\whoscored.py\u001b\\\u001b[2mwhoscored.py\u001b[0m\u001b]8;;\u001b\\\u001b[2m:\u001b[0m\u001b]8;id=907943;file://C:\\Users\\acer\\AppData\\Local\\Programs\\Python\\Python312\\Lib\\site-packages\\soccerdata\\whoscored.py#371\u001b\\\u001b[2m371\u001b[0m\u001b]8;;\u001b\\\n"
      ]
     },
     "metadata": {},
     "output_type": "display_data"
    },
    {
     "data": {
      "text/html": [
       "<pre style=\"white-space:pre;overflow-x:auto;line-height:normal;font-family:Menlo,'DejaVu Sans Mono',consolas,'Courier New',monospace\"><span style=\"color: #7fbfbf; text-decoration-color: #7fbfbf\">[09/02/24 21:41:21] </span><span style=\"color: #000080; text-decoration-color: #000080\">INFO    </span> <span style=\"font-weight: bold\">[</span><span style=\"color: #008080; text-decoration-color: #008080; font-weight: bold\">1</span>/<span style=\"color: #008080; text-decoration-color: #008080; font-weight: bold\">10</span><span style=\"font-weight: bold\">]</span> Retrieving fixtures for ENG-Premier League <span style=\"color: #008080; text-decoration-color: #008080; font-weight: bold\">2425</span>                <a href=\"file://C:\\Users\\acer\\AppData\\Local\\Programs\\Python\\Python312\\Lib\\site-packages\\soccerdata\\whoscored.py\" target=\"_blank\"><span style=\"color: #7f7f7f; text-decoration-color: #7f7f7f\">whoscored.py</span></a><span style=\"color: #7f7f7f; text-decoration-color: #7f7f7f\">:</span><a href=\"file://C:\\Users\\acer\\AppData\\Local\\Programs\\Python\\Python312\\Lib\\site-packages\\soccerdata\\whoscored.py#400\" target=\"_blank\"><span style=\"color: #7f7f7f; text-decoration-color: #7f7f7f\">400</span></a>\n",
       "</pre>\n"
      ],
      "text/plain": [
       "\u001b[2;36m[09/02/24 21:41:21]\u001b[0m\u001b[2;36m \u001b[0m\u001b[34mINFO    \u001b[0m \u001b[1m[\u001b[0m\u001b[1;36m1\u001b[0m/\u001b[1;36m10\u001b[0m\u001b[1m]\u001b[0m Retrieving fixtures for ENG-Premier League \u001b[1;36m2425\u001b[0m                \u001b]8;id=811604;file://C:\\Users\\acer\\AppData\\Local\\Programs\\Python\\Python312\\Lib\\site-packages\\soccerdata\\whoscored.py\u001b\\\u001b[2mwhoscored.py\u001b[0m\u001b]8;;\u001b\\\u001b[2m:\u001b[0m\u001b]8;id=662381;file://C:\\Users\\acer\\AppData\\Local\\Programs\\Python\\Python312\\Lib\\site-packages\\soccerdata\\whoscored.py#400\u001b\\\u001b[2m400\u001b[0m\u001b]8;;\u001b\\\n"
      ]
     },
     "metadata": {},
     "output_type": "display_data"
    },
    {
     "data": {
      "text/html": [
       "<pre style=\"white-space:pre;overflow-x:auto;line-height:normal;font-family:Menlo,'DejaVu Sans Mono',consolas,'Courier New',monospace\"><span style=\"color: #7fbfbf; text-decoration-color: #7fbfbf\">[09/02/24 21:41:28] </span><span style=\"color: #000080; text-decoration-color: #000080\">INFO    </span> <span style=\"font-weight: bold\">[</span><span style=\"color: #008080; text-decoration-color: #008080; font-weight: bold\">2</span>/<span style=\"color: #008080; text-decoration-color: #008080; font-weight: bold\">10</span><span style=\"font-weight: bold\">]</span> Retrieving fixtures for ENG-Premier League <span style=\"color: #008080; text-decoration-color: #008080; font-weight: bold\">2425</span>                <a href=\"file://C:\\Users\\acer\\AppData\\Local\\Programs\\Python\\Python312\\Lib\\site-packages\\soccerdata\\whoscored.py\" target=\"_blank\"><span style=\"color: #7f7f7f; text-decoration-color: #7f7f7f\">whoscored.py</span></a><span style=\"color: #7f7f7f; text-decoration-color: #7f7f7f\">:</span><a href=\"file://C:\\Users\\acer\\AppData\\Local\\Programs\\Python\\Python312\\Lib\\site-packages\\soccerdata\\whoscored.py#400\" target=\"_blank\"><span style=\"color: #7f7f7f; text-decoration-color: #7f7f7f\">400</span></a>\n",
       "</pre>\n"
      ],
      "text/plain": [
       "\u001b[2;36m[09/02/24 21:41:28]\u001b[0m\u001b[2;36m \u001b[0m\u001b[34mINFO    \u001b[0m \u001b[1m[\u001b[0m\u001b[1;36m2\u001b[0m/\u001b[1;36m10\u001b[0m\u001b[1m]\u001b[0m Retrieving fixtures for ENG-Premier League \u001b[1;36m2425\u001b[0m                \u001b]8;id=164419;file://C:\\Users\\acer\\AppData\\Local\\Programs\\Python\\Python312\\Lib\\site-packages\\soccerdata\\whoscored.py\u001b\\\u001b[2mwhoscored.py\u001b[0m\u001b]8;;\u001b\\\u001b[2m:\u001b[0m\u001b]8;id=342494;file://C:\\Users\\acer\\AppData\\Local\\Programs\\Python\\Python312\\Lib\\site-packages\\soccerdata\\whoscored.py#400\u001b\\\u001b[2m400\u001b[0m\u001b]8;;\u001b\\\n"
      ]
     },
     "metadata": {},
     "output_type": "display_data"
    },
    {
     "data": {
      "text/html": [
       "<pre style=\"white-space:pre;overflow-x:auto;line-height:normal;font-family:Menlo,'DejaVu Sans Mono',consolas,'Courier New',monospace\"><span style=\"color: #7fbfbf; text-decoration-color: #7fbfbf\">[09/02/24 21:41:35] </span><span style=\"color: #000080; text-decoration-color: #000080\">INFO    </span> <span style=\"font-weight: bold\">[</span><span style=\"color: #008080; text-decoration-color: #008080; font-weight: bold\">3</span>/<span style=\"color: #008080; text-decoration-color: #008080; font-weight: bold\">10</span><span style=\"font-weight: bold\">]</span> Retrieving fixtures for ENG-Premier League <span style=\"color: #008080; text-decoration-color: #008080; font-weight: bold\">2425</span>                <a href=\"file://C:\\Users\\acer\\AppData\\Local\\Programs\\Python\\Python312\\Lib\\site-packages\\soccerdata\\whoscored.py\" target=\"_blank\"><span style=\"color: #7f7f7f; text-decoration-color: #7f7f7f\">whoscored.py</span></a><span style=\"color: #7f7f7f; text-decoration-color: #7f7f7f\">:</span><a href=\"file://C:\\Users\\acer\\AppData\\Local\\Programs\\Python\\Python312\\Lib\\site-packages\\soccerdata\\whoscored.py#400\" target=\"_blank\"><span style=\"color: #7f7f7f; text-decoration-color: #7f7f7f\">400</span></a>\n",
       "</pre>\n"
      ],
      "text/plain": [
       "\u001b[2;36m[09/02/24 21:41:35]\u001b[0m\u001b[2;36m \u001b[0m\u001b[34mINFO    \u001b[0m \u001b[1m[\u001b[0m\u001b[1;36m3\u001b[0m/\u001b[1;36m10\u001b[0m\u001b[1m]\u001b[0m Retrieving fixtures for ENG-Premier League \u001b[1;36m2425\u001b[0m                \u001b]8;id=178971;file://C:\\Users\\acer\\AppData\\Local\\Programs\\Python\\Python312\\Lib\\site-packages\\soccerdata\\whoscored.py\u001b\\\u001b[2mwhoscored.py\u001b[0m\u001b]8;;\u001b\\\u001b[2m:\u001b[0m\u001b]8;id=693668;file://C:\\Users\\acer\\AppData\\Local\\Programs\\Python\\Python312\\Lib\\site-packages\\soccerdata\\whoscored.py#400\u001b\\\u001b[2m400\u001b[0m\u001b]8;;\u001b\\\n"
      ]
     },
     "metadata": {},
     "output_type": "display_data"
    },
    {
     "data": {
      "text/html": [
       "<pre style=\"white-space:pre;overflow-x:auto;line-height:normal;font-family:Menlo,'DejaVu Sans Mono',consolas,'Courier New',monospace\"><span style=\"color: #7fbfbf; text-decoration-color: #7fbfbf\">[09/02/24 21:41:43] </span><span style=\"color: #000080; text-decoration-color: #000080\">INFO    </span> <span style=\"font-weight: bold\">[</span><span style=\"color: #008080; text-decoration-color: #008080; font-weight: bold\">4</span>/<span style=\"color: #008080; text-decoration-color: #008080; font-weight: bold\">10</span><span style=\"font-weight: bold\">]</span> Retrieving fixtures for ENG-Premier League <span style=\"color: #008080; text-decoration-color: #008080; font-weight: bold\">2425</span>                <a href=\"file://C:\\Users\\acer\\AppData\\Local\\Programs\\Python\\Python312\\Lib\\site-packages\\soccerdata\\whoscored.py\" target=\"_blank\"><span style=\"color: #7f7f7f; text-decoration-color: #7f7f7f\">whoscored.py</span></a><span style=\"color: #7f7f7f; text-decoration-color: #7f7f7f\">:</span><a href=\"file://C:\\Users\\acer\\AppData\\Local\\Programs\\Python\\Python312\\Lib\\site-packages\\soccerdata\\whoscored.py#400\" target=\"_blank\"><span style=\"color: #7f7f7f; text-decoration-color: #7f7f7f\">400</span></a>\n",
       "</pre>\n"
      ],
      "text/plain": [
       "\u001b[2;36m[09/02/24 21:41:43]\u001b[0m\u001b[2;36m \u001b[0m\u001b[34mINFO    \u001b[0m \u001b[1m[\u001b[0m\u001b[1;36m4\u001b[0m/\u001b[1;36m10\u001b[0m\u001b[1m]\u001b[0m Retrieving fixtures for ENG-Premier League \u001b[1;36m2425\u001b[0m                \u001b]8;id=678156;file://C:\\Users\\acer\\AppData\\Local\\Programs\\Python\\Python312\\Lib\\site-packages\\soccerdata\\whoscored.py\u001b\\\u001b[2mwhoscored.py\u001b[0m\u001b]8;;\u001b\\\u001b[2m:\u001b[0m\u001b]8;id=563919;file://C:\\Users\\acer\\AppData\\Local\\Programs\\Python\\Python312\\Lib\\site-packages\\soccerdata\\whoscored.py#400\u001b\\\u001b[2m400\u001b[0m\u001b]8;;\u001b\\\n"
      ]
     },
     "metadata": {},
     "output_type": "display_data"
    },
    {
     "data": {
      "text/html": [
       "<pre style=\"white-space:pre;overflow-x:auto;line-height:normal;font-family:Menlo,'DejaVu Sans Mono',consolas,'Courier New',monospace\"><span style=\"color: #7fbfbf; text-decoration-color: #7fbfbf\">[09/02/24 21:41:51] </span><span style=\"color: #000080; text-decoration-color: #000080\">INFO    </span> <span style=\"font-weight: bold\">[</span><span style=\"color: #008080; text-decoration-color: #008080; font-weight: bold\">5</span>/<span style=\"color: #008080; text-decoration-color: #008080; font-weight: bold\">10</span><span style=\"font-weight: bold\">]</span> Retrieving fixtures for ENG-Premier League <span style=\"color: #008080; text-decoration-color: #008080; font-weight: bold\">2425</span>                <a href=\"file://C:\\Users\\acer\\AppData\\Local\\Programs\\Python\\Python312\\Lib\\site-packages\\soccerdata\\whoscored.py\" target=\"_blank\"><span style=\"color: #7f7f7f; text-decoration-color: #7f7f7f\">whoscored.py</span></a><span style=\"color: #7f7f7f; text-decoration-color: #7f7f7f\">:</span><a href=\"file://C:\\Users\\acer\\AppData\\Local\\Programs\\Python\\Python312\\Lib\\site-packages\\soccerdata\\whoscored.py#400\" target=\"_blank\"><span style=\"color: #7f7f7f; text-decoration-color: #7f7f7f\">400</span></a>\n",
       "</pre>\n"
      ],
      "text/plain": [
       "\u001b[2;36m[09/02/24 21:41:51]\u001b[0m\u001b[2;36m \u001b[0m\u001b[34mINFO    \u001b[0m \u001b[1m[\u001b[0m\u001b[1;36m5\u001b[0m/\u001b[1;36m10\u001b[0m\u001b[1m]\u001b[0m Retrieving fixtures for ENG-Premier League \u001b[1;36m2425\u001b[0m                \u001b]8;id=852416;file://C:\\Users\\acer\\AppData\\Local\\Programs\\Python\\Python312\\Lib\\site-packages\\soccerdata\\whoscored.py\u001b\\\u001b[2mwhoscored.py\u001b[0m\u001b]8;;\u001b\\\u001b[2m:\u001b[0m\u001b]8;id=846892;file://C:\\Users\\acer\\AppData\\Local\\Programs\\Python\\Python312\\Lib\\site-packages\\soccerdata\\whoscored.py#400\u001b\\\u001b[2m400\u001b[0m\u001b]8;;\u001b\\\n"
      ]
     },
     "metadata": {},
     "output_type": "display_data"
    },
    {
     "data": {
      "text/html": [
       "<pre style=\"white-space:pre;overflow-x:auto;line-height:normal;font-family:Menlo,'DejaVu Sans Mono',consolas,'Courier New',monospace\"><span style=\"color: #7fbfbf; text-decoration-color: #7fbfbf\">[09/02/24 21:41:56] </span><span style=\"color: #000080; text-decoration-color: #000080\">INFO    </span> <span style=\"font-weight: bold\">[</span><span style=\"color: #008080; text-decoration-color: #008080; font-weight: bold\">6</span>/<span style=\"color: #008080; text-decoration-color: #008080; font-weight: bold\">10</span><span style=\"font-weight: bold\">]</span> Retrieving fixtures for ENG-Premier League <span style=\"color: #008080; text-decoration-color: #008080; font-weight: bold\">2425</span>                <a href=\"file://C:\\Users\\acer\\AppData\\Local\\Programs\\Python\\Python312\\Lib\\site-packages\\soccerdata\\whoscored.py\" target=\"_blank\"><span style=\"color: #7f7f7f; text-decoration-color: #7f7f7f\">whoscored.py</span></a><span style=\"color: #7f7f7f; text-decoration-color: #7f7f7f\">:</span><a href=\"file://C:\\Users\\acer\\AppData\\Local\\Programs\\Python\\Python312\\Lib\\site-packages\\soccerdata\\whoscored.py#400\" target=\"_blank\"><span style=\"color: #7f7f7f; text-decoration-color: #7f7f7f\">400</span></a>\n",
       "</pre>\n"
      ],
      "text/plain": [
       "\u001b[2;36m[09/02/24 21:41:56]\u001b[0m\u001b[2;36m \u001b[0m\u001b[34mINFO    \u001b[0m \u001b[1m[\u001b[0m\u001b[1;36m6\u001b[0m/\u001b[1;36m10\u001b[0m\u001b[1m]\u001b[0m Retrieving fixtures for ENG-Premier League \u001b[1;36m2425\u001b[0m                \u001b]8;id=943852;file://C:\\Users\\acer\\AppData\\Local\\Programs\\Python\\Python312\\Lib\\site-packages\\soccerdata\\whoscored.py\u001b\\\u001b[2mwhoscored.py\u001b[0m\u001b]8;;\u001b\\\u001b[2m:\u001b[0m\u001b]8;id=216329;file://C:\\Users\\acer\\AppData\\Local\\Programs\\Python\\Python312\\Lib\\site-packages\\soccerdata\\whoscored.py#400\u001b\\\u001b[2m400\u001b[0m\u001b]8;;\u001b\\\n"
      ]
     },
     "metadata": {},
     "output_type": "display_data"
    },
    {
     "data": {
      "text/html": [
       "<pre style=\"white-space:pre;overflow-x:auto;line-height:normal;font-family:Menlo,'DejaVu Sans Mono',consolas,'Courier New',monospace\"><span style=\"color: #7fbfbf; text-decoration-color: #7fbfbf\">[09/02/24 21:42:03] </span><span style=\"color: #000080; text-decoration-color: #000080\">INFO    </span> <span style=\"font-weight: bold\">[</span><span style=\"color: #008080; text-decoration-color: #008080; font-weight: bold\">7</span>/<span style=\"color: #008080; text-decoration-color: #008080; font-weight: bold\">10</span><span style=\"font-weight: bold\">]</span> Retrieving fixtures for ENG-Premier League <span style=\"color: #008080; text-decoration-color: #008080; font-weight: bold\">2425</span>                <a href=\"file://C:\\Users\\acer\\AppData\\Local\\Programs\\Python\\Python312\\Lib\\site-packages\\soccerdata\\whoscored.py\" target=\"_blank\"><span style=\"color: #7f7f7f; text-decoration-color: #7f7f7f\">whoscored.py</span></a><span style=\"color: #7f7f7f; text-decoration-color: #7f7f7f\">:</span><a href=\"file://C:\\Users\\acer\\AppData\\Local\\Programs\\Python\\Python312\\Lib\\site-packages\\soccerdata\\whoscored.py#400\" target=\"_blank\"><span style=\"color: #7f7f7f; text-decoration-color: #7f7f7f\">400</span></a>\n",
       "</pre>\n"
      ],
      "text/plain": [
       "\u001b[2;36m[09/02/24 21:42:03]\u001b[0m\u001b[2;36m \u001b[0m\u001b[34mINFO    \u001b[0m \u001b[1m[\u001b[0m\u001b[1;36m7\u001b[0m/\u001b[1;36m10\u001b[0m\u001b[1m]\u001b[0m Retrieving fixtures for ENG-Premier League \u001b[1;36m2425\u001b[0m                \u001b]8;id=51511;file://C:\\Users\\acer\\AppData\\Local\\Programs\\Python\\Python312\\Lib\\site-packages\\soccerdata\\whoscored.py\u001b\\\u001b[2mwhoscored.py\u001b[0m\u001b]8;;\u001b\\\u001b[2m:\u001b[0m\u001b]8;id=825099;file://C:\\Users\\acer\\AppData\\Local\\Programs\\Python\\Python312\\Lib\\site-packages\\soccerdata\\whoscored.py#400\u001b\\\u001b[2m400\u001b[0m\u001b]8;;\u001b\\\n"
      ]
     },
     "metadata": {},
     "output_type": "display_data"
    },
    {
     "data": {
      "text/html": [
       "<pre style=\"white-space:pre;overflow-x:auto;line-height:normal;font-family:Menlo,'DejaVu Sans Mono',consolas,'Courier New',monospace\"><span style=\"color: #7fbfbf; text-decoration-color: #7fbfbf\">[09/02/24 21:42:12] </span><span style=\"color: #000080; text-decoration-color: #000080\">INFO    </span> <span style=\"font-weight: bold\">[</span><span style=\"color: #008080; text-decoration-color: #008080; font-weight: bold\">8</span>/<span style=\"color: #008080; text-decoration-color: #008080; font-weight: bold\">10</span><span style=\"font-weight: bold\">]</span> Retrieving fixtures for ENG-Premier League <span style=\"color: #008080; text-decoration-color: #008080; font-weight: bold\">2425</span>                <a href=\"file://C:\\Users\\acer\\AppData\\Local\\Programs\\Python\\Python312\\Lib\\site-packages\\soccerdata\\whoscored.py\" target=\"_blank\"><span style=\"color: #7f7f7f; text-decoration-color: #7f7f7f\">whoscored.py</span></a><span style=\"color: #7f7f7f; text-decoration-color: #7f7f7f\">:</span><a href=\"file://C:\\Users\\acer\\AppData\\Local\\Programs\\Python\\Python312\\Lib\\site-packages\\soccerdata\\whoscored.py#400\" target=\"_blank\"><span style=\"color: #7f7f7f; text-decoration-color: #7f7f7f\">400</span></a>\n",
       "</pre>\n"
      ],
      "text/plain": [
       "\u001b[2;36m[09/02/24 21:42:12]\u001b[0m\u001b[2;36m \u001b[0m\u001b[34mINFO    \u001b[0m \u001b[1m[\u001b[0m\u001b[1;36m8\u001b[0m/\u001b[1;36m10\u001b[0m\u001b[1m]\u001b[0m Retrieving fixtures for ENG-Premier League \u001b[1;36m2425\u001b[0m                \u001b]8;id=891594;file://C:\\Users\\acer\\AppData\\Local\\Programs\\Python\\Python312\\Lib\\site-packages\\soccerdata\\whoscored.py\u001b\\\u001b[2mwhoscored.py\u001b[0m\u001b]8;;\u001b\\\u001b[2m:\u001b[0m\u001b]8;id=766109;file://C:\\Users\\acer\\AppData\\Local\\Programs\\Python\\Python312\\Lib\\site-packages\\soccerdata\\whoscored.py#400\u001b\\\u001b[2m400\u001b[0m\u001b]8;;\u001b\\\n"
      ]
     },
     "metadata": {},
     "output_type": "display_data"
    },
    {
     "data": {
      "text/html": [
       "<pre style=\"white-space:pre;overflow-x:auto;line-height:normal;font-family:Menlo,'DejaVu Sans Mono',consolas,'Courier New',monospace\"><span style=\"color: #7fbfbf; text-decoration-color: #7fbfbf\">[09/02/24 21:42:20] </span><span style=\"color: #000080; text-decoration-color: #000080\">INFO    </span> <span style=\"font-weight: bold\">[</span><span style=\"color: #008080; text-decoration-color: #008080; font-weight: bold\">9</span>/<span style=\"color: #008080; text-decoration-color: #008080; font-weight: bold\">10</span><span style=\"font-weight: bold\">]</span> Retrieving fixtures for ENG-Premier League <span style=\"color: #008080; text-decoration-color: #008080; font-weight: bold\">2425</span>                <a href=\"file://C:\\Users\\acer\\AppData\\Local\\Programs\\Python\\Python312\\Lib\\site-packages\\soccerdata\\whoscored.py\" target=\"_blank\"><span style=\"color: #7f7f7f; text-decoration-color: #7f7f7f\">whoscored.py</span></a><span style=\"color: #7f7f7f; text-decoration-color: #7f7f7f\">:</span><a href=\"file://C:\\Users\\acer\\AppData\\Local\\Programs\\Python\\Python312\\Lib\\site-packages\\soccerdata\\whoscored.py#400\" target=\"_blank\"><span style=\"color: #7f7f7f; text-decoration-color: #7f7f7f\">400</span></a>\n",
       "</pre>\n"
      ],
      "text/plain": [
       "\u001b[2;36m[09/02/24 21:42:20]\u001b[0m\u001b[2;36m \u001b[0m\u001b[34mINFO    \u001b[0m \u001b[1m[\u001b[0m\u001b[1;36m9\u001b[0m/\u001b[1;36m10\u001b[0m\u001b[1m]\u001b[0m Retrieving fixtures for ENG-Premier League \u001b[1;36m2425\u001b[0m                \u001b]8;id=868832;file://C:\\Users\\acer\\AppData\\Local\\Programs\\Python\\Python312\\Lib\\site-packages\\soccerdata\\whoscored.py\u001b\\\u001b[2mwhoscored.py\u001b[0m\u001b]8;;\u001b\\\u001b[2m:\u001b[0m\u001b]8;id=307269;file://C:\\Users\\acer\\AppData\\Local\\Programs\\Python\\Python312\\Lib\\site-packages\\soccerdata\\whoscored.py#400\u001b\\\u001b[2m400\u001b[0m\u001b]8;;\u001b\\\n"
      ]
     },
     "metadata": {},
     "output_type": "display_data"
    },
    {
     "data": {
      "text/html": [
       "<pre style=\"white-space:pre;overflow-x:auto;line-height:normal;font-family:Menlo,'DejaVu Sans Mono',consolas,'Courier New',monospace\"><span style=\"color: #7fbfbf; text-decoration-color: #7fbfbf\">[09/02/24 21:42:29] </span><span style=\"color: #000080; text-decoration-color: #000080\">INFO    </span> <span style=\"font-weight: bold\">[</span><span style=\"color: #008080; text-decoration-color: #008080; font-weight: bold\">10</span>/<span style=\"color: #008080; text-decoration-color: #008080; font-weight: bold\">10</span><span style=\"font-weight: bold\">]</span> Retrieving fixtures for ENG-Premier League <span style=\"color: #008080; text-decoration-color: #008080; font-weight: bold\">2425</span>               <a href=\"file://C:\\Users\\acer\\AppData\\Local\\Programs\\Python\\Python312\\Lib\\site-packages\\soccerdata\\whoscored.py\" target=\"_blank\"><span style=\"color: #7f7f7f; text-decoration-color: #7f7f7f\">whoscored.py</span></a><span style=\"color: #7f7f7f; text-decoration-color: #7f7f7f\">:</span><a href=\"file://C:\\Users\\acer\\AppData\\Local\\Programs\\Python\\Python312\\Lib\\site-packages\\soccerdata\\whoscored.py#400\" target=\"_blank\"><span style=\"color: #7f7f7f; text-decoration-color: #7f7f7f\">400</span></a>\n",
       "</pre>\n"
      ],
      "text/plain": [
       "\u001b[2;36m[09/02/24 21:42:29]\u001b[0m\u001b[2;36m \u001b[0m\u001b[34mINFO    \u001b[0m \u001b[1m[\u001b[0m\u001b[1;36m10\u001b[0m/\u001b[1;36m10\u001b[0m\u001b[1m]\u001b[0m Retrieving fixtures for ENG-Premier League \u001b[1;36m2425\u001b[0m               \u001b]8;id=955289;file://C:\\Users\\acer\\AppData\\Local\\Programs\\Python\\Python312\\Lib\\site-packages\\soccerdata\\whoscored.py\u001b\\\u001b[2mwhoscored.py\u001b[0m\u001b]8;;\u001b\\\u001b[2m:\u001b[0m\u001b]8;id=218086;file://C:\\Users\\acer\\AppData\\Local\\Programs\\Python\\Python312\\Lib\\site-packages\\soccerdata\\whoscored.py#400\u001b\\\u001b[2m400\u001b[0m\u001b]8;;\u001b\\\n"
      ]
     },
     "metadata": {},
     "output_type": "display_data"
    },
    {
     "name": "stderr",
     "output_type": "stream",
     "text": [
      "C:\\Users\\acer\\AppData\\Local\\Programs\\Python\\Python312\\Lib\\site-packages\\soccerdata\\whoscored.py:424: FutureWarning: The behavior of DataFrame concatenation with empty or all-NA entries is deprecated. In a future version, this will no longer exclude empty or all-NA columns when determining the result dtypes. To retain the old behavior, exclude the relevant entries before the concat operation.\n",
      "  pd.concat(all_schedules)\n"
     ]
    },
    {
     "data": {
      "text/html": [
       "<pre style=\"white-space:pre;overflow-x:auto;line-height:normal;font-family:Menlo,'DejaVu Sans Mono',consolas,'Courier New',monospace\"><span style=\"color: #7fbfbf; text-decoration-color: #7fbfbf\">[09/02/24 21:42:37] </span><span style=\"color: #000080; text-decoration-color: #000080\">INFO    </span> <span style=\"font-weight: bold\">[</span><span style=\"color: #008080; text-decoration-color: #008080; font-weight: bold\">1</span>/<span style=\"color: #008080; text-decoration-color: #008080; font-weight: bold\">1</span><span style=\"font-weight: bold\">]</span> Retrieving game with <span style=\"color: #808000; text-decoration-color: #808000\">id</span>=<span style=\"color: #008080; text-decoration-color: #008080; font-weight: bold\">1821069</span>                                 <a href=\"file://C:\\Users\\acer\\AppData\\Local\\Programs\\Python\\Python312\\Lib\\site-packages\\soccerdata\\whoscored.py\" target=\"_blank\"><span style=\"color: #7f7f7f; text-decoration-color: #7f7f7f\">whoscored.py</span></a><span style=\"color: #7f7f7f; text-decoration-color: #7f7f7f\">:</span><a href=\"file://C:\\Users\\acer\\AppData\\Local\\Programs\\Python\\Python312\\Lib\\site-packages\\soccerdata\\whoscored.py#692\" target=\"_blank\"><span style=\"color: #7f7f7f; text-decoration-color: #7f7f7f\">692</span></a>\n",
       "</pre>\n"
      ],
      "text/plain": [
       "\u001b[2;36m[09/02/24 21:42:37]\u001b[0m\u001b[2;36m \u001b[0m\u001b[34mINFO    \u001b[0m \u001b[1m[\u001b[0m\u001b[1;36m1\u001b[0m/\u001b[1;36m1\u001b[0m\u001b[1m]\u001b[0m Retrieving game with \u001b[33mid\u001b[0m=\u001b[1;36m1821069\u001b[0m                                 \u001b]8;id=41996;file://C:\\Users\\acer\\AppData\\Local\\Programs\\Python\\Python312\\Lib\\site-packages\\soccerdata\\whoscored.py\u001b\\\u001b[2mwhoscored.py\u001b[0m\u001b]8;;\u001b\\\u001b[2m:\u001b[0m\u001b]8;id=63927;file://C:\\Users\\acer\\AppData\\Local\\Programs\\Python\\Python312\\Lib\\site-packages\\soccerdata\\whoscored.py#692\u001b\\\u001b[2m692\u001b[0m\u001b]8;;\u001b\\\n"
      ]
     },
     "metadata": {},
     "output_type": "display_data"
    },
    {
     "data": {
      "text/html": [
       "<pre style=\"white-space:pre;overflow-x:auto;line-height:normal;font-family:Menlo,'DejaVu Sans Mono',consolas,'Courier New',monospace\"><span style=\"color: #7fbfbf; text-decoration-color: #7fbfbf\">[09/02/24 21:43:00] </span><span style=\"color: #000080; text-decoration-color: #000080\">INFO    </span> Retrieving calendar for ENG-Premier League <span style=\"color: #008080; text-decoration-color: #008080; font-weight: bold\">2425</span>                       <a href=\"file://C:\\Users\\acer\\AppData\\Local\\Programs\\Python\\Python312\\Lib\\site-packages\\soccerdata\\whoscored.py\" target=\"_blank\"><span style=\"color: #7f7f7f; text-decoration-color: #7f7f7f\">whoscored.py</span></a><span style=\"color: #7f7f7f; text-decoration-color: #7f7f7f\">:</span><a href=\"file://C:\\Users\\acer\\AppData\\Local\\Programs\\Python\\Python312\\Lib\\site-packages\\soccerdata\\whoscored.py#371\" target=\"_blank\"><span style=\"color: #7f7f7f; text-decoration-color: #7f7f7f\">371</span></a>\n",
       "</pre>\n"
      ],
      "text/plain": [
       "\u001b[2;36m[09/02/24 21:43:00]\u001b[0m\u001b[2;36m \u001b[0m\u001b[34mINFO    \u001b[0m Retrieving calendar for ENG-Premier League \u001b[1;36m2425\u001b[0m                       \u001b]8;id=319934;file://C:\\Users\\acer\\AppData\\Local\\Programs\\Python\\Python312\\Lib\\site-packages\\soccerdata\\whoscored.py\u001b\\\u001b[2mwhoscored.py\u001b[0m\u001b]8;;\u001b\\\u001b[2m:\u001b[0m\u001b]8;id=182770;file://C:\\Users\\acer\\AppData\\Local\\Programs\\Python\\Python312\\Lib\\site-packages\\soccerdata\\whoscored.py#371\u001b\\\u001b[2m371\u001b[0m\u001b]8;;\u001b\\\n"
      ]
     },
     "metadata": {},
     "output_type": "display_data"
    },
    {
     "data": {
      "text/html": [
       "<pre style=\"white-space:pre;overflow-x:auto;line-height:normal;font-family:Menlo,'DejaVu Sans Mono',consolas,'Courier New',monospace\"><span style=\"color: #7fbfbf; text-decoration-color: #7fbfbf\">[09/02/24 21:43:08] </span><span style=\"color: #000080; text-decoration-color: #000080\">INFO    </span> <span style=\"font-weight: bold\">[</span><span style=\"color: #008080; text-decoration-color: #008080; font-weight: bold\">1</span>/<span style=\"color: #008080; text-decoration-color: #008080; font-weight: bold\">10</span><span style=\"font-weight: bold\">]</span> Retrieving fixtures for ENG-Premier League <span style=\"color: #008080; text-decoration-color: #008080; font-weight: bold\">2425</span>                <a href=\"file://C:\\Users\\acer\\AppData\\Local\\Programs\\Python\\Python312\\Lib\\site-packages\\soccerdata\\whoscored.py\" target=\"_blank\"><span style=\"color: #7f7f7f; text-decoration-color: #7f7f7f\">whoscored.py</span></a><span style=\"color: #7f7f7f; text-decoration-color: #7f7f7f\">:</span><a href=\"file://C:\\Users\\acer\\AppData\\Local\\Programs\\Python\\Python312\\Lib\\site-packages\\soccerdata\\whoscored.py#400\" target=\"_blank\"><span style=\"color: #7f7f7f; text-decoration-color: #7f7f7f\">400</span></a>\n",
       "</pre>\n"
      ],
      "text/plain": [
       "\u001b[2;36m[09/02/24 21:43:08]\u001b[0m\u001b[2;36m \u001b[0m\u001b[34mINFO    \u001b[0m \u001b[1m[\u001b[0m\u001b[1;36m1\u001b[0m/\u001b[1;36m10\u001b[0m\u001b[1m]\u001b[0m Retrieving fixtures for ENG-Premier League \u001b[1;36m2425\u001b[0m                \u001b]8;id=699882;file://C:\\Users\\acer\\AppData\\Local\\Programs\\Python\\Python312\\Lib\\site-packages\\soccerdata\\whoscored.py\u001b\\\u001b[2mwhoscored.py\u001b[0m\u001b]8;;\u001b\\\u001b[2m:\u001b[0m\u001b]8;id=965625;file://C:\\Users\\acer\\AppData\\Local\\Programs\\Python\\Python312\\Lib\\site-packages\\soccerdata\\whoscored.py#400\u001b\\\u001b[2m400\u001b[0m\u001b]8;;\u001b\\\n"
      ]
     },
     "metadata": {},
     "output_type": "display_data"
    },
    {
     "data": {
      "text/html": [
       "<pre style=\"white-space:pre;overflow-x:auto;line-height:normal;font-family:Menlo,'DejaVu Sans Mono',consolas,'Courier New',monospace\"><span style=\"color: #7fbfbf; text-decoration-color: #7fbfbf\">[09/02/24 21:43:17] </span><span style=\"color: #000080; text-decoration-color: #000080\">INFO    </span> <span style=\"font-weight: bold\">[</span><span style=\"color: #008080; text-decoration-color: #008080; font-weight: bold\">2</span>/<span style=\"color: #008080; text-decoration-color: #008080; font-weight: bold\">10</span><span style=\"font-weight: bold\">]</span> Retrieving fixtures for ENG-Premier League <span style=\"color: #008080; text-decoration-color: #008080; font-weight: bold\">2425</span>                <a href=\"file://C:\\Users\\acer\\AppData\\Local\\Programs\\Python\\Python312\\Lib\\site-packages\\soccerdata\\whoscored.py\" target=\"_blank\"><span style=\"color: #7f7f7f; text-decoration-color: #7f7f7f\">whoscored.py</span></a><span style=\"color: #7f7f7f; text-decoration-color: #7f7f7f\">:</span><a href=\"file://C:\\Users\\acer\\AppData\\Local\\Programs\\Python\\Python312\\Lib\\site-packages\\soccerdata\\whoscored.py#400\" target=\"_blank\"><span style=\"color: #7f7f7f; text-decoration-color: #7f7f7f\">400</span></a>\n",
       "</pre>\n"
      ],
      "text/plain": [
       "\u001b[2;36m[09/02/24 21:43:17]\u001b[0m\u001b[2;36m \u001b[0m\u001b[34mINFO    \u001b[0m \u001b[1m[\u001b[0m\u001b[1;36m2\u001b[0m/\u001b[1;36m10\u001b[0m\u001b[1m]\u001b[0m Retrieving fixtures for ENG-Premier League \u001b[1;36m2425\u001b[0m                \u001b]8;id=545066;file://C:\\Users\\acer\\AppData\\Local\\Programs\\Python\\Python312\\Lib\\site-packages\\soccerdata\\whoscored.py\u001b\\\u001b[2mwhoscored.py\u001b[0m\u001b]8;;\u001b\\\u001b[2m:\u001b[0m\u001b]8;id=169955;file://C:\\Users\\acer\\AppData\\Local\\Programs\\Python\\Python312\\Lib\\site-packages\\soccerdata\\whoscored.py#400\u001b\\\u001b[2m400\u001b[0m\u001b]8;;\u001b\\\n"
      ]
     },
     "metadata": {},
     "output_type": "display_data"
    },
    {
     "data": {
      "text/html": [
       "<pre style=\"white-space:pre;overflow-x:auto;line-height:normal;font-family:Menlo,'DejaVu Sans Mono',consolas,'Courier New',monospace\"><span style=\"color: #7fbfbf; text-decoration-color: #7fbfbf\">[09/02/24 21:43:25] </span><span style=\"color: #000080; text-decoration-color: #000080\">INFO    </span> <span style=\"font-weight: bold\">[</span><span style=\"color: #008080; text-decoration-color: #008080; font-weight: bold\">3</span>/<span style=\"color: #008080; text-decoration-color: #008080; font-weight: bold\">10</span><span style=\"font-weight: bold\">]</span> Retrieving fixtures for ENG-Premier League <span style=\"color: #008080; text-decoration-color: #008080; font-weight: bold\">2425</span>                <a href=\"file://C:\\Users\\acer\\AppData\\Local\\Programs\\Python\\Python312\\Lib\\site-packages\\soccerdata\\whoscored.py\" target=\"_blank\"><span style=\"color: #7f7f7f; text-decoration-color: #7f7f7f\">whoscored.py</span></a><span style=\"color: #7f7f7f; text-decoration-color: #7f7f7f\">:</span><a href=\"file://C:\\Users\\acer\\AppData\\Local\\Programs\\Python\\Python312\\Lib\\site-packages\\soccerdata\\whoscored.py#400\" target=\"_blank\"><span style=\"color: #7f7f7f; text-decoration-color: #7f7f7f\">400</span></a>\n",
       "</pre>\n"
      ],
      "text/plain": [
       "\u001b[2;36m[09/02/24 21:43:25]\u001b[0m\u001b[2;36m \u001b[0m\u001b[34mINFO    \u001b[0m \u001b[1m[\u001b[0m\u001b[1;36m3\u001b[0m/\u001b[1;36m10\u001b[0m\u001b[1m]\u001b[0m Retrieving fixtures for ENG-Premier League \u001b[1;36m2425\u001b[0m                \u001b]8;id=962521;file://C:\\Users\\acer\\AppData\\Local\\Programs\\Python\\Python312\\Lib\\site-packages\\soccerdata\\whoscored.py\u001b\\\u001b[2mwhoscored.py\u001b[0m\u001b]8;;\u001b\\\u001b[2m:\u001b[0m\u001b]8;id=856456;file://C:\\Users\\acer\\AppData\\Local\\Programs\\Python\\Python312\\Lib\\site-packages\\soccerdata\\whoscored.py#400\u001b\\\u001b[2m400\u001b[0m\u001b]8;;\u001b\\\n"
      ]
     },
     "metadata": {},
     "output_type": "display_data"
    },
    {
     "data": {
      "text/html": [
       "<pre style=\"white-space:pre;overflow-x:auto;line-height:normal;font-family:Menlo,'DejaVu Sans Mono',consolas,'Courier New',monospace\"><span style=\"color: #7fbfbf; text-decoration-color: #7fbfbf\">[09/02/24 21:43:31] </span><span style=\"color: #000080; text-decoration-color: #000080\">INFO    </span> <span style=\"font-weight: bold\">[</span><span style=\"color: #008080; text-decoration-color: #008080; font-weight: bold\">4</span>/<span style=\"color: #008080; text-decoration-color: #008080; font-weight: bold\">10</span><span style=\"font-weight: bold\">]</span> Retrieving fixtures for ENG-Premier League <span style=\"color: #008080; text-decoration-color: #008080; font-weight: bold\">2425</span>                <a href=\"file://C:\\Users\\acer\\AppData\\Local\\Programs\\Python\\Python312\\Lib\\site-packages\\soccerdata\\whoscored.py\" target=\"_blank\"><span style=\"color: #7f7f7f; text-decoration-color: #7f7f7f\">whoscored.py</span></a><span style=\"color: #7f7f7f; text-decoration-color: #7f7f7f\">:</span><a href=\"file://C:\\Users\\acer\\AppData\\Local\\Programs\\Python\\Python312\\Lib\\site-packages\\soccerdata\\whoscored.py#400\" target=\"_blank\"><span style=\"color: #7f7f7f; text-decoration-color: #7f7f7f\">400</span></a>\n",
       "</pre>\n"
      ],
      "text/plain": [
       "\u001b[2;36m[09/02/24 21:43:31]\u001b[0m\u001b[2;36m \u001b[0m\u001b[34mINFO    \u001b[0m \u001b[1m[\u001b[0m\u001b[1;36m4\u001b[0m/\u001b[1;36m10\u001b[0m\u001b[1m]\u001b[0m Retrieving fixtures for ENG-Premier League \u001b[1;36m2425\u001b[0m                \u001b]8;id=747155;file://C:\\Users\\acer\\AppData\\Local\\Programs\\Python\\Python312\\Lib\\site-packages\\soccerdata\\whoscored.py\u001b\\\u001b[2mwhoscored.py\u001b[0m\u001b]8;;\u001b\\\u001b[2m:\u001b[0m\u001b]8;id=191071;file://C:\\Users\\acer\\AppData\\Local\\Programs\\Python\\Python312\\Lib\\site-packages\\soccerdata\\whoscored.py#400\u001b\\\u001b[2m400\u001b[0m\u001b]8;;\u001b\\\n"
      ]
     },
     "metadata": {},
     "output_type": "display_data"
    },
    {
     "data": {
      "text/html": [
       "<pre style=\"white-space:pre;overflow-x:auto;line-height:normal;font-family:Menlo,'DejaVu Sans Mono',consolas,'Courier New',monospace\"><span style=\"color: #7fbfbf; text-decoration-color: #7fbfbf\">[09/02/24 21:43:38] </span><span style=\"color: #000080; text-decoration-color: #000080\">INFO    </span> <span style=\"font-weight: bold\">[</span><span style=\"color: #008080; text-decoration-color: #008080; font-weight: bold\">5</span>/<span style=\"color: #008080; text-decoration-color: #008080; font-weight: bold\">10</span><span style=\"font-weight: bold\">]</span> Retrieving fixtures for ENG-Premier League <span style=\"color: #008080; text-decoration-color: #008080; font-weight: bold\">2425</span>                <a href=\"file://C:\\Users\\acer\\AppData\\Local\\Programs\\Python\\Python312\\Lib\\site-packages\\soccerdata\\whoscored.py\" target=\"_blank\"><span style=\"color: #7f7f7f; text-decoration-color: #7f7f7f\">whoscored.py</span></a><span style=\"color: #7f7f7f; text-decoration-color: #7f7f7f\">:</span><a href=\"file://C:\\Users\\acer\\AppData\\Local\\Programs\\Python\\Python312\\Lib\\site-packages\\soccerdata\\whoscored.py#400\" target=\"_blank\"><span style=\"color: #7f7f7f; text-decoration-color: #7f7f7f\">400</span></a>\n",
       "</pre>\n"
      ],
      "text/plain": [
       "\u001b[2;36m[09/02/24 21:43:38]\u001b[0m\u001b[2;36m \u001b[0m\u001b[34mINFO    \u001b[0m \u001b[1m[\u001b[0m\u001b[1;36m5\u001b[0m/\u001b[1;36m10\u001b[0m\u001b[1m]\u001b[0m Retrieving fixtures for ENG-Premier League \u001b[1;36m2425\u001b[0m                \u001b]8;id=796332;file://C:\\Users\\acer\\AppData\\Local\\Programs\\Python\\Python312\\Lib\\site-packages\\soccerdata\\whoscored.py\u001b\\\u001b[2mwhoscored.py\u001b[0m\u001b]8;;\u001b\\\u001b[2m:\u001b[0m\u001b]8;id=61077;file://C:\\Users\\acer\\AppData\\Local\\Programs\\Python\\Python312\\Lib\\site-packages\\soccerdata\\whoscored.py#400\u001b\\\u001b[2m400\u001b[0m\u001b]8;;\u001b\\\n"
      ]
     },
     "metadata": {},
     "output_type": "display_data"
    },
    {
     "data": {
      "text/html": [
       "<pre style=\"white-space:pre;overflow-x:auto;line-height:normal;font-family:Menlo,'DejaVu Sans Mono',consolas,'Courier New',monospace\"><span style=\"color: #7fbfbf; text-decoration-color: #7fbfbf\">[09/02/24 21:43:46] </span><span style=\"color: #000080; text-decoration-color: #000080\">INFO    </span> <span style=\"font-weight: bold\">[</span><span style=\"color: #008080; text-decoration-color: #008080; font-weight: bold\">6</span>/<span style=\"color: #008080; text-decoration-color: #008080; font-weight: bold\">10</span><span style=\"font-weight: bold\">]</span> Retrieving fixtures for ENG-Premier League <span style=\"color: #008080; text-decoration-color: #008080; font-weight: bold\">2425</span>                <a href=\"file://C:\\Users\\acer\\AppData\\Local\\Programs\\Python\\Python312\\Lib\\site-packages\\soccerdata\\whoscored.py\" target=\"_blank\"><span style=\"color: #7f7f7f; text-decoration-color: #7f7f7f\">whoscored.py</span></a><span style=\"color: #7f7f7f; text-decoration-color: #7f7f7f\">:</span><a href=\"file://C:\\Users\\acer\\AppData\\Local\\Programs\\Python\\Python312\\Lib\\site-packages\\soccerdata\\whoscored.py#400\" target=\"_blank\"><span style=\"color: #7f7f7f; text-decoration-color: #7f7f7f\">400</span></a>\n",
       "</pre>\n"
      ],
      "text/plain": [
       "\u001b[2;36m[09/02/24 21:43:46]\u001b[0m\u001b[2;36m \u001b[0m\u001b[34mINFO    \u001b[0m \u001b[1m[\u001b[0m\u001b[1;36m6\u001b[0m/\u001b[1;36m10\u001b[0m\u001b[1m]\u001b[0m Retrieving fixtures for ENG-Premier League \u001b[1;36m2425\u001b[0m                \u001b]8;id=447094;file://C:\\Users\\acer\\AppData\\Local\\Programs\\Python\\Python312\\Lib\\site-packages\\soccerdata\\whoscored.py\u001b\\\u001b[2mwhoscored.py\u001b[0m\u001b]8;;\u001b\\\u001b[2m:\u001b[0m\u001b]8;id=173547;file://C:\\Users\\acer\\AppData\\Local\\Programs\\Python\\Python312\\Lib\\site-packages\\soccerdata\\whoscored.py#400\u001b\\\u001b[2m400\u001b[0m\u001b]8;;\u001b\\\n"
      ]
     },
     "metadata": {},
     "output_type": "display_data"
    },
    {
     "data": {
      "text/html": [
       "<pre style=\"white-space:pre;overflow-x:auto;line-height:normal;font-family:Menlo,'DejaVu Sans Mono',consolas,'Courier New',monospace\"><span style=\"color: #7fbfbf; text-decoration-color: #7fbfbf\">[09/02/24 21:43:54] </span><span style=\"color: #000080; text-decoration-color: #000080\">INFO    </span> <span style=\"font-weight: bold\">[</span><span style=\"color: #008080; text-decoration-color: #008080; font-weight: bold\">7</span>/<span style=\"color: #008080; text-decoration-color: #008080; font-weight: bold\">10</span><span style=\"font-weight: bold\">]</span> Retrieving fixtures for ENG-Premier League <span style=\"color: #008080; text-decoration-color: #008080; font-weight: bold\">2425</span>                <a href=\"file://C:\\Users\\acer\\AppData\\Local\\Programs\\Python\\Python312\\Lib\\site-packages\\soccerdata\\whoscored.py\" target=\"_blank\"><span style=\"color: #7f7f7f; text-decoration-color: #7f7f7f\">whoscored.py</span></a><span style=\"color: #7f7f7f; text-decoration-color: #7f7f7f\">:</span><a href=\"file://C:\\Users\\acer\\AppData\\Local\\Programs\\Python\\Python312\\Lib\\site-packages\\soccerdata\\whoscored.py#400\" target=\"_blank\"><span style=\"color: #7f7f7f; text-decoration-color: #7f7f7f\">400</span></a>\n",
       "</pre>\n"
      ],
      "text/plain": [
       "\u001b[2;36m[09/02/24 21:43:54]\u001b[0m\u001b[2;36m \u001b[0m\u001b[34mINFO    \u001b[0m \u001b[1m[\u001b[0m\u001b[1;36m7\u001b[0m/\u001b[1;36m10\u001b[0m\u001b[1m]\u001b[0m Retrieving fixtures for ENG-Premier League \u001b[1;36m2425\u001b[0m                \u001b]8;id=137176;file://C:\\Users\\acer\\AppData\\Local\\Programs\\Python\\Python312\\Lib\\site-packages\\soccerdata\\whoscored.py\u001b\\\u001b[2mwhoscored.py\u001b[0m\u001b]8;;\u001b\\\u001b[2m:\u001b[0m\u001b]8;id=174669;file://C:\\Users\\acer\\AppData\\Local\\Programs\\Python\\Python312\\Lib\\site-packages\\soccerdata\\whoscored.py#400\u001b\\\u001b[2m400\u001b[0m\u001b]8;;\u001b\\\n"
      ]
     },
     "metadata": {},
     "output_type": "display_data"
    },
    {
     "data": {
      "text/html": [
       "<pre style=\"white-space:pre;overflow-x:auto;line-height:normal;font-family:Menlo,'DejaVu Sans Mono',consolas,'Courier New',monospace\"><span style=\"color: #7fbfbf; text-decoration-color: #7fbfbf\">[09/02/24 21:44:03] </span><span style=\"color: #000080; text-decoration-color: #000080\">INFO    </span> <span style=\"font-weight: bold\">[</span><span style=\"color: #008080; text-decoration-color: #008080; font-weight: bold\">8</span>/<span style=\"color: #008080; text-decoration-color: #008080; font-weight: bold\">10</span><span style=\"font-weight: bold\">]</span> Retrieving fixtures for ENG-Premier League <span style=\"color: #008080; text-decoration-color: #008080; font-weight: bold\">2425</span>                <a href=\"file://C:\\Users\\acer\\AppData\\Local\\Programs\\Python\\Python312\\Lib\\site-packages\\soccerdata\\whoscored.py\" target=\"_blank\"><span style=\"color: #7f7f7f; text-decoration-color: #7f7f7f\">whoscored.py</span></a><span style=\"color: #7f7f7f; text-decoration-color: #7f7f7f\">:</span><a href=\"file://C:\\Users\\acer\\AppData\\Local\\Programs\\Python\\Python312\\Lib\\site-packages\\soccerdata\\whoscored.py#400\" target=\"_blank\"><span style=\"color: #7f7f7f; text-decoration-color: #7f7f7f\">400</span></a>\n",
       "</pre>\n"
      ],
      "text/plain": [
       "\u001b[2;36m[09/02/24 21:44:03]\u001b[0m\u001b[2;36m \u001b[0m\u001b[34mINFO    \u001b[0m \u001b[1m[\u001b[0m\u001b[1;36m8\u001b[0m/\u001b[1;36m10\u001b[0m\u001b[1m]\u001b[0m Retrieving fixtures for ENG-Premier League \u001b[1;36m2425\u001b[0m                \u001b]8;id=282286;file://C:\\Users\\acer\\AppData\\Local\\Programs\\Python\\Python312\\Lib\\site-packages\\soccerdata\\whoscored.py\u001b\\\u001b[2mwhoscored.py\u001b[0m\u001b]8;;\u001b\\\u001b[2m:\u001b[0m\u001b]8;id=708718;file://C:\\Users\\acer\\AppData\\Local\\Programs\\Python\\Python312\\Lib\\site-packages\\soccerdata\\whoscored.py#400\u001b\\\u001b[2m400\u001b[0m\u001b]8;;\u001b\\\n"
      ]
     },
     "metadata": {},
     "output_type": "display_data"
    },
    {
     "data": {
      "text/html": [
       "<pre style=\"white-space:pre;overflow-x:auto;line-height:normal;font-family:Menlo,'DejaVu Sans Mono',consolas,'Courier New',monospace\"><span style=\"color: #7fbfbf; text-decoration-color: #7fbfbf\">[09/02/24 21:44:09] </span><span style=\"color: #000080; text-decoration-color: #000080\">INFO    </span> <span style=\"font-weight: bold\">[</span><span style=\"color: #008080; text-decoration-color: #008080; font-weight: bold\">9</span>/<span style=\"color: #008080; text-decoration-color: #008080; font-weight: bold\">10</span><span style=\"font-weight: bold\">]</span> Retrieving fixtures for ENG-Premier League <span style=\"color: #008080; text-decoration-color: #008080; font-weight: bold\">2425</span>                <a href=\"file://C:\\Users\\acer\\AppData\\Local\\Programs\\Python\\Python312\\Lib\\site-packages\\soccerdata\\whoscored.py\" target=\"_blank\"><span style=\"color: #7f7f7f; text-decoration-color: #7f7f7f\">whoscored.py</span></a><span style=\"color: #7f7f7f; text-decoration-color: #7f7f7f\">:</span><a href=\"file://C:\\Users\\acer\\AppData\\Local\\Programs\\Python\\Python312\\Lib\\site-packages\\soccerdata\\whoscored.py#400\" target=\"_blank\"><span style=\"color: #7f7f7f; text-decoration-color: #7f7f7f\">400</span></a>\n",
       "</pre>\n"
      ],
      "text/plain": [
       "\u001b[2;36m[09/02/24 21:44:09]\u001b[0m\u001b[2;36m \u001b[0m\u001b[34mINFO    \u001b[0m \u001b[1m[\u001b[0m\u001b[1;36m9\u001b[0m/\u001b[1;36m10\u001b[0m\u001b[1m]\u001b[0m Retrieving fixtures for ENG-Premier League \u001b[1;36m2425\u001b[0m                \u001b]8;id=9724;file://C:\\Users\\acer\\AppData\\Local\\Programs\\Python\\Python312\\Lib\\site-packages\\soccerdata\\whoscored.py\u001b\\\u001b[2mwhoscored.py\u001b[0m\u001b]8;;\u001b\\\u001b[2m:\u001b[0m\u001b]8;id=754335;file://C:\\Users\\acer\\AppData\\Local\\Programs\\Python\\Python312\\Lib\\site-packages\\soccerdata\\whoscored.py#400\u001b\\\u001b[2m400\u001b[0m\u001b]8;;\u001b\\\n"
      ]
     },
     "metadata": {},
     "output_type": "display_data"
    },
    {
     "data": {
      "text/html": [
       "<pre style=\"white-space:pre;overflow-x:auto;line-height:normal;font-family:Menlo,'DejaVu Sans Mono',consolas,'Courier New',monospace\"><span style=\"color: #7fbfbf; text-decoration-color: #7fbfbf\">[09/02/24 21:44:16] </span><span style=\"color: #000080; text-decoration-color: #000080\">INFO    </span> <span style=\"font-weight: bold\">[</span><span style=\"color: #008080; text-decoration-color: #008080; font-weight: bold\">10</span>/<span style=\"color: #008080; text-decoration-color: #008080; font-weight: bold\">10</span><span style=\"font-weight: bold\">]</span> Retrieving fixtures for ENG-Premier League <span style=\"color: #008080; text-decoration-color: #008080; font-weight: bold\">2425</span>               <a href=\"file://C:\\Users\\acer\\AppData\\Local\\Programs\\Python\\Python312\\Lib\\site-packages\\soccerdata\\whoscored.py\" target=\"_blank\"><span style=\"color: #7f7f7f; text-decoration-color: #7f7f7f\">whoscored.py</span></a><span style=\"color: #7f7f7f; text-decoration-color: #7f7f7f\">:</span><a href=\"file://C:\\Users\\acer\\AppData\\Local\\Programs\\Python\\Python312\\Lib\\site-packages\\soccerdata\\whoscored.py#400\" target=\"_blank\"><span style=\"color: #7f7f7f; text-decoration-color: #7f7f7f\">400</span></a>\n",
       "</pre>\n"
      ],
      "text/plain": [
       "\u001b[2;36m[09/02/24 21:44:16]\u001b[0m\u001b[2;36m \u001b[0m\u001b[34mINFO    \u001b[0m \u001b[1m[\u001b[0m\u001b[1;36m10\u001b[0m/\u001b[1;36m10\u001b[0m\u001b[1m]\u001b[0m Retrieving fixtures for ENG-Premier League \u001b[1;36m2425\u001b[0m               \u001b]8;id=156964;file://C:\\Users\\acer\\AppData\\Local\\Programs\\Python\\Python312\\Lib\\site-packages\\soccerdata\\whoscored.py\u001b\\\u001b[2mwhoscored.py\u001b[0m\u001b]8;;\u001b\\\u001b[2m:\u001b[0m\u001b]8;id=598872;file://C:\\Users\\acer\\AppData\\Local\\Programs\\Python\\Python312\\Lib\\site-packages\\soccerdata\\whoscored.py#400\u001b\\\u001b[2m400\u001b[0m\u001b]8;;\u001b\\\n"
      ]
     },
     "metadata": {},
     "output_type": "display_data"
    },
    {
     "name": "stderr",
     "output_type": "stream",
     "text": [
      "C:\\Users\\acer\\AppData\\Local\\Programs\\Python\\Python312\\Lib\\site-packages\\soccerdata\\whoscored.py:424: FutureWarning: The behavior of DataFrame concatenation with empty or all-NA entries is deprecated. In a future version, this will no longer exclude empty or all-NA columns when determining the result dtypes. To retain the old behavior, exclude the relevant entries before the concat operation.\n",
      "  pd.concat(all_schedules)\n"
     ]
    },
    {
     "data": {
      "text/html": [
       "<pre style=\"white-space:pre;overflow-x:auto;line-height:normal;font-family:Menlo,'DejaVu Sans Mono',consolas,'Courier New',monospace\"><span style=\"color: #7fbfbf; text-decoration-color: #7fbfbf\">[09/02/24 21:44:24] </span><span style=\"color: #000080; text-decoration-color: #000080\">INFO    </span> <span style=\"font-weight: bold\">[</span><span style=\"color: #008080; text-decoration-color: #008080; font-weight: bold\">1</span>/<span style=\"color: #008080; text-decoration-color: #008080; font-weight: bold\">1</span><span style=\"font-weight: bold\">]</span> Retrieving game with <span style=\"color: #808000; text-decoration-color: #808000\">id</span>=<span style=\"color: #008080; text-decoration-color: #008080; font-weight: bold\">1821070</span>                                 <a href=\"file://C:\\Users\\acer\\AppData\\Local\\Programs\\Python\\Python312\\Lib\\site-packages\\soccerdata\\whoscored.py\" target=\"_blank\"><span style=\"color: #7f7f7f; text-decoration-color: #7f7f7f\">whoscored.py</span></a><span style=\"color: #7f7f7f; text-decoration-color: #7f7f7f\">:</span><a href=\"file://C:\\Users\\acer\\AppData\\Local\\Programs\\Python\\Python312\\Lib\\site-packages\\soccerdata\\whoscored.py#692\" target=\"_blank\"><span style=\"color: #7f7f7f; text-decoration-color: #7f7f7f\">692</span></a>\n",
       "</pre>\n"
      ],
      "text/plain": [
       "\u001b[2;36m[09/02/24 21:44:24]\u001b[0m\u001b[2;36m \u001b[0m\u001b[34mINFO    \u001b[0m \u001b[1m[\u001b[0m\u001b[1;36m1\u001b[0m/\u001b[1;36m1\u001b[0m\u001b[1m]\u001b[0m Retrieving game with \u001b[33mid\u001b[0m=\u001b[1;36m1821070\u001b[0m                                 \u001b]8;id=219824;file://C:\\Users\\acer\\AppData\\Local\\Programs\\Python\\Python312\\Lib\\site-packages\\soccerdata\\whoscored.py\u001b\\\u001b[2mwhoscored.py\u001b[0m\u001b]8;;\u001b\\\u001b[2m:\u001b[0m\u001b]8;id=469162;file://C:\\Users\\acer\\AppData\\Local\\Programs\\Python\\Python312\\Lib\\site-packages\\soccerdata\\whoscored.py#692\u001b\\\u001b[2m692\u001b[0m\u001b]8;;\u001b\\\n"
      ]
     },
     "metadata": {},
     "output_type": "display_data"
    },
    {
     "data": {
      "text/html": [
       "<pre style=\"white-space:pre;overflow-x:auto;line-height:normal;font-family:Menlo,'DejaVu Sans Mono',consolas,'Courier New',monospace\"><span style=\"color: #7fbfbf; text-decoration-color: #7fbfbf\">[09/02/24 21:44:47] </span><span style=\"color: #000080; text-decoration-color: #000080\">INFO    </span> Retrieving calendar for ENG-Premier League <span style=\"color: #008080; text-decoration-color: #008080; font-weight: bold\">2425</span>                       <a href=\"file://C:\\Users\\acer\\AppData\\Local\\Programs\\Python\\Python312\\Lib\\site-packages\\soccerdata\\whoscored.py\" target=\"_blank\"><span style=\"color: #7f7f7f; text-decoration-color: #7f7f7f\">whoscored.py</span></a><span style=\"color: #7f7f7f; text-decoration-color: #7f7f7f\">:</span><a href=\"file://C:\\Users\\acer\\AppData\\Local\\Programs\\Python\\Python312\\Lib\\site-packages\\soccerdata\\whoscored.py#371\" target=\"_blank\"><span style=\"color: #7f7f7f; text-decoration-color: #7f7f7f\">371</span></a>\n",
       "</pre>\n"
      ],
      "text/plain": [
       "\u001b[2;36m[09/02/24 21:44:47]\u001b[0m\u001b[2;36m \u001b[0m\u001b[34mINFO    \u001b[0m Retrieving calendar for ENG-Premier League \u001b[1;36m2425\u001b[0m                       \u001b]8;id=517085;file://C:\\Users\\acer\\AppData\\Local\\Programs\\Python\\Python312\\Lib\\site-packages\\soccerdata\\whoscored.py\u001b\\\u001b[2mwhoscored.py\u001b[0m\u001b]8;;\u001b\\\u001b[2m:\u001b[0m\u001b]8;id=359733;file://C:\\Users\\acer\\AppData\\Local\\Programs\\Python\\Python312\\Lib\\site-packages\\soccerdata\\whoscored.py#371\u001b\\\u001b[2m371\u001b[0m\u001b]8;;\u001b\\\n"
      ]
     },
     "metadata": {},
     "output_type": "display_data"
    },
    {
     "data": {
      "text/html": [
       "<pre style=\"white-space:pre;overflow-x:auto;line-height:normal;font-family:Menlo,'DejaVu Sans Mono',consolas,'Courier New',monospace\"><span style=\"color: #7fbfbf; text-decoration-color: #7fbfbf\">[09/02/24 21:45:00] </span><span style=\"color: #000080; text-decoration-color: #000080\">INFO    </span> <span style=\"font-weight: bold\">[</span><span style=\"color: #008080; text-decoration-color: #008080; font-weight: bold\">1</span>/<span style=\"color: #008080; text-decoration-color: #008080; font-weight: bold\">10</span><span style=\"font-weight: bold\">]</span> Retrieving fixtures for ENG-Premier League <span style=\"color: #008080; text-decoration-color: #008080; font-weight: bold\">2425</span>                <a href=\"file://C:\\Users\\acer\\AppData\\Local\\Programs\\Python\\Python312\\Lib\\site-packages\\soccerdata\\whoscored.py\" target=\"_blank\"><span style=\"color: #7f7f7f; text-decoration-color: #7f7f7f\">whoscored.py</span></a><span style=\"color: #7f7f7f; text-decoration-color: #7f7f7f\">:</span><a href=\"file://C:\\Users\\acer\\AppData\\Local\\Programs\\Python\\Python312\\Lib\\site-packages\\soccerdata\\whoscored.py#400\" target=\"_blank\"><span style=\"color: #7f7f7f; text-decoration-color: #7f7f7f\">400</span></a>\n",
       "</pre>\n"
      ],
      "text/plain": [
       "\u001b[2;36m[09/02/24 21:45:00]\u001b[0m\u001b[2;36m \u001b[0m\u001b[34mINFO    \u001b[0m \u001b[1m[\u001b[0m\u001b[1;36m1\u001b[0m/\u001b[1;36m10\u001b[0m\u001b[1m]\u001b[0m Retrieving fixtures for ENG-Premier League \u001b[1;36m2425\u001b[0m                \u001b]8;id=347686;file://C:\\Users\\acer\\AppData\\Local\\Programs\\Python\\Python312\\Lib\\site-packages\\soccerdata\\whoscored.py\u001b\\\u001b[2mwhoscored.py\u001b[0m\u001b]8;;\u001b\\\u001b[2m:\u001b[0m\u001b]8;id=896933;file://C:\\Users\\acer\\AppData\\Local\\Programs\\Python\\Python312\\Lib\\site-packages\\soccerdata\\whoscored.py#400\u001b\\\u001b[2m400\u001b[0m\u001b]8;;\u001b\\\n"
      ]
     },
     "metadata": {},
     "output_type": "display_data"
    },
    {
     "data": {
      "text/html": [
       "<pre style=\"white-space:pre;overflow-x:auto;line-height:normal;font-family:Menlo,'DejaVu Sans Mono',consolas,'Courier New',monospace\"><span style=\"color: #7fbfbf; text-decoration-color: #7fbfbf\">[09/02/24 21:45:07] </span><span style=\"color: #000080; text-decoration-color: #000080\">INFO    </span> <span style=\"font-weight: bold\">[</span><span style=\"color: #008080; text-decoration-color: #008080; font-weight: bold\">2</span>/<span style=\"color: #008080; text-decoration-color: #008080; font-weight: bold\">10</span><span style=\"font-weight: bold\">]</span> Retrieving fixtures for ENG-Premier League <span style=\"color: #008080; text-decoration-color: #008080; font-weight: bold\">2425</span>                <a href=\"file://C:\\Users\\acer\\AppData\\Local\\Programs\\Python\\Python312\\Lib\\site-packages\\soccerdata\\whoscored.py\" target=\"_blank\"><span style=\"color: #7f7f7f; text-decoration-color: #7f7f7f\">whoscored.py</span></a><span style=\"color: #7f7f7f; text-decoration-color: #7f7f7f\">:</span><a href=\"file://C:\\Users\\acer\\AppData\\Local\\Programs\\Python\\Python312\\Lib\\site-packages\\soccerdata\\whoscored.py#400\" target=\"_blank\"><span style=\"color: #7f7f7f; text-decoration-color: #7f7f7f\">400</span></a>\n",
       "</pre>\n"
      ],
      "text/plain": [
       "\u001b[2;36m[09/02/24 21:45:07]\u001b[0m\u001b[2;36m \u001b[0m\u001b[34mINFO    \u001b[0m \u001b[1m[\u001b[0m\u001b[1;36m2\u001b[0m/\u001b[1;36m10\u001b[0m\u001b[1m]\u001b[0m Retrieving fixtures for ENG-Premier League \u001b[1;36m2425\u001b[0m                \u001b]8;id=473034;file://C:\\Users\\acer\\AppData\\Local\\Programs\\Python\\Python312\\Lib\\site-packages\\soccerdata\\whoscored.py\u001b\\\u001b[2mwhoscored.py\u001b[0m\u001b]8;;\u001b\\\u001b[2m:\u001b[0m\u001b]8;id=120761;file://C:\\Users\\acer\\AppData\\Local\\Programs\\Python\\Python312\\Lib\\site-packages\\soccerdata\\whoscored.py#400\u001b\\\u001b[2m400\u001b[0m\u001b]8;;\u001b\\\n"
      ]
     },
     "metadata": {},
     "output_type": "display_data"
    },
    {
     "data": {
      "text/html": [
       "<pre style=\"white-space:pre;overflow-x:auto;line-height:normal;font-family:Menlo,'DejaVu Sans Mono',consolas,'Courier New',monospace\"><span style=\"color: #7fbfbf; text-decoration-color: #7fbfbf\">[09/02/24 21:45:15] </span><span style=\"color: #000080; text-decoration-color: #000080\">INFO    </span> <span style=\"font-weight: bold\">[</span><span style=\"color: #008080; text-decoration-color: #008080; font-weight: bold\">3</span>/<span style=\"color: #008080; text-decoration-color: #008080; font-weight: bold\">10</span><span style=\"font-weight: bold\">]</span> Retrieving fixtures for ENG-Premier League <span style=\"color: #008080; text-decoration-color: #008080; font-weight: bold\">2425</span>                <a href=\"file://C:\\Users\\acer\\AppData\\Local\\Programs\\Python\\Python312\\Lib\\site-packages\\soccerdata\\whoscored.py\" target=\"_blank\"><span style=\"color: #7f7f7f; text-decoration-color: #7f7f7f\">whoscored.py</span></a><span style=\"color: #7f7f7f; text-decoration-color: #7f7f7f\">:</span><a href=\"file://C:\\Users\\acer\\AppData\\Local\\Programs\\Python\\Python312\\Lib\\site-packages\\soccerdata\\whoscored.py#400\" target=\"_blank\"><span style=\"color: #7f7f7f; text-decoration-color: #7f7f7f\">400</span></a>\n",
       "</pre>\n"
      ],
      "text/plain": [
       "\u001b[2;36m[09/02/24 21:45:15]\u001b[0m\u001b[2;36m \u001b[0m\u001b[34mINFO    \u001b[0m \u001b[1m[\u001b[0m\u001b[1;36m3\u001b[0m/\u001b[1;36m10\u001b[0m\u001b[1m]\u001b[0m Retrieving fixtures for ENG-Premier League \u001b[1;36m2425\u001b[0m                \u001b]8;id=543641;file://C:\\Users\\acer\\AppData\\Local\\Programs\\Python\\Python312\\Lib\\site-packages\\soccerdata\\whoscored.py\u001b\\\u001b[2mwhoscored.py\u001b[0m\u001b]8;;\u001b\\\u001b[2m:\u001b[0m\u001b]8;id=609969;file://C:\\Users\\acer\\AppData\\Local\\Programs\\Python\\Python312\\Lib\\site-packages\\soccerdata\\whoscored.py#400\u001b\\\u001b[2m400\u001b[0m\u001b]8;;\u001b\\\n"
      ]
     },
     "metadata": {},
     "output_type": "display_data"
    },
    {
     "data": {
      "text/html": [
       "<pre style=\"white-space:pre;overflow-x:auto;line-height:normal;font-family:Menlo,'DejaVu Sans Mono',consolas,'Courier New',monospace\"><span style=\"color: #7fbfbf; text-decoration-color: #7fbfbf\">[09/02/24 21:45:25] </span><span style=\"color: #000080; text-decoration-color: #000080\">INFO    </span> <span style=\"font-weight: bold\">[</span><span style=\"color: #008080; text-decoration-color: #008080; font-weight: bold\">4</span>/<span style=\"color: #008080; text-decoration-color: #008080; font-weight: bold\">10</span><span style=\"font-weight: bold\">]</span> Retrieving fixtures for ENG-Premier League <span style=\"color: #008080; text-decoration-color: #008080; font-weight: bold\">2425</span>                <a href=\"file://C:\\Users\\acer\\AppData\\Local\\Programs\\Python\\Python312\\Lib\\site-packages\\soccerdata\\whoscored.py\" target=\"_blank\"><span style=\"color: #7f7f7f; text-decoration-color: #7f7f7f\">whoscored.py</span></a><span style=\"color: #7f7f7f; text-decoration-color: #7f7f7f\">:</span><a href=\"file://C:\\Users\\acer\\AppData\\Local\\Programs\\Python\\Python312\\Lib\\site-packages\\soccerdata\\whoscored.py#400\" target=\"_blank\"><span style=\"color: #7f7f7f; text-decoration-color: #7f7f7f\">400</span></a>\n",
       "</pre>\n"
      ],
      "text/plain": [
       "\u001b[2;36m[09/02/24 21:45:25]\u001b[0m\u001b[2;36m \u001b[0m\u001b[34mINFO    \u001b[0m \u001b[1m[\u001b[0m\u001b[1;36m4\u001b[0m/\u001b[1;36m10\u001b[0m\u001b[1m]\u001b[0m Retrieving fixtures for ENG-Premier League \u001b[1;36m2425\u001b[0m                \u001b]8;id=800746;file://C:\\Users\\acer\\AppData\\Local\\Programs\\Python\\Python312\\Lib\\site-packages\\soccerdata\\whoscored.py\u001b\\\u001b[2mwhoscored.py\u001b[0m\u001b]8;;\u001b\\\u001b[2m:\u001b[0m\u001b]8;id=951534;file://C:\\Users\\acer\\AppData\\Local\\Programs\\Python\\Python312\\Lib\\site-packages\\soccerdata\\whoscored.py#400\u001b\\\u001b[2m400\u001b[0m\u001b]8;;\u001b\\\n"
      ]
     },
     "metadata": {},
     "output_type": "display_data"
    },
    {
     "data": {
      "text/html": [
       "<pre style=\"white-space:pre;overflow-x:auto;line-height:normal;font-family:Menlo,'DejaVu Sans Mono',consolas,'Courier New',monospace\"><span style=\"color: #7fbfbf; text-decoration-color: #7fbfbf\">[09/02/24 21:45:32] </span><span style=\"color: #000080; text-decoration-color: #000080\">INFO    </span> <span style=\"font-weight: bold\">[</span><span style=\"color: #008080; text-decoration-color: #008080; font-weight: bold\">5</span>/<span style=\"color: #008080; text-decoration-color: #008080; font-weight: bold\">10</span><span style=\"font-weight: bold\">]</span> Retrieving fixtures for ENG-Premier League <span style=\"color: #008080; text-decoration-color: #008080; font-weight: bold\">2425</span>                <a href=\"file://C:\\Users\\acer\\AppData\\Local\\Programs\\Python\\Python312\\Lib\\site-packages\\soccerdata\\whoscored.py\" target=\"_blank\"><span style=\"color: #7f7f7f; text-decoration-color: #7f7f7f\">whoscored.py</span></a><span style=\"color: #7f7f7f; text-decoration-color: #7f7f7f\">:</span><a href=\"file://C:\\Users\\acer\\AppData\\Local\\Programs\\Python\\Python312\\Lib\\site-packages\\soccerdata\\whoscored.py#400\" target=\"_blank\"><span style=\"color: #7f7f7f; text-decoration-color: #7f7f7f\">400</span></a>\n",
       "</pre>\n"
      ],
      "text/plain": [
       "\u001b[2;36m[09/02/24 21:45:32]\u001b[0m\u001b[2;36m \u001b[0m\u001b[34mINFO    \u001b[0m \u001b[1m[\u001b[0m\u001b[1;36m5\u001b[0m/\u001b[1;36m10\u001b[0m\u001b[1m]\u001b[0m Retrieving fixtures for ENG-Premier League \u001b[1;36m2425\u001b[0m                \u001b]8;id=938398;file://C:\\Users\\acer\\AppData\\Local\\Programs\\Python\\Python312\\Lib\\site-packages\\soccerdata\\whoscored.py\u001b\\\u001b[2mwhoscored.py\u001b[0m\u001b]8;;\u001b\\\u001b[2m:\u001b[0m\u001b]8;id=741546;file://C:\\Users\\acer\\AppData\\Local\\Programs\\Python\\Python312\\Lib\\site-packages\\soccerdata\\whoscored.py#400\u001b\\\u001b[2m400\u001b[0m\u001b]8;;\u001b\\\n"
      ]
     },
     "metadata": {},
     "output_type": "display_data"
    },
    {
     "data": {
      "text/html": [
       "<pre style=\"white-space:pre;overflow-x:auto;line-height:normal;font-family:Menlo,'DejaVu Sans Mono',consolas,'Courier New',monospace\"><span style=\"color: #7fbfbf; text-decoration-color: #7fbfbf\">[09/02/24 21:45:41] </span><span style=\"color: #000080; text-decoration-color: #000080\">INFO    </span> <span style=\"font-weight: bold\">[</span><span style=\"color: #008080; text-decoration-color: #008080; font-weight: bold\">6</span>/<span style=\"color: #008080; text-decoration-color: #008080; font-weight: bold\">10</span><span style=\"font-weight: bold\">]</span> Retrieving fixtures for ENG-Premier League <span style=\"color: #008080; text-decoration-color: #008080; font-weight: bold\">2425</span>                <a href=\"file://C:\\Users\\acer\\AppData\\Local\\Programs\\Python\\Python312\\Lib\\site-packages\\soccerdata\\whoscored.py\" target=\"_blank\"><span style=\"color: #7f7f7f; text-decoration-color: #7f7f7f\">whoscored.py</span></a><span style=\"color: #7f7f7f; text-decoration-color: #7f7f7f\">:</span><a href=\"file://C:\\Users\\acer\\AppData\\Local\\Programs\\Python\\Python312\\Lib\\site-packages\\soccerdata\\whoscored.py#400\" target=\"_blank\"><span style=\"color: #7f7f7f; text-decoration-color: #7f7f7f\">400</span></a>\n",
       "</pre>\n"
      ],
      "text/plain": [
       "\u001b[2;36m[09/02/24 21:45:41]\u001b[0m\u001b[2;36m \u001b[0m\u001b[34mINFO    \u001b[0m \u001b[1m[\u001b[0m\u001b[1;36m6\u001b[0m/\u001b[1;36m10\u001b[0m\u001b[1m]\u001b[0m Retrieving fixtures for ENG-Premier League \u001b[1;36m2425\u001b[0m                \u001b]8;id=926433;file://C:\\Users\\acer\\AppData\\Local\\Programs\\Python\\Python312\\Lib\\site-packages\\soccerdata\\whoscored.py\u001b\\\u001b[2mwhoscored.py\u001b[0m\u001b]8;;\u001b\\\u001b[2m:\u001b[0m\u001b]8;id=230849;file://C:\\Users\\acer\\AppData\\Local\\Programs\\Python\\Python312\\Lib\\site-packages\\soccerdata\\whoscored.py#400\u001b\\\u001b[2m400\u001b[0m\u001b]8;;\u001b\\\n"
      ]
     },
     "metadata": {},
     "output_type": "display_data"
    },
    {
     "data": {
      "text/html": [
       "<pre style=\"white-space:pre;overflow-x:auto;line-height:normal;font-family:Menlo,'DejaVu Sans Mono',consolas,'Courier New',monospace\"><span style=\"color: #7fbfbf; text-decoration-color: #7fbfbf\">[09/02/24 21:45:50] </span><span style=\"color: #000080; text-decoration-color: #000080\">INFO    </span> <span style=\"font-weight: bold\">[</span><span style=\"color: #008080; text-decoration-color: #008080; font-weight: bold\">7</span>/<span style=\"color: #008080; text-decoration-color: #008080; font-weight: bold\">10</span><span style=\"font-weight: bold\">]</span> Retrieving fixtures for ENG-Premier League <span style=\"color: #008080; text-decoration-color: #008080; font-weight: bold\">2425</span>                <a href=\"file://C:\\Users\\acer\\AppData\\Local\\Programs\\Python\\Python312\\Lib\\site-packages\\soccerdata\\whoscored.py\" target=\"_blank\"><span style=\"color: #7f7f7f; text-decoration-color: #7f7f7f\">whoscored.py</span></a><span style=\"color: #7f7f7f; text-decoration-color: #7f7f7f\">:</span><a href=\"file://C:\\Users\\acer\\AppData\\Local\\Programs\\Python\\Python312\\Lib\\site-packages\\soccerdata\\whoscored.py#400\" target=\"_blank\"><span style=\"color: #7f7f7f; text-decoration-color: #7f7f7f\">400</span></a>\n",
       "</pre>\n"
      ],
      "text/plain": [
       "\u001b[2;36m[09/02/24 21:45:50]\u001b[0m\u001b[2;36m \u001b[0m\u001b[34mINFO    \u001b[0m \u001b[1m[\u001b[0m\u001b[1;36m7\u001b[0m/\u001b[1;36m10\u001b[0m\u001b[1m]\u001b[0m Retrieving fixtures for ENG-Premier League \u001b[1;36m2425\u001b[0m                \u001b]8;id=368971;file://C:\\Users\\acer\\AppData\\Local\\Programs\\Python\\Python312\\Lib\\site-packages\\soccerdata\\whoscored.py\u001b\\\u001b[2mwhoscored.py\u001b[0m\u001b]8;;\u001b\\\u001b[2m:\u001b[0m\u001b]8;id=474245;file://C:\\Users\\acer\\AppData\\Local\\Programs\\Python\\Python312\\Lib\\site-packages\\soccerdata\\whoscored.py#400\u001b\\\u001b[2m400\u001b[0m\u001b]8;;\u001b\\\n"
      ]
     },
     "metadata": {},
     "output_type": "display_data"
    },
    {
     "data": {
      "text/html": [
       "<pre style=\"white-space:pre;overflow-x:auto;line-height:normal;font-family:Menlo,'DejaVu Sans Mono',consolas,'Courier New',monospace\"><span style=\"color: #7fbfbf; text-decoration-color: #7fbfbf\">[09/02/24 21:45:59] </span><span style=\"color: #000080; text-decoration-color: #000080\">INFO    </span> <span style=\"font-weight: bold\">[</span><span style=\"color: #008080; text-decoration-color: #008080; font-weight: bold\">8</span>/<span style=\"color: #008080; text-decoration-color: #008080; font-weight: bold\">10</span><span style=\"font-weight: bold\">]</span> Retrieving fixtures for ENG-Premier League <span style=\"color: #008080; text-decoration-color: #008080; font-weight: bold\">2425</span>                <a href=\"file://C:\\Users\\acer\\AppData\\Local\\Programs\\Python\\Python312\\Lib\\site-packages\\soccerdata\\whoscored.py\" target=\"_blank\"><span style=\"color: #7f7f7f; text-decoration-color: #7f7f7f\">whoscored.py</span></a><span style=\"color: #7f7f7f; text-decoration-color: #7f7f7f\">:</span><a href=\"file://C:\\Users\\acer\\AppData\\Local\\Programs\\Python\\Python312\\Lib\\site-packages\\soccerdata\\whoscored.py#400\" target=\"_blank\"><span style=\"color: #7f7f7f; text-decoration-color: #7f7f7f\">400</span></a>\n",
       "</pre>\n"
      ],
      "text/plain": [
       "\u001b[2;36m[09/02/24 21:45:59]\u001b[0m\u001b[2;36m \u001b[0m\u001b[34mINFO    \u001b[0m \u001b[1m[\u001b[0m\u001b[1;36m8\u001b[0m/\u001b[1;36m10\u001b[0m\u001b[1m]\u001b[0m Retrieving fixtures for ENG-Premier League \u001b[1;36m2425\u001b[0m                \u001b]8;id=952418;file://C:\\Users\\acer\\AppData\\Local\\Programs\\Python\\Python312\\Lib\\site-packages\\soccerdata\\whoscored.py\u001b\\\u001b[2mwhoscored.py\u001b[0m\u001b]8;;\u001b\\\u001b[2m:\u001b[0m\u001b]8;id=183853;file://C:\\Users\\acer\\AppData\\Local\\Programs\\Python\\Python312\\Lib\\site-packages\\soccerdata\\whoscored.py#400\u001b\\\u001b[2m400\u001b[0m\u001b]8;;\u001b\\\n"
      ]
     },
     "metadata": {},
     "output_type": "display_data"
    },
    {
     "data": {
      "text/html": [
       "<pre style=\"white-space:pre;overflow-x:auto;line-height:normal;font-family:Menlo,'DejaVu Sans Mono',consolas,'Courier New',monospace\"><span style=\"color: #7fbfbf; text-decoration-color: #7fbfbf\">[09/02/24 21:46:05] </span><span style=\"color: #000080; text-decoration-color: #000080\">INFO    </span> <span style=\"font-weight: bold\">[</span><span style=\"color: #008080; text-decoration-color: #008080; font-weight: bold\">9</span>/<span style=\"color: #008080; text-decoration-color: #008080; font-weight: bold\">10</span><span style=\"font-weight: bold\">]</span> Retrieving fixtures for ENG-Premier League <span style=\"color: #008080; text-decoration-color: #008080; font-weight: bold\">2425</span>                <a href=\"file://C:\\Users\\acer\\AppData\\Local\\Programs\\Python\\Python312\\Lib\\site-packages\\soccerdata\\whoscored.py\" target=\"_blank\"><span style=\"color: #7f7f7f; text-decoration-color: #7f7f7f\">whoscored.py</span></a><span style=\"color: #7f7f7f; text-decoration-color: #7f7f7f\">:</span><a href=\"file://C:\\Users\\acer\\AppData\\Local\\Programs\\Python\\Python312\\Lib\\site-packages\\soccerdata\\whoscored.py#400\" target=\"_blank\"><span style=\"color: #7f7f7f; text-decoration-color: #7f7f7f\">400</span></a>\n",
       "</pre>\n"
      ],
      "text/plain": [
       "\u001b[2;36m[09/02/24 21:46:05]\u001b[0m\u001b[2;36m \u001b[0m\u001b[34mINFO    \u001b[0m \u001b[1m[\u001b[0m\u001b[1;36m9\u001b[0m/\u001b[1;36m10\u001b[0m\u001b[1m]\u001b[0m Retrieving fixtures for ENG-Premier League \u001b[1;36m2425\u001b[0m                \u001b]8;id=471569;file://C:\\Users\\acer\\AppData\\Local\\Programs\\Python\\Python312\\Lib\\site-packages\\soccerdata\\whoscored.py\u001b\\\u001b[2mwhoscored.py\u001b[0m\u001b]8;;\u001b\\\u001b[2m:\u001b[0m\u001b]8;id=147287;file://C:\\Users\\acer\\AppData\\Local\\Programs\\Python\\Python312\\Lib\\site-packages\\soccerdata\\whoscored.py#400\u001b\\\u001b[2m400\u001b[0m\u001b]8;;\u001b\\\n"
      ]
     },
     "metadata": {},
     "output_type": "display_data"
    },
    {
     "data": {
      "text/html": [
       "<pre style=\"white-space:pre;overflow-x:auto;line-height:normal;font-family:Menlo,'DejaVu Sans Mono',consolas,'Courier New',monospace\"><span style=\"color: #7fbfbf; text-decoration-color: #7fbfbf\">[09/02/24 21:46:14] </span><span style=\"color: #000080; text-decoration-color: #000080\">INFO    </span> <span style=\"font-weight: bold\">[</span><span style=\"color: #008080; text-decoration-color: #008080; font-weight: bold\">10</span>/<span style=\"color: #008080; text-decoration-color: #008080; font-weight: bold\">10</span><span style=\"font-weight: bold\">]</span> Retrieving fixtures for ENG-Premier League <span style=\"color: #008080; text-decoration-color: #008080; font-weight: bold\">2425</span>               <a href=\"file://C:\\Users\\acer\\AppData\\Local\\Programs\\Python\\Python312\\Lib\\site-packages\\soccerdata\\whoscored.py\" target=\"_blank\"><span style=\"color: #7f7f7f; text-decoration-color: #7f7f7f\">whoscored.py</span></a><span style=\"color: #7f7f7f; text-decoration-color: #7f7f7f\">:</span><a href=\"file://C:\\Users\\acer\\AppData\\Local\\Programs\\Python\\Python312\\Lib\\site-packages\\soccerdata\\whoscored.py#400\" target=\"_blank\"><span style=\"color: #7f7f7f; text-decoration-color: #7f7f7f\">400</span></a>\n",
       "</pre>\n"
      ],
      "text/plain": [
       "\u001b[2;36m[09/02/24 21:46:14]\u001b[0m\u001b[2;36m \u001b[0m\u001b[34mINFO    \u001b[0m \u001b[1m[\u001b[0m\u001b[1;36m10\u001b[0m/\u001b[1;36m10\u001b[0m\u001b[1m]\u001b[0m Retrieving fixtures for ENG-Premier League \u001b[1;36m2425\u001b[0m               \u001b]8;id=385274;file://C:\\Users\\acer\\AppData\\Local\\Programs\\Python\\Python312\\Lib\\site-packages\\soccerdata\\whoscored.py\u001b\\\u001b[2mwhoscored.py\u001b[0m\u001b]8;;\u001b\\\u001b[2m:\u001b[0m\u001b]8;id=242110;file://C:\\Users\\acer\\AppData\\Local\\Programs\\Python\\Python312\\Lib\\site-packages\\soccerdata\\whoscored.py#400\u001b\\\u001b[2m400\u001b[0m\u001b]8;;\u001b\\\n"
      ]
     },
     "metadata": {},
     "output_type": "display_data"
    },
    {
     "name": "stderr",
     "output_type": "stream",
     "text": [
      "C:\\Users\\acer\\AppData\\Local\\Programs\\Python\\Python312\\Lib\\site-packages\\soccerdata\\whoscored.py:424: FutureWarning: The behavior of DataFrame concatenation with empty or all-NA entries is deprecated. In a future version, this will no longer exclude empty or all-NA columns when determining the result dtypes. To retain the old behavior, exclude the relevant entries before the concat operation.\n",
      "  pd.concat(all_schedules)\n"
     ]
    },
    {
     "data": {
      "text/html": [
       "<pre style=\"white-space:pre;overflow-x:auto;line-height:normal;font-family:Menlo,'DejaVu Sans Mono',consolas,'Courier New',monospace\"><span style=\"color: #7fbfbf; text-decoration-color: #7fbfbf\">[09/02/24 21:46:23] </span><span style=\"color: #000080; text-decoration-color: #000080\">INFO    </span> <span style=\"font-weight: bold\">[</span><span style=\"color: #008080; text-decoration-color: #008080; font-weight: bold\">1</span>/<span style=\"color: #008080; text-decoration-color: #008080; font-weight: bold\">1</span><span style=\"font-weight: bold\">]</span> Retrieving game with <span style=\"color: #808000; text-decoration-color: #808000\">id</span>=<span style=\"color: #008080; text-decoration-color: #008080; font-weight: bold\">1821071</span>                                 <a href=\"file://C:\\Users\\acer\\AppData\\Local\\Programs\\Python\\Python312\\Lib\\site-packages\\soccerdata\\whoscored.py\" target=\"_blank\"><span style=\"color: #7f7f7f; text-decoration-color: #7f7f7f\">whoscored.py</span></a><span style=\"color: #7f7f7f; text-decoration-color: #7f7f7f\">:</span><a href=\"file://C:\\Users\\acer\\AppData\\Local\\Programs\\Python\\Python312\\Lib\\site-packages\\soccerdata\\whoscored.py#692\" target=\"_blank\"><span style=\"color: #7f7f7f; text-decoration-color: #7f7f7f\">692</span></a>\n",
       "</pre>\n"
      ],
      "text/plain": [
       "\u001b[2;36m[09/02/24 21:46:23]\u001b[0m\u001b[2;36m \u001b[0m\u001b[34mINFO    \u001b[0m \u001b[1m[\u001b[0m\u001b[1;36m1\u001b[0m/\u001b[1;36m1\u001b[0m\u001b[1m]\u001b[0m Retrieving game with \u001b[33mid\u001b[0m=\u001b[1;36m1821071\u001b[0m                                 \u001b]8;id=817957;file://C:\\Users\\acer\\AppData\\Local\\Programs\\Python\\Python312\\Lib\\site-packages\\soccerdata\\whoscored.py\u001b\\\u001b[2mwhoscored.py\u001b[0m\u001b]8;;\u001b\\\u001b[2m:\u001b[0m\u001b]8;id=16728;file://C:\\Users\\acer\\AppData\\Local\\Programs\\Python\\Python312\\Lib\\site-packages\\soccerdata\\whoscored.py#692\u001b\\\u001b[2m692\u001b[0m\u001b]8;;\u001b\\\n"
      ]
     },
     "metadata": {},
     "output_type": "display_data"
    },
    {
     "data": {
      "text/html": [
       "<pre style=\"white-space:pre;overflow-x:auto;line-height:normal;font-family:Menlo,'DejaVu Sans Mono',consolas,'Courier New',monospace\"><span style=\"color: #7fbfbf; text-decoration-color: #7fbfbf\">[09/02/24 21:46:48] </span><span style=\"color: #000080; text-decoration-color: #000080\">INFO    </span> Retrieving calendar for ENG-Premier League <span style=\"color: #008080; text-decoration-color: #008080; font-weight: bold\">2425</span>                       <a href=\"file://C:\\Users\\acer\\AppData\\Local\\Programs\\Python\\Python312\\Lib\\site-packages\\soccerdata\\whoscored.py\" target=\"_blank\"><span style=\"color: #7f7f7f; text-decoration-color: #7f7f7f\">whoscored.py</span></a><span style=\"color: #7f7f7f; text-decoration-color: #7f7f7f\">:</span><a href=\"file://C:\\Users\\acer\\AppData\\Local\\Programs\\Python\\Python312\\Lib\\site-packages\\soccerdata\\whoscored.py#371\" target=\"_blank\"><span style=\"color: #7f7f7f; text-decoration-color: #7f7f7f\">371</span></a>\n",
       "</pre>\n"
      ],
      "text/plain": [
       "\u001b[2;36m[09/02/24 21:46:48]\u001b[0m\u001b[2;36m \u001b[0m\u001b[34mINFO    \u001b[0m Retrieving calendar for ENG-Premier League \u001b[1;36m2425\u001b[0m                       \u001b]8;id=237834;file://C:\\Users\\acer\\AppData\\Local\\Programs\\Python\\Python312\\Lib\\site-packages\\soccerdata\\whoscored.py\u001b\\\u001b[2mwhoscored.py\u001b[0m\u001b]8;;\u001b\\\u001b[2m:\u001b[0m\u001b]8;id=82720;file://C:\\Users\\acer\\AppData\\Local\\Programs\\Python\\Python312\\Lib\\site-packages\\soccerdata\\whoscored.py#371\u001b\\\u001b[2m371\u001b[0m\u001b]8;;\u001b\\\n"
      ]
     },
     "metadata": {},
     "output_type": "display_data"
    },
    {
     "data": {
      "text/html": [
       "<pre style=\"white-space:pre;overflow-x:auto;line-height:normal;font-family:Menlo,'DejaVu Sans Mono',consolas,'Courier New',monospace\"><span style=\"color: #7fbfbf; text-decoration-color: #7fbfbf\">[09/02/24 21:47:00] </span><span style=\"color: #000080; text-decoration-color: #000080\">INFO    </span> <span style=\"font-weight: bold\">[</span><span style=\"color: #008080; text-decoration-color: #008080; font-weight: bold\">1</span>/<span style=\"color: #008080; text-decoration-color: #008080; font-weight: bold\">10</span><span style=\"font-weight: bold\">]</span> Retrieving fixtures for ENG-Premier League <span style=\"color: #008080; text-decoration-color: #008080; font-weight: bold\">2425</span>                <a href=\"file://C:\\Users\\acer\\AppData\\Local\\Programs\\Python\\Python312\\Lib\\site-packages\\soccerdata\\whoscored.py\" target=\"_blank\"><span style=\"color: #7f7f7f; text-decoration-color: #7f7f7f\">whoscored.py</span></a><span style=\"color: #7f7f7f; text-decoration-color: #7f7f7f\">:</span><a href=\"file://C:\\Users\\acer\\AppData\\Local\\Programs\\Python\\Python312\\Lib\\site-packages\\soccerdata\\whoscored.py#400\" target=\"_blank\"><span style=\"color: #7f7f7f; text-decoration-color: #7f7f7f\">400</span></a>\n",
       "</pre>\n"
      ],
      "text/plain": [
       "\u001b[2;36m[09/02/24 21:47:00]\u001b[0m\u001b[2;36m \u001b[0m\u001b[34mINFO    \u001b[0m \u001b[1m[\u001b[0m\u001b[1;36m1\u001b[0m/\u001b[1;36m10\u001b[0m\u001b[1m]\u001b[0m Retrieving fixtures for ENG-Premier League \u001b[1;36m2425\u001b[0m                \u001b]8;id=336800;file://C:\\Users\\acer\\AppData\\Local\\Programs\\Python\\Python312\\Lib\\site-packages\\soccerdata\\whoscored.py\u001b\\\u001b[2mwhoscored.py\u001b[0m\u001b]8;;\u001b\\\u001b[2m:\u001b[0m\u001b]8;id=419430;file://C:\\Users\\acer\\AppData\\Local\\Programs\\Python\\Python312\\Lib\\site-packages\\soccerdata\\whoscored.py#400\u001b\\\u001b[2m400\u001b[0m\u001b]8;;\u001b\\\n"
      ]
     },
     "metadata": {},
     "output_type": "display_data"
    },
    {
     "data": {
      "text/html": [
       "<pre style=\"white-space:pre;overflow-x:auto;line-height:normal;font-family:Menlo,'DejaVu Sans Mono',consolas,'Courier New',monospace\"><span style=\"color: #7fbfbf; text-decoration-color: #7fbfbf\">[09/02/24 21:47:10] </span><span style=\"color: #000080; text-decoration-color: #000080\">INFO    </span> <span style=\"font-weight: bold\">[</span><span style=\"color: #008080; text-decoration-color: #008080; font-weight: bold\">2</span>/<span style=\"color: #008080; text-decoration-color: #008080; font-weight: bold\">10</span><span style=\"font-weight: bold\">]</span> Retrieving fixtures for ENG-Premier League <span style=\"color: #008080; text-decoration-color: #008080; font-weight: bold\">2425</span>                <a href=\"file://C:\\Users\\acer\\AppData\\Local\\Programs\\Python\\Python312\\Lib\\site-packages\\soccerdata\\whoscored.py\" target=\"_blank\"><span style=\"color: #7f7f7f; text-decoration-color: #7f7f7f\">whoscored.py</span></a><span style=\"color: #7f7f7f; text-decoration-color: #7f7f7f\">:</span><a href=\"file://C:\\Users\\acer\\AppData\\Local\\Programs\\Python\\Python312\\Lib\\site-packages\\soccerdata\\whoscored.py#400\" target=\"_blank\"><span style=\"color: #7f7f7f; text-decoration-color: #7f7f7f\">400</span></a>\n",
       "</pre>\n"
      ],
      "text/plain": [
       "\u001b[2;36m[09/02/24 21:47:10]\u001b[0m\u001b[2;36m \u001b[0m\u001b[34mINFO    \u001b[0m \u001b[1m[\u001b[0m\u001b[1;36m2\u001b[0m/\u001b[1;36m10\u001b[0m\u001b[1m]\u001b[0m Retrieving fixtures for ENG-Premier League \u001b[1;36m2425\u001b[0m                \u001b]8;id=99852;file://C:\\Users\\acer\\AppData\\Local\\Programs\\Python\\Python312\\Lib\\site-packages\\soccerdata\\whoscored.py\u001b\\\u001b[2mwhoscored.py\u001b[0m\u001b]8;;\u001b\\\u001b[2m:\u001b[0m\u001b]8;id=706532;file://C:\\Users\\acer\\AppData\\Local\\Programs\\Python\\Python312\\Lib\\site-packages\\soccerdata\\whoscored.py#400\u001b\\\u001b[2m400\u001b[0m\u001b]8;;\u001b\\\n"
      ]
     },
     "metadata": {},
     "output_type": "display_data"
    },
    {
     "data": {
      "text/html": [
       "<pre style=\"white-space:pre;overflow-x:auto;line-height:normal;font-family:Menlo,'DejaVu Sans Mono',consolas,'Courier New',monospace\"><span style=\"color: #7fbfbf; text-decoration-color: #7fbfbf\">[09/02/24 21:47:16] </span><span style=\"color: #000080; text-decoration-color: #000080\">INFO    </span> <span style=\"font-weight: bold\">[</span><span style=\"color: #008080; text-decoration-color: #008080; font-weight: bold\">3</span>/<span style=\"color: #008080; text-decoration-color: #008080; font-weight: bold\">10</span><span style=\"font-weight: bold\">]</span> Retrieving fixtures for ENG-Premier League <span style=\"color: #008080; text-decoration-color: #008080; font-weight: bold\">2425</span>                <a href=\"file://C:\\Users\\acer\\AppData\\Local\\Programs\\Python\\Python312\\Lib\\site-packages\\soccerdata\\whoscored.py\" target=\"_blank\"><span style=\"color: #7f7f7f; text-decoration-color: #7f7f7f\">whoscored.py</span></a><span style=\"color: #7f7f7f; text-decoration-color: #7f7f7f\">:</span><a href=\"file://C:\\Users\\acer\\AppData\\Local\\Programs\\Python\\Python312\\Lib\\site-packages\\soccerdata\\whoscored.py#400\" target=\"_blank\"><span style=\"color: #7f7f7f; text-decoration-color: #7f7f7f\">400</span></a>\n",
       "</pre>\n"
      ],
      "text/plain": [
       "\u001b[2;36m[09/02/24 21:47:16]\u001b[0m\u001b[2;36m \u001b[0m\u001b[34mINFO    \u001b[0m \u001b[1m[\u001b[0m\u001b[1;36m3\u001b[0m/\u001b[1;36m10\u001b[0m\u001b[1m]\u001b[0m Retrieving fixtures for ENG-Premier League \u001b[1;36m2425\u001b[0m                \u001b]8;id=574217;file://C:\\Users\\acer\\AppData\\Local\\Programs\\Python\\Python312\\Lib\\site-packages\\soccerdata\\whoscored.py\u001b\\\u001b[2mwhoscored.py\u001b[0m\u001b]8;;\u001b\\\u001b[2m:\u001b[0m\u001b]8;id=705038;file://C:\\Users\\acer\\AppData\\Local\\Programs\\Python\\Python312\\Lib\\site-packages\\soccerdata\\whoscored.py#400\u001b\\\u001b[2m400\u001b[0m\u001b]8;;\u001b\\\n"
      ]
     },
     "metadata": {},
     "output_type": "display_data"
    },
    {
     "data": {
      "text/html": [
       "<pre style=\"white-space:pre;overflow-x:auto;line-height:normal;font-family:Menlo,'DejaVu Sans Mono',consolas,'Courier New',monospace\"><span style=\"color: #7fbfbf; text-decoration-color: #7fbfbf\">[09/02/24 21:47:24] </span><span style=\"color: #000080; text-decoration-color: #000080\">INFO    </span> <span style=\"font-weight: bold\">[</span><span style=\"color: #008080; text-decoration-color: #008080; font-weight: bold\">4</span>/<span style=\"color: #008080; text-decoration-color: #008080; font-weight: bold\">10</span><span style=\"font-weight: bold\">]</span> Retrieving fixtures for ENG-Premier League <span style=\"color: #008080; text-decoration-color: #008080; font-weight: bold\">2425</span>                <a href=\"file://C:\\Users\\acer\\AppData\\Local\\Programs\\Python\\Python312\\Lib\\site-packages\\soccerdata\\whoscored.py\" target=\"_blank\"><span style=\"color: #7f7f7f; text-decoration-color: #7f7f7f\">whoscored.py</span></a><span style=\"color: #7f7f7f; text-decoration-color: #7f7f7f\">:</span><a href=\"file://C:\\Users\\acer\\AppData\\Local\\Programs\\Python\\Python312\\Lib\\site-packages\\soccerdata\\whoscored.py#400\" target=\"_blank\"><span style=\"color: #7f7f7f; text-decoration-color: #7f7f7f\">400</span></a>\n",
       "</pre>\n"
      ],
      "text/plain": [
       "\u001b[2;36m[09/02/24 21:47:24]\u001b[0m\u001b[2;36m \u001b[0m\u001b[34mINFO    \u001b[0m \u001b[1m[\u001b[0m\u001b[1;36m4\u001b[0m/\u001b[1;36m10\u001b[0m\u001b[1m]\u001b[0m Retrieving fixtures for ENG-Premier League \u001b[1;36m2425\u001b[0m                \u001b]8;id=564022;file://C:\\Users\\acer\\AppData\\Local\\Programs\\Python\\Python312\\Lib\\site-packages\\soccerdata\\whoscored.py\u001b\\\u001b[2mwhoscored.py\u001b[0m\u001b]8;;\u001b\\\u001b[2m:\u001b[0m\u001b]8;id=474437;file://C:\\Users\\acer\\AppData\\Local\\Programs\\Python\\Python312\\Lib\\site-packages\\soccerdata\\whoscored.py#400\u001b\\\u001b[2m400\u001b[0m\u001b]8;;\u001b\\\n"
      ]
     },
     "metadata": {},
     "output_type": "display_data"
    },
    {
     "data": {
      "text/html": [
       "<pre style=\"white-space:pre;overflow-x:auto;line-height:normal;font-family:Menlo,'DejaVu Sans Mono',consolas,'Courier New',monospace\"><span style=\"color: #7fbfbf; text-decoration-color: #7fbfbf\">[09/02/24 21:47:33] </span><span style=\"color: #000080; text-decoration-color: #000080\">INFO    </span> <span style=\"font-weight: bold\">[</span><span style=\"color: #008080; text-decoration-color: #008080; font-weight: bold\">5</span>/<span style=\"color: #008080; text-decoration-color: #008080; font-weight: bold\">10</span><span style=\"font-weight: bold\">]</span> Retrieving fixtures for ENG-Premier League <span style=\"color: #008080; text-decoration-color: #008080; font-weight: bold\">2425</span>                <a href=\"file://C:\\Users\\acer\\AppData\\Local\\Programs\\Python\\Python312\\Lib\\site-packages\\soccerdata\\whoscored.py\" target=\"_blank\"><span style=\"color: #7f7f7f; text-decoration-color: #7f7f7f\">whoscored.py</span></a><span style=\"color: #7f7f7f; text-decoration-color: #7f7f7f\">:</span><a href=\"file://C:\\Users\\acer\\AppData\\Local\\Programs\\Python\\Python312\\Lib\\site-packages\\soccerdata\\whoscored.py#400\" target=\"_blank\"><span style=\"color: #7f7f7f; text-decoration-color: #7f7f7f\">400</span></a>\n",
       "</pre>\n"
      ],
      "text/plain": [
       "\u001b[2;36m[09/02/24 21:47:33]\u001b[0m\u001b[2;36m \u001b[0m\u001b[34mINFO    \u001b[0m \u001b[1m[\u001b[0m\u001b[1;36m5\u001b[0m/\u001b[1;36m10\u001b[0m\u001b[1m]\u001b[0m Retrieving fixtures for ENG-Premier League \u001b[1;36m2425\u001b[0m                \u001b]8;id=9812;file://C:\\Users\\acer\\AppData\\Local\\Programs\\Python\\Python312\\Lib\\site-packages\\soccerdata\\whoscored.py\u001b\\\u001b[2mwhoscored.py\u001b[0m\u001b]8;;\u001b\\\u001b[2m:\u001b[0m\u001b]8;id=314943;file://C:\\Users\\acer\\AppData\\Local\\Programs\\Python\\Python312\\Lib\\site-packages\\soccerdata\\whoscored.py#400\u001b\\\u001b[2m400\u001b[0m\u001b]8;;\u001b\\\n"
      ]
     },
     "metadata": {},
     "output_type": "display_data"
    },
    {
     "data": {
      "text/html": [
       "<pre style=\"white-space:pre;overflow-x:auto;line-height:normal;font-family:Menlo,'DejaVu Sans Mono',consolas,'Courier New',monospace\"><span style=\"color: #7fbfbf; text-decoration-color: #7fbfbf\">[09/02/24 21:47:44] </span><span style=\"color: #000080; text-decoration-color: #000080\">INFO    </span> <span style=\"font-weight: bold\">[</span><span style=\"color: #008080; text-decoration-color: #008080; font-weight: bold\">6</span>/<span style=\"color: #008080; text-decoration-color: #008080; font-weight: bold\">10</span><span style=\"font-weight: bold\">]</span> Retrieving fixtures for ENG-Premier League <span style=\"color: #008080; text-decoration-color: #008080; font-weight: bold\">2425</span>                <a href=\"file://C:\\Users\\acer\\AppData\\Local\\Programs\\Python\\Python312\\Lib\\site-packages\\soccerdata\\whoscored.py\" target=\"_blank\"><span style=\"color: #7f7f7f; text-decoration-color: #7f7f7f\">whoscored.py</span></a><span style=\"color: #7f7f7f; text-decoration-color: #7f7f7f\">:</span><a href=\"file://C:\\Users\\acer\\AppData\\Local\\Programs\\Python\\Python312\\Lib\\site-packages\\soccerdata\\whoscored.py#400\" target=\"_blank\"><span style=\"color: #7f7f7f; text-decoration-color: #7f7f7f\">400</span></a>\n",
       "</pre>\n"
      ],
      "text/plain": [
       "\u001b[2;36m[09/02/24 21:47:44]\u001b[0m\u001b[2;36m \u001b[0m\u001b[34mINFO    \u001b[0m \u001b[1m[\u001b[0m\u001b[1;36m6\u001b[0m/\u001b[1;36m10\u001b[0m\u001b[1m]\u001b[0m Retrieving fixtures for ENG-Premier League \u001b[1;36m2425\u001b[0m                \u001b]8;id=37595;file://C:\\Users\\acer\\AppData\\Local\\Programs\\Python\\Python312\\Lib\\site-packages\\soccerdata\\whoscored.py\u001b\\\u001b[2mwhoscored.py\u001b[0m\u001b]8;;\u001b\\\u001b[2m:\u001b[0m\u001b]8;id=554036;file://C:\\Users\\acer\\AppData\\Local\\Programs\\Python\\Python312\\Lib\\site-packages\\soccerdata\\whoscored.py#400\u001b\\\u001b[2m400\u001b[0m\u001b]8;;\u001b\\\n"
      ]
     },
     "metadata": {},
     "output_type": "display_data"
    },
    {
     "data": {
      "text/html": [
       "<pre style=\"white-space:pre;overflow-x:auto;line-height:normal;font-family:Menlo,'DejaVu Sans Mono',consolas,'Courier New',monospace\"><span style=\"color: #7fbfbf; text-decoration-color: #7fbfbf\">[09/02/24 21:47:52] </span><span style=\"color: #000080; text-decoration-color: #000080\">INFO    </span> <span style=\"font-weight: bold\">[</span><span style=\"color: #008080; text-decoration-color: #008080; font-weight: bold\">7</span>/<span style=\"color: #008080; text-decoration-color: #008080; font-weight: bold\">10</span><span style=\"font-weight: bold\">]</span> Retrieving fixtures for ENG-Premier League <span style=\"color: #008080; text-decoration-color: #008080; font-weight: bold\">2425</span>                <a href=\"file://C:\\Users\\acer\\AppData\\Local\\Programs\\Python\\Python312\\Lib\\site-packages\\soccerdata\\whoscored.py\" target=\"_blank\"><span style=\"color: #7f7f7f; text-decoration-color: #7f7f7f\">whoscored.py</span></a><span style=\"color: #7f7f7f; text-decoration-color: #7f7f7f\">:</span><a href=\"file://C:\\Users\\acer\\AppData\\Local\\Programs\\Python\\Python312\\Lib\\site-packages\\soccerdata\\whoscored.py#400\" target=\"_blank\"><span style=\"color: #7f7f7f; text-decoration-color: #7f7f7f\">400</span></a>\n",
       "</pre>\n"
      ],
      "text/plain": [
       "\u001b[2;36m[09/02/24 21:47:52]\u001b[0m\u001b[2;36m \u001b[0m\u001b[34mINFO    \u001b[0m \u001b[1m[\u001b[0m\u001b[1;36m7\u001b[0m/\u001b[1;36m10\u001b[0m\u001b[1m]\u001b[0m Retrieving fixtures for ENG-Premier League \u001b[1;36m2425\u001b[0m                \u001b]8;id=939073;file://C:\\Users\\acer\\AppData\\Local\\Programs\\Python\\Python312\\Lib\\site-packages\\soccerdata\\whoscored.py\u001b\\\u001b[2mwhoscored.py\u001b[0m\u001b]8;;\u001b\\\u001b[2m:\u001b[0m\u001b]8;id=214727;file://C:\\Users\\acer\\AppData\\Local\\Programs\\Python\\Python312\\Lib\\site-packages\\soccerdata\\whoscored.py#400\u001b\\\u001b[2m400\u001b[0m\u001b]8;;\u001b\\\n"
      ]
     },
     "metadata": {},
     "output_type": "display_data"
    },
    {
     "data": {
      "text/html": [
       "<pre style=\"white-space:pre;overflow-x:auto;line-height:normal;font-family:Menlo,'DejaVu Sans Mono',consolas,'Courier New',monospace\"><span style=\"color: #7fbfbf; text-decoration-color: #7fbfbf\">[09/02/24 21:48:01] </span><span style=\"color: #000080; text-decoration-color: #000080\">INFO    </span> <span style=\"font-weight: bold\">[</span><span style=\"color: #008080; text-decoration-color: #008080; font-weight: bold\">8</span>/<span style=\"color: #008080; text-decoration-color: #008080; font-weight: bold\">10</span><span style=\"font-weight: bold\">]</span> Retrieving fixtures for ENG-Premier League <span style=\"color: #008080; text-decoration-color: #008080; font-weight: bold\">2425</span>                <a href=\"file://C:\\Users\\acer\\AppData\\Local\\Programs\\Python\\Python312\\Lib\\site-packages\\soccerdata\\whoscored.py\" target=\"_blank\"><span style=\"color: #7f7f7f; text-decoration-color: #7f7f7f\">whoscored.py</span></a><span style=\"color: #7f7f7f; text-decoration-color: #7f7f7f\">:</span><a href=\"file://C:\\Users\\acer\\AppData\\Local\\Programs\\Python\\Python312\\Lib\\site-packages\\soccerdata\\whoscored.py#400\" target=\"_blank\"><span style=\"color: #7f7f7f; text-decoration-color: #7f7f7f\">400</span></a>\n",
       "</pre>\n"
      ],
      "text/plain": [
       "\u001b[2;36m[09/02/24 21:48:01]\u001b[0m\u001b[2;36m \u001b[0m\u001b[34mINFO    \u001b[0m \u001b[1m[\u001b[0m\u001b[1;36m8\u001b[0m/\u001b[1;36m10\u001b[0m\u001b[1m]\u001b[0m Retrieving fixtures for ENG-Premier League \u001b[1;36m2425\u001b[0m                \u001b]8;id=850683;file://C:\\Users\\acer\\AppData\\Local\\Programs\\Python\\Python312\\Lib\\site-packages\\soccerdata\\whoscored.py\u001b\\\u001b[2mwhoscored.py\u001b[0m\u001b]8;;\u001b\\\u001b[2m:\u001b[0m\u001b]8;id=298257;file://C:\\Users\\acer\\AppData\\Local\\Programs\\Python\\Python312\\Lib\\site-packages\\soccerdata\\whoscored.py#400\u001b\\\u001b[2m400\u001b[0m\u001b]8;;\u001b\\\n"
      ]
     },
     "metadata": {},
     "output_type": "display_data"
    },
    {
     "data": {
      "text/html": [
       "<pre style=\"white-space:pre;overflow-x:auto;line-height:normal;font-family:Menlo,'DejaVu Sans Mono',consolas,'Courier New',monospace\"><span style=\"color: #7fbfbf; text-decoration-color: #7fbfbf\">[09/02/24 21:48:10] </span><span style=\"color: #000080; text-decoration-color: #000080\">INFO    </span> <span style=\"font-weight: bold\">[</span><span style=\"color: #008080; text-decoration-color: #008080; font-weight: bold\">9</span>/<span style=\"color: #008080; text-decoration-color: #008080; font-weight: bold\">10</span><span style=\"font-weight: bold\">]</span> Retrieving fixtures for ENG-Premier League <span style=\"color: #008080; text-decoration-color: #008080; font-weight: bold\">2425</span>                <a href=\"file://C:\\Users\\acer\\AppData\\Local\\Programs\\Python\\Python312\\Lib\\site-packages\\soccerdata\\whoscored.py\" target=\"_blank\"><span style=\"color: #7f7f7f; text-decoration-color: #7f7f7f\">whoscored.py</span></a><span style=\"color: #7f7f7f; text-decoration-color: #7f7f7f\">:</span><a href=\"file://C:\\Users\\acer\\AppData\\Local\\Programs\\Python\\Python312\\Lib\\site-packages\\soccerdata\\whoscored.py#400\" target=\"_blank\"><span style=\"color: #7f7f7f; text-decoration-color: #7f7f7f\">400</span></a>\n",
       "</pre>\n"
      ],
      "text/plain": [
       "\u001b[2;36m[09/02/24 21:48:10]\u001b[0m\u001b[2;36m \u001b[0m\u001b[34mINFO    \u001b[0m \u001b[1m[\u001b[0m\u001b[1;36m9\u001b[0m/\u001b[1;36m10\u001b[0m\u001b[1m]\u001b[0m Retrieving fixtures for ENG-Premier League \u001b[1;36m2425\u001b[0m                \u001b]8;id=282730;file://C:\\Users\\acer\\AppData\\Local\\Programs\\Python\\Python312\\Lib\\site-packages\\soccerdata\\whoscored.py\u001b\\\u001b[2mwhoscored.py\u001b[0m\u001b]8;;\u001b\\\u001b[2m:\u001b[0m\u001b]8;id=596580;file://C:\\Users\\acer\\AppData\\Local\\Programs\\Python\\Python312\\Lib\\site-packages\\soccerdata\\whoscored.py#400\u001b\\\u001b[2m400\u001b[0m\u001b]8;;\u001b\\\n"
      ]
     },
     "metadata": {},
     "output_type": "display_data"
    },
    {
     "data": {
      "text/html": [
       "<pre style=\"white-space:pre;overflow-x:auto;line-height:normal;font-family:Menlo,'DejaVu Sans Mono',consolas,'Courier New',monospace\"><span style=\"color: #7fbfbf; text-decoration-color: #7fbfbf\">[09/02/24 21:48:17] </span><span style=\"color: #000080; text-decoration-color: #000080\">INFO    </span> <span style=\"font-weight: bold\">[</span><span style=\"color: #008080; text-decoration-color: #008080; font-weight: bold\">10</span>/<span style=\"color: #008080; text-decoration-color: #008080; font-weight: bold\">10</span><span style=\"font-weight: bold\">]</span> Retrieving fixtures for ENG-Premier League <span style=\"color: #008080; text-decoration-color: #008080; font-weight: bold\">2425</span>               <a href=\"file://C:\\Users\\acer\\AppData\\Local\\Programs\\Python\\Python312\\Lib\\site-packages\\soccerdata\\whoscored.py\" target=\"_blank\"><span style=\"color: #7f7f7f; text-decoration-color: #7f7f7f\">whoscored.py</span></a><span style=\"color: #7f7f7f; text-decoration-color: #7f7f7f\">:</span><a href=\"file://C:\\Users\\acer\\AppData\\Local\\Programs\\Python\\Python312\\Lib\\site-packages\\soccerdata\\whoscored.py#400\" target=\"_blank\"><span style=\"color: #7f7f7f; text-decoration-color: #7f7f7f\">400</span></a>\n",
       "</pre>\n"
      ],
      "text/plain": [
       "\u001b[2;36m[09/02/24 21:48:17]\u001b[0m\u001b[2;36m \u001b[0m\u001b[34mINFO    \u001b[0m \u001b[1m[\u001b[0m\u001b[1;36m10\u001b[0m/\u001b[1;36m10\u001b[0m\u001b[1m]\u001b[0m Retrieving fixtures for ENG-Premier League \u001b[1;36m2425\u001b[0m               \u001b]8;id=111847;file://C:\\Users\\acer\\AppData\\Local\\Programs\\Python\\Python312\\Lib\\site-packages\\soccerdata\\whoscored.py\u001b\\\u001b[2mwhoscored.py\u001b[0m\u001b]8;;\u001b\\\u001b[2m:\u001b[0m\u001b]8;id=737481;file://C:\\Users\\acer\\AppData\\Local\\Programs\\Python\\Python312\\Lib\\site-packages\\soccerdata\\whoscored.py#400\u001b\\\u001b[2m400\u001b[0m\u001b]8;;\u001b\\\n"
      ]
     },
     "metadata": {},
     "output_type": "display_data"
    },
    {
     "name": "stderr",
     "output_type": "stream",
     "text": [
      "C:\\Users\\acer\\AppData\\Local\\Programs\\Python\\Python312\\Lib\\site-packages\\soccerdata\\whoscored.py:424: FutureWarning: The behavior of DataFrame concatenation with empty or all-NA entries is deprecated. In a future version, this will no longer exclude empty or all-NA columns when determining the result dtypes. To retain the old behavior, exclude the relevant entries before the concat operation.\n",
      "  pd.concat(all_schedules)\n"
     ]
    },
    {
     "data": {
      "text/html": [
       "<pre style=\"white-space:pre;overflow-x:auto;line-height:normal;font-family:Menlo,'DejaVu Sans Mono',consolas,'Courier New',monospace\"><span style=\"color: #7fbfbf; text-decoration-color: #7fbfbf\">[09/02/24 21:48:27] </span><span style=\"color: #000080; text-decoration-color: #000080\">INFO    </span> <span style=\"font-weight: bold\">[</span><span style=\"color: #008080; text-decoration-color: #008080; font-weight: bold\">1</span>/<span style=\"color: #008080; text-decoration-color: #008080; font-weight: bold\">1</span><span style=\"font-weight: bold\">]</span> Retrieving game with <span style=\"color: #808000; text-decoration-color: #808000\">id</span>=<span style=\"color: #008080; text-decoration-color: #008080; font-weight: bold\">1821072</span>                                 <a href=\"file://C:\\Users\\acer\\AppData\\Local\\Programs\\Python\\Python312\\Lib\\site-packages\\soccerdata\\whoscored.py\" target=\"_blank\"><span style=\"color: #7f7f7f; text-decoration-color: #7f7f7f\">whoscored.py</span></a><span style=\"color: #7f7f7f; text-decoration-color: #7f7f7f\">:</span><a href=\"file://C:\\Users\\acer\\AppData\\Local\\Programs\\Python\\Python312\\Lib\\site-packages\\soccerdata\\whoscored.py#692\" target=\"_blank\"><span style=\"color: #7f7f7f; text-decoration-color: #7f7f7f\">692</span></a>\n",
       "</pre>\n"
      ],
      "text/plain": [
       "\u001b[2;36m[09/02/24 21:48:27]\u001b[0m\u001b[2;36m \u001b[0m\u001b[34mINFO    \u001b[0m \u001b[1m[\u001b[0m\u001b[1;36m1\u001b[0m/\u001b[1;36m1\u001b[0m\u001b[1m]\u001b[0m Retrieving game with \u001b[33mid\u001b[0m=\u001b[1;36m1821072\u001b[0m                                 \u001b]8;id=695375;file://C:\\Users\\acer\\AppData\\Local\\Programs\\Python\\Python312\\Lib\\site-packages\\soccerdata\\whoscored.py\u001b\\\u001b[2mwhoscored.py\u001b[0m\u001b]8;;\u001b\\\u001b[2m:\u001b[0m\u001b]8;id=59779;file://C:\\Users\\acer\\AppData\\Local\\Programs\\Python\\Python312\\Lib\\site-packages\\soccerdata\\whoscored.py#692\u001b\\\u001b[2m692\u001b[0m\u001b]8;;\u001b\\\n"
      ]
     },
     "metadata": {},
     "output_type": "display_data"
    },
    {
     "data": {
      "text/html": [
       "<pre style=\"white-space:pre;overflow-x:auto;line-height:normal;font-family:Menlo,'DejaVu Sans Mono',consolas,'Courier New',monospace\"><span style=\"color: #7fbfbf; text-decoration-color: #7fbfbf\">[09/02/24 21:48:57] </span><span style=\"color: #000080; text-decoration-color: #000080\">INFO    </span> Retrieving calendar for ENG-Premier League <span style=\"color: #008080; text-decoration-color: #008080; font-weight: bold\">2425</span>                       <a href=\"file://C:\\Users\\acer\\AppData\\Local\\Programs\\Python\\Python312\\Lib\\site-packages\\soccerdata\\whoscored.py\" target=\"_blank\"><span style=\"color: #7f7f7f; text-decoration-color: #7f7f7f\">whoscored.py</span></a><span style=\"color: #7f7f7f; text-decoration-color: #7f7f7f\">:</span><a href=\"file://C:\\Users\\acer\\AppData\\Local\\Programs\\Python\\Python312\\Lib\\site-packages\\soccerdata\\whoscored.py#371\" target=\"_blank\"><span style=\"color: #7f7f7f; text-decoration-color: #7f7f7f\">371</span></a>\n",
       "</pre>\n"
      ],
      "text/plain": [
       "\u001b[2;36m[09/02/24 21:48:57]\u001b[0m\u001b[2;36m \u001b[0m\u001b[34mINFO    \u001b[0m Retrieving calendar for ENG-Premier League \u001b[1;36m2425\u001b[0m                       \u001b]8;id=582277;file://C:\\Users\\acer\\AppData\\Local\\Programs\\Python\\Python312\\Lib\\site-packages\\soccerdata\\whoscored.py\u001b\\\u001b[2mwhoscored.py\u001b[0m\u001b]8;;\u001b\\\u001b[2m:\u001b[0m\u001b]8;id=981184;file://C:\\Users\\acer\\AppData\\Local\\Programs\\Python\\Python312\\Lib\\site-packages\\soccerdata\\whoscored.py#371\u001b\\\u001b[2m371\u001b[0m\u001b]8;;\u001b\\\n"
      ]
     },
     "metadata": {},
     "output_type": "display_data"
    },
    {
     "data": {
      "text/html": [
       "<pre style=\"white-space:pre;overflow-x:auto;line-height:normal;font-family:Menlo,'DejaVu Sans Mono',consolas,'Courier New',monospace\"><span style=\"color: #7fbfbf; text-decoration-color: #7fbfbf\">[09/02/24 21:49:08] </span><span style=\"color: #000080; text-decoration-color: #000080\">INFO    </span> <span style=\"font-weight: bold\">[</span><span style=\"color: #008080; text-decoration-color: #008080; font-weight: bold\">1</span>/<span style=\"color: #008080; text-decoration-color: #008080; font-weight: bold\">10</span><span style=\"font-weight: bold\">]</span> Retrieving fixtures for ENG-Premier League <span style=\"color: #008080; text-decoration-color: #008080; font-weight: bold\">2425</span>                <a href=\"file://C:\\Users\\acer\\AppData\\Local\\Programs\\Python\\Python312\\Lib\\site-packages\\soccerdata\\whoscored.py\" target=\"_blank\"><span style=\"color: #7f7f7f; text-decoration-color: #7f7f7f\">whoscored.py</span></a><span style=\"color: #7f7f7f; text-decoration-color: #7f7f7f\">:</span><a href=\"file://C:\\Users\\acer\\AppData\\Local\\Programs\\Python\\Python312\\Lib\\site-packages\\soccerdata\\whoscored.py#400\" target=\"_blank\"><span style=\"color: #7f7f7f; text-decoration-color: #7f7f7f\">400</span></a>\n",
       "</pre>\n"
      ],
      "text/plain": [
       "\u001b[2;36m[09/02/24 21:49:08]\u001b[0m\u001b[2;36m \u001b[0m\u001b[34mINFO    \u001b[0m \u001b[1m[\u001b[0m\u001b[1;36m1\u001b[0m/\u001b[1;36m10\u001b[0m\u001b[1m]\u001b[0m Retrieving fixtures for ENG-Premier League \u001b[1;36m2425\u001b[0m                \u001b]8;id=185512;file://C:\\Users\\acer\\AppData\\Local\\Programs\\Python\\Python312\\Lib\\site-packages\\soccerdata\\whoscored.py\u001b\\\u001b[2mwhoscored.py\u001b[0m\u001b]8;;\u001b\\\u001b[2m:\u001b[0m\u001b]8;id=844130;file://C:\\Users\\acer\\AppData\\Local\\Programs\\Python\\Python312\\Lib\\site-packages\\soccerdata\\whoscored.py#400\u001b\\\u001b[2m400\u001b[0m\u001b]8;;\u001b\\\n"
      ]
     },
     "metadata": {},
     "output_type": "display_data"
    },
    {
     "data": {
      "text/html": [
       "<pre style=\"white-space:pre;overflow-x:auto;line-height:normal;font-family:Menlo,'DejaVu Sans Mono',consolas,'Courier New',monospace\"><span style=\"color: #7fbfbf; text-decoration-color: #7fbfbf\">[09/02/24 21:49:17] </span><span style=\"color: #000080; text-decoration-color: #000080\">INFO    </span> <span style=\"font-weight: bold\">[</span><span style=\"color: #008080; text-decoration-color: #008080; font-weight: bold\">2</span>/<span style=\"color: #008080; text-decoration-color: #008080; font-weight: bold\">10</span><span style=\"font-weight: bold\">]</span> Retrieving fixtures for ENG-Premier League <span style=\"color: #008080; text-decoration-color: #008080; font-weight: bold\">2425</span>                <a href=\"file://C:\\Users\\acer\\AppData\\Local\\Programs\\Python\\Python312\\Lib\\site-packages\\soccerdata\\whoscored.py\" target=\"_blank\"><span style=\"color: #7f7f7f; text-decoration-color: #7f7f7f\">whoscored.py</span></a><span style=\"color: #7f7f7f; text-decoration-color: #7f7f7f\">:</span><a href=\"file://C:\\Users\\acer\\AppData\\Local\\Programs\\Python\\Python312\\Lib\\site-packages\\soccerdata\\whoscored.py#400\" target=\"_blank\"><span style=\"color: #7f7f7f; text-decoration-color: #7f7f7f\">400</span></a>\n",
       "</pre>\n"
      ],
      "text/plain": [
       "\u001b[2;36m[09/02/24 21:49:17]\u001b[0m\u001b[2;36m \u001b[0m\u001b[34mINFO    \u001b[0m \u001b[1m[\u001b[0m\u001b[1;36m2\u001b[0m/\u001b[1;36m10\u001b[0m\u001b[1m]\u001b[0m Retrieving fixtures for ENG-Premier League \u001b[1;36m2425\u001b[0m                \u001b]8;id=643390;file://C:\\Users\\acer\\AppData\\Local\\Programs\\Python\\Python312\\Lib\\site-packages\\soccerdata\\whoscored.py\u001b\\\u001b[2mwhoscored.py\u001b[0m\u001b]8;;\u001b\\\u001b[2m:\u001b[0m\u001b]8;id=145823;file://C:\\Users\\acer\\AppData\\Local\\Programs\\Python\\Python312\\Lib\\site-packages\\soccerdata\\whoscored.py#400\u001b\\\u001b[2m400\u001b[0m\u001b]8;;\u001b\\\n"
      ]
     },
     "metadata": {},
     "output_type": "display_data"
    },
    {
     "data": {
      "text/html": [
       "<pre style=\"white-space:pre;overflow-x:auto;line-height:normal;font-family:Menlo,'DejaVu Sans Mono',consolas,'Courier New',monospace\"><span style=\"color: #7fbfbf; text-decoration-color: #7fbfbf\">[09/02/24 21:49:25] </span><span style=\"color: #000080; text-decoration-color: #000080\">INFO    </span> <span style=\"font-weight: bold\">[</span><span style=\"color: #008080; text-decoration-color: #008080; font-weight: bold\">3</span>/<span style=\"color: #008080; text-decoration-color: #008080; font-weight: bold\">10</span><span style=\"font-weight: bold\">]</span> Retrieving fixtures for ENG-Premier League <span style=\"color: #008080; text-decoration-color: #008080; font-weight: bold\">2425</span>                <a href=\"file://C:\\Users\\acer\\AppData\\Local\\Programs\\Python\\Python312\\Lib\\site-packages\\soccerdata\\whoscored.py\" target=\"_blank\"><span style=\"color: #7f7f7f; text-decoration-color: #7f7f7f\">whoscored.py</span></a><span style=\"color: #7f7f7f; text-decoration-color: #7f7f7f\">:</span><a href=\"file://C:\\Users\\acer\\AppData\\Local\\Programs\\Python\\Python312\\Lib\\site-packages\\soccerdata\\whoscored.py#400\" target=\"_blank\"><span style=\"color: #7f7f7f; text-decoration-color: #7f7f7f\">400</span></a>\n",
       "</pre>\n"
      ],
      "text/plain": [
       "\u001b[2;36m[09/02/24 21:49:25]\u001b[0m\u001b[2;36m \u001b[0m\u001b[34mINFO    \u001b[0m \u001b[1m[\u001b[0m\u001b[1;36m3\u001b[0m/\u001b[1;36m10\u001b[0m\u001b[1m]\u001b[0m Retrieving fixtures for ENG-Premier League \u001b[1;36m2425\u001b[0m                \u001b]8;id=760246;file://C:\\Users\\acer\\AppData\\Local\\Programs\\Python\\Python312\\Lib\\site-packages\\soccerdata\\whoscored.py\u001b\\\u001b[2mwhoscored.py\u001b[0m\u001b]8;;\u001b\\\u001b[2m:\u001b[0m\u001b]8;id=229542;file://C:\\Users\\acer\\AppData\\Local\\Programs\\Python\\Python312\\Lib\\site-packages\\soccerdata\\whoscored.py#400\u001b\\\u001b[2m400\u001b[0m\u001b]8;;\u001b\\\n"
      ]
     },
     "metadata": {},
     "output_type": "display_data"
    },
    {
     "data": {
      "text/html": [
       "<pre style=\"white-space:pre;overflow-x:auto;line-height:normal;font-family:Menlo,'DejaVu Sans Mono',consolas,'Courier New',monospace\"><span style=\"color: #7fbfbf; text-decoration-color: #7fbfbf\">[09/02/24 21:49:31] </span><span style=\"color: #000080; text-decoration-color: #000080\">INFO    </span> <span style=\"font-weight: bold\">[</span><span style=\"color: #008080; text-decoration-color: #008080; font-weight: bold\">4</span>/<span style=\"color: #008080; text-decoration-color: #008080; font-weight: bold\">10</span><span style=\"font-weight: bold\">]</span> Retrieving fixtures for ENG-Premier League <span style=\"color: #008080; text-decoration-color: #008080; font-weight: bold\">2425</span>                <a href=\"file://C:\\Users\\acer\\AppData\\Local\\Programs\\Python\\Python312\\Lib\\site-packages\\soccerdata\\whoscored.py\" target=\"_blank\"><span style=\"color: #7f7f7f; text-decoration-color: #7f7f7f\">whoscored.py</span></a><span style=\"color: #7f7f7f; text-decoration-color: #7f7f7f\">:</span><a href=\"file://C:\\Users\\acer\\AppData\\Local\\Programs\\Python\\Python312\\Lib\\site-packages\\soccerdata\\whoscored.py#400\" target=\"_blank\"><span style=\"color: #7f7f7f; text-decoration-color: #7f7f7f\">400</span></a>\n",
       "</pre>\n"
      ],
      "text/plain": [
       "\u001b[2;36m[09/02/24 21:49:31]\u001b[0m\u001b[2;36m \u001b[0m\u001b[34mINFO    \u001b[0m \u001b[1m[\u001b[0m\u001b[1;36m4\u001b[0m/\u001b[1;36m10\u001b[0m\u001b[1m]\u001b[0m Retrieving fixtures for ENG-Premier League \u001b[1;36m2425\u001b[0m                \u001b]8;id=858607;file://C:\\Users\\acer\\AppData\\Local\\Programs\\Python\\Python312\\Lib\\site-packages\\soccerdata\\whoscored.py\u001b\\\u001b[2mwhoscored.py\u001b[0m\u001b]8;;\u001b\\\u001b[2m:\u001b[0m\u001b]8;id=513363;file://C:\\Users\\acer\\AppData\\Local\\Programs\\Python\\Python312\\Lib\\site-packages\\soccerdata\\whoscored.py#400\u001b\\\u001b[2m400\u001b[0m\u001b]8;;\u001b\\\n"
      ]
     },
     "metadata": {},
     "output_type": "display_data"
    },
    {
     "data": {
      "text/html": [
       "<pre style=\"white-space:pre;overflow-x:auto;line-height:normal;font-family:Menlo,'DejaVu Sans Mono',consolas,'Courier New',monospace\"><span style=\"color: #7fbfbf; text-decoration-color: #7fbfbf\">[09/02/24 21:49:42] </span><span style=\"color: #000080; text-decoration-color: #000080\">INFO    </span> <span style=\"font-weight: bold\">[</span><span style=\"color: #008080; text-decoration-color: #008080; font-weight: bold\">5</span>/<span style=\"color: #008080; text-decoration-color: #008080; font-weight: bold\">10</span><span style=\"font-weight: bold\">]</span> Retrieving fixtures for ENG-Premier League <span style=\"color: #008080; text-decoration-color: #008080; font-weight: bold\">2425</span>                <a href=\"file://C:\\Users\\acer\\AppData\\Local\\Programs\\Python\\Python312\\Lib\\site-packages\\soccerdata\\whoscored.py\" target=\"_blank\"><span style=\"color: #7f7f7f; text-decoration-color: #7f7f7f\">whoscored.py</span></a><span style=\"color: #7f7f7f; text-decoration-color: #7f7f7f\">:</span><a href=\"file://C:\\Users\\acer\\AppData\\Local\\Programs\\Python\\Python312\\Lib\\site-packages\\soccerdata\\whoscored.py#400\" target=\"_blank\"><span style=\"color: #7f7f7f; text-decoration-color: #7f7f7f\">400</span></a>\n",
       "</pre>\n"
      ],
      "text/plain": [
       "\u001b[2;36m[09/02/24 21:49:42]\u001b[0m\u001b[2;36m \u001b[0m\u001b[34mINFO    \u001b[0m \u001b[1m[\u001b[0m\u001b[1;36m5\u001b[0m/\u001b[1;36m10\u001b[0m\u001b[1m]\u001b[0m Retrieving fixtures for ENG-Premier League \u001b[1;36m2425\u001b[0m                \u001b]8;id=144178;file://C:\\Users\\acer\\AppData\\Local\\Programs\\Python\\Python312\\Lib\\site-packages\\soccerdata\\whoscored.py\u001b\\\u001b[2mwhoscored.py\u001b[0m\u001b]8;;\u001b\\\u001b[2m:\u001b[0m\u001b]8;id=691581;file://C:\\Users\\acer\\AppData\\Local\\Programs\\Python\\Python312\\Lib\\site-packages\\soccerdata\\whoscored.py#400\u001b\\\u001b[2m400\u001b[0m\u001b]8;;\u001b\\\n"
      ]
     },
     "metadata": {},
     "output_type": "display_data"
    },
    {
     "data": {
      "text/html": [
       "<pre style=\"white-space:pre;overflow-x:auto;line-height:normal;font-family:Menlo,'DejaVu Sans Mono',consolas,'Courier New',monospace\"><span style=\"color: #7fbfbf; text-decoration-color: #7fbfbf\">[09/02/24 21:49:49] </span><span style=\"color: #000080; text-decoration-color: #000080\">INFO    </span> <span style=\"font-weight: bold\">[</span><span style=\"color: #008080; text-decoration-color: #008080; font-weight: bold\">6</span>/<span style=\"color: #008080; text-decoration-color: #008080; font-weight: bold\">10</span><span style=\"font-weight: bold\">]</span> Retrieving fixtures for ENG-Premier League <span style=\"color: #008080; text-decoration-color: #008080; font-weight: bold\">2425</span>                <a href=\"file://C:\\Users\\acer\\AppData\\Local\\Programs\\Python\\Python312\\Lib\\site-packages\\soccerdata\\whoscored.py\" target=\"_blank\"><span style=\"color: #7f7f7f; text-decoration-color: #7f7f7f\">whoscored.py</span></a><span style=\"color: #7f7f7f; text-decoration-color: #7f7f7f\">:</span><a href=\"file://C:\\Users\\acer\\AppData\\Local\\Programs\\Python\\Python312\\Lib\\site-packages\\soccerdata\\whoscored.py#400\" target=\"_blank\"><span style=\"color: #7f7f7f; text-decoration-color: #7f7f7f\">400</span></a>\n",
       "</pre>\n"
      ],
      "text/plain": [
       "\u001b[2;36m[09/02/24 21:49:49]\u001b[0m\u001b[2;36m \u001b[0m\u001b[34mINFO    \u001b[0m \u001b[1m[\u001b[0m\u001b[1;36m6\u001b[0m/\u001b[1;36m10\u001b[0m\u001b[1m]\u001b[0m Retrieving fixtures for ENG-Premier League \u001b[1;36m2425\u001b[0m                \u001b]8;id=295641;file://C:\\Users\\acer\\AppData\\Local\\Programs\\Python\\Python312\\Lib\\site-packages\\soccerdata\\whoscored.py\u001b\\\u001b[2mwhoscored.py\u001b[0m\u001b]8;;\u001b\\\u001b[2m:\u001b[0m\u001b]8;id=475313;file://C:\\Users\\acer\\AppData\\Local\\Programs\\Python\\Python312\\Lib\\site-packages\\soccerdata\\whoscored.py#400\u001b\\\u001b[2m400\u001b[0m\u001b]8;;\u001b\\\n"
      ]
     },
     "metadata": {},
     "output_type": "display_data"
    },
    {
     "data": {
      "text/html": [
       "<pre style=\"white-space:pre;overflow-x:auto;line-height:normal;font-family:Menlo,'DejaVu Sans Mono',consolas,'Courier New',monospace\"><span style=\"color: #7fbfbf; text-decoration-color: #7fbfbf\">[09/02/24 21:49:59] </span><span style=\"color: #000080; text-decoration-color: #000080\">INFO    </span> <span style=\"font-weight: bold\">[</span><span style=\"color: #008080; text-decoration-color: #008080; font-weight: bold\">7</span>/<span style=\"color: #008080; text-decoration-color: #008080; font-weight: bold\">10</span><span style=\"font-weight: bold\">]</span> Retrieving fixtures for ENG-Premier League <span style=\"color: #008080; text-decoration-color: #008080; font-weight: bold\">2425</span>                <a href=\"file://C:\\Users\\acer\\AppData\\Local\\Programs\\Python\\Python312\\Lib\\site-packages\\soccerdata\\whoscored.py\" target=\"_blank\"><span style=\"color: #7f7f7f; text-decoration-color: #7f7f7f\">whoscored.py</span></a><span style=\"color: #7f7f7f; text-decoration-color: #7f7f7f\">:</span><a href=\"file://C:\\Users\\acer\\AppData\\Local\\Programs\\Python\\Python312\\Lib\\site-packages\\soccerdata\\whoscored.py#400\" target=\"_blank\"><span style=\"color: #7f7f7f; text-decoration-color: #7f7f7f\">400</span></a>\n",
       "</pre>\n"
      ],
      "text/plain": [
       "\u001b[2;36m[09/02/24 21:49:59]\u001b[0m\u001b[2;36m \u001b[0m\u001b[34mINFO    \u001b[0m \u001b[1m[\u001b[0m\u001b[1;36m7\u001b[0m/\u001b[1;36m10\u001b[0m\u001b[1m]\u001b[0m Retrieving fixtures for ENG-Premier League \u001b[1;36m2425\u001b[0m                \u001b]8;id=348924;file://C:\\Users\\acer\\AppData\\Local\\Programs\\Python\\Python312\\Lib\\site-packages\\soccerdata\\whoscored.py\u001b\\\u001b[2mwhoscored.py\u001b[0m\u001b]8;;\u001b\\\u001b[2m:\u001b[0m\u001b]8;id=921397;file://C:\\Users\\acer\\AppData\\Local\\Programs\\Python\\Python312\\Lib\\site-packages\\soccerdata\\whoscored.py#400\u001b\\\u001b[2m400\u001b[0m\u001b]8;;\u001b\\\n"
      ]
     },
     "metadata": {},
     "output_type": "display_data"
    },
    {
     "data": {
      "text/html": [
       "<pre style=\"white-space:pre;overflow-x:auto;line-height:normal;font-family:Menlo,'DejaVu Sans Mono',consolas,'Courier New',monospace\"><span style=\"color: #7fbfbf; text-decoration-color: #7fbfbf\">[09/02/24 21:50:09] </span><span style=\"color: #000080; text-decoration-color: #000080\">INFO    </span> <span style=\"font-weight: bold\">[</span><span style=\"color: #008080; text-decoration-color: #008080; font-weight: bold\">8</span>/<span style=\"color: #008080; text-decoration-color: #008080; font-weight: bold\">10</span><span style=\"font-weight: bold\">]</span> Retrieving fixtures for ENG-Premier League <span style=\"color: #008080; text-decoration-color: #008080; font-weight: bold\">2425</span>                <a href=\"file://C:\\Users\\acer\\AppData\\Local\\Programs\\Python\\Python312\\Lib\\site-packages\\soccerdata\\whoscored.py\" target=\"_blank\"><span style=\"color: #7f7f7f; text-decoration-color: #7f7f7f\">whoscored.py</span></a><span style=\"color: #7f7f7f; text-decoration-color: #7f7f7f\">:</span><a href=\"file://C:\\Users\\acer\\AppData\\Local\\Programs\\Python\\Python312\\Lib\\site-packages\\soccerdata\\whoscored.py#400\" target=\"_blank\"><span style=\"color: #7f7f7f; text-decoration-color: #7f7f7f\">400</span></a>\n",
       "</pre>\n"
      ],
      "text/plain": [
       "\u001b[2;36m[09/02/24 21:50:09]\u001b[0m\u001b[2;36m \u001b[0m\u001b[34mINFO    \u001b[0m \u001b[1m[\u001b[0m\u001b[1;36m8\u001b[0m/\u001b[1;36m10\u001b[0m\u001b[1m]\u001b[0m Retrieving fixtures for ENG-Premier League \u001b[1;36m2425\u001b[0m                \u001b]8;id=456949;file://C:\\Users\\acer\\AppData\\Local\\Programs\\Python\\Python312\\Lib\\site-packages\\soccerdata\\whoscored.py\u001b\\\u001b[2mwhoscored.py\u001b[0m\u001b]8;;\u001b\\\u001b[2m:\u001b[0m\u001b]8;id=285296;file://C:\\Users\\acer\\AppData\\Local\\Programs\\Python\\Python312\\Lib\\site-packages\\soccerdata\\whoscored.py#400\u001b\\\u001b[2m400\u001b[0m\u001b]8;;\u001b\\\n"
      ]
     },
     "metadata": {},
     "output_type": "display_data"
    },
    {
     "data": {
      "text/html": [
       "<pre style=\"white-space:pre;overflow-x:auto;line-height:normal;font-family:Menlo,'DejaVu Sans Mono',consolas,'Courier New',monospace\"><span style=\"color: #7fbfbf; text-decoration-color: #7fbfbf\">[09/02/24 21:50:17] </span><span style=\"color: #000080; text-decoration-color: #000080\">INFO    </span> <span style=\"font-weight: bold\">[</span><span style=\"color: #008080; text-decoration-color: #008080; font-weight: bold\">9</span>/<span style=\"color: #008080; text-decoration-color: #008080; font-weight: bold\">10</span><span style=\"font-weight: bold\">]</span> Retrieving fixtures for ENG-Premier League <span style=\"color: #008080; text-decoration-color: #008080; font-weight: bold\">2425</span>                <a href=\"file://C:\\Users\\acer\\AppData\\Local\\Programs\\Python\\Python312\\Lib\\site-packages\\soccerdata\\whoscored.py\" target=\"_blank\"><span style=\"color: #7f7f7f; text-decoration-color: #7f7f7f\">whoscored.py</span></a><span style=\"color: #7f7f7f; text-decoration-color: #7f7f7f\">:</span><a href=\"file://C:\\Users\\acer\\AppData\\Local\\Programs\\Python\\Python312\\Lib\\site-packages\\soccerdata\\whoscored.py#400\" target=\"_blank\"><span style=\"color: #7f7f7f; text-decoration-color: #7f7f7f\">400</span></a>\n",
       "</pre>\n"
      ],
      "text/plain": [
       "\u001b[2;36m[09/02/24 21:50:17]\u001b[0m\u001b[2;36m \u001b[0m\u001b[34mINFO    \u001b[0m \u001b[1m[\u001b[0m\u001b[1;36m9\u001b[0m/\u001b[1;36m10\u001b[0m\u001b[1m]\u001b[0m Retrieving fixtures for ENG-Premier League \u001b[1;36m2425\u001b[0m                \u001b]8;id=149311;file://C:\\Users\\acer\\AppData\\Local\\Programs\\Python\\Python312\\Lib\\site-packages\\soccerdata\\whoscored.py\u001b\\\u001b[2mwhoscored.py\u001b[0m\u001b]8;;\u001b\\\u001b[2m:\u001b[0m\u001b]8;id=910795;file://C:\\Users\\acer\\AppData\\Local\\Programs\\Python\\Python312\\Lib\\site-packages\\soccerdata\\whoscored.py#400\u001b\\\u001b[2m400\u001b[0m\u001b]8;;\u001b\\\n"
      ]
     },
     "metadata": {},
     "output_type": "display_data"
    },
    {
     "data": {
      "text/html": [
       "<pre style=\"white-space:pre;overflow-x:auto;line-height:normal;font-family:Menlo,'DejaVu Sans Mono',consolas,'Courier New',monospace\"><span style=\"color: #7fbfbf; text-decoration-color: #7fbfbf\">[09/02/24 21:50:27] </span><span style=\"color: #000080; text-decoration-color: #000080\">INFO    </span> <span style=\"font-weight: bold\">[</span><span style=\"color: #008080; text-decoration-color: #008080; font-weight: bold\">10</span>/<span style=\"color: #008080; text-decoration-color: #008080; font-weight: bold\">10</span><span style=\"font-weight: bold\">]</span> Retrieving fixtures for ENG-Premier League <span style=\"color: #008080; text-decoration-color: #008080; font-weight: bold\">2425</span>               <a href=\"file://C:\\Users\\acer\\AppData\\Local\\Programs\\Python\\Python312\\Lib\\site-packages\\soccerdata\\whoscored.py\" target=\"_blank\"><span style=\"color: #7f7f7f; text-decoration-color: #7f7f7f\">whoscored.py</span></a><span style=\"color: #7f7f7f; text-decoration-color: #7f7f7f\">:</span><a href=\"file://C:\\Users\\acer\\AppData\\Local\\Programs\\Python\\Python312\\Lib\\site-packages\\soccerdata\\whoscored.py#400\" target=\"_blank\"><span style=\"color: #7f7f7f; text-decoration-color: #7f7f7f\">400</span></a>\n",
       "</pre>\n"
      ],
      "text/plain": [
       "\u001b[2;36m[09/02/24 21:50:27]\u001b[0m\u001b[2;36m \u001b[0m\u001b[34mINFO    \u001b[0m \u001b[1m[\u001b[0m\u001b[1;36m10\u001b[0m/\u001b[1;36m10\u001b[0m\u001b[1m]\u001b[0m Retrieving fixtures for ENG-Premier League \u001b[1;36m2425\u001b[0m               \u001b]8;id=379124;file://C:\\Users\\acer\\AppData\\Local\\Programs\\Python\\Python312\\Lib\\site-packages\\soccerdata\\whoscored.py\u001b\\\u001b[2mwhoscored.py\u001b[0m\u001b]8;;\u001b\\\u001b[2m:\u001b[0m\u001b]8;id=428476;file://C:\\Users\\acer\\AppData\\Local\\Programs\\Python\\Python312\\Lib\\site-packages\\soccerdata\\whoscored.py#400\u001b\\\u001b[2m400\u001b[0m\u001b]8;;\u001b\\\n"
      ]
     },
     "metadata": {},
     "output_type": "display_data"
    },
    {
     "name": "stderr",
     "output_type": "stream",
     "text": [
      "C:\\Users\\acer\\AppData\\Local\\Programs\\Python\\Python312\\Lib\\site-packages\\soccerdata\\whoscored.py:424: FutureWarning: The behavior of DataFrame concatenation with empty or all-NA entries is deprecated. In a future version, this will no longer exclude empty or all-NA columns when determining the result dtypes. To retain the old behavior, exclude the relevant entries before the concat operation.\n",
      "  pd.concat(all_schedules)\n"
     ]
    },
    {
     "data": {
      "text/html": [
       "<pre style=\"white-space:pre;overflow-x:auto;line-height:normal;font-family:Menlo,'DejaVu Sans Mono',consolas,'Courier New',monospace\"><span style=\"color: #7fbfbf; text-decoration-color: #7fbfbf\">[09/02/24 21:50:35] </span><span style=\"color: #000080; text-decoration-color: #000080\">INFO    </span> <span style=\"font-weight: bold\">[</span><span style=\"color: #008080; text-decoration-color: #008080; font-weight: bold\">1</span>/<span style=\"color: #008080; text-decoration-color: #008080; font-weight: bold\">1</span><span style=\"font-weight: bold\">]</span> Retrieving game with <span style=\"color: #808000; text-decoration-color: #808000\">id</span>=<span style=\"color: #008080; text-decoration-color: #008080; font-weight: bold\">1821073</span>                                 <a href=\"file://C:\\Users\\acer\\AppData\\Local\\Programs\\Python\\Python312\\Lib\\site-packages\\soccerdata\\whoscored.py\" target=\"_blank\"><span style=\"color: #7f7f7f; text-decoration-color: #7f7f7f\">whoscored.py</span></a><span style=\"color: #7f7f7f; text-decoration-color: #7f7f7f\">:</span><a href=\"file://C:\\Users\\acer\\AppData\\Local\\Programs\\Python\\Python312\\Lib\\site-packages\\soccerdata\\whoscored.py#692\" target=\"_blank\"><span style=\"color: #7f7f7f; text-decoration-color: #7f7f7f\">692</span></a>\n",
       "</pre>\n"
      ],
      "text/plain": [
       "\u001b[2;36m[09/02/24 21:50:35]\u001b[0m\u001b[2;36m \u001b[0m\u001b[34mINFO    \u001b[0m \u001b[1m[\u001b[0m\u001b[1;36m1\u001b[0m/\u001b[1;36m1\u001b[0m\u001b[1m]\u001b[0m Retrieving game with \u001b[33mid\u001b[0m=\u001b[1;36m1821073\u001b[0m                                 \u001b]8;id=961830;file://C:\\Users\\acer\\AppData\\Local\\Programs\\Python\\Python312\\Lib\\site-packages\\soccerdata\\whoscored.py\u001b\\\u001b[2mwhoscored.py\u001b[0m\u001b]8;;\u001b\\\u001b[2m:\u001b[0m\u001b]8;id=201786;file://C:\\Users\\acer\\AppData\\Local\\Programs\\Python\\Python312\\Lib\\site-packages\\soccerdata\\whoscored.py#692\u001b\\\u001b[2m692\u001b[0m\u001b]8;;\u001b\\\n"
      ]
     },
     "metadata": {},
     "output_type": "display_data"
    },
    {
     "data": {
      "text/html": [
       "<pre style=\"white-space:pre;overflow-x:auto;line-height:normal;font-family:Menlo,'DejaVu Sans Mono',consolas,'Courier New',monospace\"><span style=\"color: #7fbfbf; text-decoration-color: #7fbfbf\">[09/02/24 21:51:03] </span><span style=\"color: #000080; text-decoration-color: #000080\">INFO    </span> Retrieving calendar for ENG-Premier League <span style=\"color: #008080; text-decoration-color: #008080; font-weight: bold\">2425</span>                       <a href=\"file://C:\\Users\\acer\\AppData\\Local\\Programs\\Python\\Python312\\Lib\\site-packages\\soccerdata\\whoscored.py\" target=\"_blank\"><span style=\"color: #7f7f7f; text-decoration-color: #7f7f7f\">whoscored.py</span></a><span style=\"color: #7f7f7f; text-decoration-color: #7f7f7f\">:</span><a href=\"file://C:\\Users\\acer\\AppData\\Local\\Programs\\Python\\Python312\\Lib\\site-packages\\soccerdata\\whoscored.py#371\" target=\"_blank\"><span style=\"color: #7f7f7f; text-decoration-color: #7f7f7f\">371</span></a>\n",
       "</pre>\n"
      ],
      "text/plain": [
       "\u001b[2;36m[09/02/24 21:51:03]\u001b[0m\u001b[2;36m \u001b[0m\u001b[34mINFO    \u001b[0m Retrieving calendar for ENG-Premier League \u001b[1;36m2425\u001b[0m                       \u001b]8;id=364595;file://C:\\Users\\acer\\AppData\\Local\\Programs\\Python\\Python312\\Lib\\site-packages\\soccerdata\\whoscored.py\u001b\\\u001b[2mwhoscored.py\u001b[0m\u001b]8;;\u001b\\\u001b[2m:\u001b[0m\u001b]8;id=10635;file://C:\\Users\\acer\\AppData\\Local\\Programs\\Python\\Python312\\Lib\\site-packages\\soccerdata\\whoscored.py#371\u001b\\\u001b[2m371\u001b[0m\u001b]8;;\u001b\\\n"
      ]
     },
     "metadata": {},
     "output_type": "display_data"
    },
    {
     "data": {
      "text/html": [
       "<pre style=\"white-space:pre;overflow-x:auto;line-height:normal;font-family:Menlo,'DejaVu Sans Mono',consolas,'Courier New',monospace\"><span style=\"color: #7fbfbf; text-decoration-color: #7fbfbf\">[09/02/24 21:51:16] </span><span style=\"color: #000080; text-decoration-color: #000080\">INFO    </span> <span style=\"font-weight: bold\">[</span><span style=\"color: #008080; text-decoration-color: #008080; font-weight: bold\">1</span>/<span style=\"color: #008080; text-decoration-color: #008080; font-weight: bold\">10</span><span style=\"font-weight: bold\">]</span> Retrieving fixtures for ENG-Premier League <span style=\"color: #008080; text-decoration-color: #008080; font-weight: bold\">2425</span>                <a href=\"file://C:\\Users\\acer\\AppData\\Local\\Programs\\Python\\Python312\\Lib\\site-packages\\soccerdata\\whoscored.py\" target=\"_blank\"><span style=\"color: #7f7f7f; text-decoration-color: #7f7f7f\">whoscored.py</span></a><span style=\"color: #7f7f7f; text-decoration-color: #7f7f7f\">:</span><a href=\"file://C:\\Users\\acer\\AppData\\Local\\Programs\\Python\\Python312\\Lib\\site-packages\\soccerdata\\whoscored.py#400\" target=\"_blank\"><span style=\"color: #7f7f7f; text-decoration-color: #7f7f7f\">400</span></a>\n",
       "</pre>\n"
      ],
      "text/plain": [
       "\u001b[2;36m[09/02/24 21:51:16]\u001b[0m\u001b[2;36m \u001b[0m\u001b[34mINFO    \u001b[0m \u001b[1m[\u001b[0m\u001b[1;36m1\u001b[0m/\u001b[1;36m10\u001b[0m\u001b[1m]\u001b[0m Retrieving fixtures for ENG-Premier League \u001b[1;36m2425\u001b[0m                \u001b]8;id=64419;file://C:\\Users\\acer\\AppData\\Local\\Programs\\Python\\Python312\\Lib\\site-packages\\soccerdata\\whoscored.py\u001b\\\u001b[2mwhoscored.py\u001b[0m\u001b]8;;\u001b\\\u001b[2m:\u001b[0m\u001b]8;id=407078;file://C:\\Users\\acer\\AppData\\Local\\Programs\\Python\\Python312\\Lib\\site-packages\\soccerdata\\whoscored.py#400\u001b\\\u001b[2m400\u001b[0m\u001b]8;;\u001b\\\n"
      ]
     },
     "metadata": {},
     "output_type": "display_data"
    },
    {
     "data": {
      "text/html": [
       "<pre style=\"white-space:pre;overflow-x:auto;line-height:normal;font-family:Menlo,'DejaVu Sans Mono',consolas,'Courier New',monospace\"><span style=\"color: #7fbfbf; text-decoration-color: #7fbfbf\">[09/02/24 21:51:26] </span><span style=\"color: #000080; text-decoration-color: #000080\">INFO    </span> <span style=\"font-weight: bold\">[</span><span style=\"color: #008080; text-decoration-color: #008080; font-weight: bold\">2</span>/<span style=\"color: #008080; text-decoration-color: #008080; font-weight: bold\">10</span><span style=\"font-weight: bold\">]</span> Retrieving fixtures for ENG-Premier League <span style=\"color: #008080; text-decoration-color: #008080; font-weight: bold\">2425</span>                <a href=\"file://C:\\Users\\acer\\AppData\\Local\\Programs\\Python\\Python312\\Lib\\site-packages\\soccerdata\\whoscored.py\" target=\"_blank\"><span style=\"color: #7f7f7f; text-decoration-color: #7f7f7f\">whoscored.py</span></a><span style=\"color: #7f7f7f; text-decoration-color: #7f7f7f\">:</span><a href=\"file://C:\\Users\\acer\\AppData\\Local\\Programs\\Python\\Python312\\Lib\\site-packages\\soccerdata\\whoscored.py#400\" target=\"_blank\"><span style=\"color: #7f7f7f; text-decoration-color: #7f7f7f\">400</span></a>\n",
       "</pre>\n"
      ],
      "text/plain": [
       "\u001b[2;36m[09/02/24 21:51:26]\u001b[0m\u001b[2;36m \u001b[0m\u001b[34mINFO    \u001b[0m \u001b[1m[\u001b[0m\u001b[1;36m2\u001b[0m/\u001b[1;36m10\u001b[0m\u001b[1m]\u001b[0m Retrieving fixtures for ENG-Premier League \u001b[1;36m2425\u001b[0m                \u001b]8;id=614763;file://C:\\Users\\acer\\AppData\\Local\\Programs\\Python\\Python312\\Lib\\site-packages\\soccerdata\\whoscored.py\u001b\\\u001b[2mwhoscored.py\u001b[0m\u001b]8;;\u001b\\\u001b[2m:\u001b[0m\u001b]8;id=919646;file://C:\\Users\\acer\\AppData\\Local\\Programs\\Python\\Python312\\Lib\\site-packages\\soccerdata\\whoscored.py#400\u001b\\\u001b[2m400\u001b[0m\u001b]8;;\u001b\\\n"
      ]
     },
     "metadata": {},
     "output_type": "display_data"
    },
    {
     "data": {
      "text/html": [
       "<pre style=\"white-space:pre;overflow-x:auto;line-height:normal;font-family:Menlo,'DejaVu Sans Mono',consolas,'Courier New',monospace\"><span style=\"color: #7fbfbf; text-decoration-color: #7fbfbf\">[09/02/24 21:51:33] </span><span style=\"color: #000080; text-decoration-color: #000080\">INFO    </span> <span style=\"font-weight: bold\">[</span><span style=\"color: #008080; text-decoration-color: #008080; font-weight: bold\">3</span>/<span style=\"color: #008080; text-decoration-color: #008080; font-weight: bold\">10</span><span style=\"font-weight: bold\">]</span> Retrieving fixtures for ENG-Premier League <span style=\"color: #008080; text-decoration-color: #008080; font-weight: bold\">2425</span>                <a href=\"file://C:\\Users\\acer\\AppData\\Local\\Programs\\Python\\Python312\\Lib\\site-packages\\soccerdata\\whoscored.py\" target=\"_blank\"><span style=\"color: #7f7f7f; text-decoration-color: #7f7f7f\">whoscored.py</span></a><span style=\"color: #7f7f7f; text-decoration-color: #7f7f7f\">:</span><a href=\"file://C:\\Users\\acer\\AppData\\Local\\Programs\\Python\\Python312\\Lib\\site-packages\\soccerdata\\whoscored.py#400\" target=\"_blank\"><span style=\"color: #7f7f7f; text-decoration-color: #7f7f7f\">400</span></a>\n",
       "</pre>\n"
      ],
      "text/plain": [
       "\u001b[2;36m[09/02/24 21:51:33]\u001b[0m\u001b[2;36m \u001b[0m\u001b[34mINFO    \u001b[0m \u001b[1m[\u001b[0m\u001b[1;36m3\u001b[0m/\u001b[1;36m10\u001b[0m\u001b[1m]\u001b[0m Retrieving fixtures for ENG-Premier League \u001b[1;36m2425\u001b[0m                \u001b]8;id=867098;file://C:\\Users\\acer\\AppData\\Local\\Programs\\Python\\Python312\\Lib\\site-packages\\soccerdata\\whoscored.py\u001b\\\u001b[2mwhoscored.py\u001b[0m\u001b]8;;\u001b\\\u001b[2m:\u001b[0m\u001b]8;id=289943;file://C:\\Users\\acer\\AppData\\Local\\Programs\\Python\\Python312\\Lib\\site-packages\\soccerdata\\whoscored.py#400\u001b\\\u001b[2m400\u001b[0m\u001b]8;;\u001b\\\n"
      ]
     },
     "metadata": {},
     "output_type": "display_data"
    },
    {
     "data": {
      "text/html": [
       "<pre style=\"white-space:pre;overflow-x:auto;line-height:normal;font-family:Menlo,'DejaVu Sans Mono',consolas,'Courier New',monospace\"><span style=\"color: #7fbfbf; text-decoration-color: #7fbfbf\">[09/02/24 21:51:39] </span><span style=\"color: #000080; text-decoration-color: #000080\">INFO    </span> <span style=\"font-weight: bold\">[</span><span style=\"color: #008080; text-decoration-color: #008080; font-weight: bold\">4</span>/<span style=\"color: #008080; text-decoration-color: #008080; font-weight: bold\">10</span><span style=\"font-weight: bold\">]</span> Retrieving fixtures for ENG-Premier League <span style=\"color: #008080; text-decoration-color: #008080; font-weight: bold\">2425</span>                <a href=\"file://C:\\Users\\acer\\AppData\\Local\\Programs\\Python\\Python312\\Lib\\site-packages\\soccerdata\\whoscored.py\" target=\"_blank\"><span style=\"color: #7f7f7f; text-decoration-color: #7f7f7f\">whoscored.py</span></a><span style=\"color: #7f7f7f; text-decoration-color: #7f7f7f\">:</span><a href=\"file://C:\\Users\\acer\\AppData\\Local\\Programs\\Python\\Python312\\Lib\\site-packages\\soccerdata\\whoscored.py#400\" target=\"_blank\"><span style=\"color: #7f7f7f; text-decoration-color: #7f7f7f\">400</span></a>\n",
       "</pre>\n"
      ],
      "text/plain": [
       "\u001b[2;36m[09/02/24 21:51:39]\u001b[0m\u001b[2;36m \u001b[0m\u001b[34mINFO    \u001b[0m \u001b[1m[\u001b[0m\u001b[1;36m4\u001b[0m/\u001b[1;36m10\u001b[0m\u001b[1m]\u001b[0m Retrieving fixtures for ENG-Premier League \u001b[1;36m2425\u001b[0m                \u001b]8;id=821026;file://C:\\Users\\acer\\AppData\\Local\\Programs\\Python\\Python312\\Lib\\site-packages\\soccerdata\\whoscored.py\u001b\\\u001b[2mwhoscored.py\u001b[0m\u001b]8;;\u001b\\\u001b[2m:\u001b[0m\u001b]8;id=530375;file://C:\\Users\\acer\\AppData\\Local\\Programs\\Python\\Python312\\Lib\\site-packages\\soccerdata\\whoscored.py#400\u001b\\\u001b[2m400\u001b[0m\u001b]8;;\u001b\\\n"
      ]
     },
     "metadata": {},
     "output_type": "display_data"
    },
    {
     "data": {
      "text/html": [
       "<pre style=\"white-space:pre;overflow-x:auto;line-height:normal;font-family:Menlo,'DejaVu Sans Mono',consolas,'Courier New',monospace\"><span style=\"color: #7fbfbf; text-decoration-color: #7fbfbf\">[09/02/24 21:51:45] </span><span style=\"color: #000080; text-decoration-color: #000080\">INFO    </span> <span style=\"font-weight: bold\">[</span><span style=\"color: #008080; text-decoration-color: #008080; font-weight: bold\">5</span>/<span style=\"color: #008080; text-decoration-color: #008080; font-weight: bold\">10</span><span style=\"font-weight: bold\">]</span> Retrieving fixtures for ENG-Premier League <span style=\"color: #008080; text-decoration-color: #008080; font-weight: bold\">2425</span>                <a href=\"file://C:\\Users\\acer\\AppData\\Local\\Programs\\Python\\Python312\\Lib\\site-packages\\soccerdata\\whoscored.py\" target=\"_blank\"><span style=\"color: #7f7f7f; text-decoration-color: #7f7f7f\">whoscored.py</span></a><span style=\"color: #7f7f7f; text-decoration-color: #7f7f7f\">:</span><a href=\"file://C:\\Users\\acer\\AppData\\Local\\Programs\\Python\\Python312\\Lib\\site-packages\\soccerdata\\whoscored.py#400\" target=\"_blank\"><span style=\"color: #7f7f7f; text-decoration-color: #7f7f7f\">400</span></a>\n",
       "</pre>\n"
      ],
      "text/plain": [
       "\u001b[2;36m[09/02/24 21:51:45]\u001b[0m\u001b[2;36m \u001b[0m\u001b[34mINFO    \u001b[0m \u001b[1m[\u001b[0m\u001b[1;36m5\u001b[0m/\u001b[1;36m10\u001b[0m\u001b[1m]\u001b[0m Retrieving fixtures for ENG-Premier League \u001b[1;36m2425\u001b[0m                \u001b]8;id=595958;file://C:\\Users\\acer\\AppData\\Local\\Programs\\Python\\Python312\\Lib\\site-packages\\soccerdata\\whoscored.py\u001b\\\u001b[2mwhoscored.py\u001b[0m\u001b]8;;\u001b\\\u001b[2m:\u001b[0m\u001b]8;id=51798;file://C:\\Users\\acer\\AppData\\Local\\Programs\\Python\\Python312\\Lib\\site-packages\\soccerdata\\whoscored.py#400\u001b\\\u001b[2m400\u001b[0m\u001b]8;;\u001b\\\n"
      ]
     },
     "metadata": {},
     "output_type": "display_data"
    },
    {
     "data": {
      "text/html": [
       "<pre style=\"white-space:pre;overflow-x:auto;line-height:normal;font-family:Menlo,'DejaVu Sans Mono',consolas,'Courier New',monospace\"><span style=\"color: #7fbfbf; text-decoration-color: #7fbfbf\">[09/02/24 21:51:56] </span><span style=\"color: #000080; text-decoration-color: #000080\">INFO    </span> <span style=\"font-weight: bold\">[</span><span style=\"color: #008080; text-decoration-color: #008080; font-weight: bold\">6</span>/<span style=\"color: #008080; text-decoration-color: #008080; font-weight: bold\">10</span><span style=\"font-weight: bold\">]</span> Retrieving fixtures for ENG-Premier League <span style=\"color: #008080; text-decoration-color: #008080; font-weight: bold\">2425</span>                <a href=\"file://C:\\Users\\acer\\AppData\\Local\\Programs\\Python\\Python312\\Lib\\site-packages\\soccerdata\\whoscored.py\" target=\"_blank\"><span style=\"color: #7f7f7f; text-decoration-color: #7f7f7f\">whoscored.py</span></a><span style=\"color: #7f7f7f; text-decoration-color: #7f7f7f\">:</span><a href=\"file://C:\\Users\\acer\\AppData\\Local\\Programs\\Python\\Python312\\Lib\\site-packages\\soccerdata\\whoscored.py#400\" target=\"_blank\"><span style=\"color: #7f7f7f; text-decoration-color: #7f7f7f\">400</span></a>\n",
       "</pre>\n"
      ],
      "text/plain": [
       "\u001b[2;36m[09/02/24 21:51:56]\u001b[0m\u001b[2;36m \u001b[0m\u001b[34mINFO    \u001b[0m \u001b[1m[\u001b[0m\u001b[1;36m6\u001b[0m/\u001b[1;36m10\u001b[0m\u001b[1m]\u001b[0m Retrieving fixtures for ENG-Premier League \u001b[1;36m2425\u001b[0m                \u001b]8;id=113718;file://C:\\Users\\acer\\AppData\\Local\\Programs\\Python\\Python312\\Lib\\site-packages\\soccerdata\\whoscored.py\u001b\\\u001b[2mwhoscored.py\u001b[0m\u001b]8;;\u001b\\\u001b[2m:\u001b[0m\u001b]8;id=165354;file://C:\\Users\\acer\\AppData\\Local\\Programs\\Python\\Python312\\Lib\\site-packages\\soccerdata\\whoscored.py#400\u001b\\\u001b[2m400\u001b[0m\u001b]8;;\u001b\\\n"
      ]
     },
     "metadata": {},
     "output_type": "display_data"
    },
    {
     "data": {
      "text/html": [
       "<pre style=\"white-space:pre;overflow-x:auto;line-height:normal;font-family:Menlo,'DejaVu Sans Mono',consolas,'Courier New',monospace\"><span style=\"color: #7fbfbf; text-decoration-color: #7fbfbf\">[09/02/24 21:52:02] </span><span style=\"color: #000080; text-decoration-color: #000080\">INFO    </span> <span style=\"font-weight: bold\">[</span><span style=\"color: #008080; text-decoration-color: #008080; font-weight: bold\">7</span>/<span style=\"color: #008080; text-decoration-color: #008080; font-weight: bold\">10</span><span style=\"font-weight: bold\">]</span> Retrieving fixtures for ENG-Premier League <span style=\"color: #008080; text-decoration-color: #008080; font-weight: bold\">2425</span>                <a href=\"file://C:\\Users\\acer\\AppData\\Local\\Programs\\Python\\Python312\\Lib\\site-packages\\soccerdata\\whoscored.py\" target=\"_blank\"><span style=\"color: #7f7f7f; text-decoration-color: #7f7f7f\">whoscored.py</span></a><span style=\"color: #7f7f7f; text-decoration-color: #7f7f7f\">:</span><a href=\"file://C:\\Users\\acer\\AppData\\Local\\Programs\\Python\\Python312\\Lib\\site-packages\\soccerdata\\whoscored.py#400\" target=\"_blank\"><span style=\"color: #7f7f7f; text-decoration-color: #7f7f7f\">400</span></a>\n",
       "</pre>\n"
      ],
      "text/plain": [
       "\u001b[2;36m[09/02/24 21:52:02]\u001b[0m\u001b[2;36m \u001b[0m\u001b[34mINFO    \u001b[0m \u001b[1m[\u001b[0m\u001b[1;36m7\u001b[0m/\u001b[1;36m10\u001b[0m\u001b[1m]\u001b[0m Retrieving fixtures for ENG-Premier League \u001b[1;36m2425\u001b[0m                \u001b]8;id=286942;file://C:\\Users\\acer\\AppData\\Local\\Programs\\Python\\Python312\\Lib\\site-packages\\soccerdata\\whoscored.py\u001b\\\u001b[2mwhoscored.py\u001b[0m\u001b]8;;\u001b\\\u001b[2m:\u001b[0m\u001b]8;id=416029;file://C:\\Users\\acer\\AppData\\Local\\Programs\\Python\\Python312\\Lib\\site-packages\\soccerdata\\whoscored.py#400\u001b\\\u001b[2m400\u001b[0m\u001b]8;;\u001b\\\n"
      ]
     },
     "metadata": {},
     "output_type": "display_data"
    },
    {
     "data": {
      "text/html": [
       "<pre style=\"white-space:pre;overflow-x:auto;line-height:normal;font-family:Menlo,'DejaVu Sans Mono',consolas,'Courier New',monospace\"><span style=\"color: #7fbfbf; text-decoration-color: #7fbfbf\">[09/02/24 21:52:08] </span><span style=\"color: #000080; text-decoration-color: #000080\">INFO    </span> <span style=\"font-weight: bold\">[</span><span style=\"color: #008080; text-decoration-color: #008080; font-weight: bold\">8</span>/<span style=\"color: #008080; text-decoration-color: #008080; font-weight: bold\">10</span><span style=\"font-weight: bold\">]</span> Retrieving fixtures for ENG-Premier League <span style=\"color: #008080; text-decoration-color: #008080; font-weight: bold\">2425</span>                <a href=\"file://C:\\Users\\acer\\AppData\\Local\\Programs\\Python\\Python312\\Lib\\site-packages\\soccerdata\\whoscored.py\" target=\"_blank\"><span style=\"color: #7f7f7f; text-decoration-color: #7f7f7f\">whoscored.py</span></a><span style=\"color: #7f7f7f; text-decoration-color: #7f7f7f\">:</span><a href=\"file://C:\\Users\\acer\\AppData\\Local\\Programs\\Python\\Python312\\Lib\\site-packages\\soccerdata\\whoscored.py#400\" target=\"_blank\"><span style=\"color: #7f7f7f; text-decoration-color: #7f7f7f\">400</span></a>\n",
       "</pre>\n"
      ],
      "text/plain": [
       "\u001b[2;36m[09/02/24 21:52:08]\u001b[0m\u001b[2;36m \u001b[0m\u001b[34mINFO    \u001b[0m \u001b[1m[\u001b[0m\u001b[1;36m8\u001b[0m/\u001b[1;36m10\u001b[0m\u001b[1m]\u001b[0m Retrieving fixtures for ENG-Premier League \u001b[1;36m2425\u001b[0m                \u001b]8;id=579537;file://C:\\Users\\acer\\AppData\\Local\\Programs\\Python\\Python312\\Lib\\site-packages\\soccerdata\\whoscored.py\u001b\\\u001b[2mwhoscored.py\u001b[0m\u001b]8;;\u001b\\\u001b[2m:\u001b[0m\u001b]8;id=210712;file://C:\\Users\\acer\\AppData\\Local\\Programs\\Python\\Python312\\Lib\\site-packages\\soccerdata\\whoscored.py#400\u001b\\\u001b[2m400\u001b[0m\u001b]8;;\u001b\\\n"
      ]
     },
     "metadata": {},
     "output_type": "display_data"
    },
    {
     "data": {
      "text/html": [
       "<pre style=\"white-space:pre;overflow-x:auto;line-height:normal;font-family:Menlo,'DejaVu Sans Mono',consolas,'Courier New',monospace\"><span style=\"color: #7fbfbf; text-decoration-color: #7fbfbf\">[09/02/24 21:52:16] </span><span style=\"color: #000080; text-decoration-color: #000080\">INFO    </span> <span style=\"font-weight: bold\">[</span><span style=\"color: #008080; text-decoration-color: #008080; font-weight: bold\">9</span>/<span style=\"color: #008080; text-decoration-color: #008080; font-weight: bold\">10</span><span style=\"font-weight: bold\">]</span> Retrieving fixtures for ENG-Premier League <span style=\"color: #008080; text-decoration-color: #008080; font-weight: bold\">2425</span>                <a href=\"file://C:\\Users\\acer\\AppData\\Local\\Programs\\Python\\Python312\\Lib\\site-packages\\soccerdata\\whoscored.py\" target=\"_blank\"><span style=\"color: #7f7f7f; text-decoration-color: #7f7f7f\">whoscored.py</span></a><span style=\"color: #7f7f7f; text-decoration-color: #7f7f7f\">:</span><a href=\"file://C:\\Users\\acer\\AppData\\Local\\Programs\\Python\\Python312\\Lib\\site-packages\\soccerdata\\whoscored.py#400\" target=\"_blank\"><span style=\"color: #7f7f7f; text-decoration-color: #7f7f7f\">400</span></a>\n",
       "</pre>\n"
      ],
      "text/plain": [
       "\u001b[2;36m[09/02/24 21:52:16]\u001b[0m\u001b[2;36m \u001b[0m\u001b[34mINFO    \u001b[0m \u001b[1m[\u001b[0m\u001b[1;36m9\u001b[0m/\u001b[1;36m10\u001b[0m\u001b[1m]\u001b[0m Retrieving fixtures for ENG-Premier League \u001b[1;36m2425\u001b[0m                \u001b]8;id=977618;file://C:\\Users\\acer\\AppData\\Local\\Programs\\Python\\Python312\\Lib\\site-packages\\soccerdata\\whoscored.py\u001b\\\u001b[2mwhoscored.py\u001b[0m\u001b]8;;\u001b\\\u001b[2m:\u001b[0m\u001b]8;id=808325;file://C:\\Users\\acer\\AppData\\Local\\Programs\\Python\\Python312\\Lib\\site-packages\\soccerdata\\whoscored.py#400\u001b\\\u001b[2m400\u001b[0m\u001b]8;;\u001b\\\n"
      ]
     },
     "metadata": {},
     "output_type": "display_data"
    },
    {
     "data": {
      "text/html": [
       "<pre style=\"white-space:pre;overflow-x:auto;line-height:normal;font-family:Menlo,'DejaVu Sans Mono',consolas,'Courier New',monospace\"><span style=\"color: #7fbfbf; text-decoration-color: #7fbfbf\">[09/02/24 21:52:25] </span><span style=\"color: #000080; text-decoration-color: #000080\">INFO    </span> <span style=\"font-weight: bold\">[</span><span style=\"color: #008080; text-decoration-color: #008080; font-weight: bold\">10</span>/<span style=\"color: #008080; text-decoration-color: #008080; font-weight: bold\">10</span><span style=\"font-weight: bold\">]</span> Retrieving fixtures for ENG-Premier League <span style=\"color: #008080; text-decoration-color: #008080; font-weight: bold\">2425</span>               <a href=\"file://C:\\Users\\acer\\AppData\\Local\\Programs\\Python\\Python312\\Lib\\site-packages\\soccerdata\\whoscored.py\" target=\"_blank\"><span style=\"color: #7f7f7f; text-decoration-color: #7f7f7f\">whoscored.py</span></a><span style=\"color: #7f7f7f; text-decoration-color: #7f7f7f\">:</span><a href=\"file://C:\\Users\\acer\\AppData\\Local\\Programs\\Python\\Python312\\Lib\\site-packages\\soccerdata\\whoscored.py#400\" target=\"_blank\"><span style=\"color: #7f7f7f; text-decoration-color: #7f7f7f\">400</span></a>\n",
       "</pre>\n"
      ],
      "text/plain": [
       "\u001b[2;36m[09/02/24 21:52:25]\u001b[0m\u001b[2;36m \u001b[0m\u001b[34mINFO    \u001b[0m \u001b[1m[\u001b[0m\u001b[1;36m10\u001b[0m/\u001b[1;36m10\u001b[0m\u001b[1m]\u001b[0m Retrieving fixtures for ENG-Premier League \u001b[1;36m2425\u001b[0m               \u001b]8;id=425622;file://C:\\Users\\acer\\AppData\\Local\\Programs\\Python\\Python312\\Lib\\site-packages\\soccerdata\\whoscored.py\u001b\\\u001b[2mwhoscored.py\u001b[0m\u001b]8;;\u001b\\\u001b[2m:\u001b[0m\u001b]8;id=696312;file://C:\\Users\\acer\\AppData\\Local\\Programs\\Python\\Python312\\Lib\\site-packages\\soccerdata\\whoscored.py#400\u001b\\\u001b[2m400\u001b[0m\u001b]8;;\u001b\\\n"
      ]
     },
     "metadata": {},
     "output_type": "display_data"
    },
    {
     "name": "stderr",
     "output_type": "stream",
     "text": [
      "C:\\Users\\acer\\AppData\\Local\\Programs\\Python\\Python312\\Lib\\site-packages\\soccerdata\\whoscored.py:424: FutureWarning: The behavior of DataFrame concatenation with empty or all-NA entries is deprecated. In a future version, this will no longer exclude empty or all-NA columns when determining the result dtypes. To retain the old behavior, exclude the relevant entries before the concat operation.\n",
      "  pd.concat(all_schedules)\n"
     ]
    },
    {
     "data": {
      "text/html": [
       "<pre style=\"white-space:pre;overflow-x:auto;line-height:normal;font-family:Menlo,'DejaVu Sans Mono',consolas,'Courier New',monospace\"><span style=\"color: #7fbfbf; text-decoration-color: #7fbfbf\">[09/02/24 21:52:34] </span><span style=\"color: #000080; text-decoration-color: #000080\">INFO    </span> <span style=\"font-weight: bold\">[</span><span style=\"color: #008080; text-decoration-color: #008080; font-weight: bold\">1</span>/<span style=\"color: #008080; text-decoration-color: #008080; font-weight: bold\">1</span><span style=\"font-weight: bold\">]</span> Retrieving game with <span style=\"color: #808000; text-decoration-color: #808000\">id</span>=<span style=\"color: #008080; text-decoration-color: #008080; font-weight: bold\">1821074</span>                                 <a href=\"file://C:\\Users\\acer\\AppData\\Local\\Programs\\Python\\Python312\\Lib\\site-packages\\soccerdata\\whoscored.py\" target=\"_blank\"><span style=\"color: #7f7f7f; text-decoration-color: #7f7f7f\">whoscored.py</span></a><span style=\"color: #7f7f7f; text-decoration-color: #7f7f7f\">:</span><a href=\"file://C:\\Users\\acer\\AppData\\Local\\Programs\\Python\\Python312\\Lib\\site-packages\\soccerdata\\whoscored.py#692\" target=\"_blank\"><span style=\"color: #7f7f7f; text-decoration-color: #7f7f7f\">692</span></a>\n",
       "</pre>\n"
      ],
      "text/plain": [
       "\u001b[2;36m[09/02/24 21:52:34]\u001b[0m\u001b[2;36m \u001b[0m\u001b[34mINFO    \u001b[0m \u001b[1m[\u001b[0m\u001b[1;36m1\u001b[0m/\u001b[1;36m1\u001b[0m\u001b[1m]\u001b[0m Retrieving game with \u001b[33mid\u001b[0m=\u001b[1;36m1821074\u001b[0m                                 \u001b]8;id=361170;file://C:\\Users\\acer\\AppData\\Local\\Programs\\Python\\Python312\\Lib\\site-packages\\soccerdata\\whoscored.py\u001b\\\u001b[2mwhoscored.py\u001b[0m\u001b]8;;\u001b\\\u001b[2m:\u001b[0m\u001b]8;id=529955;file://C:\\Users\\acer\\AppData\\Local\\Programs\\Python\\Python312\\Lib\\site-packages\\soccerdata\\whoscored.py#692\u001b\\\u001b[2m692\u001b[0m\u001b]8;;\u001b\\\n"
      ]
     },
     "metadata": {},
     "output_type": "display_data"
    },
    {
     "data": {
      "text/html": [
       "<pre style=\"white-space:pre;overflow-x:auto;line-height:normal;font-family:Menlo,'DejaVu Sans Mono',consolas,'Courier New',monospace\"><span style=\"color: #7fbfbf; text-decoration-color: #7fbfbf\">[09/02/24 21:53:02] </span><span style=\"color: #000080; text-decoration-color: #000080\">INFO    </span> Retrieving calendar for ENG-Premier League <span style=\"color: #008080; text-decoration-color: #008080; font-weight: bold\">2425</span>                       <a href=\"file://C:\\Users\\acer\\AppData\\Local\\Programs\\Python\\Python312\\Lib\\site-packages\\soccerdata\\whoscored.py\" target=\"_blank\"><span style=\"color: #7f7f7f; text-decoration-color: #7f7f7f\">whoscored.py</span></a><span style=\"color: #7f7f7f; text-decoration-color: #7f7f7f\">:</span><a href=\"file://C:\\Users\\acer\\AppData\\Local\\Programs\\Python\\Python312\\Lib\\site-packages\\soccerdata\\whoscored.py#371\" target=\"_blank\"><span style=\"color: #7f7f7f; text-decoration-color: #7f7f7f\">371</span></a>\n",
       "</pre>\n"
      ],
      "text/plain": [
       "\u001b[2;36m[09/02/24 21:53:02]\u001b[0m\u001b[2;36m \u001b[0m\u001b[34mINFO    \u001b[0m Retrieving calendar for ENG-Premier League \u001b[1;36m2425\u001b[0m                       \u001b]8;id=293471;file://C:\\Users\\acer\\AppData\\Local\\Programs\\Python\\Python312\\Lib\\site-packages\\soccerdata\\whoscored.py\u001b\\\u001b[2mwhoscored.py\u001b[0m\u001b]8;;\u001b\\\u001b[2m:\u001b[0m\u001b]8;id=825928;file://C:\\Users\\acer\\AppData\\Local\\Programs\\Python\\Python312\\Lib\\site-packages\\soccerdata\\whoscored.py#371\u001b\\\u001b[2m371\u001b[0m\u001b]8;;\u001b\\\n"
      ]
     },
     "metadata": {},
     "output_type": "display_data"
    },
    {
     "data": {
      "text/html": [
       "<pre style=\"white-space:pre;overflow-x:auto;line-height:normal;font-family:Menlo,'DejaVu Sans Mono',consolas,'Courier New',monospace\"><span style=\"color: #7fbfbf; text-decoration-color: #7fbfbf\">[09/02/24 21:53:17] </span><span style=\"color: #000080; text-decoration-color: #000080\">INFO    </span> <span style=\"font-weight: bold\">[</span><span style=\"color: #008080; text-decoration-color: #008080; font-weight: bold\">1</span>/<span style=\"color: #008080; text-decoration-color: #008080; font-weight: bold\">10</span><span style=\"font-weight: bold\">]</span> Retrieving fixtures for ENG-Premier League <span style=\"color: #008080; text-decoration-color: #008080; font-weight: bold\">2425</span>                <a href=\"file://C:\\Users\\acer\\AppData\\Local\\Programs\\Python\\Python312\\Lib\\site-packages\\soccerdata\\whoscored.py\" target=\"_blank\"><span style=\"color: #7f7f7f; text-decoration-color: #7f7f7f\">whoscored.py</span></a><span style=\"color: #7f7f7f; text-decoration-color: #7f7f7f\">:</span><a href=\"file://C:\\Users\\acer\\AppData\\Local\\Programs\\Python\\Python312\\Lib\\site-packages\\soccerdata\\whoscored.py#400\" target=\"_blank\"><span style=\"color: #7f7f7f; text-decoration-color: #7f7f7f\">400</span></a>\n",
       "</pre>\n"
      ],
      "text/plain": [
       "\u001b[2;36m[09/02/24 21:53:17]\u001b[0m\u001b[2;36m \u001b[0m\u001b[34mINFO    \u001b[0m \u001b[1m[\u001b[0m\u001b[1;36m1\u001b[0m/\u001b[1;36m10\u001b[0m\u001b[1m]\u001b[0m Retrieving fixtures for ENG-Premier League \u001b[1;36m2425\u001b[0m                \u001b]8;id=489081;file://C:\\Users\\acer\\AppData\\Local\\Programs\\Python\\Python312\\Lib\\site-packages\\soccerdata\\whoscored.py\u001b\\\u001b[2mwhoscored.py\u001b[0m\u001b]8;;\u001b\\\u001b[2m:\u001b[0m\u001b]8;id=883191;file://C:\\Users\\acer\\AppData\\Local\\Programs\\Python\\Python312\\Lib\\site-packages\\soccerdata\\whoscored.py#400\u001b\\\u001b[2m400\u001b[0m\u001b]8;;\u001b\\\n"
      ]
     },
     "metadata": {},
     "output_type": "display_data"
    },
    {
     "data": {
      "text/html": [
       "<pre style=\"white-space:pre;overflow-x:auto;line-height:normal;font-family:Menlo,'DejaVu Sans Mono',consolas,'Courier New',monospace\"><span style=\"color: #7fbfbf; text-decoration-color: #7fbfbf\">[09/02/24 21:53:27] </span><span style=\"color: #000080; text-decoration-color: #000080\">INFO    </span> <span style=\"font-weight: bold\">[</span><span style=\"color: #008080; text-decoration-color: #008080; font-weight: bold\">2</span>/<span style=\"color: #008080; text-decoration-color: #008080; font-weight: bold\">10</span><span style=\"font-weight: bold\">]</span> Retrieving fixtures for ENG-Premier League <span style=\"color: #008080; text-decoration-color: #008080; font-weight: bold\">2425</span>                <a href=\"file://C:\\Users\\acer\\AppData\\Local\\Programs\\Python\\Python312\\Lib\\site-packages\\soccerdata\\whoscored.py\" target=\"_blank\"><span style=\"color: #7f7f7f; text-decoration-color: #7f7f7f\">whoscored.py</span></a><span style=\"color: #7f7f7f; text-decoration-color: #7f7f7f\">:</span><a href=\"file://C:\\Users\\acer\\AppData\\Local\\Programs\\Python\\Python312\\Lib\\site-packages\\soccerdata\\whoscored.py#400\" target=\"_blank\"><span style=\"color: #7f7f7f; text-decoration-color: #7f7f7f\">400</span></a>\n",
       "</pre>\n"
      ],
      "text/plain": [
       "\u001b[2;36m[09/02/24 21:53:27]\u001b[0m\u001b[2;36m \u001b[0m\u001b[34mINFO    \u001b[0m \u001b[1m[\u001b[0m\u001b[1;36m2\u001b[0m/\u001b[1;36m10\u001b[0m\u001b[1m]\u001b[0m Retrieving fixtures for ENG-Premier League \u001b[1;36m2425\u001b[0m                \u001b]8;id=866303;file://C:\\Users\\acer\\AppData\\Local\\Programs\\Python\\Python312\\Lib\\site-packages\\soccerdata\\whoscored.py\u001b\\\u001b[2mwhoscored.py\u001b[0m\u001b]8;;\u001b\\\u001b[2m:\u001b[0m\u001b]8;id=438449;file://C:\\Users\\acer\\AppData\\Local\\Programs\\Python\\Python312\\Lib\\site-packages\\soccerdata\\whoscored.py#400\u001b\\\u001b[2m400\u001b[0m\u001b]8;;\u001b\\\n"
      ]
     },
     "metadata": {},
     "output_type": "display_data"
    },
    {
     "data": {
      "text/html": [
       "<pre style=\"white-space:pre;overflow-x:auto;line-height:normal;font-family:Menlo,'DejaVu Sans Mono',consolas,'Courier New',monospace\"><span style=\"color: #7fbfbf; text-decoration-color: #7fbfbf\">[09/02/24 21:53:37] </span><span style=\"color: #000080; text-decoration-color: #000080\">INFO    </span> <span style=\"font-weight: bold\">[</span><span style=\"color: #008080; text-decoration-color: #008080; font-weight: bold\">3</span>/<span style=\"color: #008080; text-decoration-color: #008080; font-weight: bold\">10</span><span style=\"font-weight: bold\">]</span> Retrieving fixtures for ENG-Premier League <span style=\"color: #008080; text-decoration-color: #008080; font-weight: bold\">2425</span>                <a href=\"file://C:\\Users\\acer\\AppData\\Local\\Programs\\Python\\Python312\\Lib\\site-packages\\soccerdata\\whoscored.py\" target=\"_blank\"><span style=\"color: #7f7f7f; text-decoration-color: #7f7f7f\">whoscored.py</span></a><span style=\"color: #7f7f7f; text-decoration-color: #7f7f7f\">:</span><a href=\"file://C:\\Users\\acer\\AppData\\Local\\Programs\\Python\\Python312\\Lib\\site-packages\\soccerdata\\whoscored.py#400\" target=\"_blank\"><span style=\"color: #7f7f7f; text-decoration-color: #7f7f7f\">400</span></a>\n",
       "</pre>\n"
      ],
      "text/plain": [
       "\u001b[2;36m[09/02/24 21:53:37]\u001b[0m\u001b[2;36m \u001b[0m\u001b[34mINFO    \u001b[0m \u001b[1m[\u001b[0m\u001b[1;36m3\u001b[0m/\u001b[1;36m10\u001b[0m\u001b[1m]\u001b[0m Retrieving fixtures for ENG-Premier League \u001b[1;36m2425\u001b[0m                \u001b]8;id=223006;file://C:\\Users\\acer\\AppData\\Local\\Programs\\Python\\Python312\\Lib\\site-packages\\soccerdata\\whoscored.py\u001b\\\u001b[2mwhoscored.py\u001b[0m\u001b]8;;\u001b\\\u001b[2m:\u001b[0m\u001b]8;id=508574;file://C:\\Users\\acer\\AppData\\Local\\Programs\\Python\\Python312\\Lib\\site-packages\\soccerdata\\whoscored.py#400\u001b\\\u001b[2m400\u001b[0m\u001b]8;;\u001b\\\n"
      ]
     },
     "metadata": {},
     "output_type": "display_data"
    },
    {
     "data": {
      "text/html": [
       "<pre style=\"white-space:pre;overflow-x:auto;line-height:normal;font-family:Menlo,'DejaVu Sans Mono',consolas,'Courier New',monospace\"><span style=\"color: #7fbfbf; text-decoration-color: #7fbfbf\">[09/02/24 21:53:46] </span><span style=\"color: #000080; text-decoration-color: #000080\">INFO    </span> <span style=\"font-weight: bold\">[</span><span style=\"color: #008080; text-decoration-color: #008080; font-weight: bold\">4</span>/<span style=\"color: #008080; text-decoration-color: #008080; font-weight: bold\">10</span><span style=\"font-weight: bold\">]</span> Retrieving fixtures for ENG-Premier League <span style=\"color: #008080; text-decoration-color: #008080; font-weight: bold\">2425</span>                <a href=\"file://C:\\Users\\acer\\AppData\\Local\\Programs\\Python\\Python312\\Lib\\site-packages\\soccerdata\\whoscored.py\" target=\"_blank\"><span style=\"color: #7f7f7f; text-decoration-color: #7f7f7f\">whoscored.py</span></a><span style=\"color: #7f7f7f; text-decoration-color: #7f7f7f\">:</span><a href=\"file://C:\\Users\\acer\\AppData\\Local\\Programs\\Python\\Python312\\Lib\\site-packages\\soccerdata\\whoscored.py#400\" target=\"_blank\"><span style=\"color: #7f7f7f; text-decoration-color: #7f7f7f\">400</span></a>\n",
       "</pre>\n"
      ],
      "text/plain": [
       "\u001b[2;36m[09/02/24 21:53:46]\u001b[0m\u001b[2;36m \u001b[0m\u001b[34mINFO    \u001b[0m \u001b[1m[\u001b[0m\u001b[1;36m4\u001b[0m/\u001b[1;36m10\u001b[0m\u001b[1m]\u001b[0m Retrieving fixtures for ENG-Premier League \u001b[1;36m2425\u001b[0m                \u001b]8;id=725492;file://C:\\Users\\acer\\AppData\\Local\\Programs\\Python\\Python312\\Lib\\site-packages\\soccerdata\\whoscored.py\u001b\\\u001b[2mwhoscored.py\u001b[0m\u001b]8;;\u001b\\\u001b[2m:\u001b[0m\u001b]8;id=524812;file://C:\\Users\\acer\\AppData\\Local\\Programs\\Python\\Python312\\Lib\\site-packages\\soccerdata\\whoscored.py#400\u001b\\\u001b[2m400\u001b[0m\u001b]8;;\u001b\\\n"
      ]
     },
     "metadata": {},
     "output_type": "display_data"
    },
    {
     "data": {
      "text/html": [
       "<pre style=\"white-space:pre;overflow-x:auto;line-height:normal;font-family:Menlo,'DejaVu Sans Mono',consolas,'Courier New',monospace\"><span style=\"color: #7fbfbf; text-decoration-color: #7fbfbf\">[09/02/24 21:53:54] </span><span style=\"color: #000080; text-decoration-color: #000080\">INFO    </span> <span style=\"font-weight: bold\">[</span><span style=\"color: #008080; text-decoration-color: #008080; font-weight: bold\">5</span>/<span style=\"color: #008080; text-decoration-color: #008080; font-weight: bold\">10</span><span style=\"font-weight: bold\">]</span> Retrieving fixtures for ENG-Premier League <span style=\"color: #008080; text-decoration-color: #008080; font-weight: bold\">2425</span>                <a href=\"file://C:\\Users\\acer\\AppData\\Local\\Programs\\Python\\Python312\\Lib\\site-packages\\soccerdata\\whoscored.py\" target=\"_blank\"><span style=\"color: #7f7f7f; text-decoration-color: #7f7f7f\">whoscored.py</span></a><span style=\"color: #7f7f7f; text-decoration-color: #7f7f7f\">:</span><a href=\"file://C:\\Users\\acer\\AppData\\Local\\Programs\\Python\\Python312\\Lib\\site-packages\\soccerdata\\whoscored.py#400\" target=\"_blank\"><span style=\"color: #7f7f7f; text-decoration-color: #7f7f7f\">400</span></a>\n",
       "</pre>\n"
      ],
      "text/plain": [
       "\u001b[2;36m[09/02/24 21:53:54]\u001b[0m\u001b[2;36m \u001b[0m\u001b[34mINFO    \u001b[0m \u001b[1m[\u001b[0m\u001b[1;36m5\u001b[0m/\u001b[1;36m10\u001b[0m\u001b[1m]\u001b[0m Retrieving fixtures for ENG-Premier League \u001b[1;36m2425\u001b[0m                \u001b]8;id=867363;file://C:\\Users\\acer\\AppData\\Local\\Programs\\Python\\Python312\\Lib\\site-packages\\soccerdata\\whoscored.py\u001b\\\u001b[2mwhoscored.py\u001b[0m\u001b]8;;\u001b\\\u001b[2m:\u001b[0m\u001b]8;id=42876;file://C:\\Users\\acer\\AppData\\Local\\Programs\\Python\\Python312\\Lib\\site-packages\\soccerdata\\whoscored.py#400\u001b\\\u001b[2m400\u001b[0m\u001b]8;;\u001b\\\n"
      ]
     },
     "metadata": {},
     "output_type": "display_data"
    },
    {
     "data": {
      "text/html": [
       "<pre style=\"white-space:pre;overflow-x:auto;line-height:normal;font-family:Menlo,'DejaVu Sans Mono',consolas,'Courier New',monospace\"><span style=\"color: #7fbfbf; text-decoration-color: #7fbfbf\">[09/02/24 21:54:01] </span><span style=\"color: #000080; text-decoration-color: #000080\">INFO    </span> <span style=\"font-weight: bold\">[</span><span style=\"color: #008080; text-decoration-color: #008080; font-weight: bold\">6</span>/<span style=\"color: #008080; text-decoration-color: #008080; font-weight: bold\">10</span><span style=\"font-weight: bold\">]</span> Retrieving fixtures for ENG-Premier League <span style=\"color: #008080; text-decoration-color: #008080; font-weight: bold\">2425</span>                <a href=\"file://C:\\Users\\acer\\AppData\\Local\\Programs\\Python\\Python312\\Lib\\site-packages\\soccerdata\\whoscored.py\" target=\"_blank\"><span style=\"color: #7f7f7f; text-decoration-color: #7f7f7f\">whoscored.py</span></a><span style=\"color: #7f7f7f; text-decoration-color: #7f7f7f\">:</span><a href=\"file://C:\\Users\\acer\\AppData\\Local\\Programs\\Python\\Python312\\Lib\\site-packages\\soccerdata\\whoscored.py#400\" target=\"_blank\"><span style=\"color: #7f7f7f; text-decoration-color: #7f7f7f\">400</span></a>\n",
       "</pre>\n"
      ],
      "text/plain": [
       "\u001b[2;36m[09/02/24 21:54:01]\u001b[0m\u001b[2;36m \u001b[0m\u001b[34mINFO    \u001b[0m \u001b[1m[\u001b[0m\u001b[1;36m6\u001b[0m/\u001b[1;36m10\u001b[0m\u001b[1m]\u001b[0m Retrieving fixtures for ENG-Premier League \u001b[1;36m2425\u001b[0m                \u001b]8;id=541445;file://C:\\Users\\acer\\AppData\\Local\\Programs\\Python\\Python312\\Lib\\site-packages\\soccerdata\\whoscored.py\u001b\\\u001b[2mwhoscored.py\u001b[0m\u001b]8;;\u001b\\\u001b[2m:\u001b[0m\u001b]8;id=360786;file://C:\\Users\\acer\\AppData\\Local\\Programs\\Python\\Python312\\Lib\\site-packages\\soccerdata\\whoscored.py#400\u001b\\\u001b[2m400\u001b[0m\u001b]8;;\u001b\\\n"
      ]
     },
     "metadata": {},
     "output_type": "display_data"
    },
    {
     "data": {
      "text/html": [
       "<pre style=\"white-space:pre;overflow-x:auto;line-height:normal;font-family:Menlo,'DejaVu Sans Mono',consolas,'Courier New',monospace\"><span style=\"color: #7fbfbf; text-decoration-color: #7fbfbf\">[09/02/24 21:54:09] </span><span style=\"color: #000080; text-decoration-color: #000080\">INFO    </span> <span style=\"font-weight: bold\">[</span><span style=\"color: #008080; text-decoration-color: #008080; font-weight: bold\">7</span>/<span style=\"color: #008080; text-decoration-color: #008080; font-weight: bold\">10</span><span style=\"font-weight: bold\">]</span> Retrieving fixtures for ENG-Premier League <span style=\"color: #008080; text-decoration-color: #008080; font-weight: bold\">2425</span>                <a href=\"file://C:\\Users\\acer\\AppData\\Local\\Programs\\Python\\Python312\\Lib\\site-packages\\soccerdata\\whoscored.py\" target=\"_blank\"><span style=\"color: #7f7f7f; text-decoration-color: #7f7f7f\">whoscored.py</span></a><span style=\"color: #7f7f7f; text-decoration-color: #7f7f7f\">:</span><a href=\"file://C:\\Users\\acer\\AppData\\Local\\Programs\\Python\\Python312\\Lib\\site-packages\\soccerdata\\whoscored.py#400\" target=\"_blank\"><span style=\"color: #7f7f7f; text-decoration-color: #7f7f7f\">400</span></a>\n",
       "</pre>\n"
      ],
      "text/plain": [
       "\u001b[2;36m[09/02/24 21:54:09]\u001b[0m\u001b[2;36m \u001b[0m\u001b[34mINFO    \u001b[0m \u001b[1m[\u001b[0m\u001b[1;36m7\u001b[0m/\u001b[1;36m10\u001b[0m\u001b[1m]\u001b[0m Retrieving fixtures for ENG-Premier League \u001b[1;36m2425\u001b[0m                \u001b]8;id=761040;file://C:\\Users\\acer\\AppData\\Local\\Programs\\Python\\Python312\\Lib\\site-packages\\soccerdata\\whoscored.py\u001b\\\u001b[2mwhoscored.py\u001b[0m\u001b]8;;\u001b\\\u001b[2m:\u001b[0m\u001b]8;id=347316;file://C:\\Users\\acer\\AppData\\Local\\Programs\\Python\\Python312\\Lib\\site-packages\\soccerdata\\whoscored.py#400\u001b\\\u001b[2m400\u001b[0m\u001b]8;;\u001b\\\n"
      ]
     },
     "metadata": {},
     "output_type": "display_data"
    },
    {
     "data": {
      "text/html": [
       "<pre style=\"white-space:pre;overflow-x:auto;line-height:normal;font-family:Menlo,'DejaVu Sans Mono',consolas,'Courier New',monospace\"><span style=\"color: #7fbfbf; text-decoration-color: #7fbfbf\">[09/02/24 21:54:18] </span><span style=\"color: #000080; text-decoration-color: #000080\">INFO    </span> <span style=\"font-weight: bold\">[</span><span style=\"color: #008080; text-decoration-color: #008080; font-weight: bold\">8</span>/<span style=\"color: #008080; text-decoration-color: #008080; font-weight: bold\">10</span><span style=\"font-weight: bold\">]</span> Retrieving fixtures for ENG-Premier League <span style=\"color: #008080; text-decoration-color: #008080; font-weight: bold\">2425</span>                <a href=\"file://C:\\Users\\acer\\AppData\\Local\\Programs\\Python\\Python312\\Lib\\site-packages\\soccerdata\\whoscored.py\" target=\"_blank\"><span style=\"color: #7f7f7f; text-decoration-color: #7f7f7f\">whoscored.py</span></a><span style=\"color: #7f7f7f; text-decoration-color: #7f7f7f\">:</span><a href=\"file://C:\\Users\\acer\\AppData\\Local\\Programs\\Python\\Python312\\Lib\\site-packages\\soccerdata\\whoscored.py#400\" target=\"_blank\"><span style=\"color: #7f7f7f; text-decoration-color: #7f7f7f\">400</span></a>\n",
       "</pre>\n"
      ],
      "text/plain": [
       "\u001b[2;36m[09/02/24 21:54:18]\u001b[0m\u001b[2;36m \u001b[0m\u001b[34mINFO    \u001b[0m \u001b[1m[\u001b[0m\u001b[1;36m8\u001b[0m/\u001b[1;36m10\u001b[0m\u001b[1m]\u001b[0m Retrieving fixtures for ENG-Premier League \u001b[1;36m2425\u001b[0m                \u001b]8;id=175977;file://C:\\Users\\acer\\AppData\\Local\\Programs\\Python\\Python312\\Lib\\site-packages\\soccerdata\\whoscored.py\u001b\\\u001b[2mwhoscored.py\u001b[0m\u001b]8;;\u001b\\\u001b[2m:\u001b[0m\u001b]8;id=160519;file://C:\\Users\\acer\\AppData\\Local\\Programs\\Python\\Python312\\Lib\\site-packages\\soccerdata\\whoscored.py#400\u001b\\\u001b[2m400\u001b[0m\u001b]8;;\u001b\\\n"
      ]
     },
     "metadata": {},
     "output_type": "display_data"
    },
    {
     "data": {
      "text/html": [
       "<pre style=\"white-space:pre;overflow-x:auto;line-height:normal;font-family:Menlo,'DejaVu Sans Mono',consolas,'Courier New',monospace\"><span style=\"color: #7fbfbf; text-decoration-color: #7fbfbf\">[09/02/24 21:54:28] </span><span style=\"color: #000080; text-decoration-color: #000080\">INFO    </span> <span style=\"font-weight: bold\">[</span><span style=\"color: #008080; text-decoration-color: #008080; font-weight: bold\">9</span>/<span style=\"color: #008080; text-decoration-color: #008080; font-weight: bold\">10</span><span style=\"font-weight: bold\">]</span> Retrieving fixtures for ENG-Premier League <span style=\"color: #008080; text-decoration-color: #008080; font-weight: bold\">2425</span>                <a href=\"file://C:\\Users\\acer\\AppData\\Local\\Programs\\Python\\Python312\\Lib\\site-packages\\soccerdata\\whoscored.py\" target=\"_blank\"><span style=\"color: #7f7f7f; text-decoration-color: #7f7f7f\">whoscored.py</span></a><span style=\"color: #7f7f7f; text-decoration-color: #7f7f7f\">:</span><a href=\"file://C:\\Users\\acer\\AppData\\Local\\Programs\\Python\\Python312\\Lib\\site-packages\\soccerdata\\whoscored.py#400\" target=\"_blank\"><span style=\"color: #7f7f7f; text-decoration-color: #7f7f7f\">400</span></a>\n",
       "</pre>\n"
      ],
      "text/plain": [
       "\u001b[2;36m[09/02/24 21:54:28]\u001b[0m\u001b[2;36m \u001b[0m\u001b[34mINFO    \u001b[0m \u001b[1m[\u001b[0m\u001b[1;36m9\u001b[0m/\u001b[1;36m10\u001b[0m\u001b[1m]\u001b[0m Retrieving fixtures for ENG-Premier League \u001b[1;36m2425\u001b[0m                \u001b]8;id=697891;file://C:\\Users\\acer\\AppData\\Local\\Programs\\Python\\Python312\\Lib\\site-packages\\soccerdata\\whoscored.py\u001b\\\u001b[2mwhoscored.py\u001b[0m\u001b]8;;\u001b\\\u001b[2m:\u001b[0m\u001b]8;id=783526;file://C:\\Users\\acer\\AppData\\Local\\Programs\\Python\\Python312\\Lib\\site-packages\\soccerdata\\whoscored.py#400\u001b\\\u001b[2m400\u001b[0m\u001b]8;;\u001b\\\n"
      ]
     },
     "metadata": {},
     "output_type": "display_data"
    },
    {
     "data": {
      "text/html": [
       "<pre style=\"white-space:pre;overflow-x:auto;line-height:normal;font-family:Menlo,'DejaVu Sans Mono',consolas,'Courier New',monospace\"><span style=\"color: #7fbfbf; text-decoration-color: #7fbfbf\">[09/02/24 21:54:37] </span><span style=\"color: #000080; text-decoration-color: #000080\">INFO    </span> <span style=\"font-weight: bold\">[</span><span style=\"color: #008080; text-decoration-color: #008080; font-weight: bold\">10</span>/<span style=\"color: #008080; text-decoration-color: #008080; font-weight: bold\">10</span><span style=\"font-weight: bold\">]</span> Retrieving fixtures for ENG-Premier League <span style=\"color: #008080; text-decoration-color: #008080; font-weight: bold\">2425</span>               <a href=\"file://C:\\Users\\acer\\AppData\\Local\\Programs\\Python\\Python312\\Lib\\site-packages\\soccerdata\\whoscored.py\" target=\"_blank\"><span style=\"color: #7f7f7f; text-decoration-color: #7f7f7f\">whoscored.py</span></a><span style=\"color: #7f7f7f; text-decoration-color: #7f7f7f\">:</span><a href=\"file://C:\\Users\\acer\\AppData\\Local\\Programs\\Python\\Python312\\Lib\\site-packages\\soccerdata\\whoscored.py#400\" target=\"_blank\"><span style=\"color: #7f7f7f; text-decoration-color: #7f7f7f\">400</span></a>\n",
       "</pre>\n"
      ],
      "text/plain": [
       "\u001b[2;36m[09/02/24 21:54:37]\u001b[0m\u001b[2;36m \u001b[0m\u001b[34mINFO    \u001b[0m \u001b[1m[\u001b[0m\u001b[1;36m10\u001b[0m/\u001b[1;36m10\u001b[0m\u001b[1m]\u001b[0m Retrieving fixtures for ENG-Premier League \u001b[1;36m2425\u001b[0m               \u001b]8;id=950580;file://C:\\Users\\acer\\AppData\\Local\\Programs\\Python\\Python312\\Lib\\site-packages\\soccerdata\\whoscored.py\u001b\\\u001b[2mwhoscored.py\u001b[0m\u001b]8;;\u001b\\\u001b[2m:\u001b[0m\u001b]8;id=445286;file://C:\\Users\\acer\\AppData\\Local\\Programs\\Python\\Python312\\Lib\\site-packages\\soccerdata\\whoscored.py#400\u001b\\\u001b[2m400\u001b[0m\u001b]8;;\u001b\\\n"
      ]
     },
     "metadata": {},
     "output_type": "display_data"
    },
    {
     "name": "stderr",
     "output_type": "stream",
     "text": [
      "C:\\Users\\acer\\AppData\\Local\\Programs\\Python\\Python312\\Lib\\site-packages\\soccerdata\\whoscored.py:424: FutureWarning: The behavior of DataFrame concatenation with empty or all-NA entries is deprecated. In a future version, this will no longer exclude empty or all-NA columns when determining the result dtypes. To retain the old behavior, exclude the relevant entries before the concat operation.\n",
      "  pd.concat(all_schedules)\n"
     ]
    },
    {
     "data": {
      "text/html": [
       "<pre style=\"white-space:pre;overflow-x:auto;line-height:normal;font-family:Menlo,'DejaVu Sans Mono',consolas,'Courier New',monospace\"><span style=\"color: #7fbfbf; text-decoration-color: #7fbfbf\">[09/02/24 21:54:47] </span><span style=\"color: #000080; text-decoration-color: #000080\">INFO    </span> <span style=\"font-weight: bold\">[</span><span style=\"color: #008080; text-decoration-color: #008080; font-weight: bold\">1</span>/<span style=\"color: #008080; text-decoration-color: #008080; font-weight: bold\">1</span><span style=\"font-weight: bold\">]</span> Retrieving game with <span style=\"color: #808000; text-decoration-color: #808000\">id</span>=<span style=\"color: #008080; text-decoration-color: #008080; font-weight: bold\">1821075</span>                                 <a href=\"file://C:\\Users\\acer\\AppData\\Local\\Programs\\Python\\Python312\\Lib\\site-packages\\soccerdata\\whoscored.py\" target=\"_blank\"><span style=\"color: #7f7f7f; text-decoration-color: #7f7f7f\">whoscored.py</span></a><span style=\"color: #7f7f7f; text-decoration-color: #7f7f7f\">:</span><a href=\"file://C:\\Users\\acer\\AppData\\Local\\Programs\\Python\\Python312\\Lib\\site-packages\\soccerdata\\whoscored.py#692\" target=\"_blank\"><span style=\"color: #7f7f7f; text-decoration-color: #7f7f7f\">692</span></a>\n",
       "</pre>\n"
      ],
      "text/plain": [
       "\u001b[2;36m[09/02/24 21:54:47]\u001b[0m\u001b[2;36m \u001b[0m\u001b[34mINFO    \u001b[0m \u001b[1m[\u001b[0m\u001b[1;36m1\u001b[0m/\u001b[1;36m1\u001b[0m\u001b[1m]\u001b[0m Retrieving game with \u001b[33mid\u001b[0m=\u001b[1;36m1821075\u001b[0m                                 \u001b]8;id=430844;file://C:\\Users\\acer\\AppData\\Local\\Programs\\Python\\Python312\\Lib\\site-packages\\soccerdata\\whoscored.py\u001b\\\u001b[2mwhoscored.py\u001b[0m\u001b]8;;\u001b\\\u001b[2m:\u001b[0m\u001b]8;id=867218;file://C:\\Users\\acer\\AppData\\Local\\Programs\\Python\\Python312\\Lib\\site-packages\\soccerdata\\whoscored.py#692\u001b\\\u001b[2m692\u001b[0m\u001b]8;;\u001b\\\n"
      ]
     },
     "metadata": {},
     "output_type": "display_data"
    },
    {
     "data": {
      "text/html": [
       "<pre style=\"white-space:pre;overflow-x:auto;line-height:normal;font-family:Menlo,'DejaVu Sans Mono',consolas,'Courier New',monospace\"><span style=\"color: #7fbfbf; text-decoration-color: #7fbfbf\">[09/02/24 21:55:20] </span><span style=\"color: #000080; text-decoration-color: #000080\">INFO    </span> Retrieving calendar for ENG-Premier League <span style=\"color: #008080; text-decoration-color: #008080; font-weight: bold\">2425</span>                       <a href=\"file://C:\\Users\\acer\\AppData\\Local\\Programs\\Python\\Python312\\Lib\\site-packages\\soccerdata\\whoscored.py\" target=\"_blank\"><span style=\"color: #7f7f7f; text-decoration-color: #7f7f7f\">whoscored.py</span></a><span style=\"color: #7f7f7f; text-decoration-color: #7f7f7f\">:</span><a href=\"file://C:\\Users\\acer\\AppData\\Local\\Programs\\Python\\Python312\\Lib\\site-packages\\soccerdata\\whoscored.py#371\" target=\"_blank\"><span style=\"color: #7f7f7f; text-decoration-color: #7f7f7f\">371</span></a>\n",
       "</pre>\n"
      ],
      "text/plain": [
       "\u001b[2;36m[09/02/24 21:55:20]\u001b[0m\u001b[2;36m \u001b[0m\u001b[34mINFO    \u001b[0m Retrieving calendar for ENG-Premier League \u001b[1;36m2425\u001b[0m                       \u001b]8;id=560096;file://C:\\Users\\acer\\AppData\\Local\\Programs\\Python\\Python312\\Lib\\site-packages\\soccerdata\\whoscored.py\u001b\\\u001b[2mwhoscored.py\u001b[0m\u001b]8;;\u001b\\\u001b[2m:\u001b[0m\u001b]8;id=316026;file://C:\\Users\\acer\\AppData\\Local\\Programs\\Python\\Python312\\Lib\\site-packages\\soccerdata\\whoscored.py#371\u001b\\\u001b[2m371\u001b[0m\u001b]8;;\u001b\\\n"
      ]
     },
     "metadata": {},
     "output_type": "display_data"
    },
    {
     "data": {
      "text/html": [
       "<pre style=\"white-space:pre;overflow-x:auto;line-height:normal;font-family:Menlo,'DejaVu Sans Mono',consolas,'Courier New',monospace\"><span style=\"color: #7fbfbf; text-decoration-color: #7fbfbf\">[09/02/24 21:55:34] </span><span style=\"color: #000080; text-decoration-color: #000080\">INFO    </span> <span style=\"font-weight: bold\">[</span><span style=\"color: #008080; text-decoration-color: #008080; font-weight: bold\">1</span>/<span style=\"color: #008080; text-decoration-color: #008080; font-weight: bold\">10</span><span style=\"font-weight: bold\">]</span> Retrieving fixtures for ENG-Premier League <span style=\"color: #008080; text-decoration-color: #008080; font-weight: bold\">2425</span>                <a href=\"file://C:\\Users\\acer\\AppData\\Local\\Programs\\Python\\Python312\\Lib\\site-packages\\soccerdata\\whoscored.py\" target=\"_blank\"><span style=\"color: #7f7f7f; text-decoration-color: #7f7f7f\">whoscored.py</span></a><span style=\"color: #7f7f7f; text-decoration-color: #7f7f7f\">:</span><a href=\"file://C:\\Users\\acer\\AppData\\Local\\Programs\\Python\\Python312\\Lib\\site-packages\\soccerdata\\whoscored.py#400\" target=\"_blank\"><span style=\"color: #7f7f7f; text-decoration-color: #7f7f7f\">400</span></a>\n",
       "</pre>\n"
      ],
      "text/plain": [
       "\u001b[2;36m[09/02/24 21:55:34]\u001b[0m\u001b[2;36m \u001b[0m\u001b[34mINFO    \u001b[0m \u001b[1m[\u001b[0m\u001b[1;36m1\u001b[0m/\u001b[1;36m10\u001b[0m\u001b[1m]\u001b[0m Retrieving fixtures for ENG-Premier League \u001b[1;36m2425\u001b[0m                \u001b]8;id=672376;file://C:\\Users\\acer\\AppData\\Local\\Programs\\Python\\Python312\\Lib\\site-packages\\soccerdata\\whoscored.py\u001b\\\u001b[2mwhoscored.py\u001b[0m\u001b]8;;\u001b\\\u001b[2m:\u001b[0m\u001b]8;id=145834;file://C:\\Users\\acer\\AppData\\Local\\Programs\\Python\\Python312\\Lib\\site-packages\\soccerdata\\whoscored.py#400\u001b\\\u001b[2m400\u001b[0m\u001b]8;;\u001b\\\n"
      ]
     },
     "metadata": {},
     "output_type": "display_data"
    },
    {
     "data": {
      "text/html": [
       "<pre style=\"white-space:pre;overflow-x:auto;line-height:normal;font-family:Menlo,'DejaVu Sans Mono',consolas,'Courier New',monospace\"><span style=\"color: #7fbfbf; text-decoration-color: #7fbfbf\">[09/02/24 21:55:41] </span><span style=\"color: #000080; text-decoration-color: #000080\">INFO    </span> <span style=\"font-weight: bold\">[</span><span style=\"color: #008080; text-decoration-color: #008080; font-weight: bold\">2</span>/<span style=\"color: #008080; text-decoration-color: #008080; font-weight: bold\">10</span><span style=\"font-weight: bold\">]</span> Retrieving fixtures for ENG-Premier League <span style=\"color: #008080; text-decoration-color: #008080; font-weight: bold\">2425</span>                <a href=\"file://C:\\Users\\acer\\AppData\\Local\\Programs\\Python\\Python312\\Lib\\site-packages\\soccerdata\\whoscored.py\" target=\"_blank\"><span style=\"color: #7f7f7f; text-decoration-color: #7f7f7f\">whoscored.py</span></a><span style=\"color: #7f7f7f; text-decoration-color: #7f7f7f\">:</span><a href=\"file://C:\\Users\\acer\\AppData\\Local\\Programs\\Python\\Python312\\Lib\\site-packages\\soccerdata\\whoscored.py#400\" target=\"_blank\"><span style=\"color: #7f7f7f; text-decoration-color: #7f7f7f\">400</span></a>\n",
       "</pre>\n"
      ],
      "text/plain": [
       "\u001b[2;36m[09/02/24 21:55:41]\u001b[0m\u001b[2;36m \u001b[0m\u001b[34mINFO    \u001b[0m \u001b[1m[\u001b[0m\u001b[1;36m2\u001b[0m/\u001b[1;36m10\u001b[0m\u001b[1m]\u001b[0m Retrieving fixtures for ENG-Premier League \u001b[1;36m2425\u001b[0m                \u001b]8;id=909889;file://C:\\Users\\acer\\AppData\\Local\\Programs\\Python\\Python312\\Lib\\site-packages\\soccerdata\\whoscored.py\u001b\\\u001b[2mwhoscored.py\u001b[0m\u001b]8;;\u001b\\\u001b[2m:\u001b[0m\u001b]8;id=690473;file://C:\\Users\\acer\\AppData\\Local\\Programs\\Python\\Python312\\Lib\\site-packages\\soccerdata\\whoscored.py#400\u001b\\\u001b[2m400\u001b[0m\u001b]8;;\u001b\\\n"
      ]
     },
     "metadata": {},
     "output_type": "display_data"
    },
    {
     "data": {
      "text/html": [
       "<pre style=\"white-space:pre;overflow-x:auto;line-height:normal;font-family:Menlo,'DejaVu Sans Mono',consolas,'Courier New',monospace\"><span style=\"color: #7fbfbf; text-decoration-color: #7fbfbf\">[09/02/24 21:55:51] </span><span style=\"color: #000080; text-decoration-color: #000080\">INFO    </span> <span style=\"font-weight: bold\">[</span><span style=\"color: #008080; text-decoration-color: #008080; font-weight: bold\">3</span>/<span style=\"color: #008080; text-decoration-color: #008080; font-weight: bold\">10</span><span style=\"font-weight: bold\">]</span> Retrieving fixtures for ENG-Premier League <span style=\"color: #008080; text-decoration-color: #008080; font-weight: bold\">2425</span>                <a href=\"file://C:\\Users\\acer\\AppData\\Local\\Programs\\Python\\Python312\\Lib\\site-packages\\soccerdata\\whoscored.py\" target=\"_blank\"><span style=\"color: #7f7f7f; text-decoration-color: #7f7f7f\">whoscored.py</span></a><span style=\"color: #7f7f7f; text-decoration-color: #7f7f7f\">:</span><a href=\"file://C:\\Users\\acer\\AppData\\Local\\Programs\\Python\\Python312\\Lib\\site-packages\\soccerdata\\whoscored.py#400\" target=\"_blank\"><span style=\"color: #7f7f7f; text-decoration-color: #7f7f7f\">400</span></a>\n",
       "</pre>\n"
      ],
      "text/plain": [
       "\u001b[2;36m[09/02/24 21:55:51]\u001b[0m\u001b[2;36m \u001b[0m\u001b[34mINFO    \u001b[0m \u001b[1m[\u001b[0m\u001b[1;36m3\u001b[0m/\u001b[1;36m10\u001b[0m\u001b[1m]\u001b[0m Retrieving fixtures for ENG-Premier League \u001b[1;36m2425\u001b[0m                \u001b]8;id=281838;file://C:\\Users\\acer\\AppData\\Local\\Programs\\Python\\Python312\\Lib\\site-packages\\soccerdata\\whoscored.py\u001b\\\u001b[2mwhoscored.py\u001b[0m\u001b]8;;\u001b\\\u001b[2m:\u001b[0m\u001b]8;id=794731;file://C:\\Users\\acer\\AppData\\Local\\Programs\\Python\\Python312\\Lib\\site-packages\\soccerdata\\whoscored.py#400\u001b\\\u001b[2m400\u001b[0m\u001b]8;;\u001b\\\n"
      ]
     },
     "metadata": {},
     "output_type": "display_data"
    },
    {
     "data": {
      "text/html": [
       "<pre style=\"white-space:pre;overflow-x:auto;line-height:normal;font-family:Menlo,'DejaVu Sans Mono',consolas,'Courier New',monospace\"><span style=\"color: #7fbfbf; text-decoration-color: #7fbfbf\">[09/02/24 21:56:00] </span><span style=\"color: #000080; text-decoration-color: #000080\">INFO    </span> <span style=\"font-weight: bold\">[</span><span style=\"color: #008080; text-decoration-color: #008080; font-weight: bold\">4</span>/<span style=\"color: #008080; text-decoration-color: #008080; font-weight: bold\">10</span><span style=\"font-weight: bold\">]</span> Retrieving fixtures for ENG-Premier League <span style=\"color: #008080; text-decoration-color: #008080; font-weight: bold\">2425</span>                <a href=\"file://C:\\Users\\acer\\AppData\\Local\\Programs\\Python\\Python312\\Lib\\site-packages\\soccerdata\\whoscored.py\" target=\"_blank\"><span style=\"color: #7f7f7f; text-decoration-color: #7f7f7f\">whoscored.py</span></a><span style=\"color: #7f7f7f; text-decoration-color: #7f7f7f\">:</span><a href=\"file://C:\\Users\\acer\\AppData\\Local\\Programs\\Python\\Python312\\Lib\\site-packages\\soccerdata\\whoscored.py#400\" target=\"_blank\"><span style=\"color: #7f7f7f; text-decoration-color: #7f7f7f\">400</span></a>\n",
       "</pre>\n"
      ],
      "text/plain": [
       "\u001b[2;36m[09/02/24 21:56:00]\u001b[0m\u001b[2;36m \u001b[0m\u001b[34mINFO    \u001b[0m \u001b[1m[\u001b[0m\u001b[1;36m4\u001b[0m/\u001b[1;36m10\u001b[0m\u001b[1m]\u001b[0m Retrieving fixtures for ENG-Premier League \u001b[1;36m2425\u001b[0m                \u001b]8;id=870290;file://C:\\Users\\acer\\AppData\\Local\\Programs\\Python\\Python312\\Lib\\site-packages\\soccerdata\\whoscored.py\u001b\\\u001b[2mwhoscored.py\u001b[0m\u001b]8;;\u001b\\\u001b[2m:\u001b[0m\u001b]8;id=56529;file://C:\\Users\\acer\\AppData\\Local\\Programs\\Python\\Python312\\Lib\\site-packages\\soccerdata\\whoscored.py#400\u001b\\\u001b[2m400\u001b[0m\u001b]8;;\u001b\\\n"
      ]
     },
     "metadata": {},
     "output_type": "display_data"
    },
    {
     "data": {
      "text/html": [
       "<pre style=\"white-space:pre;overflow-x:auto;line-height:normal;font-family:Menlo,'DejaVu Sans Mono',consolas,'Courier New',monospace\"><span style=\"color: #7fbfbf; text-decoration-color: #7fbfbf\">[09/02/24 21:56:07] </span><span style=\"color: #000080; text-decoration-color: #000080\">INFO    </span> <span style=\"font-weight: bold\">[</span><span style=\"color: #008080; text-decoration-color: #008080; font-weight: bold\">5</span>/<span style=\"color: #008080; text-decoration-color: #008080; font-weight: bold\">10</span><span style=\"font-weight: bold\">]</span> Retrieving fixtures for ENG-Premier League <span style=\"color: #008080; text-decoration-color: #008080; font-weight: bold\">2425</span>                <a href=\"file://C:\\Users\\acer\\AppData\\Local\\Programs\\Python\\Python312\\Lib\\site-packages\\soccerdata\\whoscored.py\" target=\"_blank\"><span style=\"color: #7f7f7f; text-decoration-color: #7f7f7f\">whoscored.py</span></a><span style=\"color: #7f7f7f; text-decoration-color: #7f7f7f\">:</span><a href=\"file://C:\\Users\\acer\\AppData\\Local\\Programs\\Python\\Python312\\Lib\\site-packages\\soccerdata\\whoscored.py#400\" target=\"_blank\"><span style=\"color: #7f7f7f; text-decoration-color: #7f7f7f\">400</span></a>\n",
       "</pre>\n"
      ],
      "text/plain": [
       "\u001b[2;36m[09/02/24 21:56:07]\u001b[0m\u001b[2;36m \u001b[0m\u001b[34mINFO    \u001b[0m \u001b[1m[\u001b[0m\u001b[1;36m5\u001b[0m/\u001b[1;36m10\u001b[0m\u001b[1m]\u001b[0m Retrieving fixtures for ENG-Premier League \u001b[1;36m2425\u001b[0m                \u001b]8;id=232266;file://C:\\Users\\acer\\AppData\\Local\\Programs\\Python\\Python312\\Lib\\site-packages\\soccerdata\\whoscored.py\u001b\\\u001b[2mwhoscored.py\u001b[0m\u001b]8;;\u001b\\\u001b[2m:\u001b[0m\u001b]8;id=921606;file://C:\\Users\\acer\\AppData\\Local\\Programs\\Python\\Python312\\Lib\\site-packages\\soccerdata\\whoscored.py#400\u001b\\\u001b[2m400\u001b[0m\u001b]8;;\u001b\\\n"
      ]
     },
     "metadata": {},
     "output_type": "display_data"
    },
    {
     "data": {
      "text/html": [
       "<pre style=\"white-space:pre;overflow-x:auto;line-height:normal;font-family:Menlo,'DejaVu Sans Mono',consolas,'Courier New',monospace\"><span style=\"color: #7fbfbf; text-decoration-color: #7fbfbf\">[09/02/24 21:56:17] </span><span style=\"color: #000080; text-decoration-color: #000080\">INFO    </span> <span style=\"font-weight: bold\">[</span><span style=\"color: #008080; text-decoration-color: #008080; font-weight: bold\">6</span>/<span style=\"color: #008080; text-decoration-color: #008080; font-weight: bold\">10</span><span style=\"font-weight: bold\">]</span> Retrieving fixtures for ENG-Premier League <span style=\"color: #008080; text-decoration-color: #008080; font-weight: bold\">2425</span>                <a href=\"file://C:\\Users\\acer\\AppData\\Local\\Programs\\Python\\Python312\\Lib\\site-packages\\soccerdata\\whoscored.py\" target=\"_blank\"><span style=\"color: #7f7f7f; text-decoration-color: #7f7f7f\">whoscored.py</span></a><span style=\"color: #7f7f7f; text-decoration-color: #7f7f7f\">:</span><a href=\"file://C:\\Users\\acer\\AppData\\Local\\Programs\\Python\\Python312\\Lib\\site-packages\\soccerdata\\whoscored.py#400\" target=\"_blank\"><span style=\"color: #7f7f7f; text-decoration-color: #7f7f7f\">400</span></a>\n",
       "</pre>\n"
      ],
      "text/plain": [
       "\u001b[2;36m[09/02/24 21:56:17]\u001b[0m\u001b[2;36m \u001b[0m\u001b[34mINFO    \u001b[0m \u001b[1m[\u001b[0m\u001b[1;36m6\u001b[0m/\u001b[1;36m10\u001b[0m\u001b[1m]\u001b[0m Retrieving fixtures for ENG-Premier League \u001b[1;36m2425\u001b[0m                \u001b]8;id=472886;file://C:\\Users\\acer\\AppData\\Local\\Programs\\Python\\Python312\\Lib\\site-packages\\soccerdata\\whoscored.py\u001b\\\u001b[2mwhoscored.py\u001b[0m\u001b]8;;\u001b\\\u001b[2m:\u001b[0m\u001b]8;id=231141;file://C:\\Users\\acer\\AppData\\Local\\Programs\\Python\\Python312\\Lib\\site-packages\\soccerdata\\whoscored.py#400\u001b\\\u001b[2m400\u001b[0m\u001b]8;;\u001b\\\n"
      ]
     },
     "metadata": {},
     "output_type": "display_data"
    },
    {
     "data": {
      "text/html": [
       "<pre style=\"white-space:pre;overflow-x:auto;line-height:normal;font-family:Menlo,'DejaVu Sans Mono',consolas,'Courier New',monospace\"><span style=\"color: #7fbfbf; text-decoration-color: #7fbfbf\">[09/02/24 21:56:23] </span><span style=\"color: #000080; text-decoration-color: #000080\">INFO    </span> <span style=\"font-weight: bold\">[</span><span style=\"color: #008080; text-decoration-color: #008080; font-weight: bold\">7</span>/<span style=\"color: #008080; text-decoration-color: #008080; font-weight: bold\">10</span><span style=\"font-weight: bold\">]</span> Retrieving fixtures for ENG-Premier League <span style=\"color: #008080; text-decoration-color: #008080; font-weight: bold\">2425</span>                <a href=\"file://C:\\Users\\acer\\AppData\\Local\\Programs\\Python\\Python312\\Lib\\site-packages\\soccerdata\\whoscored.py\" target=\"_blank\"><span style=\"color: #7f7f7f; text-decoration-color: #7f7f7f\">whoscored.py</span></a><span style=\"color: #7f7f7f; text-decoration-color: #7f7f7f\">:</span><a href=\"file://C:\\Users\\acer\\AppData\\Local\\Programs\\Python\\Python312\\Lib\\site-packages\\soccerdata\\whoscored.py#400\" target=\"_blank\"><span style=\"color: #7f7f7f; text-decoration-color: #7f7f7f\">400</span></a>\n",
       "</pre>\n"
      ],
      "text/plain": [
       "\u001b[2;36m[09/02/24 21:56:23]\u001b[0m\u001b[2;36m \u001b[0m\u001b[34mINFO    \u001b[0m \u001b[1m[\u001b[0m\u001b[1;36m7\u001b[0m/\u001b[1;36m10\u001b[0m\u001b[1m]\u001b[0m Retrieving fixtures for ENG-Premier League \u001b[1;36m2425\u001b[0m                \u001b]8;id=243004;file://C:\\Users\\acer\\AppData\\Local\\Programs\\Python\\Python312\\Lib\\site-packages\\soccerdata\\whoscored.py\u001b\\\u001b[2mwhoscored.py\u001b[0m\u001b]8;;\u001b\\\u001b[2m:\u001b[0m\u001b]8;id=579394;file://C:\\Users\\acer\\AppData\\Local\\Programs\\Python\\Python312\\Lib\\site-packages\\soccerdata\\whoscored.py#400\u001b\\\u001b[2m400\u001b[0m\u001b]8;;\u001b\\\n"
      ]
     },
     "metadata": {},
     "output_type": "display_data"
    },
    {
     "data": {
      "text/html": [
       "<pre style=\"white-space:pre;overflow-x:auto;line-height:normal;font-family:Menlo,'DejaVu Sans Mono',consolas,'Courier New',monospace\"><span style=\"color: #7fbfbf; text-decoration-color: #7fbfbf\">[09/02/24 21:56:33] </span><span style=\"color: #000080; text-decoration-color: #000080\">INFO    </span> <span style=\"font-weight: bold\">[</span><span style=\"color: #008080; text-decoration-color: #008080; font-weight: bold\">8</span>/<span style=\"color: #008080; text-decoration-color: #008080; font-weight: bold\">10</span><span style=\"font-weight: bold\">]</span> Retrieving fixtures for ENG-Premier League <span style=\"color: #008080; text-decoration-color: #008080; font-weight: bold\">2425</span>                <a href=\"file://C:\\Users\\acer\\AppData\\Local\\Programs\\Python\\Python312\\Lib\\site-packages\\soccerdata\\whoscored.py\" target=\"_blank\"><span style=\"color: #7f7f7f; text-decoration-color: #7f7f7f\">whoscored.py</span></a><span style=\"color: #7f7f7f; text-decoration-color: #7f7f7f\">:</span><a href=\"file://C:\\Users\\acer\\AppData\\Local\\Programs\\Python\\Python312\\Lib\\site-packages\\soccerdata\\whoscored.py#400\" target=\"_blank\"><span style=\"color: #7f7f7f; text-decoration-color: #7f7f7f\">400</span></a>\n",
       "</pre>\n"
      ],
      "text/plain": [
       "\u001b[2;36m[09/02/24 21:56:33]\u001b[0m\u001b[2;36m \u001b[0m\u001b[34mINFO    \u001b[0m \u001b[1m[\u001b[0m\u001b[1;36m8\u001b[0m/\u001b[1;36m10\u001b[0m\u001b[1m]\u001b[0m Retrieving fixtures for ENG-Premier League \u001b[1;36m2425\u001b[0m                \u001b]8;id=527348;file://C:\\Users\\acer\\AppData\\Local\\Programs\\Python\\Python312\\Lib\\site-packages\\soccerdata\\whoscored.py\u001b\\\u001b[2mwhoscored.py\u001b[0m\u001b]8;;\u001b\\\u001b[2m:\u001b[0m\u001b]8;id=618906;file://C:\\Users\\acer\\AppData\\Local\\Programs\\Python\\Python312\\Lib\\site-packages\\soccerdata\\whoscored.py#400\u001b\\\u001b[2m400\u001b[0m\u001b]8;;\u001b\\\n"
      ]
     },
     "metadata": {},
     "output_type": "display_data"
    },
    {
     "data": {
      "text/html": [
       "<pre style=\"white-space:pre;overflow-x:auto;line-height:normal;font-family:Menlo,'DejaVu Sans Mono',consolas,'Courier New',monospace\"><span style=\"color: #7fbfbf; text-decoration-color: #7fbfbf\">[09/02/24 21:56:44] </span><span style=\"color: #000080; text-decoration-color: #000080\">INFO    </span> <span style=\"font-weight: bold\">[</span><span style=\"color: #008080; text-decoration-color: #008080; font-weight: bold\">9</span>/<span style=\"color: #008080; text-decoration-color: #008080; font-weight: bold\">10</span><span style=\"font-weight: bold\">]</span> Retrieving fixtures for ENG-Premier League <span style=\"color: #008080; text-decoration-color: #008080; font-weight: bold\">2425</span>                <a href=\"file://C:\\Users\\acer\\AppData\\Local\\Programs\\Python\\Python312\\Lib\\site-packages\\soccerdata\\whoscored.py\" target=\"_blank\"><span style=\"color: #7f7f7f; text-decoration-color: #7f7f7f\">whoscored.py</span></a><span style=\"color: #7f7f7f; text-decoration-color: #7f7f7f\">:</span><a href=\"file://C:\\Users\\acer\\AppData\\Local\\Programs\\Python\\Python312\\Lib\\site-packages\\soccerdata\\whoscored.py#400\" target=\"_blank\"><span style=\"color: #7f7f7f; text-decoration-color: #7f7f7f\">400</span></a>\n",
       "</pre>\n"
      ],
      "text/plain": [
       "\u001b[2;36m[09/02/24 21:56:44]\u001b[0m\u001b[2;36m \u001b[0m\u001b[34mINFO    \u001b[0m \u001b[1m[\u001b[0m\u001b[1;36m9\u001b[0m/\u001b[1;36m10\u001b[0m\u001b[1m]\u001b[0m Retrieving fixtures for ENG-Premier League \u001b[1;36m2425\u001b[0m                \u001b]8;id=417113;file://C:\\Users\\acer\\AppData\\Local\\Programs\\Python\\Python312\\Lib\\site-packages\\soccerdata\\whoscored.py\u001b\\\u001b[2mwhoscored.py\u001b[0m\u001b]8;;\u001b\\\u001b[2m:\u001b[0m\u001b]8;id=47131;file://C:\\Users\\acer\\AppData\\Local\\Programs\\Python\\Python312\\Lib\\site-packages\\soccerdata\\whoscored.py#400\u001b\\\u001b[2m400\u001b[0m\u001b]8;;\u001b\\\n"
      ]
     },
     "metadata": {},
     "output_type": "display_data"
    },
    {
     "data": {
      "text/html": [
       "<pre style=\"white-space:pre;overflow-x:auto;line-height:normal;font-family:Menlo,'DejaVu Sans Mono',consolas,'Courier New',monospace\"><span style=\"color: #7fbfbf; text-decoration-color: #7fbfbf\">[09/02/24 21:56:52] </span><span style=\"color: #000080; text-decoration-color: #000080\">INFO    </span> <span style=\"font-weight: bold\">[</span><span style=\"color: #008080; text-decoration-color: #008080; font-weight: bold\">10</span>/<span style=\"color: #008080; text-decoration-color: #008080; font-weight: bold\">10</span><span style=\"font-weight: bold\">]</span> Retrieving fixtures for ENG-Premier League <span style=\"color: #008080; text-decoration-color: #008080; font-weight: bold\">2425</span>               <a href=\"file://C:\\Users\\acer\\AppData\\Local\\Programs\\Python\\Python312\\Lib\\site-packages\\soccerdata\\whoscored.py\" target=\"_blank\"><span style=\"color: #7f7f7f; text-decoration-color: #7f7f7f\">whoscored.py</span></a><span style=\"color: #7f7f7f; text-decoration-color: #7f7f7f\">:</span><a href=\"file://C:\\Users\\acer\\AppData\\Local\\Programs\\Python\\Python312\\Lib\\site-packages\\soccerdata\\whoscored.py#400\" target=\"_blank\"><span style=\"color: #7f7f7f; text-decoration-color: #7f7f7f\">400</span></a>\n",
       "</pre>\n"
      ],
      "text/plain": [
       "\u001b[2;36m[09/02/24 21:56:52]\u001b[0m\u001b[2;36m \u001b[0m\u001b[34mINFO    \u001b[0m \u001b[1m[\u001b[0m\u001b[1;36m10\u001b[0m/\u001b[1;36m10\u001b[0m\u001b[1m]\u001b[0m Retrieving fixtures for ENG-Premier League \u001b[1;36m2425\u001b[0m               \u001b]8;id=542589;file://C:\\Users\\acer\\AppData\\Local\\Programs\\Python\\Python312\\Lib\\site-packages\\soccerdata\\whoscored.py\u001b\\\u001b[2mwhoscored.py\u001b[0m\u001b]8;;\u001b\\\u001b[2m:\u001b[0m\u001b]8;id=699534;file://C:\\Users\\acer\\AppData\\Local\\Programs\\Python\\Python312\\Lib\\site-packages\\soccerdata\\whoscored.py#400\u001b\\\u001b[2m400\u001b[0m\u001b]8;;\u001b\\\n"
      ]
     },
     "metadata": {},
     "output_type": "display_data"
    },
    {
     "name": "stderr",
     "output_type": "stream",
     "text": [
      "C:\\Users\\acer\\AppData\\Local\\Programs\\Python\\Python312\\Lib\\site-packages\\soccerdata\\whoscored.py:424: FutureWarning: The behavior of DataFrame concatenation with empty or all-NA entries is deprecated. In a future version, this will no longer exclude empty or all-NA columns when determining the result dtypes. To retain the old behavior, exclude the relevant entries before the concat operation.\n",
      "  pd.concat(all_schedules)\n"
     ]
    },
    {
     "data": {
      "text/html": [
       "<pre style=\"white-space:pre;overflow-x:auto;line-height:normal;font-family:Menlo,'DejaVu Sans Mono',consolas,'Courier New',monospace\"><span style=\"color: #7fbfbf; text-decoration-color: #7fbfbf\">[09/02/24 21:57:01] </span><span style=\"color: #000080; text-decoration-color: #000080\">INFO    </span> <span style=\"font-weight: bold\">[</span><span style=\"color: #008080; text-decoration-color: #008080; font-weight: bold\">1</span>/<span style=\"color: #008080; text-decoration-color: #008080; font-weight: bold\">1</span><span style=\"font-weight: bold\">]</span> Retrieving game with <span style=\"color: #808000; text-decoration-color: #808000\">id</span>=<span style=\"color: #008080; text-decoration-color: #008080; font-weight: bold\">1821076</span>                                 <a href=\"file://C:\\Users\\acer\\AppData\\Local\\Programs\\Python\\Python312\\Lib\\site-packages\\soccerdata\\whoscored.py\" target=\"_blank\"><span style=\"color: #7f7f7f; text-decoration-color: #7f7f7f\">whoscored.py</span></a><span style=\"color: #7f7f7f; text-decoration-color: #7f7f7f\">:</span><a href=\"file://C:\\Users\\acer\\AppData\\Local\\Programs\\Python\\Python312\\Lib\\site-packages\\soccerdata\\whoscored.py#692\" target=\"_blank\"><span style=\"color: #7f7f7f; text-decoration-color: #7f7f7f\">692</span></a>\n",
       "</pre>\n"
      ],
      "text/plain": [
       "\u001b[2;36m[09/02/24 21:57:01]\u001b[0m\u001b[2;36m \u001b[0m\u001b[34mINFO    \u001b[0m \u001b[1m[\u001b[0m\u001b[1;36m1\u001b[0m/\u001b[1;36m1\u001b[0m\u001b[1m]\u001b[0m Retrieving game with \u001b[33mid\u001b[0m=\u001b[1;36m1821076\u001b[0m                                 \u001b]8;id=268120;file://C:\\Users\\acer\\AppData\\Local\\Programs\\Python\\Python312\\Lib\\site-packages\\soccerdata\\whoscored.py\u001b\\\u001b[2mwhoscored.py\u001b[0m\u001b]8;;\u001b\\\u001b[2m:\u001b[0m\u001b]8;id=554705;file://C:\\Users\\acer\\AppData\\Local\\Programs\\Python\\Python312\\Lib\\site-packages\\soccerdata\\whoscored.py#692\u001b\\\u001b[2m692\u001b[0m\u001b]8;;\u001b\\\n"
      ]
     },
     "metadata": {},
     "output_type": "display_data"
    },
    {
     "data": {
      "text/html": [
       "<pre style=\"white-space:pre;overflow-x:auto;line-height:normal;font-family:Menlo,'DejaVu Sans Mono',consolas,'Courier New',monospace\"><span style=\"color: #7fbfbf; text-decoration-color: #7fbfbf\">[09/02/24 21:57:34] </span><span style=\"color: #000080; text-decoration-color: #000080\">INFO    </span> Retrieving calendar for ENG-Premier League <span style=\"color: #008080; text-decoration-color: #008080; font-weight: bold\">2425</span>                       <a href=\"file://C:\\Users\\acer\\AppData\\Local\\Programs\\Python\\Python312\\Lib\\site-packages\\soccerdata\\whoscored.py\" target=\"_blank\"><span style=\"color: #7f7f7f; text-decoration-color: #7f7f7f\">whoscored.py</span></a><span style=\"color: #7f7f7f; text-decoration-color: #7f7f7f\">:</span><a href=\"file://C:\\Users\\acer\\AppData\\Local\\Programs\\Python\\Python312\\Lib\\site-packages\\soccerdata\\whoscored.py#371\" target=\"_blank\"><span style=\"color: #7f7f7f; text-decoration-color: #7f7f7f\">371</span></a>\n",
       "</pre>\n"
      ],
      "text/plain": [
       "\u001b[2;36m[09/02/24 21:57:34]\u001b[0m\u001b[2;36m \u001b[0m\u001b[34mINFO    \u001b[0m Retrieving calendar for ENG-Premier League \u001b[1;36m2425\u001b[0m                       \u001b]8;id=998002;file://C:\\Users\\acer\\AppData\\Local\\Programs\\Python\\Python312\\Lib\\site-packages\\soccerdata\\whoscored.py\u001b\\\u001b[2mwhoscored.py\u001b[0m\u001b]8;;\u001b\\\u001b[2m:\u001b[0m\u001b]8;id=801918;file://C:\\Users\\acer\\AppData\\Local\\Programs\\Python\\Python312\\Lib\\site-packages\\soccerdata\\whoscored.py#371\u001b\\\u001b[2m371\u001b[0m\u001b]8;;\u001b\\\n"
      ]
     },
     "metadata": {},
     "output_type": "display_data"
    },
    {
     "data": {
      "text/html": [
       "<pre style=\"white-space:pre;overflow-x:auto;line-height:normal;font-family:Menlo,'DejaVu Sans Mono',consolas,'Courier New',monospace\"><span style=\"color: #7fbfbf; text-decoration-color: #7fbfbf\">[09/02/24 21:57:45] </span><span style=\"color: #000080; text-decoration-color: #000080\">INFO    </span> <span style=\"font-weight: bold\">[</span><span style=\"color: #008080; text-decoration-color: #008080; font-weight: bold\">1</span>/<span style=\"color: #008080; text-decoration-color: #008080; font-weight: bold\">10</span><span style=\"font-weight: bold\">]</span> Retrieving fixtures for ENG-Premier League <span style=\"color: #008080; text-decoration-color: #008080; font-weight: bold\">2425</span>                <a href=\"file://C:\\Users\\acer\\AppData\\Local\\Programs\\Python\\Python312\\Lib\\site-packages\\soccerdata\\whoscored.py\" target=\"_blank\"><span style=\"color: #7f7f7f; text-decoration-color: #7f7f7f\">whoscored.py</span></a><span style=\"color: #7f7f7f; text-decoration-color: #7f7f7f\">:</span><a href=\"file://C:\\Users\\acer\\AppData\\Local\\Programs\\Python\\Python312\\Lib\\site-packages\\soccerdata\\whoscored.py#400\" target=\"_blank\"><span style=\"color: #7f7f7f; text-decoration-color: #7f7f7f\">400</span></a>\n",
       "</pre>\n"
      ],
      "text/plain": [
       "\u001b[2;36m[09/02/24 21:57:45]\u001b[0m\u001b[2;36m \u001b[0m\u001b[34mINFO    \u001b[0m \u001b[1m[\u001b[0m\u001b[1;36m1\u001b[0m/\u001b[1;36m10\u001b[0m\u001b[1m]\u001b[0m Retrieving fixtures for ENG-Premier League \u001b[1;36m2425\u001b[0m                \u001b]8;id=787854;file://C:\\Users\\acer\\AppData\\Local\\Programs\\Python\\Python312\\Lib\\site-packages\\soccerdata\\whoscored.py\u001b\\\u001b[2mwhoscored.py\u001b[0m\u001b]8;;\u001b\\\u001b[2m:\u001b[0m\u001b]8;id=261611;file://C:\\Users\\acer\\AppData\\Local\\Programs\\Python\\Python312\\Lib\\site-packages\\soccerdata\\whoscored.py#400\u001b\\\u001b[2m400\u001b[0m\u001b]8;;\u001b\\\n"
      ]
     },
     "metadata": {},
     "output_type": "display_data"
    },
    {
     "data": {
      "text/html": [
       "<pre style=\"white-space:pre;overflow-x:auto;line-height:normal;font-family:Menlo,'DejaVu Sans Mono',consolas,'Courier New',monospace\"><span style=\"color: #7fbfbf; text-decoration-color: #7fbfbf\">[09/02/24 21:57:52] </span><span style=\"color: #000080; text-decoration-color: #000080\">INFO    </span> <span style=\"font-weight: bold\">[</span><span style=\"color: #008080; text-decoration-color: #008080; font-weight: bold\">2</span>/<span style=\"color: #008080; text-decoration-color: #008080; font-weight: bold\">10</span><span style=\"font-weight: bold\">]</span> Retrieving fixtures for ENG-Premier League <span style=\"color: #008080; text-decoration-color: #008080; font-weight: bold\">2425</span>                <a href=\"file://C:\\Users\\acer\\AppData\\Local\\Programs\\Python\\Python312\\Lib\\site-packages\\soccerdata\\whoscored.py\" target=\"_blank\"><span style=\"color: #7f7f7f; text-decoration-color: #7f7f7f\">whoscored.py</span></a><span style=\"color: #7f7f7f; text-decoration-color: #7f7f7f\">:</span><a href=\"file://C:\\Users\\acer\\AppData\\Local\\Programs\\Python\\Python312\\Lib\\site-packages\\soccerdata\\whoscored.py#400\" target=\"_blank\"><span style=\"color: #7f7f7f; text-decoration-color: #7f7f7f\">400</span></a>\n",
       "</pre>\n"
      ],
      "text/plain": [
       "\u001b[2;36m[09/02/24 21:57:52]\u001b[0m\u001b[2;36m \u001b[0m\u001b[34mINFO    \u001b[0m \u001b[1m[\u001b[0m\u001b[1;36m2\u001b[0m/\u001b[1;36m10\u001b[0m\u001b[1m]\u001b[0m Retrieving fixtures for ENG-Premier League \u001b[1;36m2425\u001b[0m                \u001b]8;id=91043;file://C:\\Users\\acer\\AppData\\Local\\Programs\\Python\\Python312\\Lib\\site-packages\\soccerdata\\whoscored.py\u001b\\\u001b[2mwhoscored.py\u001b[0m\u001b]8;;\u001b\\\u001b[2m:\u001b[0m\u001b]8;id=44872;file://C:\\Users\\acer\\AppData\\Local\\Programs\\Python\\Python312\\Lib\\site-packages\\soccerdata\\whoscored.py#400\u001b\\\u001b[2m400\u001b[0m\u001b]8;;\u001b\\\n"
      ]
     },
     "metadata": {},
     "output_type": "display_data"
    },
    {
     "data": {
      "text/html": [
       "<pre style=\"white-space:pre;overflow-x:auto;line-height:normal;font-family:Menlo,'DejaVu Sans Mono',consolas,'Courier New',monospace\"><span style=\"color: #7fbfbf; text-decoration-color: #7fbfbf\">[09/02/24 21:58:01] </span><span style=\"color: #000080; text-decoration-color: #000080\">INFO    </span> <span style=\"font-weight: bold\">[</span><span style=\"color: #008080; text-decoration-color: #008080; font-weight: bold\">3</span>/<span style=\"color: #008080; text-decoration-color: #008080; font-weight: bold\">10</span><span style=\"font-weight: bold\">]</span> Retrieving fixtures for ENG-Premier League <span style=\"color: #008080; text-decoration-color: #008080; font-weight: bold\">2425</span>                <a href=\"file://C:\\Users\\acer\\AppData\\Local\\Programs\\Python\\Python312\\Lib\\site-packages\\soccerdata\\whoscored.py\" target=\"_blank\"><span style=\"color: #7f7f7f; text-decoration-color: #7f7f7f\">whoscored.py</span></a><span style=\"color: #7f7f7f; text-decoration-color: #7f7f7f\">:</span><a href=\"file://C:\\Users\\acer\\AppData\\Local\\Programs\\Python\\Python312\\Lib\\site-packages\\soccerdata\\whoscored.py#400\" target=\"_blank\"><span style=\"color: #7f7f7f; text-decoration-color: #7f7f7f\">400</span></a>\n",
       "</pre>\n"
      ],
      "text/plain": [
       "\u001b[2;36m[09/02/24 21:58:01]\u001b[0m\u001b[2;36m \u001b[0m\u001b[34mINFO    \u001b[0m \u001b[1m[\u001b[0m\u001b[1;36m3\u001b[0m/\u001b[1;36m10\u001b[0m\u001b[1m]\u001b[0m Retrieving fixtures for ENG-Premier League \u001b[1;36m2425\u001b[0m                \u001b]8;id=960920;file://C:\\Users\\acer\\AppData\\Local\\Programs\\Python\\Python312\\Lib\\site-packages\\soccerdata\\whoscored.py\u001b\\\u001b[2mwhoscored.py\u001b[0m\u001b]8;;\u001b\\\u001b[2m:\u001b[0m\u001b]8;id=963926;file://C:\\Users\\acer\\AppData\\Local\\Programs\\Python\\Python312\\Lib\\site-packages\\soccerdata\\whoscored.py#400\u001b\\\u001b[2m400\u001b[0m\u001b]8;;\u001b\\\n"
      ]
     },
     "metadata": {},
     "output_type": "display_data"
    },
    {
     "data": {
      "text/html": [
       "<pre style=\"white-space:pre;overflow-x:auto;line-height:normal;font-family:Menlo,'DejaVu Sans Mono',consolas,'Courier New',monospace\"><span style=\"color: #7fbfbf; text-decoration-color: #7fbfbf\">[09/02/24 21:58:11] </span><span style=\"color: #000080; text-decoration-color: #000080\">INFO    </span> <span style=\"font-weight: bold\">[</span><span style=\"color: #008080; text-decoration-color: #008080; font-weight: bold\">4</span>/<span style=\"color: #008080; text-decoration-color: #008080; font-weight: bold\">10</span><span style=\"font-weight: bold\">]</span> Retrieving fixtures for ENG-Premier League <span style=\"color: #008080; text-decoration-color: #008080; font-weight: bold\">2425</span>                <a href=\"file://C:\\Users\\acer\\AppData\\Local\\Programs\\Python\\Python312\\Lib\\site-packages\\soccerdata\\whoscored.py\" target=\"_blank\"><span style=\"color: #7f7f7f; text-decoration-color: #7f7f7f\">whoscored.py</span></a><span style=\"color: #7f7f7f; text-decoration-color: #7f7f7f\">:</span><a href=\"file://C:\\Users\\acer\\AppData\\Local\\Programs\\Python\\Python312\\Lib\\site-packages\\soccerdata\\whoscored.py#400\" target=\"_blank\"><span style=\"color: #7f7f7f; text-decoration-color: #7f7f7f\">400</span></a>\n",
       "</pre>\n"
      ],
      "text/plain": [
       "\u001b[2;36m[09/02/24 21:58:11]\u001b[0m\u001b[2;36m \u001b[0m\u001b[34mINFO    \u001b[0m \u001b[1m[\u001b[0m\u001b[1;36m4\u001b[0m/\u001b[1;36m10\u001b[0m\u001b[1m]\u001b[0m Retrieving fixtures for ENG-Premier League \u001b[1;36m2425\u001b[0m                \u001b]8;id=249708;file://C:\\Users\\acer\\AppData\\Local\\Programs\\Python\\Python312\\Lib\\site-packages\\soccerdata\\whoscored.py\u001b\\\u001b[2mwhoscored.py\u001b[0m\u001b]8;;\u001b\\\u001b[2m:\u001b[0m\u001b]8;id=492288;file://C:\\Users\\acer\\AppData\\Local\\Programs\\Python\\Python312\\Lib\\site-packages\\soccerdata\\whoscored.py#400\u001b\\\u001b[2m400\u001b[0m\u001b]8;;\u001b\\\n"
      ]
     },
     "metadata": {},
     "output_type": "display_data"
    },
    {
     "data": {
      "text/html": [
       "<pre style=\"white-space:pre;overflow-x:auto;line-height:normal;font-family:Menlo,'DejaVu Sans Mono',consolas,'Courier New',monospace\"><span style=\"color: #7fbfbf; text-decoration-color: #7fbfbf\">[09/02/24 21:58:19] </span><span style=\"color: #000080; text-decoration-color: #000080\">INFO    </span> <span style=\"font-weight: bold\">[</span><span style=\"color: #008080; text-decoration-color: #008080; font-weight: bold\">5</span>/<span style=\"color: #008080; text-decoration-color: #008080; font-weight: bold\">10</span><span style=\"font-weight: bold\">]</span> Retrieving fixtures for ENG-Premier League <span style=\"color: #008080; text-decoration-color: #008080; font-weight: bold\">2425</span>                <a href=\"file://C:\\Users\\acer\\AppData\\Local\\Programs\\Python\\Python312\\Lib\\site-packages\\soccerdata\\whoscored.py\" target=\"_blank\"><span style=\"color: #7f7f7f; text-decoration-color: #7f7f7f\">whoscored.py</span></a><span style=\"color: #7f7f7f; text-decoration-color: #7f7f7f\">:</span><a href=\"file://C:\\Users\\acer\\AppData\\Local\\Programs\\Python\\Python312\\Lib\\site-packages\\soccerdata\\whoscored.py#400\" target=\"_blank\"><span style=\"color: #7f7f7f; text-decoration-color: #7f7f7f\">400</span></a>\n",
       "</pre>\n"
      ],
      "text/plain": [
       "\u001b[2;36m[09/02/24 21:58:19]\u001b[0m\u001b[2;36m \u001b[0m\u001b[34mINFO    \u001b[0m \u001b[1m[\u001b[0m\u001b[1;36m5\u001b[0m/\u001b[1;36m10\u001b[0m\u001b[1m]\u001b[0m Retrieving fixtures for ENG-Premier League \u001b[1;36m2425\u001b[0m                \u001b]8;id=366157;file://C:\\Users\\acer\\AppData\\Local\\Programs\\Python\\Python312\\Lib\\site-packages\\soccerdata\\whoscored.py\u001b\\\u001b[2mwhoscored.py\u001b[0m\u001b]8;;\u001b\\\u001b[2m:\u001b[0m\u001b]8;id=156759;file://C:\\Users\\acer\\AppData\\Local\\Programs\\Python\\Python312\\Lib\\site-packages\\soccerdata\\whoscored.py#400\u001b\\\u001b[2m400\u001b[0m\u001b]8;;\u001b\\\n"
      ]
     },
     "metadata": {},
     "output_type": "display_data"
    },
    {
     "data": {
      "text/html": [
       "<pre style=\"white-space:pre;overflow-x:auto;line-height:normal;font-family:Menlo,'DejaVu Sans Mono',consolas,'Courier New',monospace\"><span style=\"color: #7fbfbf; text-decoration-color: #7fbfbf\">[09/02/24 21:58:26] </span><span style=\"color: #000080; text-decoration-color: #000080\">INFO    </span> <span style=\"font-weight: bold\">[</span><span style=\"color: #008080; text-decoration-color: #008080; font-weight: bold\">6</span>/<span style=\"color: #008080; text-decoration-color: #008080; font-weight: bold\">10</span><span style=\"font-weight: bold\">]</span> Retrieving fixtures for ENG-Premier League <span style=\"color: #008080; text-decoration-color: #008080; font-weight: bold\">2425</span>                <a href=\"file://C:\\Users\\acer\\AppData\\Local\\Programs\\Python\\Python312\\Lib\\site-packages\\soccerdata\\whoscored.py\" target=\"_blank\"><span style=\"color: #7f7f7f; text-decoration-color: #7f7f7f\">whoscored.py</span></a><span style=\"color: #7f7f7f; text-decoration-color: #7f7f7f\">:</span><a href=\"file://C:\\Users\\acer\\AppData\\Local\\Programs\\Python\\Python312\\Lib\\site-packages\\soccerdata\\whoscored.py#400\" target=\"_blank\"><span style=\"color: #7f7f7f; text-decoration-color: #7f7f7f\">400</span></a>\n",
       "</pre>\n"
      ],
      "text/plain": [
       "\u001b[2;36m[09/02/24 21:58:26]\u001b[0m\u001b[2;36m \u001b[0m\u001b[34mINFO    \u001b[0m \u001b[1m[\u001b[0m\u001b[1;36m6\u001b[0m/\u001b[1;36m10\u001b[0m\u001b[1m]\u001b[0m Retrieving fixtures for ENG-Premier League \u001b[1;36m2425\u001b[0m                \u001b]8;id=83637;file://C:\\Users\\acer\\AppData\\Local\\Programs\\Python\\Python312\\Lib\\site-packages\\soccerdata\\whoscored.py\u001b\\\u001b[2mwhoscored.py\u001b[0m\u001b]8;;\u001b\\\u001b[2m:\u001b[0m\u001b]8;id=23530;file://C:\\Users\\acer\\AppData\\Local\\Programs\\Python\\Python312\\Lib\\site-packages\\soccerdata\\whoscored.py#400\u001b\\\u001b[2m400\u001b[0m\u001b]8;;\u001b\\\n"
      ]
     },
     "metadata": {},
     "output_type": "display_data"
    },
    {
     "data": {
      "text/html": [
       "<pre style=\"white-space:pre;overflow-x:auto;line-height:normal;font-family:Menlo,'DejaVu Sans Mono',consolas,'Courier New',monospace\"><span style=\"color: #7fbfbf; text-decoration-color: #7fbfbf\">[09/02/24 21:58:35] </span><span style=\"color: #000080; text-decoration-color: #000080\">INFO    </span> <span style=\"font-weight: bold\">[</span><span style=\"color: #008080; text-decoration-color: #008080; font-weight: bold\">7</span>/<span style=\"color: #008080; text-decoration-color: #008080; font-weight: bold\">10</span><span style=\"font-weight: bold\">]</span> Retrieving fixtures for ENG-Premier League <span style=\"color: #008080; text-decoration-color: #008080; font-weight: bold\">2425</span>                <a href=\"file://C:\\Users\\acer\\AppData\\Local\\Programs\\Python\\Python312\\Lib\\site-packages\\soccerdata\\whoscored.py\" target=\"_blank\"><span style=\"color: #7f7f7f; text-decoration-color: #7f7f7f\">whoscored.py</span></a><span style=\"color: #7f7f7f; text-decoration-color: #7f7f7f\">:</span><a href=\"file://C:\\Users\\acer\\AppData\\Local\\Programs\\Python\\Python312\\Lib\\site-packages\\soccerdata\\whoscored.py#400\" target=\"_blank\"><span style=\"color: #7f7f7f; text-decoration-color: #7f7f7f\">400</span></a>\n",
       "</pre>\n"
      ],
      "text/plain": [
       "\u001b[2;36m[09/02/24 21:58:35]\u001b[0m\u001b[2;36m \u001b[0m\u001b[34mINFO    \u001b[0m \u001b[1m[\u001b[0m\u001b[1;36m7\u001b[0m/\u001b[1;36m10\u001b[0m\u001b[1m]\u001b[0m Retrieving fixtures for ENG-Premier League \u001b[1;36m2425\u001b[0m                \u001b]8;id=631845;file://C:\\Users\\acer\\AppData\\Local\\Programs\\Python\\Python312\\Lib\\site-packages\\soccerdata\\whoscored.py\u001b\\\u001b[2mwhoscored.py\u001b[0m\u001b]8;;\u001b\\\u001b[2m:\u001b[0m\u001b]8;id=306751;file://C:\\Users\\acer\\AppData\\Local\\Programs\\Python\\Python312\\Lib\\site-packages\\soccerdata\\whoscored.py#400\u001b\\\u001b[2m400\u001b[0m\u001b]8;;\u001b\\\n"
      ]
     },
     "metadata": {},
     "output_type": "display_data"
    },
    {
     "data": {
      "text/html": [
       "<pre style=\"white-space:pre;overflow-x:auto;line-height:normal;font-family:Menlo,'DejaVu Sans Mono',consolas,'Courier New',monospace\"><span style=\"color: #7fbfbf; text-decoration-color: #7fbfbf\">[09/02/24 21:58:42] </span><span style=\"color: #000080; text-decoration-color: #000080\">INFO    </span> <span style=\"font-weight: bold\">[</span><span style=\"color: #008080; text-decoration-color: #008080; font-weight: bold\">8</span>/<span style=\"color: #008080; text-decoration-color: #008080; font-weight: bold\">10</span><span style=\"font-weight: bold\">]</span> Retrieving fixtures for ENG-Premier League <span style=\"color: #008080; text-decoration-color: #008080; font-weight: bold\">2425</span>                <a href=\"file://C:\\Users\\acer\\AppData\\Local\\Programs\\Python\\Python312\\Lib\\site-packages\\soccerdata\\whoscored.py\" target=\"_blank\"><span style=\"color: #7f7f7f; text-decoration-color: #7f7f7f\">whoscored.py</span></a><span style=\"color: #7f7f7f; text-decoration-color: #7f7f7f\">:</span><a href=\"file://C:\\Users\\acer\\AppData\\Local\\Programs\\Python\\Python312\\Lib\\site-packages\\soccerdata\\whoscored.py#400\" target=\"_blank\"><span style=\"color: #7f7f7f; text-decoration-color: #7f7f7f\">400</span></a>\n",
       "</pre>\n"
      ],
      "text/plain": [
       "\u001b[2;36m[09/02/24 21:58:42]\u001b[0m\u001b[2;36m \u001b[0m\u001b[34mINFO    \u001b[0m \u001b[1m[\u001b[0m\u001b[1;36m8\u001b[0m/\u001b[1;36m10\u001b[0m\u001b[1m]\u001b[0m Retrieving fixtures for ENG-Premier League \u001b[1;36m2425\u001b[0m                \u001b]8;id=243680;file://C:\\Users\\acer\\AppData\\Local\\Programs\\Python\\Python312\\Lib\\site-packages\\soccerdata\\whoscored.py\u001b\\\u001b[2mwhoscored.py\u001b[0m\u001b]8;;\u001b\\\u001b[2m:\u001b[0m\u001b]8;id=915651;file://C:\\Users\\acer\\AppData\\Local\\Programs\\Python\\Python312\\Lib\\site-packages\\soccerdata\\whoscored.py#400\u001b\\\u001b[2m400\u001b[0m\u001b]8;;\u001b\\\n"
      ]
     },
     "metadata": {},
     "output_type": "display_data"
    },
    {
     "data": {
      "text/html": [
       "<pre style=\"white-space:pre;overflow-x:auto;line-height:normal;font-family:Menlo,'DejaVu Sans Mono',consolas,'Courier New',monospace\"><span style=\"color: #7fbfbf; text-decoration-color: #7fbfbf\">[09/02/24 21:58:53] </span><span style=\"color: #000080; text-decoration-color: #000080\">INFO    </span> <span style=\"font-weight: bold\">[</span><span style=\"color: #008080; text-decoration-color: #008080; font-weight: bold\">9</span>/<span style=\"color: #008080; text-decoration-color: #008080; font-weight: bold\">10</span><span style=\"font-weight: bold\">]</span> Retrieving fixtures for ENG-Premier League <span style=\"color: #008080; text-decoration-color: #008080; font-weight: bold\">2425</span>                <a href=\"file://C:\\Users\\acer\\AppData\\Local\\Programs\\Python\\Python312\\Lib\\site-packages\\soccerdata\\whoscored.py\" target=\"_blank\"><span style=\"color: #7f7f7f; text-decoration-color: #7f7f7f\">whoscored.py</span></a><span style=\"color: #7f7f7f; text-decoration-color: #7f7f7f\">:</span><a href=\"file://C:\\Users\\acer\\AppData\\Local\\Programs\\Python\\Python312\\Lib\\site-packages\\soccerdata\\whoscored.py#400\" target=\"_blank\"><span style=\"color: #7f7f7f; text-decoration-color: #7f7f7f\">400</span></a>\n",
       "</pre>\n"
      ],
      "text/plain": [
       "\u001b[2;36m[09/02/24 21:58:53]\u001b[0m\u001b[2;36m \u001b[0m\u001b[34mINFO    \u001b[0m \u001b[1m[\u001b[0m\u001b[1;36m9\u001b[0m/\u001b[1;36m10\u001b[0m\u001b[1m]\u001b[0m Retrieving fixtures for ENG-Premier League \u001b[1;36m2425\u001b[0m                \u001b]8;id=69873;file://C:\\Users\\acer\\AppData\\Local\\Programs\\Python\\Python312\\Lib\\site-packages\\soccerdata\\whoscored.py\u001b\\\u001b[2mwhoscored.py\u001b[0m\u001b]8;;\u001b\\\u001b[2m:\u001b[0m\u001b]8;id=574301;file://C:\\Users\\acer\\AppData\\Local\\Programs\\Python\\Python312\\Lib\\site-packages\\soccerdata\\whoscored.py#400\u001b\\\u001b[2m400\u001b[0m\u001b]8;;\u001b\\\n"
      ]
     },
     "metadata": {},
     "output_type": "display_data"
    },
    {
     "data": {
      "text/html": [
       "<pre style=\"white-space:pre;overflow-x:auto;line-height:normal;font-family:Menlo,'DejaVu Sans Mono',consolas,'Courier New',monospace\"><span style=\"color: #7fbfbf; text-decoration-color: #7fbfbf\">[09/02/24 21:59:03] </span><span style=\"color: #000080; text-decoration-color: #000080\">INFO    </span> <span style=\"font-weight: bold\">[</span><span style=\"color: #008080; text-decoration-color: #008080; font-weight: bold\">10</span>/<span style=\"color: #008080; text-decoration-color: #008080; font-weight: bold\">10</span><span style=\"font-weight: bold\">]</span> Retrieving fixtures for ENG-Premier League <span style=\"color: #008080; text-decoration-color: #008080; font-weight: bold\">2425</span>               <a href=\"file://C:\\Users\\acer\\AppData\\Local\\Programs\\Python\\Python312\\Lib\\site-packages\\soccerdata\\whoscored.py\" target=\"_blank\"><span style=\"color: #7f7f7f; text-decoration-color: #7f7f7f\">whoscored.py</span></a><span style=\"color: #7f7f7f; text-decoration-color: #7f7f7f\">:</span><a href=\"file://C:\\Users\\acer\\AppData\\Local\\Programs\\Python\\Python312\\Lib\\site-packages\\soccerdata\\whoscored.py#400\" target=\"_blank\"><span style=\"color: #7f7f7f; text-decoration-color: #7f7f7f\">400</span></a>\n",
       "</pre>\n"
      ],
      "text/plain": [
       "\u001b[2;36m[09/02/24 21:59:03]\u001b[0m\u001b[2;36m \u001b[0m\u001b[34mINFO    \u001b[0m \u001b[1m[\u001b[0m\u001b[1;36m10\u001b[0m/\u001b[1;36m10\u001b[0m\u001b[1m]\u001b[0m Retrieving fixtures for ENG-Premier League \u001b[1;36m2425\u001b[0m               \u001b]8;id=308944;file://C:\\Users\\acer\\AppData\\Local\\Programs\\Python\\Python312\\Lib\\site-packages\\soccerdata\\whoscored.py\u001b\\\u001b[2mwhoscored.py\u001b[0m\u001b]8;;\u001b\\\u001b[2m:\u001b[0m\u001b]8;id=745610;file://C:\\Users\\acer\\AppData\\Local\\Programs\\Python\\Python312\\Lib\\site-packages\\soccerdata\\whoscored.py#400\u001b\\\u001b[2m400\u001b[0m\u001b]8;;\u001b\\\n"
      ]
     },
     "metadata": {},
     "output_type": "display_data"
    },
    {
     "name": "stderr",
     "output_type": "stream",
     "text": [
      "C:\\Users\\acer\\AppData\\Local\\Programs\\Python\\Python312\\Lib\\site-packages\\soccerdata\\whoscored.py:424: FutureWarning: The behavior of DataFrame concatenation with empty or all-NA entries is deprecated. In a future version, this will no longer exclude empty or all-NA columns when determining the result dtypes. To retain the old behavior, exclude the relevant entries before the concat operation.\n",
      "  pd.concat(all_schedules)\n"
     ]
    },
    {
     "data": {
      "text/html": [
       "<pre style=\"white-space:pre;overflow-x:auto;line-height:normal;font-family:Menlo,'DejaVu Sans Mono',consolas,'Courier New',monospace\"><span style=\"color: #7fbfbf; text-decoration-color: #7fbfbf\">[09/02/24 21:59:14] </span><span style=\"color: #000080; text-decoration-color: #000080\">INFO    </span> <span style=\"font-weight: bold\">[</span><span style=\"color: #008080; text-decoration-color: #008080; font-weight: bold\">1</span>/<span style=\"color: #008080; text-decoration-color: #008080; font-weight: bold\">1</span><span style=\"font-weight: bold\">]</span> Retrieving game with <span style=\"color: #808000; text-decoration-color: #808000\">id</span>=<span style=\"color: #008080; text-decoration-color: #008080; font-weight: bold\">1821077</span>                                 <a href=\"file://C:\\Users\\acer\\AppData\\Local\\Programs\\Python\\Python312\\Lib\\site-packages\\soccerdata\\whoscored.py\" target=\"_blank\"><span style=\"color: #7f7f7f; text-decoration-color: #7f7f7f\">whoscored.py</span></a><span style=\"color: #7f7f7f; text-decoration-color: #7f7f7f\">:</span><a href=\"file://C:\\Users\\acer\\AppData\\Local\\Programs\\Python\\Python312\\Lib\\site-packages\\soccerdata\\whoscored.py#692\" target=\"_blank\"><span style=\"color: #7f7f7f; text-decoration-color: #7f7f7f\">692</span></a>\n",
       "</pre>\n"
      ],
      "text/plain": [
       "\u001b[2;36m[09/02/24 21:59:14]\u001b[0m\u001b[2;36m \u001b[0m\u001b[34mINFO    \u001b[0m \u001b[1m[\u001b[0m\u001b[1;36m1\u001b[0m/\u001b[1;36m1\u001b[0m\u001b[1m]\u001b[0m Retrieving game with \u001b[33mid\u001b[0m=\u001b[1;36m1821077\u001b[0m                                 \u001b]8;id=1659;file://C:\\Users\\acer\\AppData\\Local\\Programs\\Python\\Python312\\Lib\\site-packages\\soccerdata\\whoscored.py\u001b\\\u001b[2mwhoscored.py\u001b[0m\u001b]8;;\u001b\\\u001b[2m:\u001b[0m\u001b]8;id=695305;file://C:\\Users\\acer\\AppData\\Local\\Programs\\Python\\Python312\\Lib\\site-packages\\soccerdata\\whoscored.py#692\u001b\\\u001b[2m692\u001b[0m\u001b]8;;\u001b\\\n"
      ]
     },
     "metadata": {},
     "output_type": "display_data"
    },
    {
     "data": {
      "text/html": [
       "<pre style=\"white-space:pre;overflow-x:auto;line-height:normal;font-family:Menlo,'DejaVu Sans Mono',consolas,'Courier New',monospace\"><span style=\"color: #7fbfbf; text-decoration-color: #7fbfbf\">[09/02/24 21:59:44] </span><span style=\"color: #000080; text-decoration-color: #000080\">INFO    </span> Retrieving calendar for ENG-Premier League <span style=\"color: #008080; text-decoration-color: #008080; font-weight: bold\">2425</span>                       <a href=\"file://C:\\Users\\acer\\AppData\\Local\\Programs\\Python\\Python312\\Lib\\site-packages\\soccerdata\\whoscored.py\" target=\"_blank\"><span style=\"color: #7f7f7f; text-decoration-color: #7f7f7f\">whoscored.py</span></a><span style=\"color: #7f7f7f; text-decoration-color: #7f7f7f\">:</span><a href=\"file://C:\\Users\\acer\\AppData\\Local\\Programs\\Python\\Python312\\Lib\\site-packages\\soccerdata\\whoscored.py#371\" target=\"_blank\"><span style=\"color: #7f7f7f; text-decoration-color: #7f7f7f\">371</span></a>\n",
       "</pre>\n"
      ],
      "text/plain": [
       "\u001b[2;36m[09/02/24 21:59:44]\u001b[0m\u001b[2;36m \u001b[0m\u001b[34mINFO    \u001b[0m Retrieving calendar for ENG-Premier League \u001b[1;36m2425\u001b[0m                       \u001b]8;id=976001;file://C:\\Users\\acer\\AppData\\Local\\Programs\\Python\\Python312\\Lib\\site-packages\\soccerdata\\whoscored.py\u001b\\\u001b[2mwhoscored.py\u001b[0m\u001b]8;;\u001b\\\u001b[2m:\u001b[0m\u001b]8;id=499579;file://C:\\Users\\acer\\AppData\\Local\\Programs\\Python\\Python312\\Lib\\site-packages\\soccerdata\\whoscored.py#371\u001b\\\u001b[2m371\u001b[0m\u001b]8;;\u001b\\\n"
      ]
     },
     "metadata": {},
     "output_type": "display_data"
    },
    {
     "data": {
      "text/html": [
       "<pre style=\"white-space:pre;overflow-x:auto;line-height:normal;font-family:Menlo,'DejaVu Sans Mono',consolas,'Courier New',monospace\"><span style=\"color: #7fbfbf; text-decoration-color: #7fbfbf\">[09/02/24 21:59:57] </span><span style=\"color: #000080; text-decoration-color: #000080\">INFO    </span> <span style=\"font-weight: bold\">[</span><span style=\"color: #008080; text-decoration-color: #008080; font-weight: bold\">1</span>/<span style=\"color: #008080; text-decoration-color: #008080; font-weight: bold\">10</span><span style=\"font-weight: bold\">]</span> Retrieving fixtures for ENG-Premier League <span style=\"color: #008080; text-decoration-color: #008080; font-weight: bold\">2425</span>                <a href=\"file://C:\\Users\\acer\\AppData\\Local\\Programs\\Python\\Python312\\Lib\\site-packages\\soccerdata\\whoscored.py\" target=\"_blank\"><span style=\"color: #7f7f7f; text-decoration-color: #7f7f7f\">whoscored.py</span></a><span style=\"color: #7f7f7f; text-decoration-color: #7f7f7f\">:</span><a href=\"file://C:\\Users\\acer\\AppData\\Local\\Programs\\Python\\Python312\\Lib\\site-packages\\soccerdata\\whoscored.py#400\" target=\"_blank\"><span style=\"color: #7f7f7f; text-decoration-color: #7f7f7f\">400</span></a>\n",
       "</pre>\n"
      ],
      "text/plain": [
       "\u001b[2;36m[09/02/24 21:59:57]\u001b[0m\u001b[2;36m \u001b[0m\u001b[34mINFO    \u001b[0m \u001b[1m[\u001b[0m\u001b[1;36m1\u001b[0m/\u001b[1;36m10\u001b[0m\u001b[1m]\u001b[0m Retrieving fixtures for ENG-Premier League \u001b[1;36m2425\u001b[0m                \u001b]8;id=323118;file://C:\\Users\\acer\\AppData\\Local\\Programs\\Python\\Python312\\Lib\\site-packages\\soccerdata\\whoscored.py\u001b\\\u001b[2mwhoscored.py\u001b[0m\u001b]8;;\u001b\\\u001b[2m:\u001b[0m\u001b]8;id=76631;file://C:\\Users\\acer\\AppData\\Local\\Programs\\Python\\Python312\\Lib\\site-packages\\soccerdata\\whoscored.py#400\u001b\\\u001b[2m400\u001b[0m\u001b]8;;\u001b\\\n"
      ]
     },
     "metadata": {},
     "output_type": "display_data"
    },
    {
     "data": {
      "text/html": [
       "<pre style=\"white-space:pre;overflow-x:auto;line-height:normal;font-family:Menlo,'DejaVu Sans Mono',consolas,'Courier New',monospace\"><span style=\"color: #7fbfbf; text-decoration-color: #7fbfbf\">[09/02/24 22:00:04] </span><span style=\"color: #000080; text-decoration-color: #000080\">INFO    </span> <span style=\"font-weight: bold\">[</span><span style=\"color: #008080; text-decoration-color: #008080; font-weight: bold\">2</span>/<span style=\"color: #008080; text-decoration-color: #008080; font-weight: bold\">10</span><span style=\"font-weight: bold\">]</span> Retrieving fixtures for ENG-Premier League <span style=\"color: #008080; text-decoration-color: #008080; font-weight: bold\">2425</span>                <a href=\"file://C:\\Users\\acer\\AppData\\Local\\Programs\\Python\\Python312\\Lib\\site-packages\\soccerdata\\whoscored.py\" target=\"_blank\"><span style=\"color: #7f7f7f; text-decoration-color: #7f7f7f\">whoscored.py</span></a><span style=\"color: #7f7f7f; text-decoration-color: #7f7f7f\">:</span><a href=\"file://C:\\Users\\acer\\AppData\\Local\\Programs\\Python\\Python312\\Lib\\site-packages\\soccerdata\\whoscored.py#400\" target=\"_blank\"><span style=\"color: #7f7f7f; text-decoration-color: #7f7f7f\">400</span></a>\n",
       "</pre>\n"
      ],
      "text/plain": [
       "\u001b[2;36m[09/02/24 22:00:04]\u001b[0m\u001b[2;36m \u001b[0m\u001b[34mINFO    \u001b[0m \u001b[1m[\u001b[0m\u001b[1;36m2\u001b[0m/\u001b[1;36m10\u001b[0m\u001b[1m]\u001b[0m Retrieving fixtures for ENG-Premier League \u001b[1;36m2425\u001b[0m                \u001b]8;id=447381;file://C:\\Users\\acer\\AppData\\Local\\Programs\\Python\\Python312\\Lib\\site-packages\\soccerdata\\whoscored.py\u001b\\\u001b[2mwhoscored.py\u001b[0m\u001b]8;;\u001b\\\u001b[2m:\u001b[0m\u001b]8;id=315588;file://C:\\Users\\acer\\AppData\\Local\\Programs\\Python\\Python312\\Lib\\site-packages\\soccerdata\\whoscored.py#400\u001b\\\u001b[2m400\u001b[0m\u001b]8;;\u001b\\\n"
      ]
     },
     "metadata": {},
     "output_type": "display_data"
    },
    {
     "data": {
      "text/html": [
       "<pre style=\"white-space:pre;overflow-x:auto;line-height:normal;font-family:Menlo,'DejaVu Sans Mono',consolas,'Courier New',monospace\"><span style=\"color: #7fbfbf; text-decoration-color: #7fbfbf\">[09/02/24 22:00:13] </span><span style=\"color: #000080; text-decoration-color: #000080\">INFO    </span> <span style=\"font-weight: bold\">[</span><span style=\"color: #008080; text-decoration-color: #008080; font-weight: bold\">3</span>/<span style=\"color: #008080; text-decoration-color: #008080; font-weight: bold\">10</span><span style=\"font-weight: bold\">]</span> Retrieving fixtures for ENG-Premier League <span style=\"color: #008080; text-decoration-color: #008080; font-weight: bold\">2425</span>                <a href=\"file://C:\\Users\\acer\\AppData\\Local\\Programs\\Python\\Python312\\Lib\\site-packages\\soccerdata\\whoscored.py\" target=\"_blank\"><span style=\"color: #7f7f7f; text-decoration-color: #7f7f7f\">whoscored.py</span></a><span style=\"color: #7f7f7f; text-decoration-color: #7f7f7f\">:</span><a href=\"file://C:\\Users\\acer\\AppData\\Local\\Programs\\Python\\Python312\\Lib\\site-packages\\soccerdata\\whoscored.py#400\" target=\"_blank\"><span style=\"color: #7f7f7f; text-decoration-color: #7f7f7f\">400</span></a>\n",
       "</pre>\n"
      ],
      "text/plain": [
       "\u001b[2;36m[09/02/24 22:00:13]\u001b[0m\u001b[2;36m \u001b[0m\u001b[34mINFO    \u001b[0m \u001b[1m[\u001b[0m\u001b[1;36m3\u001b[0m/\u001b[1;36m10\u001b[0m\u001b[1m]\u001b[0m Retrieving fixtures for ENG-Premier League \u001b[1;36m2425\u001b[0m                \u001b]8;id=963452;file://C:\\Users\\acer\\AppData\\Local\\Programs\\Python\\Python312\\Lib\\site-packages\\soccerdata\\whoscored.py\u001b\\\u001b[2mwhoscored.py\u001b[0m\u001b]8;;\u001b\\\u001b[2m:\u001b[0m\u001b]8;id=489725;file://C:\\Users\\acer\\AppData\\Local\\Programs\\Python\\Python312\\Lib\\site-packages\\soccerdata\\whoscored.py#400\u001b\\\u001b[2m400\u001b[0m\u001b]8;;\u001b\\\n"
      ]
     },
     "metadata": {},
     "output_type": "display_data"
    },
    {
     "data": {
      "text/html": [
       "<pre style=\"white-space:pre;overflow-x:auto;line-height:normal;font-family:Menlo,'DejaVu Sans Mono',consolas,'Courier New',monospace\"><span style=\"color: #7fbfbf; text-decoration-color: #7fbfbf\">[09/02/24 22:00:20] </span><span style=\"color: #000080; text-decoration-color: #000080\">INFO    </span> <span style=\"font-weight: bold\">[</span><span style=\"color: #008080; text-decoration-color: #008080; font-weight: bold\">4</span>/<span style=\"color: #008080; text-decoration-color: #008080; font-weight: bold\">10</span><span style=\"font-weight: bold\">]</span> Retrieving fixtures for ENG-Premier League <span style=\"color: #008080; text-decoration-color: #008080; font-weight: bold\">2425</span>                <a href=\"file://C:\\Users\\acer\\AppData\\Local\\Programs\\Python\\Python312\\Lib\\site-packages\\soccerdata\\whoscored.py\" target=\"_blank\"><span style=\"color: #7f7f7f; text-decoration-color: #7f7f7f\">whoscored.py</span></a><span style=\"color: #7f7f7f; text-decoration-color: #7f7f7f\">:</span><a href=\"file://C:\\Users\\acer\\AppData\\Local\\Programs\\Python\\Python312\\Lib\\site-packages\\soccerdata\\whoscored.py#400\" target=\"_blank\"><span style=\"color: #7f7f7f; text-decoration-color: #7f7f7f\">400</span></a>\n",
       "</pre>\n"
      ],
      "text/plain": [
       "\u001b[2;36m[09/02/24 22:00:20]\u001b[0m\u001b[2;36m \u001b[0m\u001b[34mINFO    \u001b[0m \u001b[1m[\u001b[0m\u001b[1;36m4\u001b[0m/\u001b[1;36m10\u001b[0m\u001b[1m]\u001b[0m Retrieving fixtures for ENG-Premier League \u001b[1;36m2425\u001b[0m                \u001b]8;id=87290;file://C:\\Users\\acer\\AppData\\Local\\Programs\\Python\\Python312\\Lib\\site-packages\\soccerdata\\whoscored.py\u001b\\\u001b[2mwhoscored.py\u001b[0m\u001b]8;;\u001b\\\u001b[2m:\u001b[0m\u001b]8;id=608700;file://C:\\Users\\acer\\AppData\\Local\\Programs\\Python\\Python312\\Lib\\site-packages\\soccerdata\\whoscored.py#400\u001b\\\u001b[2m400\u001b[0m\u001b]8;;\u001b\\\n"
      ]
     },
     "metadata": {},
     "output_type": "display_data"
    },
    {
     "data": {
      "text/html": [
       "<pre style=\"white-space:pre;overflow-x:auto;line-height:normal;font-family:Menlo,'DejaVu Sans Mono',consolas,'Courier New',monospace\"><span style=\"color: #7fbfbf; text-decoration-color: #7fbfbf\">[09/02/24 22:00:29] </span><span style=\"color: #000080; text-decoration-color: #000080\">INFO    </span> <span style=\"font-weight: bold\">[</span><span style=\"color: #008080; text-decoration-color: #008080; font-weight: bold\">5</span>/<span style=\"color: #008080; text-decoration-color: #008080; font-weight: bold\">10</span><span style=\"font-weight: bold\">]</span> Retrieving fixtures for ENG-Premier League <span style=\"color: #008080; text-decoration-color: #008080; font-weight: bold\">2425</span>                <a href=\"file://C:\\Users\\acer\\AppData\\Local\\Programs\\Python\\Python312\\Lib\\site-packages\\soccerdata\\whoscored.py\" target=\"_blank\"><span style=\"color: #7f7f7f; text-decoration-color: #7f7f7f\">whoscored.py</span></a><span style=\"color: #7f7f7f; text-decoration-color: #7f7f7f\">:</span><a href=\"file://C:\\Users\\acer\\AppData\\Local\\Programs\\Python\\Python312\\Lib\\site-packages\\soccerdata\\whoscored.py#400\" target=\"_blank\"><span style=\"color: #7f7f7f; text-decoration-color: #7f7f7f\">400</span></a>\n",
       "</pre>\n"
      ],
      "text/plain": [
       "\u001b[2;36m[09/02/24 22:00:29]\u001b[0m\u001b[2;36m \u001b[0m\u001b[34mINFO    \u001b[0m \u001b[1m[\u001b[0m\u001b[1;36m5\u001b[0m/\u001b[1;36m10\u001b[0m\u001b[1m]\u001b[0m Retrieving fixtures for ENG-Premier League \u001b[1;36m2425\u001b[0m                \u001b]8;id=933595;file://C:\\Users\\acer\\AppData\\Local\\Programs\\Python\\Python312\\Lib\\site-packages\\soccerdata\\whoscored.py\u001b\\\u001b[2mwhoscored.py\u001b[0m\u001b]8;;\u001b\\\u001b[2m:\u001b[0m\u001b]8;id=164670;file://C:\\Users\\acer\\AppData\\Local\\Programs\\Python\\Python312\\Lib\\site-packages\\soccerdata\\whoscored.py#400\u001b\\\u001b[2m400\u001b[0m\u001b]8;;\u001b\\\n"
      ]
     },
     "metadata": {},
     "output_type": "display_data"
    },
    {
     "data": {
      "text/html": [
       "<pre style=\"white-space:pre;overflow-x:auto;line-height:normal;font-family:Menlo,'DejaVu Sans Mono',consolas,'Courier New',monospace\"><span style=\"color: #7fbfbf; text-decoration-color: #7fbfbf\">[09/02/24 22:00:38] </span><span style=\"color: #800000; text-decoration-color: #800000; font-weight: bold\">ERROR   </span> Error while scraping                                                    <a href=\"file://C:\\Users\\acer\\AppData\\Local\\Programs\\Python\\Python312\\Lib\\site-packages\\soccerdata\\_common.py\" target=\"_blank\"><span style=\"color: #7f7f7f; text-decoration-color: #7f7f7f\">_common.py</span></a><span style=\"color: #7f7f7f; text-decoration-color: #7f7f7f\">:</span><a href=\"file://C:\\Users\\acer\\AppData\\Local\\Programs\\Python\\Python312\\Lib\\site-packages\\soccerdata\\_common.py#655\" target=\"_blank\"><span style=\"color: #7f7f7f; text-decoration-color: #7f7f7f\">655</span></a>\n",
       "<span style=\"color: #7fbfbf; text-decoration-color: #7fbfbf\">                    </span>         <span style=\"color: #0000ff; text-decoration-color: #0000ff; text-decoration: underline\">https://www.whoscored.com/tournaments/23400/data/?d=202410.</span> Retrying in <span style=\"color: #7f7f7f; text-decoration-color: #7f7f7f\">              </span>\n",
       "<span style=\"color: #7fbfbf; text-decoration-color: #7fbfbf\">                    </span>         <span style=\"color: #008080; text-decoration-color: #008080; font-weight: bold\">0</span> seconds<span style=\"color: #808000; text-decoration-color: #808000\">...</span> <span style=\"font-weight: bold\">(</span>attempt <span style=\"color: #008080; text-decoration-color: #008080; font-weight: bold\">1</span> of <span style=\"color: #008080; text-decoration-color: #008080; font-weight: bold\">5</span><span style=\"font-weight: bold\">)</span>.                                          <span style=\"color: #7f7f7f; text-decoration-color: #7f7f7f\">              </span>\n",
       "<span style=\"color: #7fbfbf; text-decoration-color: #7fbfbf\">                    </span>         Traceback <span style=\"font-weight: bold\">(</span>most recent call last<span style=\"font-weight: bold\">)</span>:                                      <span style=\"color: #7f7f7f; text-decoration-color: #7f7f7f\">              </span>\n",
       "<span style=\"color: #7fbfbf; text-decoration-color: #7fbfbf\">                    </span>           File                                                                  <span style=\"color: #7f7f7f; text-decoration-color: #7f7f7f\">              </span>\n",
       "<span style=\"color: #7fbfbf; text-decoration-color: #7fbfbf\">                    </span>         <span style=\"color: #008000; text-decoration-color: #008000\">\"C:\\Users\\acer\\AppData\\Local\\Programs\\Python\\Python312\\Lib\\site-package</span> <span style=\"color: #7f7f7f; text-decoration-color: #7f7f7f\">              </span>\n",
       "<span style=\"color: #7fbfbf; text-decoration-color: #7fbfbf\">                    </span>         <span style=\"color: #008000; text-decoration-color: #008000\">s\\soccerdata\\_common.py\"</span>, line <span style=\"color: #008080; text-decoration-color: #008080; font-weight: bold\">633</span>, in _download_and_save               <span style=\"color: #7f7f7f; text-decoration-color: #7f7f7f\">              </span>\n",
       "<span style=\"color: #7fbfbf; text-decoration-color: #7fbfbf\">                    </span>             if <span style=\"color: #008000; text-decoration-color: #008000\">\"Incapsula incident ID\"</span> in self._driver.page_source:             <span style=\"color: #7f7f7f; text-decoration-color: #7f7f7f\">              </span>\n",
       "<span style=\"color: #7fbfbf; text-decoration-color: #7fbfbf\">                    </span>                                           ^^^^^^^^^^^^^^^^^^^^^^^^              <span style=\"color: #7f7f7f; text-decoration-color: #7f7f7f\">              </span>\n",
       "<span style=\"color: #7fbfbf; text-decoration-color: #7fbfbf\">                    </span>           File                                                                  <span style=\"color: #7f7f7f; text-decoration-color: #7f7f7f\">              </span>\n",
       "<span style=\"color: #7fbfbf; text-decoration-color: #7fbfbf\">                    </span>         <span style=\"color: #008000; text-decoration-color: #008000\">\"C:\\Users\\acer\\AppData\\Local\\Programs\\Python\\Python312\\Lib\\site-package</span> <span style=\"color: #7f7f7f; text-decoration-color: #7f7f7f\">              </span>\n",
       "<span style=\"color: #7fbfbf; text-decoration-color: #7fbfbf\">                    </span>         <span style=\"color: #008000; text-decoration-color: #008000\">s\\undetected_chromedriver\\__init__.py\"</span>, line <span style=\"color: #008080; text-decoration-color: #008080; font-weight: bold\">806</span>, in __getattribute__   <span style=\"color: #7f7f7f; text-decoration-color: #7f7f7f\">              </span>\n",
       "<span style=\"color: #7fbfbf; text-decoration-color: #7fbfbf\">                    </span>             return <span style=\"color: #800080; text-decoration-color: #800080; font-weight: bold\">super</span><span style=\"font-weight: bold\">()</span><span style=\"color: #800080; text-decoration-color: #800080; font-weight: bold\">.__getattribute__</span><span style=\"font-weight: bold\">(</span>item<span style=\"font-weight: bold\">)</span>                               <span style=\"color: #7f7f7f; text-decoration-color: #7f7f7f\">              </span>\n",
       "<span style=\"color: #7fbfbf; text-decoration-color: #7fbfbf\">                    </span>                    ^^^^^^^^^^^^^^^^^^^^^^^^^^^^^^                               <span style=\"color: #7f7f7f; text-decoration-color: #7f7f7f\">              </span>\n",
       "<span style=\"color: #7fbfbf; text-decoration-color: #7fbfbf\">                    </span>           File                                                                  <span style=\"color: #7f7f7f; text-decoration-color: #7f7f7f\">              </span>\n",
       "<span style=\"color: #7fbfbf; text-decoration-color: #7fbfbf\">                    </span>         <span style=\"color: #008000; text-decoration-color: #008000\">\"C:\\Users\\acer\\AppData\\Local\\Programs\\Python\\Python312\\Lib\\site-package</span> <span style=\"color: #7f7f7f; text-decoration-color: #7f7f7f\">              </span>\n",
       "<span style=\"color: #7fbfbf; text-decoration-color: #7fbfbf\">                    </span>         <span style=\"color: #008000; text-decoration-color: #008000\">s\\selenium\\webdriver\\remote\\webdriver.py\"</span>, line <span style=\"color: #008080; text-decoration-color: #008080; font-weight: bold\">455</span>, in page_source     <span style=\"color: #7f7f7f; text-decoration-color: #7f7f7f\">              </span>\n",
       "<span style=\"color: #7fbfbf; text-decoration-color: #7fbfbf\">                    </span>             return <span style=\"color: #800080; text-decoration-color: #800080; font-weight: bold\">self.execute</span><span style=\"font-weight: bold\">(</span>Command.<span style=\"color: #808000; text-decoration-color: #808000; font-weight: bold\">GET</span>_PAGE_SOURCE<span style=\"font-weight: bold\">)[</span><span style=\"color: #008000; text-decoration-color: #008000\">\"value\"</span><span style=\"font-weight: bold\">]</span>               <span style=\"color: #7f7f7f; text-decoration-color: #7f7f7f\">              </span>\n",
       "<span style=\"color: #7fbfbf; text-decoration-color: #7fbfbf\">                    </span>                    ^^^^^^^^^^^^^^^^^^^^^^^^^^^^^^^^^^^^^                        <span style=\"color: #7f7f7f; text-decoration-color: #7f7f7f\">              </span>\n",
       "<span style=\"color: #7fbfbf; text-decoration-color: #7fbfbf\">                    </span>           File                                                                  <span style=\"color: #7f7f7f; text-decoration-color: #7f7f7f\">              </span>\n",
       "<span style=\"color: #7fbfbf; text-decoration-color: #7fbfbf\">                    </span>         <span style=\"color: #008000; text-decoration-color: #008000\">\"C:\\Users\\acer\\AppData\\Local\\Programs\\Python\\Python312\\Lib\\site-package</span> <span style=\"color: #7f7f7f; text-decoration-color: #7f7f7f\">              </span>\n",
       "<span style=\"color: #7fbfbf; text-decoration-color: #7fbfbf\">                    </span>         <span style=\"color: #008000; text-decoration-color: #008000\">s\\selenium\\webdriver\\remote\\webdriver.py\"</span>, line <span style=\"color: #008080; text-decoration-color: #008080; font-weight: bold\">354</span>, in execute         <span style=\"color: #7f7f7f; text-decoration-color: #7f7f7f\">              </span>\n",
       "<span style=\"color: #7fbfbf; text-decoration-color: #7fbfbf\">                    </span>             <span style=\"color: #800080; text-decoration-color: #800080; font-weight: bold\">self.error_handler.check_response</span><span style=\"font-weight: bold\">(</span>response<span style=\"font-weight: bold\">)</span>                         <span style=\"color: #7f7f7f; text-decoration-color: #7f7f7f\">              </span>\n",
       "<span style=\"color: #7fbfbf; text-decoration-color: #7fbfbf\">                    </span>           File                                                                  <span style=\"color: #7f7f7f; text-decoration-color: #7f7f7f\">              </span>\n",
       "<span style=\"color: #7fbfbf; text-decoration-color: #7fbfbf\">                    </span>         <span style=\"color: #008000; text-decoration-color: #008000\">\"C:\\Users\\acer\\AppData\\Local\\Programs\\Python\\Python312\\Lib\\site-package</span> <span style=\"color: #7f7f7f; text-decoration-color: #7f7f7f\">              </span>\n",
       "<span style=\"color: #7fbfbf; text-decoration-color: #7fbfbf\">                    </span>         <span style=\"color: #008000; text-decoration-color: #008000\">s\\selenium\\webdriver\\remote\\errorhandler.py\"</span>, line <span style=\"color: #008080; text-decoration-color: #008080; font-weight: bold\">229</span>, in              <span style=\"color: #7f7f7f; text-decoration-color: #7f7f7f\">              </span>\n",
       "<span style=\"color: #7fbfbf; text-decoration-color: #7fbfbf\">                    </span>         check_response                                                          <span style=\"color: #7f7f7f; text-decoration-color: #7f7f7f\">              </span>\n",
       "<span style=\"color: #7fbfbf; text-decoration-color: #7fbfbf\">                    </span>             raise <span style=\"color: #800080; text-decoration-color: #800080; font-weight: bold\">exception_class</span><span style=\"font-weight: bold\">(</span>message, screen, stacktrace<span style=\"font-weight: bold\">)</span>                  <span style=\"color: #7f7f7f; text-decoration-color: #7f7f7f\">              </span>\n",
       "<span style=\"color: #7fbfbf; text-decoration-color: #7fbfbf\">                    </span>         selenium.common.exceptions.WebDriverException: Message: disconnected:   <span style=\"color: #7f7f7f; text-decoration-color: #7f7f7f\">              </span>\n",
       "<span style=\"color: #7fbfbf; text-decoration-color: #7fbfbf\">                    </span>         not connected to DevTools                                               <span style=\"color: #7f7f7f; text-decoration-color: #7f7f7f\">              </span>\n",
       "<span style=\"color: #7fbfbf; text-decoration-color: #7fbfbf\">                    </span>           <span style=\"font-weight: bold\">(</span>failed to check if window was closed: disconnected: not connected to <span style=\"color: #7f7f7f; text-decoration-color: #7f7f7f\">              </span>\n",
       "<span style=\"color: #7fbfbf; text-decoration-color: #7fbfbf\">                    </span>         DevTools<span style=\"font-weight: bold\">)</span>                                                               <span style=\"color: #7f7f7f; text-decoration-color: #7f7f7f\">              </span>\n",
       "<span style=\"color: #7fbfbf; text-decoration-color: #7fbfbf\">                    </span>           <span style=\"font-weight: bold\">(</span>Session info: <span style=\"color: #808000; text-decoration-color: #808000\">chrome</span>=<span style=\"color: #008080; text-decoration-color: #008080; font-weight: bold\">128.0</span>.<span style=\"color: #008080; text-decoration-color: #008080; font-weight: bold\">6613.113</span><span style=\"font-weight: bold\">)</span>                                 <span style=\"color: #7f7f7f; text-decoration-color: #7f7f7f\">              </span>\n",
       "<span style=\"color: #7fbfbf; text-decoration-color: #7fbfbf\">                    </span>         Stacktrace:                                                             <span style=\"color: #7f7f7f; text-decoration-color: #7f7f7f\">              </span>\n",
       "<span style=\"color: #7fbfbf; text-decoration-color: #7fbfbf\">                    </span>                 GetHandleVerifier <span style=\"font-weight: bold\">[</span><span style=\"color: #008080; text-decoration-color: #008080; font-weight: bold\">0x00FA8283</span>+<span style=\"color: #008080; text-decoration-color: #008080; font-weight: bold\">26163</span><span style=\"font-weight: bold\">]</span>                            <span style=\"color: #7f7f7f; text-decoration-color: #7f7f7f\">              </span>\n",
       "<span style=\"color: #7fbfbf; text-decoration-color: #7fbfbf\">                    </span>                 <span style=\"font-weight: bold\">(</span>No symbol<span style=\"font-weight: bold\">)</span> <span style=\"font-weight: bold\">[</span><span style=\"color: #008080; text-decoration-color: #008080; font-weight: bold\">0x00F39D34</span><span style=\"font-weight: bold\">]</span>                                        <span style=\"color: #7f7f7f; text-decoration-color: #7f7f7f\">              </span>\n",
       "<span style=\"color: #7fbfbf; text-decoration-color: #7fbfbf\">                    </span>                 <span style=\"font-weight: bold\">(</span>No symbol<span style=\"font-weight: bold\">)</span> <span style=\"font-weight: bold\">[</span><span style=\"color: #008080; text-decoration-color: #008080; font-weight: bold\">0x00E324C3</span><span style=\"font-weight: bold\">]</span>                                        <span style=\"color: #7f7f7f; text-decoration-color: #7f7f7f\">              </span>\n",
       "<span style=\"color: #7fbfbf; text-decoration-color: #7fbfbf\">                    </span>                 <span style=\"font-weight: bold\">(</span>No symbol<span style=\"font-weight: bold\">)</span> <span style=\"font-weight: bold\">[</span><span style=\"color: #008080; text-decoration-color: #008080; font-weight: bold\">0x00E1D118</span><span style=\"font-weight: bold\">]</span>                                        <span style=\"color: #7f7f7f; text-decoration-color: #7f7f7f\">              </span>\n",
       "<span style=\"color: #7fbfbf; text-decoration-color: #7fbfbf\">                    </span>                 <span style=\"font-weight: bold\">(</span>No symbol<span style=\"font-weight: bold\">)</span> <span style=\"font-weight: bold\">[</span><span style=\"color: #008080; text-decoration-color: #008080; font-weight: bold\">0x00E1D039</span><span style=\"font-weight: bold\">]</span>                                        <span style=\"color: #7f7f7f; text-decoration-color: #7f7f7f\">              </span>\n",
       "<span style=\"color: #7fbfbf; text-decoration-color: #7fbfbf\">                    </span>                 <span style=\"font-weight: bold\">(</span>No symbol<span style=\"font-weight: bold\">)</span> <span style=\"font-weight: bold\">[</span><span style=\"color: #008080; text-decoration-color: #008080; font-weight: bold\">0x00E34960</span><span style=\"font-weight: bold\">]</span>                                        <span style=\"color: #7f7f7f; text-decoration-color: #7f7f7f\">              </span>\n",
       "<span style=\"color: #7fbfbf; text-decoration-color: #7fbfbf\">                    </span>                 <span style=\"font-weight: bold\">(</span>No symbol<span style=\"font-weight: bold\">)</span> <span style=\"font-weight: bold\">[</span><span style=\"color: #008080; text-decoration-color: #008080; font-weight: bold\">0x00EB3FB9</span><span style=\"font-weight: bold\">]</span>                                        <span style=\"color: #7f7f7f; text-decoration-color: #7f7f7f\">              </span>\n",
       "<span style=\"color: #7fbfbf; text-decoration-color: #7fbfbf\">                    </span>                 <span style=\"font-weight: bold\">(</span>No symbol<span style=\"font-weight: bold\">)</span> <span style=\"font-weight: bold\">[</span><span style=\"color: #008080; text-decoration-color: #008080; font-weight: bold\">0x00E9AA56</span><span style=\"font-weight: bold\">]</span>                                        <span style=\"color: #7f7f7f; text-decoration-color: #7f7f7f\">              </span>\n",
       "<span style=\"color: #7fbfbf; text-decoration-color: #7fbfbf\">                    </span>                 <span style=\"font-weight: bold\">(</span>No symbol<span style=\"font-weight: bold\">)</span> <span style=\"font-weight: bold\">[</span><span style=\"color: #008080; text-decoration-color: #008080; font-weight: bold\">0x00E6BE89</span><span style=\"font-weight: bold\">]</span>                                        <span style=\"color: #7f7f7f; text-decoration-color: #7f7f7f\">              </span>\n",
       "<span style=\"color: #7fbfbf; text-decoration-color: #7fbfbf\">                    </span>                 <span style=\"font-weight: bold\">(</span>No symbol<span style=\"font-weight: bold\">)</span> <span style=\"font-weight: bold\">[</span><span style=\"color: #008080; text-decoration-color: #008080; font-weight: bold\">0x00E6C8CD</span><span style=\"font-weight: bold\">]</span>                                        <span style=\"color: #7f7f7f; text-decoration-color: #7f7f7f\">              </span>\n",
       "<span style=\"color: #7fbfbf; text-decoration-color: #7fbfbf\">                    </span>                 GetHandleVerifier <span style=\"font-weight: bold\">[</span><span style=\"color: #008080; text-decoration-color: #008080; font-weight: bold\">0x0127CF73</span>+<span style=\"color: #008080; text-decoration-color: #008080; font-weight: bold\">2994979</span><span style=\"font-weight: bold\">]</span>                          <span style=\"color: #7f7f7f; text-decoration-color: #7f7f7f\">              </span>\n",
       "<span style=\"color: #7fbfbf; text-decoration-color: #7fbfbf\">                    </span>                 GetHandleVerifier <span style=\"font-weight: bold\">[</span><span style=\"color: #008080; text-decoration-color: #008080; font-weight: bold\">0x012D17E9</span>+<span style=\"color: #008080; text-decoration-color: #008080; font-weight: bold\">3341209</span><span style=\"font-weight: bold\">]</span>                          <span style=\"color: #7f7f7f; text-decoration-color: #7f7f7f\">              </span>\n",
       "<span style=\"color: #7fbfbf; text-decoration-color: #7fbfbf\">                    </span>                 GetHandleVerifier <span style=\"font-weight: bold\">[</span><span style=\"color: #008080; text-decoration-color: #008080; font-weight: bold\">0x01037B5F</span>+<span style=\"color: #008080; text-decoration-color: #008080; font-weight: bold\">614159</span><span style=\"font-weight: bold\">]</span>                           <span style=\"color: #7f7f7f; text-decoration-color: #7f7f7f\">              </span>\n",
       "<span style=\"color: #7fbfbf; text-decoration-color: #7fbfbf\">                    </span>                 GetHandleVerifier <span style=\"font-weight: bold\">[</span><span style=\"color: #008080; text-decoration-color: #008080; font-weight: bold\">0x0103F1EC</span>+<span style=\"color: #008080; text-decoration-color: #008080; font-weight: bold\">644508</span><span style=\"font-weight: bold\">]</span>                           <span style=\"color: #7f7f7f; text-decoration-color: #7f7f7f\">              </span>\n",
       "<span style=\"color: #7fbfbf; text-decoration-color: #7fbfbf\">                    </span>                 <span style=\"font-weight: bold\">(</span>No symbol<span style=\"font-weight: bold\">)</span> <span style=\"font-weight: bold\">[</span><span style=\"color: #008080; text-decoration-color: #008080; font-weight: bold\">0x00F4286D</span><span style=\"font-weight: bold\">]</span>                                        <span style=\"color: #7f7f7f; text-decoration-color: #7f7f7f\">              </span>\n",
       "<span style=\"color: #7fbfbf; text-decoration-color: #7fbfbf\">                    </span>                 <span style=\"font-weight: bold\">(</span>No symbol<span style=\"font-weight: bold\">)</span> <span style=\"font-weight: bold\">[</span><span style=\"color: #008080; text-decoration-color: #008080; font-weight: bold\">0x00F3F768</span><span style=\"font-weight: bold\">]</span>                                        <span style=\"color: #7f7f7f; text-decoration-color: #7f7f7f\">              </span>\n",
       "<span style=\"color: #7fbfbf; text-decoration-color: #7fbfbf\">                    </span>                 <span style=\"font-weight: bold\">(</span>No symbol<span style=\"font-weight: bold\">)</span> <span style=\"font-weight: bold\">[</span><span style=\"color: #008080; text-decoration-color: #008080; font-weight: bold\">0x00F3F905</span><span style=\"font-weight: bold\">]</span>                                        <span style=\"color: #7f7f7f; text-decoration-color: #7f7f7f\">              </span>\n",
       "<span style=\"color: #7fbfbf; text-decoration-color: #7fbfbf\">                    </span>                 <span style=\"font-weight: bold\">(</span>No symbol<span style=\"font-weight: bold\">)</span> <span style=\"font-weight: bold\">[</span><span style=\"color: #008080; text-decoration-color: #008080; font-weight: bold\">0x00F31C86</span><span style=\"font-weight: bold\">]</span>                                        <span style=\"color: #7f7f7f; text-decoration-color: #7f7f7f\">              </span>\n",
       "<span style=\"color: #7fbfbf; text-decoration-color: #7fbfbf\">                    </span>                 BaseThreadInitThunk <span style=\"font-weight: bold\">[</span><span style=\"color: #008080; text-decoration-color: #008080; font-weight: bold\">0x76D8FCC9</span>+<span style=\"color: #008080; text-decoration-color: #008080; font-weight: bold\">25</span><span style=\"font-weight: bold\">]</span>                             <span style=\"color: #7f7f7f; text-decoration-color: #7f7f7f\">              </span>\n",
       "<span style=\"color: #7fbfbf; text-decoration-color: #7fbfbf\">                    </span>                 RtlGetAppContainerNamedObjectPath <span style=\"font-weight: bold\">[</span><span style=\"color: #008080; text-decoration-color: #008080; font-weight: bold\">0x770080CE</span>+<span style=\"color: #008080; text-decoration-color: #008080; font-weight: bold\">286</span><span style=\"font-weight: bold\">]</span>              <span style=\"color: #7f7f7f; text-decoration-color: #7f7f7f\">              </span>\n",
       "<span style=\"color: #7fbfbf; text-decoration-color: #7fbfbf\">                    </span>                 RtlGetAppContainerNamedObjectPath <span style=\"font-weight: bold\">[</span><span style=\"color: #008080; text-decoration-color: #008080; font-weight: bold\">0x7700809E</span>+<span style=\"color: #008080; text-decoration-color: #008080; font-weight: bold\">238</span><span style=\"font-weight: bold\">]</span>              <span style=\"color: #7f7f7f; text-decoration-color: #7f7f7f\">              </span>\n",
       "<span style=\"color: #7fbfbf; text-decoration-color: #7fbfbf\">                    </span>                                                                                 <span style=\"color: #7f7f7f; text-decoration-color: #7f7f7f\">              </span>\n",
       "</pre>\n"
      ],
      "text/plain": [
       "\u001b[2;36m[09/02/24 22:00:38]\u001b[0m\u001b[2;36m \u001b[0m\u001b[1;31mERROR   \u001b[0m Error while scraping                                                    \u001b]8;id=404694;file://C:\\Users\\acer\\AppData\\Local\\Programs\\Python\\Python312\\Lib\\site-packages\\soccerdata\\_common.py\u001b\\\u001b[2m_common.py\u001b[0m\u001b]8;;\u001b\\\u001b[2m:\u001b[0m\u001b]8;id=268803;file://C:\\Users\\acer\\AppData\\Local\\Programs\\Python\\Python312\\Lib\\site-packages\\soccerdata\\_common.py#655\u001b\\\u001b[2m655\u001b[0m\u001b]8;;\u001b\\\n",
       "\u001b[2;36m                    \u001b[0m         \u001b[4;94mhttps://www.whoscored.com/tournaments/23400/data/?\u001b[0m\u001b[4;94md\u001b[0m\u001b[4;94m=\u001b[0m\u001b[4;94m202410\u001b[0m\u001b[4;94m.\u001b[0m Retrying in \u001b[2m              \u001b[0m\n",
       "\u001b[2;36m                    \u001b[0m         \u001b[1;36m0\u001b[0m seconds\u001b[33m...\u001b[0m \u001b[1m(\u001b[0mattempt \u001b[1;36m1\u001b[0m of \u001b[1;36m5\u001b[0m\u001b[1m)\u001b[0m.                                          \u001b[2m              \u001b[0m\n",
       "\u001b[2;36m                    \u001b[0m         Traceback \u001b[1m(\u001b[0mmost recent call last\u001b[1m)\u001b[0m:                                      \u001b[2m              \u001b[0m\n",
       "\u001b[2;36m                    \u001b[0m           File                                                                  \u001b[2m              \u001b[0m\n",
       "\u001b[2;36m                    \u001b[0m         \u001b[32m\"C:\\Users\\acer\\AppData\\Local\\Programs\\Python\\Python312\\Lib\\site-package\u001b[0m \u001b[2m              \u001b[0m\n",
       "\u001b[2;36m                    \u001b[0m         \u001b[32ms\\soccerdata\\_common.py\"\u001b[0m, line \u001b[1;36m633\u001b[0m, in _download_and_save               \u001b[2m              \u001b[0m\n",
       "\u001b[2;36m                    \u001b[0m             if \u001b[32m\"Incapsula incident ID\"\u001b[0m in self._driver.page_source:             \u001b[2m              \u001b[0m\n",
       "\u001b[2;36m                    \u001b[0m                                           ^^^^^^^^^^^^^^^^^^^^^^^^              \u001b[2m              \u001b[0m\n",
       "\u001b[2;36m                    \u001b[0m           File                                                                  \u001b[2m              \u001b[0m\n",
       "\u001b[2;36m                    \u001b[0m         \u001b[32m\"C:\\Users\\acer\\AppData\\Local\\Programs\\Python\\Python312\\Lib\\site-package\u001b[0m \u001b[2m              \u001b[0m\n",
       "\u001b[2;36m                    \u001b[0m         \u001b[32ms\\undetected_chromedriver\\__init__.py\"\u001b[0m, line \u001b[1;36m806\u001b[0m, in __getattribute__   \u001b[2m              \u001b[0m\n",
       "\u001b[2;36m                    \u001b[0m             return \u001b[1;35msuper\u001b[0m\u001b[1m(\u001b[0m\u001b[1m)\u001b[0m\u001b[1;35m.__getattribute__\u001b[0m\u001b[1m(\u001b[0mitem\u001b[1m)\u001b[0m                               \u001b[2m              \u001b[0m\n",
       "\u001b[2;36m                    \u001b[0m                    ^^^^^^^^^^^^^^^^^^^^^^^^^^^^^^                               \u001b[2m              \u001b[0m\n",
       "\u001b[2;36m                    \u001b[0m           File                                                                  \u001b[2m              \u001b[0m\n",
       "\u001b[2;36m                    \u001b[0m         \u001b[32m\"C:\\Users\\acer\\AppData\\Local\\Programs\\Python\\Python312\\Lib\\site-package\u001b[0m \u001b[2m              \u001b[0m\n",
       "\u001b[2;36m                    \u001b[0m         \u001b[32ms\\selenium\\webdriver\\remote\\webdriver.py\"\u001b[0m, line \u001b[1;36m455\u001b[0m, in page_source     \u001b[2m              \u001b[0m\n",
       "\u001b[2;36m                    \u001b[0m             return \u001b[1;35mself.execute\u001b[0m\u001b[1m(\u001b[0mCommand.\u001b[1;33mGET\u001b[0m_PAGE_SOURCE\u001b[1m)\u001b[0m\u001b[1m[\u001b[0m\u001b[32m\"value\"\u001b[0m\u001b[1m]\u001b[0m               \u001b[2m              \u001b[0m\n",
       "\u001b[2;36m                    \u001b[0m                    ^^^^^^^^^^^^^^^^^^^^^^^^^^^^^^^^^^^^^                        \u001b[2m              \u001b[0m\n",
       "\u001b[2;36m                    \u001b[0m           File                                                                  \u001b[2m              \u001b[0m\n",
       "\u001b[2;36m                    \u001b[0m         \u001b[32m\"C:\\Users\\acer\\AppData\\Local\\Programs\\Python\\Python312\\Lib\\site-package\u001b[0m \u001b[2m              \u001b[0m\n",
       "\u001b[2;36m                    \u001b[0m         \u001b[32ms\\selenium\\webdriver\\remote\\webdriver.py\"\u001b[0m, line \u001b[1;36m354\u001b[0m, in execute         \u001b[2m              \u001b[0m\n",
       "\u001b[2;36m                    \u001b[0m             \u001b[1;35mself.error_handler.check_response\u001b[0m\u001b[1m(\u001b[0mresponse\u001b[1m)\u001b[0m                         \u001b[2m              \u001b[0m\n",
       "\u001b[2;36m                    \u001b[0m           File                                                                  \u001b[2m              \u001b[0m\n",
       "\u001b[2;36m                    \u001b[0m         \u001b[32m\"C:\\Users\\acer\\AppData\\Local\\Programs\\Python\\Python312\\Lib\\site-package\u001b[0m \u001b[2m              \u001b[0m\n",
       "\u001b[2;36m                    \u001b[0m         \u001b[32ms\\selenium\\webdriver\\remote\\errorhandler.py\"\u001b[0m, line \u001b[1;36m229\u001b[0m, in              \u001b[2m              \u001b[0m\n",
       "\u001b[2;36m                    \u001b[0m         check_response                                                          \u001b[2m              \u001b[0m\n",
       "\u001b[2;36m                    \u001b[0m             raise \u001b[1;35mexception_class\u001b[0m\u001b[1m(\u001b[0mmessage, screen, stacktrace\u001b[1m)\u001b[0m                  \u001b[2m              \u001b[0m\n",
       "\u001b[2;36m                    \u001b[0m         selenium.common.exceptions.WebDriverException: Message: disconnected:   \u001b[2m              \u001b[0m\n",
       "\u001b[2;36m                    \u001b[0m         not connected to DevTools                                               \u001b[2m              \u001b[0m\n",
       "\u001b[2;36m                    \u001b[0m           \u001b[1m(\u001b[0mfailed to check if window was closed: disconnected: not connected to \u001b[2m              \u001b[0m\n",
       "\u001b[2;36m                    \u001b[0m         DevTools\u001b[1m)\u001b[0m                                                               \u001b[2m              \u001b[0m\n",
       "\u001b[2;36m                    \u001b[0m           \u001b[1m(\u001b[0mSession info: \u001b[33mchrome\u001b[0m=\u001b[1;36m128\u001b[0m\u001b[1;36m.0\u001b[0m.\u001b[1;36m6613.113\u001b[0m\u001b[1m)\u001b[0m                                 \u001b[2m              \u001b[0m\n",
       "\u001b[2;36m                    \u001b[0m         Stacktrace:                                                             \u001b[2m              \u001b[0m\n",
       "\u001b[2;36m                    \u001b[0m                 GetHandleVerifier \u001b[1m[\u001b[0m\u001b[1;36m0x00FA8283\u001b[0m+\u001b[1;36m26163\u001b[0m\u001b[1m]\u001b[0m                            \u001b[2m              \u001b[0m\n",
       "\u001b[2;36m                    \u001b[0m                 \u001b[1m(\u001b[0mNo symbol\u001b[1m)\u001b[0m \u001b[1m[\u001b[0m\u001b[1;36m0x00F39D34\u001b[0m\u001b[1m]\u001b[0m                                        \u001b[2m              \u001b[0m\n",
       "\u001b[2;36m                    \u001b[0m                 \u001b[1m(\u001b[0mNo symbol\u001b[1m)\u001b[0m \u001b[1m[\u001b[0m\u001b[1;36m0x00E324C3\u001b[0m\u001b[1m]\u001b[0m                                        \u001b[2m              \u001b[0m\n",
       "\u001b[2;36m                    \u001b[0m                 \u001b[1m(\u001b[0mNo symbol\u001b[1m)\u001b[0m \u001b[1m[\u001b[0m\u001b[1;36m0x00E1D118\u001b[0m\u001b[1m]\u001b[0m                                        \u001b[2m              \u001b[0m\n",
       "\u001b[2;36m                    \u001b[0m                 \u001b[1m(\u001b[0mNo symbol\u001b[1m)\u001b[0m \u001b[1m[\u001b[0m\u001b[1;36m0x00E1D039\u001b[0m\u001b[1m]\u001b[0m                                        \u001b[2m              \u001b[0m\n",
       "\u001b[2;36m                    \u001b[0m                 \u001b[1m(\u001b[0mNo symbol\u001b[1m)\u001b[0m \u001b[1m[\u001b[0m\u001b[1;36m0x00E34960\u001b[0m\u001b[1m]\u001b[0m                                        \u001b[2m              \u001b[0m\n",
       "\u001b[2;36m                    \u001b[0m                 \u001b[1m(\u001b[0mNo symbol\u001b[1m)\u001b[0m \u001b[1m[\u001b[0m\u001b[1;36m0x00EB3FB9\u001b[0m\u001b[1m]\u001b[0m                                        \u001b[2m              \u001b[0m\n",
       "\u001b[2;36m                    \u001b[0m                 \u001b[1m(\u001b[0mNo symbol\u001b[1m)\u001b[0m \u001b[1m[\u001b[0m\u001b[1;36m0x00E9AA56\u001b[0m\u001b[1m]\u001b[0m                                        \u001b[2m              \u001b[0m\n",
       "\u001b[2;36m                    \u001b[0m                 \u001b[1m(\u001b[0mNo symbol\u001b[1m)\u001b[0m \u001b[1m[\u001b[0m\u001b[1;36m0x00E6BE89\u001b[0m\u001b[1m]\u001b[0m                                        \u001b[2m              \u001b[0m\n",
       "\u001b[2;36m                    \u001b[0m                 \u001b[1m(\u001b[0mNo symbol\u001b[1m)\u001b[0m \u001b[1m[\u001b[0m\u001b[1;36m0x00E6C8CD\u001b[0m\u001b[1m]\u001b[0m                                        \u001b[2m              \u001b[0m\n",
       "\u001b[2;36m                    \u001b[0m                 GetHandleVerifier \u001b[1m[\u001b[0m\u001b[1;36m0x0127CF73\u001b[0m+\u001b[1;36m2994979\u001b[0m\u001b[1m]\u001b[0m                          \u001b[2m              \u001b[0m\n",
       "\u001b[2;36m                    \u001b[0m                 GetHandleVerifier \u001b[1m[\u001b[0m\u001b[1;36m0x012D17E9\u001b[0m+\u001b[1;36m3341209\u001b[0m\u001b[1m]\u001b[0m                          \u001b[2m              \u001b[0m\n",
       "\u001b[2;36m                    \u001b[0m                 GetHandleVerifier \u001b[1m[\u001b[0m\u001b[1;36m0x01037B5F\u001b[0m+\u001b[1;36m614159\u001b[0m\u001b[1m]\u001b[0m                           \u001b[2m              \u001b[0m\n",
       "\u001b[2;36m                    \u001b[0m                 GetHandleVerifier \u001b[1m[\u001b[0m\u001b[1;36m0x0103F1EC\u001b[0m+\u001b[1;36m644508\u001b[0m\u001b[1m]\u001b[0m                           \u001b[2m              \u001b[0m\n",
       "\u001b[2;36m                    \u001b[0m                 \u001b[1m(\u001b[0mNo symbol\u001b[1m)\u001b[0m \u001b[1m[\u001b[0m\u001b[1;36m0x00F4286D\u001b[0m\u001b[1m]\u001b[0m                                        \u001b[2m              \u001b[0m\n",
       "\u001b[2;36m                    \u001b[0m                 \u001b[1m(\u001b[0mNo symbol\u001b[1m)\u001b[0m \u001b[1m[\u001b[0m\u001b[1;36m0x00F3F768\u001b[0m\u001b[1m]\u001b[0m                                        \u001b[2m              \u001b[0m\n",
       "\u001b[2;36m                    \u001b[0m                 \u001b[1m(\u001b[0mNo symbol\u001b[1m)\u001b[0m \u001b[1m[\u001b[0m\u001b[1;36m0x00F3F905\u001b[0m\u001b[1m]\u001b[0m                                        \u001b[2m              \u001b[0m\n",
       "\u001b[2;36m                    \u001b[0m                 \u001b[1m(\u001b[0mNo symbol\u001b[1m)\u001b[0m \u001b[1m[\u001b[0m\u001b[1;36m0x00F31C86\u001b[0m\u001b[1m]\u001b[0m                                        \u001b[2m              \u001b[0m\n",
       "\u001b[2;36m                    \u001b[0m                 BaseThreadInitThunk \u001b[1m[\u001b[0m\u001b[1;36m0x76D8FCC9\u001b[0m+\u001b[1;36m25\u001b[0m\u001b[1m]\u001b[0m                             \u001b[2m              \u001b[0m\n",
       "\u001b[2;36m                    \u001b[0m                 RtlGetAppContainerNamedObjectPath \u001b[1m[\u001b[0m\u001b[1;36m0x770080CE\u001b[0m+\u001b[1;36m286\u001b[0m\u001b[1m]\u001b[0m              \u001b[2m              \u001b[0m\n",
       "\u001b[2;36m                    \u001b[0m                 RtlGetAppContainerNamedObjectPath \u001b[1m[\u001b[0m\u001b[1;36m0x7700809E\u001b[0m+\u001b[1;36m238\u001b[0m\u001b[1m]\u001b[0m              \u001b[2m              \u001b[0m\n",
       "\u001b[2;36m                    \u001b[0m                                                                                 \u001b[2m              \u001b[0m\n"
      ]
     },
     "metadata": {},
     "output_type": "display_data"
    },
    {
     "data": {
      "text/html": [
       "<pre style=\"white-space:pre;overflow-x:auto;line-height:normal;font-family:Menlo,'DejaVu Sans Mono',consolas,'Courier New',monospace\"><span style=\"color: #7fbfbf; text-decoration-color: #7fbfbf\">[09/03/24 01:00:49] </span><span style=\"color: #000080; text-decoration-color: #000080\">INFO    </span> <span style=\"font-weight: bold\">[</span><span style=\"color: #008080; text-decoration-color: #008080; font-weight: bold\">6</span>/<span style=\"color: #008080; text-decoration-color: #008080; font-weight: bold\">10</span><span style=\"font-weight: bold\">]</span> Retrieving fixtures for ENG-Premier League <span style=\"color: #008080; text-decoration-color: #008080; font-weight: bold\">2425</span>                <a href=\"file://C:\\Users\\acer\\AppData\\Local\\Programs\\Python\\Python312\\Lib\\site-packages\\soccerdata\\whoscored.py\" target=\"_blank\"><span style=\"color: #7f7f7f; text-decoration-color: #7f7f7f\">whoscored.py</span></a><span style=\"color: #7f7f7f; text-decoration-color: #7f7f7f\">:</span><a href=\"file://C:\\Users\\acer\\AppData\\Local\\Programs\\Python\\Python312\\Lib\\site-packages\\soccerdata\\whoscored.py#400\" target=\"_blank\"><span style=\"color: #7f7f7f; text-decoration-color: #7f7f7f\">400</span></a>\n",
       "</pre>\n"
      ],
      "text/plain": [
       "\u001b[2;36m[09/03/24 01:00:49]\u001b[0m\u001b[2;36m \u001b[0m\u001b[34mINFO    \u001b[0m \u001b[1m[\u001b[0m\u001b[1;36m6\u001b[0m/\u001b[1;36m10\u001b[0m\u001b[1m]\u001b[0m Retrieving fixtures for ENG-Premier League \u001b[1;36m2425\u001b[0m                \u001b]8;id=385686;file://C:\\Users\\acer\\AppData\\Local\\Programs\\Python\\Python312\\Lib\\site-packages\\soccerdata\\whoscored.py\u001b\\\u001b[2mwhoscored.py\u001b[0m\u001b]8;;\u001b\\\u001b[2m:\u001b[0m\u001b]8;id=834030;file://C:\\Users\\acer\\AppData\\Local\\Programs\\Python\\Python312\\Lib\\site-packages\\soccerdata\\whoscored.py#400\u001b\\\u001b[2m400\u001b[0m\u001b]8;;\u001b\\\n"
      ]
     },
     "metadata": {},
     "output_type": "display_data"
    },
    {
     "data": {
      "text/html": [
       "<pre style=\"white-space:pre;overflow-x:auto;line-height:normal;font-family:Menlo,'DejaVu Sans Mono',consolas,'Courier New',monospace\"><span style=\"color: #7fbfbf; text-decoration-color: #7fbfbf\">[09/03/24 17:45:35] </span><span style=\"color: #000080; text-decoration-color: #000080\">INFO    </span> <span style=\"font-weight: bold\">[</span><span style=\"color: #008080; text-decoration-color: #008080; font-weight: bold\">7</span>/<span style=\"color: #008080; text-decoration-color: #008080; font-weight: bold\">10</span><span style=\"font-weight: bold\">]</span> Retrieving fixtures for ENG-Premier League <span style=\"color: #008080; text-decoration-color: #008080; font-weight: bold\">2425</span>                <a href=\"file://C:\\Users\\acer\\AppData\\Local\\Programs\\Python\\Python312\\Lib\\site-packages\\soccerdata\\whoscored.py\" target=\"_blank\"><span style=\"color: #7f7f7f; text-decoration-color: #7f7f7f\">whoscored.py</span></a><span style=\"color: #7f7f7f; text-decoration-color: #7f7f7f\">:</span><a href=\"file://C:\\Users\\acer\\AppData\\Local\\Programs\\Python\\Python312\\Lib\\site-packages\\soccerdata\\whoscored.py#400\" target=\"_blank\"><span style=\"color: #7f7f7f; text-decoration-color: #7f7f7f\">400</span></a>\n",
       "</pre>\n"
      ],
      "text/plain": [
       "\u001b[2;36m[09/03/24 17:45:35]\u001b[0m\u001b[2;36m \u001b[0m\u001b[34mINFO    \u001b[0m \u001b[1m[\u001b[0m\u001b[1;36m7\u001b[0m/\u001b[1;36m10\u001b[0m\u001b[1m]\u001b[0m Retrieving fixtures for ENG-Premier League \u001b[1;36m2425\u001b[0m                \u001b]8;id=883237;file://C:\\Users\\acer\\AppData\\Local\\Programs\\Python\\Python312\\Lib\\site-packages\\soccerdata\\whoscored.py\u001b\\\u001b[2mwhoscored.py\u001b[0m\u001b]8;;\u001b\\\u001b[2m:\u001b[0m\u001b]8;id=749192;file://C:\\Users\\acer\\AppData\\Local\\Programs\\Python\\Python312\\Lib\\site-packages\\soccerdata\\whoscored.py#400\u001b\\\u001b[2m400\u001b[0m\u001b]8;;\u001b\\\n"
      ]
     },
     "metadata": {},
     "output_type": "display_data"
    },
    {
     "data": {
      "text/html": [
       "<pre style=\"white-space:pre;overflow-x:auto;line-height:normal;font-family:Menlo,'DejaVu Sans Mono',consolas,'Courier New',monospace\"><span style=\"color: #7fbfbf; text-decoration-color: #7fbfbf\">[09/03/24 17:45:43] </span><span style=\"color: #000080; text-decoration-color: #000080\">INFO    </span> <span style=\"font-weight: bold\">[</span><span style=\"color: #008080; text-decoration-color: #008080; font-weight: bold\">8</span>/<span style=\"color: #008080; text-decoration-color: #008080; font-weight: bold\">10</span><span style=\"font-weight: bold\">]</span> Retrieving fixtures for ENG-Premier League <span style=\"color: #008080; text-decoration-color: #008080; font-weight: bold\">2425</span>                <a href=\"file://C:\\Users\\acer\\AppData\\Local\\Programs\\Python\\Python312\\Lib\\site-packages\\soccerdata\\whoscored.py\" target=\"_blank\"><span style=\"color: #7f7f7f; text-decoration-color: #7f7f7f\">whoscored.py</span></a><span style=\"color: #7f7f7f; text-decoration-color: #7f7f7f\">:</span><a href=\"file://C:\\Users\\acer\\AppData\\Local\\Programs\\Python\\Python312\\Lib\\site-packages\\soccerdata\\whoscored.py#400\" target=\"_blank\"><span style=\"color: #7f7f7f; text-decoration-color: #7f7f7f\">400</span></a>\n",
       "</pre>\n"
      ],
      "text/plain": [
       "\u001b[2;36m[09/03/24 17:45:43]\u001b[0m\u001b[2;36m \u001b[0m\u001b[34mINFO    \u001b[0m \u001b[1m[\u001b[0m\u001b[1;36m8\u001b[0m/\u001b[1;36m10\u001b[0m\u001b[1m]\u001b[0m Retrieving fixtures for ENG-Premier League \u001b[1;36m2425\u001b[0m                \u001b]8;id=433476;file://C:\\Users\\acer\\AppData\\Local\\Programs\\Python\\Python312\\Lib\\site-packages\\soccerdata\\whoscored.py\u001b\\\u001b[2mwhoscored.py\u001b[0m\u001b]8;;\u001b\\\u001b[2m:\u001b[0m\u001b]8;id=388214;file://C:\\Users\\acer\\AppData\\Local\\Programs\\Python\\Python312\\Lib\\site-packages\\soccerdata\\whoscored.py#400\u001b\\\u001b[2m400\u001b[0m\u001b]8;;\u001b\\\n"
      ]
     },
     "metadata": {},
     "output_type": "display_data"
    },
    {
     "data": {
      "text/html": [
       "<pre style=\"white-space:pre;overflow-x:auto;line-height:normal;font-family:Menlo,'DejaVu Sans Mono',consolas,'Courier New',monospace\"><span style=\"color: #7fbfbf; text-decoration-color: #7fbfbf\">[09/03/24 17:45:52] </span><span style=\"color: #000080; text-decoration-color: #000080\">INFO    </span> <span style=\"font-weight: bold\">[</span><span style=\"color: #008080; text-decoration-color: #008080; font-weight: bold\">9</span>/<span style=\"color: #008080; text-decoration-color: #008080; font-weight: bold\">10</span><span style=\"font-weight: bold\">]</span> Retrieving fixtures for ENG-Premier League <span style=\"color: #008080; text-decoration-color: #008080; font-weight: bold\">2425</span>                <a href=\"file://C:\\Users\\acer\\AppData\\Local\\Programs\\Python\\Python312\\Lib\\site-packages\\soccerdata\\whoscored.py\" target=\"_blank\"><span style=\"color: #7f7f7f; text-decoration-color: #7f7f7f\">whoscored.py</span></a><span style=\"color: #7f7f7f; text-decoration-color: #7f7f7f\">:</span><a href=\"file://C:\\Users\\acer\\AppData\\Local\\Programs\\Python\\Python312\\Lib\\site-packages\\soccerdata\\whoscored.py#400\" target=\"_blank\"><span style=\"color: #7f7f7f; text-decoration-color: #7f7f7f\">400</span></a>\n",
       "</pre>\n"
      ],
      "text/plain": [
       "\u001b[2;36m[09/03/24 17:45:52]\u001b[0m\u001b[2;36m \u001b[0m\u001b[34mINFO    \u001b[0m \u001b[1m[\u001b[0m\u001b[1;36m9\u001b[0m/\u001b[1;36m10\u001b[0m\u001b[1m]\u001b[0m Retrieving fixtures for ENG-Premier League \u001b[1;36m2425\u001b[0m                \u001b]8;id=898618;file://C:\\Users\\acer\\AppData\\Local\\Programs\\Python\\Python312\\Lib\\site-packages\\soccerdata\\whoscored.py\u001b\\\u001b[2mwhoscored.py\u001b[0m\u001b]8;;\u001b\\\u001b[2m:\u001b[0m\u001b]8;id=372876;file://C:\\Users\\acer\\AppData\\Local\\Programs\\Python\\Python312\\Lib\\site-packages\\soccerdata\\whoscored.py#400\u001b\\\u001b[2m400\u001b[0m\u001b]8;;\u001b\\\n"
      ]
     },
     "metadata": {},
     "output_type": "display_data"
    },
    {
     "data": {
      "text/html": [
       "<pre style=\"white-space:pre;overflow-x:auto;line-height:normal;font-family:Menlo,'DejaVu Sans Mono',consolas,'Courier New',monospace\"><span style=\"color: #7fbfbf; text-decoration-color: #7fbfbf\">[09/03/24 17:46:00] </span><span style=\"color: #000080; text-decoration-color: #000080\">INFO    </span> <span style=\"font-weight: bold\">[</span><span style=\"color: #008080; text-decoration-color: #008080; font-weight: bold\">10</span>/<span style=\"color: #008080; text-decoration-color: #008080; font-weight: bold\">10</span><span style=\"font-weight: bold\">]</span> Retrieving fixtures for ENG-Premier League <span style=\"color: #008080; text-decoration-color: #008080; font-weight: bold\">2425</span>               <a href=\"file://C:\\Users\\acer\\AppData\\Local\\Programs\\Python\\Python312\\Lib\\site-packages\\soccerdata\\whoscored.py\" target=\"_blank\"><span style=\"color: #7f7f7f; text-decoration-color: #7f7f7f\">whoscored.py</span></a><span style=\"color: #7f7f7f; text-decoration-color: #7f7f7f\">:</span><a href=\"file://C:\\Users\\acer\\AppData\\Local\\Programs\\Python\\Python312\\Lib\\site-packages\\soccerdata\\whoscored.py#400\" target=\"_blank\"><span style=\"color: #7f7f7f; text-decoration-color: #7f7f7f\">400</span></a>\n",
       "</pre>\n"
      ],
      "text/plain": [
       "\u001b[2;36m[09/03/24 17:46:00]\u001b[0m\u001b[2;36m \u001b[0m\u001b[34mINFO    \u001b[0m \u001b[1m[\u001b[0m\u001b[1;36m10\u001b[0m/\u001b[1;36m10\u001b[0m\u001b[1m]\u001b[0m Retrieving fixtures for ENG-Premier League \u001b[1;36m2425\u001b[0m               \u001b]8;id=823813;file://C:\\Users\\acer\\AppData\\Local\\Programs\\Python\\Python312\\Lib\\site-packages\\soccerdata\\whoscored.py\u001b\\\u001b[2mwhoscored.py\u001b[0m\u001b]8;;\u001b\\\u001b[2m:\u001b[0m\u001b]8;id=818699;file://C:\\Users\\acer\\AppData\\Local\\Programs\\Python\\Python312\\Lib\\site-packages\\soccerdata\\whoscored.py#400\u001b\\\u001b[2m400\u001b[0m\u001b]8;;\u001b\\\n"
      ]
     },
     "metadata": {},
     "output_type": "display_data"
    },
    {
     "name": "stderr",
     "output_type": "stream",
     "text": [
      "C:\\Users\\acer\\AppData\\Local\\Programs\\Python\\Python312\\Lib\\site-packages\\soccerdata\\whoscored.py:424: FutureWarning: The behavior of DataFrame concatenation with empty or all-NA entries is deprecated. In a future version, this will no longer exclude empty or all-NA columns when determining the result dtypes. To retain the old behavior, exclude the relevant entries before the concat operation.\n",
      "  pd.concat(all_schedules)\n"
     ]
    },
    {
     "data": {
      "text/html": [
       "<pre style=\"white-space:pre;overflow-x:auto;line-height:normal;font-family:Menlo,'DejaVu Sans Mono',consolas,'Courier New',monospace\"><span style=\"color: #7fbfbf; text-decoration-color: #7fbfbf\">[09/03/24 17:46:07] </span><span style=\"color: #000080; text-decoration-color: #000080\">INFO    </span> <span style=\"font-weight: bold\">[</span><span style=\"color: #008080; text-decoration-color: #008080; font-weight: bold\">1</span>/<span style=\"color: #008080; text-decoration-color: #008080; font-weight: bold\">1</span><span style=\"font-weight: bold\">]</span> Retrieving game with <span style=\"color: #808000; text-decoration-color: #808000\">id</span>=<span style=\"color: #008080; text-decoration-color: #008080; font-weight: bold\">1821078</span>                                 <a href=\"file://C:\\Users\\acer\\AppData\\Local\\Programs\\Python\\Python312\\Lib\\site-packages\\soccerdata\\whoscored.py\" target=\"_blank\"><span style=\"color: #7f7f7f; text-decoration-color: #7f7f7f\">whoscored.py</span></a><span style=\"color: #7f7f7f; text-decoration-color: #7f7f7f\">:</span><a href=\"file://C:\\Users\\acer\\AppData\\Local\\Programs\\Python\\Python312\\Lib\\site-packages\\soccerdata\\whoscored.py#692\" target=\"_blank\"><span style=\"color: #7f7f7f; text-decoration-color: #7f7f7f\">692</span></a>\n",
       "</pre>\n"
      ],
      "text/plain": [
       "\u001b[2;36m[09/03/24 17:46:07]\u001b[0m\u001b[2;36m \u001b[0m\u001b[34mINFO    \u001b[0m \u001b[1m[\u001b[0m\u001b[1;36m1\u001b[0m/\u001b[1;36m1\u001b[0m\u001b[1m]\u001b[0m Retrieving game with \u001b[33mid\u001b[0m=\u001b[1;36m1821078\u001b[0m                                 \u001b]8;id=846450;file://C:\\Users\\acer\\AppData\\Local\\Programs\\Python\\Python312\\Lib\\site-packages\\soccerdata\\whoscored.py\u001b\\\u001b[2mwhoscored.py\u001b[0m\u001b]8;;\u001b\\\u001b[2m:\u001b[0m\u001b]8;id=417962;file://C:\\Users\\acer\\AppData\\Local\\Programs\\Python\\Python312\\Lib\\site-packages\\soccerdata\\whoscored.py#692\u001b\\\u001b[2m692\u001b[0m\u001b]8;;\u001b\\\n"
      ]
     },
     "metadata": {},
     "output_type": "display_data"
    },
    {
     "data": {
      "text/html": [
       "<pre style=\"white-space:pre;overflow-x:auto;line-height:normal;font-family:Menlo,'DejaVu Sans Mono',consolas,'Courier New',monospace\"><span style=\"color: #7fbfbf; text-decoration-color: #7fbfbf\">[09/03/24 17:46:22] </span><span style=\"color: #000080; text-decoration-color: #000080\">INFO    </span> Retrieving calendar for ENG-Premier League <span style=\"color: #008080; text-decoration-color: #008080; font-weight: bold\">2425</span>                       <a href=\"file://C:\\Users\\acer\\AppData\\Local\\Programs\\Python\\Python312\\Lib\\site-packages\\soccerdata\\whoscored.py\" target=\"_blank\"><span style=\"color: #7f7f7f; text-decoration-color: #7f7f7f\">whoscored.py</span></a><span style=\"color: #7f7f7f; text-decoration-color: #7f7f7f\">:</span><a href=\"file://C:\\Users\\acer\\AppData\\Local\\Programs\\Python\\Python312\\Lib\\site-packages\\soccerdata\\whoscored.py#371\" target=\"_blank\"><span style=\"color: #7f7f7f; text-decoration-color: #7f7f7f\">371</span></a>\n",
       "</pre>\n"
      ],
      "text/plain": [
       "\u001b[2;36m[09/03/24 17:46:22]\u001b[0m\u001b[2;36m \u001b[0m\u001b[34mINFO    \u001b[0m Retrieving calendar for ENG-Premier League \u001b[1;36m2425\u001b[0m                       \u001b]8;id=730399;file://C:\\Users\\acer\\AppData\\Local\\Programs\\Python\\Python312\\Lib\\site-packages\\soccerdata\\whoscored.py\u001b\\\u001b[2mwhoscored.py\u001b[0m\u001b]8;;\u001b\\\u001b[2m:\u001b[0m\u001b]8;id=831354;file://C:\\Users\\acer\\AppData\\Local\\Programs\\Python\\Python312\\Lib\\site-packages\\soccerdata\\whoscored.py#371\u001b\\\u001b[2m371\u001b[0m\u001b]8;;\u001b\\\n"
      ]
     },
     "metadata": {},
     "output_type": "display_data"
    },
    {
     "data": {
      "text/html": [
       "<pre style=\"white-space:pre;overflow-x:auto;line-height:normal;font-family:Menlo,'DejaVu Sans Mono',consolas,'Courier New',monospace\"><span style=\"color: #7fbfbf; text-decoration-color: #7fbfbf\">[09/03/24 17:46:31] </span><span style=\"color: #000080; text-decoration-color: #000080\">INFO    </span> <span style=\"font-weight: bold\">[</span><span style=\"color: #008080; text-decoration-color: #008080; font-weight: bold\">1</span>/<span style=\"color: #008080; text-decoration-color: #008080; font-weight: bold\">10</span><span style=\"font-weight: bold\">]</span> Retrieving fixtures for ENG-Premier League <span style=\"color: #008080; text-decoration-color: #008080; font-weight: bold\">2425</span>                <a href=\"file://C:\\Users\\acer\\AppData\\Local\\Programs\\Python\\Python312\\Lib\\site-packages\\soccerdata\\whoscored.py\" target=\"_blank\"><span style=\"color: #7f7f7f; text-decoration-color: #7f7f7f\">whoscored.py</span></a><span style=\"color: #7f7f7f; text-decoration-color: #7f7f7f\">:</span><a href=\"file://C:\\Users\\acer\\AppData\\Local\\Programs\\Python\\Python312\\Lib\\site-packages\\soccerdata\\whoscored.py#400\" target=\"_blank\"><span style=\"color: #7f7f7f; text-decoration-color: #7f7f7f\">400</span></a>\n",
       "</pre>\n"
      ],
      "text/plain": [
       "\u001b[2;36m[09/03/24 17:46:31]\u001b[0m\u001b[2;36m \u001b[0m\u001b[34mINFO    \u001b[0m \u001b[1m[\u001b[0m\u001b[1;36m1\u001b[0m/\u001b[1;36m10\u001b[0m\u001b[1m]\u001b[0m Retrieving fixtures for ENG-Premier League \u001b[1;36m2425\u001b[0m                \u001b]8;id=571640;file://C:\\Users\\acer\\AppData\\Local\\Programs\\Python\\Python312\\Lib\\site-packages\\soccerdata\\whoscored.py\u001b\\\u001b[2mwhoscored.py\u001b[0m\u001b]8;;\u001b\\\u001b[2m:\u001b[0m\u001b]8;id=19497;file://C:\\Users\\acer\\AppData\\Local\\Programs\\Python\\Python312\\Lib\\site-packages\\soccerdata\\whoscored.py#400\u001b\\\u001b[2m400\u001b[0m\u001b]8;;\u001b\\\n"
      ]
     },
     "metadata": {},
     "output_type": "display_data"
    },
    {
     "data": {
      "text/html": [
       "<pre style=\"white-space:pre;overflow-x:auto;line-height:normal;font-family:Menlo,'DejaVu Sans Mono',consolas,'Courier New',monospace\"><span style=\"color: #7fbfbf; text-decoration-color: #7fbfbf\">[09/03/24 17:46:40] </span><span style=\"color: #000080; text-decoration-color: #000080\">INFO    </span> <span style=\"font-weight: bold\">[</span><span style=\"color: #008080; text-decoration-color: #008080; font-weight: bold\">2</span>/<span style=\"color: #008080; text-decoration-color: #008080; font-weight: bold\">10</span><span style=\"font-weight: bold\">]</span> Retrieving fixtures for ENG-Premier League <span style=\"color: #008080; text-decoration-color: #008080; font-weight: bold\">2425</span>                <a href=\"file://C:\\Users\\acer\\AppData\\Local\\Programs\\Python\\Python312\\Lib\\site-packages\\soccerdata\\whoscored.py\" target=\"_blank\"><span style=\"color: #7f7f7f; text-decoration-color: #7f7f7f\">whoscored.py</span></a><span style=\"color: #7f7f7f; text-decoration-color: #7f7f7f\">:</span><a href=\"file://C:\\Users\\acer\\AppData\\Local\\Programs\\Python\\Python312\\Lib\\site-packages\\soccerdata\\whoscored.py#400\" target=\"_blank\"><span style=\"color: #7f7f7f; text-decoration-color: #7f7f7f\">400</span></a>\n",
       "</pre>\n"
      ],
      "text/plain": [
       "\u001b[2;36m[09/03/24 17:46:40]\u001b[0m\u001b[2;36m \u001b[0m\u001b[34mINFO    \u001b[0m \u001b[1m[\u001b[0m\u001b[1;36m2\u001b[0m/\u001b[1;36m10\u001b[0m\u001b[1m]\u001b[0m Retrieving fixtures for ENG-Premier League \u001b[1;36m2425\u001b[0m                \u001b]8;id=736176;file://C:\\Users\\acer\\AppData\\Local\\Programs\\Python\\Python312\\Lib\\site-packages\\soccerdata\\whoscored.py\u001b\\\u001b[2mwhoscored.py\u001b[0m\u001b]8;;\u001b\\\u001b[2m:\u001b[0m\u001b]8;id=607832;file://C:\\Users\\acer\\AppData\\Local\\Programs\\Python\\Python312\\Lib\\site-packages\\soccerdata\\whoscored.py#400\u001b\\\u001b[2m400\u001b[0m\u001b]8;;\u001b\\\n"
      ]
     },
     "metadata": {},
     "output_type": "display_data"
    },
    {
     "data": {
      "text/html": [
       "<pre style=\"white-space:pre;overflow-x:auto;line-height:normal;font-family:Menlo,'DejaVu Sans Mono',consolas,'Courier New',monospace\"><span style=\"color: #7fbfbf; text-decoration-color: #7fbfbf\">[09/03/24 17:46:45] </span><span style=\"color: #000080; text-decoration-color: #000080\">INFO    </span> <span style=\"font-weight: bold\">[</span><span style=\"color: #008080; text-decoration-color: #008080; font-weight: bold\">3</span>/<span style=\"color: #008080; text-decoration-color: #008080; font-weight: bold\">10</span><span style=\"font-weight: bold\">]</span> Retrieving fixtures for ENG-Premier League <span style=\"color: #008080; text-decoration-color: #008080; font-weight: bold\">2425</span>                <a href=\"file://C:\\Users\\acer\\AppData\\Local\\Programs\\Python\\Python312\\Lib\\site-packages\\soccerdata\\whoscored.py\" target=\"_blank\"><span style=\"color: #7f7f7f; text-decoration-color: #7f7f7f\">whoscored.py</span></a><span style=\"color: #7f7f7f; text-decoration-color: #7f7f7f\">:</span><a href=\"file://C:\\Users\\acer\\AppData\\Local\\Programs\\Python\\Python312\\Lib\\site-packages\\soccerdata\\whoscored.py#400\" target=\"_blank\"><span style=\"color: #7f7f7f; text-decoration-color: #7f7f7f\">400</span></a>\n",
       "</pre>\n"
      ],
      "text/plain": [
       "\u001b[2;36m[09/03/24 17:46:45]\u001b[0m\u001b[2;36m \u001b[0m\u001b[34mINFO    \u001b[0m \u001b[1m[\u001b[0m\u001b[1;36m3\u001b[0m/\u001b[1;36m10\u001b[0m\u001b[1m]\u001b[0m Retrieving fixtures for ENG-Premier League \u001b[1;36m2425\u001b[0m                \u001b]8;id=642976;file://C:\\Users\\acer\\AppData\\Local\\Programs\\Python\\Python312\\Lib\\site-packages\\soccerdata\\whoscored.py\u001b\\\u001b[2mwhoscored.py\u001b[0m\u001b]8;;\u001b\\\u001b[2m:\u001b[0m\u001b]8;id=824007;file://C:\\Users\\acer\\AppData\\Local\\Programs\\Python\\Python312\\Lib\\site-packages\\soccerdata\\whoscored.py#400\u001b\\\u001b[2m400\u001b[0m\u001b]8;;\u001b\\\n"
      ]
     },
     "metadata": {},
     "output_type": "display_data"
    },
    {
     "data": {
      "text/html": [
       "<pre style=\"white-space:pre;overflow-x:auto;line-height:normal;font-family:Menlo,'DejaVu Sans Mono',consolas,'Courier New',monospace\"><span style=\"color: #7fbfbf; text-decoration-color: #7fbfbf\">[09/03/24 17:46:52] </span><span style=\"color: #000080; text-decoration-color: #000080\">INFO    </span> <span style=\"font-weight: bold\">[</span><span style=\"color: #008080; text-decoration-color: #008080; font-weight: bold\">4</span>/<span style=\"color: #008080; text-decoration-color: #008080; font-weight: bold\">10</span><span style=\"font-weight: bold\">]</span> Retrieving fixtures for ENG-Premier League <span style=\"color: #008080; text-decoration-color: #008080; font-weight: bold\">2425</span>                <a href=\"file://C:\\Users\\acer\\AppData\\Local\\Programs\\Python\\Python312\\Lib\\site-packages\\soccerdata\\whoscored.py\" target=\"_blank\"><span style=\"color: #7f7f7f; text-decoration-color: #7f7f7f\">whoscored.py</span></a><span style=\"color: #7f7f7f; text-decoration-color: #7f7f7f\">:</span><a href=\"file://C:\\Users\\acer\\AppData\\Local\\Programs\\Python\\Python312\\Lib\\site-packages\\soccerdata\\whoscored.py#400\" target=\"_blank\"><span style=\"color: #7f7f7f; text-decoration-color: #7f7f7f\">400</span></a>\n",
       "</pre>\n"
      ],
      "text/plain": [
       "\u001b[2;36m[09/03/24 17:46:52]\u001b[0m\u001b[2;36m \u001b[0m\u001b[34mINFO    \u001b[0m \u001b[1m[\u001b[0m\u001b[1;36m4\u001b[0m/\u001b[1;36m10\u001b[0m\u001b[1m]\u001b[0m Retrieving fixtures for ENG-Premier League \u001b[1;36m2425\u001b[0m                \u001b]8;id=944829;file://C:\\Users\\acer\\AppData\\Local\\Programs\\Python\\Python312\\Lib\\site-packages\\soccerdata\\whoscored.py\u001b\\\u001b[2mwhoscored.py\u001b[0m\u001b]8;;\u001b\\\u001b[2m:\u001b[0m\u001b]8;id=174240;file://C:\\Users\\acer\\AppData\\Local\\Programs\\Python\\Python312\\Lib\\site-packages\\soccerdata\\whoscored.py#400\u001b\\\u001b[2m400\u001b[0m\u001b]8;;\u001b\\\n"
      ]
     },
     "metadata": {},
     "output_type": "display_data"
    },
    {
     "data": {
      "text/html": [
       "<pre style=\"white-space:pre;overflow-x:auto;line-height:normal;font-family:Menlo,'DejaVu Sans Mono',consolas,'Courier New',monospace\"><span style=\"color: #7fbfbf; text-decoration-color: #7fbfbf\">[09/03/24 17:47:00] </span><span style=\"color: #000080; text-decoration-color: #000080\">INFO    </span> <span style=\"font-weight: bold\">[</span><span style=\"color: #008080; text-decoration-color: #008080; font-weight: bold\">5</span>/<span style=\"color: #008080; text-decoration-color: #008080; font-weight: bold\">10</span><span style=\"font-weight: bold\">]</span> Retrieving fixtures for ENG-Premier League <span style=\"color: #008080; text-decoration-color: #008080; font-weight: bold\">2425</span>                <a href=\"file://C:\\Users\\acer\\AppData\\Local\\Programs\\Python\\Python312\\Lib\\site-packages\\soccerdata\\whoscored.py\" target=\"_blank\"><span style=\"color: #7f7f7f; text-decoration-color: #7f7f7f\">whoscored.py</span></a><span style=\"color: #7f7f7f; text-decoration-color: #7f7f7f\">:</span><a href=\"file://C:\\Users\\acer\\AppData\\Local\\Programs\\Python\\Python312\\Lib\\site-packages\\soccerdata\\whoscored.py#400\" target=\"_blank\"><span style=\"color: #7f7f7f; text-decoration-color: #7f7f7f\">400</span></a>\n",
       "</pre>\n"
      ],
      "text/plain": [
       "\u001b[2;36m[09/03/24 17:47:00]\u001b[0m\u001b[2;36m \u001b[0m\u001b[34mINFO    \u001b[0m \u001b[1m[\u001b[0m\u001b[1;36m5\u001b[0m/\u001b[1;36m10\u001b[0m\u001b[1m]\u001b[0m Retrieving fixtures for ENG-Premier League \u001b[1;36m2425\u001b[0m                \u001b]8;id=145246;file://C:\\Users\\acer\\AppData\\Local\\Programs\\Python\\Python312\\Lib\\site-packages\\soccerdata\\whoscored.py\u001b\\\u001b[2mwhoscored.py\u001b[0m\u001b]8;;\u001b\\\u001b[2m:\u001b[0m\u001b]8;id=704768;file://C:\\Users\\acer\\AppData\\Local\\Programs\\Python\\Python312\\Lib\\site-packages\\soccerdata\\whoscored.py#400\u001b\\\u001b[2m400\u001b[0m\u001b]8;;\u001b\\\n"
      ]
     },
     "metadata": {},
     "output_type": "display_data"
    },
    {
     "data": {
      "text/html": [
       "<pre style=\"white-space:pre;overflow-x:auto;line-height:normal;font-family:Menlo,'DejaVu Sans Mono',consolas,'Courier New',monospace\"><span style=\"color: #7fbfbf; text-decoration-color: #7fbfbf\">[09/03/24 17:47:08] </span><span style=\"color: #000080; text-decoration-color: #000080\">INFO    </span> <span style=\"font-weight: bold\">[</span><span style=\"color: #008080; text-decoration-color: #008080; font-weight: bold\">6</span>/<span style=\"color: #008080; text-decoration-color: #008080; font-weight: bold\">10</span><span style=\"font-weight: bold\">]</span> Retrieving fixtures for ENG-Premier League <span style=\"color: #008080; text-decoration-color: #008080; font-weight: bold\">2425</span>                <a href=\"file://C:\\Users\\acer\\AppData\\Local\\Programs\\Python\\Python312\\Lib\\site-packages\\soccerdata\\whoscored.py\" target=\"_blank\"><span style=\"color: #7f7f7f; text-decoration-color: #7f7f7f\">whoscored.py</span></a><span style=\"color: #7f7f7f; text-decoration-color: #7f7f7f\">:</span><a href=\"file://C:\\Users\\acer\\AppData\\Local\\Programs\\Python\\Python312\\Lib\\site-packages\\soccerdata\\whoscored.py#400\" target=\"_blank\"><span style=\"color: #7f7f7f; text-decoration-color: #7f7f7f\">400</span></a>\n",
       "</pre>\n"
      ],
      "text/plain": [
       "\u001b[2;36m[09/03/24 17:47:08]\u001b[0m\u001b[2;36m \u001b[0m\u001b[34mINFO    \u001b[0m \u001b[1m[\u001b[0m\u001b[1;36m6\u001b[0m/\u001b[1;36m10\u001b[0m\u001b[1m]\u001b[0m Retrieving fixtures for ENG-Premier League \u001b[1;36m2425\u001b[0m                \u001b]8;id=340719;file://C:\\Users\\acer\\AppData\\Local\\Programs\\Python\\Python312\\Lib\\site-packages\\soccerdata\\whoscored.py\u001b\\\u001b[2mwhoscored.py\u001b[0m\u001b]8;;\u001b\\\u001b[2m:\u001b[0m\u001b]8;id=742517;file://C:\\Users\\acer\\AppData\\Local\\Programs\\Python\\Python312\\Lib\\site-packages\\soccerdata\\whoscored.py#400\u001b\\\u001b[2m400\u001b[0m\u001b]8;;\u001b\\\n"
      ]
     },
     "metadata": {},
     "output_type": "display_data"
    },
    {
     "data": {
      "text/html": [
       "<pre style=\"white-space:pre;overflow-x:auto;line-height:normal;font-family:Menlo,'DejaVu Sans Mono',consolas,'Courier New',monospace\"><span style=\"color: #7fbfbf; text-decoration-color: #7fbfbf\">[09/03/24 17:47:17] </span><span style=\"color: #000080; text-decoration-color: #000080\">INFO    </span> <span style=\"font-weight: bold\">[</span><span style=\"color: #008080; text-decoration-color: #008080; font-weight: bold\">7</span>/<span style=\"color: #008080; text-decoration-color: #008080; font-weight: bold\">10</span><span style=\"font-weight: bold\">]</span> Retrieving fixtures for ENG-Premier League <span style=\"color: #008080; text-decoration-color: #008080; font-weight: bold\">2425</span>                <a href=\"file://C:\\Users\\acer\\AppData\\Local\\Programs\\Python\\Python312\\Lib\\site-packages\\soccerdata\\whoscored.py\" target=\"_blank\"><span style=\"color: #7f7f7f; text-decoration-color: #7f7f7f\">whoscored.py</span></a><span style=\"color: #7f7f7f; text-decoration-color: #7f7f7f\">:</span><a href=\"file://C:\\Users\\acer\\AppData\\Local\\Programs\\Python\\Python312\\Lib\\site-packages\\soccerdata\\whoscored.py#400\" target=\"_blank\"><span style=\"color: #7f7f7f; text-decoration-color: #7f7f7f\">400</span></a>\n",
       "</pre>\n"
      ],
      "text/plain": [
       "\u001b[2;36m[09/03/24 17:47:17]\u001b[0m\u001b[2;36m \u001b[0m\u001b[34mINFO    \u001b[0m \u001b[1m[\u001b[0m\u001b[1;36m7\u001b[0m/\u001b[1;36m10\u001b[0m\u001b[1m]\u001b[0m Retrieving fixtures for ENG-Premier League \u001b[1;36m2425\u001b[0m                \u001b]8;id=989143;file://C:\\Users\\acer\\AppData\\Local\\Programs\\Python\\Python312\\Lib\\site-packages\\soccerdata\\whoscored.py\u001b\\\u001b[2mwhoscored.py\u001b[0m\u001b]8;;\u001b\\\u001b[2m:\u001b[0m\u001b]8;id=935358;file://C:\\Users\\acer\\AppData\\Local\\Programs\\Python\\Python312\\Lib\\site-packages\\soccerdata\\whoscored.py#400\u001b\\\u001b[2m400\u001b[0m\u001b]8;;\u001b\\\n"
      ]
     },
     "metadata": {},
     "output_type": "display_data"
    },
    {
     "data": {
      "text/html": [
       "<pre style=\"white-space:pre;overflow-x:auto;line-height:normal;font-family:Menlo,'DejaVu Sans Mono',consolas,'Courier New',monospace\"><span style=\"color: #7fbfbf; text-decoration-color: #7fbfbf\">[09/03/24 17:47:26] </span><span style=\"color: #000080; text-decoration-color: #000080\">INFO    </span> <span style=\"font-weight: bold\">[</span><span style=\"color: #008080; text-decoration-color: #008080; font-weight: bold\">8</span>/<span style=\"color: #008080; text-decoration-color: #008080; font-weight: bold\">10</span><span style=\"font-weight: bold\">]</span> Retrieving fixtures for ENG-Premier League <span style=\"color: #008080; text-decoration-color: #008080; font-weight: bold\">2425</span>                <a href=\"file://C:\\Users\\acer\\AppData\\Local\\Programs\\Python\\Python312\\Lib\\site-packages\\soccerdata\\whoscored.py\" target=\"_blank\"><span style=\"color: #7f7f7f; text-decoration-color: #7f7f7f\">whoscored.py</span></a><span style=\"color: #7f7f7f; text-decoration-color: #7f7f7f\">:</span><a href=\"file://C:\\Users\\acer\\AppData\\Local\\Programs\\Python\\Python312\\Lib\\site-packages\\soccerdata\\whoscored.py#400\" target=\"_blank\"><span style=\"color: #7f7f7f; text-decoration-color: #7f7f7f\">400</span></a>\n",
       "</pre>\n"
      ],
      "text/plain": [
       "\u001b[2;36m[09/03/24 17:47:26]\u001b[0m\u001b[2;36m \u001b[0m\u001b[34mINFO    \u001b[0m \u001b[1m[\u001b[0m\u001b[1;36m8\u001b[0m/\u001b[1;36m10\u001b[0m\u001b[1m]\u001b[0m Retrieving fixtures for ENG-Premier League \u001b[1;36m2425\u001b[0m                \u001b]8;id=237768;file://C:\\Users\\acer\\AppData\\Local\\Programs\\Python\\Python312\\Lib\\site-packages\\soccerdata\\whoscored.py\u001b\\\u001b[2mwhoscored.py\u001b[0m\u001b]8;;\u001b\\\u001b[2m:\u001b[0m\u001b]8;id=553282;file://C:\\Users\\acer\\AppData\\Local\\Programs\\Python\\Python312\\Lib\\site-packages\\soccerdata\\whoscored.py#400\u001b\\\u001b[2m400\u001b[0m\u001b]8;;\u001b\\\n"
      ]
     },
     "metadata": {},
     "output_type": "display_data"
    },
    {
     "data": {
      "text/html": [
       "<pre style=\"white-space:pre;overflow-x:auto;line-height:normal;font-family:Menlo,'DejaVu Sans Mono',consolas,'Courier New',monospace\"><span style=\"color: #7fbfbf; text-decoration-color: #7fbfbf\">[09/03/24 17:47:35] </span><span style=\"color: #000080; text-decoration-color: #000080\">INFO    </span> <span style=\"font-weight: bold\">[</span><span style=\"color: #008080; text-decoration-color: #008080; font-weight: bold\">9</span>/<span style=\"color: #008080; text-decoration-color: #008080; font-weight: bold\">10</span><span style=\"font-weight: bold\">]</span> Retrieving fixtures for ENG-Premier League <span style=\"color: #008080; text-decoration-color: #008080; font-weight: bold\">2425</span>                <a href=\"file://C:\\Users\\acer\\AppData\\Local\\Programs\\Python\\Python312\\Lib\\site-packages\\soccerdata\\whoscored.py\" target=\"_blank\"><span style=\"color: #7f7f7f; text-decoration-color: #7f7f7f\">whoscored.py</span></a><span style=\"color: #7f7f7f; text-decoration-color: #7f7f7f\">:</span><a href=\"file://C:\\Users\\acer\\AppData\\Local\\Programs\\Python\\Python312\\Lib\\site-packages\\soccerdata\\whoscored.py#400\" target=\"_blank\"><span style=\"color: #7f7f7f; text-decoration-color: #7f7f7f\">400</span></a>\n",
       "</pre>\n"
      ],
      "text/plain": [
       "\u001b[2;36m[09/03/24 17:47:35]\u001b[0m\u001b[2;36m \u001b[0m\u001b[34mINFO    \u001b[0m \u001b[1m[\u001b[0m\u001b[1;36m9\u001b[0m/\u001b[1;36m10\u001b[0m\u001b[1m]\u001b[0m Retrieving fixtures for ENG-Premier League \u001b[1;36m2425\u001b[0m                \u001b]8;id=17862;file://C:\\Users\\acer\\AppData\\Local\\Programs\\Python\\Python312\\Lib\\site-packages\\soccerdata\\whoscored.py\u001b\\\u001b[2mwhoscored.py\u001b[0m\u001b]8;;\u001b\\\u001b[2m:\u001b[0m\u001b]8;id=530944;file://C:\\Users\\acer\\AppData\\Local\\Programs\\Python\\Python312\\Lib\\site-packages\\soccerdata\\whoscored.py#400\u001b\\\u001b[2m400\u001b[0m\u001b]8;;\u001b\\\n"
      ]
     },
     "metadata": {},
     "output_type": "display_data"
    },
    {
     "data": {
      "text/html": [
       "<pre style=\"white-space:pre;overflow-x:auto;line-height:normal;font-family:Menlo,'DejaVu Sans Mono',consolas,'Courier New',monospace\"><span style=\"color: #7fbfbf; text-decoration-color: #7fbfbf\">[09/03/24 17:47:44] </span><span style=\"color: #000080; text-decoration-color: #000080\">INFO    </span> <span style=\"font-weight: bold\">[</span><span style=\"color: #008080; text-decoration-color: #008080; font-weight: bold\">10</span>/<span style=\"color: #008080; text-decoration-color: #008080; font-weight: bold\">10</span><span style=\"font-weight: bold\">]</span> Retrieving fixtures for ENG-Premier League <span style=\"color: #008080; text-decoration-color: #008080; font-weight: bold\">2425</span>               <a href=\"file://C:\\Users\\acer\\AppData\\Local\\Programs\\Python\\Python312\\Lib\\site-packages\\soccerdata\\whoscored.py\" target=\"_blank\"><span style=\"color: #7f7f7f; text-decoration-color: #7f7f7f\">whoscored.py</span></a><span style=\"color: #7f7f7f; text-decoration-color: #7f7f7f\">:</span><a href=\"file://C:\\Users\\acer\\AppData\\Local\\Programs\\Python\\Python312\\Lib\\site-packages\\soccerdata\\whoscored.py#400\" target=\"_blank\"><span style=\"color: #7f7f7f; text-decoration-color: #7f7f7f\">400</span></a>\n",
       "</pre>\n"
      ],
      "text/plain": [
       "\u001b[2;36m[09/03/24 17:47:44]\u001b[0m\u001b[2;36m \u001b[0m\u001b[34mINFO    \u001b[0m \u001b[1m[\u001b[0m\u001b[1;36m10\u001b[0m/\u001b[1;36m10\u001b[0m\u001b[1m]\u001b[0m Retrieving fixtures for ENG-Premier League \u001b[1;36m2425\u001b[0m               \u001b]8;id=654011;file://C:\\Users\\acer\\AppData\\Local\\Programs\\Python\\Python312\\Lib\\site-packages\\soccerdata\\whoscored.py\u001b\\\u001b[2mwhoscored.py\u001b[0m\u001b]8;;\u001b\\\u001b[2m:\u001b[0m\u001b]8;id=812597;file://C:\\Users\\acer\\AppData\\Local\\Programs\\Python\\Python312\\Lib\\site-packages\\soccerdata\\whoscored.py#400\u001b\\\u001b[2m400\u001b[0m\u001b]8;;\u001b\\\n"
      ]
     },
     "metadata": {},
     "output_type": "display_data"
    },
    {
     "name": "stderr",
     "output_type": "stream",
     "text": [
      "C:\\Users\\acer\\AppData\\Local\\Programs\\Python\\Python312\\Lib\\site-packages\\soccerdata\\whoscored.py:424: FutureWarning: The behavior of DataFrame concatenation with empty or all-NA entries is deprecated. In a future version, this will no longer exclude empty or all-NA columns when determining the result dtypes. To retain the old behavior, exclude the relevant entries before the concat operation.\n",
      "  pd.concat(all_schedules)\n"
     ]
    },
    {
     "data": {
      "text/html": [
       "<pre style=\"white-space:pre;overflow-x:auto;line-height:normal;font-family:Menlo,'DejaVu Sans Mono',consolas,'Courier New',monospace\"><span style=\"color: #7fbfbf; text-decoration-color: #7fbfbf\">[09/03/24 17:47:53] </span><span style=\"color: #000080; text-decoration-color: #000080\">INFO    </span> <span style=\"font-weight: bold\">[</span><span style=\"color: #008080; text-decoration-color: #008080; font-weight: bold\">1</span>/<span style=\"color: #008080; text-decoration-color: #008080; font-weight: bold\">1</span><span style=\"font-weight: bold\">]</span> Retrieving game with <span style=\"color: #808000; text-decoration-color: #808000\">id</span>=<span style=\"color: #008080; text-decoration-color: #008080; font-weight: bold\">1821079</span>                                 <a href=\"file://C:\\Users\\acer\\AppData\\Local\\Programs\\Python\\Python312\\Lib\\site-packages\\soccerdata\\whoscored.py\" target=\"_blank\"><span style=\"color: #7f7f7f; text-decoration-color: #7f7f7f\">whoscored.py</span></a><span style=\"color: #7f7f7f; text-decoration-color: #7f7f7f\">:</span><a href=\"file://C:\\Users\\acer\\AppData\\Local\\Programs\\Python\\Python312\\Lib\\site-packages\\soccerdata\\whoscored.py#692\" target=\"_blank\"><span style=\"color: #7f7f7f; text-decoration-color: #7f7f7f\">692</span></a>\n",
       "</pre>\n"
      ],
      "text/plain": [
       "\u001b[2;36m[09/03/24 17:47:53]\u001b[0m\u001b[2;36m \u001b[0m\u001b[34mINFO    \u001b[0m \u001b[1m[\u001b[0m\u001b[1;36m1\u001b[0m/\u001b[1;36m1\u001b[0m\u001b[1m]\u001b[0m Retrieving game with \u001b[33mid\u001b[0m=\u001b[1;36m1821079\u001b[0m                                 \u001b]8;id=541812;file://C:\\Users\\acer\\AppData\\Local\\Programs\\Python\\Python312\\Lib\\site-packages\\soccerdata\\whoscored.py\u001b\\\u001b[2mwhoscored.py\u001b[0m\u001b]8;;\u001b\\\u001b[2m:\u001b[0m\u001b]8;id=824381;file://C:\\Users\\acer\\AppData\\Local\\Programs\\Python\\Python312\\Lib\\site-packages\\soccerdata\\whoscored.py#692\u001b\\\u001b[2m692\u001b[0m\u001b]8;;\u001b\\\n"
      ]
     },
     "metadata": {},
     "output_type": "display_data"
    },
    {
     "data": {
      "text/html": [
       "<pre style=\"white-space:pre;overflow-x:auto;line-height:normal;font-family:Menlo,'DejaVu Sans Mono',consolas,'Courier New',monospace\"><span style=\"color: #7fbfbf; text-decoration-color: #7fbfbf\">[09/03/24 17:48:13] </span><span style=\"color: #800000; text-decoration-color: #800000\">WARNING </span> No events found for game <span style=\"color: #008080; text-decoration-color: #008080; font-weight: bold\">1821079</span>                                      <a href=\"file://C:\\Users\\acer\\AppData\\Local\\Programs\\Python\\Python312\\Lib\\site-packages\\soccerdata\\whoscored.py\" target=\"_blank\"><span style=\"color: #7f7f7f; text-decoration-color: #7f7f7f\">whoscored.py</span></a><span style=\"color: #7f7f7f; text-decoration-color: #7f7f7f\">:</span><a href=\"file://C:\\Users\\acer\\AppData\\Local\\Programs\\Python\\Python312\\Lib\\site-packages\\soccerdata\\whoscored.py#765\" target=\"_blank\"><span style=\"color: #7f7f7f; text-decoration-color: #7f7f7f\">765</span></a>\n",
       "</pre>\n"
      ],
      "text/plain": [
       "\u001b[2;36m[09/03/24 17:48:13]\u001b[0m\u001b[2;36m \u001b[0m\u001b[31mWARNING \u001b[0m No events found for game \u001b[1;36m1821079\u001b[0m                                      \u001b]8;id=635461;file://C:\\Users\\acer\\AppData\\Local\\Programs\\Python\\Python312\\Lib\\site-packages\\soccerdata\\whoscored.py\u001b\\\u001b[2mwhoscored.py\u001b[0m\u001b]8;;\u001b\\\u001b[2m:\u001b[0m\u001b]8;id=250719;file://C:\\Users\\acer\\AppData\\Local\\Programs\\Python\\Python312\\Lib\\site-packages\\soccerdata\\whoscored.py#765\u001b\\\u001b[2m765\u001b[0m\u001b]8;;\u001b\\\n"
      ]
     },
     "metadata": {},
     "output_type": "display_data"
    },
    {
     "ename": "ValueError",
     "evalue": "No objects to concatenate",
     "output_type": "error",
     "traceback": [
      "\u001b[1;31m---------------------------------------------------------------------------\u001b[0m",
      "\u001b[1;31mValueError\u001b[0m                                Traceback (most recent call last)",
      "Cell \u001b[1;32mIn[13], line 12\u001b[0m\n\u001b[0;32m      9\u001b[0m all_events_dfs \u001b[38;5;241m=\u001b[39m []\n\u001b[0;32m     11\u001b[0m \u001b[38;5;28;01mfor\u001b[39;00m whoscoredid \u001b[38;5;129;01min\u001b[39;00m match_ids:\n\u001b[1;32m---> 12\u001b[0m     df_whoscored \u001b[38;5;241m=\u001b[39m \u001b[43mws\u001b[49m\u001b[38;5;241;43m.\u001b[39;49m\u001b[43mread_events\u001b[49m\u001b[43m(\u001b[49m\u001b[43mmatch_id\u001b[49m\u001b[38;5;241;43m=\u001b[39;49m\u001b[43mwhoscoredid\u001b[49m\u001b[43m)\u001b[49m\n\u001b[0;32m     13\u001b[0m     all_events_dfs\u001b[38;5;241m.\u001b[39mappend(df_whoscored)\n\u001b[0;32m     15\u001b[0m \u001b[38;5;66;03m# Concatenate all DataFrames in the list into a single DataFrame\u001b[39;00m\n",
      "File \u001b[1;32m~\\AppData\\Local\\Programs\\Python\\Python312\\Lib\\site-packages\\soccerdata\\whoscored.py:783\u001b[0m, in \u001b[0;36mWhoScored.read_events\u001b[1;34m(self, match_id, force_cache, live, output_fmt, retry_missing, on_error)\u001b[0m\n\u001b[0;32m    773\u001b[0m \u001b[38;5;28;01mif\u001b[39;00m output_fmt \u001b[38;5;241m==\u001b[39m \u001b[38;5;124m\"\u001b[39m\u001b[38;5;124mloader\u001b[39m\u001b[38;5;124m\"\u001b[39m:\n\u001b[0;32m    774\u001b[0m     \u001b[38;5;28;01mreturn\u001b[39;00m OptaLoader(\n\u001b[0;32m    775\u001b[0m         root\u001b[38;5;241m=\u001b[39m\u001b[38;5;28mself\u001b[39m\u001b[38;5;241m.\u001b[39mdata_dir,\n\u001b[0;32m    776\u001b[0m         parser\u001b[38;5;241m=\u001b[39m\u001b[38;5;124m\"\u001b[39m\u001b[38;5;124mwhoscored\u001b[39m\u001b[38;5;124m\"\u001b[39m,\n\u001b[1;32m   (...)\u001b[0m\n\u001b[0;32m    779\u001b[0m         },\n\u001b[0;32m    780\u001b[0m     )\n\u001b[0;32m    782\u001b[0m df \u001b[38;5;241m=\u001b[39m (\n\u001b[1;32m--> 783\u001b[0m     \u001b[43mpd\u001b[49m\u001b[38;5;241;43m.\u001b[39;49m\u001b[43mconcat\u001b[49m\u001b[43m(\u001b[49m\u001b[43mevents\u001b[49m\u001b[38;5;241;43m.\u001b[39;49m\u001b[43mvalues\u001b[49m\u001b[43m(\u001b[49m\u001b[43m)\u001b[49m\u001b[43m)\u001b[49m\n\u001b[0;32m    784\u001b[0m     \u001b[38;5;241m.\u001b[39mpipe(standardize_colnames)\n\u001b[0;32m    785\u001b[0m     \u001b[38;5;241m.\u001b[39massign(\n\u001b[0;32m    786\u001b[0m         player\u001b[38;5;241m=\u001b[39m\u001b[38;5;28;01mlambda\u001b[39;00m x: x\u001b[38;5;241m.\u001b[39mplayer_id\u001b[38;5;241m.\u001b[39mreplace(player_names),\n\u001b[0;32m    787\u001b[0m         team\u001b[38;5;241m=\u001b[39m\u001b[38;5;28;01mlambda\u001b[39;00m x: x\u001b[38;5;241m.\u001b[39mteam_id\u001b[38;5;241m.\u001b[39mreplace(team_names)\u001b[38;5;241m.\u001b[39mreplace(TEAMNAME_REPLACEMENTS),\n\u001b[0;32m    788\u001b[0m     )\n\u001b[0;32m    789\u001b[0m )\n\u001b[0;32m    791\u001b[0m \u001b[38;5;28;01mif\u001b[39;00m output_fmt \u001b[38;5;241m==\u001b[39m \u001b[38;5;124m\"\u001b[39m\u001b[38;5;124mevents\u001b[39m\u001b[38;5;124m\"\u001b[39m:\n\u001b[0;32m    792\u001b[0m     df \u001b[38;5;241m=\u001b[39m df\u001b[38;5;241m.\u001b[39mset_index([\u001b[38;5;124m\"\u001b[39m\u001b[38;5;124mleague\u001b[39m\u001b[38;5;124m\"\u001b[39m, \u001b[38;5;124m\"\u001b[39m\u001b[38;5;124mseason\u001b[39m\u001b[38;5;124m\"\u001b[39m, \u001b[38;5;124m\"\u001b[39m\u001b[38;5;124mgame\u001b[39m\u001b[38;5;124m\"\u001b[39m, \u001b[38;5;124m\"\u001b[39m\u001b[38;5;124mid\u001b[39m\u001b[38;5;124m\"\u001b[39m])\u001b[38;5;241m.\u001b[39msort_index()\n",
      "File \u001b[1;32m~\\AppData\\Local\\Programs\\Python\\Python312\\Lib\\site-packages\\pandas\\core\\reshape\\concat.py:382\u001b[0m, in \u001b[0;36mconcat\u001b[1;34m(objs, axis, join, ignore_index, keys, levels, names, verify_integrity, sort, copy)\u001b[0m\n\u001b[0;32m    379\u001b[0m \u001b[38;5;28;01melif\u001b[39;00m copy \u001b[38;5;129;01mand\u001b[39;00m using_copy_on_write():\n\u001b[0;32m    380\u001b[0m     copy \u001b[38;5;241m=\u001b[39m \u001b[38;5;28;01mFalse\u001b[39;00m\n\u001b[1;32m--> 382\u001b[0m op \u001b[38;5;241m=\u001b[39m \u001b[43m_Concatenator\u001b[49m\u001b[43m(\u001b[49m\n\u001b[0;32m    383\u001b[0m \u001b[43m    \u001b[49m\u001b[43mobjs\u001b[49m\u001b[43m,\u001b[49m\n\u001b[0;32m    384\u001b[0m \u001b[43m    \u001b[49m\u001b[43maxis\u001b[49m\u001b[38;5;241;43m=\u001b[39;49m\u001b[43maxis\u001b[49m\u001b[43m,\u001b[49m\n\u001b[0;32m    385\u001b[0m \u001b[43m    \u001b[49m\u001b[43mignore_index\u001b[49m\u001b[38;5;241;43m=\u001b[39;49m\u001b[43mignore_index\u001b[49m\u001b[43m,\u001b[49m\n\u001b[0;32m    386\u001b[0m \u001b[43m    \u001b[49m\u001b[43mjoin\u001b[49m\u001b[38;5;241;43m=\u001b[39;49m\u001b[43mjoin\u001b[49m\u001b[43m,\u001b[49m\n\u001b[0;32m    387\u001b[0m \u001b[43m    \u001b[49m\u001b[43mkeys\u001b[49m\u001b[38;5;241;43m=\u001b[39;49m\u001b[43mkeys\u001b[49m\u001b[43m,\u001b[49m\n\u001b[0;32m    388\u001b[0m \u001b[43m    \u001b[49m\u001b[43mlevels\u001b[49m\u001b[38;5;241;43m=\u001b[39;49m\u001b[43mlevels\u001b[49m\u001b[43m,\u001b[49m\n\u001b[0;32m    389\u001b[0m \u001b[43m    \u001b[49m\u001b[43mnames\u001b[49m\u001b[38;5;241;43m=\u001b[39;49m\u001b[43mnames\u001b[49m\u001b[43m,\u001b[49m\n\u001b[0;32m    390\u001b[0m \u001b[43m    \u001b[49m\u001b[43mverify_integrity\u001b[49m\u001b[38;5;241;43m=\u001b[39;49m\u001b[43mverify_integrity\u001b[49m\u001b[43m,\u001b[49m\n\u001b[0;32m    391\u001b[0m \u001b[43m    \u001b[49m\u001b[43mcopy\u001b[49m\u001b[38;5;241;43m=\u001b[39;49m\u001b[43mcopy\u001b[49m\u001b[43m,\u001b[49m\n\u001b[0;32m    392\u001b[0m \u001b[43m    \u001b[49m\u001b[43msort\u001b[49m\u001b[38;5;241;43m=\u001b[39;49m\u001b[43msort\u001b[49m\u001b[43m,\u001b[49m\n\u001b[0;32m    393\u001b[0m \u001b[43m\u001b[49m\u001b[43m)\u001b[49m\n\u001b[0;32m    395\u001b[0m \u001b[38;5;28;01mreturn\u001b[39;00m op\u001b[38;5;241m.\u001b[39mget_result()\n",
      "File \u001b[1;32m~\\AppData\\Local\\Programs\\Python\\Python312\\Lib\\site-packages\\pandas\\core\\reshape\\concat.py:445\u001b[0m, in \u001b[0;36m_Concatenator.__init__\u001b[1;34m(self, objs, axis, join, keys, levels, names, ignore_index, verify_integrity, copy, sort)\u001b[0m\n\u001b[0;32m    442\u001b[0m \u001b[38;5;28mself\u001b[39m\u001b[38;5;241m.\u001b[39mverify_integrity \u001b[38;5;241m=\u001b[39m verify_integrity\n\u001b[0;32m    443\u001b[0m \u001b[38;5;28mself\u001b[39m\u001b[38;5;241m.\u001b[39mcopy \u001b[38;5;241m=\u001b[39m copy\n\u001b[1;32m--> 445\u001b[0m objs, keys \u001b[38;5;241m=\u001b[39m \u001b[38;5;28;43mself\u001b[39;49m\u001b[38;5;241;43m.\u001b[39;49m\u001b[43m_clean_keys_and_objs\u001b[49m\u001b[43m(\u001b[49m\u001b[43mobjs\u001b[49m\u001b[43m,\u001b[49m\u001b[43m \u001b[49m\u001b[43mkeys\u001b[49m\u001b[43m)\u001b[49m\n\u001b[0;32m    447\u001b[0m \u001b[38;5;66;03m# figure out what our result ndim is going to be\u001b[39;00m\n\u001b[0;32m    448\u001b[0m ndims \u001b[38;5;241m=\u001b[39m \u001b[38;5;28mself\u001b[39m\u001b[38;5;241m.\u001b[39m_get_ndims(objs)\n",
      "File \u001b[1;32m~\\AppData\\Local\\Programs\\Python\\Python312\\Lib\\site-packages\\pandas\\core\\reshape\\concat.py:507\u001b[0m, in \u001b[0;36m_Concatenator._clean_keys_and_objs\u001b[1;34m(self, objs, keys)\u001b[0m\n\u001b[0;32m    504\u001b[0m     objs_list \u001b[38;5;241m=\u001b[39m \u001b[38;5;28mlist\u001b[39m(objs)\n\u001b[0;32m    506\u001b[0m \u001b[38;5;28;01mif\u001b[39;00m \u001b[38;5;28mlen\u001b[39m(objs_list) \u001b[38;5;241m==\u001b[39m \u001b[38;5;241m0\u001b[39m:\n\u001b[1;32m--> 507\u001b[0m     \u001b[38;5;28;01mraise\u001b[39;00m \u001b[38;5;167;01mValueError\u001b[39;00m(\u001b[38;5;124m\"\u001b[39m\u001b[38;5;124mNo objects to concatenate\u001b[39m\u001b[38;5;124m\"\u001b[39m)\n\u001b[0;32m    509\u001b[0m \u001b[38;5;28;01mif\u001b[39;00m keys \u001b[38;5;129;01mis\u001b[39;00m \u001b[38;5;28;01mNone\u001b[39;00m:\n\u001b[0;32m    510\u001b[0m     objs_list \u001b[38;5;241m=\u001b[39m \u001b[38;5;28mlist\u001b[39m(com\u001b[38;5;241m.\u001b[39mnot_none(\u001b[38;5;241m*\u001b[39mobjs_list))\n",
      "\u001b[1;31mValueError\u001b[0m: No objects to concatenate"
     ]
    }
   ],
   "source": [
    "ws = sd.WhoScored(leagues=\"ENG-Premier League\", seasons=\"2024/2025\")\n",
    "\n",
    "\n",
    "first_match_id = 1821049\n",
    "last_match_id = 1821079\n",
    "match_ids = [first_match_id + i for i in range(31)]  \n",
    "\n",
    "# Initialize an empty list to store individual DataFrames\n",
    "all_events_dfs = []\n",
    "\n",
    "for whoscoredid in match_ids:\n",
    "    df_whoscored = ws.read_events(match_id=whoscoredid)\n",
    "    all_events_dfs.append(df_whoscored)\n",
    "\n",
    "# Concatenate all DataFrames in the list into a single DataFrame\n",
    "events_df = pd.concat(all_events_dfs, ignore_index=True)"
   ]
  },
  {
   "cell_type": "code",
   "execution_count": null,
   "id": "df4b65ab-0831-410f-9eda-a90511060d31",
   "metadata": {},
   "outputs": [],
   "source": []
  }
 ],
 "metadata": {
  "kernelspec": {
   "display_name": "Python 3 (ipykernel)",
   "language": "python",
   "name": "python3"
  },
  "language_info": {
   "codemirror_mode": {
    "name": "ipython",
    "version": 3
   },
   "file_extension": ".py",
   "mimetype": "text/x-python",
   "name": "python",
   "nbconvert_exporter": "python",
   "pygments_lexer": "ipython3",
   "version": "3.12.4"
  }
 },
 "nbformat": 4,
 "nbformat_minor": 5
}
