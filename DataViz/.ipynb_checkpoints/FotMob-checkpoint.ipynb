{
 "cells": [
  {
   "cell_type": "code",
   "execution_count": 1,
   "id": "2a11cea2-8997-4720-a97e-f0f43c14f426",
   "metadata": {},
   "outputs": [
    {
     "data": {
      "text/html": [
       "<pre style=\"white-space:pre;overflow-x:auto;line-height:normal;font-family:Menlo,'DejaVu Sans Mono',consolas,'Courier New',monospace\"><span style=\"color: #7fbfbf; text-decoration-color: #7fbfbf\">[04/11/24 12:13:50] </span><span style=\"color: #000080; text-decoration-color: #000080\">INFO    </span> No custom team name replacements found. You can configure these in       <a href=\"file://C:\\Users\\acer\\AppData\\Local\\Programs\\Python\\Python310\\lib\\site-packages\\soccerdata\\_config.py\" target=\"_blank\"><span style=\"color: #7f7f7f; text-decoration-color: #7f7f7f\">_config.py</span></a><span style=\"color: #7f7f7f; text-decoration-color: #7f7f7f\">:</span><a href=\"file://C:\\Users\\acer\\AppData\\Local\\Programs\\Python\\Python310\\lib\\site-packages\\soccerdata\\_config.py#87\" target=\"_blank\"><span style=\"color: #7f7f7f; text-decoration-color: #7f7f7f\">87</span></a>\n",
       "<span style=\"color: #7fbfbf; text-decoration-color: #7fbfbf\">                    </span>         C:\\Users\\acer\\soccerdata\\config\\teamname_replacements.json.              <span style=\"color: #7f7f7f; text-decoration-color: #7f7f7f\">             </span>\n",
       "</pre>\n"
      ],
      "text/plain": [
       "\u001b[2;36m[04/11/24 12:13:50]\u001b[0m\u001b[2;36m \u001b[0m\u001b[34mINFO    \u001b[0m No custom team name replacements found. You can configure these in       \u001b]8;id=161712;file://C:\\Users\\acer\\AppData\\Local\\Programs\\Python\\Python310\\lib\\site-packages\\soccerdata\\_config.py\u001b\\\u001b[2m_config.py\u001b[0m\u001b]8;;\u001b\\\u001b[2m:\u001b[0m\u001b]8;id=937273;file://C:\\Users\\acer\\AppData\\Local\\Programs\\Python\\Python310\\lib\\site-packages\\soccerdata\\_config.py#87\u001b\\\u001b[2m87\u001b[0m\u001b]8;;\u001b\\\n",
       "\u001b[2;36m                    \u001b[0m         C:\\Users\\acer\\soccerdata\\config\\teamname_replacements.json.              \u001b[2m             \u001b[0m\n"
      ]
     },
     "metadata": {},
     "output_type": "display_data"
    },
    {
     "data": {
      "text/html": [
       "<pre style=\"white-space:pre;overflow-x:auto;line-height:normal;font-family:Menlo,'DejaVu Sans Mono',consolas,'Courier New',monospace\"><span style=\"color: #7fbfbf; text-decoration-color: #7fbfbf\">                    </span><span style=\"color: #000080; text-decoration-color: #000080\">INFO    </span> No custom league dict found. You can configure additional leagues in    <a href=\"file://C:\\Users\\acer\\AppData\\Local\\Programs\\Python\\Python310\\lib\\site-packages\\soccerdata\\_config.py\" target=\"_blank\"><span style=\"color: #7f7f7f; text-decoration-color: #7f7f7f\">_config.py</span></a><span style=\"color: #7f7f7f; text-decoration-color: #7f7f7f\">:</span><a href=\"file://C:\\Users\\acer\\AppData\\Local\\Programs\\Python\\Python310\\lib\\site-packages\\soccerdata\\_config.py#177\" target=\"_blank\"><span style=\"color: #7f7f7f; text-decoration-color: #7f7f7f\">177</span></a>\n",
       "<span style=\"color: #7fbfbf; text-decoration-color: #7fbfbf\">                    </span>         C:\\Users\\acer\\soccerdata\\config\\league_dict.json.                       <span style=\"color: #7f7f7f; text-decoration-color: #7f7f7f\">              </span>\n",
       "</pre>\n"
      ],
      "text/plain": [
       "\u001b[2;36m                   \u001b[0m\u001b[2;36m \u001b[0m\u001b[34mINFO    \u001b[0m No custom league dict found. You can configure additional leagues in    \u001b]8;id=692843;file://C:\\Users\\acer\\AppData\\Local\\Programs\\Python\\Python310\\lib\\site-packages\\soccerdata\\_config.py\u001b\\\u001b[2m_config.py\u001b[0m\u001b]8;;\u001b\\\u001b[2m:\u001b[0m\u001b]8;id=595645;file://C:\\Users\\acer\\AppData\\Local\\Programs\\Python\\Python310\\lib\\site-packages\\soccerdata\\_config.py#177\u001b\\\u001b[2m177\u001b[0m\u001b]8;;\u001b\\\n",
       "\u001b[2;36m                    \u001b[0m         C:\\Users\\acer\\soccerdata\\config\\league_dict.json.                       \u001b[2m              \u001b[0m\n"
      ]
     },
     "metadata": {},
     "output_type": "display_data"
    }
   ],
   "source": [
    "import pandas as pd\n",
    "import numpy as np\n",
    "import matplotlib.pyplot as plt\n",
    "import seaborn as sns\n",
    "import requests \n",
    "from bs4 import BeautifulSoup\n",
    "import json\n",
    "from pprint import pprint\n",
    "import matplotlib.image as mpimg\n",
    "import matplotlib.patches as patches\n",
    "from PIL import Image\n",
    "from io import BytesIO\n",
    "import highlight_text\n",
    "import matplotlib as mpl\n",
    "from matplotlib.gridspec import GridSpec\n",
    "from mplsoccer import Pitch, VerticalPitch\n",
    "import matplotlib.image as mpimg\n",
    "import matplotlib.patches as patches\n",
    "from PIL import Image\n",
    "from io import BytesIO\n",
    "from mplsoccer import PyPizza, add_image, FontManager\n",
    "from matplotlib.patches import Rectangle\n",
    "import matplotlib.font_manager as font_manager\n",
    "import soccerdata as sd\n",
    "from matplotlib.lines import Line2D\n",
    "import soccerdata as sd\n",
    "\n",
    "pd.set_option(\"display.max_rows\", None, \"display.max_columns\", None)\n",
    "background = \"#463F3A\"\n",
    "text_color = 'w'\n",
    "primary = '#C8102E'\n",
    "secondary = 'lightblue'\n",
    "mpl.rcParams['xtick.color'] = text_color\n",
    "mpl.rcParams['ytick.color'] = text_color"
   ]
  },
  {
   "cell_type": "code",
   "execution_count": null,
   "id": "88896842-1ae6-400b-bd4b-cbdca61a6a32",
   "metadata": {},
   "outputs": [
    {
     "data": {
      "text/html": [
       "<pre style=\"white-space:pre;overflow-x:auto;line-height:normal;font-family:Menlo,'DejaVu Sans Mono',consolas,'Courier New',monospace\"><span style=\"color: #7fbfbf; text-decoration-color: #7fbfbf\">[04/11/24 12:25:38] </span><span style=\"color: #000080; text-decoration-color: #000080\">INFO    </span> Saving cached data to C:\\Users\\acer\\soccerdata\\data\\SoFIFA               <a href=\"file://C:\\Users\\acer\\AppData\\Local\\Programs\\Python\\Python310\\lib\\site-packages\\soccerdata\\_common.py\" target=\"_blank\"><span style=\"color: #7f7f7f; text-decoration-color: #7f7f7f\">_common.py</span></a><span style=\"color: #7f7f7f; text-decoration-color: #7f7f7f\">:</span><a href=\"file://C:\\Users\\acer\\AppData\\Local\\Programs\\Python\\Python310\\lib\\site-packages\\soccerdata\\_common.py#91\" target=\"_blank\"><span style=\"color: #7f7f7f; text-decoration-color: #7f7f7f\">91</span></a>\n",
       "</pre>\n"
      ],
      "text/plain": [
       "\u001b[2;36m[04/11/24 12:25:38]\u001b[0m\u001b[2;36m \u001b[0m\u001b[34mINFO    \u001b[0m Saving cached data to C:\\Users\\acer\\soccerdata\\data\\SoFIFA               \u001b]8;id=299205;file://C:\\Users\\acer\\AppData\\Local\\Programs\\Python\\Python310\\lib\\site-packages\\soccerdata\\_common.py\u001b\\\u001b[2m_common.py\u001b[0m\u001b]8;;\u001b\\\u001b[2m:\u001b[0m\u001b]8;id=336289;file://C:\\Users\\acer\\AppData\\Local\\Programs\\Python\\Python310\\lib\\site-packages\\soccerdata\\_common.py#91\u001b\\\u001b[2m91\u001b[0m\u001b]8;;\u001b\\\n"
      ]
     },
     "metadata": {},
     "output_type": "display_data"
    }
   ],
   "source": [
    "sofifa = sd.SoFIFA()\n",
    "print(sofifa.__doc__)"
   ]
  },
  {
   "cell_type": "code",
   "execution_count": null,
   "id": "2de62665-4a8b-4602-928b-6b5fec9ff2a2",
   "metadata": {},
   "outputs": [],
   "source": [
    "sofifa.available_leagues()"
   ]
  },
  {
   "cell_type": "code",
   "execution_count": null,
   "id": "7d003760-7c10-4c1e-b125-06be71d94633",
   "metadata": {},
   "outputs": [],
   "source": []
  }
 ],
 "metadata": {
  "kernelspec": {
   "display_name": "Python 3 (ipykernel)",
   "language": "python",
   "name": "python3"
  },
  "language_info": {
   "codemirror_mode": {
    "name": "ipython",
    "version": 3
   },
   "file_extension": ".py",
   "mimetype": "text/x-python",
   "name": "python",
   "nbconvert_exporter": "python",
   "pygments_lexer": "ipython3",
   "version": "3.10.7"
  }
 },
 "nbformat": 4,
 "nbformat_minor": 5
}
