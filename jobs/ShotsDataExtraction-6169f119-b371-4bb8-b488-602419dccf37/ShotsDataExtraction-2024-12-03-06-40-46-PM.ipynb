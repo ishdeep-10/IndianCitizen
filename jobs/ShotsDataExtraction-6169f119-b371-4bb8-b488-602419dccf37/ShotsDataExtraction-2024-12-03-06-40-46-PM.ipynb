{
 "cells": [
  {
   "cell_type": "code",
   "execution_count": 1,
   "id": "54cbfe73",
   "metadata": {
    "execution": {
     "iopub.execute_input": "2024-12-03T13:10:50.651952Z",
     "iopub.status.busy": "2024-12-03T13:10:50.651952Z",
     "iopub.status.idle": "2024-12-03T13:10:50.669427Z",
     "shell.execute_reply": "2024-12-03T13:10:50.668368Z"
    },
    "tags": [
     "injected-parameters"
    ]
   },
   "outputs": [],
   "source": [
    "league = \"EPL\"\n",
    "season = \"2024\""
   ]
  },
  {
   "cell_type": "code",
   "execution_count": 2,
   "id": "4b9d3347-22ca-4eab-9af6-474308093ed0",
   "metadata": {
    "execution": {
     "iopub.execute_input": "2024-12-03T13:10:50.672548Z",
     "iopub.status.busy": "2024-12-03T13:10:50.672548Z",
     "iopub.status.idle": "2024-12-03T13:10:51.219946Z",
     "shell.execute_reply": "2024-12-03T13:10:51.219946Z"
    }
   },
   "outputs": [],
   "source": [
    "import pandas as pd\n",
    "import requests\n",
    "import re\n",
    "from unidecode import unidecode"
   ]
  },
  {
   "cell_type": "code",
   "execution_count": 3,
   "id": "40e0b85f-483f-45fa-b02e-261512331d6d",
   "metadata": {
    "execution": {
     "iopub.execute_input": "2024-12-03T13:10:51.219946Z",
     "iopub.status.busy": "2024-12-03T13:10:51.219946Z",
     "iopub.status.idle": "2024-12-03T13:10:51.251706Z",
     "shell.execute_reply": "2024-12-03T13:10:51.251706Z"
    }
   },
   "outputs": [],
   "source": [
    "import understatapi\n",
    "client = understatapi.UnderstatClient()"
   ]
  },
  {
   "cell_type": "code",
   "execution_count": 4,
   "id": "2d5583e7",
   "metadata": {
    "execution": {
     "iopub.execute_input": "2024-12-03T13:10:51.251706Z",
     "iopub.status.busy": "2024-12-03T13:10:51.251706Z",
     "iopub.status.idle": "2024-12-03T13:10:51.407982Z",
     "shell.execute_reply": "2024-12-03T13:10:51.407982Z"
    }
   },
   "outputs": [],
   "source": [
    "from sqlalchemy import create_engine\n",
    "import psycopg2\n",
    "\n",
    "# Database connection settings (replace with your credentials)\n",
    "db_config = {\n",
    "    'dbname': 'understat_shots_db',\n",
    "    'user': 'ichadha',\n",
    "    'password': 'ichadhapg',\n",
    "    'host': 'localhost',\n",
    "    'port': 5432,\n",
    "}\n",
    "\n",
    "# Create a connection engine\n",
    "engine = create_engine(f\"postgresql+psycopg2://{db_config['user']}:{db_config['password']}@{db_config['host']}:{db_config['port']}/{db_config['dbname']}\")\n",
    "\n",
    "def save_to_postgres(dataframe, table_name):\n",
    "    try:\n",
    "        # Append data to the PostgreSQL table\n",
    "        dataframe.to_sql(table_name, engine, if_exists='append', index=False)\n",
    "        print(f\"Data successfully saved to {table_name} table.\")\n",
    "    except Exception as e:\n",
    "        print(f\"Error saving data to PostgreSQL: {e}\")\n"
   ]
  },
  {
   "cell_type": "code",
   "execution_count": 5,
   "id": "1f914112-889b-4bb8-9d0a-0c1926818998",
   "metadata": {
    "execution": {
     "iopub.execute_input": "2024-12-03T13:10:51.407982Z",
     "iopub.status.busy": "2024-12-03T13:10:51.407982Z",
     "iopub.status.idle": "2024-12-03T13:10:52.630131Z",
     "shell.execute_reply": "2024-12-03T13:10:52.630131Z"
    }
   },
   "outputs": [],
   "source": [
    "## EPL , Bundesliga , Serie_A , Ligue_1 , La_Liga\n",
    "#league = \"EPL\"\n",
    "#season = \"2024\"\n",
    "\n",
    "league_data = client.league(league=league).get_match_data(season=season)"
   ]
  },
  {
   "cell_type": "code",
   "execution_count": 6,
   "id": "af454b97-6c43-45fa-9963-da982c01e931",
   "metadata": {
    "execution": {
     "iopub.execute_input": "2024-12-03T13:10:52.630131Z",
     "iopub.status.busy": "2024-12-03T13:10:52.630131Z",
     "iopub.status.idle": "2024-12-03T13:10:52.661404Z",
     "shell.execute_reply": "2024-12-03T13:10:52.661404Z"
    }
   },
   "outputs": [],
   "source": [
    "matches = []\n",
    "\n",
    "for match in league_data:\n",
    "    match_data = {\n",
    "        'id': match['id'],\n",
    "        'home_team': match['h']['title'],\n",
    "        'away_team': match['a']['title'],\n",
    "        'home_goals': match['goals']['h'],\n",
    "        'away_goals': match['goals']['a'],\n",
    "        'home_xG': match['xG']['h'],\n",
    "        'away_xG': match['xG']['a'],\n",
    "        'datetime': match['datetime']\n",
    "        #'forecast': match['forecast']\n",
    "    }\n",
    "    matches.append(match_data)\n",
    "\n",
    "# Convert the list of dictionaries into a DataFrame\n",
    "matches_df = pd.DataFrame(matches)"
   ]
  },
  {
   "cell_type": "code",
   "execution_count": 7,
   "id": "9f010c70-7e04-4e5e-9071-2dbb764c5cb9",
   "metadata": {
    "execution": {
     "iopub.execute_input": "2024-12-03T13:10:52.661404Z",
     "iopub.status.busy": "2024-12-03T13:10:52.661404Z",
     "iopub.status.idle": "2024-12-03T13:11:24.444966Z",
     "shell.execute_reply": "2024-12-03T13:11:24.444966Z"
    }
   },
   "outputs": [
    {
     "name": "stdout",
     "output_type": "stream",
     "text": [
      "('Connection aborted.', RemoteDisconnected('Remote end closed connection without response'))\n"
     ]
    }
   ],
   "source": [
    "all_shot_data = []\n",
    "\n",
    "import datetime\n",
    "\n",
    "current_timestamp = datetime.datetime.now().timestamp()\n",
    "\n",
    "for index,row in matches_df.iterrows():\n",
    "    match_datetime = pd.to_datetime(row['datetime']).timestamp()\n",
    "    \n",
    "    if match_datetime <= current_timestamp:\n",
    "        #print(row['id'])\n",
    "        try:\n",
    "            shot_data = client.match(match=row['id']).get_shot_data()\n",
    "        except Exception as e:\n",
    "            print(e)\n",
    "        all_shot_data.append(shot_data)"
   ]
  },
  {
   "cell_type": "code",
   "execution_count": 8,
   "id": "8c7d1f47-0fa5-43e0-86c0-b1b5a5362047",
   "metadata": {
    "execution": {
     "iopub.execute_input": "2024-12-03T13:11:24.444966Z",
     "iopub.status.busy": "2024-12-03T13:11:24.444966Z",
     "iopub.status.idle": "2024-12-03T13:11:24.460599Z",
     "shell.execute_reply": "2024-12-03T13:11:24.460599Z"
    }
   },
   "outputs": [],
   "source": [
    "# Initialize an empty list to hold individual shot records\n",
    "compiled_shot_data = []\n",
    "\n",
    "# Loop through each match in `all_shot_data`\n",
    "for match in all_shot_data:\n",
    "    # Get home shots and away shots from the match\n",
    "    home_shots = match.get('h', [])\n",
    "    away_shots = match.get('a', [])\n",
    "    \n",
    "    # Add a column to indicate if it's a home or away shot, then extend our list\n",
    "    for shot in home_shots:\n",
    "        shot['h_a'] = 'h'  # Indicate as home shot\n",
    "        compiled_shot_data.append(shot)\n",
    "    \n",
    "    for shot in away_shots:\n",
    "        shot['h_a'] = 'a'  # Indicate as away shot\n",
    "        compiled_shot_data.append(shot)\n",
    "\n",
    "# Convert the list of shot records to a DataFrame\n",
    "compiled_shot_df = pd.DataFrame(compiled_shot_data)"
   ]
  },
  {
   "cell_type": "code",
   "execution_count": 9,
   "id": "e2f52b8e-42f5-4c4e-a6d6-2e143084c72d",
   "metadata": {
    "execution": {
     "iopub.execute_input": "2024-12-03T13:11:24.460599Z",
     "iopub.status.busy": "2024-12-03T13:11:24.460599Z",
     "iopub.status.idle": "2024-12-03T13:11:24.476395Z",
     "shell.execute_reply": "2024-12-03T13:11:24.476395Z"
    }
   },
   "outputs": [],
   "source": [
    "compiled_shot_df['league'] = league"
   ]
  },
  {
   "cell_type": "code",
   "execution_count": 10,
   "id": "2b0b1a5a-eeb3-40b9-b514-c7eb1296103b",
   "metadata": {
    "execution": {
     "iopub.execute_input": "2024-12-03T13:11:24.476395Z",
     "iopub.status.busy": "2024-12-03T13:11:24.476395Z",
     "iopub.status.idle": "2024-12-03T13:11:25.500242Z",
     "shell.execute_reply": "2024-12-03T13:11:25.500242Z"
    }
   },
   "outputs": [
    {
     "name": "stdout",
     "output_type": "stream",
     "text": [
      "Error saving data to PostgreSQL: (psycopg2.errors.UniqueViolation) duplicate key value violates unique constraint \"understat_shots_tb_pkey\"\n",
      "DETAIL:  Key (id)=(584630) already exists.\n",
      "\n",
      "[SQL: INSERT INTO understat_shots_tb (id, minute, result, \"X\", \"Y\", \"xG\", player, h_a, player_id, situation, season, \"shotType\", match_id, h_team, a_team, h_goals, a_goals, date, player_assisted, \"lastAction\", league) VALUES (%(id)s, %(minute)s, %(result)s, %(X)s, %(Y)s, %(xG)s, %(player)s, %(h_a)s, %(player_id)s, %(situation)s, %(season)s, %(shotType)s, %(match_id)s, %(h_team)s, %(a_team)s, %(h_goals)s, %(a_goals)s, %(date)s, %(player_assisted)s, %(lastAction)s, %(league)s)]\n",
      "[parameters: ({'id': '584630', 'minute': '19', 'result': 'MissedShots', 'X': '0.970999984741211', 'Y': '0.6730000305175782', 'xG': '0.050078392028808594', 'player': 'Bruno Fernandes', 'h_a': 'h', 'player_id': '1228', 'situation': 'OpenPlay', 'season': '2024', 'shotType': 'LeftFoot', 'match_id': '26602', 'h_team': 'Manchester United', 'a_team': 'Fulham', 'h_goals': '1', 'a_goals': '0', 'date': '2024-08-16 19:00:00', 'player_assisted': 'Lisandro Martínez', 'lastAction': 'Chipped', 'league': 'EPL'}, {'id': '584631', 'minute': '26', 'result': 'MissedShots', 'X': '0.7469999694824219', 'Y': '0.47900001525878905', 'xG': '0.020807035267353058', 'player': 'Casemiro', 'h_a': 'h', 'player_id': '2248', 'situation': 'OpenPlay', 'season': '2024', 'shotType': 'RightFoot', 'match_id': '26602', 'h_team': 'Manchester United', 'a_team': 'Fulham', 'h_goals': '1', 'a_goals': '0', 'date': '2024-08-16 19:00:00', 'player_assisted': 'Mason Mount', 'lastAction': 'Pass', 'league': 'EPL'}, {'id': '584632', 'minute': '28', 'result': 'SavedShot', 'X': '0.9130000305175782', 'Y': '0.34599998474121096', 'xG': '0.25769174098968506', 'player': 'Bruno Fernandes', 'h_a': 'h', 'player_id': '1228', 'situation': 'OpenPlay', 'season': '2024', 'shotType': 'RightFoot', 'match_id': '26602', 'h_team': 'Manchester United', 'a_team': 'Fulham', 'h_goals': '1', 'a_goals': '0', 'date': '2024-08-16 19:00:00', 'player_assisted': 'Casemiro', 'lastAction': 'Pass', 'league': 'EPL'}, {'id': '584633', 'minute': '33', 'result': 'SavedShot', 'X': '0.9130000305175782', 'Y': '0.46299999237060546', 'xG': '0.4701629877090454', 'player': 'Bruno Fernandes', 'h_a': 'h', 'player_id': '1228', 'situation': 'OpenPlay', 'season': '2024', 'shotType': 'RightFoot', 'match_id': '26602', 'h_team': 'Manchester United', 'a_team': 'Fulham', 'h_goals': '1', 'a_goals': '0', 'date': '2024-08-16 19:00:00', 'player_assisted': 'Casemiro', 'lastAction': 'Pass', 'league': 'EPL'}, {'id': '584634', 'minute': '36', 'result': 'MissedShots', 'X': '0.9580000305175781', 'Y': '0.5990000152587891', 'xG': '0.01805894263088703', 'player': 'Casemiro', 'h_a': 'h', 'player_id': '2248', 'situation': 'FromCorner', 'season': '2024', 'shotType': 'Head', 'match_id': '26602', 'h_team': 'Manchester United', 'a_team': 'Fulham', 'h_goals': '1', 'a_goals': '0', 'date': '2024-08-16 19:00:00', 'player_assisted': 'Amad Diallo Traore', 'lastAction': 'Aerial', 'league': 'EPL'}, {'id': '584635', 'minute': '41', 'result': 'MissedShots', 'X': '0.8080000305175781', 'Y': '0.44799999237060545', 'xG': '0.07073989510536194', 'player': 'Casemiro', 'h_a': 'h', 'player_id': '2248', 'situation': 'OpenPlay', 'season': '2024', 'shotType': 'RightFoot', 'match_id': '26602', 'h_team': 'Manchester United', 'a_team': 'Fulham', 'h_goals': '1', 'a_goals': '0', 'date': '2024-08-16 19:00:00', 'player_assisted': None, 'lastAction': 'TakeOn', 'league': 'EPL'}, {'id': '584638', 'minute': '52', 'result': 'SavedShot', 'X': '0.9280000305175782', 'Y': '0.5629999923706055', 'xG': '0.46622347831726074', 'player': 'Mason Mount', 'h_a': 'h', 'player_id': '7768', 'situation': 'OpenPlay', 'season': '2024', 'shotType': 'LeftFoot', 'match_id': '26602', 'h_team': 'Manchester United', 'a_team': 'Fulham', 'h_goals': '1', 'a_goals': '0', 'date': '2024-08-16 19:00:00', 'player_assisted': None, 'lastAction': 'None', 'league': 'EPL'}, {'id': '584639', 'minute': '54', 'result': 'BlockedShot', 'X': '0.78', 'Y': '0.5629999923706055', 'xG': '0.03356590494513512', 'player': 'Bruno Fernandes', 'h_a': 'h', 'player_id': '1228', 'situation': 'OpenPlay', 'season': '2024', 'shotType': 'RightFoot', 'match_id': '26602', 'h_team': 'Manchester United', 'a_team': 'Fulham', 'h_goals': '1', 'a_goals': '0', 'date': '2024-08-16 19:00:00', 'player_assisted': None, 'lastAction': 'BallRecovery', 'league': 'EPL'}  ... displaying 10 of 3470 total bound parameter sets ...  {'id': '604834', 'minute': '82', 'result': 'SavedShot', 'X': '0.8619999694824219', 'Y': '0.4209999847412109', 'xG': '0.30779051780700684', 'player': 'Kevin De Bruyne', 'h_a': 'a', 'player_id': '447', 'situation': 'OpenPlay', 'season': '2024', 'shotType': 'RightFoot', 'match_id': '26726', 'h_team': 'Liverpool', 'a_team': 'Manchester City', 'h_goals': '2', 'a_goals': '0', 'date': '2024-12-01 16:00:00', 'player_assisted': None, 'lastAction': 'BallRecovery', 'league': 'EPL'}, {'id': '604837', 'minute': '92', 'result': 'BlockedShot', 'X': '0.8869999694824219', 'Y': '0.6279999923706054', 'xG': '0.0859927162528038', 'player': 'Bernardo Silva', 'h_a': 'a', 'player_id': '3635', 'situation': 'OpenPlay', 'season': '2024', 'shotType': 'LeftFoot', 'match_id': '26726', 'h_team': 'Liverpool', 'a_team': 'Manchester City', 'h_goals': '2', 'a_goals': '0', 'date': '2024-12-01 16:00:00', 'player_assisted': 'Jéremy Doku', 'lastAction': 'Pass', 'league': 'EPL'})]\n",
      "(Background on this error at: https://sqlalche.me/e/14/gkpj)\n"
     ]
    }
   ],
   "source": [
    "#compiled_shot_df.to_csv(f'C:/Users/acer/Documents/GitHub/IndianCitizen/ScorePredict/Data/{league}/2024-25/shot_data.csv')\n",
    "save_to_postgres(compiled_shot_df, 'understat_shots_tb')"
   ]
  }
 ],
 "metadata": {
  "kernelspec": {
   "display_name": "Python 3 (ipykernel)",
   "language": "python",
   "name": "python3"
  },
  "language_info": {
   "codemirror_mode": {
    "name": "ipython",
    "version": 3
   },
   "file_extension": ".py",
   "mimetype": "text/x-python",
   "name": "python",
   "nbconvert_exporter": "python",
   "pygments_lexer": "ipython3",
   "version": "3.10.7"
  }
 },
 "nbformat": 4,
 "nbformat_minor": 5
}
