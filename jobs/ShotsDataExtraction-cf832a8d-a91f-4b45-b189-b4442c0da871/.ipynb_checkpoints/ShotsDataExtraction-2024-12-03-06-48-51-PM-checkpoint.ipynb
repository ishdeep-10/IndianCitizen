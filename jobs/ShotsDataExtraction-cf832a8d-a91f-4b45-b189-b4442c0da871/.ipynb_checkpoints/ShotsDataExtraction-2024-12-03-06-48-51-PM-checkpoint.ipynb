{
 "cells": [
  {
   "cell_type": "code",
   "execution_count": 1,
   "id": "2ad330cc",
   "metadata": {
    "execution": {
     "iopub.execute_input": "2024-12-03T13:18:54.606290Z",
     "iopub.status.busy": "2024-12-03T13:18:54.606290Z",
     "iopub.status.idle": "2024-12-03T13:18:54.637652Z",
     "shell.execute_reply": "2024-12-03T13:18:54.637652Z"
    },
    "tags": [
     "injected-parameters"
    ]
   },
   "outputs": [],
   "source": [
    "league = \"EPL\"\n",
    "season = \"2024\""
   ]
  },
  {
   "cell_type": "code",
   "execution_count": 2,
   "id": "4b9d3347-22ca-4eab-9af6-474308093ed0",
   "metadata": {
    "execution": {
     "iopub.execute_input": "2024-12-03T13:18:54.637652Z",
     "iopub.status.busy": "2024-12-03T13:18:54.637652Z",
     "iopub.status.idle": "2024-12-03T13:18:55.172685Z",
     "shell.execute_reply": "2024-12-03T13:18:55.172685Z"
    }
   },
   "outputs": [],
   "source": [
    "import pandas as pd\n",
    "import requests\n",
    "import re\n",
    "from unidecode import unidecode"
   ]
  },
  {
   "cell_type": "code",
   "execution_count": 3,
   "id": "40e0b85f-483f-45fa-b02e-261512331d6d",
   "metadata": {
    "execution": {
     "iopub.execute_input": "2024-12-03T13:18:55.172685Z",
     "iopub.status.busy": "2024-12-03T13:18:55.172685Z",
     "iopub.status.idle": "2024-12-03T13:18:55.203938Z",
     "shell.execute_reply": "2024-12-03T13:18:55.203938Z"
    }
   },
   "outputs": [],
   "source": [
    "import understatapi\n",
    "client = understatapi.UnderstatClient()"
   ]
  },
  {
   "cell_type": "code",
   "execution_count": 4,
   "id": "2d5583e7",
   "metadata": {
    "execution": {
     "iopub.execute_input": "2024-12-03T13:18:55.203938Z",
     "iopub.status.busy": "2024-12-03T13:18:55.203938Z",
     "iopub.status.idle": "2024-12-03T13:18:55.932152Z",
     "shell.execute_reply": "2024-12-03T13:18:55.928611Z"
    }
   },
   "outputs": [
    {
     "name": "stderr",
     "output_type": "stream",
     "text": [
      "C:\\Users\\acer\\AppData\\Local\\Temp\\ipykernel_9404\\3092297994.py:17: RemovedIn20Warning: Deprecated API features detected! These feature(s) are not compatible with SQLAlchemy 2.0. To prevent incompatible upgrades prior to updating applications, ensure requirements files are pinned to \"sqlalchemy<2.0\". Set environment variable SQLALCHEMY_WARN_20=1 to show all deprecation warnings.  Set environment variable SQLALCHEMY_SILENCE_UBER_WARNING=1 to silence this message. (Background on SQLAlchemy 2.0 at: https://sqlalche.me/e/b8d9)\n",
      "  conn.execute('TRUNCATE TABLE understat_shots_tb RESTART IDENTITY CASCADE;')\n"
     ]
    }
   ],
   "source": [
    "from sqlalchemy import create_engine\n",
    "import psycopg2\n",
    "\n",
    "# Database connection settings (replace with your credentials)\n",
    "db_config = {\n",
    "    'dbname': 'understat_shots_db',\n",
    "    'user': 'ichadha',\n",
    "    'password': 'ichadhapg',\n",
    "    'host': 'localhost',\n",
    "    'port': 5432,\n",
    "}\n",
    "\n",
    "# Create a connection engine\n",
    "engine = create_engine(f\"postgresql+psycopg2://{db_config['user']}:{db_config['password']}@{db_config['host']}:{db_config['port']}/{db_config['dbname']}\")\n",
    "\n",
    "with engine.connect() as conn:\n",
    "    conn.execute('TRUNCATE TABLE understat_shots_tb RESTART IDENTITY CASCADE;')\n",
    "\n",
    "def save_to_postgres(dataframe, table_name):\n",
    "    try:\n",
    "        # Append data to the PostgreSQL table\n",
    "        dataframe.to_sql(table_name, engine, if_exists='append', index=False)\n",
    "        print(f\"Data successfully saved to {table_name} table.\")\n",
    "    except Exception as e:\n",
    "        print(f\"Error saving data to PostgreSQL: {e}\")\n"
   ]
  },
  {
   "cell_type": "code",
   "execution_count": 5,
   "id": "1f914112-889b-4bb8-9d0a-0c1926818998",
   "metadata": {
    "execution": {
     "iopub.execute_input": "2024-12-03T13:18:55.944898Z",
     "iopub.status.busy": "2024-12-03T13:18:55.943941Z",
     "iopub.status.idle": "2024-12-03T13:18:57.131484Z",
     "shell.execute_reply": "2024-12-03T13:18:57.129319Z"
    }
   },
   "outputs": [],
   "source": [
    "## EPL , Bundesliga , Serie_A , Ligue_1 , La_Liga\n",
    "#league = \"EPL\"\n",
    "#season = \"2024\"\n",
    "\n",
    "league_data = client.league(league=league).get_match_data(season=season)"
   ]
  },
  {
   "cell_type": "code",
   "execution_count": 6,
   "id": "af454b97-6c43-45fa-9963-da982c01e931",
   "metadata": {
    "execution": {
     "iopub.execute_input": "2024-12-03T13:18:57.135832Z",
     "iopub.status.busy": "2024-12-03T13:18:57.135832Z",
     "iopub.status.idle": "2024-12-03T13:18:57.163726Z",
     "shell.execute_reply": "2024-12-03T13:18:57.162830Z"
    }
   },
   "outputs": [],
   "source": [
    "matches = []\n",
    "\n",
    "for match in league_data:\n",
    "    match_data = {\n",
    "        'id': match['id'],\n",
    "        'home_team': match['h']['title'],\n",
    "        'away_team': match['a']['title'],\n",
    "        'home_goals': match['goals']['h'],\n",
    "        'away_goals': match['goals']['a'],\n",
    "        'home_xG': match['xG']['h'],\n",
    "        'away_xG': match['xG']['a'],\n",
    "        'datetime': match['datetime']\n",
    "        #'forecast': match['forecast']\n",
    "    }\n",
    "    matches.append(match_data)\n",
    "\n",
    "# Convert the list of dictionaries into a DataFrame\n",
    "matches_df = pd.DataFrame(matches)"
   ]
  },
  {
   "cell_type": "code",
   "execution_count": 7,
   "id": "9f010c70-7e04-4e5e-9071-2dbb764c5cb9",
   "metadata": {
    "execution": {
     "iopub.execute_input": "2024-12-03T13:18:57.168774Z",
     "iopub.status.busy": "2024-12-03T13:18:57.168774Z",
     "iopub.status.idle": "2024-12-03T13:19:27.395435Z",
     "shell.execute_reply": "2024-12-03T13:19:27.394608Z"
    }
   },
   "outputs": [],
   "source": [
    "all_shot_data = []\n",
    "\n",
    "import datetime\n",
    "\n",
    "current_timestamp = datetime.datetime.now().timestamp()\n",
    "\n",
    "for index,row in matches_df.iterrows():\n",
    "    match_datetime = pd.to_datetime(row['datetime']).timestamp()\n",
    "    \n",
    "    if match_datetime <= current_timestamp:\n",
    "        #print(row['id'])\n",
    "        try:\n",
    "            shot_data = client.match(match=row['id']).get_shot_data()\n",
    "        except Exception as e:\n",
    "            print(e)\n",
    "        all_shot_data.append(shot_data)"
   ]
  },
  {
   "cell_type": "code",
   "execution_count": 8,
   "id": "8c7d1f47-0fa5-43e0-86c0-b1b5a5362047",
   "metadata": {
    "execution": {
     "iopub.execute_input": "2024-12-03T13:19:27.398712Z",
     "iopub.status.busy": "2024-12-03T13:19:27.398712Z",
     "iopub.status.idle": "2024-12-03T13:19:27.415794Z",
     "shell.execute_reply": "2024-12-03T13:19:27.415200Z"
    }
   },
   "outputs": [],
   "source": [
    "# Initialize an empty list to hold individual shot records\n",
    "compiled_shot_data = []\n",
    "\n",
    "# Loop through each match in `all_shot_data`\n",
    "for match in all_shot_data:\n",
    "    # Get home shots and away shots from the match\n",
    "    home_shots = match.get('h', [])\n",
    "    away_shots = match.get('a', [])\n",
    "    \n",
    "    # Add a column to indicate if it's a home or away shot, then extend our list\n",
    "    for shot in home_shots:\n",
    "        shot['h_a'] = 'h'  # Indicate as home shot\n",
    "        compiled_shot_data.append(shot)\n",
    "    \n",
    "    for shot in away_shots:\n",
    "        shot['h_a'] = 'a'  # Indicate as away shot\n",
    "        compiled_shot_data.append(shot)\n",
    "\n",
    "# Convert the list of shot records to a DataFrame\n",
    "compiled_shot_df = pd.DataFrame(compiled_shot_data)"
   ]
  },
  {
   "cell_type": "code",
   "execution_count": 9,
   "id": "e2f52b8e-42f5-4c4e-a6d6-2e143084c72d",
   "metadata": {
    "execution": {
     "iopub.execute_input": "2024-12-03T13:19:27.418803Z",
     "iopub.status.busy": "2024-12-03T13:19:27.418803Z",
     "iopub.status.idle": "2024-12-03T13:19:27.427592Z",
     "shell.execute_reply": "2024-12-03T13:19:27.427592Z"
    }
   },
   "outputs": [],
   "source": [
    "compiled_shot_df['league'] = league"
   ]
  },
  {
   "cell_type": "code",
   "execution_count": 10,
   "id": "2b0b1a5a-eeb3-40b9-b514-c7eb1296103b",
   "metadata": {
    "execution": {
     "iopub.execute_input": "2024-12-03T13:19:27.430619Z",
     "iopub.status.busy": "2024-12-03T13:19:27.430619Z",
     "iopub.status.idle": "2024-12-03T13:19:28.588508Z",
     "shell.execute_reply": "2024-12-03T13:19:28.586855Z"
    }
   },
   "outputs": [
    {
     "name": "stdout",
     "output_type": "stream",
     "text": [
      "Data successfully saved to understat_shots_tb table.\n"
     ]
    }
   ],
   "source": [
    "#compiled_shot_df.to_csv(f'C:/Users/acer/Documents/GitHub/IndianCitizen/ScorePredict/Data/{league}/2024-25/shot_data.csv')\n",
    "save_to_postgres(compiled_shot_df, 'understat_shots_tb')"
   ]
  }
 ],
 "metadata": {
  "kernelspec": {
   "display_name": "Python 3 (ipykernel)",
   "language": "python",
   "name": "python3"
  },
  "language_info": {
   "codemirror_mode": {
    "name": "ipython",
    "version": 3
   },
   "file_extension": ".py",
   "mimetype": "text/x-python",
   "name": "python",
   "nbconvert_exporter": "python",
   "pygments_lexer": "ipython3",
   "version": "3.10.7"
  }
 },
 "nbformat": 4,
 "nbformat_minor": 5
}
