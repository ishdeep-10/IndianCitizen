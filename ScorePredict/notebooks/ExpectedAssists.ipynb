{
 "cells": [
  {
   "cell_type": "markdown",
   "id": "99e114b3-4397-4735-bab7-8afd039d1533",
   "metadata": {
    "jp-MarkdownHeadingCollapsed": true
   },
   "source": [
    "## Importing Libs"
   ]
  },
  {
   "cell_type": "code",
   "execution_count": 1,
   "id": "7dc1950e-5d00-4a42-9147-bf88cdc8e260",
   "metadata": {},
   "outputs": [],
   "source": [
    "import pandas as pd\n",
    "import numpy as np\n",
    "import matplotlib.pyplot as plt\n",
    "import seaborn as sns\n",
    "import requests \n",
    "from bs4 import BeautifulSoup\n",
    "import json\n",
    "from pprint import pprint\n",
    "import matplotlib.image as mpimg\n",
    "import matplotlib.patches as patches\n",
    "from PIL import Image\n",
    "from io import BytesIO\n",
    "import highlight_text\n",
    "import matplotlib as mpl\n",
    "from matplotlib.gridspec import GridSpec\n",
    "from mplsoccer import Pitch, VerticalPitch\n",
    "import matplotlib.image as mpimg\n",
    "import matplotlib.patches as patches\n",
    "from PIL import Image\n",
    "from io import BytesIO\n",
    "from mplsoccer import PyPizza, add_image, FontManager\n",
    "from matplotlib.patches import Rectangle\n",
    "import matplotlib.font_manager as font_manager\n",
    "import matplotlib.image as mpimg\n",
    "import matplotlib.patches as patches\n",
    "from PIL import Image\n",
    "from io import BytesIO\n",
    "from mplsoccer import PyPizza, add_image, FontManager\n",
    "#import soccerdata as sd\n",
    "import re\n",
    "from unidecode import unidecode\n",
    "\n",
    "pd.set_option(\"display.max_rows\", None, \"display.max_columns\", None)\n",
    "background = \"black\"\n",
    "text_color = 'w'\n",
    "primary = '#C8102E'\n",
    "secondary = 'lightblue'\n",
    "mpl.rcParams['xtick.color'] = text_color\n",
    "mpl.rcParams['ytick.color'] = text_color"
   ]
  },
  {
   "cell_type": "code",
   "execution_count": 2,
   "id": "0f0d6bd2-7e24-4933-89c2-d4a6276a981e",
   "metadata": {},
   "outputs": [
    {
     "name": "stdout",
     "output_type": "stream",
     "text": [
      "Font loaded and registered successfully!\n"
     ]
    }
   ],
   "source": [
    "import matplotlib.font_manager as fm\n",
    "from mplsoccer import FontManager\n",
    "\n",
    "# Set the path to the locally downloaded font file\n",
    "font_path = r'C:\\Users\\acer\\Documents\\GitHub\\IndianCitizen\\ScorePredict\\Score Logos-20241022T100701Z-001\\Score Logos\\Sora_Font\\Sora-Regular.ttf'\n",
    "\n",
    "# Add the font to matplotlib\n",
    "font_prop = fm.FontProperties(fname=font_path)\n",
    "\n",
    "# You can now use this font in your plots\n",
    "fm_sora = FontManager()\n",
    "#fm_sora.prop = font_prop\n",
    "\n",
    "print(\"Font loaded and registered successfully!\")"
   ]
  },
  {
   "cell_type": "markdown",
   "id": "3c557e0e-f642-4321-8d45-287eca2d1c4e",
   "metadata": {},
   "source": [
    "## Data Extraction"
   ]
  },
  {
   "cell_type": "markdown",
   "id": "99536396-3012-4158-9608-d3c897e383ff",
   "metadata": {
    "jp-MarkdownHeadingCollapsed": true
   },
   "source": [
    "### WhoScored"
   ]
  },
  {
   "cell_type": "code",
   "execution_count": 191,
   "id": "1a708c2a-9128-4b92-906f-080ddb58a341",
   "metadata": {},
   "outputs": [],
   "source": [
    "teams_dict = {\n",
    "    13: 'Arsenal',\n",
    "    161: 'Wolves',\n",
    "    24: 'Aston Villa',\n",
    "    211: 'Brighton',\n",
    "    30: 'Tottenham',\n",
    "    167: 'Man City',\n",
    "    14: 'Leicester',\n",
    "    18: 'Southampton',\n",
    "    183: 'Bournemouth',\n",
    "    26: 'Liverpool',\n",
    "    23: 'Newcastle',\n",
    "    15: 'Chelsea',\n",
    "    174: 'Nottingham Forest',\n",
    "    29: 'West Ham',\n",
    "    32: 'Man Utd'\n",
    "}"
   ]
  },
  {
   "cell_type": "code",
   "execution_count": 192,
   "id": "4d84115a-a834-4e5b-ab19-12dadceff6bb",
   "metadata": {},
   "outputs": [],
   "source": [
    "def extract_json_from_html(html_path, save_output=False):\n",
    "    with open(html_path, 'r', encoding='utf-8') as html_file:\n",
    "        html = html_file.read()\n",
    "\n",
    "    regex_pattern = r'(?<=require\\.config\\.params\\[\"args\"\\].=.)[\\s\\S]*?;'\n",
    "    data_txt = re.findall(regex_pattern, html)[0]\n",
    "\n",
    "    # add quotations for JSON parser\n",
    "    data_txt = data_txt.replace('matchId', '\"matchId\"')\n",
    "    data_txt = data_txt.replace('matchCentreData', '\"matchCentreData\"')\n",
    "    data_txt = data_txt.replace('matchCentreEventTypeJson', '\"matchCentreEventTypeJson\"')\n",
    "    data_txt = data_txt.replace('formationIdNameMappings', '\"formationIdNameMappings\"')\n",
    "    data_txt = data_txt.replace('};', '}')\n",
    "\n",
    "    if save_output:\n",
    "        # save JSON data to txt\n",
    "        output_file = open(f\"{html_path}.txt\", \"wt\", encoding='utf-8')\n",
    "        n = output_file.write(data_txt)\n",
    "        output_file.close()\n",
    "\n",
    "    return data_txt\n",
    "\n",
    "def extract_data_from_dict(data):\n",
    "    # load data from json\n",
    "    event_types_json = data[\"matchCentreEventTypeJson\"]\n",
    "    formation_mappings = data[\"formationIdNameMappings\"]\n",
    "    events_dict = data[\"matchCentreData\"][\"events\"]\n",
    "    teams_dict = {data[\"matchCentreData\"]['home']['teamId']: data[\"matchCentreData\"]['home']['name'],\n",
    "                  data[\"matchCentreData\"]['away']['teamId']: data[\"matchCentreData\"]['away']['name']}\n",
    "    players_dict = data[\"matchCentreData\"][\"playerIdNameDictionary\"]\n",
    "    # create players dataframe\n",
    "    players_home_df = pd.DataFrame(data[\"matchCentreData\"]['home']['players'])\n",
    "    players_home_df[\"teamId\"] = data[\"matchCentreData\"]['home']['teamId']\n",
    "    players_away_df = pd.DataFrame(data[\"matchCentreData\"]['away']['players'])\n",
    "    players_away_df[\"teamId\"] = data[\"matchCentreData\"]['away']['teamId']\n",
    "    players_df = pd.concat([players_home_df, players_away_df])\n",
    "    players_ids = data[\"matchCentreData\"][\"playerIdNameDictionary\"]\n",
    "    return events_dict, players_df, teams_dict"
   ]
  },
  {
   "cell_type": "code",
   "execution_count": 193,
   "id": "3dd6b427-e0a3-48ef-9046-53043df29865",
   "metadata": {},
   "outputs": [
    {
     "name": "stdout",
     "output_type": "stream",
     "text": [
      "Successfully processed file C:/Users/acer/Documents/GitHub/IndianCitizen/ScorePredict/HTMLs/ManCity/1.html\n",
      "Successfully processed file C:/Users/acer/Documents/GitHub/IndianCitizen/ScorePredict/HTMLs/ManCity/2.html\n",
      "Successfully processed file C:/Users/acer/Documents/GitHub/IndianCitizen/ScorePredict/HTMLs/ManCity/3.html\n",
      "Successfully processed file C:/Users/acer/Documents/GitHub/IndianCitizen/ScorePredict/HTMLs/ManCity/4.html\n",
      "Successfully processed file C:/Users/acer/Documents/GitHub/IndianCitizen/ScorePredict/HTMLs/ManCity/5.html\n",
      "Successfully processed file C:/Users/acer/Documents/GitHub/IndianCitizen/ScorePredict/HTMLs/ManCity/6.html\n",
      "Successfully processed file C:/Users/acer/Documents/GitHub/IndianCitizen/ScorePredict/HTMLs/ManCity/7.html\n",
      "Successfully processed file C:/Users/acer/Documents/GitHub/IndianCitizen/ScorePredict/HTMLs/ManCity/8.html\n",
      "Successfully processed file C:/Users/acer/Documents/GitHub/IndianCitizen/ScorePredict/HTMLs/ManCity/9.html\n",
      "Successfully processed file C:/Users/acer/Documents/GitHub/IndianCitizen/ScorePredict/HTMLs/ManCity/10.html\n",
      "Successfully processed file C:/Users/acer/Documents/GitHub/IndianCitizen/ScorePredict/HTMLs/ManCity/11.html\n",
      "Successfully processed file C:/Users/acer/Documents/GitHub/IndianCitizen/ScorePredict/HTMLs/ManCity/12.html\n",
      "Successfully processed file C:/Users/acer/Documents/GitHub/IndianCitizen/ScorePredict/HTMLs/ManCity/13.html\n",
      "Successfully processed file C:/Users/acer/Documents/GitHub/IndianCitizen/ScorePredict/HTMLs/ManCity/14.html\n",
      "Successfully processed file C:/Users/acer/Documents/GitHub/IndianCitizen/ScorePredict/HTMLs/ManCity/15.html\n",
      "Successfully processed file C:/Users/acer/Documents/GitHub/IndianCitizen/ScorePredict/HTMLs/ManCity/16.html\n",
      "Successfully processed file C:/Users/acer/Documents/GitHub/IndianCitizen/ScorePredict/HTMLs/ManCity/17.html\n",
      "Successfully processed file C:/Users/acer/Documents/GitHub/IndianCitizen/ScorePredict/HTMLs/ManCity/18.html\n",
      "Successfully processed file C:/Users/acer/Documents/GitHub/IndianCitizen/ScorePredict/HTMLs/ManCity/19.html\n",
      "Successfully processed file C:/Users/acer/Documents/GitHub/IndianCitizen/ScorePredict/HTMLs/ManCity/20.html\n",
      "Successfully processed file C:/Users/acer/Documents/GitHub/IndianCitizen/ScorePredict/HTMLs/ManCity/21.html\n",
      "Successfully processed file C:/Users/acer/Documents/GitHub/IndianCitizen/ScorePredict/HTMLs/ManCity/22.html\n",
      "Successfully processed file C:/Users/acer/Documents/GitHub/IndianCitizen/ScorePredict/HTMLs/ManCity/23.html\n",
      "Successfully processed file C:/Users/acer/Documents/GitHub/IndianCitizen/ScorePredict/HTMLs/ManCity/24.html\n",
      "Successfully processed file C:/Users/acer/Documents/GitHub/IndianCitizen/ScorePredict/HTMLs/ManCity/25.html\n",
      "Successfully processed file C:/Users/acer/Documents/GitHub/IndianCitizen/ScorePredict/HTMLs/ManCity/26.html\n",
      "Successfully processed file C:/Users/acer/Documents/GitHub/IndianCitizen/ScorePredict/HTMLs/ManCity/27.html\n",
      "Successfully processed file C:/Users/acer/Documents/GitHub/IndianCitizen/ScorePredict/HTMLs/ManCity/28.html\n",
      "Successfully processed file C:/Users/acer/Documents/GitHub/IndianCitizen/ScorePredict/HTMLs/ManCity/29.html\n",
      "Successfully processed file C:/Users/acer/Documents/GitHub/IndianCitizen/ScorePredict/HTMLs/ManCity/30.html\n",
      "Successfully processed file C:/Users/acer/Documents/GitHub/IndianCitizen/ScorePredict/HTMLs/ManCity/31.html\n",
      "Successfully processed file C:/Users/acer/Documents/GitHub/IndianCitizen/ScorePredict/HTMLs/ManCity/32.html\n"
     ]
    }
   ],
   "source": [
    "import os\n",
    "\n",
    "def process_file(i, all_teams_dict):\n",
    "    match_html_path = f\"C:/Users/acer/Documents/GitHub/IndianCitizen/ScorePredict/HTMLs/ManCity/{i}.html\"\n",
    "    \n",
    "    try:\n",
    "        json_data_txt = extract_json_from_html(match_html_path)\n",
    "        data = json.loads(json_data_txt)\n",
    "        \n",
    "        events_dict, players_df, teams_dict = extract_data_from_dict(data)\n",
    "        \n",
    "        # Append teams_dict for this file\n",
    "        all_teams_dict[i] = teams_dict\n",
    "        \n",
    "        # Save DataFrames to CSV\n",
    "        df = pd.DataFrame(events_dict)\n",
    "        df['teamName'] = df['teamId'].map(teams_dict)\n",
    "        team_names = list(teams_dict.values())\n",
    "        opposition_dict = {team_names[i]: team_names[1-i] for i in range(len(team_names))}\n",
    "        df['oppositionTeamName'] = df['teamName'].map(opposition_dict)\n",
    "        dfp = pd.DataFrame(players_df)\n",
    "\n",
    "        os.makedirs(f\"C:/Users/acer/Documents/GitHub/IndianCitizen/ScorePredict/HTMLs/ManCity/Data\", exist_ok=True)\n",
    "        os.makedirs(f\"C:/Users/acer/Documents/GitHub/IndianCitizen/ScorePredict/HTMLs/ManCity/Data/Player\", exist_ok=True)\n",
    "\n",
    "        df.to_csv(f\"C:/Users/acer/Documents/GitHub/IndianCitizen/ScorePredict/HTMLs/ManCity/Data/{i}.csv\", index=False)\n",
    "        dfp.to_csv(f\"C:/Users/acer/Documents/GitHub/IndianCitizen/ScorePredict/HTMLs/ManCity/Data/Player/{i}.csv\", index=False)\n",
    "        \n",
    "        print(f\"Successfully processed file {match_html_path}\")\n",
    "\n",
    "    except Exception as e:\n",
    "        print(f\"Error processing file {match_html_path}: {e}\")\n",
    "\n",
    "# Main loop to process all files\n",
    "all_teams_dict = {}  # Dictionary to store teams_dict for all files\n",
    "\n",
    "for i in range(1, 33):\n",
    "    process_file(i, all_teams_dict)"
   ]
  },
  {
   "cell_type": "code",
   "execution_count": 194,
   "id": "95a6f1c3-6c32-41bd-a778-bb19cfbc5e40",
   "metadata": {},
   "outputs": [],
   "source": [
    "import glob\n",
    "import os\n",
    "\n",
    "# Specify the directory containing the CSV files\n",
    "folder_path = \"C:/Users/acer/Documents/GitHub/IndianCitizen/ScorePredict/HTMLs/ManCity/Data/\"\n",
    "\n",
    "# Use glob to get all the CSV file paths\n",
    "csv_files = glob.glob(os.path.join(folder_path, \"*.csv\"))\n",
    "\n",
    "# List to hold the DataFrames\n",
    "dataframes = []\n",
    "\n",
    "# Loop through the CSV files and read them into DataFrames\n",
    "for file in csv_files:\n",
    "    dfi = pd.read_csv(file)  # Read the CSV file\n",
    "    dataframes.append(dfi)   # Append the DataFrame to the list\n",
    "\n",
    "# Concatenate all DataFrames into a single DataFrame\n",
    "df = pd.concat(dataframes, ignore_index=True)"
   ]
  },
  {
   "cell_type": "code",
   "execution_count": 195,
   "id": "7fcf2218-1eee-4607-a4eb-1764b6798737",
   "metadata": {},
   "outputs": [],
   "source": [
    "# Specify the directory containing the CSV files\n",
    "folder_path = \"C:/Users/acer/Documents/GitHub/IndianCitizen/ScorePredict/HTMLs/ManCity/Data/Player/\"\n",
    "\n",
    "# Use glob to get all the CSV file paths\n",
    "csv_files = glob.glob(os.path.join(folder_path, \"*.csv\"))\n",
    "\n",
    "# List to hold the DataFrames\n",
    "dataframes = []\n",
    "\n",
    "# Loop through the CSV files and read them into DataFrames\n",
    "for file in csv_files:\n",
    "    dfi = pd.read_csv(file)  # Read the CSV file\n",
    "    dataframes.append(dfi)   # Append the DataFrame to the list\n",
    "\n",
    "# Concatenate all DataFrames into a single DataFrame\n",
    "dfp = pd.concat(dataframes, ignore_index=True)"
   ]
  },
  {
   "cell_type": "markdown",
   "id": "64be27be-e843-43ba-ba66-4a71c09818a7",
   "metadata": {
    "jp-MarkdownHeadingCollapsed": true
   },
   "source": [
    "### Statsbomb"
   ]
  },
  {
   "cell_type": "code",
   "execution_count": 95,
   "id": "10acbc30-f958-4337-ab0f-2e360c59f38f",
   "metadata": {},
   "outputs": [],
   "source": [
    "from mplsoccer import Sbopen\n",
    "parser = Sbopen()\n",
    "df_match = parser.match(competition_id=9, season_id=281)\n",
    "#df_match.info()"
   ]
  },
  {
   "cell_type": "code",
   "execution_count": 96,
   "id": "8c79a71c-a176-41f8-8ce6-d299a2208d11",
   "metadata": {},
   "outputs": [],
   "source": [
    "# iterate through all matches to get the events data\n",
    "df_matches = {}\n",
    "df_event = pd.DataFrame()\n",
    "for i, id in enumerate(df_match['match_id']):\n",
    "  df_matches[id] = {}\n",
    "  df_matches[id]['event'], df_matches[id]['related'], df_matches[id]['freeze'], df_matches[id]['tactic'] = parser.event(id)\n",
    "  df_event = pd.concat([df_event,df_matches[id]['event']])"
   ]
  },
  {
   "cell_type": "code",
   "execution_count": 100,
   "id": "3a171004-3652-416c-acc3-a78d4ee7f21b",
   "metadata": {},
   "outputs": [],
   "source": [
    "df_statsbomb = df_event.copy()"
   ]
  },
  {
   "cell_type": "code",
   "execution_count": null,
   "id": "13948142-1aa1-4cee-b69a-9edeeb099914",
   "metadata": {},
   "outputs": [],
   "source": []
  },
  {
   "cell_type": "markdown",
   "id": "8e8c4337-b541-460d-ba93-6fa6dfe63753",
   "metadata": {},
   "source": [
    "## Data Transformation"
   ]
  },
  {
   "cell_type": "markdown",
   "id": "d09dece1-c531-4639-beec-f0e2f9ce922a",
   "metadata": {
    "jp-MarkdownHeadingCollapsed": true
   },
   "source": [
    "### WhoScored"
   ]
  },
  {
   "cell_type": "code",
   "execution_count": 196,
   "id": "3e69a247-1d60-4fc1-a5d9-4368f5e4ca91",
   "metadata": {},
   "outputs": [
    {
     "name": "stderr",
     "output_type": "stream",
     "text": [
      "C:\\Users\\acer\\AppData\\Local\\Temp\\ipykernel_23116\\3822741489.py:156: FutureWarning: Series.__getitem__ treating keys as positions is deprecated. In a future version, integer keys will always be treated as labels (consistent with DataFrame behavior). To access a value by position, use `ser.iloc[pos]`\n",
      "  dfxT['start_zone_value_xT'] = dfxT[['x1_bin_xT', 'y1_bin_xT']].apply(lambda x: xT[x[1]][x[0]], axis=1)\n",
      "C:\\Users\\acer\\AppData\\Local\\Temp\\ipykernel_23116\\3822741489.py:157: FutureWarning: Series.__getitem__ treating keys as positions is deprecated. In a future version, integer keys will always be treated as labels (consistent with DataFrame behavior). To access a value by position, use `ser.iloc[pos]`\n",
      "  dfxT['end_zone_value_xT'] = dfxT[['x2_bin_xT', 'y2_bin_xT']].apply(lambda x: xT[x[1]][x[0]], axis=1)\n"
     ]
    }
   ],
   "source": [
    "\n",
    "# Extract the 'displayName' value\n",
    "df['type'] = df['type'].str.extract(r\"'displayName': '([^']+)\")\n",
    "df['outcomeType'] = df['outcomeType'].str.extract(r\"'displayName': '([^']+)\")\n",
    "df['period'] = df['period'].str.extract(r\"'displayName': '([^']+)\")\n",
    "\n",
    "# temprary use of typeId of period column\n",
    "df['period'] = df['period'].replace({'FirstHalf': 1, 'SecondHalf': 2, 'FirstPeriodOfExtraTime': 3, 'SecondPeriodOfExtraTime': 4,\n",
    "                                     'PenaltyShootout': 5, 'PostGame': 14, 'PreMatch': 16})\n",
    "\n",
    "# new column for cumulative minutes, This part is taken from the \"jakeyk11.github.io\" github repository and modified for my use\n",
    "def cumulative_match_mins(events_df):\n",
    "    events_out = pd.DataFrame()\n",
    "    # Add cumulative time to events data, resetting for each unique match\n",
    "    match_events = events_df.copy()\n",
    "    match_events['cumulative_mins'] = match_events['minute'] + (1/60) * match_events['second']\n",
    "    # Add time increment to cumulative minutes based on period of game.\n",
    "    for period in np.arange(1, match_events['period'].max() + 1, 1):\n",
    "        if period > 1:\n",
    "            t_delta = match_events[match_events['period'] == period - 1]['cumulative_mins'].max() - \\\n",
    "                                   match_events[match_events['period'] == period]['cumulative_mins'].min()\n",
    "        elif period == 1 or period == 5:\n",
    "            t_delta = 0\n",
    "        else:\n",
    "            t_delta = 0\n",
    "        match_events.loc[match_events['period'] == period, 'cumulative_mins'] += t_delta\n",
    "    # Rebuild events dataframe\n",
    "    events_out = pd.concat([events_out, match_events])\n",
    "    return events_out\n",
    "\n",
    "df = cumulative_match_mins(df)\n",
    "\n",
    "# Extracting the carry data and merge it with the main df, This part is also taken from the \"jakeyk11.github.io\" github repository and modified for my use\n",
    "def insert_ball_carries(events_df, min_carry_length=3, max_carry_length=60, min_carry_duration=1, max_carry_duration=10):\n",
    "    events_out = pd.DataFrame()\n",
    "    # Carry conditions (convert from metres to opta)\n",
    "    min_carry_length = 3.0\n",
    "    max_carry_length = 60.0\n",
    "    min_carry_duration = 1.0\n",
    "    max_carry_duration = 10.0\n",
    "    # match_events = events_df[events_df['match_id'] == match_id].reset_index()\n",
    "    match_events = events_df.reset_index()\n",
    "    match_carries = pd.DataFrame()\n",
    "\n",
    "    for idx, match_event in match_events.iterrows():\n",
    "\n",
    "        if idx < len(match_events) - 1:\n",
    "            prev_evt_team = match_event['teamId']\n",
    "            next_evt_idx = idx + 1\n",
    "            init_next_evt = match_events.loc[next_evt_idx]\n",
    "            take_ons = 0\n",
    "            incorrect_next_evt = True\n",
    "\n",
    "            while incorrect_next_evt:\n",
    "\n",
    "                next_evt = match_events.loc[next_evt_idx]\n",
    "\n",
    "                if next_evt['type'] == 'TakeOn' and next_evt['outcomeType'] == 'Successful':\n",
    "                    take_ons += 1\n",
    "                    incorrect_next_evt = True\n",
    "\n",
    "                elif ((next_evt['type'] == 'TakeOn' and next_evt['outcomeType'] == 'Unsuccessful')\n",
    "                      or (next_evt['teamId'] != prev_evt_team and next_evt['type'] == 'Challenge' and next_evt['outcomeType'] == 'Unsuccessful')\n",
    "                      or (next_evt['type'] == 'Foul')):\n",
    "                    incorrect_next_evt = True\n",
    "\n",
    "                else:\n",
    "                    incorrect_next_evt = False\n",
    "\n",
    "                next_evt_idx += 1\n",
    "\n",
    "            # Apply some conditioning to determine whether carry criteria is satisfied\n",
    "            same_team = prev_evt_team == next_evt['teamId']\n",
    "            not_ball_touch = match_event['type'] != 'BallTouch'\n",
    "            dx = 105*(match_event['endX'] - next_evt['x'])/100\n",
    "            dy = 68*(match_event['endY'] - next_evt['y'])/100\n",
    "            far_enough = dx ** 2 + dy ** 2 >= min_carry_length ** 2\n",
    "            not_too_far = dx ** 2 + dy ** 2 <= max_carry_length ** 2\n",
    "            dt = 60 * (next_evt['cumulative_mins'] - match_event['cumulative_mins'])\n",
    "            min_time = dt >= min_carry_duration\n",
    "            same_phase = dt < max_carry_duration\n",
    "            same_period = match_event['period'] == next_evt['period']\n",
    "\n",
    "            valid_carry = same_team & not_ball_touch & far_enough & not_too_far & min_time & same_phase &same_period\n",
    "\n",
    "            if valid_carry:\n",
    "                carry = pd.DataFrame()\n",
    "                prev = match_event\n",
    "                nex = next_evt\n",
    "\n",
    "                carry.loc[0, 'eventId'] = prev['eventId'] + 0.5\n",
    "                carry['minute'] = np.floor(((init_next_evt['minute'] * 60 + init_next_evt['second']) + (\n",
    "                        prev['minute'] * 60 + prev['second'])) / (2 * 60))\n",
    "                carry['second'] = (((init_next_evt['minute'] * 60 + init_next_evt['second']) +\n",
    "                                    (prev['minute'] * 60 + prev['second'])) / 2) - (carry['minute'] * 60)\n",
    "                carry['teamId'] = nex['teamId']\n",
    "                carry['x'] = prev['endX']\n",
    "                carry['y'] = prev['endY']\n",
    "                carry['expandedMinute'] = np.floor(((init_next_evt['expandedMinute'] * 60 + init_next_evt['second']) +\n",
    "                                                    (prev['expandedMinute'] * 60 + prev['second'])) / (2 * 60))\n",
    "                carry['period'] = nex['period']\n",
    "                carry['type'] = carry.apply(lambda x: {'value': 99, 'displayName': 'Carry'}, axis=1)\n",
    "                carry['outcomeType'] = 'Successful'\n",
    "                carry['qualifiers'] = carry.apply(lambda x: {'type': {'value': 999, 'displayName': 'takeOns'}, 'value': str(take_ons)}, axis=1)\n",
    "                carry['satisfiedEventsTypes'] = carry.apply(lambda x: [], axis=1)\n",
    "                carry['isTouch'] = True\n",
    "                carry['playerId'] = nex['playerId']\n",
    "                carry['endX'] = nex['x']\n",
    "                carry['endY'] = nex['y']\n",
    "                carry['blockedX'] = np.nan\n",
    "                carry['blockedY'] = np.nan\n",
    "                carry['goalMouthZ'] = np.nan\n",
    "                carry['goalMouthY'] = np.nan\n",
    "                carry['isShot'] = np.nan\n",
    "                carry['relatedEventId'] = nex['eventId']\n",
    "                carry['relatedPlayerId'] = np.nan\n",
    "                carry['isGoal'] = np.nan\n",
    "                carry['cardType'] = np.nan\n",
    "                carry['isOwnGoal'] = np.nan\n",
    "                carry['type'] = 'Carry'\n",
    "                carry['cumulative_mins'] = (prev['cumulative_mins'] + init_next_evt['cumulative_mins']) / 2\n",
    "\n",
    "                match_carries = pd.concat([match_carries, carry], ignore_index=True, sort=False)\n",
    "\n",
    "    match_events_and_carries = pd.concat([match_carries, match_events], ignore_index=True, sort=False)\n",
    "    match_events_and_carries = match_events_and_carries.sort_values(['period', 'cumulative_mins']).reset_index(drop=True)\n",
    "\n",
    "    # Rebuild events dataframe\n",
    "    events_out = pd.concat([events_out, match_events_and_carries])\n",
    "\n",
    "    return events_out\n",
    "\n",
    "df = insert_ball_carries(df, min_carry_length=3, max_carry_length=60, min_carry_duration=1, max_carry_duration=10)\n",
    "\n",
    "df = df.reset_index(drop=True)\n",
    "df['index'] = range(1, len(df) + 1)\n",
    "df = df[['index'] + [col for col in df.columns if col != 'index']]\n",
    "\n",
    "# Assign xT values\n",
    "df_base  = df\n",
    "dfxT = df_base.copy()\n",
    "dfxT['qualifiers'] = dfxT['qualifiers'].astype(str)\n",
    "dfxT = dfxT[(~dfxT['qualifiers'].str.contains('Corner'))]\n",
    "dfxT = dfxT[(dfxT['type'].isin(['Pass', 'Carry'])) & (dfxT['outcomeType']=='Successful')]\n",
    "\n",
    "\n",
    "xT = pd.read_csv('https://raw.githubusercontent.com/mckayjohns/youtube-videos/main/data/xT_Grid.csv', header=None) # use this if you don't have your own xT value Grid\n",
    "# xT = pd.read_csv(\"/content/xT_Grid.csv\", header=None)    # use this if you have your own xT value Grid, then place your file path here\n",
    "xT = np.array(xT)\n",
    "xT_rows, xT_cols = xT.shape\n",
    "\n",
    "dfxT['x1_bin_xT'] = pd.cut(dfxT['x'], bins=xT_cols, labels=False)\n",
    "dfxT['y1_bin_xT'] = pd.cut(dfxT['y'], bins=xT_rows, labels=False)\n",
    "dfxT['x2_bin_xT'] = pd.cut(dfxT['endX'], bins=xT_cols, labels=False)\n",
    "dfxT['y2_bin_xT'] = pd.cut(dfxT['endY'], bins=xT_rows, labels=False)\n",
    "\n",
    "dfxT['start_zone_value_xT'] = dfxT[['x1_bin_xT', 'y1_bin_xT']].apply(lambda x: xT[x[1]][x[0]], axis=1)\n",
    "dfxT['end_zone_value_xT'] = dfxT[['x2_bin_xT', 'y2_bin_xT']].apply(lambda x: xT[x[1]][x[0]], axis=1)\n",
    "\n",
    "dfxT['xT'] = dfxT['end_zone_value_xT'] - dfxT['start_zone_value_xT']\n",
    "columns_to_drop = ['id', 'eventId', 'minute', 'second', 'teamId', 'x', 'y', 'expandedMinute', 'period', 'outcomeType', 'qualifiers',  'type',\n",
    "                   'satisfiedEventsTypes', 'isTouch', 'playerId', 'endX', 'endY', 'relatedEventId', 'relatedPlayerId', 'blockedX', 'blockedY',\n",
    "                   'goalMouthZ', 'goalMouthY', 'isShot', 'cumulative_mins']\n",
    "dfxT.drop(columns=columns_to_drop, inplace=True)\n",
    "\n",
    "df = df.merge(dfxT, on='index', how='left')\n",
    "\n",
    "# New Column for Team Names and Oppositon TeamNames\n",
    "#df['teamName'] = df['teamId'].map(teams_dict)\n",
    "#team_names = list(teams_dict.values())\n",
    "#opposition_dict = {team_names[i]: team_names[1-i] for i in range(len(team_names))}\n",
    "#df['oppositionTeamName'] = df['teamName'].map(opposition_dict)\n",
    "\n",
    "# Reshaping the data from 100x100 to 105x68, as I use the pitch_type='uefa', in the pitch function, you can consider according to your use\n",
    "df['x'] = df['x']*1.05\n",
    "df['y'] = df['y']*0.68\n",
    "df['endX'] = df['endX']*1.05\n",
    "df['endY'] = df['endY']*0.68\n",
    "df['goalMouthY'] = df['goalMouthY']*0.68\n",
    "\n",
    "columns_to_drop = ['height', 'weight', 'age', 'isManOfTheMatch', 'field', 'stats',\n",
    "                   'subbedInPlayerId', 'subbedOutPeriod',\n",
    "                   'subbedOutExpandedMinute', 'subbedInPeriod', 'subbedInExpandedMinute', 'subbedOutPlayerId',\n",
    "                   'teamId']\n",
    "dfp.drop(columns=columns_to_drop, inplace=True)\n",
    "\n",
    "# adding player name, shirt no. etc info\n",
    "dfp = dfp.drop_duplicates(subset=['name'])\n",
    "df = df.merge(dfp, on='playerId', how='left')\n",
    "\n",
    "df['qualifiers'] = df['qualifiers'].astype(str)\n",
    "# Calculating passing distance, to find out progressive pass, this will just show the distance reduced by a pass, then will be able to filter passes which has reduced distance value more than 10yds as a progressive pass\n",
    "df['prog_pass'] = np.where((df['type'] == 'Pass'),\n",
    "                           np.sqrt((105 - df['x'])**2 + (34 - df['y'])**2) - np.sqrt((105 - df['endX'])**2 + (34 - df['endY'])**2), 0)\n",
    "# Calculating carrying distance, to find out progressive carry, this will just show the distance reduced by a carry, then will be able to filter carries which has reduced distance value more than 10yds as a progressive carry\n",
    "df['prog_carry'] = np.where((df['type'] == 'Carry'),\n",
    "                            np.sqrt((105 - df['x'])**2 + (34 - df['y'])**2) - np.sqrt((105 - df['endX'])**2 + (34 - df['endY'])**2), 0)\n",
    "df['pass_or_carry_angle'] = np.degrees(np.arctan2(df['endY'] - df['y'], df['endX'] - df['x']))\n",
    "\n",
    "\n",
    "# Making all the alphabets in the name as English Alphabets only (for example: Á will be replaced by A)\n",
    "df['name'] = df['name'].astype(str)\n",
    "df['name'] = df['name'].apply(unidecode)\n",
    "\n",
    "# Function to extract short names\n",
    "def get_short_name(full_name):\n",
    "    if pd.isna(full_name):\n",
    "        return full_name\n",
    "    parts = full_name.split()\n",
    "    if len(parts) == 1:\n",
    "        return full_name  # No need for short name if there's only one word\n",
    "    elif len(parts) == 2:\n",
    "        return parts[0][0] + \". \" + parts[1]\n",
    "    else:\n",
    "        return parts[0][0] + \". \" + parts[1][0] + \". \" + \" \".join(parts[2:])\n",
    "\n",
    "# Applying the function to create 'shortName' column\n",
    "df['shortName'] = df['name'].apply(get_short_name)\n",
    "\n",
    "df['qualifiers'] = df['qualifiers'].astype(str)\n",
    "#columns_to_drop2 = ['id']\n",
    "#df.drop(columns=columns_to_drop2, inplace=True)\n",
    "\n",
    "df['period'] = df['period'].replace({1: 'FirstHalf', 2: 'SecondHalf', 3: 'FirstPeriodOfExtraTime', 4: 'SecondPeriodOfExtraTime',\n",
    "                                     5: 'PenaltyShootout', 14: 'PostGame', 16: 'PreMatch'})\n"
   ]
  },
  {
   "cell_type": "code",
   "execution_count": 197,
   "id": "60d1cc95-4061-4ccc-ae06-325234a51d18",
   "metadata": {},
   "outputs": [],
   "source": [
    "df = df.sort_values('id').reset_index(drop=True)"
   ]
  },
  {
   "cell_type": "code",
   "execution_count": 11,
   "id": "5d9b184c-370e-4c52-96bd-248dd8c1f52a",
   "metadata": {},
   "outputs": [
    {
     "data": {
      "text/plain": [
       "Index(['index', 'eventId', 'minute', 'second', 'teamId', 'x', 'y',\n",
       "       'expandedMinute', 'period', 'type', 'outcomeType', 'qualifiers',\n",
       "       'satisfiedEventsTypes', 'isTouch', 'playerId', 'endX', 'endY',\n",
       "       'blockedX', 'blockedY', 'goalMouthZ', 'goalMouthY', 'isShot',\n",
       "       'relatedEventId', 'relatedPlayerId', 'isGoal_x', 'cardType_x',\n",
       "       'isOwnGoal_x', 'cumulative_mins', 'id', 'teamName_x',\n",
       "       'oppositionTeamName_x', 'isGoal_y', 'cardType_y', 'isOwnGoal_y',\n",
       "       'teamName_y', 'oppositionTeamName_y', 'x1_bin_xT', 'y1_bin_xT',\n",
       "       'x2_bin_xT', 'y2_bin_xT', 'start_zone_value_xT', 'end_zone_value_xT',\n",
       "       'xT', 'shirtNo', 'name', 'position', 'isFirstEleven', 'prog_pass',\n",
       "       'prog_carry', 'pass_or_carry_angle', 'shortName'],\n",
       "      dtype='object')"
      ]
     },
     "execution_count": 11,
     "metadata": {},
     "output_type": "execute_result"
    }
   ],
   "source": [
    "df.columns"
   ]
  },
  {
   "cell_type": "code",
   "execution_count": 48,
   "id": "e84685c8-9a46-4740-a71d-7f61444e7c28",
   "metadata": {},
   "outputs": [
    {
     "data": {
      "text/plain": [
       "array(['Successful', 'Unsuccessful'], dtype=object)"
      ]
     },
     "execution_count": 48,
     "metadata": {},
     "output_type": "execute_result"
    }
   ],
   "source": [
    "df['outcomeType'].unique()"
   ]
  },
  {
   "cell_type": "code",
   "execution_count": 198,
   "id": "554a37b0-d9c9-4575-895b-3df8ed47fbcb",
   "metadata": {},
   "outputs": [],
   "source": [
    "df_passes = df[(df['type'] == 'Pass') & (df['outcomeType'] == 'Successful')]"
   ]
  },
  {
   "cell_type": "code",
   "execution_count": 199,
   "id": "207bce68-5894-4dd1-b4c8-dde97d9436c4",
   "metadata": {},
   "outputs": [
    {
     "name": "stderr",
     "output_type": "stream",
     "text": [
      "C:\\Users\\acer\\AppData\\Local\\Temp\\ipykernel_23116\\2091178362.py:1: SettingWithCopyWarning: \n",
      "A value is trying to be set on a copy of a slice from a DataFrame.\n",
      "Try using .loc[row_indexer,col_indexer] = value instead\n",
      "\n",
      "See the caveats in the documentation: https://pandas.pydata.org/pandas-docs/stable/user_guide/indexing.html#returning-a-view-versus-a-copy\n",
      "  df_passes['Is_Assist'] = df_passes['qualifiers'].str.contains('IntentionalGoalAssist', na=False)\n"
     ]
    }
   ],
   "source": [
    "df_passes['Is_Assist'] = df_passes['qualifiers'].str.contains('IntentionalGoalAssist', na=False)"
   ]
  },
  {
   "cell_type": "code",
   "execution_count": 200,
   "id": "3aaf90f0-2c8c-4a30-b176-3453c147475c",
   "metadata": {},
   "outputs": [
    {
     "name": "stderr",
     "output_type": "stream",
     "text": [
      "C:\\Users\\acer\\AppData\\Local\\Temp\\ipykernel_23116\\1813201705.py:12: SettingWithCopyWarning: \n",
      "A value is trying to be set on a copy of a slice from a DataFrame.\n",
      "Try using .loc[row_indexer,col_indexer] = value instead\n",
      "\n",
      "See the caveats in the documentation: https://pandas.pydata.org/pandas-docs/stable/user_guide/indexing.html#returning-a-view-versus-a-copy\n",
      "  df_passes['Pass_Type'] = np.select(conditions, pass_types, default='ground_pass')\n"
     ]
    }
   ],
   "source": [
    "conditions = [\n",
    "    df_passes['qualifiers'].str.contains('Throughball', na=False),\n",
    "    df_passes['qualifiers'].str.contains('Longball', na=False),\n",
    "    df_passes['qualifiers'].str.contains('Cross', na=False),\n",
    "    df_passes['qualifiers'].str.contains('HeadPass', na=False)\n",
    "]\n",
    "\n",
    "# Define corresponding pass types\n",
    "pass_types = ['through_pass', 'long_ball', 'cross', 'header']\n",
    "\n",
    "# Apply np.select to assign Pass_Type based on conditions\n",
    "df_passes['Pass_Type'] = np.select(conditions, pass_types, default='ground_pass')"
   ]
  },
  {
   "cell_type": "code",
   "execution_count": 201,
   "id": "8926dd73-e864-4ece-8f21-0632aa447a31",
   "metadata": {},
   "outputs": [
    {
     "name": "stderr",
     "output_type": "stream",
     "text": [
      "C:\\Users\\acer\\AppData\\Local\\Temp\\ipykernel_23116\\3051622314.py:1: SettingWithCopyWarning: \n",
      "A value is trying to be set on a copy of a slice from a DataFrame.\n",
      "Try using .loc[row_indexer,col_indexer] = value instead\n",
      "\n",
      "See the caveats in the documentation: https://pandas.pydata.org/pandas-docs/stable/user_guide/indexing.html#returning-a-view-versus-a-copy\n",
      "  df_passes['IsCorner'] = False\n"
     ]
    }
   ],
   "source": [
    "df_passes['IsCorner'] = False\n",
    "\n",
    "# Find 'Pass' events following 'CornerAwarded' for the same team\n",
    "for i, row in df_passes.iterrows():\n",
    "    if (row['type'] == 'CornerAwarded') & (row['outcomeType'] == 'Successful'):\n",
    "        team = row['teamName_x']\n",
    "        # Iterate through subsequent rows to find a valid 'Pass' for the same team\n",
    "        for j in range(i + 1, len(df_passes)):\n",
    "            if df_passes.loc[j, 'type'] == 'Pass' and df_passes.loc[j, 'teamName_x'] == team:\n",
    "                df_passes.loc[j, 'IsCorner'] = True\n",
    "                break"
   ]
  },
  {
   "cell_type": "code",
   "execution_count": 202,
   "id": "8221a39e-11fe-4f6b-9d3d-32cbb4046e9c",
   "metadata": {},
   "outputs": [
    {
     "name": "stderr",
     "output_type": "stream",
     "text": [
      "C:\\Users\\acer\\AppData\\Local\\Temp\\ipykernel_23116\\585988565.py:11: SettingWithCopyWarning: \n",
      "A value is trying to be set on a copy of a slice from a DataFrame.\n",
      "Try using .loc[row_indexer,col_indexer] = value instead\n",
      "\n",
      "See the caveats in the documentation: https://pandas.pydata.org/pandas-docs/stable/user_guide/indexing.html#returning-a-view-versus-a-copy\n",
      "  df_passes['Play_Pattern'] = np.select(conditions2, play_patterns, default='open_play')\n"
     ]
    }
   ],
   "source": [
    "conditions2 = [\n",
    "    df_passes['qualifiers'].str.contains('ThrowIn', na=False),\n",
    "    df_passes['qualifiers'].str.contains('Corner', na=False),\n",
    "    df_passes['qualifiers'].str.contains('Freekick', na=False)\n",
    "]\n",
    "\n",
    "# Define corresponding pass types\n",
    "play_patterns = ['throw_in', 'corner', 'freekick']\n",
    "\n",
    "# Apply np.select to assign Pass_Type based on conditions\n",
    "df_passes['Play_Pattern'] = np.select(conditions2, play_patterns, default='open_play')"
   ]
  },
  {
   "cell_type": "code",
   "execution_count": 203,
   "id": "7bc6c3c3-95a7-42e1-8564-7e66caf55c98",
   "metadata": {},
   "outputs": [
    {
     "name": "stderr",
     "output_type": "stream",
     "text": [
      "C:\\Users\\acer\\AppData\\Local\\Temp\\ipykernel_23116\\97125126.py:1: SettingWithCopyWarning: \n",
      "A value is trying to be set on a copy of a slice from a DataFrame.\n",
      "Try using .loc[row_indexer,col_indexer] = value instead\n",
      "\n",
      "See the caveats in the documentation: https://pandas.pydata.org/pandas-docs/stable/user_guide/indexing.html#returning-a-view-versus-a-copy\n",
      "  df_passes['pass_distance'] = np.sqrt((df_passes['endX'] - df_passes['x'])**2 +\n"
     ]
    }
   ],
   "source": [
    "df_passes['pass_distance'] = np.sqrt((df_passes['endX'] - df_passes['x'])**2 + \n",
    "                                     (df_passes['endY'] - df_passes['y'])**2)"
   ]
  },
  {
   "cell_type": "code",
   "execution_count": 204,
   "id": "e665e95d-9a38-40bd-8577-131037d0a269",
   "metadata": {},
   "outputs": [
    {
     "name": "stderr",
     "output_type": "stream",
     "text": [
      "C:\\Users\\acer\\AppData\\Local\\Temp\\ipykernel_23116\\2645462579.py:2: SettingWithCopyWarning: \n",
      "A value is trying to be set on a copy of a slice from a DataFrame.\n",
      "Try using .loc[row_indexer,col_indexer] = value instead\n",
      "\n",
      "See the caveats in the documentation: https://pandas.pydata.org/pandas-docs/stable/user_guide/indexing.html#returning-a-view-versus-a-copy\n",
      "  df_passes['pass_angle'] = np.arctan2(df_passes['endY'] - df_passes['y'], df_passes['endX'] - df_passes['x'])\n"
     ]
    }
   ],
   "source": [
    "# Compute angle in radians\n",
    "df_passes['pass_angle'] = np.arctan2(df_passes['endY'] - df_passes['y'], df_passes['endX'] - df_passes['x'])\n",
    "\n",
    "# Optional: Convert to degrees\n",
    "#df_passes['pass_angle_degrees'] = np.degrees(df_passes['pass_angle'])\n"
   ]
  },
  {
   "cell_type": "code",
   "execution_count": 205,
   "id": "0a73c404-dc4c-44b4-85e5-0ca8a0697906",
   "metadata": {},
   "outputs": [
    {
     "name": "stderr",
     "output_type": "stream",
     "text": [
      "C:\\Users\\acer\\AppData\\Local\\Temp\\ipykernel_23116\\1360876484.py:1: SettingWithCopyWarning: \n",
      "A value is trying to be set on a copy of a slice from a DataFrame\n",
      "\n",
      "See the caveats in the documentation: https://pandas.pydata.org/pandas-docs/stable/user_guide/indexing.html#returning-a-view-versus-a-copy\n",
      "  df_passes['Pass_Type'].fillna('Unknown', inplace=True)\n",
      "C:\\Users\\acer\\AppData\\Local\\Temp\\ipykernel_23116\\1360876484.py:2: SettingWithCopyWarning: \n",
      "A value is trying to be set on a copy of a slice from a DataFrame\n",
      "\n",
      "See the caveats in the documentation: https://pandas.pydata.org/pandas-docs/stable/user_guide/indexing.html#returning-a-view-versus-a-copy\n",
      "  df_passes['Play_Pattern'].fillna('Unknown', inplace=True)\n"
     ]
    }
   ],
   "source": [
    "df_passes['Pass_Type'].fillna('Unknown', inplace=True)\n",
    "df_passes['Play_Pattern'].fillna('Unknown', inplace=True)"
   ]
  },
  {
   "cell_type": "code",
   "execution_count": 206,
   "id": "e893adcf-65db-417f-acd1-e9eee7b6fef7",
   "metadata": {},
   "outputs": [],
   "source": [
    "final_df = df_passes[['x', 'y', 'outcomeType', 'endX', 'endY', 'name', 'pass_angle',\n",
    "                      'Is_Assist', 'Pass_Type', 'Play_Pattern', 'pass_distance']]"
   ]
  },
  {
   "cell_type": "code",
   "execution_count": 74,
   "id": "8d3d5c38-0f0b-41c4-8d25-dea15171b3c8",
   "metadata": {},
   "outputs": [
    {
     "data": {
      "text/plain": [
       "array([0.38230286, 0.70664943, 0.20615716, ..., 0.1486492 , 0.12705595,\n",
       "       0.19926943])"
      ]
     },
     "execution_count": 74,
     "metadata": {},
     "output_type": "execute_result"
    }
   ],
   "source": [
    "final_df['pass_distance'].unique()"
   ]
  },
  {
   "cell_type": "markdown",
   "id": "cbf41912-d16c-4364-bd1f-9d2dbc276770",
   "metadata": {
    "jp-MarkdownHeadingCollapsed": true
   },
   "source": [
    "### Statsbomb"
   ]
  },
  {
   "cell_type": "code",
   "execution_count": 104,
   "id": "a3ec1e72-4ac1-4514-b0c8-eedf93fe4886",
   "metadata": {},
   "outputs": [
    {
     "data": {
      "text/plain": [
       "Index(['id', 'index', 'period', 'timestamp', 'minute', 'second', 'possession',\n",
       "       'duration', 'match_id', 'type_id', 'type_name', 'possession_team_id',\n",
       "       'possession_team_name', 'play_pattern_id', 'play_pattern_name',\n",
       "       'team_id', 'team_name', 'tactics_formation', 'player_id', 'player_name',\n",
       "       'position_id', 'position_name', 'pass_recipient_id',\n",
       "       'pass_recipient_name', 'pass_length', 'pass_angle', 'pass_height_id',\n",
       "       'pass_height_name', 'end_x', 'end_y', 'body_part_id', 'body_part_name',\n",
       "       'sub_type_id', 'sub_type_name', 'x', 'y', 'under_pressure',\n",
       "       'outcome_id', 'outcome_name', 'counterpress', 'out', 'aerial_won',\n",
       "       'off_camera', 'pass_switch', 'pass_cross', 'shot_statsbomb_xg',\n",
       "       'shot_first_time', 'technique_id', 'technique_name',\n",
       "       'goalkeeper_position_id', 'goalkeeper_position_name',\n",
       "       'pass_assisted_shot_id', 'pass_shot_assist', 'end_z',\n",
       "       'shot_key_pass_id', 'injury_stoppage_in_chain', 'foul_won_defensive',\n",
       "       'ball_recovery_recovery_failure', 'foul_committed_advantage',\n",
       "       'foul_won_advantage', 'pass_deflected', 'block_deflection',\n",
       "       'foul_committed_penalty', 'foul_won_penalty', 'foul_committed_card_id',\n",
       "       'foul_committed_card_name', 'block_save_block', 'shot_one_on_one',\n",
       "       'substitution_replacement_id', 'substitution_replacement_name',\n",
       "       'bad_behaviour_card_id', 'bad_behaviour_card_name', 'pass_cut_back',\n",
       "       'pass_goal_assist', 'dribble_nutmeg', 'dribble_overrun',\n",
       "       'block_offensive', 'ball_recovery_offensive', 'shot_deflected',\n",
       "       'foul_committed_offensive', 'pass_miscommunication', 'pass_no_touch',\n",
       "       'shot_open_goal', 'dribble_no_touch'],\n",
       "      dtype='object')"
      ]
     },
     "execution_count": 104,
     "metadata": {},
     "output_type": "execute_result"
    }
   ],
   "source": [
    "df_statsbomb.columns"
   ]
  },
  {
   "cell_type": "code",
   "execution_count": 116,
   "id": "e7017179-a4f9-46fe-b64e-d8b18ce91825",
   "metadata": {},
   "outputs": [
    {
     "data": {
      "text/plain": [
       "(137765, 84)"
      ]
     },
     "execution_count": 116,
     "metadata": {},
     "output_type": "execute_result"
    }
   ],
   "source": [
    "df_statsbomb.shape"
   ]
  },
  {
   "cell_type": "code",
   "execution_count": 134,
   "id": "03db2c20-6b79-48ec-8198-c19e2760d814",
   "metadata": {},
   "outputs": [
    {
     "data": {
      "text/plain": [
       "array([nan, 'Right Foot', 'Left Foot', 'Other', 'Head', 'Keeper Arm',\n",
       "       'Drop Kick', 'Both Hands', 'Right Hand', 'Left Hand', 'No Touch',\n",
       "       'Chest'], dtype=object)"
      ]
     },
     "execution_count": 134,
     "metadata": {},
     "output_type": "execute_result"
    }
   ],
   "source": [
    "df_statsbomb['body_part_name'].unique()"
   ]
  },
  {
   "cell_type": "code",
   "execution_count": 182,
   "id": "0c95ac00-bcb8-436b-be67-9e32be522566",
   "metadata": {},
   "outputs": [],
   "source": [
    "df_passes_sb = df_statsbomb[(df_statsbomb['type_name'] == 'Pass')][['play_pattern_name','pass_angle','pass_length','end_x', 'end_y','sub_type_name','x', 'y','pass_cross','pass_switch','technique_name','pass_goal_assist','body_part_name']]"
   ]
  },
  {
   "cell_type": "code",
   "execution_count": 183,
   "id": "8d5f195b-22b6-485f-9b58-81e0a8447404",
   "metadata": {},
   "outputs": [
    {
     "data": {
      "text/plain": [
       "Index(['play_pattern_name', 'pass_angle', 'pass_length', 'end_x', 'end_y',\n",
       "       'sub_type_name', 'x', 'y', 'pass_cross', 'pass_switch',\n",
       "       'technique_name', 'pass_goal_assist', 'body_part_name'],\n",
       "      dtype='object')"
      ]
     },
     "execution_count": 183,
     "metadata": {},
     "output_type": "execute_result"
    }
   ],
   "source": [
    "df_passes_sb.columns"
   ]
  },
  {
   "cell_type": "code",
   "execution_count": 184,
   "id": "ad857c99-bde2-4539-b5d9-98fec64a258f",
   "metadata": {},
   "outputs": [
    {
     "data": {
      "text/plain": [
       "(39214, 13)"
      ]
     },
     "execution_count": 184,
     "metadata": {},
     "output_type": "execute_result"
    }
   ],
   "source": [
    "df_passes_sb.shape"
   ]
  },
  {
   "cell_type": "code",
   "execution_count": 185,
   "id": "6a107d75-043b-46cc-be28-2dcc35382b7f",
   "metadata": {},
   "outputs": [
    {
     "data": {
      "text/plain": [
       "array([nan, True], dtype=object)"
      ]
     },
     "execution_count": 185,
     "metadata": {},
     "output_type": "execute_result"
    }
   ],
   "source": [
    "df_passes_sb['pass_goal_assist'].unique()"
   ]
  },
  {
   "cell_type": "code",
   "execution_count": 186,
   "id": "ca0e7924-604f-4c9e-9bf8-093aa3fa4fce",
   "metadata": {},
   "outputs": [],
   "source": [
    "df_passes_sb['pass_goal_assist'] = df_passes_sb['pass_goal_assist'].fillna(False)"
   ]
  },
  {
   "cell_type": "code",
   "execution_count": 187,
   "id": "a838e85a-90e3-4fce-b5e7-a5cd0c1adf77",
   "metadata": {},
   "outputs": [],
   "source": [
    "# Rename columns to match previous dataset\n",
    "df_passes_sb = df_passes_sb.rename(columns={\n",
    "    'play_pattern_name': 'Play_Pattern',\n",
    "    'pass_angle': 'pass_angle',\n",
    "    'pass_length': 'pass_distance',\n",
    "    'end_x': 'endX',\n",
    "    'end_y': 'endY',\n",
    "    'sub_type_name': 'Pass_Type',\n",
    "    'x': 'x',\n",
    "    'y': 'y',\n",
    "    'pass_goal_assist': 'Is_Assist'\n",
    "})\n",
    "\n",
    "# Convert 'Is_Assist' to boolean\n",
    "df_passes_sb['Is_Assist'] = df_passes_sb['Is_Assist'].astype(bool)\n",
    "\n",
    "\n",
    "df_passes_sb['Pass_Type'] = 'ground_pass'\n",
    "df_passes_sb.loc[df_passes_sb['pass_cross'] == 1, 'Pass_Type'] = 'cross'\n",
    "df_passes_sb.loc[df_passes_sb['pass_switch'] == 1, 'Pass_Type'] = 'long_ball'\n",
    "df_passes_sb.loc[df_passes_sb['technique_name'] == 'Through Ball', 'Pass_Type'] = 'through_pass'\n",
    "\n",
    "# Map Play_Pattern categories from 'play_pattern_name'\n",
    "play_pattern_mapping = {\n",
    "    'Regular Play': 'open_play',\n",
    "    'From Free Kick': 'freekick',\n",
    "    'From Throw In': 'throw_in',\n",
    "    'From Corner': 'corner'\n",
    "}\n",
    "\n",
    "# Apply the mapping\n",
    "df_passes_sb['Play_Pattern'] = df_passes_sb['Play_Pattern'].map(play_pattern_mapping).fillna('other')\n",
    "\n",
    "# Ensure column order matches old dataset\n",
    "final_df_passes_sb = df_passes_sb[['x', 'y', 'endX', 'endY', 'pass_distance', 'pass_angle',\n",
    "                   'Is_Assist', 'Pass_Type', 'Play_Pattern']]"
   ]
  },
  {
   "cell_type": "code",
   "execution_count": 188,
   "id": "69e2a738-3968-4b7c-a0f0-7f0b6b5ae518",
   "metadata": {},
   "outputs": [],
   "source": [
    "final_df = final_df_passes_sb.copy()"
   ]
  },
  {
   "cell_type": "code",
   "execution_count": 189,
   "id": "4b7ed65b-7c1a-47cb-8827-718e3007d2bb",
   "metadata": {},
   "outputs": [
    {
     "data": {
      "text/plain": [
       "array(['other', 'open_play', 'freekick', 'throw_in', 'corner'],\n",
       "      dtype=object)"
      ]
     },
     "execution_count": 189,
     "metadata": {},
     "output_type": "execute_result"
    }
   ],
   "source": [
    "final_df['Play_Pattern'].unique()"
   ]
  },
  {
   "cell_type": "markdown",
   "id": "b6b0ef19-4a1c-46cc-a0e8-427595c7d573",
   "metadata": {
    "jp-MarkdownHeadingCollapsed": true
   },
   "source": [
    "## Feature Engg"
   ]
  },
  {
   "cell_type": "code",
   "execution_count": 207,
   "id": "8cf6fd1b-a3c7-4e2c-a601-a53c82f1da0f",
   "metadata": {},
   "outputs": [
    {
     "name": "stderr",
     "output_type": "stream",
     "text": [
      "C:\\Users\\acer\\AppData\\Local\\Temp\\ipykernel_23116\\3464117837.py:4: SettingWithCopyWarning: \n",
      "A value is trying to be set on a copy of a slice from a DataFrame\n",
      "\n",
      "See the caveats in the documentation: https://pandas.pydata.org/pandas-docs/stable/user_guide/indexing.html#returning-a-view-versus-a-copy\n",
      "  final_df['Pass_Type'].fillna('Unknown', inplace=True)\n",
      "C:\\Users\\acer\\AppData\\Local\\Temp\\ipykernel_23116\\3464117837.py:5: SettingWithCopyWarning: \n",
      "A value is trying to be set on a copy of a slice from a DataFrame\n",
      "\n",
      "See the caveats in the documentation: https://pandas.pydata.org/pandas-docs/stable/user_guide/indexing.html#returning-a-view-versus-a-copy\n",
      "  final_df['Play_Pattern'].fillna('Unknown', inplace=True)\n",
      "C:\\Users\\acer\\AppData\\Local\\Temp\\ipykernel_23116\\3464117837.py:18: SettingWithCopyWarning: \n",
      "A value is trying to be set on a copy of a slice from a DataFrame.\n",
      "Try using .loc[row_indexer,col_indexer] = value instead\n",
      "\n",
      "See the caveats in the documentation: https://pandas.pydata.org/pandas-docs/stable/user_guide/indexing.html#returning-a-view-versus-a-copy\n",
      "  final_df[['x', 'y', 'endX', 'endY', 'pass_distance', 'pass_angle']] = scaler.fit_transform(\n"
     ]
    }
   ],
   "source": [
    "from sklearn.preprocessing import OneHotEncoder, MinMaxScaler\n",
    "\n",
    "# Ensure no missing values\n",
    "final_df['Pass_Type'].fillna('Unknown', inplace=True)\n",
    "final_df['Play_Pattern'].fillna('Unknown', inplace=True)\n",
    "\n",
    "# One-hot encode categorical variables\n",
    "categorical_features = ['Pass_Type', 'Play_Pattern']\n",
    "encoder = OneHotEncoder(sparse_output=False, drop='first')\n",
    "\n",
    "encoded_features = encoder.fit_transform(final_df[categorical_features])\n",
    "\n",
    "# Convert to DataFrame & ensure index matches df_passes\n",
    "encoded_df = pd.DataFrame(encoded_features, columns=encoder.get_feature_names_out(categorical_features), index=final_df.index)\n",
    "\n",
    "# Normalize numerical features\n",
    "scaler = MinMaxScaler()\n",
    "final_df[['x', 'y', 'endX', 'endY', 'pass_distance', 'pass_angle']] = scaler.fit_transform(\n",
    "    final_df[['x', 'y', 'endX', 'endY', 'pass_distance', 'pass_angle']]\n",
    ")\n",
    "\n",
    "# Combine all features (ensure same row count)\n",
    "df_model = pd.concat([final_df[['x', 'y', 'endX', 'endY', 'pass_distance', 'pass_angle']], encoded_df], axis=1)\n"
   ]
  },
  {
   "cell_type": "markdown",
   "id": "c02e7016-7cba-44be-adf2-947e329cd575",
   "metadata": {
    "jp-MarkdownHeadingCollapsed": true
   },
   "source": [
    "## Training Model"
   ]
  },
  {
   "cell_type": "code",
   "execution_count": 208,
   "id": "914068ea-6490-4046-99ec-913116ea0bca",
   "metadata": {},
   "outputs": [
    {
     "data": {
      "text/plain": [
       "array([False,  True])"
      ]
     },
     "execution_count": 208,
     "metadata": {},
     "output_type": "execute_result"
    }
   ],
   "source": [
    "final_df['Is_Assist'].unique()"
   ]
  },
  {
   "cell_type": "code",
   "execution_count": 211,
   "id": "51fba94a-9f11-455d-a1a5-1e3e0a38e4e2",
   "metadata": {},
   "outputs": [
    {
     "name": "stderr",
     "output_type": "stream",
     "text": [
      "C:\\Users\\acer\\AppData\\Local\\Temp\\ipykernel_23116\\4165391419.py:16: SettingWithCopyWarning: \n",
      "A value is trying to be set on a copy of a slice from a DataFrame.\n",
      "Try using .loc[row_indexer,col_indexer] = value instead\n",
      "\n",
      "See the caveats in the documentation: https://pandas.pydata.org/pandas-docs/stable/user_guide/indexing.html#returning-a-view-versus-a-copy\n",
      "  final_df['expected_assist'] = model.predict(X)\n"
     ]
    },
    {
     "name": "stdout",
     "output_type": "stream",
     "text": [
      "Mean Absolute Error: 0.004749701008030071\n"
     ]
    }
   ],
   "source": [
    "from sklearn.ensemble import RandomForestRegressor\n",
    "from sklearn.metrics import mean_absolute_error\n",
    "\n",
    "# Define target variable (convert boolean to float)\n",
    "X = df_model\n",
    "y = final_df['Is_Assist'].astype(float)  # Treat as continuous\n",
    "\n",
    "# Split into training and test sets\n",
    "X_train, X_test, y_train, y_test = train_test_split(X, y, test_size=0.2, random_state=42)\n",
    "\n",
    "# Train a Random Forest Regressor\n",
    "model = RandomForestRegressor(n_estimators=100, random_state=42)\n",
    "model.fit(X_train, y_train)\n",
    "\n",
    "# Predict Expected Assists (xA) as a continuous value\n",
    "final_df['expected_assist'] = model.predict(X)\n",
    "\n",
    "# Evaluate model performance\n",
    "y_pred = model.predict(X_test)\n",
    "print(\"Mean Absolute Error:\", mean_absolute_error(y_test, y_pred))"
   ]
  },
  {
   "cell_type": "code",
   "execution_count": 212,
   "id": "ef0f68f1-ac16-4218-9746-29fe47927476",
   "metadata": {},
   "outputs": [
    {
     "data": {
      "text/plain": [
       "['expected_assist_model.pkl']"
      ]
     },
     "execution_count": 212,
     "metadata": {},
     "output_type": "execute_result"
    }
   ],
   "source": [
    "import joblib\n",
    "\n",
    "# Save the trained model\n",
    "joblib.dump(model, 'expected_assist_model.pkl')"
   ]
  },
  {
   "cell_type": "code",
   "execution_count": 213,
   "id": "f4e3737c-7afc-42ed-9486-07fefe8dc4b2",
   "metadata": {},
   "outputs": [
    {
     "data": {
      "text/html": [
       "<div>\n",
       "<style scoped>\n",
       "    .dataframe tbody tr th:only-of-type {\n",
       "        vertical-align: middle;\n",
       "    }\n",
       "\n",
       "    .dataframe tbody tr th {\n",
       "        vertical-align: top;\n",
       "    }\n",
       "\n",
       "    .dataframe thead th {\n",
       "        text-align: right;\n",
       "    }\n",
       "</style>\n",
       "<table border=\"1\" class=\"dataframe\">\n",
       "  <thead>\n",
       "    <tr style=\"text-align: right;\">\n",
       "      <th></th>\n",
       "      <th>x</th>\n",
       "      <th>y</th>\n",
       "      <th>outcomeType</th>\n",
       "      <th>endX</th>\n",
       "      <th>endY</th>\n",
       "      <th>name</th>\n",
       "      <th>pass_angle</th>\n",
       "      <th>Is_Assist</th>\n",
       "      <th>Pass_Type</th>\n",
       "      <th>Play_Pattern</th>\n",
       "      <th>pass_distance</th>\n",
       "      <th>expected_assist</th>\n",
       "    </tr>\n",
       "  </thead>\n",
       "  <tbody>\n",
       "    <tr>\n",
       "      <th>281</th>\n",
       "      <td>0.844601</td>\n",
       "      <td>0.601</td>\n",
       "      <td>Successful</td>\n",
       "      <td>0.872449</td>\n",
       "      <td>0.449449</td>\n",
       "      <td>Bernardo Silva</td>\n",
       "      <td>0.281821</td>\n",
       "      <td>True</td>\n",
       "      <td>ground_pass</td>\n",
       "      <td>open_play</td>\n",
       "      <td>0.117378</td>\n",
       "      <td>0.69</td>\n",
       "    </tr>\n",
       "    <tr>\n",
       "      <th>1687</th>\n",
       "      <td>0.643794</td>\n",
       "      <td>0.284</td>\n",
       "      <td>Successful</td>\n",
       "      <td>0.803061</td>\n",
       "      <td>0.439439</td>\n",
       "      <td>Ben Johnson</td>\n",
       "      <td>0.593685</td>\n",
       "      <td>True</td>\n",
       "      <td>through_pass</td>\n",
       "      <td>open_play</td>\n",
       "      <td>0.219983</td>\n",
       "      <td>0.66</td>\n",
       "    </tr>\n",
       "    <tr>\n",
       "      <th>1745</th>\n",
       "      <td>0.449041</td>\n",
       "      <td>0.917</td>\n",
       "      <td>Successful</td>\n",
       "      <td>0.806122</td>\n",
       "      <td>0.711712</td>\n",
       "      <td>Kevin De Bruyne</td>\n",
       "      <td>0.441619</td>\n",
       "      <td>True</td>\n",
       "      <td>through_pass</td>\n",
       "      <td>open_play</td>\n",
       "      <td>0.457928</td>\n",
       "      <td>0.69</td>\n",
       "    </tr>\n",
       "    <tr>\n",
       "      <th>3295</th>\n",
       "      <td>0.708375</td>\n",
       "      <td>0.352</td>\n",
       "      <td>Successful</td>\n",
       "      <td>0.813265</td>\n",
       "      <td>0.434434</td>\n",
       "      <td>Bernardo Silva</td>\n",
       "      <td>0.580368</td>\n",
       "      <td>True</td>\n",
       "      <td>ground_pass</td>\n",
       "      <td>open_play</td>\n",
       "      <td>0.131269</td>\n",
       "      <td>0.00</td>\n",
       "    </tr>\n",
       "    <tr>\n",
       "      <th>3605</th>\n",
       "      <td>0.820383</td>\n",
       "      <td>0.484</td>\n",
       "      <td>Successful</td>\n",
       "      <td>0.886735</td>\n",
       "      <td>0.397397</td>\n",
       "      <td>Rico Lewis</td>\n",
       "      <td>0.377977</td>\n",
       "      <td>True</td>\n",
       "      <td>ground_pass</td>\n",
       "      <td>open_play</td>\n",
       "      <td>0.093059</td>\n",
       "      <td>0.63</td>\n",
       "    </tr>\n",
       "  </tbody>\n",
       "</table>\n",
       "</div>"
      ],
      "text/plain": [
       "             x      y outcomeType      endX      endY             name  \\\n",
       "281   0.844601  0.601  Successful  0.872449  0.449449   Bernardo Silva   \n",
       "1687  0.643794  0.284  Successful  0.803061  0.439439      Ben Johnson   \n",
       "1745  0.449041  0.917  Successful  0.806122  0.711712  Kevin De Bruyne   \n",
       "3295  0.708375  0.352  Successful  0.813265  0.434434   Bernardo Silva   \n",
       "3605  0.820383  0.484  Successful  0.886735  0.397397       Rico Lewis   \n",
       "\n",
       "      pass_angle  Is_Assist     Pass_Type Play_Pattern  pass_distance  \\\n",
       "281     0.281821       True   ground_pass    open_play       0.117378   \n",
       "1687    0.593685       True  through_pass    open_play       0.219983   \n",
       "1745    0.441619       True  through_pass    open_play       0.457928   \n",
       "3295    0.580368       True   ground_pass    open_play       0.131269   \n",
       "3605    0.377977       True   ground_pass    open_play       0.093059   \n",
       "\n",
       "      expected_assist  \n",
       "281              0.69  \n",
       "1687             0.66  \n",
       "1745             0.69  \n",
       "3295             0.00  \n",
       "3605             0.63  "
      ]
     },
     "execution_count": 213,
     "metadata": {},
     "output_type": "execute_result"
    }
   ],
   "source": [
    "final_df[final_df['Is_Assist'] == True].head()"
   ]
  },
  {
   "cell_type": "code",
   "execution_count": null,
   "id": "1bde0a22-83df-4c97-94d8-30a9a9b8f491",
   "metadata": {},
   "outputs": [],
   "source": []
  }
 ],
 "metadata": {
  "kernelspec": {
   "display_name": "Python 3 (ipykernel)",
   "language": "python",
   "name": "python3"
  },
  "language_info": {
   "codemirror_mode": {
    "name": "ipython",
    "version": 3
   },
   "file_extension": ".py",
   "mimetype": "text/x-python",
   "name": "python",
   "nbconvert_exporter": "python",
   "pygments_lexer": "ipython3",
   "version": "3.10.7"
  }
 },
 "nbformat": 4,
 "nbformat_minor": 5
}
