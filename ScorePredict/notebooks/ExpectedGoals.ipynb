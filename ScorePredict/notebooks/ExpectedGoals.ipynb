{
 "cells": [
  {
   "cell_type": "markdown",
   "id": "99e114b3-4397-4735-bab7-8afd039d1533",
   "metadata": {
    "jp-MarkdownHeadingCollapsed": true
   },
   "source": [
    "## Importing Libs"
   ]
  },
  {
   "cell_type": "code",
   "execution_count": 1,
   "id": "7dc1950e-5d00-4a42-9147-bf88cdc8e260",
   "metadata": {},
   "outputs": [],
   "source": [
    "import pandas as pd\n",
    "import numpy as np\n",
    "import matplotlib.pyplot as plt\n",
    "import seaborn as sns\n",
    "import requests \n",
    "from bs4 import BeautifulSoup\n",
    "import json\n",
    "from pprint import pprint\n",
    "import matplotlib.image as mpimg\n",
    "import matplotlib.patches as patches\n",
    "from PIL import Image\n",
    "from io import BytesIO\n",
    "import highlight_text\n",
    "import matplotlib as mpl\n",
    "from matplotlib.gridspec import GridSpec\n",
    "from mplsoccer import Pitch, VerticalPitch\n",
    "import matplotlib.image as mpimg\n",
    "import matplotlib.patches as patches\n",
    "from PIL import Image\n",
    "from io import BytesIO\n",
    "from mplsoccer import PyPizza, add_image, FontManager\n",
    "from matplotlib.patches import Rectangle\n",
    "import matplotlib.font_manager as font_manager\n",
    "import matplotlib.image as mpimg\n",
    "import matplotlib.patches as patches\n",
    "from PIL import Image\n",
    "from io import BytesIO\n",
    "from mplsoccer import PyPizza, add_image, FontManager\n",
    "#import soccerdata as sd\n",
    "import re\n",
    "from unidecode import unidecode\n",
    "from scipy.spatial import ConvexHull\n",
    "from matplotlib.colors import LinearSegmentedColormap\n",
    "from highlight_text import ax_text, fig_text\n",
    "import matplotlib.patheffects as path_effects\n",
    "from scipy.ndimage import gaussian_filter\n",
    "from matplotlib.colors import LinearSegmentedColormap\n",
    "import matplotlib.patheffects as path_effects\n",
    "\n",
    "\n",
    "from selenium import webdriver\n",
    "from selenium.webdriver.chrome.service import Service\n",
    "from webdriver_manager.chrome import ChromeDriverManager\n",
    "from selenium.webdriver.common.by import By\n",
    "import main\n",
    "import visuals\n",
    "import seaborn as sns\n",
    "import requests\n",
    "import utils\n",
    "import os\n",
    "%load_ext autoreload\n",
    "%autoreload 2\n",
    "\n",
    "pd.set_option(\"display.max_rows\", None, \"display.max_columns\", None)\n",
    "#background = \"#010b14\"\n",
    "background = \"white\"\n",
    "text_color = 'black'\n",
    "primary = '#C8102E'\n",
    "secondary = 'lightblue'\n",
    "mpl.rcParams['xtick.color'] = text_color\n",
    "mpl.rcParams['ytick.color'] = text_color"
   ]
  },
  {
   "cell_type": "code",
   "execution_count": 2,
   "id": "0f0d6bd2-7e24-4933-89c2-d4a6276a981e",
   "metadata": {},
   "outputs": [
    {
     "name": "stdout",
     "output_type": "stream",
     "text": [
      "Font loaded and registered successfully!\n"
     ]
    }
   ],
   "source": [
    "import matplotlib.font_manager as fm\n",
    "from mplsoccer import FontManager\n",
    "\n",
    "# Set the path to the locally downloaded font file\n",
    "font_path = r'C:\\Users\\acer\\Documents\\GitHub\\IndianCitizen\\ScorePredict\\Score Logos-20241022T100701Z-001\\Score Logos\\Sora_Font\\Sora-Regular.ttf'\n",
    "\n",
    "# Add the font to matplotlib\n",
    "font_prop = fm.FontProperties(fname=font_path)\n",
    "\n",
    "# You can now use this font in your plots\n",
    "fm_sora = FontManager()\n",
    "#fm_sora.prop = font_prop\n",
    "\n",
    "print(\"Font loaded and registered successfully!\")"
   ]
  },
  {
   "cell_type": "markdown",
   "id": "3c557e0e-f642-4321-8d45-287eca2d1c4e",
   "metadata": {},
   "source": [
    "## Data Extraction"
   ]
  },
  {
   "cell_type": "markdown",
   "id": "99536396-3012-4158-9608-d3c897e383ff",
   "metadata": {},
   "source": [
    "### WhoScored"
   ]
  },
  {
   "cell_type": "code",
   "execution_count": 3,
   "id": "d0e114e6-865e-483b-9623-877c73750e0d",
   "metadata": {
    "collapsed": true,
    "jupyter": {
     "outputs_hidden": true,
     "source_hidden": true
    }
   },
   "outputs": [
    {
     "name": "stdout",
     "output_type": "stream",
     "text": [
      "Reading: D:/Scrape-Whoscored-Event-Data/data\\bundesliga\\bundesliga_events1.csv\n"
     ]
    },
    {
     "name": "stderr",
     "output_type": "stream",
     "text": [
      "C:\\Users\\acer\\AppData\\Local\\Temp\\ipykernel_12948\\3813253844.py:26: DtypeWarning: Columns (259) have mixed types. Specify dtype option on import or set low_memory=False.\n",
      "  dfi = pd.read_csv(file)\n"
     ]
    },
    {
     "name": "stdout",
     "output_type": "stream",
     "text": [
      "Reading: D:/Scrape-Whoscored-Event-Data/data\\bundesliga\\bundesliga_events2.csv\n"
     ]
    },
    {
     "name": "stderr",
     "output_type": "stream",
     "text": [
      "C:\\Users\\acer\\AppData\\Local\\Temp\\ipykernel_12948\\3813253844.py:26: DtypeWarning: Columns (259) have mixed types. Specify dtype option on import or set low_memory=False.\n",
      "  dfi = pd.read_csv(file)\n"
     ]
    },
    {
     "name": "stdout",
     "output_type": "stream",
     "text": [
      "Reading: D:/Scrape-Whoscored-Event-Data/data\\bundesliga\\bundesliga_events3.csv\n"
     ]
    },
    {
     "name": "stderr",
     "output_type": "stream",
     "text": [
      "C:\\Users\\acer\\AppData\\Local\\Temp\\ipykernel_12948\\3813253844.py:26: DtypeWarning: Columns (37,259) have mixed types. Specify dtype option on import or set low_memory=False.\n",
      "  dfi = pd.read_csv(file)\n"
     ]
    },
    {
     "name": "stdout",
     "output_type": "stream",
     "text": [
      "Reading: D:/Scrape-Whoscored-Event-Data/data\\bundesliga\\bundesliga_events4.csv\n",
      "Reading: D:/Scrape-Whoscored-Event-Data/data\\bundesliga\\bundesliga_events_2025-03-19.csv\n"
     ]
    },
    {
     "name": "stderr",
     "output_type": "stream",
     "text": [
      "C:\\Users\\acer\\AppData\\Local\\Temp\\ipykernel_12948\\3813253844.py:26: DtypeWarning: Columns (259) have mixed types. Specify dtype option on import or set low_memory=False.\n",
      "  dfi = pd.read_csv(file)\n"
     ]
    },
    {
     "name": "stdout",
     "output_type": "stream",
     "text": [
      "Reading: D:/Scrape-Whoscored-Event-Data/data\\bundesliga\\bundesliga_events_2025-04-01.csv\n",
      "Reading: D:/Scrape-Whoscored-Event-Data/data\\bundesliga\\bundesliga_events_2025-04-09.csv\n"
     ]
    },
    {
     "name": "stderr",
     "output_type": "stream",
     "text": [
      "C:\\Users\\acer\\AppData\\Local\\Temp\\ipykernel_12948\\3813253844.py:26: DtypeWarning: Columns (38) have mixed types. Specify dtype option on import or set low_memory=False.\n",
      "  dfi = pd.read_csv(file)\n"
     ]
    },
    {
     "name": "stdout",
     "output_type": "stream",
     "text": [
      "Reading: D:/Scrape-Whoscored-Event-Data/data\\bundesliga\\bundesliga_events_2025-04-16.csv\n"
     ]
    },
    {
     "name": "stderr",
     "output_type": "stream",
     "text": [
      "C:\\Users\\acer\\AppData\\Local\\Temp\\ipykernel_12948\\3813253844.py:26: DtypeWarning: Columns (37,259) have mixed types. Specify dtype option on import or set low_memory=False.\n",
      "  dfi = pd.read_csv(file)\n"
     ]
    },
    {
     "name": "stdout",
     "output_type": "stream",
     "text": [
      "Reading: D:/Scrape-Whoscored-Event-Data/data\\bundesliga\\bundesliga_events_2025-04-22.csv\n",
      "Reading: D:/Scrape-Whoscored-Event-Data/data\\bundesliga\\bundesliga_events_2025-04-29.csv\n",
      "Reading: D:/Scrape-Whoscored-Event-Data/data\\bundesliga\\bundesliga_events_2025-05-07.csv\n"
     ]
    },
    {
     "name": "stderr",
     "output_type": "stream",
     "text": [
      "C:\\Users\\acer\\AppData\\Local\\Temp\\ipykernel_12948\\3813253844.py:26: DtypeWarning: Columns (259) have mixed types. Specify dtype option on import or set low_memory=False.\n",
      "  dfi = pd.read_csv(file)\n"
     ]
    },
    {
     "name": "stdout",
     "output_type": "stream",
     "text": [
      "Reading: D:/Scrape-Whoscored-Event-Data/data\\bundesliga\\bundesliga_events_2025-05-12.csv\n"
     ]
    },
    {
     "name": "stderr",
     "output_type": "stream",
     "text": [
      "C:\\Users\\acer\\AppData\\Local\\Temp\\ipykernel_12948\\3813253844.py:26: DtypeWarning: Columns (31) have mixed types. Specify dtype option on import or set low_memory=False.\n",
      "  dfi = pd.read_csv(file)\n"
     ]
    },
    {
     "name": "stdout",
     "output_type": "stream",
     "text": [
      "Reading: D:/Scrape-Whoscored-Event-Data/data\\eredivisie\\eredivisie_events_2025-04-02.csv\n"
     ]
    },
    {
     "name": "stderr",
     "output_type": "stream",
     "text": [
      "C:\\Users\\acer\\AppData\\Local\\Temp\\ipykernel_12948\\3813253844.py:26: DtypeWarning: Columns (31,259) have mixed types. Specify dtype option on import or set low_memory=False.\n",
      "  dfi = pd.read_csv(file)\n"
     ]
    },
    {
     "name": "stdout",
     "output_type": "stream",
     "text": [
      "Reading: D:/Scrape-Whoscored-Event-Data/data\\eredivisie\\eredivisie_events_2025-04-02_2.csv\n"
     ]
    },
    {
     "name": "stderr",
     "output_type": "stream",
     "text": [
      "C:\\Users\\acer\\AppData\\Local\\Temp\\ipykernel_12948\\3813253844.py:26: DtypeWarning: Columns (36,259) have mixed types. Specify dtype option on import or set low_memory=False.\n",
      "  dfi = pd.read_csv(file)\n"
     ]
    },
    {
     "name": "stdout",
     "output_type": "stream",
     "text": [
      "Reading: D:/Scrape-Whoscored-Event-Data/data\\eredivisie\\eredivisie_events_2025-04-02_3.csv\n"
     ]
    },
    {
     "name": "stderr",
     "output_type": "stream",
     "text": [
      "C:\\Users\\acer\\AppData\\Local\\Temp\\ipykernel_12948\\3813253844.py:26: DtypeWarning: Columns (37,259) have mixed types. Specify dtype option on import or set low_memory=False.\n",
      "  dfi = pd.read_csv(file)\n"
     ]
    },
    {
     "name": "stdout",
     "output_type": "stream",
     "text": [
      "Reading: D:/Scrape-Whoscored-Event-Data/data\\laliga\\laliga_events.csv\n"
     ]
    },
    {
     "name": "stderr",
     "output_type": "stream",
     "text": [
      "C:\\Users\\acer\\AppData\\Local\\Temp\\ipykernel_12948\\3813253844.py:26: DtypeWarning: Columns (37,259) have mixed types. Specify dtype option on import or set low_memory=False.\n",
      "  dfi = pd.read_csv(file)\n"
     ]
    },
    {
     "name": "stdout",
     "output_type": "stream",
     "text": [
      "Reading: D:/Scrape-Whoscored-Event-Data/data\\laliga\\laliga_events2.csv\n"
     ]
    },
    {
     "name": "stderr",
     "output_type": "stream",
     "text": [
      "C:\\Users\\acer\\AppData\\Local\\Temp\\ipykernel_12948\\3813253844.py:26: DtypeWarning: Columns (37,259) have mixed types. Specify dtype option on import or set low_memory=False.\n",
      "  dfi = pd.read_csv(file)\n"
     ]
    },
    {
     "name": "stdout",
     "output_type": "stream",
     "text": [
      "Reading: D:/Scrape-Whoscored-Event-Data/data\\laliga\\laliga_events3.csv\n"
     ]
    },
    {
     "name": "stderr",
     "output_type": "stream",
     "text": [
      "C:\\Users\\acer\\AppData\\Local\\Temp\\ipykernel_12948\\3813253844.py:26: DtypeWarning: Columns (259) have mixed types. Specify dtype option on import or set low_memory=False.\n",
      "  dfi = pd.read_csv(file)\n"
     ]
    },
    {
     "name": "stdout",
     "output_type": "stream",
     "text": [
      "Reading: D:/Scrape-Whoscored-Event-Data/data\\laliga\\laliga_events4.csv\n",
      "Reading: D:/Scrape-Whoscored-Event-Data/data\\laliga\\laliga_events5.csv\n",
      "Reading: D:/Scrape-Whoscored-Event-Data/data\\laliga\\laliga_events6.csv\n",
      "Reading: D:/Scrape-Whoscored-Event-Data/data\\laliga\\laliga_events_2025-03-19.csv\n"
     ]
    },
    {
     "name": "stderr",
     "output_type": "stream",
     "text": [
      "C:\\Users\\acer\\AppData\\Local\\Temp\\ipykernel_12948\\3813253844.py:26: DtypeWarning: Columns (259) have mixed types. Specify dtype option on import or set low_memory=False.\n",
      "  dfi = pd.read_csv(file)\n"
     ]
    },
    {
     "name": "stdout",
     "output_type": "stream",
     "text": [
      "Reading: D:/Scrape-Whoscored-Event-Data/data\\laliga\\laliga_events_2025-04-01.csv\n"
     ]
    },
    {
     "name": "stderr",
     "output_type": "stream",
     "text": [
      "C:\\Users\\acer\\AppData\\Local\\Temp\\ipykernel_12948\\3813253844.py:26: DtypeWarning: Columns (259) have mixed types. Specify dtype option on import or set low_memory=False.\n",
      "  dfi = pd.read_csv(file)\n"
     ]
    },
    {
     "name": "stdout",
     "output_type": "stream",
     "text": [
      "Reading: D:/Scrape-Whoscored-Event-Data/data\\laliga\\laliga_events_2025-04-09.csv\n",
      "Reading: D:/Scrape-Whoscored-Event-Data/data\\laliga\\laliga_events_2025-04-16.csv\n"
     ]
    },
    {
     "name": "stderr",
     "output_type": "stream",
     "text": [
      "C:\\Users\\acer\\AppData\\Local\\Temp\\ipykernel_12948\\3813253844.py:26: DtypeWarning: Columns (259) have mixed types. Specify dtype option on import or set low_memory=False.\n",
      "  dfi = pd.read_csv(file)\n"
     ]
    },
    {
     "name": "stdout",
     "output_type": "stream",
     "text": [
      "Reading: D:/Scrape-Whoscored-Event-Data/data\\laliga\\laliga_events_2025-04-22.csv\n"
     ]
    },
    {
     "name": "stderr",
     "output_type": "stream",
     "text": [
      "C:\\Users\\acer\\AppData\\Local\\Temp\\ipykernel_12948\\3813253844.py:26: DtypeWarning: Columns (259) have mixed types. Specify dtype option on import or set low_memory=False.\n",
      "  dfi = pd.read_csv(file)\n"
     ]
    },
    {
     "name": "stdout",
     "output_type": "stream",
     "text": [
      "Reading: D:/Scrape-Whoscored-Event-Data/data\\laliga\\laliga_events_2025-05-01.csv\n",
      "Reading: D:/Scrape-Whoscored-Event-Data/data\\laliga\\laliga_events_2025-05-07.csv\n"
     ]
    },
    {
     "name": "stderr",
     "output_type": "stream",
     "text": [
      "C:\\Users\\acer\\AppData\\Local\\Temp\\ipykernel_12948\\3813253844.py:26: DtypeWarning: Columns (259) have mixed types. Specify dtype option on import or set low_memory=False.\n",
      "  dfi = pd.read_csv(file)\n"
     ]
    },
    {
     "name": "stdout",
     "output_type": "stream",
     "text": [
      "Reading: D:/Scrape-Whoscored-Event-Data/data\\laliga\\laliga_events_2025-05-12.csv\n"
     ]
    },
    {
     "name": "stderr",
     "output_type": "stream",
     "text": [
      "C:\\Users\\acer\\AppData\\Local\\Temp\\ipykernel_12948\\3813253844.py:26: DtypeWarning: Columns (259) have mixed types. Specify dtype option on import or set low_memory=False.\n",
      "  dfi = pd.read_csv(file)\n"
     ]
    },
    {
     "name": "stdout",
     "output_type": "stream",
     "text": [
      "Reading: D:/Scrape-Whoscored-Event-Data/data\\ligue-1\\ligue-1_events_2025-04-01.csv\n",
      "Reading: D:/Scrape-Whoscored-Event-Data/data\\ligue-1\\ligue-1_events_2025-04-09.csv\n"
     ]
    },
    {
     "name": "stderr",
     "output_type": "stream",
     "text": [
      "C:\\Users\\acer\\AppData\\Local\\Temp\\ipykernel_12948\\3813253844.py:26: DtypeWarning: Columns (259) have mixed types. Specify dtype option on import or set low_memory=False.\n",
      "  dfi = pd.read_csv(file)\n"
     ]
    },
    {
     "name": "stdout",
     "output_type": "stream",
     "text": [
      "Reading: D:/Scrape-Whoscored-Event-Data/data\\ligue-1\\ligue-1_events_2025-04-16.csv\n",
      "Reading: D:/Scrape-Whoscored-Event-Data/data\\ligue-1\\ligue-1_events_2025-04-23.csv\n"
     ]
    },
    {
     "name": "stderr",
     "output_type": "stream",
     "text": [
      "C:\\Users\\acer\\AppData\\Local\\Temp\\ipykernel_12948\\3813253844.py:26: DtypeWarning: Columns (259) have mixed types. Specify dtype option on import or set low_memory=False.\n",
      "  dfi = pd.read_csv(file)\n"
     ]
    },
    {
     "name": "stdout",
     "output_type": "stream",
     "text": [
      "Reading: D:/Scrape-Whoscored-Event-Data/data\\ligue-1\\ligue-1_events_2025-05-07.csv\n"
     ]
    },
    {
     "name": "stderr",
     "output_type": "stream",
     "text": [
      "C:\\Users\\acer\\AppData\\Local\\Temp\\ipykernel_12948\\3813253844.py:26: DtypeWarning: Columns (259) have mixed types. Specify dtype option on import or set low_memory=False.\n",
      "  dfi = pd.read_csv(file)\n"
     ]
    },
    {
     "name": "stdout",
     "output_type": "stream",
     "text": [
      "Reading: D:/Scrape-Whoscored-Event-Data/data\\ligue-1\\ligue-1_events_2025-05-12.csv\n",
      "Reading: D:/Scrape-Whoscored-Event-Data/data\\ligue-1\\ligue1_events1.csv\n"
     ]
    },
    {
     "name": "stderr",
     "output_type": "stream",
     "text": [
      "C:\\Users\\acer\\AppData\\Local\\Temp\\ipykernel_12948\\3813253844.py:26: DtypeWarning: Columns (35,259) have mixed types. Specify dtype option on import or set low_memory=False.\n",
      "  dfi = pd.read_csv(file)\n"
     ]
    },
    {
     "name": "stdout",
     "output_type": "stream",
     "text": [
      "Reading: D:/Scrape-Whoscored-Event-Data/data\\ligue-1\\ligue1_events2.csv\n"
     ]
    },
    {
     "ename": "ParserError",
     "evalue": "Error tokenizing data. C error: Calling read(nbytes) on source failed. Try engine='python'.",
     "output_type": "error",
     "traceback": [
      "\u001b[1;31m---------------------------------------------------------------------------\u001b[0m",
      "\u001b[1;31mParserError\u001b[0m                               Traceback (most recent call last)",
      "Cell \u001b[1;32mIn[3], line 26\u001b[0m\n\u001b[0;32m     24\u001b[0m \u001b[38;5;28;01mfor\u001b[39;00m file \u001b[38;5;129;01min\u001b[39;00m csv_files:\n\u001b[0;32m     25\u001b[0m     \u001b[38;5;28mprint\u001b[39m(\u001b[38;5;124mf\u001b[39m\u001b[38;5;124m\"\u001b[39m\u001b[38;5;124mReading: \u001b[39m\u001b[38;5;132;01m{\u001b[39;00mfile\u001b[38;5;132;01m}\u001b[39;00m\u001b[38;5;124m\"\u001b[39m)\n\u001b[1;32m---> 26\u001b[0m     dfi \u001b[38;5;241m=\u001b[39m \u001b[43mpd\u001b[49m\u001b[38;5;241;43m.\u001b[39;49m\u001b[43mread_csv\u001b[49m\u001b[43m(\u001b[49m\u001b[43mfile\u001b[49m\u001b[43m)\u001b[49m\n\u001b[0;32m     27\u001b[0m     dataframes\u001b[38;5;241m.\u001b[39mappend(dfi)\n\u001b[0;32m     29\u001b[0m \u001b[38;5;66;03m# Merge if files were found\u001b[39;00m\n",
      "File \u001b[1;32m~\\AppData\\Local\\Programs\\Python\\Python310\\lib\\site-packages\\pandas\\io\\parsers\\readers.py:948\u001b[0m, in \u001b[0;36mread_csv\u001b[1;34m(filepath_or_buffer, sep, delimiter, header, names, index_col, usecols, dtype, engine, converters, true_values, false_values, skipinitialspace, skiprows, skipfooter, nrows, na_values, keep_default_na, na_filter, verbose, skip_blank_lines, parse_dates, infer_datetime_format, keep_date_col, date_parser, date_format, dayfirst, cache_dates, iterator, chunksize, compression, thousands, decimal, lineterminator, quotechar, quoting, doublequote, escapechar, comment, encoding, encoding_errors, dialect, on_bad_lines, delim_whitespace, low_memory, memory_map, float_precision, storage_options, dtype_backend)\u001b[0m\n\u001b[0;32m    935\u001b[0m kwds_defaults \u001b[38;5;241m=\u001b[39m _refine_defaults_read(\n\u001b[0;32m    936\u001b[0m     dialect,\n\u001b[0;32m    937\u001b[0m     delimiter,\n\u001b[1;32m   (...)\u001b[0m\n\u001b[0;32m    944\u001b[0m     dtype_backend\u001b[38;5;241m=\u001b[39mdtype_backend,\n\u001b[0;32m    945\u001b[0m )\n\u001b[0;32m    946\u001b[0m kwds\u001b[38;5;241m.\u001b[39mupdate(kwds_defaults)\n\u001b[1;32m--> 948\u001b[0m \u001b[38;5;28;01mreturn\u001b[39;00m \u001b[43m_read\u001b[49m\u001b[43m(\u001b[49m\u001b[43mfilepath_or_buffer\u001b[49m\u001b[43m,\u001b[49m\u001b[43m \u001b[49m\u001b[43mkwds\u001b[49m\u001b[43m)\u001b[49m\n",
      "File \u001b[1;32m~\\AppData\\Local\\Programs\\Python\\Python310\\lib\\site-packages\\pandas\\io\\parsers\\readers.py:617\u001b[0m, in \u001b[0;36m_read\u001b[1;34m(filepath_or_buffer, kwds)\u001b[0m\n\u001b[0;32m    614\u001b[0m     \u001b[38;5;28;01mreturn\u001b[39;00m parser\n\u001b[0;32m    616\u001b[0m \u001b[38;5;28;01mwith\u001b[39;00m parser:\n\u001b[1;32m--> 617\u001b[0m     \u001b[38;5;28;01mreturn\u001b[39;00m \u001b[43mparser\u001b[49m\u001b[38;5;241;43m.\u001b[39;49m\u001b[43mread\u001b[49m\u001b[43m(\u001b[49m\u001b[43mnrows\u001b[49m\u001b[43m)\u001b[49m\n",
      "File \u001b[1;32m~\\AppData\\Local\\Programs\\Python\\Python310\\lib\\site-packages\\pandas\\io\\parsers\\readers.py:1748\u001b[0m, in \u001b[0;36mTextFileReader.read\u001b[1;34m(self, nrows)\u001b[0m\n\u001b[0;32m   1741\u001b[0m nrows \u001b[38;5;241m=\u001b[39m validate_integer(\u001b[38;5;124m\"\u001b[39m\u001b[38;5;124mnrows\u001b[39m\u001b[38;5;124m\"\u001b[39m, nrows)\n\u001b[0;32m   1742\u001b[0m \u001b[38;5;28;01mtry\u001b[39;00m:\n\u001b[0;32m   1743\u001b[0m     \u001b[38;5;66;03m# error: \"ParserBase\" has no attribute \"read\"\u001b[39;00m\n\u001b[0;32m   1744\u001b[0m     (\n\u001b[0;32m   1745\u001b[0m         index,\n\u001b[0;32m   1746\u001b[0m         columns,\n\u001b[0;32m   1747\u001b[0m         col_dict,\n\u001b[1;32m-> 1748\u001b[0m     ) \u001b[38;5;241m=\u001b[39m \u001b[38;5;28;43mself\u001b[39;49m\u001b[38;5;241;43m.\u001b[39;49m\u001b[43m_engine\u001b[49m\u001b[38;5;241;43m.\u001b[39;49m\u001b[43mread\u001b[49m\u001b[43m(\u001b[49m\u001b[43m  \u001b[49m\u001b[38;5;66;43;03m# type: ignore[attr-defined]\u001b[39;49;00m\n\u001b[0;32m   1749\u001b[0m \u001b[43m        \u001b[49m\u001b[43mnrows\u001b[49m\n\u001b[0;32m   1750\u001b[0m \u001b[43m    \u001b[49m\u001b[43m)\u001b[49m\n\u001b[0;32m   1751\u001b[0m \u001b[38;5;28;01mexcept\u001b[39;00m \u001b[38;5;167;01mException\u001b[39;00m:\n\u001b[0;32m   1752\u001b[0m     \u001b[38;5;28mself\u001b[39m\u001b[38;5;241m.\u001b[39mclose()\n",
      "File \u001b[1;32m~\\AppData\\Local\\Programs\\Python\\Python310\\lib\\site-packages\\pandas\\io\\parsers\\c_parser_wrapper.py:234\u001b[0m, in \u001b[0;36mCParserWrapper.read\u001b[1;34m(self, nrows)\u001b[0m\n\u001b[0;32m    232\u001b[0m \u001b[38;5;28;01mtry\u001b[39;00m:\n\u001b[0;32m    233\u001b[0m     \u001b[38;5;28;01mif\u001b[39;00m \u001b[38;5;28mself\u001b[39m\u001b[38;5;241m.\u001b[39mlow_memory:\n\u001b[1;32m--> 234\u001b[0m         chunks \u001b[38;5;241m=\u001b[39m \u001b[38;5;28;43mself\u001b[39;49m\u001b[38;5;241;43m.\u001b[39;49m\u001b[43m_reader\u001b[49m\u001b[38;5;241;43m.\u001b[39;49m\u001b[43mread_low_memory\u001b[49m\u001b[43m(\u001b[49m\u001b[43mnrows\u001b[49m\u001b[43m)\u001b[49m\n\u001b[0;32m    235\u001b[0m         \u001b[38;5;66;03m# destructive to chunks\u001b[39;00m\n\u001b[0;32m    236\u001b[0m         data \u001b[38;5;241m=\u001b[39m _concatenate_chunks(chunks)\n",
      "File \u001b[1;32mparsers.pyx:843\u001b[0m, in \u001b[0;36mpandas._libs.parsers.TextReader.read_low_memory\u001b[1;34m()\u001b[0m\n",
      "File \u001b[1;32mparsers.pyx:904\u001b[0m, in \u001b[0;36mpandas._libs.parsers.TextReader._read_rows\u001b[1;34m()\u001b[0m\n",
      "File \u001b[1;32mparsers.pyx:879\u001b[0m, in \u001b[0;36mpandas._libs.parsers.TextReader._tokenize_rows\u001b[1;34m()\u001b[0m\n",
      "File \u001b[1;32mparsers.pyx:890\u001b[0m, in \u001b[0;36mpandas._libs.parsers.TextReader._check_tokenize_status\u001b[1;34m()\u001b[0m\n",
      "File \u001b[1;32mparsers.pyx:2058\u001b[0m, in \u001b[0;36mpandas._libs.parsers.raise_parser_error\u001b[1;34m()\u001b[0m\n",
      "\u001b[1;31mParserError\u001b[0m: Error tokenizing data. C error: Calling read(nbytes) on source failed. Try engine='python'."
     ]
    }
   ],
   "source": [
    "import glob\n",
    "import os\n",
    "import pandas as pd\n",
    "root_folder = \"D:/Scrape-Whoscored-Event-Data/data/\"\n",
    "exclude_folders = [\n",
    "    os.path.join(root_folder, \"champions-league\").replace(\"\\\\\", \"/\"),\n",
    "    os.path.join(root_folder, \"eredivise\").replace(\"\\\\\", \"/\"),\n",
    "    os.path.join(root_folder, \"fa-cup\").replace(\"\\\\\", \"/\"),\n",
    "]\n",
    "\n",
    "# Get all CSV files recursively\n",
    "csv_files = glob.glob(os.path.join(root_folder, \"**\", \"*.csv\"), recursive=True)\n",
    "\n",
    "# Normalize file paths and filter out excluded folders\n",
    "csv_files = [\n",
    "    f for f in csv_files\n",
    "    if not any(f.replace(\"\\\\\", \"/\").startswith(excluded) for excluded in exclude_folders)\n",
    "]\n",
    "\n",
    "# List to hold the DataFrames\n",
    "dataframes = []\n",
    "\n",
    "# Loop through the CSV files and read them into DataFrames\n",
    "for file in csv_files:\n",
    "    print(f\"Reading: {file}\")\n",
    "    dfi = pd.read_csv(file)\n",
    "    dataframes.append(dfi)\n",
    "\n",
    "# Merge if files were found\n",
    "if dataframes:\n",
    "    df = pd.concat(dataframes, ignore_index=True)\n",
    "    print(\"All CSV files successfully merged into a single DataFrame.\")\n",
    "else:\n",
    "    print(\"No CSV files found in the specified directory.\")"
   ]
  },
  {
   "cell_type": "code",
   "execution_count": 3,
   "id": "13948142-1aa1-4cee-b69a-9edeeb099914",
   "metadata": {},
   "outputs": [
    {
     "name": "stdout",
     "output_type": "stream",
     "text": [
      "Reading: D:/Scrape-Whoscored-Event-Data/data\\bundesliga\\bundesliga_events1.csv\n"
     ]
    },
    {
     "name": "stderr",
     "output_type": "stream",
     "text": [
      "C:\\Users\\acer\\AppData\\Local\\Temp\\ipykernel_17096\\430360680.py:17: DtypeWarning: Columns (259) have mixed types. Specify dtype option on import or set low_memory=False.\n",
      "  dfi = pd.read_csv(file)  # Read the CSV file\n"
     ]
    },
    {
     "name": "stdout",
     "output_type": "stream",
     "text": [
      "Reading: D:/Scrape-Whoscored-Event-Data/data\\bundesliga\\bundesliga_events2.csv\n"
     ]
    },
    {
     "name": "stderr",
     "output_type": "stream",
     "text": [
      "C:\\Users\\acer\\AppData\\Local\\Temp\\ipykernel_17096\\430360680.py:17: DtypeWarning: Columns (259) have mixed types. Specify dtype option on import or set low_memory=False.\n",
      "  dfi = pd.read_csv(file)  # Read the CSV file\n"
     ]
    },
    {
     "name": "stdout",
     "output_type": "stream",
     "text": [
      "Reading: D:/Scrape-Whoscored-Event-Data/data\\bundesliga\\bundesliga_events3.csv\n"
     ]
    },
    {
     "name": "stderr",
     "output_type": "stream",
     "text": [
      "C:\\Users\\acer\\AppData\\Local\\Temp\\ipykernel_17096\\430360680.py:17: DtypeWarning: Columns (37,259) have mixed types. Specify dtype option on import or set low_memory=False.\n",
      "  dfi = pd.read_csv(file)  # Read the CSV file\n"
     ]
    },
    {
     "name": "stdout",
     "output_type": "stream",
     "text": [
      "Reading: D:/Scrape-Whoscored-Event-Data/data\\bundesliga\\bundesliga_events4.csv\n",
      "Reading: D:/Scrape-Whoscored-Event-Data/data\\bundesliga\\bundesliga_events_2025-03-19.csv\n"
     ]
    },
    {
     "name": "stderr",
     "output_type": "stream",
     "text": [
      "C:\\Users\\acer\\AppData\\Local\\Temp\\ipykernel_17096\\430360680.py:17: DtypeWarning: Columns (259) have mixed types. Specify dtype option on import or set low_memory=False.\n",
      "  dfi = pd.read_csv(file)  # Read the CSV file\n"
     ]
    },
    {
     "name": "stdout",
     "output_type": "stream",
     "text": [
      "Reading: D:/Scrape-Whoscored-Event-Data/data\\bundesliga\\bundesliga_events_2025-04-01.csv\n",
      "Reading: D:/Scrape-Whoscored-Event-Data/data\\bundesliga\\bundesliga_events_2025-04-09.csv\n"
     ]
    },
    {
     "name": "stderr",
     "output_type": "stream",
     "text": [
      "C:\\Users\\acer\\AppData\\Local\\Temp\\ipykernel_17096\\430360680.py:17: DtypeWarning: Columns (38) have mixed types. Specify dtype option on import or set low_memory=False.\n",
      "  dfi = pd.read_csv(file)  # Read the CSV file\n"
     ]
    },
    {
     "name": "stdout",
     "output_type": "stream",
     "text": [
      "Reading: D:/Scrape-Whoscored-Event-Data/data\\bundesliga\\bundesliga_events_2025-04-16.csv\n"
     ]
    },
    {
     "name": "stderr",
     "output_type": "stream",
     "text": [
      "C:\\Users\\acer\\AppData\\Local\\Temp\\ipykernel_17096\\430360680.py:17: DtypeWarning: Columns (37,259) have mixed types. Specify dtype option on import or set low_memory=False.\n",
      "  dfi = pd.read_csv(file)  # Read the CSV file\n"
     ]
    },
    {
     "name": "stdout",
     "output_type": "stream",
     "text": [
      "Reading: D:/Scrape-Whoscored-Event-Data/data\\bundesliga\\bundesliga_events_2025-04-22.csv\n",
      "Reading: D:/Scrape-Whoscored-Event-Data/data\\bundesliga\\bundesliga_events_2025-04-29.csv\n",
      "Reading: D:/Scrape-Whoscored-Event-Data/data\\bundesliga\\bundesliga_events_2025-05-07.csv\n"
     ]
    },
    {
     "name": "stderr",
     "output_type": "stream",
     "text": [
      "C:\\Users\\acer\\AppData\\Local\\Temp\\ipykernel_17096\\430360680.py:17: DtypeWarning: Columns (259) have mixed types. Specify dtype option on import or set low_memory=False.\n",
      "  dfi = pd.read_csv(file)  # Read the CSV file\n"
     ]
    },
    {
     "name": "stdout",
     "output_type": "stream",
     "text": [
      "Reading: D:/Scrape-Whoscored-Event-Data/data\\bundesliga\\bundesliga_events_2025-05-12.csv\n"
     ]
    },
    {
     "name": "stderr",
     "output_type": "stream",
     "text": [
      "C:\\Users\\acer\\AppData\\Local\\Temp\\ipykernel_17096\\430360680.py:17: DtypeWarning: Columns (31) have mixed types. Specify dtype option on import or set low_memory=False.\n",
      "  dfi = pd.read_csv(file)  # Read the CSV file\n"
     ]
    },
    {
     "name": "stdout",
     "output_type": "stream",
     "text": [
      "Reading: D:/Scrape-Whoscored-Event-Data/data\\champions-league\\champions-league_events_2025-04-17.csv\n"
     ]
    },
    {
     "name": "stderr",
     "output_type": "stream",
     "text": [
      "C:\\Users\\acer\\AppData\\Local\\Temp\\ipykernel_17096\\430360680.py:17: DtypeWarning: Columns (259) have mixed types. Specify dtype option on import or set low_memory=False.\n",
      "  dfi = pd.read_csv(file)  # Read the CSV file\n"
     ]
    },
    {
     "name": "stdout",
     "output_type": "stream",
     "text": [
      "Reading: D:/Scrape-Whoscored-Event-Data/data\\champions-league\\champions-league_events_2025-05-01.csv\n"
     ]
    },
    {
     "name": "stderr",
     "output_type": "stream",
     "text": [
      "C:\\Users\\acer\\AppData\\Local\\Temp\\ipykernel_17096\\430360680.py:17: DtypeWarning: Columns (259) have mixed types. Specify dtype option on import or set low_memory=False.\n",
      "  dfi = pd.read_csv(file)  # Read the CSV file\n"
     ]
    },
    {
     "name": "stdout",
     "output_type": "stream",
     "text": [
      "Reading: D:/Scrape-Whoscored-Event-Data/data\\champions-league\\ucl_events1.csv\n"
     ]
    },
    {
     "name": "stderr",
     "output_type": "stream",
     "text": [
      "C:\\Users\\acer\\AppData\\Local\\Temp\\ipykernel_17096\\430360680.py:17: DtypeWarning: Columns (22,36,259) have mixed types. Specify dtype option on import or set low_memory=False.\n",
      "  dfi = pd.read_csv(file)  # Read the CSV file\n"
     ]
    },
    {
     "name": "stdout",
     "output_type": "stream",
     "text": [
      "Reading: D:/Scrape-Whoscored-Event-Data/data\\eredivisie\\eredivisie_events_2025-04-02.csv\n"
     ]
    },
    {
     "name": "stderr",
     "output_type": "stream",
     "text": [
      "C:\\Users\\acer\\AppData\\Local\\Temp\\ipykernel_17096\\430360680.py:17: DtypeWarning: Columns (31,259) have mixed types. Specify dtype option on import or set low_memory=False.\n",
      "  dfi = pd.read_csv(file)  # Read the CSV file\n"
     ]
    },
    {
     "name": "stdout",
     "output_type": "stream",
     "text": [
      "Reading: D:/Scrape-Whoscored-Event-Data/data\\eredivisie\\eredivisie_events_2025-04-02_2.csv\n"
     ]
    },
    {
     "name": "stderr",
     "output_type": "stream",
     "text": [
      "C:\\Users\\acer\\AppData\\Local\\Temp\\ipykernel_17096\\430360680.py:17: DtypeWarning: Columns (36,259) have mixed types. Specify dtype option on import or set low_memory=False.\n",
      "  dfi = pd.read_csv(file)  # Read the CSV file\n"
     ]
    },
    {
     "name": "stdout",
     "output_type": "stream",
     "text": [
      "Reading: D:/Scrape-Whoscored-Event-Data/data\\eredivisie\\eredivisie_events_2025-04-02_3.csv\n"
     ]
    },
    {
     "name": "stderr",
     "output_type": "stream",
     "text": [
      "C:\\Users\\acer\\AppData\\Local\\Temp\\ipykernel_17096\\430360680.py:17: DtypeWarning: Columns (37,259) have mixed types. Specify dtype option on import or set low_memory=False.\n",
      "  dfi = pd.read_csv(file)  # Read the CSV file\n"
     ]
    },
    {
     "name": "stdout",
     "output_type": "stream",
     "text": [
      "Reading: D:/Scrape-Whoscored-Event-Data/data\\europa-league\\europa-league_events_2025-05-18.csv\n"
     ]
    },
    {
     "name": "stderr",
     "output_type": "stream",
     "text": [
      "C:\\Users\\acer\\AppData\\Local\\Temp\\ipykernel_17096\\430360680.py:17: DtypeWarning: Columns (22,36,259) have mixed types. Specify dtype option on import or set low_memory=False.\n",
      "  dfi = pd.read_csv(file)  # Read the CSV file\n"
     ]
    },
    {
     "name": "stdout",
     "output_type": "stream",
     "text": [
      "Reading: D:/Scrape-Whoscored-Event-Data/data\\fa-cup\\fa-cup_events_2025-05-13.csv\n"
     ]
    },
    {
     "name": "stderr",
     "output_type": "stream",
     "text": [
      "C:\\Users\\acer\\AppData\\Local\\Temp\\ipykernel_17096\\430360680.py:17: DtypeWarning: Columns (259) have mixed types. Specify dtype option on import or set low_memory=False.\n",
      "  dfi = pd.read_csv(file)  # Read the CSV file\n"
     ]
    },
    {
     "name": "stdout",
     "output_type": "stream",
     "text": [
      "Reading: D:/Scrape-Whoscored-Event-Data/data\\fa-cup\\fa-cup_events_2025-05-13_2.csv\n"
     ]
    },
    {
     "name": "stderr",
     "output_type": "stream",
     "text": [
      "C:\\Users\\acer\\AppData\\Local\\Temp\\ipykernel_17096\\430360680.py:17: DtypeWarning: Columns (259) have mixed types. Specify dtype option on import or set low_memory=False.\n",
      "  dfi = pd.read_csv(file)  # Read the CSV file\n"
     ]
    },
    {
     "name": "stdout",
     "output_type": "stream",
     "text": [
      "Reading: D:/Scrape-Whoscored-Event-Data/data\\laliga\\laliga_events.csv\n"
     ]
    },
    {
     "name": "stderr",
     "output_type": "stream",
     "text": [
      "C:\\Users\\acer\\AppData\\Local\\Temp\\ipykernel_17096\\430360680.py:17: DtypeWarning: Columns (37,259) have mixed types. Specify dtype option on import or set low_memory=False.\n",
      "  dfi = pd.read_csv(file)  # Read the CSV file\n"
     ]
    },
    {
     "name": "stdout",
     "output_type": "stream",
     "text": [
      "Reading: D:/Scrape-Whoscored-Event-Data/data\\laliga\\laliga_events2.csv\n"
     ]
    },
    {
     "name": "stderr",
     "output_type": "stream",
     "text": [
      "C:\\Users\\acer\\AppData\\Local\\Temp\\ipykernel_17096\\430360680.py:17: DtypeWarning: Columns (37,259) have mixed types. Specify dtype option on import or set low_memory=False.\n",
      "  dfi = pd.read_csv(file)  # Read the CSV file\n"
     ]
    },
    {
     "name": "stdout",
     "output_type": "stream",
     "text": [
      "Reading: D:/Scrape-Whoscored-Event-Data/data\\laliga\\laliga_events3.csv\n"
     ]
    },
    {
     "name": "stderr",
     "output_type": "stream",
     "text": [
      "C:\\Users\\acer\\AppData\\Local\\Temp\\ipykernel_17096\\430360680.py:17: DtypeWarning: Columns (259) have mixed types. Specify dtype option on import or set low_memory=False.\n",
      "  dfi = pd.read_csv(file)  # Read the CSV file\n"
     ]
    },
    {
     "name": "stdout",
     "output_type": "stream",
     "text": [
      "Reading: D:/Scrape-Whoscored-Event-Data/data\\laliga\\laliga_events4.csv\n",
      "Reading: D:/Scrape-Whoscored-Event-Data/data\\laliga\\laliga_events5.csv\n",
      "Reading: D:/Scrape-Whoscored-Event-Data/data\\laliga\\laliga_events6.csv\n",
      "Reading: D:/Scrape-Whoscored-Event-Data/data\\laliga\\laliga_events_2025-03-19.csv\n"
     ]
    },
    {
     "name": "stderr",
     "output_type": "stream",
     "text": [
      "C:\\Users\\acer\\AppData\\Local\\Temp\\ipykernel_17096\\430360680.py:17: DtypeWarning: Columns (259) have mixed types. Specify dtype option on import or set low_memory=False.\n",
      "  dfi = pd.read_csv(file)  # Read the CSV file\n"
     ]
    },
    {
     "name": "stdout",
     "output_type": "stream",
     "text": [
      "Reading: D:/Scrape-Whoscored-Event-Data/data\\laliga\\laliga_events_2025-04-01.csv\n"
     ]
    },
    {
     "name": "stderr",
     "output_type": "stream",
     "text": [
      "C:\\Users\\acer\\AppData\\Local\\Temp\\ipykernel_17096\\430360680.py:17: DtypeWarning: Columns (259) have mixed types. Specify dtype option on import or set low_memory=False.\n",
      "  dfi = pd.read_csv(file)  # Read the CSV file\n"
     ]
    },
    {
     "name": "stdout",
     "output_type": "stream",
     "text": [
      "Reading: D:/Scrape-Whoscored-Event-Data/data\\laliga\\laliga_events_2025-04-09.csv\n",
      "Reading: D:/Scrape-Whoscored-Event-Data/data\\laliga\\laliga_events_2025-04-16.csv\n"
     ]
    },
    {
     "name": "stderr",
     "output_type": "stream",
     "text": [
      "C:\\Users\\acer\\AppData\\Local\\Temp\\ipykernel_17096\\430360680.py:17: DtypeWarning: Columns (259) have mixed types. Specify dtype option on import or set low_memory=False.\n",
      "  dfi = pd.read_csv(file)  # Read the CSV file\n"
     ]
    },
    {
     "name": "stdout",
     "output_type": "stream",
     "text": [
      "Reading: D:/Scrape-Whoscored-Event-Data/data\\laliga\\laliga_events_2025-04-22.csv\n"
     ]
    },
    {
     "name": "stderr",
     "output_type": "stream",
     "text": [
      "C:\\Users\\acer\\AppData\\Local\\Temp\\ipykernel_17096\\430360680.py:17: DtypeWarning: Columns (259) have mixed types. Specify dtype option on import or set low_memory=False.\n",
      "  dfi = pd.read_csv(file)  # Read the CSV file\n"
     ]
    },
    {
     "name": "stdout",
     "output_type": "stream",
     "text": [
      "Reading: D:/Scrape-Whoscored-Event-Data/data\\laliga\\laliga_events_2025-05-01.csv\n",
      "Reading: D:/Scrape-Whoscored-Event-Data/data\\laliga\\laliga_events_2025-05-07.csv\n"
     ]
    },
    {
     "name": "stderr",
     "output_type": "stream",
     "text": [
      "C:\\Users\\acer\\AppData\\Local\\Temp\\ipykernel_17096\\430360680.py:17: DtypeWarning: Columns (259) have mixed types. Specify dtype option on import or set low_memory=False.\n",
      "  dfi = pd.read_csv(file)  # Read the CSV file\n"
     ]
    },
    {
     "name": "stdout",
     "output_type": "stream",
     "text": [
      "Reading: D:/Scrape-Whoscored-Event-Data/data\\laliga\\laliga_events_2025-05-12.csv\n"
     ]
    },
    {
     "name": "stderr",
     "output_type": "stream",
     "text": [
      "C:\\Users\\acer\\AppData\\Local\\Temp\\ipykernel_17096\\430360680.py:17: DtypeWarning: Columns (259) have mixed types. Specify dtype option on import or set low_memory=False.\n",
      "  dfi = pd.read_csv(file)  # Read the CSV file\n"
     ]
    },
    {
     "name": "stdout",
     "output_type": "stream",
     "text": [
      "Reading: D:/Scrape-Whoscored-Event-Data/data\\ligue-1\\ligue-1_events_2025-04-01.csv\n",
      "Reading: D:/Scrape-Whoscored-Event-Data/data\\ligue-1\\ligue-1_events_2025-04-09.csv\n"
     ]
    },
    {
     "name": "stderr",
     "output_type": "stream",
     "text": [
      "C:\\Users\\acer\\AppData\\Local\\Temp\\ipykernel_17096\\430360680.py:17: DtypeWarning: Columns (259) have mixed types. Specify dtype option on import or set low_memory=False.\n",
      "  dfi = pd.read_csv(file)  # Read the CSV file\n"
     ]
    },
    {
     "name": "stdout",
     "output_type": "stream",
     "text": [
      "Reading: D:/Scrape-Whoscored-Event-Data/data\\ligue-1\\ligue-1_events_2025-04-16.csv\n",
      "Reading: D:/Scrape-Whoscored-Event-Data/data\\ligue-1\\ligue-1_events_2025-04-23.csv\n"
     ]
    },
    {
     "name": "stderr",
     "output_type": "stream",
     "text": [
      "C:\\Users\\acer\\AppData\\Local\\Temp\\ipykernel_17096\\430360680.py:17: DtypeWarning: Columns (259) have mixed types. Specify dtype option on import or set low_memory=False.\n",
      "  dfi = pd.read_csv(file)  # Read the CSV file\n"
     ]
    },
    {
     "name": "stdout",
     "output_type": "stream",
     "text": [
      "Reading: D:/Scrape-Whoscored-Event-Data/data\\ligue-1\\ligue-1_events_2025-05-07.csv\n"
     ]
    },
    {
     "name": "stderr",
     "output_type": "stream",
     "text": [
      "C:\\Users\\acer\\AppData\\Local\\Temp\\ipykernel_17096\\430360680.py:17: DtypeWarning: Columns (259) have mixed types. Specify dtype option on import or set low_memory=False.\n",
      "  dfi = pd.read_csv(file)  # Read the CSV file\n"
     ]
    },
    {
     "name": "stdout",
     "output_type": "stream",
     "text": [
      "Reading: D:/Scrape-Whoscored-Event-Data/data\\ligue-1\\ligue-1_events_2025-05-12.csv\n",
      "Reading: D:/Scrape-Whoscored-Event-Data/data\\ligue-1\\ligue1_events1.csv\n"
     ]
    },
    {
     "name": "stderr",
     "output_type": "stream",
     "text": [
      "C:\\Users\\acer\\AppData\\Local\\Temp\\ipykernel_17096\\430360680.py:17: DtypeWarning: Columns (35,259) have mixed types. Specify dtype option on import or set low_memory=False.\n",
      "  dfi = pd.read_csv(file)  # Read the CSV file\n"
     ]
    },
    {
     "name": "stdout",
     "output_type": "stream",
     "text": [
      "Reading: D:/Scrape-Whoscored-Event-Data/data\\ligue-1\\ligue1_events2.csv\n"
     ]
    },
    {
     "name": "stderr",
     "output_type": "stream",
     "text": [
      "C:\\Users\\acer\\AppData\\Local\\Temp\\ipykernel_17096\\430360680.py:17: DtypeWarning: Columns (259) have mixed types. Specify dtype option on import or set low_memory=False.\n",
      "  dfi = pd.read_csv(file)  # Read the CSV file\n"
     ]
    },
    {
     "name": "stdout",
     "output_type": "stream",
     "text": [
      "Reading: D:/Scrape-Whoscored-Event-Data/data\\ligue-1\\ligue1_events3.csv\n"
     ]
    },
    {
     "name": "stderr",
     "output_type": "stream",
     "text": [
      "C:\\Users\\acer\\AppData\\Local\\Temp\\ipykernel_17096\\430360680.py:17: DtypeWarning: Columns (259) have mixed types. Specify dtype option on import or set low_memory=False.\n",
      "  dfi = pd.read_csv(file)  # Read the CSV file\n"
     ]
    },
    {
     "name": "stdout",
     "output_type": "stream",
     "text": [
      "Reading: D:/Scrape-Whoscored-Event-Data/data\\ligue-1\\ligue1_events4.csv\n",
      "Reading: D:/Scrape-Whoscored-Event-Data/data\\ligue-1\\ligue1_events_2025-03-18.csv\n"
     ]
    },
    {
     "name": "stderr",
     "output_type": "stream",
     "text": [
      "C:\\Users\\acer\\AppData\\Local\\Temp\\ipykernel_17096\\430360680.py:17: DtypeWarning: Columns (259) have mixed types. Specify dtype option on import or set low_memory=False.\n",
      "  dfi = pd.read_csv(file)  # Read the CSV file\n"
     ]
    },
    {
     "name": "stdout",
     "output_type": "stream",
     "text": [
      "Reading: D:/Scrape-Whoscored-Event-Data/data\\premier-league\\pl_events1.csv\n"
     ]
    },
    {
     "name": "stderr",
     "output_type": "stream",
     "text": [
      "C:\\Users\\acer\\AppData\\Local\\Temp\\ipykernel_17096\\430360680.py:17: DtypeWarning: Columns (259) have mixed types. Specify dtype option on import or set low_memory=False.\n",
      "  dfi = pd.read_csv(file)  # Read the CSV file\n"
     ]
    },
    {
     "name": "stdout",
     "output_type": "stream",
     "text": [
      "Reading: D:/Scrape-Whoscored-Event-Data/data\\premier-league\\pl_events2.csv\n"
     ]
    },
    {
     "name": "stderr",
     "output_type": "stream",
     "text": [
      "C:\\Users\\acer\\AppData\\Local\\Temp\\ipykernel_17096\\430360680.py:17: DtypeWarning: Columns (259) have mixed types. Specify dtype option on import or set low_memory=False.\n",
      "  dfi = pd.read_csv(file)  # Read the CSV file\n"
     ]
    },
    {
     "name": "stdout",
     "output_type": "stream",
     "text": [
      "Reading: D:/Scrape-Whoscored-Event-Data/data\\premier-league\\pl_events3.csv\n"
     ]
    },
    {
     "name": "stderr",
     "output_type": "stream",
     "text": [
      "C:\\Users\\acer\\AppData\\Local\\Temp\\ipykernel_17096\\430360680.py:17: DtypeWarning: Columns (37,259) have mixed types. Specify dtype option on import or set low_memory=False.\n",
      "  dfi = pd.read_csv(file)  # Read the CSV file\n"
     ]
    },
    {
     "name": "stdout",
     "output_type": "stream",
     "text": [
      "Reading: D:/Scrape-Whoscored-Event-Data/data\\premier-league\\pl_events4.csv\n",
      "Reading: D:/Scrape-Whoscored-Event-Data/data\\premier-league\\premier-league_events_2025-03-18.csv\n"
     ]
    },
    {
     "name": "stderr",
     "output_type": "stream",
     "text": [
      "C:\\Users\\acer\\AppData\\Local\\Temp\\ipykernel_17096\\430360680.py:17: DtypeWarning: Columns (36,38,40) have mixed types. Specify dtype option on import or set low_memory=False.\n",
      "  dfi = pd.read_csv(file)  # Read the CSV file\n"
     ]
    },
    {
     "name": "stdout",
     "output_type": "stream",
     "text": [
      "Reading: D:/Scrape-Whoscored-Event-Data/data\\premier-league\\premier-league_events_2025-04-04.csv\n",
      "Reading: D:/Scrape-Whoscored-Event-Data/data\\premier-league\\premier-league_events_2025-04-09.csv\n"
     ]
    },
    {
     "name": "stderr",
     "output_type": "stream",
     "text": [
      "C:\\Users\\acer\\AppData\\Local\\Temp\\ipykernel_17096\\430360680.py:17: DtypeWarning: Columns (37) have mixed types. Specify dtype option on import or set low_memory=False.\n",
      "  dfi = pd.read_csv(file)  # Read the CSV file\n"
     ]
    },
    {
     "name": "stdout",
     "output_type": "stream",
     "text": [
      "Reading: D:/Scrape-Whoscored-Event-Data/data\\premier-league\\premier-league_events_2025-04-14.csv\n"
     ]
    },
    {
     "name": "stderr",
     "output_type": "stream",
     "text": [
      "C:\\Users\\acer\\AppData\\Local\\Temp\\ipykernel_17096\\430360680.py:17: DtypeWarning: Columns (259) have mixed types. Specify dtype option on import or set low_memory=False.\n",
      "  dfi = pd.read_csv(file)  # Read the CSV file\n"
     ]
    },
    {
     "name": "stdout",
     "output_type": "stream",
     "text": [
      "Reading: D:/Scrape-Whoscored-Event-Data/data\\premier-league\\premier-league_events_2025-04-16.csv\n"
     ]
    },
    {
     "name": "stderr",
     "output_type": "stream",
     "text": [
      "C:\\Users\\acer\\AppData\\Local\\Temp\\ipykernel_17096\\430360680.py:17: DtypeWarning: Columns (259) have mixed types. Specify dtype option on import or set low_memory=False.\n",
      "  dfi = pd.read_csv(file)  # Read the CSV file\n"
     ]
    },
    {
     "name": "stdout",
     "output_type": "stream",
     "text": [
      "Reading: D:/Scrape-Whoscored-Event-Data/data\\premier-league\\premier-league_events_2025-04-22.csv\n"
     ]
    },
    {
     "name": "stderr",
     "output_type": "stream",
     "text": [
      "C:\\Users\\acer\\AppData\\Local\\Temp\\ipykernel_17096\\430360680.py:17: DtypeWarning: Columns (37) have mixed types. Specify dtype option on import or set low_memory=False.\n",
      "  dfi = pd.read_csv(file)  # Read the CSV file\n"
     ]
    },
    {
     "name": "stdout",
     "output_type": "stream",
     "text": [
      "Reading: D:/Scrape-Whoscored-Event-Data/data\\premier-league\\premier-league_events_2025-04-25.csv\n",
      "Reading: D:/Scrape-Whoscored-Event-Data/data\\premier-league\\premier-league_events_2025-04-29.csv\n"
     ]
    },
    {
     "name": "stderr",
     "output_type": "stream",
     "text": [
      "C:\\Users\\acer\\AppData\\Local\\Temp\\ipykernel_17096\\430360680.py:17: DtypeWarning: Columns (259) have mixed types. Specify dtype option on import or set low_memory=False.\n",
      "  dfi = pd.read_csv(file)  # Read the CSV file\n"
     ]
    },
    {
     "name": "stdout",
     "output_type": "stream",
     "text": [
      "Reading: D:/Scrape-Whoscored-Event-Data/data\\premier-league\\premier-league_events_2025-05-07.csv\n"
     ]
    },
    {
     "name": "stderr",
     "output_type": "stream",
     "text": [
      "C:\\Users\\acer\\AppData\\Local\\Temp\\ipykernel_17096\\430360680.py:17: DtypeWarning: Columns (259) have mixed types. Specify dtype option on import or set low_memory=False.\n",
      "  dfi = pd.read_csv(file)  # Read the CSV file\n"
     ]
    },
    {
     "name": "stdout",
     "output_type": "stream",
     "text": [
      "Reading: D:/Scrape-Whoscored-Event-Data/data\\premier-league\\premier-league_events_2025-05-12.csv\n"
     ]
    },
    {
     "name": "stderr",
     "output_type": "stream",
     "text": [
      "C:\\Users\\acer\\AppData\\Local\\Temp\\ipykernel_17096\\430360680.py:17: DtypeWarning: Columns (36) have mixed types. Specify dtype option on import or set low_memory=False.\n",
      "  dfi = pd.read_csv(file)  # Read the CSV file\n"
     ]
    },
    {
     "name": "stdout",
     "output_type": "stream",
     "text": [
      "Reading: D:/Scrape-Whoscored-Event-Data/data\\serie-a\\serie-a_events_2025-03-19.csv\n"
     ]
    },
    {
     "name": "stderr",
     "output_type": "stream",
     "text": [
      "C:\\Users\\acer\\AppData\\Local\\Temp\\ipykernel_17096\\430360680.py:17: DtypeWarning: Columns (37) have mixed types. Specify dtype option on import or set low_memory=False.\n",
      "  dfi = pd.read_csv(file)  # Read the CSV file\n"
     ]
    },
    {
     "name": "stdout",
     "output_type": "stream",
     "text": [
      "Reading: D:/Scrape-Whoscored-Event-Data/data\\serie-a\\serie-a_events_2025-04-01.csv\n"
     ]
    },
    {
     "name": "stderr",
     "output_type": "stream",
     "text": [
      "C:\\Users\\acer\\AppData\\Local\\Temp\\ipykernel_17096\\430360680.py:17: DtypeWarning: Columns (37) have mixed types. Specify dtype option on import or set low_memory=False.\n",
      "  dfi = pd.read_csv(file)  # Read the CSV file\n"
     ]
    },
    {
     "name": "stdout",
     "output_type": "stream",
     "text": [
      "Reading: D:/Scrape-Whoscored-Event-Data/data\\serie-a\\serie-a_events_2025-04-09.csv\n"
     ]
    },
    {
     "name": "stderr",
     "output_type": "stream",
     "text": [
      "C:\\Users\\acer\\AppData\\Local\\Temp\\ipykernel_17096\\430360680.py:17: DtypeWarning: Columns (259) have mixed types. Specify dtype option on import or set low_memory=False.\n",
      "  dfi = pd.read_csv(file)  # Read the CSV file\n"
     ]
    },
    {
     "name": "stdout",
     "output_type": "stream",
     "text": [
      "Reading: D:/Scrape-Whoscored-Event-Data/data\\serie-a\\serie-a_events_2025-04-16.csv\n",
      "Reading: D:/Scrape-Whoscored-Event-Data/data\\serie-a\\serie-a_events_2025-04-23.csv\n",
      "Reading: D:/Scrape-Whoscored-Event-Data/data\\serie-a\\serie-a_events_2025-05-07.csv\n"
     ]
    },
    {
     "name": "stderr",
     "output_type": "stream",
     "text": [
      "C:\\Users\\acer\\AppData\\Local\\Temp\\ipykernel_17096\\430360680.py:17: DtypeWarning: Columns (39,259) have mixed types. Specify dtype option on import or set low_memory=False.\n",
      "  dfi = pd.read_csv(file)  # Read the CSV file\n"
     ]
    },
    {
     "name": "stdout",
     "output_type": "stream",
     "text": [
      "Reading: D:/Scrape-Whoscored-Event-Data/data\\serie-a\\serieA_events1.csv\n"
     ]
    },
    {
     "name": "stderr",
     "output_type": "stream",
     "text": [
      "C:\\Users\\acer\\AppData\\Local\\Temp\\ipykernel_17096\\430360680.py:17: DtypeWarning: Columns (259) have mixed types. Specify dtype option on import or set low_memory=False.\n",
      "  dfi = pd.read_csv(file)  # Read the CSV file\n"
     ]
    },
    {
     "name": "stdout",
     "output_type": "stream",
     "text": [
      "Reading: D:/Scrape-Whoscored-Event-Data/data\\serie-a\\serieA_events2.csv\n"
     ]
    },
    {
     "name": "stderr",
     "output_type": "stream",
     "text": [
      "C:\\Users\\acer\\AppData\\Local\\Temp\\ipykernel_17096\\430360680.py:17: DtypeWarning: Columns (259) have mixed types. Specify dtype option on import or set low_memory=False.\n",
      "  dfi = pd.read_csv(file)  # Read the CSV file\n"
     ]
    },
    {
     "name": "stdout",
     "output_type": "stream",
     "text": [
      "Reading: D:/Scrape-Whoscored-Event-Data/data\\serie-a\\serieA_events3.csv\n"
     ]
    },
    {
     "name": "stderr",
     "output_type": "stream",
     "text": [
      "C:\\Users\\acer\\AppData\\Local\\Temp\\ipykernel_17096\\430360680.py:17: DtypeWarning: Columns (37,259) have mixed types. Specify dtype option on import or set low_memory=False.\n",
      "  dfi = pd.read_csv(file)  # Read the CSV file\n"
     ]
    },
    {
     "name": "stdout",
     "output_type": "stream",
     "text": [
      "Reading: D:/Scrape-Whoscored-Event-Data/data\\serie-a\\serieA_events4.csv\n",
      "Reading: D:/Scrape-Whoscored-Event-Data/data\\serie-a\\serieA_events5.csv\n"
     ]
    },
    {
     "name": "stderr",
     "output_type": "stream",
     "text": [
      "C:\\Users\\acer\\AppData\\Local\\Temp\\ipykernel_17096\\430360680.py:17: DtypeWarning: Columns (259) have mixed types. Specify dtype option on import or set low_memory=False.\n",
      "  dfi = pd.read_csv(file)  # Read the CSV file\n"
     ]
    },
    {
     "name": "stdout",
     "output_type": "stream",
     "text": [
      "All CSV files successfully merged into a single DataFrame.\n"
     ]
    }
   ],
   "source": [
    "import glob\n",
    "import os\n",
    "import pandas as pd\n",
    "\n",
    "# Specify the root directory containing all subfolders\n",
    "root_folder = \"D:/Scrape-Whoscored-Event-Data/data/\"\n",
    "\n",
    "# Use glob to get all CSV file paths recursively from subdirectories\n",
    "csv_files = glob.glob(os.path.join(root_folder, \"**\", \"*.csv\"), recursive=True)\n",
    "\n",
    "# List to hold the DataFrames\n",
    "dataframes = []\n",
    "\n",
    "# Loop through the CSV files and read them into DataFrames\n",
    "for file in csv_files:\n",
    "    print(f\"Reading: {file}\")\n",
    "    dfi = pd.read_csv(file)  # Read the CSV file\n",
    "    dataframes.append(dfi)   # Append the DataFrame to the list\n",
    "\n",
    "# Check if any CSV files were found\n",
    "if dataframes:\n",
    "    # Concatenate all DataFrames into a single DataFrame\n",
    "    df = pd.concat(dataframes, ignore_index=True)\n",
    "    print(\"All CSV files successfully merged into a single DataFrame.\")\n",
    "else:\n",
    "    print(\"No CSV files found in the specified directory.\")"
   ]
  },
  {
   "cell_type": "code",
   "execution_count": 4,
   "id": "73f5c7f1-a4e9-447e-a34a-e0d72c5ff92d",
   "metadata": {},
   "outputs": [],
   "source": [
    "teams_dict = {\n",
    "    65: 'Barcelona',\n",
    "    63: 'Atletico Madrid',\n",
    "    52: 'Real Madrid',\n",
    "    53: 'Atletic Club',\n",
    "    839: 'Villarreal',\n",
    "    54: 'Real Betis',\n",
    "    64: 'Rayo Vallecano',\n",
    "    51: 'Mallorca',\n",
    "    68: 'Real Sociedad',\n",
    "    62: 'Celta Vigo',\n",
    "    131: 'Osasuna',\n",
    "    67: 'Sevilla',\n",
    "    2783: 'Girona',\n",
    "    819: 'Getafe',\n",
    "    70: 'Espanyol',\n",
    "    825: 'Leganes',\n",
    "    838: 'Las Palmas',\n",
    "    55 : 'Valencia',\n",
    "    60 : 'Deportivo Alaves',\n",
    "    58: 'Real Valladolid',\n",
    "    13: 'Arsenal',\n",
    "    161: 'Wolves',\n",
    "    24: 'Aston Villa',\n",
    "    211: 'Brighton',\n",
    "    30: 'Tottenham',\n",
    "    167: 'Man City',\n",
    "    14: 'Leicester',\n",
    "    18: 'Southampton',\n",
    "    183: 'Bournemouth',\n",
    "    26: 'Liverpool',\n",
    "    23: 'Newcastle',\n",
    "    15: 'Chelsea',\n",
    "    174: 'Nottingham Forest',\n",
    "    29: 'West Ham',\n",
    "    32: 'Man Utd',\n",
    "    170: 'Fulham',\n",
    "    189: 'Brentford',\n",
    "    162: 'Crystal Palace',\n",
    "    31: 'Everton',\n",
    "    165: 'Ipswich',\n",
    "    37: 'Bayern Munich',\n",
    "    36: 'Bayer Leverkusen',\n",
    "    45: 'Eintracht Frankfurt',\n",
    "    219: 'Mainz 05',\n",
    "    50: 'Freiburg',\n",
    "    7614: 'RB Leipzig',\n",
    "    33: 'Wolfsburg',\n",
    "    134: 'Borussia M.Gladbach',\n",
    "    41: 'VfB Stuttgart',\n",
    "    44: 'Borussia Dortmund',\n",
    "    1730: 'Augsburg',\n",
    "    42: 'Werder Bremen',\n",
    "    1211: 'Hoffenheim',\n",
    "    796: 'Union Berlin',\n",
    "    283: 'St. Pauli',\n",
    "    1206: 'Holstein Kiel',\n",
    "    4852: 'FC Heidenheim',\n",
    "    109: 'Bochum',\n",
    "    75 : 'Inter',\n",
    "    276 : 'Napoli',\n",
    "    300 : 'Atalanta',\n",
    "    87 : 'Juventus',\n",
    "    77 : 'Lazio',\n",
    "    71 : 'Bologna',\n",
    "    73 : 'Fiorentina',\n",
    "    84 : 'Roma',\n",
    "    80 : 'AC Milan',\n",
    "    86 : 'Udinese',\n",
    "    72 : 'Torino',\n",
    "    278 : 'Genoa',\n",
    "    1290 : 'Como',\n",
    "    76 : 'Verona',\n",
    "    78 : 'Cagliari',\n",
    "    79 : 'Lecce',\n",
    "    24341 : 'Parma Calcio',\n",
    "    272 : 'Empoli',\n",
    "    85 : 'Venezia',\n",
    "    269 : 'Monza',\n",
    "    304 : 'PSG',\n",
    "    249 : 'Marseille',\n",
    "    613 : 'Nice',\n",
    "    248 : 'Monaco',\n",
    "    607 : 'Lille',\n",
    "    228 : 'Lyon',\n",
    "    148 : 'Strasbourg',\n",
    "    246 : 'Toulouse',\n",
    "    309 : 'Lens',\n",
    "    2332 : 'Brest',\n",
    "    313 : 'Rennes',\n",
    "    308 : 'Auxerre',\n",
    "    614 : 'Angers',\n",
    "    302 : 'Nantes',\n",
    "    950 : 'Reims',\n",
    "    217 : 'Le Havre',\n",
    "    145 : 'Saint-Etienne',\n",
    "    311 : 'Montpellier',\n",
    "    299 : 'Benfica',\n",
    "    129 : 'PSV',\n",
    "    130 : 'Ajax',\n",
    "    256: 'Feyenoord',\n",
    "    128 : 'Utrecht',\n",
    "    243 : 'AZ-Alkmaar',\n",
    "    113 : 'Twente',\n",
    "    874 : 'Go Ahead Eagles',\n",
    "    758 : 'FC Groningen',\n",
    "    242 : 'Fortuna Sittard',\n",
    "    870 : 'Heracles',\n",
    "    287 : 'SC Heerenveen',\n",
    "    116 : 'NEC Nijmegen',\n",
    "    783 : 'NAC Breda',\n",
    "    868 : 'PEC Zwolle',\n",
    "    303 : 'Sparta Rotterdam',\n",
    "    115 : 'Willem II',\n",
    "    114 : 'RKC Waalwijk',\n",
    "    1347 : 'Almere City'\n",
    "}\n",
    "\n",
    "# temprary use of typeId of period column\n",
    "df['period'] = df['period'].replace({'FirstHalf': 1, 'SecondHalf': 2, 'FirstPeriodOfExtraTime': 3, 'SecondPeriodOfExtraTime': 4,\n",
    "                                     'PenaltyShootout': 5, 'PostGame': 14, 'PreMatch': 16})\n",
    "# new column for cumulative minutes, This part is taken from the \"jakeyk11.github.io\" github repository and modified for my use\n",
    "def cumulative_match_mins(events_df):\n",
    "    events_out = pd.DataFrame()\n",
    "    # Add cumulative time to events data, resetting for each unique match\n",
    "    match_events = events_df.copy()\n",
    "    match_events['cumulative_mins'] = match_events['minute'] + (1/60) * match_events['second']\n",
    "    # Add time increment to cumulative minutes based on period of game.\n",
    "    for period in np.arange(1, match_events['period'].max() + 1, 1):\n",
    "        if period > 1:\n",
    "            t_delta = match_events[match_events['period'] == period - 1]['cumulative_mins'].max() - \\\n",
    "                                   match_events[match_events['period'] == period]['cumulative_mins'].min()\n",
    "        elif period == 1 or period == 5:\n",
    "            t_delta = 0\n",
    "        else:\n",
    "            t_delta = 0\n",
    "        match_events.loc[match_events['period'] == period, 'cumulative_mins'] += t_delta\n",
    "    # Rebuild events dataframe\n",
    "    events_out = pd.concat([events_out, match_events])\n",
    "    return events_out\n",
    "\n",
    "df = cumulative_match_mins(df)\n",
    "\n",
    "df = df.reset_index(drop=True)\n",
    "df['index'] = range(1, len(df) + 1)\n",
    "df = df[['index'] + [col for col in df.columns if col != 'index']]\n",
    "\n",
    "df = df.sort_values(by='matchId')\n",
    "\n",
    "# New Column for Team Names and Oppositon TeamNames\n",
    "df['teamName'] = df['teamId'].map(teams_dict)\n",
    "team_names = list(teams_dict.values())\n",
    "#opposition_dict = {team_names[i]: team_names[1-i] for i in range(len(team_names))}\n",
    "#df['oppositionTeamName'] = df['teamName'].map(opposition_dict)\n",
    "\n",
    "# Reshaping the data from 100x100 to 105x68, as I use the pitch_type='uefa', in the pitch function, you can consider according to your use\n",
    "df['x'] = df['x']*1.05\n",
    "df['y'] = df['y']*0.68\n",
    "df['endX'] = df['endX']*1.05\n",
    "df['endY'] = df['endY']*0.68\n",
    "df['goalMouthY'] = df['goalMouthY']*0.68\n",
    "\n",
    "df['qualifiers'] = df['qualifiers'].astype(str)\n",
    "# Calculating passing distance, to find out progressive pass, this will just show the distance reduced by a pass, then will be able to filter passes which has reduced distance value more than 10yds as a progressive pass\n",
    "df['prog_pass'] = np.where((df['type'] == 'Pass'),\n",
    "                           np.sqrt((105 - df['x'])**2 + (34 - df['y'])**2) - np.sqrt((105 - df['endX'])**2 + (34 - df['endY'])**2), 0)\n",
    "# Calculating carrying distance, to find out progressive carry, this will just show the distance reduced by a carry, then will be able to filter carries which has reduced distance value more than 10yds as a progressive carry\n",
    "#df['prog_carry'] = np.where((df['type'] == 'Carry'),\n",
    "#                            np.sqrt((105 - df['x'])**2 + (34 - df['y'])**2) - np.sqrt((105 - df['endX'])**2 + (34 - df['endY'])**2), 0)\n",
    "df['pass_or_carry_angle'] = np.degrees(np.arctan2(df['endY'] - df['y'], df['endX'] - df['x']))\n",
    "\n",
    "# Making all the alphabets in the name as English Alphabets only (for example: Á will be replaced by A)\n",
    "df['playerName'] = df['playerName'].astype(str)\n",
    "df['playerName'] = df['playerName'].apply(unidecode)\n",
    "\n",
    "# Function to extract short names\n",
    "def get_short_name(full_name):\n",
    "    if pd.isna(full_name):\n",
    "        return full_name\n",
    "    parts = full_name.split()\n",
    "    if len(parts) == 1:\n",
    "        return full_name  # No need for short name if there's only one word\n",
    "    elif len(parts) == 2:\n",
    "        return parts[0][0] + \". \" + parts[1]\n",
    "    else:\n",
    "        return parts[0][0] + \". \" + parts[1][0] + \". \" + \" \".join(parts[2:])\n",
    "\n",
    "# Applying the function to create 'shortName' column\n",
    "df['shortName'] = df['playerName'].apply(get_short_name)\n",
    "\n",
    "df['qualifiers'] = df['qualifiers'].astype(str)\n",
    "columns_to_drop2 = ['id']\n",
    "df.drop(columns=columns_to_drop2, inplace=True)\n",
    "\n",
    "df['period'] = df['period'].replace({1: 'FirstHalf', 2: 'SecondHalf', 3: 'FirstPeriodOfExtraTime', 4: 'SecondPeriodOfExtraTime',\n",
    "                                     5: 'PenaltyShootout', 14: 'PostGame', 16: 'PreMatch'})"
   ]
  },
  {
   "cell_type": "code",
   "execution_count": 106,
   "id": "0aafeb18-68e2-4058-9e46-a80f7b0a437b",
   "metadata": {},
   "outputs": [],
   "source": []
  },
  {
   "cell_type": "markdown",
   "id": "8e8c4337-b541-460d-ba93-6fa6dfe63753",
   "metadata": {},
   "source": [
    "## Data Transformation"
   ]
  },
  {
   "cell_type": "markdown",
   "id": "d09dece1-c531-4639-beec-f0e2f9ce922a",
   "metadata": {},
   "source": [
    "### WhoScored"
   ]
  },
  {
   "cell_type": "code",
   "execution_count": 6,
   "id": "0c085fe1-534c-4e07-a088-acb278e431ac",
   "metadata": {},
   "outputs": [
    {
     "name": "stdout",
     "output_type": "stream",
     "text": [
      "['index', 'Unnamed: 0', 'eventId', 'minute', 'second', 'teamId', 'h_a', 'x', 'y', 'expandedMinute', 'period', 'type', 'outcomeType', 'qualifiers', 'satisfiedEventsTypes', 'isTouch', 'matchId', 'startDate', 'startTime', 'score', 'ftScore', 'htScore', 'etScore', 'venueName', 'maxMinute', 'playerId', 'playerName', 'endX', 'endY', 'goalMouthZ', 'goalMouthY', 'isShot', 'relatedEventId', 'relatedPlayerId', 'blockedX', 'blockedY', 'isGoal', 'cardType', 'shotBodyType', 'situation', 'shotSixYardBox', 'shotPenaltyArea', 'shotOboxTotal', 'shotOpenPlay', 'shotCounter', 'shotSetPiece', 'shotDirectCorner', 'shotOffTarget', 'shotOnPost', 'shotOnTarget', 'shotsTotal', 'shotBlocked', 'shotRightFoot', 'shotLeftFoot', 'shotHead', 'shotObp', 'goalSixYardBox', 'goalPenaltyArea', 'goalObox', 'goalOpenPlay', 'goalCounter', 'goalSetPiece', 'penaltyScored', 'goalOwn', 'goalNormal', 'goalRightFoot', 'goalLeftFoot', 'goalHead', 'goalObp', 'shortPassInaccurate', 'shortPassAccurate', 'passCorner', 'passCornerAccurate', 'passCornerInaccurate', 'passFreekick', 'passBack', 'passForward', 'passLeft', 'passRight', 'keyPassLong', 'keyPassShort', 'keyPassCross', 'keyPassCorner', 'keyPassThroughball', 'keyPassFreekick', 'keyPassThrowin', 'keyPassOther', 'assistCross', 'assistCorner', 'assistThroughball', 'assistFreekick', 'assistThrowin', 'assistOther', 'dribbleLost', 'dribbleWon', 'challengeLost', 'interceptionWon', 'clearanceHead', 'outfielderBlock', 'passCrossBlockedDefensive', 'outfielderBlockedPass', 'offsideGiven', 'offsideProvoked', 'foulGiven', 'foulCommitted', 'yellowCard', 'voidYellowCard', 'secondYellow', 'redCard', 'turnover', 'dispossessed', 'saveLowLeft', 'saveHighLeft', 'saveLowCentre', 'saveHighCentre', 'saveLowRight', 'saveHighRight', 'saveHands', 'saveFeet', 'saveObp', 'saveSixYardBox', 'savePenaltyArea', 'saveObox', 'keeperDivingSave', 'standingSave', 'closeMissHigh', 'closeMissHighLeft', 'closeMissHighRight', 'closeMissLeft', 'closeMissRight', 'shotOffTargetInsideBox', 'touches', 'assist', 'ballRecovery', 'clearanceEffective', 'clearanceTotal', 'clearanceOffTheLine', 'dribbleLastman', 'errorLeadsToGoal', 'errorLeadsToShot', 'intentionalAssist', 'interceptionAll', 'interceptionIntheBox', 'keeperClaimHighLost', 'keeperClaimHighWon', 'keeperClaimLost', 'keeperClaimWon', 'keeperOneToOneWon', 'parriedDanger', 'parriedSafe', 'collected', 'keeperPenaltySaved', 'keeperSaveInTheBox', 'keeperSaveTotal', 'keeperSmother', 'keeperSweeperLost', 'keeperMissed', 'passAccurate', 'passBackZoneInaccurate', 'passForwardZoneAccurate', 'passInaccurate', 'passAccuracy', 'cornerAwarded', 'passKey', 'passChipped', 'passCrossAccurate', 'passCrossInaccurate', 'passLongBallAccurate', 'passLongBallInaccurate', 'passThroughBallAccurate', 'passThroughBallInaccurate', 'passThroughBallInacurate', 'passFreekickAccurate', 'passFreekickInaccurate', 'penaltyConceded', 'penaltyMissed', 'penaltyWon', 'passRightFoot', 'passLeftFoot', 'passHead', 'sixYardBlock', 'tackleLastMan', 'tackleLost', 'tackleWon', 'cleanSheetGK', 'cleanSheetDL', 'cleanSheetDC', 'cleanSheetDR', 'cleanSheetDML', 'cleanSheetDMC', 'cleanSheetDMR', 'cleanSheetML', 'cleanSheetMC', 'cleanSheetMR', 'cleanSheetAML', 'cleanSheetAMC', 'cleanSheetAMR', 'cleanSheetFWL', 'cleanSheetFW', 'cleanSheetFWR', 'cleanSheetSub', 'goalConcededByTeamGK', 'goalConcededByTeamDL', 'goalConcededByTeamDC', 'goalConcededByTeamDR', 'goalConcededByTeamDML', 'goalConcededByTeamDMC', 'goalConcededByTeamDMR', 'goalConcededByTeamML', 'goalConcededByTeamMC', 'goalConcededByTeamMR', 'goalConcededByTeamAML', 'goalConcededByTeamAMC', 'goalConcededByTeamAMR', 'goalConcededByTeamFWL', 'goalConcededByTeamFW', 'goalConcededByTeamFWR', 'goalConcededByTeamSub', 'goalConcededOutsideBoxGoalkeeper', 'goalScoredByTeamGK', 'goalScoredByTeamDL', 'goalScoredByTeamDC', 'goalScoredByTeamDR', 'goalScoredByTeamDML', 'goalScoredByTeamDMC', 'goalScoredByTeamDMR', 'goalScoredByTeamML', 'goalScoredByTeamMC', 'goalScoredByTeamMR', 'goalScoredByTeamAML', 'goalScoredByTeamAMC', 'goalScoredByTeamAMR', 'goalScoredByTeamFWL', 'goalScoredByTeamFW', 'goalScoredByTeamFWR', 'goalScoredByTeamSub', 'aerialSuccess', 'duelAerialWon', 'duelAerialLost', 'offensiveDuel', 'defensiveDuel', 'bigChanceMissed', 'bigChanceScored', 'bigChanceCreated', 'overrun', 'successfulFinalThirdPasses', 'punches', 'penaltyShootoutScored', 'penaltyShootoutMissedOffTarget', 'penaltyShootoutSaved', 'penaltyShootoutSavedGK', 'penaltyShootoutConcededGK', 'throwIn', 'subOn', 'subOff', 'defensiveThird', 'midThird', 'finalThird', 'pos', 'isOwnGoal', 'cumulative_mins', 'teamName', 'prog_pass', 'pass_or_carry_angle', 'shortName']\n"
     ]
    }
   ],
   "source": [
    "print(list(df.columns))"
   ]
  },
  {
   "cell_type": "code",
   "execution_count": 8,
   "id": "0cb00c98-52cc-467d-8320-abd5c28a4de5",
   "metadata": {},
   "outputs": [],
   "source": [
    "shots_df = df[df['type'].isin(['SavedShot', 'MissedShot', 'ShotOnPost', 'Goal'])]\n",
    "shots_df['isGoal'] = (shots_df['type'] == 'Goal').astype(int)\n",
    "goal_x, goal_y = 105, 34\n",
    "shots_df['shot_distance'] = np.sqrt((goal_x - shots_df['x'])**2 + (goal_y - shots_df['y'])**2)\n",
    "\n",
    "def calculate_angle(x, y):\n",
    "    goal_width = 7.32\n",
    "    goal_left = 34 - goal_width / 2\n",
    "    goal_right = 34 + goal_width / 2\n",
    "    \n",
    "    a = np.sqrt((105 - x)**2 + (goal_left - y)**2)\n",
    "    b = np.sqrt((105 - x)**2 + (goal_right - y)**2)\n",
    "    c = goal_width\n",
    "\n",
    "    # Law of Cosines\n",
    "    angle = np.arccos((a**2 + b**2 - c**2) / (2 * a * b))\n",
    "    return angle\n",
    "\n",
    "shots_df['shot_angle'] = shots_df.apply(lambda row: calculate_angle(row['x'], row['y']), axis=1)\n",
    "shots_df = shots_df.copy()\n",
    "shots_df['shotBodyType'] = shots_df['shotBodyType'].fillna('Unknown')\n",
    "shots_df = pd.get_dummies(shots_df, columns=['shotBodyType'], drop_first=True)\n",
    "                              "
   ]
  },
  {
   "cell_type": "code",
   "execution_count": 9,
   "id": "0e7bbad4-0fe1-4a29-9783-d8ce13d758df",
   "metadata": {},
   "outputs": [
    {
     "name": "stdout",
     "output_type": "stream",
     "text": [
      "ROC AUC Score: 0.7762334253765684\n"
     ]
    }
   ],
   "source": [
    "from sklearn.model_selection import train_test_split\n",
    "from sklearn.linear_model import LogisticRegression\n",
    "from sklearn.metrics import roc_auc_score\n",
    "\n",
    "# Features\n",
    "features = ['shot_distance', 'shot_angle', 'shotOpenPlay', 'shotCounter', 'shotSetPiece', 'shotDirectCorner'] + \\\n",
    "           [col for col in shots_df.columns if col.startswith('shotBodyType_')]\n",
    "\n",
    "X = shots_df[features]\n",
    "y = shots_df['isGoal']\n",
    "\n",
    "X_train, X_test, y_train, y_test = train_test_split(X, y, test_size=0.2, random_state=42)\n",
    "\n",
    "# Model\n",
    "model = LogisticRegression(max_iter=1000)\n",
    "model.fit(X_train, y_train)\n",
    "\n",
    "# Evaluation\n",
    "y_pred = model.predict_proba(X_test)[:, 1]\n",
    "print(\"ROC AUC Score:\", roc_auc_score(y_test, y_pred))"
   ]
  },
  {
   "cell_type": "code",
   "execution_count": 13,
   "id": "37458324-6ab6-4dc3-a7bc-559b1a1e0803",
   "metadata": {},
   "outputs": [
    {
     "data": {
      "text/html": [
       "<style>#sk-container-id-1 {\n",
       "  /* Definition of color scheme common for light and dark mode */\n",
       "  --sklearn-color-text: black;\n",
       "  --sklearn-color-line: gray;\n",
       "  /* Definition of color scheme for unfitted estimators */\n",
       "  --sklearn-color-unfitted-level-0: #fff5e6;\n",
       "  --sklearn-color-unfitted-level-1: #f6e4d2;\n",
       "  --sklearn-color-unfitted-level-2: #ffe0b3;\n",
       "  --sklearn-color-unfitted-level-3: chocolate;\n",
       "  /* Definition of color scheme for fitted estimators */\n",
       "  --sklearn-color-fitted-level-0: #f0f8ff;\n",
       "  --sklearn-color-fitted-level-1: #d4ebff;\n",
       "  --sklearn-color-fitted-level-2: #b3dbfd;\n",
       "  --sklearn-color-fitted-level-3: cornflowerblue;\n",
       "\n",
       "  /* Specific color for light theme */\n",
       "  --sklearn-color-text-on-default-background: var(--sg-text-color, var(--theme-code-foreground, var(--jp-content-font-color1, black)));\n",
       "  --sklearn-color-background: var(--sg-background-color, var(--theme-background, var(--jp-layout-color0, white)));\n",
       "  --sklearn-color-border-box: var(--sg-text-color, var(--theme-code-foreground, var(--jp-content-font-color1, black)));\n",
       "  --sklearn-color-icon: #696969;\n",
       "\n",
       "  @media (prefers-color-scheme: dark) {\n",
       "    /* Redefinition of color scheme for dark theme */\n",
       "    --sklearn-color-text-on-default-background: var(--sg-text-color, var(--theme-code-foreground, var(--jp-content-font-color1, white)));\n",
       "    --sklearn-color-background: var(--sg-background-color, var(--theme-background, var(--jp-layout-color0, #111)));\n",
       "    --sklearn-color-border-box: var(--sg-text-color, var(--theme-code-foreground, var(--jp-content-font-color1, white)));\n",
       "    --sklearn-color-icon: #878787;\n",
       "  }\n",
       "}\n",
       "\n",
       "#sk-container-id-1 {\n",
       "  color: var(--sklearn-color-text);\n",
       "}\n",
       "\n",
       "#sk-container-id-1 pre {\n",
       "  padding: 0;\n",
       "}\n",
       "\n",
       "#sk-container-id-1 input.sk-hidden--visually {\n",
       "  border: 0;\n",
       "  clip: rect(1px 1px 1px 1px);\n",
       "  clip: rect(1px, 1px, 1px, 1px);\n",
       "  height: 1px;\n",
       "  margin: -1px;\n",
       "  overflow: hidden;\n",
       "  padding: 0;\n",
       "  position: absolute;\n",
       "  width: 1px;\n",
       "}\n",
       "\n",
       "#sk-container-id-1 div.sk-dashed-wrapped {\n",
       "  border: 1px dashed var(--sklearn-color-line);\n",
       "  margin: 0 0.4em 0.5em 0.4em;\n",
       "  box-sizing: border-box;\n",
       "  padding-bottom: 0.4em;\n",
       "  background-color: var(--sklearn-color-background);\n",
       "}\n",
       "\n",
       "#sk-container-id-1 div.sk-container {\n",
       "  /* jupyter's `normalize.less` sets `[hidden] { display: none; }`\n",
       "     but bootstrap.min.css set `[hidden] { display: none !important; }`\n",
       "     so we also need the `!important` here to be able to override the\n",
       "     default hidden behavior on the sphinx rendered scikit-learn.org.\n",
       "     See: https://github.com/scikit-learn/scikit-learn/issues/21755 */\n",
       "  display: inline-block !important;\n",
       "  position: relative;\n",
       "}\n",
       "\n",
       "#sk-container-id-1 div.sk-text-repr-fallback {\n",
       "  display: none;\n",
       "}\n",
       "\n",
       "div.sk-parallel-item,\n",
       "div.sk-serial,\n",
       "div.sk-item {\n",
       "  /* draw centered vertical line to link estimators */\n",
       "  background-image: linear-gradient(var(--sklearn-color-text-on-default-background), var(--sklearn-color-text-on-default-background));\n",
       "  background-size: 2px 100%;\n",
       "  background-repeat: no-repeat;\n",
       "  background-position: center center;\n",
       "}\n",
       "\n",
       "/* Parallel-specific style estimator block */\n",
       "\n",
       "#sk-container-id-1 div.sk-parallel-item::after {\n",
       "  content: \"\";\n",
       "  width: 100%;\n",
       "  border-bottom: 2px solid var(--sklearn-color-text-on-default-background);\n",
       "  flex-grow: 1;\n",
       "}\n",
       "\n",
       "#sk-container-id-1 div.sk-parallel {\n",
       "  display: flex;\n",
       "  align-items: stretch;\n",
       "  justify-content: center;\n",
       "  background-color: var(--sklearn-color-background);\n",
       "  position: relative;\n",
       "}\n",
       "\n",
       "#sk-container-id-1 div.sk-parallel-item {\n",
       "  display: flex;\n",
       "  flex-direction: column;\n",
       "}\n",
       "\n",
       "#sk-container-id-1 div.sk-parallel-item:first-child::after {\n",
       "  align-self: flex-end;\n",
       "  width: 50%;\n",
       "}\n",
       "\n",
       "#sk-container-id-1 div.sk-parallel-item:last-child::after {\n",
       "  align-self: flex-start;\n",
       "  width: 50%;\n",
       "}\n",
       "\n",
       "#sk-container-id-1 div.sk-parallel-item:only-child::after {\n",
       "  width: 0;\n",
       "}\n",
       "\n",
       "/* Serial-specific style estimator block */\n",
       "\n",
       "#sk-container-id-1 div.sk-serial {\n",
       "  display: flex;\n",
       "  flex-direction: column;\n",
       "  align-items: center;\n",
       "  background-color: var(--sklearn-color-background);\n",
       "  padding-right: 1em;\n",
       "  padding-left: 1em;\n",
       "}\n",
       "\n",
       "\n",
       "/* Toggleable style: style used for estimator/Pipeline/ColumnTransformer box that is\n",
       "clickable and can be expanded/collapsed.\n",
       "- Pipeline and ColumnTransformer use this feature and define the default style\n",
       "- Estimators will overwrite some part of the style using the `sk-estimator` class\n",
       "*/\n",
       "\n",
       "/* Pipeline and ColumnTransformer style (default) */\n",
       "\n",
       "#sk-container-id-1 div.sk-toggleable {\n",
       "  /* Default theme specific background. It is overwritten whether we have a\n",
       "  specific estimator or a Pipeline/ColumnTransformer */\n",
       "  background-color: var(--sklearn-color-background);\n",
       "}\n",
       "\n",
       "/* Toggleable label */\n",
       "#sk-container-id-1 label.sk-toggleable__label {\n",
       "  cursor: pointer;\n",
       "  display: block;\n",
       "  width: 100%;\n",
       "  margin-bottom: 0;\n",
       "  padding: 0.5em;\n",
       "  box-sizing: border-box;\n",
       "  text-align: center;\n",
       "}\n",
       "\n",
       "#sk-container-id-1 label.sk-toggleable__label-arrow:before {\n",
       "  /* Arrow on the left of the label */\n",
       "  content: \"▸\";\n",
       "  float: left;\n",
       "  margin-right: 0.25em;\n",
       "  color: var(--sklearn-color-icon);\n",
       "}\n",
       "\n",
       "#sk-container-id-1 label.sk-toggleable__label-arrow:hover:before {\n",
       "  color: var(--sklearn-color-text);\n",
       "}\n",
       "\n",
       "/* Toggleable content - dropdown */\n",
       "\n",
       "#sk-container-id-1 div.sk-toggleable__content {\n",
       "  max-height: 0;\n",
       "  max-width: 0;\n",
       "  overflow: hidden;\n",
       "  text-align: left;\n",
       "  /* unfitted */\n",
       "  background-color: var(--sklearn-color-unfitted-level-0);\n",
       "}\n",
       "\n",
       "#sk-container-id-1 div.sk-toggleable__content.fitted {\n",
       "  /* fitted */\n",
       "  background-color: var(--sklearn-color-fitted-level-0);\n",
       "}\n",
       "\n",
       "#sk-container-id-1 div.sk-toggleable__content pre {\n",
       "  margin: 0.2em;\n",
       "  border-radius: 0.25em;\n",
       "  color: var(--sklearn-color-text);\n",
       "  /* unfitted */\n",
       "  background-color: var(--sklearn-color-unfitted-level-0);\n",
       "}\n",
       "\n",
       "#sk-container-id-1 div.sk-toggleable__content.fitted pre {\n",
       "  /* unfitted */\n",
       "  background-color: var(--sklearn-color-fitted-level-0);\n",
       "}\n",
       "\n",
       "#sk-container-id-1 input.sk-toggleable__control:checked~div.sk-toggleable__content {\n",
       "  /* Expand drop-down */\n",
       "  max-height: 200px;\n",
       "  max-width: 100%;\n",
       "  overflow: auto;\n",
       "}\n",
       "\n",
       "#sk-container-id-1 input.sk-toggleable__control:checked~label.sk-toggleable__label-arrow:before {\n",
       "  content: \"▾\";\n",
       "}\n",
       "\n",
       "/* Pipeline/ColumnTransformer-specific style */\n",
       "\n",
       "#sk-container-id-1 div.sk-label input.sk-toggleable__control:checked~label.sk-toggleable__label {\n",
       "  color: var(--sklearn-color-text);\n",
       "  background-color: var(--sklearn-color-unfitted-level-2);\n",
       "}\n",
       "\n",
       "#sk-container-id-1 div.sk-label.fitted input.sk-toggleable__control:checked~label.sk-toggleable__label {\n",
       "  background-color: var(--sklearn-color-fitted-level-2);\n",
       "}\n",
       "\n",
       "/* Estimator-specific style */\n",
       "\n",
       "/* Colorize estimator box */\n",
       "#sk-container-id-1 div.sk-estimator input.sk-toggleable__control:checked~label.sk-toggleable__label {\n",
       "  /* unfitted */\n",
       "  background-color: var(--sklearn-color-unfitted-level-2);\n",
       "}\n",
       "\n",
       "#sk-container-id-1 div.sk-estimator.fitted input.sk-toggleable__control:checked~label.sk-toggleable__label {\n",
       "  /* fitted */\n",
       "  background-color: var(--sklearn-color-fitted-level-2);\n",
       "}\n",
       "\n",
       "#sk-container-id-1 div.sk-label label.sk-toggleable__label,\n",
       "#sk-container-id-1 div.sk-label label {\n",
       "  /* The background is the default theme color */\n",
       "  color: var(--sklearn-color-text-on-default-background);\n",
       "}\n",
       "\n",
       "/* On hover, darken the color of the background */\n",
       "#sk-container-id-1 div.sk-label:hover label.sk-toggleable__label {\n",
       "  color: var(--sklearn-color-text);\n",
       "  background-color: var(--sklearn-color-unfitted-level-2);\n",
       "}\n",
       "\n",
       "/* Label box, darken color on hover, fitted */\n",
       "#sk-container-id-1 div.sk-label.fitted:hover label.sk-toggleable__label.fitted {\n",
       "  color: var(--sklearn-color-text);\n",
       "  background-color: var(--sklearn-color-fitted-level-2);\n",
       "}\n",
       "\n",
       "/* Estimator label */\n",
       "\n",
       "#sk-container-id-1 div.sk-label label {\n",
       "  font-family: monospace;\n",
       "  font-weight: bold;\n",
       "  display: inline-block;\n",
       "  line-height: 1.2em;\n",
       "}\n",
       "\n",
       "#sk-container-id-1 div.sk-label-container {\n",
       "  text-align: center;\n",
       "}\n",
       "\n",
       "/* Estimator-specific */\n",
       "#sk-container-id-1 div.sk-estimator {\n",
       "  font-family: monospace;\n",
       "  border: 1px dotted var(--sklearn-color-border-box);\n",
       "  border-radius: 0.25em;\n",
       "  box-sizing: border-box;\n",
       "  margin-bottom: 0.5em;\n",
       "  /* unfitted */\n",
       "  background-color: var(--sklearn-color-unfitted-level-0);\n",
       "}\n",
       "\n",
       "#sk-container-id-1 div.sk-estimator.fitted {\n",
       "  /* fitted */\n",
       "  background-color: var(--sklearn-color-fitted-level-0);\n",
       "}\n",
       "\n",
       "/* on hover */\n",
       "#sk-container-id-1 div.sk-estimator:hover {\n",
       "  /* unfitted */\n",
       "  background-color: var(--sklearn-color-unfitted-level-2);\n",
       "}\n",
       "\n",
       "#sk-container-id-1 div.sk-estimator.fitted:hover {\n",
       "  /* fitted */\n",
       "  background-color: var(--sklearn-color-fitted-level-2);\n",
       "}\n",
       "\n",
       "/* Specification for estimator info (e.g. \"i\" and \"?\") */\n",
       "\n",
       "/* Common style for \"i\" and \"?\" */\n",
       "\n",
       ".sk-estimator-doc-link,\n",
       "a:link.sk-estimator-doc-link,\n",
       "a:visited.sk-estimator-doc-link {\n",
       "  float: right;\n",
       "  font-size: smaller;\n",
       "  line-height: 1em;\n",
       "  font-family: monospace;\n",
       "  background-color: var(--sklearn-color-background);\n",
       "  border-radius: 1em;\n",
       "  height: 1em;\n",
       "  width: 1em;\n",
       "  text-decoration: none !important;\n",
       "  margin-left: 1ex;\n",
       "  /* unfitted */\n",
       "  border: var(--sklearn-color-unfitted-level-1) 1pt solid;\n",
       "  color: var(--sklearn-color-unfitted-level-1);\n",
       "}\n",
       "\n",
       ".sk-estimator-doc-link.fitted,\n",
       "a:link.sk-estimator-doc-link.fitted,\n",
       "a:visited.sk-estimator-doc-link.fitted {\n",
       "  /* fitted */\n",
       "  border: var(--sklearn-color-fitted-level-1) 1pt solid;\n",
       "  color: var(--sklearn-color-fitted-level-1);\n",
       "}\n",
       "\n",
       "/* On hover */\n",
       "div.sk-estimator:hover .sk-estimator-doc-link:hover,\n",
       ".sk-estimator-doc-link:hover,\n",
       "div.sk-label-container:hover .sk-estimator-doc-link:hover,\n",
       ".sk-estimator-doc-link:hover {\n",
       "  /* unfitted */\n",
       "  background-color: var(--sklearn-color-unfitted-level-3);\n",
       "  color: var(--sklearn-color-background);\n",
       "  text-decoration: none;\n",
       "}\n",
       "\n",
       "div.sk-estimator.fitted:hover .sk-estimator-doc-link.fitted:hover,\n",
       ".sk-estimator-doc-link.fitted:hover,\n",
       "div.sk-label-container:hover .sk-estimator-doc-link.fitted:hover,\n",
       ".sk-estimator-doc-link.fitted:hover {\n",
       "  /* fitted */\n",
       "  background-color: var(--sklearn-color-fitted-level-3);\n",
       "  color: var(--sklearn-color-background);\n",
       "  text-decoration: none;\n",
       "}\n",
       "\n",
       "/* Span, style for the box shown on hovering the info icon */\n",
       ".sk-estimator-doc-link span {\n",
       "  display: none;\n",
       "  z-index: 9999;\n",
       "  position: relative;\n",
       "  font-weight: normal;\n",
       "  right: .2ex;\n",
       "  padding: .5ex;\n",
       "  margin: .5ex;\n",
       "  width: min-content;\n",
       "  min-width: 20ex;\n",
       "  max-width: 50ex;\n",
       "  color: var(--sklearn-color-text);\n",
       "  box-shadow: 2pt 2pt 4pt #999;\n",
       "  /* unfitted */\n",
       "  background: var(--sklearn-color-unfitted-level-0);\n",
       "  border: .5pt solid var(--sklearn-color-unfitted-level-3);\n",
       "}\n",
       "\n",
       ".sk-estimator-doc-link.fitted span {\n",
       "  /* fitted */\n",
       "  background: var(--sklearn-color-fitted-level-0);\n",
       "  border: var(--sklearn-color-fitted-level-3);\n",
       "}\n",
       "\n",
       ".sk-estimator-doc-link:hover span {\n",
       "  display: block;\n",
       "}\n",
       "\n",
       "/* \"?\"-specific style due to the `<a>` HTML tag */\n",
       "\n",
       "#sk-container-id-1 a.estimator_doc_link {\n",
       "  float: right;\n",
       "  font-size: 1rem;\n",
       "  line-height: 1em;\n",
       "  font-family: monospace;\n",
       "  background-color: var(--sklearn-color-background);\n",
       "  border-radius: 1rem;\n",
       "  height: 1rem;\n",
       "  width: 1rem;\n",
       "  text-decoration: none;\n",
       "  /* unfitted */\n",
       "  color: var(--sklearn-color-unfitted-level-1);\n",
       "  border: var(--sklearn-color-unfitted-level-1) 1pt solid;\n",
       "}\n",
       "\n",
       "#sk-container-id-1 a.estimator_doc_link.fitted {\n",
       "  /* fitted */\n",
       "  border: var(--sklearn-color-fitted-level-1) 1pt solid;\n",
       "  color: var(--sklearn-color-fitted-level-1);\n",
       "}\n",
       "\n",
       "/* On hover */\n",
       "#sk-container-id-1 a.estimator_doc_link:hover {\n",
       "  /* unfitted */\n",
       "  background-color: var(--sklearn-color-unfitted-level-3);\n",
       "  color: var(--sklearn-color-background);\n",
       "  text-decoration: none;\n",
       "}\n",
       "\n",
       "#sk-container-id-1 a.estimator_doc_link.fitted:hover {\n",
       "  /* fitted */\n",
       "  background-color: var(--sklearn-color-fitted-level-3);\n",
       "}\n",
       "</style><div id=\"sk-container-id-1\" class=\"sk-top-container\"><div class=\"sk-text-repr-fallback\"><pre>XGBClassifier(base_score=None, booster=None, callbacks=None,\n",
       "              colsample_bylevel=None, colsample_bynode=None,\n",
       "              colsample_bytree=None, device=None, early_stopping_rounds=None,\n",
       "              enable_categorical=False, eval_metric=&#x27;logloss&#x27;,\n",
       "              feature_types=None, feature_weights=None, gamma=None,\n",
       "              grow_policy=None, importance_type=None,\n",
       "              interaction_constraints=None, learning_rate=0.1, max_bin=None,\n",
       "              max_cat_threshold=None, max_cat_to_onehot=None,\n",
       "              max_delta_step=None, max_depth=5, max_leaves=None,\n",
       "              min_child_weight=None, missing=nan, monotone_constraints=None,\n",
       "              multi_strategy=None, n_estimators=100, n_jobs=None,\n",
       "              num_parallel_tree=None, ...)</pre><b>In a Jupyter environment, please rerun this cell to show the HTML representation or trust the notebook. <br />On GitHub, the HTML representation is unable to render, please try loading this page with nbviewer.org.</b></div><div class=\"sk-container\" hidden><div class=\"sk-item\"><div class=\"sk-estimator fitted sk-toggleable\"><input class=\"sk-toggleable__control sk-hidden--visually\" id=\"sk-estimator-id-1\" type=\"checkbox\" checked><label for=\"sk-estimator-id-1\" class=\"sk-toggleable__label fitted sk-toggleable__label-arrow fitted\">&nbsp;&nbsp;XGBClassifier<a class=\"sk-estimator-doc-link fitted\" rel=\"noreferrer\" target=\"_blank\" href=\"https://xgboost.readthedocs.io/en/release_3.0.0/python/python_api.html#xgboost.XGBClassifier\">?<span>Documentation for XGBClassifier</span></a><span class=\"sk-estimator-doc-link fitted\">i<span>Fitted</span></span></label><div class=\"sk-toggleable__content fitted\"><pre>XGBClassifier(base_score=None, booster=None, callbacks=None,\n",
       "              colsample_bylevel=None, colsample_bynode=None,\n",
       "              colsample_bytree=None, device=None, early_stopping_rounds=None,\n",
       "              enable_categorical=False, eval_metric=&#x27;logloss&#x27;,\n",
       "              feature_types=None, feature_weights=None, gamma=None,\n",
       "              grow_policy=None, importance_type=None,\n",
       "              interaction_constraints=None, learning_rate=0.1, max_bin=None,\n",
       "              max_cat_threshold=None, max_cat_to_onehot=None,\n",
       "              max_delta_step=None, max_depth=5, max_leaves=None,\n",
       "              min_child_weight=None, missing=nan, monotone_constraints=None,\n",
       "              multi_strategy=None, n_estimators=100, n_jobs=None,\n",
       "              num_parallel_tree=None, ...)</pre></div> </div></div></div></div>"
      ],
      "text/plain": [
       "XGBClassifier(base_score=None, booster=None, callbacks=None,\n",
       "              colsample_bylevel=None, colsample_bynode=None,\n",
       "              colsample_bytree=None, device=None, early_stopping_rounds=None,\n",
       "              enable_categorical=False, eval_metric='logloss',\n",
       "              feature_types=None, feature_weights=None, gamma=None,\n",
       "              grow_policy=None, importance_type=None,\n",
       "              interaction_constraints=None, learning_rate=0.1, max_bin=None,\n",
       "              max_cat_threshold=None, max_cat_to_onehot=None,\n",
       "              max_delta_step=None, max_depth=5, max_leaves=None,\n",
       "              min_child_weight=None, missing=nan, monotone_constraints=None,\n",
       "              multi_strategy=None, n_estimators=100, n_jobs=None,\n",
       "              num_parallel_tree=None, ...)"
      ]
     },
     "execution_count": 13,
     "metadata": {},
     "output_type": "execute_result"
    }
   ],
   "source": [
    "from xgboost import XGBClassifier\n",
    "from sklearn.metrics import roc_auc_score\n",
    "\n",
    "xgb_model = XGBClassifier(\n",
    "    objective='binary:logistic',\n",
    "    eval_metric='logloss',\n",
    "    use_label_encoder=False,\n",
    "    n_estimators=100,\n",
    "    max_depth=5,\n",
    "    learning_rate=0.1,\n",
    "    random_state=42\n",
    ")\n",
    "\n",
    "xgb_model.fit(X_train, y_train)\n"
   ]
  },
  {
   "cell_type": "code",
   "execution_count": 14,
   "id": "67896597-4e4b-42e1-96d9-fbe6a6519387",
   "metadata": {},
   "outputs": [
    {
     "name": "stdout",
     "output_type": "stream",
     "text": [
      "ROC AUC Score: 0.7789\n"
     ]
    }
   ],
   "source": [
    "# Predict probabilities (xG)\n",
    "shots_df['xG'] = xgb_model.predict_proba(X)[:, 1]\n",
    "\n",
    "# Evaluate\n",
    "y_pred = xgb_model.predict_proba(X_test)[:, 1]\n",
    "roc_score = roc_auc_score(y_test, y_pred)\n",
    "print(f\"ROC AUC Score: {roc_score:.4f}\")\n"
   ]
  },
  {
   "cell_type": "code",
   "execution_count": 15,
   "id": "0d12e335-dd79-45e1-994b-1c0f8b17eb9f",
   "metadata": {},
   "outputs": [
    {
     "data": {
      "text/plain": [
       "['xgboost_xg_model.pkl']"
      ]
     },
     "execution_count": 15,
     "metadata": {},
     "output_type": "execute_result"
    }
   ],
   "source": [
    "import joblib\n",
    "joblib.dump(xgb_model, 'xgboost_xg_model.pkl')"
   ]
  },
  {
   "cell_type": "code",
   "execution_count": 10,
   "id": "ee7e7771-a830-4a53-88bf-cc3296751556",
   "metadata": {},
   "outputs": [],
   "source": [
    "shots_df['xG'] = model.predict_proba(X)[:, 1]"
   ]
  },
  {
   "cell_type": "code",
   "execution_count": null,
   "id": "d78a058d-b24f-4dd7-abad-707c2614fba6",
   "metadata": {},
   "outputs": [],
   "source": []
  },
  {
   "cell_type": "code",
   "execution_count": 19,
   "id": "58da7b6d-d34b-4f9a-810c-ab5389f6afd3",
   "metadata": {},
   "outputs": [],
   "source": [
    "# Group by player and sum xG\n",
    "top_xg_players = shots_df.groupby('playerName')['xG'].sum().sort_values(ascending=False).head(10).reset_index()\n",
    "\n",
    "# Rename columns for clarity\n",
    "top_xg_players.columns = ['Player', 'Total_xG']\n"
   ]
  },
  {
   "cell_type": "code",
   "execution_count": 20,
   "id": "fbd8b443-247d-4bee-8147-37ad37debb88",
   "metadata": {},
   "outputs": [
    {
     "data": {
      "text/html": [
       "<div>\n",
       "<style scoped>\n",
       "    .dataframe tbody tr th:only-of-type {\n",
       "        vertical-align: middle;\n",
       "    }\n",
       "\n",
       "    .dataframe tbody tr th {\n",
       "        vertical-align: top;\n",
       "    }\n",
       "\n",
       "    .dataframe thead th {\n",
       "        text-align: right;\n",
       "    }\n",
       "</style>\n",
       "<table border=\"1\" class=\"dataframe\">\n",
       "  <thead>\n",
       "    <tr style=\"text-align: right;\">\n",
       "      <th></th>\n",
       "      <th>Player</th>\n",
       "      <th>Total_xG</th>\n",
       "    </tr>\n",
       "  </thead>\n",
       "  <tbody>\n",
       "    <tr>\n",
       "      <th>0</th>\n",
       "      <td>Robert Lewandowski</td>\n",
       "      <td>32.882488</td>\n",
       "    </tr>\n",
       "    <tr>\n",
       "      <th>1</th>\n",
       "      <td>Serhou Guirassy</td>\n",
       "      <td>31.083927</td>\n",
       "    </tr>\n",
       "    <tr>\n",
       "      <th>2</th>\n",
       "      <td>Erling Haaland</td>\n",
       "      <td>30.849985</td>\n",
       "    </tr>\n",
       "    <tr>\n",
       "      <th>3</th>\n",
       "      <td>Harry Kane</td>\n",
       "      <td>30.822947</td>\n",
       "    </tr>\n",
       "    <tr>\n",
       "      <th>4</th>\n",
       "      <td>Kylian Mbappe</td>\n",
       "      <td>28.142342</td>\n",
       "    </tr>\n",
       "    <tr>\n",
       "      <th>5</th>\n",
       "      <td>Mohamed Salah</td>\n",
       "      <td>25.889843</td>\n",
       "    </tr>\n",
       "    <tr>\n",
       "      <th>6</th>\n",
       "      <td>Jonathan David</td>\n",
       "      <td>22.009695</td>\n",
       "    </tr>\n",
       "    <tr>\n",
       "      <th>7</th>\n",
       "      <td>Hugo Ekitike</td>\n",
       "      <td>21.922468</td>\n",
       "    </tr>\n",
       "    <tr>\n",
       "      <th>8</th>\n",
       "      <td>Ousmane Dembele</td>\n",
       "      <td>19.637627</td>\n",
       "    </tr>\n",
       "    <tr>\n",
       "      <th>9</th>\n",
       "      <td>Alexander Isak</td>\n",
       "      <td>18.774195</td>\n",
       "    </tr>\n",
       "  </tbody>\n",
       "</table>\n",
       "</div>"
      ],
      "text/plain": [
       "               Player   Total_xG\n",
       "0  Robert Lewandowski  32.882488\n",
       "1     Serhou Guirassy  31.083927\n",
       "2      Erling Haaland  30.849985\n",
       "3          Harry Kane  30.822947\n",
       "4       Kylian Mbappe  28.142342\n",
       "5       Mohamed Salah  25.889843\n",
       "6      Jonathan David  22.009695\n",
       "7        Hugo Ekitike  21.922468\n",
       "8     Ousmane Dembele  19.637627\n",
       "9      Alexander Isak  18.774195"
      ]
     },
     "execution_count": 20,
     "metadata": {},
     "output_type": "execute_result"
    }
   ],
   "source": [
    "top_xg_players"
   ]
  },
  {
   "cell_type": "code",
   "execution_count": 25,
   "id": "fd714cde-8c26-4106-8a19-5be1ae4b3946",
   "metadata": {},
   "outputs": [],
   "source": [
    "# Filter non-goal shots\n",
    "high_xg_missed = shots_df[shots_df['isGoal'] == 0]\n",
    "\n",
    "# Sort by xG descending and take top 10\n",
    "top_missed_xg = high_xg_missed.sort_values(by='xG', ascending=False).head(10)\n",
    "\n",
    "# Select key columns for display\n",
    "columns_to_show = ['playerName','startDate','situation', 'minute', 'xG', 'type', 'shot_distance', 'shot_angle']\n",
    "top_missed_xg_display = top_missed_xg[columns_to_show].reset_index(drop=True)"
   ]
  },
  {
   "cell_type": "code",
   "execution_count": 26,
   "id": "814ae174-3764-4151-94ae-5bd3e4f09544",
   "metadata": {},
   "outputs": [
    {
     "data": {
      "text/html": [
       "<div>\n",
       "<style scoped>\n",
       "    .dataframe tbody tr th:only-of-type {\n",
       "        vertical-align: middle;\n",
       "    }\n",
       "\n",
       "    .dataframe tbody tr th {\n",
       "        vertical-align: top;\n",
       "    }\n",
       "\n",
       "    .dataframe thead th {\n",
       "        text-align: right;\n",
       "    }\n",
       "</style>\n",
       "<table border=\"1\" class=\"dataframe\">\n",
       "  <thead>\n",
       "    <tr style=\"text-align: right;\">\n",
       "      <th></th>\n",
       "      <th>playerName</th>\n",
       "      <th>startDate</th>\n",
       "      <th>situation</th>\n",
       "      <th>minute</th>\n",
       "      <th>xG</th>\n",
       "      <th>type</th>\n",
       "      <th>shot_distance</th>\n",
       "      <th>shot_angle</th>\n",
       "    </tr>\n",
       "  </thead>\n",
       "  <tbody>\n",
       "    <tr>\n",
       "      <th>0</th>\n",
       "      <td>Kike Garcia</td>\n",
       "      <td>2024-11-30T00:00:00</td>\n",
       "      <td>OpenPlay</td>\n",
       "      <td>29</td>\n",
       "      <td>0.971798</td>\n",
       "      <td>SavedShot</td>\n",
       "      <td>65.166091</td>\n",
       "      <td>0.099530</td>\n",
       "    </tr>\n",
       "    <tr>\n",
       "      <th>1</th>\n",
       "      <td>Kevin De Bruyne</td>\n",
       "      <td>2024-12-15T00:00:00</td>\n",
       "      <td>OpenPlay</td>\n",
       "      <td>42</td>\n",
       "      <td>0.971798</td>\n",
       "      <td>SavedShot</td>\n",
       "      <td>39.751888</td>\n",
       "      <td>0.110413</td>\n",
       "    </tr>\n",
       "    <tr>\n",
       "      <th>2</th>\n",
       "      <td>Amine Gouiri</td>\n",
       "      <td>2025-04-19T00:00:00</td>\n",
       "      <td>OpenPlay</td>\n",
       "      <td>59</td>\n",
       "      <td>0.911086</td>\n",
       "      <td>SavedShot</td>\n",
       "      <td>1.949019</td>\n",
       "      <td>2.177268</td>\n",
       "    </tr>\n",
       "    <tr>\n",
       "      <th>3</th>\n",
       "      <td>Makan Aiko</td>\n",
       "      <td>2024-08-16T00:00:00</td>\n",
       "      <td>OpenPlay</td>\n",
       "      <td>50</td>\n",
       "      <td>0.911086</td>\n",
       "      <td>SavedShot</td>\n",
       "      <td>2.564562</td>\n",
       "      <td>1.924864</td>\n",
       "    </tr>\n",
       "    <tr>\n",
       "      <th>4</th>\n",
       "      <td>Jorgen Strand Larsen</td>\n",
       "      <td>2025-01-06T00:00:00</td>\n",
       "      <td>OpenPlay</td>\n",
       "      <td>13</td>\n",
       "      <td>0.897005</td>\n",
       "      <td>SavedShot</td>\n",
       "      <td>2.952556</td>\n",
       "      <td>1.784838</td>\n",
       "    </tr>\n",
       "    <tr>\n",
       "      <th>5</th>\n",
       "      <td>Noni Madueke</td>\n",
       "      <td>2025-05-04T00:00:00</td>\n",
       "      <td>OpenPlay</td>\n",
       "      <td>55</td>\n",
       "      <td>0.897005</td>\n",
       "      <td>SavedShot</td>\n",
       "      <td>3.185761</td>\n",
       "      <td>1.710675</td>\n",
       "    </tr>\n",
       "    <tr>\n",
       "      <th>6</th>\n",
       "      <td>Maroan Sannadi</td>\n",
       "      <td>2025-02-23T00:00:00</td>\n",
       "      <td>OpenPlay</td>\n",
       "      <td>19</td>\n",
       "      <td>0.891463</td>\n",
       "      <td>SavedShot</td>\n",
       "      <td>1.999630</td>\n",
       "      <td>2.142578</td>\n",
       "    </tr>\n",
       "    <tr>\n",
       "      <th>7</th>\n",
       "      <td>Kingsley Ehizibue</td>\n",
       "      <td>2025-01-11T00:00:00</td>\n",
       "      <td>OpenPlay</td>\n",
       "      <td>44</td>\n",
       "      <td>0.891463</td>\n",
       "      <td>SavedShot</td>\n",
       "      <td>1.714060</td>\n",
       "      <td>2.275509</td>\n",
       "    </tr>\n",
       "    <tr>\n",
       "      <th>8</th>\n",
       "      <td>Morten Thorsby</td>\n",
       "      <td>2025-01-05T00:00:00</td>\n",
       "      <td>OpenPlay</td>\n",
       "      <td>42</td>\n",
       "      <td>0.891463</td>\n",
       "      <td>ShotOnPost</td>\n",
       "      <td>1.796619</td>\n",
       "      <td>2.232085</td>\n",
       "    </tr>\n",
       "    <tr>\n",
       "      <th>9</th>\n",
       "      <td>Santiago Gimenez</td>\n",
       "      <td>2024-12-22T00:00:00</td>\n",
       "      <td>OpenPlay</td>\n",
       "      <td>40</td>\n",
       "      <td>0.882202</td>\n",
       "      <td>ShotOnPost</td>\n",
       "      <td>2.955068</td>\n",
       "      <td>2.074832</td>\n",
       "    </tr>\n",
       "  </tbody>\n",
       "</table>\n",
       "</div>"
      ],
      "text/plain": [
       "             playerName            startDate situation  minute        xG  \\\n",
       "0           Kike Garcia  2024-11-30T00:00:00  OpenPlay      29  0.971798   \n",
       "1       Kevin De Bruyne  2024-12-15T00:00:00  OpenPlay      42  0.971798   \n",
       "2          Amine Gouiri  2025-04-19T00:00:00  OpenPlay      59  0.911086   \n",
       "3            Makan Aiko  2024-08-16T00:00:00  OpenPlay      50  0.911086   \n",
       "4  Jorgen Strand Larsen  2025-01-06T00:00:00  OpenPlay      13  0.897005   \n",
       "5          Noni Madueke  2025-05-04T00:00:00  OpenPlay      55  0.897005   \n",
       "6        Maroan Sannadi  2025-02-23T00:00:00  OpenPlay      19  0.891463   \n",
       "7     Kingsley Ehizibue  2025-01-11T00:00:00  OpenPlay      44  0.891463   \n",
       "8        Morten Thorsby  2025-01-05T00:00:00  OpenPlay      42  0.891463   \n",
       "9      Santiago Gimenez  2024-12-22T00:00:00  OpenPlay      40  0.882202   \n",
       "\n",
       "         type  shot_distance  shot_angle  \n",
       "0   SavedShot      65.166091    0.099530  \n",
       "1   SavedShot      39.751888    0.110413  \n",
       "2   SavedShot       1.949019    2.177268  \n",
       "3   SavedShot       2.564562    1.924864  \n",
       "4   SavedShot       2.952556    1.784838  \n",
       "5   SavedShot       3.185761    1.710675  \n",
       "6   SavedShot       1.999630    2.142578  \n",
       "7   SavedShot       1.714060    2.275509  \n",
       "8  ShotOnPost       1.796619    2.232085  \n",
       "9  ShotOnPost       2.955068    2.074832  "
      ]
     },
     "execution_count": 26,
     "metadata": {},
     "output_type": "execute_result"
    }
   ],
   "source": [
    "top_missed_xg_display"
   ]
  },
  {
   "cell_type": "code",
   "execution_count": 27,
   "id": "a6ac45d6-8db1-47b0-b446-1a0e7805264e",
   "metadata": {},
   "outputs": [],
   "source": [
    "# Filter non-goal shots\n",
    "high_xg_missed = shots_df[shots_df['isGoal'] == 1]\n",
    "\n",
    "# Sort by xG descending and take top 10\n",
    "top_scored_xg = high_xg_missed.sort_values(by='xG', ascending=True).head(10)\n",
    "\n",
    "# Select key columns for display\n",
    "columns_to_show = ['playerName','startDate','situation', 'minute', 'xG', 'type', 'shot_distance', 'shot_angle']\n",
    "top_scored_xg_display = top_scored_xg[columns_to_show].reset_index(drop=True)"
   ]
  },
  {
   "cell_type": "code",
   "execution_count": 28,
   "id": "fcd77216-f3a7-4c5d-a129-df623089d9a8",
   "metadata": {},
   "outputs": [
    {
     "data": {
      "text/html": [
       "<div>\n",
       "<style scoped>\n",
       "    .dataframe tbody tr th:only-of-type {\n",
       "        vertical-align: middle;\n",
       "    }\n",
       "\n",
       "    .dataframe tbody tr th {\n",
       "        vertical-align: top;\n",
       "    }\n",
       "\n",
       "    .dataframe thead th {\n",
       "        text-align: right;\n",
       "    }\n",
       "</style>\n",
       "<table border=\"1\" class=\"dataframe\">\n",
       "  <thead>\n",
       "    <tr style=\"text-align: right;\">\n",
       "      <th></th>\n",
       "      <th>playerName</th>\n",
       "      <th>startDate</th>\n",
       "      <th>situation</th>\n",
       "      <th>minute</th>\n",
       "      <th>xG</th>\n",
       "      <th>type</th>\n",
       "      <th>shot_distance</th>\n",
       "      <th>shot_angle</th>\n",
       "    </tr>\n",
       "  </thead>\n",
       "  <tbody>\n",
       "    <tr>\n",
       "      <th>0</th>\n",
       "      <td>Ollie Watkins</td>\n",
       "      <td>2025-03-08T00:00:00</td>\n",
       "      <td>NaN</td>\n",
       "      <td>48</td>\n",
       "      <td>0.018147</td>\n",
       "      <td>Goal</td>\n",
       "      <td>19.899731</td>\n",
       "      <td>0.232750</td>\n",
       "    </tr>\n",
       "    <tr>\n",
       "      <th>1</th>\n",
       "      <td>Bryan Cristante</td>\n",
       "      <td>2024-09-29T00:00:00</td>\n",
       "      <td>OpenPlay</td>\n",
       "      <td>74</td>\n",
       "      <td>0.019697</td>\n",
       "      <td>Goal</td>\n",
       "      <td>32.725372</td>\n",
       "      <td>0.219523</td>\n",
       "    </tr>\n",
       "    <tr>\n",
       "      <th>2</th>\n",
       "      <td>Raphinha</td>\n",
       "      <td>2025-01-21T00:00:00</td>\n",
       "      <td>OpenPlay</td>\n",
       "      <td>63</td>\n",
       "      <td>0.025886</td>\n",
       "      <td>Goal</td>\n",
       "      <td>27.103477</td>\n",
       "      <td>0.264357</td>\n",
       "    </tr>\n",
       "    <tr>\n",
       "      <th>3</th>\n",
       "      <td>Moise Kean</td>\n",
       "      <td>2025-02-06T00:00:00</td>\n",
       "      <td>OpenPlay</td>\n",
       "      <td>88</td>\n",
       "      <td>0.026583</td>\n",
       "      <td>Goal</td>\n",
       "      <td>33.539947</td>\n",
       "      <td>0.210501</td>\n",
       "    </tr>\n",
       "    <tr>\n",
       "      <th>4</th>\n",
       "      <td>Wilfried Singo</td>\n",
       "      <td>2024-10-22T00:00:00</td>\n",
       "      <td>OpenPlay</td>\n",
       "      <td>53</td>\n",
       "      <td>0.026583</td>\n",
       "      <td>Goal</td>\n",
       "      <td>33.052669</td>\n",
       "      <td>0.209834</td>\n",
       "    </tr>\n",
       "    <tr>\n",
       "      <th>5</th>\n",
       "      <td>Phillip Tietz</td>\n",
       "      <td>2024-11-02T00:00:00</td>\n",
       "      <td>OpenPlay</td>\n",
       "      <td>33</td>\n",
       "      <td>0.026663</td>\n",
       "      <td>Goal</td>\n",
       "      <td>19.234746</td>\n",
       "      <td>0.212300</td>\n",
       "    </tr>\n",
       "    <tr>\n",
       "      <th>6</th>\n",
       "      <td>Beto</td>\n",
       "      <td>2025-05-10T00:00:00</td>\n",
       "      <td>NaN</td>\n",
       "      <td>73</td>\n",
       "      <td>0.027978</td>\n",
       "      <td>Goal</td>\n",
       "      <td>23.521716</td>\n",
       "      <td>0.245510</td>\n",
       "    </tr>\n",
       "    <tr>\n",
       "      <th>7</th>\n",
       "      <td>Andrea Pinamonti</td>\n",
       "      <td>2024-10-19T00:00:00</td>\n",
       "      <td>SetPiece</td>\n",
       "      <td>84</td>\n",
       "      <td>0.028265</td>\n",
       "      <td>Goal</td>\n",
       "      <td>15.399544</td>\n",
       "      <td>0.462116</td>\n",
       "    </tr>\n",
       "    <tr>\n",
       "      <th>8</th>\n",
       "      <td>Christian Kabasele</td>\n",
       "      <td>2024-09-28T00:00:00</td>\n",
       "      <td>FromCorner</td>\n",
       "      <td>34</td>\n",
       "      <td>0.028754</td>\n",
       "      <td>Goal</td>\n",
       "      <td>14.223713</td>\n",
       "      <td>0.492832</td>\n",
       "    </tr>\n",
       "    <tr>\n",
       "      <th>9</th>\n",
       "      <td>Igor Paixao</td>\n",
       "      <td>2025-02-12T00:00:00</td>\n",
       "      <td>OpenPlay</td>\n",
       "      <td>2</td>\n",
       "      <td>0.029574</td>\n",
       "      <td>Goal</td>\n",
       "      <td>23.798582</td>\n",
       "      <td>0.206877</td>\n",
       "    </tr>\n",
       "  </tbody>\n",
       "</table>\n",
       "</div>"
      ],
      "text/plain": [
       "           playerName            startDate   situation  minute        xG  \\\n",
       "0       Ollie Watkins  2025-03-08T00:00:00         NaN      48  0.018147   \n",
       "1     Bryan Cristante  2024-09-29T00:00:00    OpenPlay      74  0.019697   \n",
       "2            Raphinha  2025-01-21T00:00:00    OpenPlay      63  0.025886   \n",
       "3          Moise Kean  2025-02-06T00:00:00    OpenPlay      88  0.026583   \n",
       "4      Wilfried Singo  2024-10-22T00:00:00    OpenPlay      53  0.026583   \n",
       "5       Phillip Tietz  2024-11-02T00:00:00    OpenPlay      33  0.026663   \n",
       "6                Beto  2025-05-10T00:00:00         NaN      73  0.027978   \n",
       "7    Andrea Pinamonti  2024-10-19T00:00:00    SetPiece      84  0.028265   \n",
       "8  Christian Kabasele  2024-09-28T00:00:00  FromCorner      34  0.028754   \n",
       "9         Igor Paixao  2025-02-12T00:00:00    OpenPlay       2  0.029574   \n",
       "\n",
       "   type  shot_distance  shot_angle  \n",
       "0  Goal      19.899731    0.232750  \n",
       "1  Goal      32.725372    0.219523  \n",
       "2  Goal      27.103477    0.264357  \n",
       "3  Goal      33.539947    0.210501  \n",
       "4  Goal      33.052669    0.209834  \n",
       "5  Goal      19.234746    0.212300  \n",
       "6  Goal      23.521716    0.245510  \n",
       "7  Goal      15.399544    0.462116  \n",
       "8  Goal      14.223713    0.492832  \n",
       "9  Goal      23.798582    0.206877  "
      ]
     },
     "execution_count": 28,
     "metadata": {},
     "output_type": "execute_result"
    }
   ],
   "source": [
    "top_scored_xg_display"
   ]
  },
  {
   "cell_type": "code",
   "execution_count": null,
   "id": "be5e460f-9741-44f8-8250-118b1ff5b34a",
   "metadata": {},
   "outputs": [],
   "source": []
  }
 ],
 "metadata": {
  "kernelspec": {
   "display_name": "Python 3 (ipykernel)",
   "language": "python",
   "name": "python3"
  },
  "language_info": {
   "codemirror_mode": {
    "name": "ipython",
    "version": 3
   },
   "file_extension": ".py",
   "mimetype": "text/x-python",
   "name": "python",
   "nbconvert_exporter": "python",
   "pygments_lexer": "ipython3",
   "version": "3.10.7"
  }
 },
 "nbformat": 4,
 "nbformat_minor": 5
}
