{
 "cells": [
  {
   "cell_type": "code",
   "execution_count": 1,
   "id": "43aece1e-2255-4a65-98ee-5dce2c367a1a",
   "metadata": {},
   "outputs": [],
   "source": [
    "from statsbombpy import sb\n",
    "import pandas as pd\n",
    "from mplsoccer import VerticalPitch,Pitch\n",
    "import matplotlib.pyplot as plt\n",
    "pd.set_option('display.max_columns',113)\n",
    "pd.set_option('display.max_rows',113)\n",
    "\n",
    "import pandas as pd\n",
    "import numpy as np\n",
    "import matplotlib.pyplot as plt\n",
    "import seaborn as sns\n",
    "import requests \n",
    "from bs4 import BeautifulSoup\n",
    "import json\n",
    "from pprint import pprint\n",
    "import matplotlib.image as mpimg\n",
    "import matplotlib.patches as patches\n",
    "from PIL import Image\n",
    "from io import BytesIO\n",
    "import highlight_text\n",
    "import matplotlib as mpl\n",
    "from matplotlib.gridspec import GridSpec\n",
    "from mplsoccer import Pitch, VerticalPitch\n",
    "import matplotlib.image as mpimg\n",
    "import matplotlib.patches as patches\n",
    "from PIL import Image\n",
    "from io import BytesIO\n",
    "from mplsoccer import PyPizza, add_image, FontManager\n",
    "from matplotlib.patches import Rectangle\n",
    "import matplotlib.font_manager as font_manager\n",
    "import matplotlib.image as mpimg\n",
    "import matplotlib.patches as patches\n",
    "from PIL import Image\n",
    "from io import BytesIO\n",
    "from mplsoccer import PyPizza, add_image, FontManager\n",
    "#import soccerdata as sd\n",
    "import re\n",
    "from unidecode import unidecode\n",
    "from scipy.spatial import ConvexHull\n",
    "from matplotlib.colors import LinearSegmentedColormap\n",
    "from highlight_text import ax_text, fig_text\n",
    "\n",
    "pd.set_option(\"display.max_rows\", None, \"display.max_columns\", None)\n",
    "background = \"black\"\n",
    "text_color = 'white'\n",
    "primary = '#C8102E'\n",
    "secondary = 'lightblue'\n",
    "mpl.rcParams['xtick.color'] = text_color\n",
    "mpl.rcParams['ytick.color'] = text_color"
   ]
  },
  {
   "cell_type": "code",
   "execution_count": null,
   "id": "8f711862-1dbf-4a97-93c7-061f0ffcb992",
   "metadata": {},
   "outputs": [],
   "source": [
    "{\n",
    "  \"competition_id\" : 11,\n",
    "  \"season_id\" : 38,\n",
    "  \"country_name\" : \"Spain\",\n",
    "  \"competition_name\" : \"La Liga\",\n",
    "  \"competition_gender\" : \"male\",\n",
    "  \"competition_youth\" : false,\n",
    "  \"competition_international\" : false,\n",
    "  \"season_name\" : \"2005/2006\",\n",
    "  \"match_updated\" : \"2022-07-03T12:34:31.749038\",\n",
    "  \"match_updated_360\" : \"2021-06-13T16:17:31.694\",\n",
    "  \"match_available_360\" : null,\n",
    "  \"match_available\" : \"2022-07-03T12:34:31.749038\"\n",
    "}"
   ]
  },
  {
   "cell_type": "code",
   "execution_count": 2,
   "id": "6d60eb04-caf7-4c39-853d-e239a4188ee3",
   "metadata": {},
   "outputs": [],
   "source": [
    "country=\"Spain\"\n",
    "division=\"La Liga\"\n",
    "season=\"2005/2006\"\n",
    "gender=\"male\"\n",
    "competition_id = 11\n",
    "season_id = 38\n",
    "\n",
    "events_df = sb.competition_events(\n",
    "    country=country,\n",
    "    division=division,\n",
    "    season=season,\n",
    "    gender=gender)"
   ]
  },
  {
   "cell_type": "code",
   "execution_count": 8,
   "id": "0b7b1c5c-e6c1-4b63-aaab-836cf9162978",
   "metadata": {},
   "outputs": [
    {
     "data": {
      "text/plain": [
       "Index(['50_50', 'bad_behaviour_card', 'ball_receipt_outcome',\n",
       "       'ball_recovery_offensive', 'ball_recovery_recovery_failure',\n",
       "       'block_deflection', 'block_offensive', 'block_save_block',\n",
       "       'carry_end_location', 'clearance_aerial_won',\n",
       "       ...\n",
       "       'shot_technique', 'shot_type', 'substitution_outcome',\n",
       "       'substitution_replacement', 'tactics', 'team', 'team_id', 'timestamp',\n",
       "       'type', 'under_pressure'],\n",
       "      dtype='object', length=106)"
      ]
     },
     "execution_count": 8,
     "metadata": {},
     "output_type": "execute_result"
    }
   ],
   "source": [
    "pd.set_option(\"display.max_rows\", None, \"display.max_columns\", None)\n",
    "\n",
    "events_df.columns"
   ]
  },
  {
   "cell_type": "code",
   "execution_count": 11,
   "id": "525354db-a882-4593-ae39-85e6116ca947",
   "metadata": {},
   "outputs": [
    {
     "data": {
      "text/plain": [
       "array([nan, 'Oleguer Presas Renom', 'José Edmílson Gomes de Moraes',\n",
       "       'Mark van Bommel', 'Ronaldo de Assis Moreira', 'Ludovic Giuly',\n",
       "       'Xavier Hernández Creus', 'Sylvio Mendes Campos Junior',\n",
       "       'Rafael Márquez Álvarez', 'Carles Puyol i Saforcada',\n",
       "       \"Samuel Eto''o Fils\", 'Víctor Valdés Arribas',\n",
       "       'Andrés Iniesta Luján', 'Lionel Andrés Messi Cuccittini',\n",
       "       'Henrik Larsson', 'Juliano Haus Belletti',\n",
       "       'Anderson Luís de Souza', 'Thiago Motta',\n",
       "       'Giovanni van Bronckhorst', 'Gabriel Francisco García de la Torre',\n",
       "       'Santiago Ezquerro Marín', 'Maximiliano Gastón López'],\n",
       "      dtype=object)"
      ]
     },
     "execution_count": 11,
     "metadata": {},
     "output_type": "execute_result"
    }
   ],
   "source": [
    "events_df[events_df['team'] == 'Barcelona']['player'].unique()"
   ]
  },
  {
   "cell_type": "code",
   "execution_count": 12,
   "id": "d3645d32-c55d-4d1a-9952-0d9b40b76063",
   "metadata": {},
   "outputs": [],
   "source": [
    "ronaldinho_df = events_df[events_df['player'] == 'Ronaldo de Assis Moreira']"
   ]
  },
  {
   "cell_type": "code",
   "execution_count": 19,
   "id": "bca53a07-386c-485c-850a-93dbddad5606",
   "metadata": {},
   "outputs": [
    {
     "name": "stdout",
     "output_type": "stream",
     "text": [
      "['50_50', 'bad_behaviour_card', 'ball_receipt_outcome', 'ball_recovery_offensive', 'ball_recovery_recovery_failure', 'block_deflection', 'block_offensive', 'block_save_block', 'carry_end_location', 'clearance_aerial_won', 'clearance_body_part', 'clearance_head', 'clearance_left_foot', 'clearance_other', 'clearance_right_foot', 'counterpress', 'dribble_no_touch', 'dribble_nutmeg', 'dribble_outcome', 'dribble_overrun', 'duel_outcome', 'duel_type', 'duration', 'foul_committed_advantage', 'foul_committed_card', 'foul_committed_offensive', 'foul_committed_penalty', 'foul_committed_type', 'foul_won_advantage', 'foul_won_defensive', 'foul_won_penalty', 'goalkeeper_body_part', 'goalkeeper_end_location', 'goalkeeper_outcome', 'goalkeeper_position', 'goalkeeper_punched_out', 'goalkeeper_shot_saved_off_target', 'goalkeeper_shot_saved_to_post', 'goalkeeper_success_in_play', 'goalkeeper_technique', 'goalkeeper_type', 'id', 'index', 'interception_outcome', 'location', 'match_id', 'minute', 'miscontrol_aerial_won', 'off_camera', 'out', 'pass_aerial_won', 'pass_angle', 'pass_assisted_shot_id', 'pass_body_part', 'pass_cross', 'pass_cut_back', 'pass_deflected', 'pass_end_location', 'pass_goal_assist', 'pass_height', 'pass_inswinging', 'pass_length', 'pass_miscommunication', 'pass_no_touch', 'pass_outcome', 'pass_outswinging', 'pass_recipient', 'pass_shot_assist', 'pass_straight', 'pass_switch', 'pass_technique', 'pass_through_ball', 'pass_type', 'period', 'play_pattern', 'player', 'player_id', 'position', 'possession', 'possession_team', 'possession_team_id', 'related_events', 'second', 'shot_aerial_won', 'shot_body_part', 'shot_end_location', 'shot_first_time', 'shot_freeze_frame', 'shot_key_pass_id', 'shot_one_on_one', 'shot_open_goal', 'shot_outcome', 'shot_redirect', 'shot_saved_off_target', 'shot_saved_to_post', 'shot_statsbomb_xg', 'shot_technique', 'shot_type', 'substitution_outcome', 'substitution_replacement', 'tactics', 'team', 'team_id', 'timestamp', 'type', 'under_pressure']\n"
     ]
    }
   ],
   "source": [
    "print(ronaldinho_df.columns.tolist())"
   ]
  },
  {
   "cell_type": "code",
   "execution_count": 21,
   "id": "f94b3a56-9d49-487f-8555-0826184023c3",
   "metadata": {},
   "outputs": [
    {
     "data": {
      "text/plain": [
       "array(['Pass', 'Ball Receipt*', 'Carry', 'Pressure', 'Miscontrol',\n",
       "       'Dispossessed', 'Duel', 'Shot', 'Ball Recovery', 'Dribbled Past',\n",
       "       'Dribble', 'Interception', 'Block', 'Foul Committed', 'Foul Won',\n",
       "       'Substitution', 'Bad Behaviour', 'Injury Stoppage', 'Player Off',\n",
       "       'Player On', 'Own Goal For'], dtype=object)"
      ]
     },
     "execution_count": 21,
     "metadata": {},
     "output_type": "execute_result"
    }
   ],
   "source": [
    "ronaldinho_df['type'].unique()"
   ]
  },
  {
   "cell_type": "code",
   "execution_count": 25,
   "id": "97035fb8-0aa1-4f45-a323-a59de4e0ecb1",
   "metadata": {},
   "outputs": [],
   "source": [
    "ronaldinho_df_shots = ronaldinho_df[ronaldinho_df['type'] == 'Shot'][['location','shot_body_part', 'shot_end_location', 'shot_first_time', 'shot_freeze_frame', 'shot_key_pass_id', 'shot_one_on_one', 'shot_open_goal', 'shot_outcome', 'shot_redirect', 'shot_saved_off_target', 'shot_saved_to_post', 'shot_statsbomb_xg', 'shot_technique', 'shot_type']]"
   ]
  },
  {
   "cell_type": "code",
   "execution_count": 26,
   "id": "ccd7e23d-7a72-4351-b1c4-9be3b117171d",
   "metadata": {},
   "outputs": [
    {
     "data": {
      "text/html": [
       "<div>\n",
       "<style scoped>\n",
       "    .dataframe tbody tr th:only-of-type {\n",
       "        vertical-align: middle;\n",
       "    }\n",
       "\n",
       "    .dataframe tbody tr th {\n",
       "        vertical-align: top;\n",
       "    }\n",
       "\n",
       "    .dataframe thead th {\n",
       "        text-align: right;\n",
       "    }\n",
       "</style>\n",
       "<table border=\"1\" class=\"dataframe\">\n",
       "  <thead>\n",
       "    <tr style=\"text-align: right;\">\n",
       "      <th></th>\n",
       "      <th>location</th>\n",
       "      <th>shot_body_part</th>\n",
       "      <th>shot_end_location</th>\n",
       "      <th>shot_first_time</th>\n",
       "      <th>shot_freeze_frame</th>\n",
       "      <th>shot_key_pass_id</th>\n",
       "      <th>shot_one_on_one</th>\n",
       "      <th>shot_open_goal</th>\n",
       "      <th>shot_outcome</th>\n",
       "      <th>shot_redirect</th>\n",
       "      <th>shot_saved_off_target</th>\n",
       "      <th>shot_saved_to_post</th>\n",
       "      <th>shot_statsbomb_xg</th>\n",
       "      <th>shot_technique</th>\n",
       "      <th>shot_type</th>\n",
       "    </tr>\n",
       "  </thead>\n",
       "  <tbody>\n",
       "    <tr>\n",
       "      <th>49485</th>\n",
       "      <td>[115.7, 51.5]</td>\n",
       "      <td>Right Foot</td>\n",
       "      <td>[116.3, 50.4]</td>\n",
       "      <td>NaN</td>\n",
       "      <td>[{'location': [104.0, 45.6], 'player': {'id': ...</td>\n",
       "      <td>6e0332bf-7126-4acc-97f3-33786d021ffc</td>\n",
       "      <td>NaN</td>\n",
       "      <td>NaN</td>\n",
       "      <td>Blocked</td>\n",
       "      <td>NaN</td>\n",
       "      <td>NaN</td>\n",
       "      <td>NaN</td>\n",
       "      <td>0.059208</td>\n",
       "      <td>Normal</td>\n",
       "      <td>Open Play</td>\n",
       "    </tr>\n",
       "    <tr>\n",
       "      <th>49486</th>\n",
       "      <td>[87.9, 49.5]</td>\n",
       "      <td>Right Foot</td>\n",
       "      <td>[119.0, 37.9, 1.1]</td>\n",
       "      <td>NaN</td>\n",
       "      <td>[{'location': [102.8, 48.3], 'player': {'id': ...</td>\n",
       "      <td>NaN</td>\n",
       "      <td>NaN</td>\n",
       "      <td>NaN</td>\n",
       "      <td>Saved</td>\n",
       "      <td>NaN</td>\n",
       "      <td>NaN</td>\n",
       "      <td>NaN</td>\n",
       "      <td>0.026002</td>\n",
       "      <td>Normal</td>\n",
       "      <td>Free Kick</td>\n",
       "    </tr>\n",
       "    <tr>\n",
       "      <th>49496</th>\n",
       "      <td>[95.7, 49.4]</td>\n",
       "      <td>Right Foot</td>\n",
       "      <td>[113.2, 41.7, 1.3]</td>\n",
       "      <td>NaN</td>\n",
       "      <td>[{'location': [113.9, 41.3], 'player': {'id': ...</td>\n",
       "      <td>169e3d30-b406-459a-b0db-206ec4bbae1e</td>\n",
       "      <td>NaN</td>\n",
       "      <td>NaN</td>\n",
       "      <td>Saved</td>\n",
       "      <td>NaN</td>\n",
       "      <td>NaN</td>\n",
       "      <td>NaN</td>\n",
       "      <td>0.044388</td>\n",
       "      <td>Normal</td>\n",
       "      <td>Open Play</td>\n",
       "    </tr>\n",
       "    <tr>\n",
       "      <th>49503</th>\n",
       "      <td>[95.5, 22.6]</td>\n",
       "      <td>Right Foot</td>\n",
       "      <td>[119.4, 36.7, 2.4]</td>\n",
       "      <td>NaN</td>\n",
       "      <td>[{'location': [106.2, 41.9], 'player': {'id': ...</td>\n",
       "      <td>NaN</td>\n",
       "      <td>NaN</td>\n",
       "      <td>NaN</td>\n",
       "      <td>Saved</td>\n",
       "      <td>NaN</td>\n",
       "      <td>NaN</td>\n",
       "      <td>NaN</td>\n",
       "      <td>0.012020</td>\n",
       "      <td>Normal</td>\n",
       "      <td>Free Kick</td>\n",
       "    </tr>\n",
       "    <tr>\n",
       "      <th>49511</th>\n",
       "      <td>[108.0, 40.0]</td>\n",
       "      <td>Right Foot</td>\n",
       "      <td>[120.0, 36.4, 2.4]</td>\n",
       "      <td>NaN</td>\n",
       "      <td>[{'location': [119.5, 39.7], 'player': {'id': ...</td>\n",
       "      <td>NaN</td>\n",
       "      <td>True</td>\n",
       "      <td>NaN</td>\n",
       "      <td>Goal</td>\n",
       "      <td>NaN</td>\n",
       "      <td>NaN</td>\n",
       "      <td>NaN</td>\n",
       "      <td>0.783500</td>\n",
       "      <td>Normal</td>\n",
       "      <td>Penalty</td>\n",
       "    </tr>\n",
       "  </tbody>\n",
       "</table>\n",
       "</div>"
      ],
      "text/plain": [
       "            location shot_body_part   shot_end_location shot_first_time  \\\n",
       "49485  [115.7, 51.5]     Right Foot       [116.3, 50.4]             NaN   \n",
       "49486   [87.9, 49.5]     Right Foot  [119.0, 37.9, 1.1]             NaN   \n",
       "49496   [95.7, 49.4]     Right Foot  [113.2, 41.7, 1.3]             NaN   \n",
       "49503   [95.5, 22.6]     Right Foot  [119.4, 36.7, 2.4]             NaN   \n",
       "49511  [108.0, 40.0]     Right Foot  [120.0, 36.4, 2.4]             NaN   \n",
       "\n",
       "                                       shot_freeze_frame  \\\n",
       "49485  [{'location': [104.0, 45.6], 'player': {'id': ...   \n",
       "49486  [{'location': [102.8, 48.3], 'player': {'id': ...   \n",
       "49496  [{'location': [113.9, 41.3], 'player': {'id': ...   \n",
       "49503  [{'location': [106.2, 41.9], 'player': {'id': ...   \n",
       "49511  [{'location': [119.5, 39.7], 'player': {'id': ...   \n",
       "\n",
       "                           shot_key_pass_id shot_one_on_one shot_open_goal  \\\n",
       "49485  6e0332bf-7126-4acc-97f3-33786d021ffc             NaN            NaN   \n",
       "49486                                   NaN             NaN            NaN   \n",
       "49496  169e3d30-b406-459a-b0db-206ec4bbae1e             NaN            NaN   \n",
       "49503                                   NaN             NaN            NaN   \n",
       "49511                                   NaN            True            NaN   \n",
       "\n",
       "      shot_outcome shot_redirect shot_saved_off_target shot_saved_to_post  \\\n",
       "49485      Blocked           NaN                   NaN                NaN   \n",
       "49486        Saved           NaN                   NaN                NaN   \n",
       "49496        Saved           NaN                   NaN                NaN   \n",
       "49503        Saved           NaN                   NaN                NaN   \n",
       "49511         Goal           NaN                   NaN                NaN   \n",
       "\n",
       "       shot_statsbomb_xg shot_technique  shot_type  \n",
       "49485           0.059208         Normal  Open Play  \n",
       "49486           0.026002         Normal  Free Kick  \n",
       "49496           0.044388         Normal  Open Play  \n",
       "49503           0.012020         Normal  Free Kick  \n",
       "49511           0.783500         Normal    Penalty  "
      ]
     },
     "execution_count": 26,
     "metadata": {},
     "output_type": "execute_result"
    }
   ],
   "source": [
    "ronaldinho_df_shots.head()"
   ]
  },
  {
   "cell_type": "code",
   "execution_count": 27,
   "id": "0180a521-6dd4-4059-98cf-407ef4e48c71",
   "metadata": {},
   "outputs": [
    {
     "data": {
      "text/plain": [
       "(59, 15)"
      ]
     },
     "execution_count": 27,
     "metadata": {},
     "output_type": "execute_result"
    }
   ],
   "source": [
    "ronaldinho_df_shots.shape"
   ]
  },
  {
   "cell_type": "code",
   "execution_count": 28,
   "id": "7bb15333-e01f-4d84-934b-8442570f86ac",
   "metadata": {},
   "outputs": [
    {
     "data": {
      "text/plain": [
       "shot_outcome\n",
       "Blocked    20\n",
       "Off T      15\n",
       "Saved      12\n",
       "Goal        9\n",
       "Post        2\n",
       "Wayward     1\n",
       "Name: count, dtype: int64"
      ]
     },
     "execution_count": 28,
     "metadata": {},
     "output_type": "execute_result"
    }
   ],
   "source": [
    "ronaldinho_df_shots['shot_outcome'].value_counts()"
   ]
  },
  {
   "cell_type": "code",
   "execution_count": null,
   "id": "3de19a19-d432-4344-9c8c-be908be25528",
   "metadata": {},
   "outputs": [],
   "source": []
  }
 ],
 "metadata": {
  "kernelspec": {
   "display_name": "Python 3 (ipykernel)",
   "language": "python",
   "name": "python3"
  },
  "language_info": {
   "codemirror_mode": {
    "name": "ipython",
    "version": 3
   },
   "file_extension": ".py",
   "mimetype": "text/x-python",
   "name": "python",
   "nbconvert_exporter": "python",
   "pygments_lexer": "ipython3",
   "version": "3.10.7"
  }
 },
 "nbformat": 4,
 "nbformat_minor": 5
}
