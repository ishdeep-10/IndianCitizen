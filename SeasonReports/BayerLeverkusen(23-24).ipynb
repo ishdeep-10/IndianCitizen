{
 "cells": [
  {
   "cell_type": "code",
   "execution_count": 1,
   "id": "a80d2190-f6fd-4379-9bf5-c5f01f01c013",
   "metadata": {},
   "outputs": [],
   "source": [
    "from statsbombpy import sb\n",
    "import pandas as pd\n",
    "from mplsoccer import VerticalPitch,Pitch\n",
    "events_df = sb.competition_events(\n",
    "country=\"Germany\",\n",
    "division=\"1. Bundesliga\",\n",
    "season=\"2023/2024\",\n",
    "gender=\"male\")\n",
    "\n",
    "#And to add 360 data:\n",
    "\n",
    "frames_df = sb.competition_frames(\n",
    "country=\"Germany\",\n",
    "division=\"1. Bundesliga\",\n",
    "season=\"2023/2024\",\n",
    "gender=\"male\")\n",
    "\n",
    "frames_df.rename(columns={'event_uuid': 'id'}, inplace = True)\n",
    "merged_df=pd.merge(frames_df, events_df,how=\"left\", on=[\"match_id\",\"id\"])"
   ]
  },
  {
   "cell_type": "code",
   "execution_count": 2,
   "id": "d82ba825-4445-437e-9479-b0f686e8dd05",
   "metadata": {},
   "outputs": [
    {
     "data": {
      "text/plain": [
       "(1953182, 113)"
      ]
     },
     "execution_count": 2,
     "metadata": {},
     "output_type": "execute_result"
    }
   ],
   "source": [
    "merged_df.shape"
   ]
  },
  {
   "cell_type": "code",
   "execution_count": 3,
   "id": "80837c41-d889-4824-905b-3dd29da867ce",
   "metadata": {},
   "outputs": [
    {
     "data": {
      "text/html": [
       "<div>\n",
       "<style scoped>\n",
       "    .dataframe tbody tr th:only-of-type {\n",
       "        vertical-align: middle;\n",
       "    }\n",
       "\n",
       "    .dataframe tbody tr th {\n",
       "        vertical-align: top;\n",
       "    }\n",
       "\n",
       "    .dataframe thead th {\n",
       "        text-align: right;\n",
       "    }\n",
       "</style>\n",
       "<table border=\"1\" class=\"dataframe\">\n",
       "  <thead>\n",
       "    <tr style=\"text-align: right;\">\n",
       "      <th></th>\n",
       "      <th>actor</th>\n",
       "      <th>id</th>\n",
       "      <th>keeper</th>\n",
       "      <th>location_x</th>\n",
       "      <th>match_id</th>\n",
       "      <th>teammate</th>\n",
       "      <th>visible_area</th>\n",
       "      <th>50_50</th>\n",
       "      <th>bad_behaviour_card</th>\n",
       "      <th>ball_receipt_outcome</th>\n",
       "      <th>...</th>\n",
       "      <th>shot_technique</th>\n",
       "      <th>shot_type</th>\n",
       "      <th>substitution_outcome</th>\n",
       "      <th>substitution_replacement</th>\n",
       "      <th>tactics</th>\n",
       "      <th>team</th>\n",
       "      <th>team_id</th>\n",
       "      <th>timestamp</th>\n",
       "      <th>type</th>\n",
       "      <th>under_pressure</th>\n",
       "    </tr>\n",
       "  </thead>\n",
       "  <tbody>\n",
       "    <tr>\n",
       "      <th>0</th>\n",
       "      <td>False</td>\n",
       "      <td>ff56e821-21e9-4cef-ba2a-7eb5eb3769c6</td>\n",
       "      <td>False</td>\n",
       "      <td>[33.623681824113135, 40.159018633164074]</td>\n",
       "      <td>3895302</td>\n",
       "      <td>True</td>\n",
       "      <td>[16.638549335883955, 80.0, 42.634221931834276,...</td>\n",
       "      <td>NaN</td>\n",
       "      <td>NaN</td>\n",
       "      <td>NaN</td>\n",
       "      <td>...</td>\n",
       "      <td>NaN</td>\n",
       "      <td>NaN</td>\n",
       "      <td>NaN</td>\n",
       "      <td>NaN</td>\n",
       "      <td>NaN</td>\n",
       "      <td>Werder Bremen</td>\n",
       "      <td>176</td>\n",
       "      <td>00:00:04.732</td>\n",
       "      <td>Pass</td>\n",
       "      <td>NaN</td>\n",
       "    </tr>\n",
       "    <tr>\n",
       "      <th>1</th>\n",
       "      <td>False</td>\n",
       "      <td>ff56e821-21e9-4cef-ba2a-7eb5eb3769c6</td>\n",
       "      <td>False</td>\n",
       "      <td>[36.74041423873898, 53.63999223538578]</td>\n",
       "      <td>3895302</td>\n",
       "      <td>True</td>\n",
       "      <td>[16.638549335883955, 80.0, 42.634221931834276,...</td>\n",
       "      <td>NaN</td>\n",
       "      <td>NaN</td>\n",
       "      <td>NaN</td>\n",
       "      <td>...</td>\n",
       "      <td>NaN</td>\n",
       "      <td>NaN</td>\n",
       "      <td>NaN</td>\n",
       "      <td>NaN</td>\n",
       "      <td>NaN</td>\n",
       "      <td>Werder Bremen</td>\n",
       "      <td>176</td>\n",
       "      <td>00:00:04.732</td>\n",
       "      <td>Pass</td>\n",
       "      <td>NaN</td>\n",
       "    </tr>\n",
       "    <tr>\n",
       "      <th>2</th>\n",
       "      <td>False</td>\n",
       "      <td>ff56e821-21e9-4cef-ba2a-7eb5eb3769c6</td>\n",
       "      <td>False</td>\n",
       "      <td>[41.68140190196648, 24.747150774999632]</td>\n",
       "      <td>3895302</td>\n",
       "      <td>True</td>\n",
       "      <td>[16.638549335883955, 80.0, 42.634221931834276,...</td>\n",
       "      <td>NaN</td>\n",
       "      <td>NaN</td>\n",
       "      <td>NaN</td>\n",
       "      <td>...</td>\n",
       "      <td>NaN</td>\n",
       "      <td>NaN</td>\n",
       "      <td>NaN</td>\n",
       "      <td>NaN</td>\n",
       "      <td>NaN</td>\n",
       "      <td>Werder Bremen</td>\n",
       "      <td>176</td>\n",
       "      <td>00:00:04.732</td>\n",
       "      <td>Pass</td>\n",
       "      <td>NaN</td>\n",
       "    </tr>\n",
       "    <tr>\n",
       "      <th>3</th>\n",
       "      <td>False</td>\n",
       "      <td>ff56e821-21e9-4cef-ba2a-7eb5eb3769c6</td>\n",
       "      <td>False</td>\n",
       "      <td>[45.75852507051164, 34.30730339844553]</td>\n",
       "      <td>3895302</td>\n",
       "      <td>True</td>\n",
       "      <td>[16.638549335883955, 80.0, 42.634221931834276,...</td>\n",
       "      <td>NaN</td>\n",
       "      <td>NaN</td>\n",
       "      <td>NaN</td>\n",
       "      <td>...</td>\n",
       "      <td>NaN</td>\n",
       "      <td>NaN</td>\n",
       "      <td>NaN</td>\n",
       "      <td>NaN</td>\n",
       "      <td>NaN</td>\n",
       "      <td>Werder Bremen</td>\n",
       "      <td>176</td>\n",
       "      <td>00:00:04.732</td>\n",
       "      <td>Pass</td>\n",
       "      <td>NaN</td>\n",
       "    </tr>\n",
       "    <tr>\n",
       "      <th>4</th>\n",
       "      <td>False</td>\n",
       "      <td>ff56e821-21e9-4cef-ba2a-7eb5eb3769c6</td>\n",
       "      <td>False</td>\n",
       "      <td>[49.77081997053183, 49.75472239512554]</td>\n",
       "      <td>3895302</td>\n",
       "      <td>True</td>\n",
       "      <td>[16.638549335883955, 80.0, 42.634221931834276,...</td>\n",
       "      <td>NaN</td>\n",
       "      <td>NaN</td>\n",
       "      <td>NaN</td>\n",
       "      <td>...</td>\n",
       "      <td>NaN</td>\n",
       "      <td>NaN</td>\n",
       "      <td>NaN</td>\n",
       "      <td>NaN</td>\n",
       "      <td>NaN</td>\n",
       "      <td>Werder Bremen</td>\n",
       "      <td>176</td>\n",
       "      <td>00:00:04.732</td>\n",
       "      <td>Pass</td>\n",
       "      <td>NaN</td>\n",
       "    </tr>\n",
       "  </tbody>\n",
       "</table>\n",
       "<p>5 rows × 113 columns</p>\n",
       "</div>"
      ],
      "text/plain": [
       "   actor                                    id  keeper  \\\n",
       "0  False  ff56e821-21e9-4cef-ba2a-7eb5eb3769c6   False   \n",
       "1  False  ff56e821-21e9-4cef-ba2a-7eb5eb3769c6   False   \n",
       "2  False  ff56e821-21e9-4cef-ba2a-7eb5eb3769c6   False   \n",
       "3  False  ff56e821-21e9-4cef-ba2a-7eb5eb3769c6   False   \n",
       "4  False  ff56e821-21e9-4cef-ba2a-7eb5eb3769c6   False   \n",
       "\n",
       "                                 location_x match_id  teammate  \\\n",
       "0  [33.623681824113135, 40.159018633164074]  3895302      True   \n",
       "1    [36.74041423873898, 53.63999223538578]  3895302      True   \n",
       "2   [41.68140190196648, 24.747150774999632]  3895302      True   \n",
       "3    [45.75852507051164, 34.30730339844553]  3895302      True   \n",
       "4    [49.77081997053183, 49.75472239512554]  3895302      True   \n",
       "\n",
       "                                        visible_area 50_50 bad_behaviour_card  \\\n",
       "0  [16.638549335883955, 80.0, 42.634221931834276,...   NaN                NaN   \n",
       "1  [16.638549335883955, 80.0, 42.634221931834276,...   NaN                NaN   \n",
       "2  [16.638549335883955, 80.0, 42.634221931834276,...   NaN                NaN   \n",
       "3  [16.638549335883955, 80.0, 42.634221931834276,...   NaN                NaN   \n",
       "4  [16.638549335883955, 80.0, 42.634221931834276,...   NaN                NaN   \n",
       "\n",
       "  ball_receipt_outcome  ... shot_technique shot_type substitution_outcome  \\\n",
       "0                  NaN  ...            NaN       NaN                  NaN   \n",
       "1                  NaN  ...            NaN       NaN                  NaN   \n",
       "2                  NaN  ...            NaN       NaN                  NaN   \n",
       "3                  NaN  ...            NaN       NaN                  NaN   \n",
       "4                  NaN  ...            NaN       NaN                  NaN   \n",
       "\n",
       "  substitution_replacement tactics           team team_id     timestamp  type  \\\n",
       "0                      NaN     NaN  Werder Bremen     176  00:00:04.732  Pass   \n",
       "1                      NaN     NaN  Werder Bremen     176  00:00:04.732  Pass   \n",
       "2                      NaN     NaN  Werder Bremen     176  00:00:04.732  Pass   \n",
       "3                      NaN     NaN  Werder Bremen     176  00:00:04.732  Pass   \n",
       "4                      NaN     NaN  Werder Bremen     176  00:00:04.732  Pass   \n",
       "\n",
       "  under_pressure  \n",
       "0            NaN  \n",
       "1            NaN  \n",
       "2            NaN  \n",
       "3            NaN  \n",
       "4            NaN  \n",
       "\n",
       "[5 rows x 113 columns]"
      ]
     },
     "execution_count": 3,
     "metadata": {},
     "output_type": "execute_result"
    }
   ],
   "source": [
    "merged_df.head()"
   ]
  },
  {
   "cell_type": "code",
   "execution_count": 6,
   "id": "854832d2-6b4b-48f3-8306-670b3a472862",
   "metadata": {},
   "outputs": [
    {
     "data": {
      "text/plain": [
       "Index(['actor', 'id', 'keeper', 'location_x', 'match_id', 'teammate',\n",
       "       'visible_area', '50_50', 'bad_behaviour_card', 'ball_receipt_outcome',\n",
       "       ...\n",
       "       'shot_technique', 'shot_type', 'substitution_outcome',\n",
       "       'substitution_replacement', 'tactics', 'team', 'team_id', 'timestamp',\n",
       "       'type', 'under_pressure'],\n",
       "      dtype='object', length=113)"
      ]
     },
     "execution_count": 6,
     "metadata": {},
     "output_type": "execute_result"
    }
   ],
   "source": [
    "merged_df.columns"
   ]
  },
  {
   "cell_type": "code",
   "execution_count": 7,
   "id": "4bfe6373-8f00-4d30-80c2-642b42fb4998",
   "metadata": {},
   "outputs": [
    {
     "data": {
      "text/plain": [
       "34"
      ]
     },
     "execution_count": 7,
     "metadata": {},
     "output_type": "execute_result"
    }
   ],
   "source": [
    "merged_df['match_id'].nunique()"
   ]
  },
  {
   "cell_type": "code",
   "execution_count": 13,
   "id": "210add46-8a5c-4ffb-aec9-72f40ce92c4a",
   "metadata": {},
   "outputs": [
    {
     "data": {
      "text/plain": [
       "type\n",
       "Pass                 550818\n",
       "Ball Receipt*        550382\n",
       "Carry                474088\n",
       "Pressure             164684\n",
       "Ball Recovery         45389\n",
       "Duel                  28592\n",
       "Block                 20760\n",
       "Clearance             18854\n",
       "Shot                  13900\n",
       "Miscontrol            12835\n",
       "Dribble               12181\n",
       "Interception          10945\n",
       "Foul Committed        10768\n",
       "Dispossessed          10434\n",
       "Foul Won              10288\n",
       "Goal Keeper            7177\n",
       "Dribbled Past          7095\n",
       "50/50                  2994\n",
       "Shield                  440\n",
       "Error                   267\n",
       "Offside                 168\n",
       "Referee Ball-Drop        45\n",
       "Own Goal For             39\n",
       "Own Goal Against         39\n",
       "Name: count, dtype: int64"
      ]
     },
     "execution_count": 13,
     "metadata": {},
     "output_type": "execute_result"
    }
   ],
   "source": [
    "merged_df['type'].value_counts()"
   ]
  },
  {
   "cell_type": "code",
   "execution_count": null,
   "id": "ed45c37e-6aee-4d52-8be3-9829c768033c",
   "metadata": {},
   "outputs": [],
   "source": [
    "for x in merged_df['type'].unqiue():\n",
    "    df[x] = pd.DataFrame()\n",
    "    "
   ]
  }
 ],
 "metadata": {
  "kernelspec": {
   "display_name": "Python 3 (ipykernel)",
   "language": "python",
   "name": "python3"
  },
  "language_info": {
   "codemirror_mode": {
    "name": "ipython",
    "version": 3
   },
   "file_extension": ".py",
   "mimetype": "text/x-python",
   "name": "python",
   "nbconvert_exporter": "python",
   "pygments_lexer": "ipython3",
   "version": "3.10.7"
  }
 },
 "nbformat": 4,
 "nbformat_minor": 5
}
